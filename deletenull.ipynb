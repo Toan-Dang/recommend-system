{
 "cells": [
  {
   "cell_type": "code",
   "execution_count": 15,
   "metadata": {},
   "outputs": [],
   "source": [
    "import pandas as pd"
   ]
  },
  {
   "cell_type": "code",
   "execution_count": 16,
   "metadata": {},
   "outputs": [],
   "source": [
    "review_1 = pd.read_csv('feedbacksmall.csv')\n",
    "review_2 = pd.read_csv('feedback.csv')"
   ]
  },
  {
   "cell_type": "code",
   "execution_count": 17,
   "metadata": {},
   "outputs": [
    {
     "name": "stdout",
     "output_type": "stream",
     "text": [
      "Missing count and percentages for each column are: \n",
      " productid      0 (0.0%)\n",
      "rate           0 (0.0%)\n",
      "cmt            0 (0.0%)\n",
      "username       0 (0.0%)\n",
      "productname    0 (0.0%)\n",
      "dtype: object\n"
     ]
    }
   ],
   "source": [
    "review_1 = review_1.dropna()\n",
    "df=review_1.isna().sum().round(2)\n",
    "df1 = (df*100/review_1.shape[0]).round(2)\n",
    "print('Missing count and percentages for each column are: \\n',df.astype('str') +' ('+ df1.astype('str')+'%)')\n",
    "review_1.to_csv('feedback1_notnull.csv',index=False)"
   ]
  },
  {
   "cell_type": "code",
   "execution_count": 18,
   "metadata": {},
   "outputs": [
    {
     "name": "stdout",
     "output_type": "stream",
     "text": [
      "Missing count and percentages for each column are: \n",
      " productid      0 (0.0%)\n",
      "rate           0 (0.0%)\n",
      "cmt            0 (0.0%)\n",
      "username       0 (0.0%)\n",
      "productname    0 (0.0%)\n",
      "dtype: object\n"
     ]
    }
   ],
   "source": [
    "review_2 = review_2.dropna()\n",
    "df=review_2.isna().sum().round(2)\n",
    "df1 = (df*100/review_2.shape[0]).round(2)\n",
    "print('Missing count and percentages for each column are: \\n',df.astype('str') +' ('+ df1.astype('str')+'%)')\n",
    "review_2.to_csv('feedback2_notnull.csv',index=False)"
   ]
  }
 ],
 "metadata": {
  "interpreter": {
   "hash": "369f2c481f4da34e4445cda3fffd2e751bd1c4d706f27375911949ba6bb62e1c"
  },
  "kernelspec": {
   "display_name": "Python 3.10.2 64-bit",
   "language": "python",
   "name": "python3"
  },
  "language_info": {
   "codemirror_mode": {
    "name": "ipython",
    "version": 3
   },
   "file_extension": ".py",
   "mimetype": "text/x-python",
   "name": "python",
   "nbconvert_exporter": "python",
   "pygments_lexer": "ipython3",
   "version": "3.10.2"
  },
  "orig_nbformat": 4
 },
 "nbformat": 4,
 "nbformat_minor": 2
}
