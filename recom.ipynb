{
 "cells": [
  {
   "cell_type": "code",
   "execution_count": null,
   "id": "veterinary-azerbaijan",
   "metadata": {
    "_cell_guid": "b1076dfc-b9ad-4769-8c92-a6c4dae69d19",
    "_uuid": "8f2839f25d086af736a60e9eeb907d3b93b6e0e5",
    "papermill": {
     "duration": 0.060519,
     "end_time": "2021-05-17T07:44:50.749596",
     "exception": false,
     "start_time": "2021-05-17T07:44:50.689077",
     "status": "completed"
    },
    "tags": []
   },
   "outputs": [],
   "source": []
  },
  {
   "cell_type": "markdown",
   "id": "smoking-subcommittee",
   "metadata": {
    "papermill": {
     "duration": 0.056985,
     "end_time": "2021-05-17T07:44:50.865198",
     "exception": false,
     "start_time": "2021-05-17T07:44:50.808213",
     "status": "completed"
    },
    "tags": []
   },
   "source": [
    "# Description: \n",
    "\n",
    "\n",
    "* **CONTEXT:** \n",
    "\n",
    "* **DATA DESCRIPTION:**  \n",
    "• author : name of the person who gave the rating  \n",
    "• country : country the person who gave the rating belongs to  \n",
    "• data : date of the rating  \n",
    "• domain: website from which the rating was taken from  \n",
    "• extract: rating content  \n",
    "• language: language in which the rating was given  \n",
    "• product: name of the product/mobile phone for which the rating was given  \n",
    "• score: average rating for the phone  \n",
    "• score_max: highest rating given for the phone  \n",
    "• source: source from where the rating was taken  \n",
    "\n",
    "* **PROJECT OBJECTIVE:** We will build a recommendation system using popularity based and collaborative filtering methods to recommend mobile phones to a user which are most popular and personalised respectively."
   ]
  },
  {
   "cell_type": "markdown",
   "id": "liquid-aspect",
   "metadata": {
    "papermill": {
     "duration": 0.058051,
     "end_time": "2021-05-17T07:44:50.980384",
     "exception": false,
     "start_time": "2021-05-17T07:44:50.922333",
     "status": "completed"
    },
    "tags": []
   },
   "source": [
    "## Table of Contents <a id=\"toc\"></a>\n",
    "* [# Import Libraries](#import_libraries)  \n",
    "1. [Data Prepration and cleaning](#data_prepration)  \n",
    "    1.1. [Load the dataset](#load_data)  \n",
    "    1.2. [Merge dataset](#merge_data)  \n",
    "    1.3. [Basic Analysis](#basic_analysis)  \n",
    "    1.4. [Modification 1: revs1: Data cleaning, Imputation and rounding-off](#clean_impute_round-off)  \n",
    "    1.5. [Data split](#data_split)  \n",
    "2. [Analysis](#analysis)\n",
    "3. [Recommend top 5 mobile phones using popularity based model](#popularity_model)\n",
    "4. [Collaborative filtering based models](#collaborative_filtering)  \n",
    "    4.1 [SVD](#svd)  \n",
    "    4.2 [kNNWithMeans_Item based](#knnwithmeans_item_based)  \n",
    "    4.3 [kNNWithMeans_User based](#knnwithmeans_user_based)  \n",
    "5. [Show RMSE value and comparison](#rmse)  \n",
    "6. [Average ratings for test users](#average_rating)  \n",
    "7. [Summary (findings and Inferences)](#summary_inferences)\n",
    "8. [Recommend top 5 products for test users](#recommend_top_5)  \n",
    "9. [Results with cross_validation techniques](#cross_validation)  \n",
    "10. [In what business scenario you should use popularity based Recommendation Systems?](#q10)  \n",
    "11. [In what business scenario you should use CF based Recommendation Systems ?](#q11)\n",
    "12. [What other possible methods can you think of which can further improve the recommendation for different users ?](#q12)"
   ]
  },
  {
   "cell_type": "markdown",
   "id": "useful-ontario",
   "metadata": {
    "papermill": {
     "duration": 0.057359,
     "end_time": "2021-05-17T07:44:51.097797",
     "exception": false,
     "start_time": "2021-05-17T07:44:51.040438",
     "status": "completed"
    },
    "tags": []
   },
   "source": [
    "## #. Import libraries <a id=\"import_libraries\"></a>\n",
    "[Go to top](#toc)"
   ]
  },
  {
   "cell_type": "markdown",
   "id": "funny-visitor",
   "metadata": {
    "papermill": {
     "duration": 0.057145,
     "end_time": "2021-05-17T07:44:51.212708",
     "exception": false,
     "start_time": "2021-05-17T07:44:51.155563",
     "status": "completed"
    },
    "tags": []
   },
   "source": [
    "[Go to top](#toc)"
   ]
  },
  {
   "cell_type": "code",
   "execution_count": 1,
   "id": "thorough-slovakia",
   "metadata": {
    "execution": {
     "iopub.execute_input": "2021-05-17T07:44:51.366182Z",
     "iopub.status.busy": "2021-05-17T07:44:51.365558Z",
     "iopub.status.idle": "2021-05-17T07:44:51.369037Z",
     "shell.execute_reply": "2021-05-17T07:44:51.368260Z"
    },
    "papermill": {
     "duration": 0.08351,
     "end_time": "2021-05-17T07:44:51.369203",
     "exception": false,
     "start_time": "2021-05-17T07:44:51.285693",
     "status": "completed"
    },
    "tags": []
   },
   "outputs": [],
   "source": [
    "# Main libraries\n",
    "import os\n",
    "import pandas as pd\n",
    "import numpy as np"
   ]
  },
  {
   "cell_type": "code",
   "execution_count": 2,
   "id": "severe-affiliation",
   "metadata": {
    "execution": {
     "iopub.execute_input": "2021-05-17T07:44:51.493664Z",
     "iopub.status.busy": "2021-05-17T07:44:51.493026Z",
     "iopub.status.idle": "2021-05-17T07:44:53.846482Z",
     "shell.execute_reply": "2021-05-17T07:44:53.845719Z"
    },
    "papermill": {
     "duration": 2.419414,
     "end_time": "2021-05-17T07:44:53.846632",
     "exception": false,
     "start_time": "2021-05-17T07:44:51.427218",
     "status": "completed"
    },
    "tags": []
   },
   "outputs": [],
   "source": [
    "# Visualization libraries\n",
    "import matplotlib.pyplot as plt\n",
    "%matplotlib inline\n",
    "import seaborn as sns\n",
    "import plotly.graph_objs as go\n",
    "import plotly.express as px"
   ]
  },
  {
   "cell_type": "code",
   "execution_count": 3,
   "id": "adapted-knowing",
   "metadata": {
    "execution": {
     "iopub.execute_input": "2021-05-17T07:44:53.968522Z",
     "iopub.status.busy": "2021-05-17T07:44:53.967596Z",
     "iopub.status.idle": "2021-05-17T07:44:54.086553Z",
     "shell.execute_reply": "2021-05-17T07:44:54.087123Z"
    },
    "papermill": {
     "duration": 0.182643,
     "end_time": "2021-05-17T07:44:54.087303",
     "exception": false,
     "start_time": "2021-05-17T07:44:53.904660",
     "status": "completed"
    },
    "tags": []
   },
   "outputs": [],
   "source": [
    "# Libraries for recommendation systems\n",
    "from collections import defaultdict\n",
    "from surprise import SVD\n",
    "from surprise import KNNWithMeans\n",
    "from surprise import Dataset\n",
    "from surprise import accuracy\n",
    "from surprise import Reader\n",
    "from surprise.model_selection import cross_validate\n",
    "from surprise.model_selection import train_test_split"
   ]
  },
  {
   "cell_type": "code",
   "execution_count": 4,
   "id": "looking-faculty",
   "metadata": {
    "execution": {
     "iopub.execute_input": "2021-05-17T07:44:54.222506Z",
     "iopub.status.busy": "2021-05-17T07:44:54.208898Z",
     "iopub.status.idle": "2021-05-17T07:45:15.168578Z",
     "shell.execute_reply": "2021-05-17T07:45:15.168039Z"
    },
    "papermill": {
     "duration": 21.023006,
     "end_time": "2021-05-17T07:45:15.168741",
     "exception": false,
     "start_time": "2021-05-17T07:44:54.145735",
     "status": "completed"
    },
    "scrolled": true,
    "tags": []
   },
   "outputs": [],
   "source": [
    "# !pip install translate\n",
    "# !pip install google-trans-new"
   ]
  },
  {
   "cell_type": "code",
   "execution_count": 5,
   "id": "overall-voice",
   "metadata": {
    "execution": {
     "iopub.execute_input": "2021-05-17T07:45:15.329490Z",
     "iopub.status.busy": "2021-05-17T07:45:15.328465Z",
     "iopub.status.idle": "2021-05-17T07:45:15.398580Z",
     "shell.execute_reply": "2021-05-17T07:45:15.397859Z"
    },
    "papermill": {
     "duration": 0.152749,
     "end_time": "2021-05-17T07:45:15.398770",
     "exception": false,
     "start_time": "2021-05-17T07:45:15.246021",
     "status": "completed"
    },
    "tags": []
   },
   "outputs": [],
   "source": [
    "from google_trans_new import google_translator\n",
    "from translate import Translator"
   ]
  },
  {
   "cell_type": "code",
   "execution_count": 6,
   "id": "integral-parcel",
   "metadata": {
    "execution": {
     "iopub.execute_input": "2021-05-17T07:45:15.559564Z",
     "iopub.status.busy": "2021-05-17T07:45:15.558791Z",
     "iopub.status.idle": "2021-05-17T07:45:15.560918Z",
     "shell.execute_reply": "2021-05-17T07:45:15.561399Z"
    },
    "papermill": {
     "duration": 0.083926,
     "end_time": "2021-05-17T07:45:15.561578",
     "exception": false,
     "start_time": "2021-05-17T07:45:15.477652",
     "status": "completed"
    },
    "tags": []
   },
   "outputs": [],
   "source": [
    "import warnings\n",
    "warnings.filterwarnings('ignore')"
   ]
  },
  {
   "cell_type": "code",
   "execution_count": 7,
   "id": "beneficial-yeast",
   "metadata": {
    "execution": {
     "iopub.execute_input": "2021-05-17T07:45:15.718769Z",
     "iopub.status.busy": "2021-05-17T07:45:15.718095Z",
     "iopub.status.idle": "2021-05-17T07:45:15.723926Z",
     "shell.execute_reply": "2021-05-17T07:45:15.723276Z"
    },
    "papermill": {
     "duration": 0.085776,
     "end_time": "2021-05-17T07:45:15.724065",
     "exception": false,
     "start_time": "2021-05-17T07:45:15.638289",
     "status": "completed"
    },
    "tags": []
   },
   "outputs": [],
   "source": [
    "pd.set_option(\"display.max_rows\", 50, \"display.max_columns\", 50)\n",
    "pd.set_option('display.max_colwidth', None)\n",
    "plt.style.use('bmh')\n",
    "# create contants\n",
    "RS=612"
   ]
  },
  {
   "cell_type": "markdown",
   "id": "mexican-jumping",
   "metadata": {
    "papermill": {
     "duration": 0.07622,
     "end_time": "2021-05-17T07:45:15.876784",
     "exception": false,
     "start_time": "2021-05-17T07:45:15.800564",
     "status": "completed"
    },
    "tags": []
   },
   "source": [
    "## 1. Data preparation and basic cleaning <a id=\"data_prepration\"></a>\n",
    "[Go to top](#toc)"
   ]
  },
  {
   "cell_type": "markdown",
   "id": "naval-frank",
   "metadata": {
    "papermill": {
     "duration": 0.077629,
     "end_time": "2021-05-17T07:45:16.033072",
     "exception": false,
     "start_time": "2021-05-17T07:45:15.955443",
     "status": "completed"
    },
    "tags": []
   },
   "source": [
    "[Go to top](#toc)"
   ]
  },
  {
   "cell_type": "markdown",
   "id": "arbitrary-monkey",
   "metadata": {
    "papermill": {
     "duration": 0.076242,
     "end_time": "2021-05-17T07:45:16.185430",
     "exception": false,
     "start_time": "2021-05-17T07:45:16.109188",
     "status": "completed"
    },
    "tags": []
   },
   "source": [
    "### 1.1.  Load the dataset <a id=\"load_data\"></a>\n",
    "[Go to top](#toc)"
   ]
  },
  {
   "cell_type": "code",
   "execution_count": 8,
   "id": "other-surge",
   "metadata": {
    "execution": {
     "iopub.execute_input": "2021-05-17T07:45:16.347075Z",
     "iopub.status.busy": "2021-05-17T07:45:16.346354Z",
     "iopub.status.idle": "2021-05-17T07:45:29.817726Z",
     "shell.execute_reply": "2021-05-17T07:45:29.818203Z"
    },
    "papermill": {
     "duration": 13.556562,
     "end_time": "2021-05-17T07:45:29.818396",
     "exception": false,
     "start_time": "2021-05-17T07:45:16.261834",
     "status": "completed"
    },
    "tags": []
   },
   "outputs": [
    {
     "name": "stdout",
     "output_type": "stream",
     "text": [
      "CPU times: total: 3.64 s\n",
      "Wall time: 3.69 s\n"
     ]
    }
   ],
   "source": [
    "%%time\n",
    "#Loading Data files\n",
    "review_1 = pd.read_csv('feedbacksmall.csv')\n",
    "review_2 = pd.read_csv('feedback.csv')\n"
   ]
  },
  {
   "cell_type": "code",
   "execution_count": 9,
   "id": "architectural-prescription",
   "metadata": {
    "execution": {
     "iopub.execute_input": "2021-05-17T07:45:29.982129Z",
     "iopub.status.busy": "2021-05-17T07:45:29.981439Z",
     "iopub.status.idle": "2021-05-17T07:45:30.010605Z",
     "shell.execute_reply": "2021-05-17T07:45:30.011207Z"
    },
    "papermill": {
     "duration": 0.116226,
     "end_time": "2021-05-17T07:45:30.011379",
     "exception": false,
     "start_time": "2021-05-17T07:45:29.895153",
     "status": "completed"
    },
    "tags": []
   },
   "outputs": [
    {
     "data": {
      "text/html": [
       "<div>\n",
       "<style scoped>\n",
       "    .dataframe tbody tr th:only-of-type {\n",
       "        vertical-align: middle;\n",
       "    }\n",
       "\n",
       "    .dataframe tbody tr th {\n",
       "        vertical-align: top;\n",
       "    }\n",
       "\n",
       "    .dataframe thead th {\n",
       "        text-align: right;\n",
       "    }\n",
       "</style>\n",
       "<table border=\"1\" class=\"dataframe\">\n",
       "  <thead>\n",
       "    <tr style=\"text-align: right;\">\n",
       "      <th></th>\n",
       "      <th>productid</th>\n",
       "      <th>rate</th>\n",
       "      <th>cmt</th>\n",
       "      <th>username</th>\n",
       "      <th>productname</th>\n",
       "    </tr>\n",
       "  </thead>\n",
       "  <tbody>\n",
       "    <tr>\n",
       "      <th>0</th>\n",
       "      <td>626fc73b92862a001100054e</td>\n",
       "      <td>5.0</td>\n",
       "      <td>Very beautiful phone 📱</td>\n",
       "      <td>Naugachhia</td>\n",
       "      <td>Nokia 105 SS</td>\n",
       "    </tr>\n",
       "    <tr>\n",
       "      <th>1</th>\n",
       "      <td>626fc73b92862a001100054e</td>\n",
       "      <td>3.0</td>\n",
       "      <td>Good</td>\n",
       "      <td>Darbhanga</td>\n",
       "      <td>Nokia 105 SS</td>\n",
       "    </tr>\n",
       "    <tr>\n",
       "      <th>2</th>\n",
       "      <td>626fc73b92862a0011000566</td>\n",
       "      <td>5.0</td>\n",
       "      <td>Excellent for battery life and Display. Nice smartphone from samsung.</td>\n",
       "      <td>Mandir Hasaud</td>\n",
       "      <td>SAMSUNG Galaxy M33 5G (Deep Ocean Blue, 128 GB)</td>\n",
       "    </tr>\n",
       "    <tr>\n",
       "      <th>3</th>\n",
       "      <td>626fc73b92862a0011000566</td>\n",
       "      <td>4.0</td>\n",
       "      <td>God awasome phone in this price</td>\n",
       "      <td>Mokokchung</td>\n",
       "      <td>SAMSUNG Galaxy M33 5G (Deep Ocean Blue, 128 GB)</td>\n",
       "    </tr>\n",
       "    <tr>\n",
       "      <th>4</th>\n",
       "      <td>626fc73b92862a0011000566</td>\n",
       "      <td>5.0</td>\n",
       "      <td>Above  par, worth for  money</td>\n",
       "      <td>Madurai</td>\n",
       "      <td>SAMSUNG Galaxy M33 5G (Deep Ocean Blue, 128 GB)</td>\n",
       "    </tr>\n",
       "  </tbody>\n",
       "</table>\n",
       "</div>"
      ],
      "text/plain": [
       "                  productid  rate  \\\n",
       "0  626fc73b92862a001100054e   5.0   \n",
       "1  626fc73b92862a001100054e   3.0   \n",
       "2  626fc73b92862a0011000566   5.0   \n",
       "3  626fc73b92862a0011000566   4.0   \n",
       "4  626fc73b92862a0011000566   5.0   \n",
       "\n",
       "                                                                     cmt  \\\n",
       "0                                                 Very beautiful phone 📱   \n",
       "1                                                                   Good   \n",
       "2  Excellent for battery life and Display. Nice smartphone from samsung.   \n",
       "3                                        God awasome phone in this price   \n",
       "4                                           Above  par, worth for  money   \n",
       "\n",
       "        username                                      productname  \n",
       "0     Naugachhia                                     Nokia 105 SS  \n",
       "1      Darbhanga                                     Nokia 105 SS  \n",
       "2  Mandir Hasaud  SAMSUNG Galaxy M33 5G (Deep Ocean Blue, 128 GB)  \n",
       "3     Mokokchung  SAMSUNG Galaxy M33 5G (Deep Ocean Blue, 128 GB)  \n",
       "4        Madurai  SAMSUNG Galaxy M33 5G (Deep Ocean Blue, 128 GB)  "
      ]
     },
     "execution_count": 9,
     "metadata": {},
     "output_type": "execute_result"
    }
   ],
   "source": [
    "review_1.head()"
   ]
  },
  {
   "cell_type": "code",
   "execution_count": 10,
   "id": "advance-graduation",
   "metadata": {
    "execution": {
     "iopub.execute_input": "2021-05-17T07:45:30.172822Z",
     "iopub.status.busy": "2021-05-17T07:45:30.172139Z",
     "iopub.status.idle": "2021-05-17T07:45:30.190285Z",
     "shell.execute_reply": "2021-05-17T07:45:30.190785Z"
    },
    "papermill": {
     "duration": 0.100497,
     "end_time": "2021-05-17T07:45:30.190971",
     "exception": false,
     "start_time": "2021-05-17T07:45:30.090474",
     "status": "completed"
    },
    "tags": []
   },
   "outputs": [
    {
     "data": {
      "text/html": [
       "<div>\n",
       "<style scoped>\n",
       "    .dataframe tbody tr th:only-of-type {\n",
       "        vertical-align: middle;\n",
       "    }\n",
       "\n",
       "    .dataframe tbody tr th {\n",
       "        vertical-align: top;\n",
       "    }\n",
       "\n",
       "    .dataframe thead th {\n",
       "        text-align: right;\n",
       "    }\n",
       "</style>\n",
       "<table border=\"1\" class=\"dataframe\">\n",
       "  <thead>\n",
       "    <tr style=\"text-align: right;\">\n",
       "      <th></th>\n",
       "      <th>productid</th>\n",
       "      <th>rate</th>\n",
       "      <th>cmt</th>\n",
       "      <th>username</th>\n",
       "      <th>productname</th>\n",
       "    </tr>\n",
       "  </thead>\n",
       "  <tbody>\n",
       "    <tr>\n",
       "      <th>0</th>\n",
       "      <td>626fc73b92862a00110004bd</td>\n",
       "      <td>4</td>\n",
       "      <td>This is best budget phone.... Poco C31, and order this product because I have Poco M2 Reloaded, i was gift this phone to my sister on her birthday, she loved it</td>\n",
       "      <td>Kavi Lama</td>\n",
       "      <td>POCO C31 (Royal Blue, 64 GB)</td>\n",
       "    </tr>\n",
       "    <tr>\n",
       "      <th>1</th>\n",
       "      <td>626fc73b92862a00110004bd</td>\n",
       "      <td>3</td>\n",
       "      <td>Pros :</td>\n",
       "      <td>MOKIM SARKAR</td>\n",
       "      <td>POCO C31 (Royal Blue, 64 GB)</td>\n",
       "    </tr>\n",
       "    <tr>\n",
       "      <th>2</th>\n",
       "      <td>626fc73b92862a00110004bd</td>\n",
       "      <td>5</td>\n",
       "      <td>The best budget phone. Camera clarity is good. Value for money.  Right size phone with light weight. Over all good phone with budget price.</td>\n",
       "      <td>Suresh Kumar.k</td>\n",
       "      <td>POCO C31 (Royal Blue, 64 GB)</td>\n",
       "    </tr>\n",
       "    <tr>\n",
       "      <th>3</th>\n",
       "      <td>626fc73b92862a00110004bd</td>\n",
       "      <td>3</td>\n",
       "      <td>Not soo gud.... Average phone...</td>\n",
       "      <td>Ankur Dhawan</td>\n",
       "      <td>POCO C31 (Royal Blue, 64 GB)</td>\n",
       "    </tr>\n",
       "    <tr>\n",
       "      <th>4</th>\n",
       "      <td>626fc73b92862a00110004bd</td>\n",
       "      <td>5</td>\n",
       "      <td>Outstanding phone at a very outstanding price....it's performance, battery,camera is very good it has nice interface and anyone can easily use it...i didn't expected this product to be this good..but it's on the next level...I am very happy that I bought it..</td>\n",
       "      <td>Ayub Mulla</td>\n",
       "      <td>POCO C31 (Royal Blue, 64 GB)</td>\n",
       "    </tr>\n",
       "  </tbody>\n",
       "</table>\n",
       "</div>"
      ],
      "text/plain": [
       "                  productid  rate  \\\n",
       "0  626fc73b92862a00110004bd     4   \n",
       "1  626fc73b92862a00110004bd     3   \n",
       "2  626fc73b92862a00110004bd     5   \n",
       "3  626fc73b92862a00110004bd     3   \n",
       "4  626fc73b92862a00110004bd     5   \n",
       "\n",
       "                                                                                                                                                                                                                                                                   cmt  \\\n",
       "0                                                                                                    This is best budget phone.... Poco C31, and order this product because I have Poco M2 Reloaded, i was gift this phone to my sister on her birthday, she loved it    \n",
       "1                                                                                                                                                                                                                                                              Pros :    \n",
       "2                                                                                                                          The best budget phone. Camera clarity is good. Value for money.  Right size phone with light weight. Over all good phone with budget price.   \n",
       "3                                                                                                                                                                                                                                    Not soo gud.... Average phone...    \n",
       "4  Outstanding phone at a very outstanding price....it's performance, battery,camera is very good it has nice interface and anyone can easily use it...i didn't expected this product to be this good..but it's on the next level...I am very happy that I bought it..   \n",
       "\n",
       "         username                   productname  \n",
       "0       Kavi Lama  POCO C31 (Royal Blue, 64 GB)  \n",
       "1    MOKIM SARKAR  POCO C31 (Royal Blue, 64 GB)  \n",
       "2  Suresh Kumar.k  POCO C31 (Royal Blue, 64 GB)  \n",
       "3    Ankur Dhawan  POCO C31 (Royal Blue, 64 GB)  \n",
       "4      Ayub Mulla  POCO C31 (Royal Blue, 64 GB)  "
      ]
     },
     "execution_count": 10,
     "metadata": {},
     "output_type": "execute_result"
    }
   ],
   "source": [
    "review_2.head()"
   ]
  },
  {
   "cell_type": "code",
   "execution_count": 11,
   "id": "meaning-count",
   "metadata": {
    "execution": {
     "iopub.execute_input": "2021-05-17T07:45:30.351717Z",
     "iopub.status.busy": "2021-05-17T07:45:30.351084Z",
     "iopub.status.idle": "2021-05-17T07:45:30.360487Z",
     "shell.execute_reply": "2021-05-17T07:45:30.359657Z"
    },
    "papermill": {
     "duration": 0.09104,
     "end_time": "2021-05-17T07:45:30.360687",
     "exception": false,
     "start_time": "2021-05-17T07:45:30.269647",
     "status": "completed"
    },
    "tags": []
   },
   "outputs": [
    {
     "name": "stdout",
     "output_type": "stream",
     "text": [
      "review_1: Rows: 598 and Columns: 5\n",
      "\n",
      "review_2: Rows: 1658160 and Columns: 5\n",
      "\n",
      "Total rows: 1658758\n"
     ]
    }
   ],
   "source": [
    "print(f'review_1: Rows: {review_1.shape[0]} and Columns: {review_1.shape[1]}\\n')\n",
    "print(f'review_2: Rows: {review_2.shape[0]} and Columns: {review_2.shape[1]}\\n')\n",
    "\n",
    "print(f'Total rows: {review_1.shape[0]+review_2.shape[0]}')"
   ]
  },
  {
   "cell_type": "code",
   "execution_count": 12,
   "id": "celtic-criterion",
   "metadata": {
    "execution": {
     "iopub.execute_input": "2021-05-17T07:45:30.526830Z",
     "iopub.status.busy": "2021-05-17T07:45:30.524860Z",
     "iopub.status.idle": "2021-05-17T07:45:30.532756Z",
     "shell.execute_reply": "2021-05-17T07:45:30.532232Z"
    },
    "papermill": {
     "duration": 0.092631,
     "end_time": "2021-05-17T07:45:30.532918",
     "exception": false,
     "start_time": "2021-05-17T07:45:30.440287",
     "status": "completed"
    },
    "tags": []
   },
   "outputs": [
    {
     "name": "stdout",
     "output_type": "stream",
     "text": [
      "Check whether the column names are same in all the dataframes: \n"
     ]
    },
    {
     "data": {
      "text/plain": [
       "True"
      ]
     },
     "execution_count": 12,
     "metadata": {},
     "output_type": "execute_result"
    }
   ],
   "source": [
    "print('Check whether the column names are same in all the dataframes: ')\n",
    "all(np.unique(review_1.columns.tolist()) == np.unique(review_1.columns.tolist()+\n",
    "                                                      review_2.columns.tolist()\n",
    "                                                ))"
   ]
  },
  {
   "cell_type": "markdown",
   "id": "alien-heater",
   "metadata": {
    "papermill": {
     "duration": 0.078987,
     "end_time": "2021-05-17T07:45:30.691682",
     "exception": false,
     "start_time": "2021-05-17T07:45:30.612695",
     "status": "completed"
    },
    "tags": []
   },
   "source": [
    "### 1.2. Merge dataset <a id=\"merge_data\"></a>\n",
    "[Go to top](#toc)"
   ]
  },
  {
   "cell_type": "code",
   "execution_count": 13,
   "id": "finite-scanning",
   "metadata": {
    "execution": {
     "iopub.execute_input": "2021-05-17T07:45:30.914538Z",
     "iopub.status.busy": "2021-05-17T07:45:30.883683Z",
     "iopub.status.idle": "2021-05-17T07:45:31.360564Z",
     "shell.execute_reply": "2021-05-17T07:45:31.361448Z"
    },
    "papermill": {
     "duration": 0.590405,
     "end_time": "2021-05-17T07:45:31.361682",
     "exception": false,
     "start_time": "2021-05-17T07:45:30.771277",
     "status": "completed"
    },
    "tags": []
   },
   "outputs": [
    {
     "name": "stdout",
     "output_type": "stream",
     "text": [
      "reviews: Rows: 1658758 and Columns: 5\n",
      "\n",
      "Top 5 rows of the data: \n"
     ]
    },
    {
     "data": {
      "text/html": [
       "<div>\n",
       "<style scoped>\n",
       "    .dataframe tbody tr th:only-of-type {\n",
       "        vertical-align: middle;\n",
       "    }\n",
       "\n",
       "    .dataframe tbody tr th {\n",
       "        vertical-align: top;\n",
       "    }\n",
       "\n",
       "    .dataframe thead th {\n",
       "        text-align: right;\n",
       "    }\n",
       "</style>\n",
       "<table border=\"1\" class=\"dataframe\">\n",
       "  <thead>\n",
       "    <tr style=\"text-align: right;\">\n",
       "      <th></th>\n",
       "      <th>productid</th>\n",
       "      <th>rate</th>\n",
       "      <th>cmt</th>\n",
       "      <th>username</th>\n",
       "      <th>productname</th>\n",
       "    </tr>\n",
       "  </thead>\n",
       "  <tbody>\n",
       "    <tr>\n",
       "      <th>0</th>\n",
       "      <td>626fc73b92862a001100054e</td>\n",
       "      <td>5.0</td>\n",
       "      <td>Very beautiful phone 📱</td>\n",
       "      <td>Naugachhia</td>\n",
       "      <td>Nokia 105 SS</td>\n",
       "    </tr>\n",
       "    <tr>\n",
       "      <th>1</th>\n",
       "      <td>626fc73b92862a001100054e</td>\n",
       "      <td>3.0</td>\n",
       "      <td>Good</td>\n",
       "      <td>Darbhanga</td>\n",
       "      <td>Nokia 105 SS</td>\n",
       "    </tr>\n",
       "    <tr>\n",
       "      <th>2</th>\n",
       "      <td>626fc73b92862a0011000566</td>\n",
       "      <td>5.0</td>\n",
       "      <td>Excellent for battery life and Display. Nice smartphone from samsung.</td>\n",
       "      <td>Mandir Hasaud</td>\n",
       "      <td>SAMSUNG Galaxy M33 5G (Deep Ocean Blue, 128 GB)</td>\n",
       "    </tr>\n",
       "    <tr>\n",
       "      <th>3</th>\n",
       "      <td>626fc73b92862a0011000566</td>\n",
       "      <td>4.0</td>\n",
       "      <td>God awasome phone in this price</td>\n",
       "      <td>Mokokchung</td>\n",
       "      <td>SAMSUNG Galaxy M33 5G (Deep Ocean Blue, 128 GB)</td>\n",
       "    </tr>\n",
       "    <tr>\n",
       "      <th>4</th>\n",
       "      <td>626fc73b92862a0011000566</td>\n",
       "      <td>5.0</td>\n",
       "      <td>Above  par, worth for  money</td>\n",
       "      <td>Madurai</td>\n",
       "      <td>SAMSUNG Galaxy M33 5G (Deep Ocean Blue, 128 GB)</td>\n",
       "    </tr>\n",
       "  </tbody>\n",
       "</table>\n",
       "</div>"
      ],
      "text/plain": [
       "                  productid  rate  \\\n",
       "0  626fc73b92862a001100054e   5.0   \n",
       "1  626fc73b92862a001100054e   3.0   \n",
       "2  626fc73b92862a0011000566   5.0   \n",
       "3  626fc73b92862a0011000566   4.0   \n",
       "4  626fc73b92862a0011000566   5.0   \n",
       "\n",
       "                                                                     cmt  \\\n",
       "0                                                 Very beautiful phone 📱   \n",
       "1                                                                   Good   \n",
       "2  Excellent for battery life and Display. Nice smartphone from samsung.   \n",
       "3                                        God awasome phone in this price   \n",
       "4                                           Above  par, worth for  money   \n",
       "\n",
       "        username                                      productname  \n",
       "0     Naugachhia                                     Nokia 105 SS  \n",
       "1      Darbhanga                                     Nokia 105 SS  \n",
       "2  Mandir Hasaud  SAMSUNG Galaxy M33 5G (Deep Ocean Blue, 128 GB)  \n",
       "3     Mokokchung  SAMSUNG Galaxy M33 5G (Deep Ocean Blue, 128 GB)  \n",
       "4        Madurai  SAMSUNG Galaxy M33 5G (Deep Ocean Blue, 128 GB)  "
      ]
     },
     "metadata": {},
     "output_type": "display_data"
    },
    {
     "name": "stdout",
     "output_type": "stream",
     "text": [
      "Bottom 5 rows of the data: \n"
     ]
    },
    {
     "data": {
      "text/html": [
       "<div>\n",
       "<style scoped>\n",
       "    .dataframe tbody tr th:only-of-type {\n",
       "        vertical-align: middle;\n",
       "    }\n",
       "\n",
       "    .dataframe tbody tr th {\n",
       "        vertical-align: top;\n",
       "    }\n",
       "\n",
       "    .dataframe thead th {\n",
       "        text-align: right;\n",
       "    }\n",
       "</style>\n",
       "<table border=\"1\" class=\"dataframe\">\n",
       "  <thead>\n",
       "    <tr style=\"text-align: right;\">\n",
       "      <th></th>\n",
       "      <th>productid</th>\n",
       "      <th>rate</th>\n",
       "      <th>cmt</th>\n",
       "      <th>username</th>\n",
       "      <th>productname</th>\n",
       "    </tr>\n",
       "  </thead>\n",
       "  <tbody>\n",
       "    <tr>\n",
       "      <th>1658753</th>\n",
       "      <td>626fc73b92862a0011000867</td>\n",
       "      <td>5.0</td>\n",
       "      <td>Ideal according to price.</td>\n",
       "      <td>Afif  Hossain</td>\n",
       "      <td>POCO M2 Pro (Two Shades of Black, 64 GB)</td>\n",
       "    </tr>\n",
       "    <tr>\n",
       "      <th>1658754</th>\n",
       "      <td>626fc73b92862a0011000867</td>\n",
       "      <td>4.0</td>\n",
       "      <td>Good not better</td>\n",
       "      <td>Flipkart Customer</td>\n",
       "      <td>POCO M2 Pro (Two Shades of Black, 64 GB)</td>\n",
       "    </tr>\n",
       "    <tr>\n",
       "      <th>1658755</th>\n",
       "      <td>626fc73b92862a0011000867</td>\n",
       "      <td>2.0</td>\n",
       "      <td>after 15 days receiver of this phone is damaged 🙁</td>\n",
       "      <td>D C Gupta</td>\n",
       "      <td>POCO M2 Pro (Two Shades of Black, 64 GB)</td>\n",
       "    </tr>\n",
       "    <tr>\n",
       "      <th>1658756</th>\n",
       "      <td>626fc73b92862a0011000867</td>\n",
       "      <td>5.0</td>\n",
       "      <td>12000 main best ha</td>\n",
       "      <td>Keishna Chetry</td>\n",
       "      <td>POCO M2 Pro (Two Shades of Black, 64 GB)</td>\n",
       "    </tr>\n",
       "    <tr>\n",
       "      <th>1658757</th>\n",
       "      <td>626fc73b92862a0011000867</td>\n",
       "      <td>4.0</td>\n",
       "      <td>Value for money</td>\n",
       "      <td>Shiva Kumar</td>\n",
       "      <td>POCO M2 Pro (Two Shades of Black, 64 GB)</td>\n",
       "    </tr>\n",
       "  </tbody>\n",
       "</table>\n",
       "</div>"
      ],
      "text/plain": [
       "                        productid  rate  \\\n",
       "1658753  626fc73b92862a0011000867   5.0   \n",
       "1658754  626fc73b92862a0011000867   4.0   \n",
       "1658755  626fc73b92862a0011000867   2.0   \n",
       "1658756  626fc73b92862a0011000867   5.0   \n",
       "1658757  626fc73b92862a0011000867   4.0   \n",
       "\n",
       "                                                       cmt           username  \\\n",
       "1658753                          Ideal according to price.     Afif  Hossain    \n",
       "1658754                                    Good not better  Flipkart Customer   \n",
       "1658755  after 15 days receiver of this phone is damaged 🙁          D C Gupta   \n",
       "1658756                                 12000 main best ha     Keishna Chetry   \n",
       "1658757                                    Value for money       Shiva Kumar    \n",
       "\n",
       "                                      productname  \n",
       "1658753  POCO M2 Pro (Two Shades of Black, 64 GB)  \n",
       "1658754  POCO M2 Pro (Two Shades of Black, 64 GB)  \n",
       "1658755  POCO M2 Pro (Two Shades of Black, 64 GB)  \n",
       "1658756  POCO M2 Pro (Two Shades of Black, 64 GB)  \n",
       "1658757  POCO M2 Pro (Two Shades of Black, 64 GB)  "
      ]
     },
     "metadata": {},
     "output_type": "display_data"
    }
   ],
   "source": [
    "#Merge the data into a single dataframe \n",
    "reviews = pd.concat([review_1,review_2], ignore_index=True)\n",
    "del review_1, review_2\n",
    "print(f'reviews: Rows: {reviews.shape[0]} and Columns: {reviews.shape[1]}\\n')\n",
    "print('Top 5 rows of the data: ')\n",
    "display(reviews.head())\n",
    "print('Bottom 5 rows of the data: ')\n",
    "display(reviews.tail())"
   ]
  },
  {
   "cell_type": "code",
   "execution_count": 14,
   "id": "pending-rescue",
   "metadata": {
    "execution": {
     "iopub.execute_input": "2021-05-17T07:45:32.265633Z",
     "iopub.status.busy": "2021-05-17T07:45:32.264927Z",
     "iopub.status.idle": "2021-05-17T07:45:32.710670Z",
     "shell.execute_reply": "2021-05-17T07:45:32.711195Z"
    },
    "papermill": {
     "duration": 1.267427,
     "end_time": "2021-05-17T07:45:32.711394",
     "exception": false,
     "start_time": "2021-05-17T07:45:31.443967",
     "status": "completed"
    },
    "tags": []
   },
   "outputs": [
    {
     "name": "stdout",
     "output_type": "stream",
     "text": [
      "<class 'pandas.core.frame.DataFrame'>\n",
      "RangeIndex: 1658758 entries, 0 to 1658757\n",
      "Data columns (total 5 columns):\n",
      " #   Column       Non-Null Count    Dtype  \n",
      "---  ------       --------------    -----  \n",
      " 0   productid    1643466 non-null  object \n",
      " 1   rate         1658757 non-null  float64\n",
      " 2   cmt          1658758 non-null  object \n",
      " 3   username     1658737 non-null  object \n",
      " 4   productname  1658757 non-null  object \n",
      "dtypes: float64(1), object(4)\n",
      "memory usage: 63.3+ MB\n"
     ]
    }
   ],
   "source": [
    "reviews.info()"
   ]
  },
  {
   "cell_type": "markdown",
   "id": "transparent-hybrid",
   "metadata": {
    "papermill": {
     "duration": 0.082535,
     "end_time": "2021-05-17T07:45:32.882950",
     "exception": false,
     "start_time": "2021-05-17T07:45:32.800415",
     "status": "completed"
    },
    "tags": []
   },
   "source": [
    "* Except **rate**  (which are of float type) all other features are of object type \n",
    "* Also, **score, score_max, extract and author**: columns seems to have Null values"
   ]
  },
  {
   "cell_type": "markdown",
   "id": "excellent-airplane",
   "metadata": {
    "papermill": {
     "duration": 0.085299,
     "end_time": "2021-05-17T07:45:33.051639",
     "exception": false,
     "start_time": "2021-05-17T07:45:32.966340",
     "status": "completed"
    },
    "tags": []
   },
   "source": [
    "### 1.3. Basic analysis <a id=\"basic_analysis\"></a>\n",
    "[Go to top](#toc)"
   ]
  },
  {
   "cell_type": "code",
   "execution_count": 15,
   "id": "independent-operation",
   "metadata": {
    "execution": {
     "iopub.execute_input": "2021-05-17T07:45:33.949054Z",
     "iopub.status.busy": "2021-05-17T07:45:33.947715Z",
     "iopub.status.idle": "2021-05-17T07:45:34.404321Z",
     "shell.execute_reply": "2021-05-17T07:45:34.403742Z"
    },
    "papermill": {
     "duration": 1.269751,
     "end_time": "2021-05-17T07:45:34.404462",
     "exception": false,
     "start_time": "2021-05-17T07:45:33.134711",
     "status": "completed"
    },
    "tags": []
   },
   "outputs": [
    {
     "name": "stdout",
     "output_type": "stream",
     "text": [
      "Missing count and percentages for each column are: \n",
      " productid      15292 (0.92%)\n",
      "rate                1 (0.0%)\n",
      "cmt                 0 (0.0%)\n",
      "username           21 (0.0%)\n",
      "productname         1 (0.0%)\n",
      "dtype: object\n"
     ]
    },
    {
     "data": {
      "application/vnd.plotly.v1+json": {
       "config": {
        "plotlyServerURL": "https://plot.ly"
       },
       "data": [
        {
         "alignmentgroup": "True",
         "hovertemplate": "x=%{x}<br>y=%{y}<br>text=%{text}<extra></extra>",
         "legendgroup": "",
         "marker": {
          "color": "#636efa",
          "pattern": {
           "shape": ""
          }
         },
         "name": "",
         "offsetgroup": "",
         "orientation": "v",
         "showlegend": false,
         "text": [
          "15292(0.92%)",
          "1(0.0%)",
          "0(0.0%)",
          "21(0.0%)",
          "1(0.0%)"
         ],
         "textposition": "auto",
         "type": "bar",
         "x": [
          "productid",
          "rate",
          "cmt",
          "username",
          "productname"
         ],
         "xaxis": "x",
         "y": [
          0.92,
          0,
          0,
          0,
          0
         ],
         "yaxis": "y"
        }
       ],
       "layout": {
        "barmode": "relative",
        "legend": {
         "tracegroupgap": 0
        },
        "template": {
         "data": {
          "bar": [
           {
            "error_x": {
             "color": "#2a3f5f"
            },
            "error_y": {
             "color": "#2a3f5f"
            },
            "marker": {
             "line": {
              "color": "#E5ECF6",
              "width": 0.5
             },
             "pattern": {
              "fillmode": "overlay",
              "size": 10,
              "solidity": 0.2
             }
            },
            "type": "bar"
           }
          ],
          "barpolar": [
           {
            "marker": {
             "line": {
              "color": "#E5ECF6",
              "width": 0.5
             },
             "pattern": {
              "fillmode": "overlay",
              "size": 10,
              "solidity": 0.2
             }
            },
            "type": "barpolar"
           }
          ],
          "carpet": [
           {
            "aaxis": {
             "endlinecolor": "#2a3f5f",
             "gridcolor": "white",
             "linecolor": "white",
             "minorgridcolor": "white",
             "startlinecolor": "#2a3f5f"
            },
            "baxis": {
             "endlinecolor": "#2a3f5f",
             "gridcolor": "white",
             "linecolor": "white",
             "minorgridcolor": "white",
             "startlinecolor": "#2a3f5f"
            },
            "type": "carpet"
           }
          ],
          "choropleth": [
           {
            "colorbar": {
             "outlinewidth": 0,
             "ticks": ""
            },
            "type": "choropleth"
           }
          ],
          "contour": [
           {
            "colorbar": {
             "outlinewidth": 0,
             "ticks": ""
            },
            "colorscale": [
             [
              0,
              "#0d0887"
             ],
             [
              0.1111111111111111,
              "#46039f"
             ],
             [
              0.2222222222222222,
              "#7201a8"
             ],
             [
              0.3333333333333333,
              "#9c179e"
             ],
             [
              0.4444444444444444,
              "#bd3786"
             ],
             [
              0.5555555555555556,
              "#d8576b"
             ],
             [
              0.6666666666666666,
              "#ed7953"
             ],
             [
              0.7777777777777778,
              "#fb9f3a"
             ],
             [
              0.8888888888888888,
              "#fdca26"
             ],
             [
              1,
              "#f0f921"
             ]
            ],
            "type": "contour"
           }
          ],
          "contourcarpet": [
           {
            "colorbar": {
             "outlinewidth": 0,
             "ticks": ""
            },
            "type": "contourcarpet"
           }
          ],
          "heatmap": [
           {
            "colorbar": {
             "outlinewidth": 0,
             "ticks": ""
            },
            "colorscale": [
             [
              0,
              "#0d0887"
             ],
             [
              0.1111111111111111,
              "#46039f"
             ],
             [
              0.2222222222222222,
              "#7201a8"
             ],
             [
              0.3333333333333333,
              "#9c179e"
             ],
             [
              0.4444444444444444,
              "#bd3786"
             ],
             [
              0.5555555555555556,
              "#d8576b"
             ],
             [
              0.6666666666666666,
              "#ed7953"
             ],
             [
              0.7777777777777778,
              "#fb9f3a"
             ],
             [
              0.8888888888888888,
              "#fdca26"
             ],
             [
              1,
              "#f0f921"
             ]
            ],
            "type": "heatmap"
           }
          ],
          "heatmapgl": [
           {
            "colorbar": {
             "outlinewidth": 0,
             "ticks": ""
            },
            "colorscale": [
             [
              0,
              "#0d0887"
             ],
             [
              0.1111111111111111,
              "#46039f"
             ],
             [
              0.2222222222222222,
              "#7201a8"
             ],
             [
              0.3333333333333333,
              "#9c179e"
             ],
             [
              0.4444444444444444,
              "#bd3786"
             ],
             [
              0.5555555555555556,
              "#d8576b"
             ],
             [
              0.6666666666666666,
              "#ed7953"
             ],
             [
              0.7777777777777778,
              "#fb9f3a"
             ],
             [
              0.8888888888888888,
              "#fdca26"
             ],
             [
              1,
              "#f0f921"
             ]
            ],
            "type": "heatmapgl"
           }
          ],
          "histogram": [
           {
            "marker": {
             "pattern": {
              "fillmode": "overlay",
              "size": 10,
              "solidity": 0.2
             }
            },
            "type": "histogram"
           }
          ],
          "histogram2d": [
           {
            "colorbar": {
             "outlinewidth": 0,
             "ticks": ""
            },
            "colorscale": [
             [
              0,
              "#0d0887"
             ],
             [
              0.1111111111111111,
              "#46039f"
             ],
             [
              0.2222222222222222,
              "#7201a8"
             ],
             [
              0.3333333333333333,
              "#9c179e"
             ],
             [
              0.4444444444444444,
              "#bd3786"
             ],
             [
              0.5555555555555556,
              "#d8576b"
             ],
             [
              0.6666666666666666,
              "#ed7953"
             ],
             [
              0.7777777777777778,
              "#fb9f3a"
             ],
             [
              0.8888888888888888,
              "#fdca26"
             ],
             [
              1,
              "#f0f921"
             ]
            ],
            "type": "histogram2d"
           }
          ],
          "histogram2dcontour": [
           {
            "colorbar": {
             "outlinewidth": 0,
             "ticks": ""
            },
            "colorscale": [
             [
              0,
              "#0d0887"
             ],
             [
              0.1111111111111111,
              "#46039f"
             ],
             [
              0.2222222222222222,
              "#7201a8"
             ],
             [
              0.3333333333333333,
              "#9c179e"
             ],
             [
              0.4444444444444444,
              "#bd3786"
             ],
             [
              0.5555555555555556,
              "#d8576b"
             ],
             [
              0.6666666666666666,
              "#ed7953"
             ],
             [
              0.7777777777777778,
              "#fb9f3a"
             ],
             [
              0.8888888888888888,
              "#fdca26"
             ],
             [
              1,
              "#f0f921"
             ]
            ],
            "type": "histogram2dcontour"
           }
          ],
          "mesh3d": [
           {
            "colorbar": {
             "outlinewidth": 0,
             "ticks": ""
            },
            "type": "mesh3d"
           }
          ],
          "parcoords": [
           {
            "line": {
             "colorbar": {
              "outlinewidth": 0,
              "ticks": ""
             }
            },
            "type": "parcoords"
           }
          ],
          "pie": [
           {
            "automargin": true,
            "type": "pie"
           }
          ],
          "scatter": [
           {
            "fillpattern": {
             "fillmode": "overlay",
             "size": 10,
             "solidity": 0.2
            },
            "type": "scatter"
           }
          ],
          "scatter3d": [
           {
            "line": {
             "colorbar": {
              "outlinewidth": 0,
              "ticks": ""
             }
            },
            "marker": {
             "colorbar": {
              "outlinewidth": 0,
              "ticks": ""
             }
            },
            "type": "scatter3d"
           }
          ],
          "scattercarpet": [
           {
            "marker": {
             "colorbar": {
              "outlinewidth": 0,
              "ticks": ""
             }
            },
            "type": "scattercarpet"
           }
          ],
          "scattergeo": [
           {
            "marker": {
             "colorbar": {
              "outlinewidth": 0,
              "ticks": ""
             }
            },
            "type": "scattergeo"
           }
          ],
          "scattergl": [
           {
            "marker": {
             "colorbar": {
              "outlinewidth": 0,
              "ticks": ""
             }
            },
            "type": "scattergl"
           }
          ],
          "scattermapbox": [
           {
            "marker": {
             "colorbar": {
              "outlinewidth": 0,
              "ticks": ""
             }
            },
            "type": "scattermapbox"
           }
          ],
          "scatterpolar": [
           {
            "marker": {
             "colorbar": {
              "outlinewidth": 0,
              "ticks": ""
             }
            },
            "type": "scatterpolar"
           }
          ],
          "scatterpolargl": [
           {
            "marker": {
             "colorbar": {
              "outlinewidth": 0,
              "ticks": ""
             }
            },
            "type": "scatterpolargl"
           }
          ],
          "scatterternary": [
           {
            "marker": {
             "colorbar": {
              "outlinewidth": 0,
              "ticks": ""
             }
            },
            "type": "scatterternary"
           }
          ],
          "surface": [
           {
            "colorbar": {
             "outlinewidth": 0,
             "ticks": ""
            },
            "colorscale": [
             [
              0,
              "#0d0887"
             ],
             [
              0.1111111111111111,
              "#46039f"
             ],
             [
              0.2222222222222222,
              "#7201a8"
             ],
             [
              0.3333333333333333,
              "#9c179e"
             ],
             [
              0.4444444444444444,
              "#bd3786"
             ],
             [
              0.5555555555555556,
              "#d8576b"
             ],
             [
              0.6666666666666666,
              "#ed7953"
             ],
             [
              0.7777777777777778,
              "#fb9f3a"
             ],
             [
              0.8888888888888888,
              "#fdca26"
             ],
             [
              1,
              "#f0f921"
             ]
            ],
            "type": "surface"
           }
          ],
          "table": [
           {
            "cells": {
             "fill": {
              "color": "#EBF0F8"
             },
             "line": {
              "color": "white"
             }
            },
            "header": {
             "fill": {
              "color": "#C8D4E3"
             },
             "line": {
              "color": "white"
             }
            },
            "type": "table"
           }
          ]
         },
         "layout": {
          "annotationdefaults": {
           "arrowcolor": "#2a3f5f",
           "arrowhead": 0,
           "arrowwidth": 1
          },
          "autotypenumbers": "strict",
          "coloraxis": {
           "colorbar": {
            "outlinewidth": 0,
            "ticks": ""
           }
          },
          "colorscale": {
           "diverging": [
            [
             0,
             "#8e0152"
            ],
            [
             0.1,
             "#c51b7d"
            ],
            [
             0.2,
             "#de77ae"
            ],
            [
             0.3,
             "#f1b6da"
            ],
            [
             0.4,
             "#fde0ef"
            ],
            [
             0.5,
             "#f7f7f7"
            ],
            [
             0.6,
             "#e6f5d0"
            ],
            [
             0.7,
             "#b8e186"
            ],
            [
             0.8,
             "#7fbc41"
            ],
            [
             0.9,
             "#4d9221"
            ],
            [
             1,
             "#276419"
            ]
           ],
           "sequential": [
            [
             0,
             "#0d0887"
            ],
            [
             0.1111111111111111,
             "#46039f"
            ],
            [
             0.2222222222222222,
             "#7201a8"
            ],
            [
             0.3333333333333333,
             "#9c179e"
            ],
            [
             0.4444444444444444,
             "#bd3786"
            ],
            [
             0.5555555555555556,
             "#d8576b"
            ],
            [
             0.6666666666666666,
             "#ed7953"
            ],
            [
             0.7777777777777778,
             "#fb9f3a"
            ],
            [
             0.8888888888888888,
             "#fdca26"
            ],
            [
             1,
             "#f0f921"
            ]
           ],
           "sequentialminus": [
            [
             0,
             "#0d0887"
            ],
            [
             0.1111111111111111,
             "#46039f"
            ],
            [
             0.2222222222222222,
             "#7201a8"
            ],
            [
             0.3333333333333333,
             "#9c179e"
            ],
            [
             0.4444444444444444,
             "#bd3786"
            ],
            [
             0.5555555555555556,
             "#d8576b"
            ],
            [
             0.6666666666666666,
             "#ed7953"
            ],
            [
             0.7777777777777778,
             "#fb9f3a"
            ],
            [
             0.8888888888888888,
             "#fdca26"
            ],
            [
             1,
             "#f0f921"
            ]
           ]
          },
          "colorway": [
           "#636efa",
           "#EF553B",
           "#00cc96",
           "#ab63fa",
           "#FFA15A",
           "#19d3f3",
           "#FF6692",
           "#B6E880",
           "#FF97FF",
           "#FECB52"
          ],
          "font": {
           "color": "#2a3f5f"
          },
          "geo": {
           "bgcolor": "white",
           "lakecolor": "white",
           "landcolor": "#E5ECF6",
           "showlakes": true,
           "showland": true,
           "subunitcolor": "white"
          },
          "hoverlabel": {
           "align": "left"
          },
          "hovermode": "closest",
          "mapbox": {
           "style": "light"
          },
          "paper_bgcolor": "white",
          "plot_bgcolor": "#E5ECF6",
          "polar": {
           "angularaxis": {
            "gridcolor": "white",
            "linecolor": "white",
            "ticks": ""
           },
           "bgcolor": "#E5ECF6",
           "radialaxis": {
            "gridcolor": "white",
            "linecolor": "white",
            "ticks": ""
           }
          },
          "scene": {
           "xaxis": {
            "backgroundcolor": "#E5ECF6",
            "gridcolor": "white",
            "gridwidth": 2,
            "linecolor": "white",
            "showbackground": true,
            "ticks": "",
            "zerolinecolor": "white"
           },
           "yaxis": {
            "backgroundcolor": "#E5ECF6",
            "gridcolor": "white",
            "gridwidth": 2,
            "linecolor": "white",
            "showbackground": true,
            "ticks": "",
            "zerolinecolor": "white"
           },
           "zaxis": {
            "backgroundcolor": "#E5ECF6",
            "gridcolor": "white",
            "gridwidth": 2,
            "linecolor": "white",
            "showbackground": true,
            "ticks": "",
            "zerolinecolor": "white"
           }
          },
          "shapedefaults": {
           "line": {
            "color": "#2a3f5f"
           }
          },
          "ternary": {
           "aaxis": {
            "gridcolor": "white",
            "linecolor": "white",
            "ticks": ""
           },
           "baxis": {
            "gridcolor": "white",
            "linecolor": "white",
            "ticks": ""
           },
           "bgcolor": "#E5ECF6",
           "caxis": {
            "gridcolor": "white",
            "linecolor": "white",
            "ticks": ""
           }
          },
          "title": {
           "x": 0.05
          },
          "xaxis": {
           "automargin": true,
           "gridcolor": "white",
           "linecolor": "white",
           "ticks": "",
           "title": {
            "standoff": 15
           },
           "zerolinecolor": "white",
           "zerolinewidth": 2
          },
          "yaxis": {
           "automargin": true,
           "gridcolor": "white",
           "linecolor": "white",
           "ticks": "",
           "title": {
            "standoff": 15
           },
           "zerolinecolor": "white",
           "zerolinewidth": 2
          }
         }
        },
        "title": {
         "text": "Count (text) and Percentage(yaxis) of missing values in all the features (data: reviews)"
        },
        "xaxis": {
         "anchor": "y",
         "domain": [
          0,
          1
         ],
         "title": {
          "text": "Features"
         }
        },
        "yaxis": {
         "anchor": "x",
         "domain": [
          0,
          1
         ],
         "title": {
          "text": "Percentage of Missing values"
         }
        }
       }
      }
     },
     "metadata": {},
     "output_type": "display_data"
    }
   ],
   "source": [
    "df=reviews.isna().sum().round(2)\n",
    "df1 = (df*100/reviews.shape[0]).round(2)\n",
    "print('Missing count and percentages for each column are: \\n',df.astype('str') +' ('+ df1.astype('str')+'%)')\n",
    "\n",
    "fig = px.bar(x=df.index, y=df1,text = df.astype('str') +'('+ df1.astype('str')+'%)',\n",
    "            title=\"Count (text) and Percentage(yaxis) of missing values in all the features (data: reviews)\")\n",
    "fig.update_xaxes(title_text= 'Features')\n",
    "fig.update_yaxes(title_text= 'Percentage of Missing values')\n",
    "fig.show()\n",
    "del df, df1\n"
   ]
  },
  {
   "cell_type": "code",
   "execution_count": 16,
   "id": "5667b077",
   "metadata": {},
   "outputs": [
    {
     "name": "stdout",
     "output_type": "stream",
     "text": [
      "Missing count and percentages for each column are: \n",
      " productid      0 (0.0%)\n",
      "rate           0 (0.0%)\n",
      "cmt            0 (0.0%)\n",
      "username       0 (0.0%)\n",
      "productname    0 (0.0%)\n",
      "dtype: object\n"
     ]
    },
    {
     "data": {
      "application/vnd.plotly.v1+json": {
       "config": {
        "plotlyServerURL": "https://plot.ly"
       },
       "data": [
        {
         "alignmentgroup": "True",
         "hovertemplate": "x=%{x}<br>y=%{y}<br>text=%{text}<extra></extra>",
         "legendgroup": "",
         "marker": {
          "color": "#636efa",
          "pattern": {
           "shape": ""
          }
         },
         "name": "",
         "offsetgroup": "",
         "orientation": "v",
         "showlegend": false,
         "text": [
          "0(0.0%)",
          "0(0.0%)",
          "0(0.0%)",
          "0(0.0%)",
          "0(0.0%)"
         ],
         "textposition": "auto",
         "type": "bar",
         "x": [
          "productid",
          "rate",
          "cmt",
          "username",
          "productname"
         ],
         "xaxis": "x",
         "y": [
          0,
          0,
          0,
          0,
          0
         ],
         "yaxis": "y"
        }
       ],
       "layout": {
        "barmode": "relative",
        "legend": {
         "tracegroupgap": 0
        },
        "template": {
         "data": {
          "bar": [
           {
            "error_x": {
             "color": "#2a3f5f"
            },
            "error_y": {
             "color": "#2a3f5f"
            },
            "marker": {
             "line": {
              "color": "#E5ECF6",
              "width": 0.5
             },
             "pattern": {
              "fillmode": "overlay",
              "size": 10,
              "solidity": 0.2
             }
            },
            "type": "bar"
           }
          ],
          "barpolar": [
           {
            "marker": {
             "line": {
              "color": "#E5ECF6",
              "width": 0.5
             },
             "pattern": {
              "fillmode": "overlay",
              "size": 10,
              "solidity": 0.2
             }
            },
            "type": "barpolar"
           }
          ],
          "carpet": [
           {
            "aaxis": {
             "endlinecolor": "#2a3f5f",
             "gridcolor": "white",
             "linecolor": "white",
             "minorgridcolor": "white",
             "startlinecolor": "#2a3f5f"
            },
            "baxis": {
             "endlinecolor": "#2a3f5f",
             "gridcolor": "white",
             "linecolor": "white",
             "minorgridcolor": "white",
             "startlinecolor": "#2a3f5f"
            },
            "type": "carpet"
           }
          ],
          "choropleth": [
           {
            "colorbar": {
             "outlinewidth": 0,
             "ticks": ""
            },
            "type": "choropleth"
           }
          ],
          "contour": [
           {
            "colorbar": {
             "outlinewidth": 0,
             "ticks": ""
            },
            "colorscale": [
             [
              0,
              "#0d0887"
             ],
             [
              0.1111111111111111,
              "#46039f"
             ],
             [
              0.2222222222222222,
              "#7201a8"
             ],
             [
              0.3333333333333333,
              "#9c179e"
             ],
             [
              0.4444444444444444,
              "#bd3786"
             ],
             [
              0.5555555555555556,
              "#d8576b"
             ],
             [
              0.6666666666666666,
              "#ed7953"
             ],
             [
              0.7777777777777778,
              "#fb9f3a"
             ],
             [
              0.8888888888888888,
              "#fdca26"
             ],
             [
              1,
              "#f0f921"
             ]
            ],
            "type": "contour"
           }
          ],
          "contourcarpet": [
           {
            "colorbar": {
             "outlinewidth": 0,
             "ticks": ""
            },
            "type": "contourcarpet"
           }
          ],
          "heatmap": [
           {
            "colorbar": {
             "outlinewidth": 0,
             "ticks": ""
            },
            "colorscale": [
             [
              0,
              "#0d0887"
             ],
             [
              0.1111111111111111,
              "#46039f"
             ],
             [
              0.2222222222222222,
              "#7201a8"
             ],
             [
              0.3333333333333333,
              "#9c179e"
             ],
             [
              0.4444444444444444,
              "#bd3786"
             ],
             [
              0.5555555555555556,
              "#d8576b"
             ],
             [
              0.6666666666666666,
              "#ed7953"
             ],
             [
              0.7777777777777778,
              "#fb9f3a"
             ],
             [
              0.8888888888888888,
              "#fdca26"
             ],
             [
              1,
              "#f0f921"
             ]
            ],
            "type": "heatmap"
           }
          ],
          "heatmapgl": [
           {
            "colorbar": {
             "outlinewidth": 0,
             "ticks": ""
            },
            "colorscale": [
             [
              0,
              "#0d0887"
             ],
             [
              0.1111111111111111,
              "#46039f"
             ],
             [
              0.2222222222222222,
              "#7201a8"
             ],
             [
              0.3333333333333333,
              "#9c179e"
             ],
             [
              0.4444444444444444,
              "#bd3786"
             ],
             [
              0.5555555555555556,
              "#d8576b"
             ],
             [
              0.6666666666666666,
              "#ed7953"
             ],
             [
              0.7777777777777778,
              "#fb9f3a"
             ],
             [
              0.8888888888888888,
              "#fdca26"
             ],
             [
              1,
              "#f0f921"
             ]
            ],
            "type": "heatmapgl"
           }
          ],
          "histogram": [
           {
            "marker": {
             "pattern": {
              "fillmode": "overlay",
              "size": 10,
              "solidity": 0.2
             }
            },
            "type": "histogram"
           }
          ],
          "histogram2d": [
           {
            "colorbar": {
             "outlinewidth": 0,
             "ticks": ""
            },
            "colorscale": [
             [
              0,
              "#0d0887"
             ],
             [
              0.1111111111111111,
              "#46039f"
             ],
             [
              0.2222222222222222,
              "#7201a8"
             ],
             [
              0.3333333333333333,
              "#9c179e"
             ],
             [
              0.4444444444444444,
              "#bd3786"
             ],
             [
              0.5555555555555556,
              "#d8576b"
             ],
             [
              0.6666666666666666,
              "#ed7953"
             ],
             [
              0.7777777777777778,
              "#fb9f3a"
             ],
             [
              0.8888888888888888,
              "#fdca26"
             ],
             [
              1,
              "#f0f921"
             ]
            ],
            "type": "histogram2d"
           }
          ],
          "histogram2dcontour": [
           {
            "colorbar": {
             "outlinewidth": 0,
             "ticks": ""
            },
            "colorscale": [
             [
              0,
              "#0d0887"
             ],
             [
              0.1111111111111111,
              "#46039f"
             ],
             [
              0.2222222222222222,
              "#7201a8"
             ],
             [
              0.3333333333333333,
              "#9c179e"
             ],
             [
              0.4444444444444444,
              "#bd3786"
             ],
             [
              0.5555555555555556,
              "#d8576b"
             ],
             [
              0.6666666666666666,
              "#ed7953"
             ],
             [
              0.7777777777777778,
              "#fb9f3a"
             ],
             [
              0.8888888888888888,
              "#fdca26"
             ],
             [
              1,
              "#f0f921"
             ]
            ],
            "type": "histogram2dcontour"
           }
          ],
          "mesh3d": [
           {
            "colorbar": {
             "outlinewidth": 0,
             "ticks": ""
            },
            "type": "mesh3d"
           }
          ],
          "parcoords": [
           {
            "line": {
             "colorbar": {
              "outlinewidth": 0,
              "ticks": ""
             }
            },
            "type": "parcoords"
           }
          ],
          "pie": [
           {
            "automargin": true,
            "type": "pie"
           }
          ],
          "scatter": [
           {
            "fillpattern": {
             "fillmode": "overlay",
             "size": 10,
             "solidity": 0.2
            },
            "type": "scatter"
           }
          ],
          "scatter3d": [
           {
            "line": {
             "colorbar": {
              "outlinewidth": 0,
              "ticks": ""
             }
            },
            "marker": {
             "colorbar": {
              "outlinewidth": 0,
              "ticks": ""
             }
            },
            "type": "scatter3d"
           }
          ],
          "scattercarpet": [
           {
            "marker": {
             "colorbar": {
              "outlinewidth": 0,
              "ticks": ""
             }
            },
            "type": "scattercarpet"
           }
          ],
          "scattergeo": [
           {
            "marker": {
             "colorbar": {
              "outlinewidth": 0,
              "ticks": ""
             }
            },
            "type": "scattergeo"
           }
          ],
          "scattergl": [
           {
            "marker": {
             "colorbar": {
              "outlinewidth": 0,
              "ticks": ""
             }
            },
            "type": "scattergl"
           }
          ],
          "scattermapbox": [
           {
            "marker": {
             "colorbar": {
              "outlinewidth": 0,
              "ticks": ""
             }
            },
            "type": "scattermapbox"
           }
          ],
          "scatterpolar": [
           {
            "marker": {
             "colorbar": {
              "outlinewidth": 0,
              "ticks": ""
             }
            },
            "type": "scatterpolar"
           }
          ],
          "scatterpolargl": [
           {
            "marker": {
             "colorbar": {
              "outlinewidth": 0,
              "ticks": ""
             }
            },
            "type": "scatterpolargl"
           }
          ],
          "scatterternary": [
           {
            "marker": {
             "colorbar": {
              "outlinewidth": 0,
              "ticks": ""
             }
            },
            "type": "scatterternary"
           }
          ],
          "surface": [
           {
            "colorbar": {
             "outlinewidth": 0,
             "ticks": ""
            },
            "colorscale": [
             [
              0,
              "#0d0887"
             ],
             [
              0.1111111111111111,
              "#46039f"
             ],
             [
              0.2222222222222222,
              "#7201a8"
             ],
             [
              0.3333333333333333,
              "#9c179e"
             ],
             [
              0.4444444444444444,
              "#bd3786"
             ],
             [
              0.5555555555555556,
              "#d8576b"
             ],
             [
              0.6666666666666666,
              "#ed7953"
             ],
             [
              0.7777777777777778,
              "#fb9f3a"
             ],
             [
              0.8888888888888888,
              "#fdca26"
             ],
             [
              1,
              "#f0f921"
             ]
            ],
            "type": "surface"
           }
          ],
          "table": [
           {
            "cells": {
             "fill": {
              "color": "#EBF0F8"
             },
             "line": {
              "color": "white"
             }
            },
            "header": {
             "fill": {
              "color": "#C8D4E3"
             },
             "line": {
              "color": "white"
             }
            },
            "type": "table"
           }
          ]
         },
         "layout": {
          "annotationdefaults": {
           "arrowcolor": "#2a3f5f",
           "arrowhead": 0,
           "arrowwidth": 1
          },
          "autotypenumbers": "strict",
          "coloraxis": {
           "colorbar": {
            "outlinewidth": 0,
            "ticks": ""
           }
          },
          "colorscale": {
           "diverging": [
            [
             0,
             "#8e0152"
            ],
            [
             0.1,
             "#c51b7d"
            ],
            [
             0.2,
             "#de77ae"
            ],
            [
             0.3,
             "#f1b6da"
            ],
            [
             0.4,
             "#fde0ef"
            ],
            [
             0.5,
             "#f7f7f7"
            ],
            [
             0.6,
             "#e6f5d0"
            ],
            [
             0.7,
             "#b8e186"
            ],
            [
             0.8,
             "#7fbc41"
            ],
            [
             0.9,
             "#4d9221"
            ],
            [
             1,
             "#276419"
            ]
           ],
           "sequential": [
            [
             0,
             "#0d0887"
            ],
            [
             0.1111111111111111,
             "#46039f"
            ],
            [
             0.2222222222222222,
             "#7201a8"
            ],
            [
             0.3333333333333333,
             "#9c179e"
            ],
            [
             0.4444444444444444,
             "#bd3786"
            ],
            [
             0.5555555555555556,
             "#d8576b"
            ],
            [
             0.6666666666666666,
             "#ed7953"
            ],
            [
             0.7777777777777778,
             "#fb9f3a"
            ],
            [
             0.8888888888888888,
             "#fdca26"
            ],
            [
             1,
             "#f0f921"
            ]
           ],
           "sequentialminus": [
            [
             0,
             "#0d0887"
            ],
            [
             0.1111111111111111,
             "#46039f"
            ],
            [
             0.2222222222222222,
             "#7201a8"
            ],
            [
             0.3333333333333333,
             "#9c179e"
            ],
            [
             0.4444444444444444,
             "#bd3786"
            ],
            [
             0.5555555555555556,
             "#d8576b"
            ],
            [
             0.6666666666666666,
             "#ed7953"
            ],
            [
             0.7777777777777778,
             "#fb9f3a"
            ],
            [
             0.8888888888888888,
             "#fdca26"
            ],
            [
             1,
             "#f0f921"
            ]
           ]
          },
          "colorway": [
           "#636efa",
           "#EF553B",
           "#00cc96",
           "#ab63fa",
           "#FFA15A",
           "#19d3f3",
           "#FF6692",
           "#B6E880",
           "#FF97FF",
           "#FECB52"
          ],
          "font": {
           "color": "#2a3f5f"
          },
          "geo": {
           "bgcolor": "white",
           "lakecolor": "white",
           "landcolor": "#E5ECF6",
           "showlakes": true,
           "showland": true,
           "subunitcolor": "white"
          },
          "hoverlabel": {
           "align": "left"
          },
          "hovermode": "closest",
          "mapbox": {
           "style": "light"
          },
          "paper_bgcolor": "white",
          "plot_bgcolor": "#E5ECF6",
          "polar": {
           "angularaxis": {
            "gridcolor": "white",
            "linecolor": "white",
            "ticks": ""
           },
           "bgcolor": "#E5ECF6",
           "radialaxis": {
            "gridcolor": "white",
            "linecolor": "white",
            "ticks": ""
           }
          },
          "scene": {
           "xaxis": {
            "backgroundcolor": "#E5ECF6",
            "gridcolor": "white",
            "gridwidth": 2,
            "linecolor": "white",
            "showbackground": true,
            "ticks": "",
            "zerolinecolor": "white"
           },
           "yaxis": {
            "backgroundcolor": "#E5ECF6",
            "gridcolor": "white",
            "gridwidth": 2,
            "linecolor": "white",
            "showbackground": true,
            "ticks": "",
            "zerolinecolor": "white"
           },
           "zaxis": {
            "backgroundcolor": "#E5ECF6",
            "gridcolor": "white",
            "gridwidth": 2,
            "linecolor": "white",
            "showbackground": true,
            "ticks": "",
            "zerolinecolor": "white"
           }
          },
          "shapedefaults": {
           "line": {
            "color": "#2a3f5f"
           }
          },
          "ternary": {
           "aaxis": {
            "gridcolor": "white",
            "linecolor": "white",
            "ticks": ""
           },
           "baxis": {
            "gridcolor": "white",
            "linecolor": "white",
            "ticks": ""
           },
           "bgcolor": "#E5ECF6",
           "caxis": {
            "gridcolor": "white",
            "linecolor": "white",
            "ticks": ""
           }
          },
          "title": {
           "x": 0.05
          },
          "xaxis": {
           "automargin": true,
           "gridcolor": "white",
           "linecolor": "white",
           "ticks": "",
           "title": {
            "standoff": 15
           },
           "zerolinecolor": "white",
           "zerolinewidth": 2
          },
          "yaxis": {
           "automargin": true,
           "gridcolor": "white",
           "linecolor": "white",
           "ticks": "",
           "title": {
            "standoff": 15
           },
           "zerolinecolor": "white",
           "zerolinewidth": 2
          }
         }
        },
        "title": {
         "text": "Count (text) and Percentage(yaxis) of missing values in all the features (data: reviews)"
        },
        "xaxis": {
         "anchor": "y",
         "domain": [
          0,
          1
         ],
         "title": {
          "text": "Features"
         }
        },
        "yaxis": {
         "anchor": "x",
         "domain": [
          0,
          1
         ],
         "title": {
          "text": "Percentage of Missing values"
         }
        }
       }
      }
     },
     "metadata": {},
     "output_type": "display_data"
    }
   ],
   "source": [
    "reviews = reviews.dropna()\n",
    "df=reviews.isna().sum().round(2)\n",
    "df1 = (df*100/reviews.shape[0]).round(2)\n",
    "print('Missing count and percentages for each column are: \\n',df.astype('str') +' ('+ df1.astype('str')+'%)')\n",
    "\n",
    "fig = px.bar(x=df.index, y=df1,text = df.astype('str') +'('+ df1.astype('str')+'%)',\n",
    "            title=\"Count (text) and Percentage(yaxis) of missing values in all the features (data: reviews)\")\n",
    "fig.update_xaxes(title_text= 'Features')\n",
    "fig.update_yaxes(title_text= 'Percentage of Missing values')\n",
    "fig.show()\n",
    "del df, df1"
   ]
  },
  {
   "cell_type": "markdown",
   "id": "clinical-track",
   "metadata": {
    "papermill": {
     "duration": 0.08194,
     "end_time": "2021-05-17T07:45:34.569066",
     "exception": false,
     "start_time": "2021-05-17T07:45:34.487126",
     "status": "completed"
    },
    "tags": []
   },
   "source": [
    "Thus these three features have approx 4.5% missing values\n",
    "'score' and 'score_max' have exactly same number of missing values"
   ]
  },
  {
   "cell_type": "code",
   "execution_count": 17,
   "id": "irish-discrimination",
   "metadata": {
    "execution": {
     "iopub.execute_input": "2021-05-17T07:45:34.740366Z",
     "iopub.status.busy": "2021-05-17T07:45:34.739243Z",
     "iopub.status.idle": "2021-05-17T07:45:39.075128Z",
     "shell.execute_reply": "2021-05-17T07:45:39.075588Z"
    },
    "papermill": {
     "duration": 4.423454,
     "end_time": "2021-05-17T07:45:39.075785",
     "exception": false,
     "start_time": "2021-05-17T07:45:34.652331",
     "status": "completed"
    },
    "tags": []
   },
   "outputs": [
    {
     "name": "stdout",
     "output_type": "stream",
     "text": [
      "Number of unique values in each feature: \n",
      " productid        1085\n",
      "rate                5\n",
      "cmt            348483\n",
      "username       385178\n",
      "productname       984\n",
      "dtype: int64\n"
     ]
    }
   ],
   "source": [
    "print('Number of unique values in each feature: \\n',reviews.nunique())"
   ]
  },
  {
   "cell_type": "code",
   "execution_count": 18,
   "id": "static-explanation",
   "metadata": {
    "execution": {
     "iopub.execute_input": "2021-05-17T07:45:50.967593Z",
     "iopub.status.busy": "2021-05-17T07:45:50.966841Z",
     "iopub.status.idle": "2021-05-17T07:45:50.970578Z",
     "shell.execute_reply": "2021-05-17T07:45:50.971077Z"
    },
    "papermill": {
     "duration": 0.098559,
     "end_time": "2021-05-17T07:45:50.971294",
     "exception": false,
     "start_time": "2021-05-17T07:45:50.872735",
     "status": "completed"
    },
    "tags": []
   },
   "outputs": [
    {
     "data": {
      "text/plain": [
       "(1643446,)"
      ]
     },
     "execution_count": 18,
     "metadata": {},
     "output_type": "execute_result"
    }
   ],
   "source": [
    "reviews['productname'].shape"
   ]
  },
  {
   "cell_type": "code",
   "execution_count": 19,
   "id": "requested-douglas",
   "metadata": {
    "execution": {
     "iopub.execute_input": "2021-05-17T07:45:51.153629Z",
     "iopub.status.busy": "2021-05-17T07:45:51.152990Z",
     "iopub.status.idle": "2021-05-17T07:45:51.900746Z",
     "shell.execute_reply": "2021-05-17T07:45:51.899745Z"
    },
    "papermill": {
     "duration": 0.840071,
     "end_time": "2021-05-17T07:45:51.900933",
     "exception": false,
     "start_time": "2021-05-17T07:45:51.060862",
     "status": "completed"
    },
    "tags": []
   },
   "outputs": [
    {
     "name": "stdout",
     "output_type": "stream",
     "text": [
      "Distribution of number of ratings per item (Clipped at 10): \n",
      " realme 8 (Cyber Silver, 128 GB)           29405\n",
      "LAVA A1                                   23740\n",
      "SAMSUNG Guru Music 2                      23721\n",
      "POCO M3 (Cool Blue, 64 GB)                18755\n",
      "realme 8 (Cyber Black, 128 GB)            17601\n",
      "Micromax X741                             14643\n",
      "realme Narzo 30 (Racing Silver, 64 GB)    14498\n",
      "Kechaoda K115                             14455\n",
      "I Kall K3310                              13846\n",
      "Nokia 105 SS 2021                         11938\n",
      "Name: productname, dtype: int64\n"
     ]
    },
    {
     "data": {
      "image/png": "[encoded data removed]",
      "text/plain": [
       "<Figure size 432x288 with 1 Axes>"
      ]
     },
     "metadata": {
      "needs_background": "light"
     },
     "output_type": "display_data"
    }
   ],
   "source": [
    "product = reviews['productname'].value_counts()[:10]\n",
    "print('Distribution of number of ratings per item (Clipped at 10): \\n',product)\n",
    "sns.barplot(y=product.index,x=product)\n",
    "plt.tight_layout()\n",
    "plt.show()"
   ]
  },
  {
   "cell_type": "code",
   "execution_count": 20,
   "id": "transparent-consolidation",
   "metadata": {
    "execution": {
     "iopub.execute_input": "2021-05-17T07:45:52.726838Z",
     "iopub.status.busy": "2021-05-17T07:45:52.726183Z",
     "iopub.status.idle": "2021-05-17T07:45:53.759595Z",
     "shell.execute_reply": "2021-05-17T07:45:53.760107Z"
    },
    "papermill": {
     "duration": 1.769676,
     "end_time": "2021-05-17T07:45:53.760302",
     "exception": false,
     "start_time": "2021-05-17T07:45:51.990626",
     "status": "completed"
    },
    "tags": []
   },
   "outputs": [
    {
     "name": "stdout",
     "output_type": "stream",
     "text": [
      "Distribution of number of ratings per user(Clipped at 10): \n",
      " Flipkart Customer    323134\n",
      "Deepak Kumar           1344\n",
      "Amit Kumar             1202\n",
      "Rahul Kumar            1172\n",
      "Ajay Kumar              863\n",
      "Manish Kumar            821\n",
      "Anil Kumar              804\n",
      "Abhishek Kumar          787\n",
      "Pankaj Kumar            774\n",
      "Ravi Kumar              749\n",
      "Name: username, dtype: int64\n"
     ]
    },
    {
     "data": {
      "image/png": "[encoded data removed]",
      "text/plain": [
       "<Figure size 432x288 with 1 Axes>"
      ]
     },
     "metadata": {
      "needs_background": "light"
     },
     "output_type": "display_data"
    }
   ],
   "source": [
    "users = reviews['username'].value_counts(dropna=False)[:10]\n",
    "print('Distribution of number of ratings per user(Clipped at 10): \\n',users)\n",
    "users.index = users.index.map(str)\n",
    "sns.barplot(y=users.index,x=users)\n",
    "plt.tight_layout()\n",
    "plt.show()"
   ]
  },
  {
   "cell_type": "markdown",
   "id": "forced-toyota",
   "metadata": {
    "papermill": {
     "duration": 0.092176,
     "end_time": "2021-05-17T07:45:53.944032",
     "exception": false,
     "start_time": "2021-05-17T07:45:53.851856",
     "status": "completed"
    },
    "tags": []
   },
   "source": [
    "Following observations are made:  \n",
    "1. Most active user is 'Flipkart customer'\n",
    "2. 'Anonymous' and 'unknown' users are those whose names are not known. Thus we can use this to impute blank values in 'username' column\n"
   ]
  },
  {
   "cell_type": "markdown",
   "id": "parallel-rehabilitation",
   "metadata": {
    "papermill": {
     "duration": 0.090405,
     "end_time": "2021-05-17T07:45:54.126189",
     "exception": false,
     "start_time": "2021-05-17T07:45:54.035784",
     "status": "completed"
    },
    "tags": []
   },
   "source": [
    "names like 'einer Kundin', 'einem Kunden','Anonymous' and 'unknown' can be interpreted in the same way i.e. an 'unknown customer'. Let's replace these names too"
   ]
  },
  {
   "cell_type": "code",
   "execution_count": 21,
   "id": "determined-astrology",
   "metadata": {
    "execution": {
     "iopub.execute_input": "2021-05-17T07:45:54.434967Z",
     "iopub.status.busy": "2021-05-17T07:45:54.433722Z",
     "iopub.status.idle": "2021-05-17T07:45:54.812920Z",
     "shell.execute_reply": "2021-05-17T07:45:54.811942Z"
    },
    "papermill": {
     "duration": 0.596729,
     "end_time": "2021-05-17T07:45:54.813082",
     "exception": false,
     "start_time": "2021-05-17T07:45:54.216353",
     "status": "completed"
    },
    "tags": []
   },
   "outputs": [],
   "source": [
    "unknowns = ['anonymous']\n",
    "reviews['username'].replace(to_replace = unknowns, \n",
    "                          value = 'Anonymous', \n",
    "                          inplace=True)"
   ]
  },
  {
   "cell_type": "code",
   "execution_count": 22,
   "id": "occupational-joining",
   "metadata": {
    "execution": {
     "iopub.execute_input": "2021-05-17T07:45:55.620320Z",
     "iopub.status.busy": "2021-05-17T07:45:55.619621Z",
     "iopub.status.idle": "2021-05-17T07:45:56.678353Z",
     "shell.execute_reply": "2021-05-17T07:45:56.677785Z"
    },
    "papermill": {
     "duration": 1.774255,
     "end_time": "2021-05-17T07:45:56.678501",
     "exception": false,
     "start_time": "2021-05-17T07:45:54.904246",
     "status": "completed"
    },
    "tags": []
   },
   "outputs": [
    {
     "name": "stdout",
     "output_type": "stream",
     "text": [
      "Distribution of number of ratings per user(Clipped at 10): \n",
      " Flipkart Customer    323134\n",
      "Deepak Kumar           1344\n",
      "Amit Kumar             1202\n",
      "Rahul Kumar            1172\n",
      "Ajay Kumar              863\n",
      "Manish Kumar            821\n",
      "Anil Kumar              804\n",
      "Abhishek Kumar          787\n",
      "Pankaj Kumar            774\n",
      "Ravi Kumar              749\n",
      "Name: username, dtype: int64\n"
     ]
    },
    {
     "data": {
      "image/png": "[encoded data removed]",
      "text/plain": [
       "<Figure size 432x288 with 1 Axes>"
      ]
     },
     "metadata": {
      "needs_background": "light"
     },
     "output_type": "display_data"
    }
   ],
   "source": [
    "users = reviews['username'].value_counts(dropna=False)[:10]\n",
    "print('Distribution of number of ratings per user(Clipped at 10): \\n',users)\n",
    "users.index = users.index.map(str)\n",
    "sns.barplot(y=users.index,x=users)\n",
    "plt.tight_layout()\n",
    "plt.show()"
   ]
  },
  {
   "cell_type": "code",
   "execution_count": 23,
   "id": "pointed-helmet",
   "metadata": {
    "execution": {
     "iopub.execute_input": "2021-05-17T07:45:56.871495Z",
     "iopub.status.busy": "2021-05-17T07:45:56.870776Z",
     "iopub.status.idle": "2021-05-17T07:45:56.893472Z",
     "shell.execute_reply": "2021-05-17T07:45:56.892896Z"
    },
    "papermill": {
     "duration": 0.122428,
     "end_time": "2021-05-17T07:45:56.893616",
     "exception": false,
     "start_time": "2021-05-17T07:45:56.771188",
     "status": "completed"
    },
    "tags": []
   },
   "outputs": [
    {
     "name": "stdout",
     "output_type": "stream",
     "text": [
      "Uniqe values in the \"score\" feature: \n",
      " [5. 3. 4. 1. 2.]\n"
     ]
    }
   ],
   "source": [
    "# Let's check the score column of the data\n",
    "print('Uniqe values in the \"score\" feature: \\n',reviews.rate.unique())"
   ]
  },
  {
   "cell_type": "markdown",
   "id": "italian-handy",
   "metadata": {
    "papermill": {
     "duration": 0.09709,
     "end_time": "2021-05-17T07:45:57.085798",
     "exception": false,
     "start_time": "2021-05-17T07:45:56.988708",
     "status": "completed"
    },
    "tags": []
   },
   "source": [
    "Let's round it off to nearest integer"
   ]
  },
  {
   "cell_type": "code",
   "execution_count": 24,
   "id": "australian-toolbox",
   "metadata": {
    "execution": {
     "iopub.execute_input": "2021-05-17T07:45:57.294367Z",
     "iopub.status.busy": "2021-05-17T07:45:57.293610Z",
     "iopub.status.idle": "2021-05-17T07:45:57.302222Z",
     "shell.execute_reply": "2021-05-17T07:45:57.301512Z"
    },
    "papermill": {
     "duration": 0.12343,
     "end_time": "2021-05-17T07:45:57.302381",
     "exception": false,
     "start_time": "2021-05-17T07:45:57.178951",
     "status": "completed"
    },
    "tags": []
   },
   "outputs": [],
   "source": [
    "relevant_features=['username','productname','rate', 'productid']\n"
   ]
  },
  {
   "cell_type": "code",
   "execution_count": 25,
   "id": "romantic-excess",
   "metadata": {
    "execution": {
     "iopub.execute_input": "2021-05-17T07:45:57.521405Z",
     "iopub.status.busy": "2021-05-17T07:45:57.520405Z",
     "iopub.status.idle": "2021-05-17T07:46:00.205927Z",
     "shell.execute_reply": "2021-05-17T07:46:00.204869Z"
    },
    "papermill": {
     "duration": 2.803576,
     "end_time": "2021-05-17T07:46:00.206130",
     "exception": false,
     "start_time": "2021-05-17T07:45:57.402554",
     "status": "completed"
    },
    "tags": []
   },
   "outputs": [
    {
     "name": "stdout",
     "output_type": "stream",
     "text": [
      "Number of duplicate rows:  205540\n"
     ]
    }
   ],
   "source": [
    "print('Number of duplicate rows: ', reviews.duplicated().sum())"
   ]
  },
  {
   "cell_type": "code",
   "execution_count": 26,
   "id": "secondary-coverage",
   "metadata": {
    "execution": {
     "iopub.execute_input": "2021-05-17T07:46:00.399779Z",
     "iopub.status.busy": "2021-05-17T07:46:00.399043Z",
     "iopub.status.idle": "2021-05-17T07:46:00.402808Z",
     "shell.execute_reply": "2021-05-17T07:46:00.402160Z"
    },
    "papermill": {
     "duration": 0.102025,
     "end_time": "2021-05-17T07:46:00.403027",
     "exception": false,
     "start_time": "2021-05-17T07:46:00.301002",
     "status": "completed"
    },
    "tags": []
   },
   "outputs": [
    {
     "name": "stdout",
     "output_type": "stream",
     "text": [
      "5\n",
      "1643446\n"
     ]
    }
   ],
   "source": [
    "orgnl_rows = reviews.shape[0]\n",
    "orgnl_columns = reviews.shape[1]\n",
    "\n",
    "print(orgnl_columns)\n",
    "print(orgnl_rows)"
   ]
  },
  {
   "cell_type": "markdown",
   "id": "grand-poison",
   "metadata": {
    "papermill": {
     "duration": 0.094124,
     "end_time": "2021-05-17T07:46:00.591614",
     "exception": false,
     "start_time": "2021-05-17T07:46:00.497490",
     "status": "completed"
    },
    "tags": []
   },
   "source": [
    "### 1.4. Modification 1: revs1: Data cleaning, Imputation and rounding-off <a id=\"clean_impute_round-off\"></a>\n",
    "[Go to top](#toc)"
   ]
  },
  {
   "cell_type": "code",
   "execution_count": 27,
   "id": "packed-pontiac",
   "metadata": {
    "execution": {
     "iopub.execute_input": "2021-05-17T07:46:00.787574Z",
     "iopub.status.busy": "2021-05-17T07:46:00.786785Z",
     "iopub.status.idle": "2021-05-17T07:46:03.214839Z",
     "shell.execute_reply": "2021-05-17T07:46:03.214351Z"
    },
    "papermill": {
     "duration": 2.52923,
     "end_time": "2021-05-17T07:46:03.214998",
     "exception": false,
     "start_time": "2021-05-17T07:46:00.685768",
     "status": "completed"
    },
    "tags": []
   },
   "outputs": [
    {
     "name": "stdout",
     "output_type": "stream",
     "text": [
      "Step1: revs1 Shape after removing irrelevant features: Rows: 1643446 and Columns: 4\n",
      "\n",
      "Step2: Round-off: Unique values in the \"score\" feature(after rounding-off): \n",
      " [5, 3, 4, 1, 2]\n",
      "\n",
      "Step3: Imputation of \"rate\"  with median and \"username\" with \"Anonymous\"\n",
      "\n",
      "Step4: revs1 Shape(after removing missing values): Rows: 1643438 and Columns: 4\n",
      "\n",
      "Step5: revs1 Shape(after removing duplicates): Rows: 1192763 and Columns: 4\n",
      "\n",
      "Overall 27.42% samples are dropped\n",
      "\n"
     ]
    },
    {
     "data": {
      "text/html": [
       "<div>\n",
       "<style scoped>\n",
       "    .dataframe tbody tr th:only-of-type {\n",
       "        vertical-align: middle;\n",
       "    }\n",
       "\n",
       "    .dataframe tbody tr th {\n",
       "        vertical-align: top;\n",
       "    }\n",
       "\n",
       "    .dataframe thead th {\n",
       "        text-align: right;\n",
       "    }\n",
       "</style>\n",
       "<table border=\"1\" class=\"dataframe\">\n",
       "  <thead>\n",
       "    <tr style=\"text-align: right;\">\n",
       "      <th></th>\n",
       "      <th>username</th>\n",
       "      <th>productname</th>\n",
       "      <th>rate</th>\n",
       "      <th>productid</th>\n",
       "    </tr>\n",
       "  </thead>\n",
       "  <tbody>\n",
       "    <tr>\n",
       "      <th>0</th>\n",
       "      <td>Naugachhia</td>\n",
       "      <td>Nokia 105 SS</td>\n",
       "      <td>5</td>\n",
       "      <td>626fc73b92862a001100054e</td>\n",
       "    </tr>\n",
       "    <tr>\n",
       "      <th>1</th>\n",
       "      <td>Darbhanga</td>\n",
       "      <td>Nokia 105 SS</td>\n",
       "      <td>3</td>\n",
       "      <td>626fc73b92862a001100054e</td>\n",
       "    </tr>\n",
       "    <tr>\n",
       "      <th>2</th>\n",
       "      <td>Mandir Hasaud</td>\n",
       "      <td>SAMSUNG Galaxy M33 5G (Deep Ocean Blue, 128 GB)</td>\n",
       "      <td>5</td>\n",
       "      <td>626fc73b92862a0011000566</td>\n",
       "    </tr>\n",
       "    <tr>\n",
       "      <th>3</th>\n",
       "      <td>Mokokchung</td>\n",
       "      <td>SAMSUNG Galaxy M33 5G (Deep Ocean Blue, 128 GB)</td>\n",
       "      <td>4</td>\n",
       "      <td>626fc73b92862a0011000566</td>\n",
       "    </tr>\n",
       "    <tr>\n",
       "      <th>4</th>\n",
       "      <td>Madurai</td>\n",
       "      <td>SAMSUNG Galaxy M33 5G (Deep Ocean Blue, 128 GB)</td>\n",
       "      <td>5</td>\n",
       "      <td>626fc73b92862a0011000566</td>\n",
       "    </tr>\n",
       "    <tr>\n",
       "      <th>...</th>\n",
       "      <td>...</td>\n",
       "      <td>...</td>\n",
       "      <td>...</td>\n",
       "      <td>...</td>\n",
       "    </tr>\n",
       "    <tr>\n",
       "      <th>1658752</th>\n",
       "      <td>Kapileswar Dash</td>\n",
       "      <td>POCO M2 Pro (Two Shades of Black, 64 GB)</td>\n",
       "      <td>3</td>\n",
       "      <td>626fc73b92862a0011000867</td>\n",
       "    </tr>\n",
       "    <tr>\n",
       "      <th>1658753</th>\n",
       "      <td>Afif  Hossain</td>\n",
       "      <td>POCO M2 Pro (Two Shades of Black, 64 GB)</td>\n",
       "      <td>5</td>\n",
       "      <td>626fc73b92862a0011000867</td>\n",
       "    </tr>\n",
       "    <tr>\n",
       "      <th>1658755</th>\n",
       "      <td>D C Gupta</td>\n",
       "      <td>POCO M2 Pro (Two Shades of Black, 64 GB)</td>\n",
       "      <td>2</td>\n",
       "      <td>626fc73b92862a0011000867</td>\n",
       "    </tr>\n",
       "    <tr>\n",
       "      <th>1658756</th>\n",
       "      <td>Keishna Chetry</td>\n",
       "      <td>POCO M2 Pro (Two Shades of Black, 64 GB)</td>\n",
       "      <td>5</td>\n",
       "      <td>626fc73b92862a0011000867</td>\n",
       "    </tr>\n",
       "    <tr>\n",
       "      <th>1658757</th>\n",
       "      <td>Shiva Kumar</td>\n",
       "      <td>POCO M2 Pro (Two Shades of Black, 64 GB)</td>\n",
       "      <td>4</td>\n",
       "      <td>626fc73b92862a0011000867</td>\n",
       "    </tr>\n",
       "  </tbody>\n",
       "</table>\n",
       "<p>1192763 rows × 4 columns</p>\n",
       "</div>"
      ],
      "text/plain": [
       "                username                                      productname  \\\n",
       "0             Naugachhia                                     Nokia 105 SS   \n",
       "1              Darbhanga                                     Nokia 105 SS   \n",
       "2          Mandir Hasaud  SAMSUNG Galaxy M33 5G (Deep Ocean Blue, 128 GB)   \n",
       "3             Mokokchung  SAMSUNG Galaxy M33 5G (Deep Ocean Blue, 128 GB)   \n",
       "4                Madurai  SAMSUNG Galaxy M33 5G (Deep Ocean Blue, 128 GB)   \n",
       "...                  ...                                              ...   \n",
       "1658752  Kapileswar Dash         POCO M2 Pro (Two Shades of Black, 64 GB)   \n",
       "1658753   Afif  Hossain          POCO M2 Pro (Two Shades of Black, 64 GB)   \n",
       "1658755        D C Gupta         POCO M2 Pro (Two Shades of Black, 64 GB)   \n",
       "1658756   Keishna Chetry         POCO M2 Pro (Two Shades of Black, 64 GB)   \n",
       "1658757     Shiva Kumar          POCO M2 Pro (Two Shades of Black, 64 GB)   \n",
       "\n",
       "         rate                 productid  \n",
       "0           5  626fc73b92862a001100054e  \n",
       "1           3  626fc73b92862a001100054e  \n",
       "2           5  626fc73b92862a0011000566  \n",
       "3           4  626fc73b92862a0011000566  \n",
       "4           5  626fc73b92862a0011000566  \n",
       "...       ...                       ...  \n",
       "1658752     3  626fc73b92862a0011000867  \n",
       "1658753     5  626fc73b92862a0011000867  \n",
       "1658755     2  626fc73b92862a0011000867  \n",
       "1658756     5  626fc73b92862a0011000867  \n",
       "1658757     4  626fc73b92862a0011000867  \n",
       "\n",
       "[1192763 rows x 4 columns]"
      ]
     },
     "execution_count": 27,
     "metadata": {},
     "output_type": "execute_result"
    }
   ],
   "source": [
    "revs1 = reviews.copy()\n",
    "\n",
    "# Delete data which is not useful anymore, to save memory\n",
    "del reviews\n",
    "\n",
    "# Step1: remove irrelevant features\n",
    "revs1 = revs1.loc[:,relevant_features]\n",
    "print(f'Step1: revs1 Shape after removing irrelevant features: Rows: {revs1.shape[0]} and Columns: {revs1.shape[1]}\\n')\n",
    "\n",
    "# Step2: Round-off score feature to nearest integer\n",
    "revs1['rate'] = revs1['rate'].round(0).astype('Int64')\n",
    "print('Step2: Round-off: Unique values in the \"score\" feature(after rounding-off): \\n',list(revs1.rate.unique()))\n",
    "\n",
    "# Step3: Impute missing values in score feature with median\n",
    "revs1['rate'] = revs1['rate'].fillna(revs1['rate'].median())\n",
    "print('\\nStep3: Imputation of \"rate\"  with median and \"username\" with \"Anonymous\"')\n",
    "\n",
    "# Step4: remove samples with missing values in 'Product' and 'author' feature and also 'Anonymous' values\n",
    "revs1.dropna(inplace=True)\n",
    "revs1 = revs1[revs1[\"username\"] != 'Anonymous']\n",
    "print(f'\\nStep4: revs1 Shape(after removing missing values): Rows: {revs1.shape[0]} and Columns: {revs1.shape[1]}\\n')\n",
    "\n",
    "# Step5: remove duplicates, if any\n",
    "revs1 = revs1.drop_duplicates()\n",
    "print(f'Step5: revs1 Shape(after removing duplicates): Rows: {revs1.shape[0]} and Columns: {revs1.shape[1]}\\n')\n",
    "\n",
    "print(f'Overall {round(100 - revs1.shape[0]*100/orgnl_rows,2)}% samples are dropped\\n')\n",
    "revs1"
   ]
  },
  {
   "cell_type": "markdown",
   "id": "buried-stock",
   "metadata": {
    "papermill": {
     "duration": 0.094353,
     "end_time": "2021-05-17T07:46:03.404267",
     "exception": false,
     "start_time": "2021-05-17T07:46:03.309914",
     "status": "completed"
    },
    "tags": []
   },
   "source": [
    "### 1.5. Data split <a id=\"data_split\"></a>\n",
    "[Go to top](#toc)"
   ]
  },
  {
   "cell_type": "code",
   "execution_count": 28,
   "id": "existing-adelaide",
   "metadata": {
    "execution": {
     "iopub.execute_input": "2021-05-17T07:46:03.600473Z",
     "iopub.status.busy": "2021-05-17T07:46:03.599559Z",
     "iopub.status.idle": "2021-05-17T07:46:04.012568Z",
     "shell.execute_reply": "2021-05-17T07:46:04.013080Z"
    },
    "papermill": {
     "duration": 0.513451,
     "end_time": "2021-05-17T07:46:04.013251",
     "exception": false,
     "start_time": "2021-05-17T07:46:03.499800",
     "status": "completed"
    },
    "tags": []
   },
   "outputs": [
    {
     "name": "stdout",
     "output_type": "stream",
     "text": [
      "revs2 Shape: Rows: 1000000 and Columns: 4\n",
      "\n"
     ]
    }
   ],
   "source": [
    "# separate 1 million data samples\n",
    "revs_1m = revs1.sample(n=1000000, random_state=RS)\n",
    "print(f'revs2 Shape: Rows: {revs_1m.shape[0]} and Columns: {revs_1m.shape[1]}\\n')"
   ]
  },
  {
   "cell_type": "markdown",
   "id": "fitted-empty",
   "metadata": {
    "papermill": {
     "duration": 0.095882,
     "end_time": "2021-05-17T07:46:04.207001",
     "exception": false,
     "start_time": "2021-05-17T07:46:04.111119",
     "status": "completed"
    },
    "tags": []
   },
   "source": [
    "## 2. Analysis <a id=\"analysis\"></a>\n",
    "[Go to top](#toc)"
   ]
  },
  {
   "cell_type": "code",
   "execution_count": 29,
   "id": "educated-requirement",
   "metadata": {
    "execution": {
     "iopub.execute_input": "2021-05-17T07:46:04.842535Z",
     "iopub.status.busy": "2021-05-17T07:46:04.653391Z",
     "iopub.status.idle": "2021-05-17T07:46:04.850729Z",
     "shell.execute_reply": "2021-05-17T07:46:04.850179Z"
    },
    "papermill": {
     "duration": 0.54868,
     "end_time": "2021-05-17T07:46:04.850867",
     "exception": false,
     "start_time": "2021-05-17T07:46:04.302187",
     "status": "completed"
    },
    "tags": []
   },
   "outputs": [
    {
     "name": "stdout",
     "output_type": "stream",
     "text": [
      "Most rated features/products: \n",
      "\n",
      " realme 8 (Cyber Silver, 128 GB)           16619\n",
      "POCO M3 (Cool Blue, 64 GB)                12051\n",
      "realme 8 (Cyber Black, 128 GB)            11675\n",
      "realme Narzo 30 (Racing Silver, 64 GB)     9265\n",
      "LAVA A1                                    7521\n",
      "Name: productname, dtype: int64\n"
     ]
    }
   ],
   "source": [
    "# 1. Most rated features\n",
    "print('Most rated features/products: \\n\\n',revs_1m['productname'].value_counts().head())"
   ]
  },
  {
   "cell_type": "code",
   "execution_count": 30,
   "id": "confirmed-fruit",
   "metadata": {
    "execution": {
     "iopub.execute_input": "2021-05-17T07:46:05.049133Z",
     "iopub.status.busy": "2021-05-17T07:46:05.048232Z",
     "iopub.status.idle": "2021-05-17T07:46:05.988439Z",
     "shell.execute_reply": "2021-05-17T07:46:05.987699Z"
    },
    "papermill": {
     "duration": 1.042298,
     "end_time": "2021-05-17T07:46:05.988587",
     "exception": false,
     "start_time": "2021-05-17T07:46:04.946289",
     "status": "completed"
    },
    "tags": []
   },
   "outputs": [
    {
     "data": {
      "image/png": "[encoded data removed]",
      "text/plain": [
       "<Figure size 432x288 with 1 Axes>"
      ]
     },
     "metadata": {
      "needs_background": "light"
     },
     "output_type": "display_data"
    }
   ],
   "source": [
    "# find out which rating is given highest number of times\n",
    "sns.countplot(data=revs_1m , x='rate')\n",
    "plt.show()"
   ]
  },
  {
   "cell_type": "code",
   "execution_count": 31,
   "id": "obvious-sacrifice",
   "metadata": {
    "execution": {
     "iopub.execute_input": "2021-05-17T07:46:06.190170Z",
     "iopub.status.busy": "2021-05-17T07:46:06.189165Z",
     "iopub.status.idle": "2021-05-17T07:46:06.805598Z",
     "shell.execute_reply": "2021-05-17T07:46:06.805001Z"
    },
    "papermill": {
     "duration": 0.718814,
     "end_time": "2021-05-17T07:46:06.805736",
     "exception": false,
     "start_time": "2021-05-17T07:46:06.086922",
     "status": "completed"
    },
    "tags": []
   },
   "outputs": [
    {
     "data": {
      "text/plain": [
       "Flipkart Customer    782\n",
       "Rahul Kumar          281\n",
       "Amit Kumar           267\n",
       "Deepak Kumar         256\n",
       "Sunil Kumar          238\n",
       "Manish Kumar         237\n",
       "Anil Kumar           215\n",
       "Abhishek Kumar       214\n",
       "Pankaj Kumar         210\n",
       "Rohit Kumar          208\n",
       "Name: username, dtype: int64"
      ]
     },
     "execution_count": 31,
     "metadata": {},
     "output_type": "execute_result"
    }
   ],
   "source": [
    "revs1[revs1['rate']==5]['username'].value_counts().head(10)"
   ]
  },
  {
   "cell_type": "code",
   "execution_count": 32,
   "id": "gothic-courage",
   "metadata": {
    "execution": {
     "iopub.execute_input": "2021-05-17T07:46:07.589413Z",
     "iopub.status.busy": "2021-05-17T07:46:07.588070Z",
     "iopub.status.idle": "2021-05-17T07:46:08.034039Z",
     "shell.execute_reply": "2021-05-17T07:46:08.034710Z"
    },
    "papermill": {
     "duration": 1.132628,
     "end_time": "2021-05-17T07:46:08.034961",
     "exception": false,
     "start_time": "2021-05-17T07:46:06.902333",
     "status": "completed"
    },
    "tags": []
   },
   "outputs": [
    {
     "name": "stdout",
     "output_type": "stream",
     "text": [
      "Users with highest number of reviews: \n",
      "\n",
      " Flipkart Customer    2877\n",
      "Deepak Kumar          505\n",
      "Rahul Kumar           486\n",
      "Amit Kumar            474\n",
      "Ajay Kumar            410\n",
      "Name: username, dtype: int64\n"
     ]
    }
   ],
   "source": [
    "# 2. Users with highest number of reviews\n",
    "print('Users with highest number of reviews: \\n\\n',revs_1m['username'].value_counts().head())"
   ]
  },
  {
   "cell_type": "code",
   "execution_count": 33,
   "id": "naval-bridges",
   "metadata": {
    "execution": {
     "iopub.execute_input": "2021-05-17T07:46:10.680868Z",
     "iopub.status.busy": "2021-05-17T07:46:10.678933Z",
     "iopub.status.idle": "2021-05-17T07:46:11.233730Z",
     "shell.execute_reply": "2021-05-17T07:46:11.233153Z"
    },
    "papermill": {
     "duration": 0.931325,
     "end_time": "2021-05-17T07:46:11.233894",
     "exception": false,
     "start_time": "2021-05-17T07:46:10.302569",
     "status": "completed"
    },
    "tags": []
   },
   "outputs": [
    {
     "name": "stdout",
     "output_type": "stream",
     "text": [
      "Number of products with >3000 rating:  50\n"
     ]
    }
   ],
   "source": [
    "target = 3000\n",
    "top50_product = revs1['productname'].value_counts()[0:50].rename('rating_count').to_frame()\n",
    "top50_product['mean_ratings']=revs1[revs1['productname'].isin(top50_product.index.tolist())].groupby(['productname'])['rate'].mean().astype('float64').round(1)\n",
    "top50_product.sort_values(by='mean_ratings',inplace=True)\n",
    "print('Number of products with >'+str(target)+' rating: ', len(top50_product))"
   ]
  },
  {
   "cell_type": "code",
   "execution_count": 34,
   "id": "adjacent-macro",
   "metadata": {
    "execution": {
     "iopub.execute_input": "2021-05-17T07:46:11.441262Z",
     "iopub.status.busy": "2021-05-17T07:46:11.440579Z",
     "iopub.status.idle": "2021-05-17T07:46:12.662228Z",
     "shell.execute_reply": "2021-05-17T07:46:12.661658Z"
    },
    "papermill": {
     "duration": 1.327369,
     "end_time": "2021-05-17T07:46:12.662372",
     "exception": false,
     "start_time": "2021-05-17T07:46:11.335003",
     "status": "completed"
    },
    "tags": []
   },
   "outputs": [
    {
     "data": {
      "application/vnd.plotly.v1+json": {
       "config": {
        "plotlyServerURL": "https://plot.ly"
       },
       "data": [
        {
         "hovertemplate": "index=%{x}<br>mean_ratings=%{y}<br>rating_count=%{marker.size}<extra></extra>",
         "legendgroup": "",
         "marker": {
          "color": "#636efa",
          "size": [
           7660,
           7628,
           7629,
           14338,
           7320,
           7751,
           7823,
           7792,
           7744,
           7284,
           7876,
           7638,
           8082,
           8082,
           7398,
           8947,
           7398,
           7284,
           7398,
           7713,
           19922,
           7441,
           7476,
           7476,
           7441,
           7441,
           7431,
           7637,
           7734,
           7144,
           13933,
           11112,
           8995,
           7916,
           7916,
           7742,
           7759,
           8156,
           7766,
           7800,
           7800,
           7800,
           7652,
           7781,
           7847,
           7847,
           7847,
           7818,
           7847,
           7847
          ],
          "sizemode": "area",
          "sizeref": 5.533888888888889,
          "symbol": "circle"
         },
         "mode": "markers",
         "name": "",
         "orientation": "v",
         "showlegend": false,
         "type": "scatter",
         "x": [
          "GIONEE Max (Royal Blue, 32 GB)",
          "POCO M3 (Power Black, 128 GB)",
          "POCO M3 (Power Black, 64 GB)",
          "POCO M3 (Cool Blue, 64 GB)",
          "realme C20 (Cool Grey, 32 GB)",
          "POCO X3 (Cobalt Blue, 64 GB)",
          "POCO C3 (Matte Black, 32 GB)",
          "POCO C3 (Arctic Blue, 32 GB)",
          "POCO X3 (Shadow Gray, 64 GB)",
          "REDMI 9i (Midnight Black, 64 GB)",
          "POCO M2 Pro (Green and Greener, 64 GB)",
          "realme Narzo 20 (Victory Blue, 128 GB)",
          "POCO M2 Pro (Two Shades of Black, 64 GB)",
          "POCO M2 Pro (Out of the Blue, 64 GB)",
          "realme Narzo 50A (Oxygen Blue, 64 GB)",
          "realme 8 5G (Supersonic Black, 128 GB)",
          "realme Narzo 50A (Oxygen Green, 128 GB)",
          "REDMI 9i (Nature Green, 64 GB)",
          "realme Narzo 50A (Oxygen Green, 64 GB)",
          "REDMI 9 Power (Mighty Black, 64 GB)",
          "realme 8 (Cyber Silver, 128 GB)",
          "Infinix Hot 10 Play (7° Purple, 64 GB)",
          "realme 8s 5G (Universe Blue, 128 GB)",
          "realme 8s 5G (Universe Purple, 128 GB)",
          "Infinix Hot 10 Play (Obsidian Black, 64 GB)",
          "Infinix Hot 10 Play (Aegean Blue, 64 GB)",
          "Infinix Hot 10 Play (Morandi Green, 64 GB)",
          "realme 8 Pro (Infinite Black, 128 GB)",
          "REDMI 9 Power (Blazing Blue, 64 GB)",
          "REDMI Note 9 (Aqua Green, 64 GB)",
          "realme 8 (Cyber Black, 128 GB)",
          "realme Narzo 30 (Racing Silver, 64 GB)",
          "LAVA A1",
          "realme 8i (Space Black, 64 GB)",
          "realme 8i (Space Purple, 64 GB)",
          "REDMI 9 Power (Fiery Red, 64 GB)",
          "APPLE iPhone SE (Red, 128 GB)",
          "SAMSUNG Guru Music 2",
          "APPLE iPhone SE (Black, 128 GB)",
          "APPLE iPhone SE (White, 64 GB)",
          "APPLE iPhone SE (Black, 64 GB)",
          "APPLE iPhone SE (Red, 64 GB)",
          "REDMI 9 Prime (Matte Black, 64 GB)",
          "APPLE iPhone SE (White, 128 GB)",
          "APPLE iPhone 12 (Red, 128 GB)",
          "APPLE iPhone 12 (Purple, 64 GB)",
          "APPLE iPhone 12 (Blue, 64 GB)",
          "APPLE iPhone 12 (White, 256 GB)",
          "APPLE iPhone 12 (Black, 64 GB)",
          "APPLE iPhone 12 (Green, 64 GB)"
         ],
         "xaxis": "x",
         "y": [
          3.9,
          4,
          4,
          4.1,
          4.1,
          4.2,
          4.2,
          4.2,
          4.2,
          4.2,
          4.2,
          4.2,
          4.2,
          4.2,
          4.2,
          4.2,
          4.2,
          4.2,
          4.2,
          4.3,
          4.3,
          4.3,
          4.3,
          4.3,
          4.3,
          4.3,
          4.3,
          4.3,
          4.3,
          4.3,
          4.3,
          4.3,
          4.3,
          4.3,
          4.3,
          4.3,
          4.4,
          4.4,
          4.4,
          4.4,
          4.4,
          4.4,
          4.4,
          4.4,
          4.7,
          4.7,
          4.7,
          4.7,
          4.7,
          4.7
         ],
         "yaxis": "y"
        }
       ],
       "layout": {
        "height": 800,
        "legend": {
         "itemsizing": "constant",
         "tracegroupgap": 0
        },
        "template": {
         "data": {
          "bar": [
           {
            "error_x": {
             "color": "#2a3f5f"
            },
            "error_y": {
             "color": "#2a3f5f"
            },
            "marker": {
             "line": {
              "color": "#E5ECF6",
              "width": 0.5
             },
             "pattern": {
              "fillmode": "overlay",
              "size": 10,
              "solidity": 0.2
             }
            },
            "type": "bar"
           }
          ],
          "barpolar": [
           {
            "marker": {
             "line": {
              "color": "#E5ECF6",
              "width": 0.5
             },
             "pattern": {
              "fillmode": "overlay",
              "size": 10,
              "solidity": 0.2
             }
            },
            "type": "barpolar"
           }
          ],
          "carpet": [
           {
            "aaxis": {
             "endlinecolor": "#2a3f5f",
             "gridcolor": "white",
             "linecolor": "white",
             "minorgridcolor": "white",
             "startlinecolor": "#2a3f5f"
            },
            "baxis": {
             "endlinecolor": "#2a3f5f",
             "gridcolor": "white",
             "linecolor": "white",
             "minorgridcolor": "white",
             "startlinecolor": "#2a3f5f"
            },
            "type": "carpet"
           }
          ],
          "choropleth": [
           {
            "colorbar": {
             "outlinewidth": 0,
             "ticks": ""
            },
            "type": "choropleth"
           }
          ],
          "contour": [
           {
            "colorbar": {
             "outlinewidth": 0,
             "ticks": ""
            },
            "colorscale": [
             [
              0,
              "#0d0887"
             ],
             [
              0.1111111111111111,
              "#46039f"
             ],
             [
              0.2222222222222222,
              "#7201a8"
             ],
             [
              0.3333333333333333,
              "#9c179e"
             ],
             [
              0.4444444444444444,
              "#bd3786"
             ],
             [
              0.5555555555555556,
              "#d8576b"
             ],
             [
              0.6666666666666666,
              "#ed7953"
             ],
             [
              0.7777777777777778,
              "#fb9f3a"
             ],
             [
              0.8888888888888888,
              "#fdca26"
             ],
             [
              1,
              "#f0f921"
             ]
            ],
            "type": "contour"
           }
          ],
          "contourcarpet": [
           {
            "colorbar": {
             "outlinewidth": 0,
             "ticks": ""
            },
            "type": "contourcarpet"
           }
          ],
          "heatmap": [
           {
            "colorbar": {
             "outlinewidth": 0,
             "ticks": ""
            },
            "colorscale": [
             [
              0,
              "#0d0887"
             ],
             [
              0.1111111111111111,
              "#46039f"
             ],
             [
              0.2222222222222222,
              "#7201a8"
             ],
             [
              0.3333333333333333,
              "#9c179e"
             ],
             [
              0.4444444444444444,
              "#bd3786"
             ],
             [
              0.5555555555555556,
              "#d8576b"
             ],
             [
              0.6666666666666666,
              "#ed7953"
             ],
             [
              0.7777777777777778,
              "#fb9f3a"
             ],
             [
              0.8888888888888888,
              "#fdca26"
             ],
             [
              1,
              "#f0f921"
             ]
            ],
            "type": "heatmap"
           }
          ],
          "heatmapgl": [
           {
            "colorbar": {
             "outlinewidth": 0,
             "ticks": ""
            },
            "colorscale": [
             [
              0,
              "#0d0887"
             ],
             [
              0.1111111111111111,
              "#46039f"
             ],
             [
              0.2222222222222222,
              "#7201a8"
             ],
             [
              0.3333333333333333,
              "#9c179e"
             ],
             [
              0.4444444444444444,
              "#bd3786"
             ],
             [
              0.5555555555555556,
              "#d8576b"
             ],
             [
              0.6666666666666666,
              "#ed7953"
             ],
             [
              0.7777777777777778,
              "#fb9f3a"
             ],
             [
              0.8888888888888888,
              "#fdca26"
             ],
             [
              1,
              "#f0f921"
             ]
            ],
            "type": "heatmapgl"
           }
          ],
          "histogram": [
           {
            "marker": {
             "pattern": {
              "fillmode": "overlay",
              "size": 10,
              "solidity": 0.2
             }
            },
            "type": "histogram"
           }
          ],
          "histogram2d": [
           {
            "colorbar": {
             "outlinewidth": 0,
             "ticks": ""
            },
            "colorscale": [
             [
              0,
              "#0d0887"
             ],
             [
              0.1111111111111111,
              "#46039f"
             ],
             [
              0.2222222222222222,
              "#7201a8"
             ],
             [
              0.3333333333333333,
              "#9c179e"
             ],
             [
              0.4444444444444444,
              "#bd3786"
             ],
             [
              0.5555555555555556,
              "#d8576b"
             ],
             [
              0.6666666666666666,
              "#ed7953"
             ],
             [
              0.7777777777777778,
              "#fb9f3a"
             ],
             [
              0.8888888888888888,
              "#fdca26"
             ],
             [
              1,
              "#f0f921"
             ]
            ],
            "type": "histogram2d"
           }
          ],
          "histogram2dcontour": [
           {
            "colorbar": {
             "outlinewidth": 0,
             "ticks": ""
            },
            "colorscale": [
             [
              0,
              "#0d0887"
             ],
             [
              0.1111111111111111,
              "#46039f"
             ],
             [
              0.2222222222222222,
              "#7201a8"
             ],
             [
              0.3333333333333333,
              "#9c179e"
             ],
             [
              0.4444444444444444,
              "#bd3786"
             ],
             [
              0.5555555555555556,
              "#d8576b"
             ],
             [
              0.6666666666666666,
              "#ed7953"
             ],
             [
              0.7777777777777778,
              "#fb9f3a"
             ],
             [
              0.8888888888888888,
              "#fdca26"
             ],
             [
              1,
              "#f0f921"
             ]
            ],
            "type": "histogram2dcontour"
           }
          ],
          "mesh3d": [
           {
            "colorbar": {
             "outlinewidth": 0,
             "ticks": ""
            },
            "type": "mesh3d"
           }
          ],
          "parcoords": [
           {
            "line": {
             "colorbar": {
              "outlinewidth": 0,
              "ticks": ""
             }
            },
            "type": "parcoords"
           }
          ],
          "pie": [
           {
            "automargin": true,
            "type": "pie"
           }
          ],
          "scatter": [
           {
            "fillpattern": {
             "fillmode": "overlay",
             "size": 10,
             "solidity": 0.2
            },
            "type": "scatter"
           }
          ],
          "scatter3d": [
           {
            "line": {
             "colorbar": {
              "outlinewidth": 0,
              "ticks": ""
             }
            },
            "marker": {
             "colorbar": {
              "outlinewidth": 0,
              "ticks": ""
             }
            },
            "type": "scatter3d"
           }
          ],
          "scattercarpet": [
           {
            "marker": {
             "colorbar": {
              "outlinewidth": 0,
              "ticks": ""
             }
            },
            "type": "scattercarpet"
           }
          ],
          "scattergeo": [
           {
            "marker": {
             "colorbar": {
              "outlinewidth": 0,
              "ticks": ""
             }
            },
            "type": "scattergeo"
           }
          ],
          "scattergl": [
           {
            "marker": {
             "colorbar": {
              "outlinewidth": 0,
              "ticks": ""
             }
            },
            "type": "scattergl"
           }
          ],
          "scattermapbox": [
           {
            "marker": {
             "colorbar": {
              "outlinewidth": 0,
              "ticks": ""
             }
            },
            "type": "scattermapbox"
           }
          ],
          "scatterpolar": [
           {
            "marker": {
             "colorbar": {
              "outlinewidth": 0,
              "ticks": ""
             }
            },
            "type": "scatterpolar"
           }
          ],
          "scatterpolargl": [
           {
            "marker": {
             "colorbar": {
              "outlinewidth": 0,
              "ticks": ""
             }
            },
            "type": "scatterpolargl"
           }
          ],
          "scatterternary": [
           {
            "marker": {
             "colorbar": {
              "outlinewidth": 0,
              "ticks": ""
             }
            },
            "type": "scatterternary"
           }
          ],
          "surface": [
           {
            "colorbar": {
             "outlinewidth": 0,
             "ticks": ""
            },
            "colorscale": [
             [
              0,
              "#0d0887"
             ],
             [
              0.1111111111111111,
              "#46039f"
             ],
             [
              0.2222222222222222,
              "#7201a8"
             ],
             [
              0.3333333333333333,
              "#9c179e"
             ],
             [
              0.4444444444444444,
              "#bd3786"
             ],
             [
              0.5555555555555556,
              "#d8576b"
             ],
             [
              0.6666666666666666,
              "#ed7953"
             ],
             [
              0.7777777777777778,
              "#fb9f3a"
             ],
             [
              0.8888888888888888,
              "#fdca26"
             ],
             [
              1,
              "#f0f921"
             ]
            ],
            "type": "surface"
           }
          ],
          "table": [
           {
            "cells": {
             "fill": {
              "color": "#EBF0F8"
             },
             "line": {
              "color": "white"
             }
            },
            "header": {
             "fill": {
              "color": "#C8D4E3"
             },
             "line": {
              "color": "white"
             }
            },
            "type": "table"
           }
          ]
         },
         "layout": {
          "annotationdefaults": {
           "arrowcolor": "#2a3f5f",
           "arrowhead": 0,
           "arrowwidth": 1
          },
          "autotypenumbers": "strict",
          "coloraxis": {
           "colorbar": {
            "outlinewidth": 0,
            "ticks": ""
           }
          },
          "colorscale": {
           "diverging": [
            [
             0,
             "#8e0152"
            ],
            [
             0.1,
             "#c51b7d"
            ],
            [
             0.2,
             "#de77ae"
            ],
            [
             0.3,
             "#f1b6da"
            ],
            [
             0.4,
             "#fde0ef"
            ],
            [
             0.5,
             "#f7f7f7"
            ],
            [
             0.6,
             "#e6f5d0"
            ],
            [
             0.7,
             "#b8e186"
            ],
            [
             0.8,
             "#7fbc41"
            ],
            [
             0.9,
             "#4d9221"
            ],
            [
             1,
             "#276419"
            ]
           ],
           "sequential": [
            [
             0,
             "#0d0887"
            ],
            [
             0.1111111111111111,
             "#46039f"
            ],
            [
             0.2222222222222222,
             "#7201a8"
            ],
            [
             0.3333333333333333,
             "#9c179e"
            ],
            [
             0.4444444444444444,
             "#bd3786"
            ],
            [
             0.5555555555555556,
             "#d8576b"
            ],
            [
             0.6666666666666666,
             "#ed7953"
            ],
            [
             0.7777777777777778,
             "#fb9f3a"
            ],
            [
             0.8888888888888888,
             "#fdca26"
            ],
            [
             1,
             "#f0f921"
            ]
           ],
           "sequentialminus": [
            [
             0,
             "#0d0887"
            ],
            [
             0.1111111111111111,
             "#46039f"
            ],
            [
             0.2222222222222222,
             "#7201a8"
            ],
            [
             0.3333333333333333,
             "#9c179e"
            ],
            [
             0.4444444444444444,
             "#bd3786"
            ],
            [
             0.5555555555555556,
             "#d8576b"
            ],
            [
             0.6666666666666666,
             "#ed7953"
            ],
            [
             0.7777777777777778,
             "#fb9f3a"
            ],
            [
             0.8888888888888888,
             "#fdca26"
            ],
            [
             1,
             "#f0f921"
            ]
           ]
          },
          "colorway": [
           "#636efa",
           "#EF553B",
           "#00cc96",
           "#ab63fa",
           "#FFA15A",
           "#19d3f3",
           "#FF6692",
           "#B6E880",
           "#FF97FF",
           "#FECB52"
          ],
          "font": {
           "color": "#2a3f5f"
          },
          "geo": {
           "bgcolor": "white",
           "lakecolor": "white",
           "landcolor": "#E5ECF6",
           "showlakes": true,
           "showland": true,
           "subunitcolor": "white"
          },
          "hoverlabel": {
           "align": "left"
          },
          "hovermode": "closest",
          "mapbox": {
           "style": "light"
          },
          "paper_bgcolor": "white",
          "plot_bgcolor": "#E5ECF6",
          "polar": {
           "angularaxis": {
            "gridcolor": "white",
            "linecolor": "white",
            "ticks": ""
           },
           "bgcolor": "#E5ECF6",
           "radialaxis": {
            "gridcolor": "white",
            "linecolor": "white",
            "ticks": ""
           }
          },
          "scene": {
           "xaxis": {
            "backgroundcolor": "#E5ECF6",
            "gridcolor": "white",
            "gridwidth": 2,
            "linecolor": "white",
            "showbackground": true,
            "ticks": "",
            "zerolinecolor": "white"
           },
           "yaxis": {
            "backgroundcolor": "#E5ECF6",
            "gridcolor": "white",
            "gridwidth": 2,
            "linecolor": "white",
            "showbackground": true,
            "ticks": "",
            "zerolinecolor": "white"
           },
           "zaxis": {
            "backgroundcolor": "#E5ECF6",
            "gridcolor": "white",
            "gridwidth": 2,
            "linecolor": "white",
            "showbackground": true,
            "ticks": "",
            "zerolinecolor": "white"
           }
          },
          "shapedefaults": {
           "line": {
            "color": "#2a3f5f"
           }
          },
          "ternary": {
           "aaxis": {
            "gridcolor": "white",
            "linecolor": "white",
            "ticks": ""
           },
           "baxis": {
            "gridcolor": "white",
            "linecolor": "white",
            "ticks": ""
           },
           "bgcolor": "#E5ECF6",
           "caxis": {
            "gridcolor": "white",
            "linecolor": "white",
            "ticks": ""
           }
          },
          "title": {
           "x": 0.05
          },
          "xaxis": {
           "automargin": true,
           "gridcolor": "white",
           "linecolor": "white",
           "ticks": "",
           "title": {
            "standoff": 15
           },
           "zerolinecolor": "white",
           "zerolinewidth": 2
          },
          "yaxis": {
           "automargin": true,
           "gridcolor": "white",
           "linecolor": "white",
           "ticks": "",
           "title": {
            "standoff": 15
           },
           "zerolinecolor": "white",
           "zerolinewidth": 2
          }
         }
        },
        "title": {
         "text": "Visualisation of mean ratings vs rating count for highest rated 50 phones"
        },
        "xaxis": {
         "anchor": "y",
         "domain": [
          0,
          1
         ],
         "title": {
          "text": "index"
         }
        },
        "yaxis": {
         "anchor": "x",
         "domain": [
          0,
          1
         ],
         "title": {
          "text": "mean_ratings"
         }
        }
       }
      }
     },
     "metadata": {},
     "output_type": "display_data"
    }
   ],
   "source": [
    "fig = px.scatter(top50_product, x=top50_product.index, y=\"mean_ratings\", size=\"rating_count\", size_max=60,\n",
    "                  height=800,title=\"Visualisation of mean ratings vs rating count for highest rated 50 phones\")\n",
    "fig.show()"
   ]
  },
  {
   "cell_type": "code",
   "execution_count": 35,
   "id": "ea0b603c",
   "metadata": {},
   "outputs": [
    {
     "name": "stdout",
     "output_type": "stream",
     "text": [
      "Number of authors who have given >50 rating:  684\n",
      "Number of products with >50 rating:  257\n",
      "\n",
      "revs_50: Rows: 63533 and Columns: 4\n",
      "\n"
     ]
    },
    {
     "data": {
      "text/html": [
       "<div>\n",
       "<style scoped>\n",
       "    .dataframe tbody tr th:only-of-type {\n",
       "        vertical-align: middle;\n",
       "    }\n",
       "\n",
       "    .dataframe tbody tr th {\n",
       "        vertical-align: top;\n",
       "    }\n",
       "\n",
       "    .dataframe thead th {\n",
       "        text-align: right;\n",
       "    }\n",
       "</style>\n",
       "<table border=\"1\" class=\"dataframe\">\n",
       "  <thead>\n",
       "    <tr style=\"text-align: right;\">\n",
       "      <th></th>\n",
       "      <th>username</th>\n",
       "      <th>productname</th>\n",
       "      <th>rate</th>\n",
       "      <th>productid</th>\n",
       "    </tr>\n",
       "  </thead>\n",
       "  <tbody>\n",
       "    <tr>\n",
       "      <th>604</th>\n",
       "      <td>Flipkart Customer</td>\n",
       "      <td>POCO C31 (Royal Blue, 64 GB)</td>\n",
       "      <td>5</td>\n",
       "      <td>626fc73b92862a00110004bd</td>\n",
       "    </tr>\n",
       "    <tr>\n",
       "      <th>606</th>\n",
       "      <td>Flipkart Customer</td>\n",
       "      <td>realme 9i (Prism Black, 64 GB)</td>\n",
       "      <td>5</td>\n",
       "      <td>626fc73b92862a00110004b9</td>\n",
       "    </tr>\n",
       "    <tr>\n",
       "      <th>609</th>\n",
       "      <td>Flipkart Customer</td>\n",
       "      <td>realme 9i (Prism Black, 64 GB)</td>\n",
       "      <td>4</td>\n",
       "      <td>626fc73b92862a00110004b9</td>\n",
       "    </tr>\n",
       "    <tr>\n",
       "      <th>611</th>\n",
       "      <td>Flipkart Customer</td>\n",
       "      <td>realme 9i (Prism Black, 64 GB)</td>\n",
       "      <td>3</td>\n",
       "      <td>626fc73b92862a00110004b9</td>\n",
       "    </tr>\n",
       "    <tr>\n",
       "      <th>612</th>\n",
       "      <td>Ankit Sharma</td>\n",
       "      <td>realme 9i (Prism Black, 64 GB)</td>\n",
       "      <td>5</td>\n",
       "      <td>626fc73b92862a00110004b9</td>\n",
       "    </tr>\n",
       "  </tbody>\n",
       "</table>\n",
       "</div>"
      ],
      "text/plain": [
       "              username                     productname  rate  \\\n",
       "604  Flipkart Customer    POCO C31 (Royal Blue, 64 GB)     5   \n",
       "606  Flipkart Customer  realme 9i (Prism Black, 64 GB)     5   \n",
       "609  Flipkart Customer  realme 9i (Prism Black, 64 GB)     4   \n",
       "611  Flipkart Customer  realme 9i (Prism Black, 64 GB)     3   \n",
       "612       Ankit Sharma  realme 9i (Prism Black, 64 GB)     5   \n",
       "\n",
       "                    productid  \n",
       "604  626fc73b92862a00110004bd  \n",
       "606  626fc73b92862a00110004b9  \n",
       "609  626fc73b92862a00110004b9  \n",
       "611  626fc73b92862a00110004b9  \n",
       "612  626fc73b92862a00110004b9  "
      ]
     },
     "execution_count": 35,
     "metadata": {},
     "output_type": "execute_result"
    }
   ],
   "source": [
    "# 3. Select data with products having >50 ratings and users who have given > 50 ratings\n",
    "author50 = revs1['username'].value_counts()\n",
    "author50 = author50[author50>50].index.tolist() # list of authors with > 50 ratings\n",
    "print('Number of authors who have given >50 rating: ', len(author50))\n",
    "\n",
    "product50 = revs1['productname'].value_counts()\n",
    "product50 = product50[product50>1000].index.tolist() # list of products with > 1000 ratings\n",
    "print('Number of products with >50 rating: ', len(product50))\n",
    "\n",
    "revs_50 = revs1[(revs1['username'].isin(author50)) & (revs1['productname'].isin(product50))]\n",
    "print(f'\\nrevs_1000: Rows: {revs_50.shape[0]} and Columns: {revs_50.shape[1]}\\n')\n",
    "del author50, product50\n",
    "revs_50.head()"
   ]
  },
  {
   "cell_type": "markdown",
   "id": "limited-hampshire",
   "metadata": {
    "papermill": {
     "duration": 0.101556,
     "end_time": "2021-05-17T07:46:12.865540",
     "exception": false,
     "start_time": "2021-05-17T07:46:12.763984",
     "status": "completed"
    },
    "tags": []
   },
   "source": [
    "## 3. Recommend top 5 mobile phones using popularity based model <a id=\"popularity_model\"></a>\n",
    "[Go to top](#toc)"
   ]
  },
  {
   "cell_type": "code",
   "execution_count": 36,
   "id": "offensive-orleans",
   "metadata": {
    "execution": {
     "iopub.execute_input": "2021-05-17T07:46:13.076848Z",
     "iopub.status.busy": "2021-05-17T07:46:13.076203Z",
     "iopub.status.idle": "2021-05-17T07:46:13.078819Z",
     "shell.execute_reply": "2021-05-17T07:46:13.079354Z"
    },
    "papermill": {
     "duration": 0.1124,
     "end_time": "2021-05-17T07:46:13.079540",
     "exception": false,
     "start_time": "2021-05-17T07:46:12.967140",
     "status": "completed"
    },
    "tags": []
   },
   "outputs": [],
   "source": [
    "def popularity_rec(data):\n",
    "    ratings_mean_count = pd.DataFrame(data.groupby('productname')['rate'].mean())\n",
    "    ratings_mean_count['rating_counts'] = data.groupby('productname')['rate'].count()\n",
    "    ratings_mean_count = ratings_mean_count.sort_values(by=['rate','rating_counts'], ascending=[False,False])\n",
    "    print('Top 5 recommendations for the products are: \\n')\n",
    "    display(ratings_mean_count.head())\n",
    "    return"
   ]
  },
  {
   "cell_type": "code",
   "execution_count": 37,
   "id": "vocational-given",
   "metadata": {
    "execution": {
     "iopub.execute_input": "2021-05-17T07:46:13.584208Z",
     "iopub.status.busy": "2021-05-17T07:46:13.583561Z",
     "iopub.status.idle": "2021-05-17T07:46:13.952255Z",
     "shell.execute_reply": "2021-05-17T07:46:13.951619Z"
    },
    "papermill": {
     "duration": 0.475703,
     "end_time": "2021-05-17T07:46:13.952429",
     "exception": false,
     "start_time": "2021-05-17T07:46:13.476726",
     "status": "completed"
    },
    "tags": []
   },
   "outputs": [
    {
     "name": "stdout",
     "output_type": "stream",
     "text": [
      "Top 5 recommendations for the products are: \n",
      "\n"
     ]
    },
    {
     "data": {
      "text/html": [
       "<div>\n",
       "<style scoped>\n",
       "    .dataframe tbody tr th:only-of-type {\n",
       "        vertical-align: middle;\n",
       "    }\n",
       "\n",
       "    .dataframe tbody tr th {\n",
       "        vertical-align: top;\n",
       "    }\n",
       "\n",
       "    .dataframe thead th {\n",
       "        text-align: right;\n",
       "    }\n",
       "</style>\n",
       "<table border=\"1\" class=\"dataframe\">\n",
       "  <thead>\n",
       "    <tr style=\"text-align: right;\">\n",
       "      <th></th>\n",
       "      <th>rate</th>\n",
       "      <th>rating_counts</th>\n",
       "    </tr>\n",
       "    <tr>\n",
       "      <th>productname</th>\n",
       "      <th></th>\n",
       "      <th></th>\n",
       "    </tr>\n",
       "  </thead>\n",
       "  <tbody>\n",
       "    <tr>\n",
       "      <th>acer Aspire 3 Ryzen 5 Quad Core 3500U - (8 GB/512 GB SSD/Windows 11 Home) A315-23 Laptop</th>\n",
       "      <td>5.0</td>\n",
       "      <td>64</td>\n",
       "    </tr>\n",
       "    <tr>\n",
       "      <th>acer Aspire 3 Core i3 11th Gen - (8 GB/256 GB SSD/Windows 11 Home) A315-58 Thin and Light Laptop</th>\n",
       "      <td>5.0</td>\n",
       "      <td>22</td>\n",
       "    </tr>\n",
       "    <tr>\n",
       "      <th>APPLE 2021 Macbook Pro M1 Pro - (16 GB/1 TB SSD/Mac OS Monterey) MKGT3HN/A</th>\n",
       "      <td>5.0</td>\n",
       "      <td>11</td>\n",
       "    </tr>\n",
       "    <tr>\n",
       "      <th>acer Aspire Vero(Green PC ) Core i5 11th Gen - (8 GB/512 GB SSD/Windows 11 Home) AV15-51 Thin and Light Laptop</th>\n",
       "      <td>5.0</td>\n",
       "      <td>11</td>\n",
       "    </tr>\n",
       "    <tr>\n",
       "      <th>Kechaoda K15</th>\n",
       "      <td>5.0</td>\n",
       "      <td>5</td>\n",
       "    </tr>\n",
       "  </tbody>\n",
       "</table>\n",
       "</div>"
      ],
      "text/plain": [
       "                                                                                                                rate  \\\n",
       "productname                                                                                                            \n",
       "acer Aspire 3 Ryzen 5 Quad Core 3500U - (8 GB/512 GB SSD/Windows 11 Home) A315-23 Laptop                         5.0   \n",
       "acer Aspire 3 Core i3 11th Gen - (8 GB/256 GB SSD/Windows 11 Home) A315-58 Thin and Light Laptop                 5.0   \n",
       "APPLE 2021 Macbook Pro M1 Pro - (16 GB/1 TB SSD/Mac OS Monterey) MKGT3HN/A                                       5.0   \n",
       "acer Aspire Vero(Green PC ) Core i5 11th Gen - (8 GB/512 GB SSD/Windows 11 Home) AV15-51 Thin and Light Laptop   5.0   \n",
       "Kechaoda K15                                                                                                     5.0   \n",
       "\n",
       "                                                                                                                rating_counts  \n",
       "productname                                                                                                                    \n",
       "acer Aspire 3 Ryzen 5 Quad Core 3500U - (8 GB/512 GB SSD/Windows 11 Home) A315-23 Laptop                                   64  \n",
       "acer Aspire 3 Core i3 11th Gen - (8 GB/256 GB SSD/Windows 11 Home) A315-58 Thin and Light Laptop                           22  \n",
       "APPLE 2021 Macbook Pro M1 Pro - (16 GB/1 TB SSD/Mac OS Monterey) MKGT3HN/A                                                 11  \n",
       "acer Aspire Vero(Green PC ) Core i5 11th Gen - (8 GB/512 GB SSD/Windows 11 Home) AV15-51 Thin and Light Laptop             11  \n",
       "Kechaoda K15                                                                                                                5  "
      ]
     },
     "metadata": {},
     "output_type": "display_data"
    }
   ],
   "source": [
    "# if we consider the original data (excluding 'Anonymous' users)\n",
    "popularity_rec(revs1)"
   ]
  },
  {
   "cell_type": "code",
   "execution_count": 38,
   "id": "increased-smith",
   "metadata": {
    "execution": {
     "iopub.execute_input": "2021-05-17T07:46:14.167915Z",
     "iopub.status.busy": "2021-05-17T07:46:14.166699Z",
     "iopub.status.idle": "2021-05-17T07:46:14.701115Z",
     "shell.execute_reply": "2021-05-17T07:46:14.700379Z"
    },
    "papermill": {
     "duration": 0.644353,
     "end_time": "2021-05-17T07:46:14.701315",
     "exception": false,
     "start_time": "2021-05-17T07:46:14.056962",
     "status": "completed"
    },
    "tags": []
   },
   "outputs": [
    {
     "name": "stdout",
     "output_type": "stream",
     "text": [
      "Flipkart  the Phonepe wallet activation is not working. How do I recieve my refund Rs. 177/-? Customer Samarendra Singh\n"
     ]
    }
   ],
   "source": [
    "field_length = revs1.username.astype(str).map(len)\n",
    "print (revs1.iloc[field_length.argmax(),0])"
   ]
  },
  {
   "cell_type": "markdown",
   "id": "floppy-excerpt",
   "metadata": {
    "papermill": {
     "duration": 0.104988,
     "end_time": "2021-05-17T07:46:14.911021",
     "exception": false,
     "start_time": "2021-05-17T07:46:14.806033",
     "status": "completed"
    },
    "tags": []
   },
   "source": [
    "## 4. Collaborative filtering based models <a id=\"collaborative_filtering\"></a>\n",
    "[Go to top](#toc)"
   ]
  },
  {
   "cell_type": "markdown",
   "id": "acoustic-artist",
   "metadata": {
    "papermill": {
     "duration": 0.105212,
     "end_time": "2021-05-17T07:46:15.123511",
     "exception": false,
     "start_time": "2021-05-17T07:46:15.018299",
     "status": "completed"
    },
    "tags": []
   },
   "source": [
    "### 4.1. Collaborative filtering model using SVD <a id=\"svd\"></a>\n",
    "[Go to top](#toc)"
   ]
  },
  {
   "cell_type": "code",
   "execution_count": 39,
   "id": "advanced-expression",
   "metadata": {
    "execution": {
     "iopub.execute_input": "2021-05-17T07:46:15.352341Z",
     "iopub.status.busy": "2021-05-17T07:46:15.341343Z",
     "iopub.status.idle": "2021-05-17T07:46:15.729306Z",
     "shell.execute_reply": "2021-05-17T07:46:15.730177Z"
    },
    "papermill": {
     "duration": 0.501105,
     "end_time": "2021-05-17T07:46:15.730468",
     "exception": false,
     "start_time": "2021-05-17T07:46:15.229363",
     "status": "completed"
    },
    "tags": []
   },
   "outputs": [
    {
     "name": "stdout",
     "output_type": "stream",
     "text": [
      "top 3 values from trainset: \n",
      "\n",
      "0 ->  [(0, 4.0), (26, 5.0), (168, 4.0), (172, 4.0), (51, 5.0), (53, 4.0), (50, 4.0), (170, 4.0), (2, 5.0), (100, 5.0), (97, 3.0), (144, 3.0), (174, 4.0), (182, 2.0), (37, 5.0), (146, 5.0), (126, 3.0), (239, 5.0), (79, 4.0), (78, 5.0), (4, 5.0), (40, 1.0), (156, 5.0), (30, 4.0), (183, 5.0), (137, 1.0), (1, 5.0), (111, 5.0), (226, 4.0), (170, 5.0), (209, 5.0), (185, 5.0), (56, 5.0), (97, 1.0), (155, 4.0), (101, 1.0), (120, 3.0), (126, 1.0), (113, 5.0), (163, 2.0), (100, 4.0), (237, 4.0), (126, 2.0), (103, 4.0), (129, 5.0), (177, 5.0), (52, 4.0), (222, 4.0), (81, 5.0), (45, 5.0), (136, 3.0), (94, 2.0), (29, 5.0), (199, 4.0), (58, 4.0), (243, 4.0), (219, 5.0), (33, 5.0), (88, 1.0), (84, 4.0), (94, 3.0), (243, 5.0), (165, 4.0), (250, 1.0), (165, 5.0), (32, 5.0), (38, 5.0), (76, 4.0), (80, 3.0), (232, 5.0), (90, 5.0), (3, 3.0), (120, 1.0), (224, 1.0), (124, 1.0), (12, 3.0), (62, 2.0), (164, 4.0), (47, 5.0), (211, 2.0), (186, 5.0), (111, 4.0), (64, 5.0), (228, 5.0), (23, 5.0), (35, 5.0), (109, 5.0), (70, 5.0), (7, 3.0), (134, 5.0), (233, 5.0), (66, 5.0), (128, 1.0), (132, 2.0), (158, 5.0), (197, 4.0), (63, 3.0), (121, 5.0), (24, 5.0), (72, 5.0), (74, 4.0), (187, 5.0), (43, 5.0), (174, 5.0), (162, 3.0), (256, 5.0), (195, 3.0), (63, 4.0), (3, 4.0), (69, 5.0), (201, 4.0), (139, 1.0), (9, 3.0), (220, 5.0), (57, 5.0), (86, 5.0), (25, 5.0), (172, 5.0), (29, 2.0), (239, 4.0), (30, 3.0), (63, 5.0), (67, 5.0), (145, 5.0), (164, 5.0), (28, 5.0), (143, 3.0), (109, 3.0), (6, 3.0), (241, 5.0), (156, 3.0), (114, 1.0), (152, 5.0), (200, 4.0), (44, 3.0), (102, 5.0), (158, 4.0), (120, 4.0), (64, 1.0), (125, 4.0), (53, 5.0), (83, 4.0), (71, 4.0), (133, 4.0), (57, 1.0), (80, 5.0), (4, 4.0), (136, 2.0), (201, 3.0), (41, 4.0), (92, 5.0), (160, 5.0), (94, 1.0), (205, 2.0), (99, 5.0), (98, 5.0), (11, 4.0), (18, 5.0), (12, 4.0), (103, 5.0), (169, 5.0), (195, 4.0), (216, 5.0), (53, 3.0), (110, 3.0), (8, 3.0), (201, 5.0), (198, 4.0), (127, 5.0), (120, 2.0), (254, 1.0), (25, 3.0), (188, 4.0), (61, 4.0), (95, 3.0), (168, 5.0), (18, 4.0), (88, 5.0), (188, 5.0), (70, 4.0), (222, 3.0), (192, 5.0), (2, 1.0), (19, 4.0), (59, 5.0), (89, 4.0), (183, 4.0), (226, 5.0), (199, 3.0), (98, 4.0), (91, 4.0), (22, 5.0), (141, 5.0), (225, 5.0)] \n",
      "\n",
      "1 ->  [(1, 4.0), (35, 4.0), (65, 4.0), (158, 3.0), (143, 5.0), (120, 5.0), (75, 5.0), (122, 3.0), (88, 5.0), (57, 2.0), (18, 3.0), (220, 4.0), (204, 5.0), (167, 1.0), (193, 5.0), (97, 5.0), (15, 5.0), (2, 5.0), (60, 5.0), (173, 4.0), (94, 5.0), (232, 5.0), (170, 3.0), (60, 1.0), (225, 5.0), (114, 2.0), (223, 4.0), (26, 5.0), (73, 5.0), (126, 5.0), (67, 2.0), (113, 3.0), (59, 2.0), (127, 3.0), (167, 5.0)] \n",
      "\n",
      "2 ->  [(2, 5.0), (33, 5.0), (74, 4.0), (126, 3.0), (146, 4.0), (143, 3.0), (65, 5.0), (194, 4.0), (180, 4.0), (229, 5.0), (211, 5.0), (102, 4.0), (92, 5.0), (125, 3.0), (237, 5.0), (239, 5.0), (117, 5.0), (201, 5.0), (233, 2.0), (9, 4.0), (194, 3.0), (78, 2.0), (166, 2.0), (123, 4.0), (71, 4.0), (89, 5.0), (23, 5.0), (82, 2.0), (157, 5.0), (251, 5.0), (172, 4.0), (38, 5.0), (138, 5.0), (68, 5.0), (66, 3.0), (245, 1.0), (175, 1.0), (146, 5.0), (29, 4.0), (98, 1.0), (232, 3.0), (181, 1.0), (17, 5.0), (193, 5.0), (156, 5.0), (116, 4.0), (172, 1.0), (133, 1.0), (93, 5.0), (8, 5.0), (173, 3.0), (188, 1.0), (21, 2.0), (121, 1.0), (145, 1.0), (24, 5.0), (203, 5.0), (231, 5.0), (220, 2.0), (234, 5.0), (113, 4.0), (89, 1.0), (135, 3.0), (143, 4.0), (155, 5.0), (51, 1.0), (157, 2.0), (4, 2.0), (84, 5.0), (230, 5.0), (236, 5.0), (18, 4.0), (209, 5.0), (60, 5.0), (105, 5.0), (185, 2.0), (169, 4.0), (180, 2.0), (240, 5.0), (186, 2.0), (220, 1.0), (161, 4.0), (62, 5.0), (139, 4.0), (92, 4.0), (197, 5.0), (217, 3.0), (20, 2.0), (169, 5.0), (56, 5.0), (4, 3.0), (241, 4.0), (154, 5.0), (72, 4.0), (210, 5.0), (77, 5.0), (11, 1.0), (71, 5.0), (129, 2.0), (60, 1.0), (209, 2.0), (243, 2.0), (100, 4.0), (207, 5.0), (208, 5.0), (167, 1.0), (61, 5.0), (1, 3.0), (165, 4.0), (254, 1.0), (15, 2.0), (67, 5.0), (90, 5.0), (173, 1.0), (101, 5.0), (219, 4.0), (133, 4.0), (248, 5.0), (53, 5.0), (21, 5.0), (40, 5.0), (186, 5.0), (246, 5.0), (241, 5.0), (89, 3.0), (2, 4.0), (216, 3.0), (238, 5.0), (13, 5.0), (37, 2.0), (129, 3.0), (1, 4.0), (226, 4.0), (31, 5.0), (164, 3.0), (116, 2.0), (191, 1.0), (255, 5.0), (33, 4.0), (24, 1.0), (243, 5.0), (208, 4.0), (182, 1.0), (9, 2.0), (137, 5.0), (167, 5.0), (157, 1.0), (54, 4.0), (3, 4.0), (148, 5.0), (72, 5.0), (99, 5.0), (58, 5.0), (194, 1.0), (184, 2.0), (192, 1.0), (203, 3.0), (114, 5.0), (45, 4.0), (69, 5.0), (121, 4.0), (119, 5.0), (82, 5.0), (10, 1.0), (56, 1.0), (62, 4.0), (178, 4.0), (78, 5.0), (40, 4.0), (22, 4.0), (44, 5.0), (152, 2.0), (212, 5.0), (206, 5.0), (198, 4.0), (153, 5.0), (174, 4.0), (48, 5.0), (50, 5.0), (220, 3.0), (126, 5.0), (225, 2.0), (128, 4.0), (19, 3.0), (214, 3.0), (164, 4.0), (196, 5.0), (127, 5.0), (194, 5.0), (110, 4.0), (156, 2.0), (235, 4.0), (59, 5.0), (159, 5.0), (91, 4.0), (173, 5.0), (101, 1.0), (79, 5.0), (71, 3.0), (63, 4.0), (143, 2.0), (227, 5.0), (47, 5.0), (233, 5.0), (6, 4.0), (67, 2.0), (74, 5.0), (11, 4.0), (24, 3.0), (19, 2.0), (19, 1.0), (19, 5.0), (233, 4.0), (163, 5.0), (251, 4.0), (159, 1.0), (10, 5.0), (104, 5.0), (164, 2.0), (195, 4.0), (89, 2.0), (83, 2.0), (151, 5.0), (120, 5.0), (75, 4.0), (12, 4.0), (90, 4.0), (166, 4.0), (241, 1.0), (156, 1.0), (37, 5.0), (168, 4.0), (101, 2.0), (182, 4.0), (50, 1.0), (200, 2.0), (44, 4.0), (51, 2.0), (177, 4.0), (57, 4.0), (94, 5.0), (102, 5.0), (27, 3.0), (50, 4.0), (244, 5.0), (177, 5.0), (78, 4.0), (66, 5.0), (5, 5.0), (59, 4.0), (51, 5.0), (139, 3.0), (225, 4.0), (178, 5.0), (153, 4.0), (170, 4.0), (150, 5.0), (38, 2.0), (152, 4.0), (64, 5.0), (136, 5.0), (125, 2.0), (134, 5.0), (86, 3.0), (184, 4.0), (132, 4.0), (103, 5.0), (182, 3.0), (106, 4.0), (17, 3.0), (19, 4.0), (52, 5.0), (197, 4.0), (16, 5.0), (7, 5.0), (87, 4.0), (100, 5.0), (24, 4.0), (242, 5.0), (82, 4.0), (135, 5.0), (129, 4.0), (138, 4.0), (165, 5.0), (99, 4.0), (181, 5.0), (223, 5.0), (209, 4.0), (26, 5.0), (173, 2.0), (136, 4.0), (27, 5.0), (204, 3.0), (250, 1.0), (59, 2.0), (20, 5.0), (22, 5.0), (205, 5.0), (55, 5.0), (160, 5.0), (68, 4.0), (57, 2.0), (73, 4.0), (89, 4.0), (87, 3.0), (10, 4.0), (182, 5.0), (183, 3.0), (256, 1.0), (37, 4.0), (36, 5.0), (188, 4.0), (149, 5.0), (54, 2.0), (29, 5.0), (183, 4.0), (131, 1.0), (182, 2.0), (68, 3.0), (111, 4.0), (52, 3.0), (76, 4.0), (95, 4.0), (49, 5.0), (114, 4.0), (71, 1.0), (186, 4.0), (184, 3.0), (161, 5.0), (159, 4.0), (145, 5.0), (166, 5.0), (88, 5.0), (133, 5.0), (96, 4.0), (108, 1.0), (38, 4.0), (97, 5.0), (145, 4.0), (200, 3.0), (101, 3.0), (91, 5.0), (141, 5.0), (205, 3.0), (11, 5.0), (191, 5.0), (17, 4.0), (150, 1.0), (67, 4.0), (41, 1.0), (45, 5.0), (28, 5.0), (35, 4.0), (4, 5.0), (114, 2.0), (107, 5.0), (51, 4.0), (106, 5.0), (123, 3.0), (162, 4.0), (148, 3.0), (177, 2.0), (100, 3.0), (225, 5.0), (181, 2.0), (140, 3.0), (9, 3.0), (220, 5.0), (42, 5.0), (14, 5.0), (79, 4.0), (29, 3.0), (69, 1.0), (55, 4.0), (116, 5.0)] \n",
      "\n",
      "\n",
      "top 3 values from testset: \n",
      "\n",
      "('Ritesh Kumar', 'realme 8 (Cyber Black, 128 GB)', 3.0)\n",
      "\n",
      "('Amit kumar', 'OPPO A53s 5G (Ink Black, 128 GB)', 5.0)\n",
      "\n",
      "('Satyendra Kumar', 'realme 8s 5G (Universe Purple, 128 GB)', 5.0)\n"
     ]
    }
   ],
   "source": [
    "# Rearrange columns for SVD and prepare train and testsets\n",
    "revs50_ = Dataset.load_from_df(revs_50[['username','productname','rate']], Reader(rating_scale=(1, 10)))\n",
    "trainset, testset = train_test_split(revs50_, test_size=.25,random_state=RS)\n",
    "\n",
    "print('top 3 values from trainset: \\n')\n",
    "for key,value in {k: v for k, v in trainset.ur.items() if k <= 2}.items(): print(key,'-> ',value,'\\n')\n",
    "print('\\ntop 3 values from testset: ', *testset[0:3], sep='\\n\\n')"
   ]
  },
  {
   "cell_type": "code",
   "execution_count": 40,
   "id": "russian-underwear",
   "metadata": {
    "execution": {
     "iopub.execute_input": "2021-05-17T07:46:15.947160Z",
     "iopub.status.busy": "2021-05-17T07:46:15.946134Z",
     "iopub.status.idle": "2021-05-17T07:46:15.949308Z",
     "shell.execute_reply": "2021-05-17T07:46:15.948725Z"
    },
    "papermill": {
     "duration": 0.114257,
     "end_time": "2021-05-17T07:46:15.949449",
     "exception": false,
     "start_time": "2021-05-17T07:46:15.835192",
     "status": "completed"
    },
    "tags": []
   },
   "outputs": [],
   "source": [
    "# Objective: To get top_n recommendation for each user\n",
    "def get_top_n(predictions, n=5):\n",
    "    # First map the predictions to each user.\n",
    "    top_n = defaultdict(list)\n",
    "    for uid, iid, true_r, est, _ in predictions:\n",
    "        top_n[uid].append((iid, est))\n",
    "\n",
    "    # Then sort the predictions for each user and retrieve the n highest ones.\n",
    "    for uid, user_ratings in top_n.items():\n",
    "        user_ratings.sort(key=lambda x: x[1], reverse=True)\n",
    "        top_n[uid] = user_ratings[:n]\n",
    "\n",
    "    return top_n"
   ]
  },
  {
   "cell_type": "code",
   "execution_count": 41,
   "id": "diverse-trout",
   "metadata": {
    "execution": {
     "iopub.execute_input": "2021-05-17T07:46:16.245848Z",
     "iopub.status.busy": "2021-05-17T07:46:16.245189Z",
     "iopub.status.idle": "2021-05-17T07:46:23.952953Z",
     "shell.execute_reply": "2021-05-17T07:46:23.952004Z"
    },
    "papermill": {
     "duration": 7.898488,
     "end_time": "2021-05-17T07:46:23.953114",
     "exception": false,
     "start_time": "2021-05-17T07:46:16.054626",
     "status": "completed"
    },
    "tags": []
   },
   "outputs": [
    {
     "name": "stdout",
     "output_type": "stream",
     "text": [
      "First few prediction values: \n",
      " [Prediction(uid='Ritesh Kumar', iid='realme 8 (Cyber Black, 128 GB)', r_ui=3.0, est=4.325095804467044, details={'was_impossible': False}), Prediction(uid='Amit kumar', iid='OPPO A53s 5G (Ink Black, 128 GB)', r_ui=5.0, est=4.1749933212976424, details={'was_impossible': False})]\n",
      "RMSE: 1.1579\n",
      "\n",
      "RMSE value(test-set):  1.16 \n",
      "\n",
      "RMSE: 1.1579\n",
      "CPU times: total: 3.22 s\n",
      "Wall time: 3.2 s\n"
     ]
    }
   ],
   "source": [
    "%%time\n",
    "# fit and predict using svd\n",
    "def svd_func(train, test):\n",
    "    svd = SVD(random_state=RS)\n",
    "    svd.fit(train)\n",
    "    svd_pred = svd.test(test)\n",
    "    return svd_pred, svd\n",
    "\n",
    "svd_pred, svd = svd_func(trainset,testset)\n",
    "print('First few prediction values: \\n',svd_pred[0:2])\n",
    "print('\\nRMSE value(test-set): ',round(accuracy.rmse(svd_pred),2),'\\n') # compute RMSE\n",
    "svd_rmse = round(accuracy.rmse(svd_pred),2)"
   ]
  },
  {
   "cell_type": "markdown",
   "id": "detailed-journey",
   "metadata": {
    "papermill": {
     "duration": 0.11025,
     "end_time": "2021-05-17T07:46:24.173630",
     "exception": false,
     "start_time": "2021-05-17T07:46:24.063380",
     "status": "completed"
    },
    "tags": []
   },
   "source": [
    "### 4.2. Collaborative filtering model using kNNWithMeans_Item based <a id=\"knnwithmeans_item_based\"></a>\n",
    "[Go to top](#toc)"
   ]
  },
  {
   "cell_type": "code",
   "execution_count": 42,
   "id": "textile-repair",
   "metadata": {
    "execution": {
     "iopub.execute_input": "2021-05-17T07:46:24.602735Z",
     "iopub.status.busy": "2021-05-17T07:46:24.496140Z",
     "iopub.status.idle": "2021-05-17T07:46:42.981797Z",
     "shell.execute_reply": "2021-05-17T07:46:42.980453Z"
    },
    "papermill": {
     "duration": 18.702625,
     "end_time": "2021-05-17T07:46:42.981973",
     "exception": false,
     "start_time": "2021-05-17T07:46:24.279348",
     "status": "completed"
    },
    "tags": []
   },
   "outputs": [
    {
     "name": "stdout",
     "output_type": "stream",
     "text": [
      "Estimating biases using als...\n",
      "Computing the pearson_baseline similarity matrix...\n",
      "Done computing similarity matrix.\n",
      "First few prediction values: \n",
      " [Prediction(uid='Ritesh Kumar', iid='realme 8 (Cyber Black, 128 GB)', r_ui=3.0, est=4.060153650557647, details={'actual_k': 45, 'was_impossible': False}), Prediction(uid='Amit kumar', iid='OPPO A53s 5G (Ink Black, 128 GB)', r_ui=5.0, est=4.337782866513902, details={'actual_k': 29, 'was_impossible': False})]\n",
      "RMSE: 1.1205\n",
      "\n",
      "RMSE value(Item-based Model, test-set):  1.12 \n",
      "\n",
      "RMSE: 1.1205\n",
      "CPU times: total: 2.89 s\n",
      "Wall time: 2.89 s\n"
     ]
    }
   ],
   "source": [
    "%%time\n",
    "# fit and predict using knn\n",
    "def knn_item(train, test):\n",
    "    knn_i = KNNWithMeans(k=50, sim_options={'name': 'pearson_baseline', 'user_based': False})\n",
    "    knn_i.fit(train)\n",
    "    knn_i_pred = knn_i.test(test)\n",
    "    return knn_i_pred, knn_i\n",
    "\n",
    "knn_i_pred, knn_i = knn_item(trainset, testset)\n",
    "print('First few prediction values: \\n',knn_i_pred[0:2])\n",
    "print('\\nRMSE value(Item-based Model, test-set): ',round(accuracy.rmse(knn_i_pred),2),'\\n') # compute RMSE\n",
    "knn_i_rmse = round(accuracy.rmse(knn_i_pred),2)"
   ]
  },
  {
   "cell_type": "code",
   "execution_count": null,
   "id": "deluxe-customer",
   "metadata": {
    "papermill": {
     "duration": 0.107942,
     "end_time": "2021-05-17T07:46:43.198939",
     "exception": false,
     "start_time": "2021-05-17T07:46:43.090997",
     "status": "completed"
    },
    "tags": []
   },
   "outputs": [],
   "source": []
  },
  {
   "cell_type": "markdown",
   "id": "coordinate-newman",
   "metadata": {
    "papermill": {
     "duration": 0.106191,
     "end_time": "2021-05-17T07:46:43.411372",
     "exception": false,
     "start_time": "2021-05-17T07:46:43.305181",
     "status": "completed"
    },
    "tags": []
   },
   "source": [
    "## 4.3. Collaborative filtering model using kNNWithMeans_User based <a id=\"knnwithmeans_user_based\"></a>\n",
    "[Go to top](#toc)"
   ]
  },
  {
   "cell_type": "code",
   "execution_count": 43,
   "id": "intense-horizontal",
   "metadata": {
    "execution": {
     "iopub.execute_input": "2021-05-17T07:46:43.813140Z",
     "iopub.status.busy": "2021-05-17T07:46:43.722384Z",
     "iopub.status.idle": "2021-05-17T07:46:51.643536Z",
     "shell.execute_reply": "2021-05-17T07:46:51.644280Z"
    },
    "papermill": {
     "duration": 8.126717,
     "end_time": "2021-05-17T07:46:51.644539",
     "exception": false,
     "start_time": "2021-05-17T07:46:43.517822",
     "status": "completed"
    },
    "tags": []
   },
   "outputs": [
    {
     "name": "stdout",
     "output_type": "stream",
     "text": [
      "Estimating biases using als...\n",
      "Computing the pearson_baseline similarity matrix...\n",
      "Done computing similarity matrix.\n",
      "First few prediction values: \n",
      " [Prediction(uid='Ritesh Kumar', iid='realme 8 (Cyber Black, 128 GB)', r_ui=3.0, est=4.14149973037323, details={'actual_k': 50, 'was_impossible': False}), Prediction(uid='Amit kumar', iid='OPPO A53s 5G (Ink Black, 128 GB)', r_ui=5.0, est=4.032140242418939, details={'actual_k': 50, 'was_impossible': False})]\n",
      "RMSE: 1.1704\n",
      "\n",
      "RMSE value(User-based Model, test-set):  1.17 \n",
      "\n",
      "RMSE: 1.1704\n",
      "CPU times: total: 5.67 s\n",
      "Wall time: 5.68 s\n"
     ]
    }
   ],
   "source": [
    "%%time\n",
    "# fit and predict using knn\n",
    "def knn_user(train, test):\n",
    "    knn_u = KNNWithMeans(k=50, sim_options={'name': 'pearson_baseline', 'user_based': True})\n",
    "    knn_u.fit(train)\n",
    "    knn_u_pred = knn_u.test(test)\n",
    "    return knn_u_pred, knn_u\n",
    "\n",
    "knn_u_pred, knn_u = knn_user(trainset, testset)\n",
    "print('First few prediction values: \\n',knn_u_pred[0:2])\n",
    "print('\\nRMSE value(User-based Model, test-set): ',round(accuracy.rmse(knn_u_pred),2),'\\n') # compute RMSE\n",
    "knn_u_rmse = round(accuracy.rmse(knn_u_pred),2)"
   ]
  },
  {
   "cell_type": "markdown",
   "id": "weighted-passenger",
   "metadata": {
    "papermill": {
     "duration": 0.112457,
     "end_time": "2021-05-17T07:46:52.093463",
     "exception": false,
     "start_time": "2021-05-17T07:46:51.981006",
     "status": "completed"
    },
    "tags": []
   },
   "source": [
    "## 5. Show RMSE value and comparison <a id=\"rmse\"></a>\n",
    "[Go to top](#toc)"
   ]
  },
  {
   "cell_type": "code",
   "execution_count": 44,
   "id": "packed-genome",
   "metadata": {
    "execution": {
     "iopub.execute_input": "2021-05-17T07:46:52.375115Z",
     "iopub.status.busy": "2021-05-17T07:46:52.374434Z",
     "iopub.status.idle": "2021-05-17T07:46:52.492027Z",
     "shell.execute_reply": "2021-05-17T07:46:52.491101Z"
    },
    "papermill": {
     "duration": 0.287043,
     "end_time": "2021-05-17T07:46:52.492177",
     "exception": false,
     "start_time": "2021-05-17T07:46:52.205134",
     "status": "completed"
    },
    "tags": []
   },
   "outputs": [
    {
     "data": {
      "text/plain": [
       "<AxesSubplot:>"
      ]
     },
     "execution_count": 44,
     "metadata": {},
     "output_type": "execute_result"
    },
    {
     "data": {
      "image/png": "[encoded data removed]",
      "text/plain": [
       "<Figure size 432x288 with 1 Axes>"
      ]
     },
     "metadata": {
      "needs_background": "light"
     },
     "output_type": "display_data"
    }
   ],
   "source": [
    "# Comparison of RMSE scores from different collaorative algorithms\n",
    "sns.barplot(x=['svd_rmse','knn_i_rmse', 'knn_u_rmse'],y=[svd_rmse,knn_i_rmse, knn_u_rmse])"
   ]
  },
  {
   "cell_type": "markdown",
   "id": "departmental-feeding",
   "metadata": {
    "papermill": {
     "duration": 0.111357,
     "end_time": "2021-05-17T07:46:52.715358",
     "exception": false,
     "start_time": "2021-05-17T07:46:52.604001",
     "status": "completed"
    },
    "tags": []
   },
   "source": [
    "Best RMSE score is given by knn (item based), so let's use it for further analyssi"
   ]
  },
  {
   "cell_type": "markdown",
   "id": "possible-separate",
   "metadata": {
    "papermill": {
     "duration": 0.110352,
     "end_time": "2021-05-17T07:46:52.936202",
     "exception": false,
     "start_time": "2021-05-17T07:46:52.825850",
     "status": "completed"
    },
    "tags": []
   },
   "source": [
    "## 6. Average ratings for test users <a id=\"average_rating\"></a>\n",
    "[Go to top](#toc)"
   ]
  },
  {
   "cell_type": "code",
   "execution_count": 45,
   "id": "advisory-carbon",
   "metadata": {
    "execution": {
     "iopub.execute_input": "2021-05-17T07:46:53.169292Z",
     "iopub.status.busy": "2021-05-17T07:46:53.168561Z",
     "iopub.status.idle": "2021-05-17T07:46:53.207436Z",
     "shell.execute_reply": "2021-05-17T07:46:53.207931Z"
    },
    "papermill": {
     "duration": 0.160138,
     "end_time": "2021-05-17T07:46:53.208111",
     "exception": false,
     "start_time": "2021-05-17T07:46:53.047973",
     "status": "completed"
    },
    "tags": []
   },
   "outputs": [
    {
     "name": "stdout",
     "output_type": "stream",
     "text": [
      "average prediction for test users:  4.136195846822805\n",
      "average rating  by test users:  4.131767816670863\n",
      "average prediction error for test users:  0.879037516250093\n"
     ]
    }
   ],
   "source": [
    "svd_pred_df=pd.DataFrame(svd_pred, columns=['uid', 'iid', 'rui', 'est', 'details'])\n",
    "print('average prediction for test users: ',svd_pred_df['est'].mean())\n",
    "print('average rating  by test users: ',svd_pred_df['rui'].mean())\n",
    "print('average prediction error for test users: ',(svd_pred_df['rui']-svd_pred_df['est']).abs().mean())"
   ]
  },
  {
   "cell_type": "code",
   "execution_count": 46,
   "id": "heavy-shelf",
   "metadata": {
    "execution": {
     "iopub.execute_input": "2021-05-17T07:46:53.473052Z",
     "iopub.status.busy": "2021-05-17T07:46:53.472365Z",
     "iopub.status.idle": "2021-05-17T07:46:53.484647Z",
     "shell.execute_reply": "2021-05-17T07:46:53.485145Z"
    },
    "papermill": {
     "duration": 0.164163,
     "end_time": "2021-05-17T07:46:53.485351",
     "exception": false,
     "start_time": "2021-05-17T07:46:53.321188",
     "status": "completed"
    },
    "tags": []
   },
   "outputs": [
    {
     "name": "stdout",
     "output_type": "stream",
     "text": [
      "average prediction for test users:  4.102762544763065\n",
      "average rating  by test users:  4.131767816670863\n",
      "average prediction error for test users:  0.825930554791147\n"
     ]
    }
   ],
   "source": [
    "knn_i_pred_df=pd.DataFrame(knn_i_pred, columns=['uid', 'iid', 'rui', 'est', 'details'])\n",
    "print('average prediction for test users: ',knn_i_pred_df['est'].mean())\n",
    "print('average rating  by test users: ',knn_i_pred_df['rui'].mean())\n",
    "print('average prediction error for test users: ',(knn_i_pred_df['rui']-knn_i_pred_df['est']).abs().mean())"
   ]
  },
  {
   "cell_type": "code",
   "execution_count": 47,
   "id": "excessive-intermediate",
   "metadata": {
    "execution": {
     "iopub.execute_input": "2021-05-17T07:46:53.736147Z",
     "iopub.status.busy": "2021-05-17T07:46:53.726430Z",
     "iopub.status.idle": "2021-05-17T07:46:53.754154Z",
     "shell.execute_reply": "2021-05-17T07:46:53.754752Z"
    },
    "papermill": {
     "duration": 0.158785,
     "end_time": "2021-05-17T07:46:53.754952",
     "exception": false,
     "start_time": "2021-05-17T07:46:53.596167",
     "status": "completed"
    },
    "tags": []
   },
   "outputs": [
    {
     "name": "stdout",
     "output_type": "stream",
     "text": [
      "average prediction for test users:  4.112924722253826\n",
      "average rating  by test users:  4.131767816670863\n",
      "average prediction error for test users:  0.8904575319335452\n"
     ]
    }
   ],
   "source": [
    "knn_u_pred_df=pd.DataFrame(knn_u_pred, columns=['uid', 'iid', 'rui', 'est', 'details'])\n",
    "print('average prediction for test users: ',knn_u_pred_df['est'].mean())\n",
    "print('average rating  by test users: ',knn_u_pred_df['rui'].mean())\n",
    "print('average prediction error for test users: ',(knn_u_pred_df['rui']-knn_u_pred_df['est']).abs().mean())"
   ]
  },
  {
   "cell_type": "markdown",
   "id": "appointed-toyota",
   "metadata": {
    "papermill": {
     "duration": 0.109975,
     "end_time": "2021-05-17T07:46:53.985872",
     "exception": false,
     "start_time": "2021-05-17T07:46:53.875897",
     "status": "completed"
    },
    "tags": []
   },
   "source": [
    "## 7. Summary (findings and Inferences) <a id=\"summary_inferences\"></a>\n",
    "[Go to top](#toc)\n",
    "\n",
    "1. Most popular phone (rated 10 by highest number of people):  \n",
    "        * Overall: verykool t742\n",
    "        * Amongst top users: samsung e1120       \n",
    "2. Overall data is highly skewed towards 'Amazon customers' from different countries. This may also be because 'Amazon' is the biggest trader for phones in the world. Although correct 'user' names from 'Amazon' should have used.\n",
    "3. Most of the authors have given the rating of '10' or '8'\n",
    "4. Both knn_i(item-based) and knn_u(user-based) have roughly similar RMSE"
   ]
  },
  {
   "cell_type": "markdown",
   "id": "junior-treatment",
   "metadata": {
    "papermill": {
     "duration": 0.110727,
     "end_time": "2021-05-17T07:46:54.209711",
     "exception": false,
     "start_time": "2021-05-17T07:46:54.098984",
     "status": "completed"
    },
    "tags": []
   },
   "source": [
    "## 8. Recommend top 5 products for test users <a id=\"recommend_top_5\"></a>\n",
    "[Go to top](#toc)"
   ]
  },
  {
   "cell_type": "code",
   "execution_count": 53,
   "id": "strange-norman",
   "metadata": {
    "execution": {
     "iopub.execute_input": "2021-05-17T07:46:54.473992Z",
     "iopub.status.busy": "2021-05-17T07:46:54.472968Z",
     "iopub.status.idle": "2021-05-17T07:46:54.933125Z",
     "shell.execute_reply": "2021-05-17T07:46:54.933915Z"
    },
    "papermill": {
     "duration": 0.614735,
     "end_time": "2021-05-17T07:46:54.934158",
     "exception": false,
     "start_time": "2021-05-17T07:46:54.319423",
     "status": "completed"
    },
    "scrolled": true,
    "tags": []
   },
   "outputs": [
    {
     "name": "stdout",
     "output_type": "stream",
     "text": [
      "Top 5 recommendations for all test users are: \n",
      "\n",
      "Ritesh Kumar ->  [('APPLE iPhone 11 (Red, 64 GB)', 5.0967564309943025), ('APPLE iPhone 12 (Black, 128 GB)', 5.026963094797219), ('APPLE iPhone 11 (Green, 128 GB)', 5.007190260615811), ('REDMI Note 10S (Cosmic Purple, 64 GB)', 4.851394794273744), ('Infinix Hot 10 (Amber Red, 64 GB)', 4.733503341167789)] \n",
      "\n",
      "Amit kumar ->  [('REDMI 9 Power (Blazing Blue, 64 GB)', 4.582997912660845), ('APPLE iPhone 11 (White, 128 GB)', 4.366655094300396), ('LAVA A1', 4.2918639151745275), ('APPLE iPhone 11 (Red, 64 GB)', 4.272457875139299), ('vivo T1 5G (Starlight Black, 128 GB)', 4.262238520849551)] \n",
      "\n",
      "Satyendra Kumar ->  [('realme 8s 5G (Universe Purple, 128 GB)', 4.453209517045286), ('REDMI 9 Power (Mighty Black, 64 GB)', 4.4035231822048635), ('Kechaoda K66 Plus', 4.3875280297520325), ('REDMI 9 Prime (Matte Black, 64 GB)', 4.387482097996756), ('REDMI 9 Power (Blazing Blue, 64 GB)', 4.3774504105325995)] \n",
      "\n",
      "Santosh Kumar ->  [('APPLE iPhone 11 (Yellow, 128 GB)', 4.798949818647238), ('APPLE iPhone SE (Red, 128 GB)', 4.729810251047894), ('REDMI Note 9 (Shadow Black, 64 GB)', 4.707404345115347), ('vivo T1 5G (Rainbow Fantasy, 128 GB)', 4.651259166177779), ('realme C11 2021 (Cool Blue, 64 GB)', 4.646370538923593)] \n",
      "\n",
      "Vinod Kumar ->  [('realme 8s 5G (Universe Purple, 128 GB)', 4.6440422837815865), ('realme 8s 5G (Universe Purple, 128 GB)', 4.6440422837815865), ('APPLE iPhone 11 (Green, 128 GB)', 4.6229990949697815), ('APPLE iPhone 11 (Red, 64 GB)', 4.597937528087431), ('APPLE iPhone SE (Black, 128 GB)', 4.54083281693545)] \n",
      "\n",
      "Ankit  Kumar ->  [('realme Narzo 50A (Oxygen Green, 64 GB)', 4.726228753233714), ('Infinix Smart 5A (Ocean Wave, 32 GB)', 4.584012718156845), ('SAMSUNG Galaxy F12 (Sea Green, 64 GB)', 4.566786576715093), ('LAVA A1 Josh', 4.541958694333683), ('POCO M2 Pro (Two Shades of Black, 64 GB)', 4.529209089561952)] \n",
      "\n",
      "Abhay Kumar ->  [('APPLE iPhone 12 (White, 256 GB)', 4.753118535248459), ('APPLE iPhone 12 (Blue, 64 GB)', 4.735189350253415), ('POCO M2 Pro (Out of the Blue, 64 GB)', 4.694155772359622), ('realme C25Y (Glacier Blue, 128 GB)', 4.690647393382934), ('Infinix Smart 5A (Quetzal Cyan, 32 GB)', 4.673300123184922)] \n",
      "\n",
      "Aditya Singh ->  [('APPLE iPhone SE (White, 64 GB)', 4.615599364395377), ('POCO M2 Pro (Two Shades of Black, 64 GB)', 4.600719846514713), ('realme GT Master Edition (Voyager Grey, 256 GB)', 4.596566544416917), ('APPLE iPhone SE (White, 128 GB)', 4.514755747414882), ('APPLE iPhone 12 (Black, 128 GB)', 4.493287575325137)] \n",
      "\n",
      "Kuldeep Kumar ->  [('APPLE iPhone 11 (Purple, 64 GB)', 5.0886128929188805), ('realme C25Y (Metal Grey, 64 GB)', 4.800522701924888), ('realme GT Master Edition (Luna White, 256 GB)', 4.771767380786039), ('OPPO F17 Pro (Metallic White, 128 GB)', 4.605934084322275), ('REDMI 9 Prime (Matte Black, 64 GB)', 4.498107097065093)] \n",
      "\n",
      "Abhishek Mishra ->  [('APPLE iPhone 12 Mini (White, 64 GB)', 4.873752838063273), ('realme Narzo 50A (Oxygen Blue, 128 GB)', 4.601752569214186), ('SAMSUNG Guru Music 2', 4.571242964549525), ('POCO M3 Pro 5G (Cool Blue, 64 GB)', 4.549202350092592), ('Micromax IN Note 1 (White, 64 GB)', 4.534954206660278)] \n",
      "\n",
      "Sandeep Kumar ->  [('APPLE iPhone 11 (Black, 64 GB)', 4.5824153128098395), ('realme C35 (Glowing Black, 64 GB)', 4.567705109423771), ('APPLE iPhone 11 (Green, 128 GB)', 4.48850842411845), ('APPLE iPhone 11 (Purple, 64 GB)', 4.447100232847731), ('realme C25Y (Metal Grey, 128 GB)', 4.417453431712208)] \n",
      "\n",
      "Manish Kumar ->  [('APPLE iPhone 11 (Yellow, 128 GB)', 4.591991123104501), ('Infinix Hot 11S (7° Purple, 128 GB)', 4.46973216982347), ('realme 9 Pro 5G (Midnight Black, 128 GB)', 4.45868307522526), ('REDMI Note 10S (Frost White, 64 GB)', 4.44922171028843), ('realme Narzo 30 5G (Racing Blue, 128 GB)', 4.416325344788991)] \n",
      "\n",
      "Flipkart Customer ->  [('REDMI 9i (Sea Blue, 64 GB)', 4.235550916845141), ('REDMI 9i (Sea Blue, 64 GB)', 4.235550916845141), ('REDMI 9i (Sea Blue, 64 GB)', 4.235550916845141), ('SAMSUNG GT-E1215', 4.152852048608775), ('SAMSUNG GT-E1215', 4.152852048608775)] \n",
      "\n",
      "Rahul Kumar ->  [('APPLE iPhone 12 (Black, 64 GB)', 4.701750083302674), ('APPLE iPhone 12 (Purple, 64 GB)', 4.679234193287666), ('vivo V23 5G (Stardust Black, 128 GB)', 4.553633957334012), ('realme C25 (Watery Blue, 64 GB)', 4.542794834999645), ('realme Narzo 30 (Racing Silver, 64 GB)', 4.532614767266689)] \n",
      "\n",
      "Sonu Kumar ->  [('OPPO A31 (Mystery Black, 64 GB)', 4.852128494378004), ('APPLE iPhone 12 (White, 64 GB)', 4.829980099664879), ('OPPO A31 (Lake Green, 64 GB)', 4.795039840268584), ('REDMI Note 9 (Aqua Green, 64 GB)', 4.773434422427705), ('REDMI Note 9 (Aqua Green, 64 GB)', 4.773434422427705)] \n",
      "\n",
      "Aditya Kumar ->  [('APPLE iPhone 11 (Purple, 128 GB)', 4.575523359878178), ('APPLE iPhone 11 (Black, 64 GB)', 4.565703069874837), ('Infinix Hot 10 Play (Obsidian Black, 64 GB)', 4.525700068652008), ('APPLE iPhone 11 (White, 128 GB)', 4.5052105990351405), ('APPLE iPhone 11 (Green, 128 GB)', 4.484366633169053)] \n",
      "\n",
      "Kapil Kumar ->  [('Infinix Hot 10 (Amber Red, 64 GB)', 4.8243402825910895), ('realme 8s 5G (Universe Purple, 128 GB)', 4.647990763284631), ('SAMSUNG Galaxy F12 (Sea Green, 128 GB)', 4.647424011018771), ('SAMSUNG Galaxy F12 (Sea Green, 128 GB)', 4.647424011018771), ('POCO M3 (Cool Blue, 64 GB)', 4.618274880755669)] \n",
      "\n",
      "Sunil Singh ->  [('realme GT Master Edition (Cosmos Black, 128 GB)', 4.135731997196226), ('OPPO A12 (Blue, 32 GB)', 4.120118933146811), ('realme Narzo 50A (Oxygen Blue, 64 GB)', 4.043220832903241), ('Infinix Smart HD 2021 (Quartz Green, 32 GB)', 4.027254760044264), ('realme Narzo 50A (Oxygen Green, 128 GB)', 4.021633104975157)] \n",
      "\n",
      "sachin kumar ->  [('APPLE iPhone 12 (Black, 64 GB)', 5.233218671292246), ('realme Narzo 30 5G (Racing Silver, 128 GB)', 5.037308190002767), ('Infinix Note 11 (Celestial Snow, 64 GB)', 5.02330832078362), ('REDMI Note 9 (Aqua Green, 64 GB)', 4.987154112603414), ('Micromax IN Note 1 (White, 64 GB)', 4.974020609550463)] \n",
      "\n",
      "Sumit Kumar ->  [('realme Narzo 50i (Carbon Black, 32 GB)', 4.6680465574412375), ('realme Narzo 50i (Mint Green, 32 GB)', 4.581446344298255), ('realme 9i (Prism Blue, 128 GB)', 4.523623331389985), ('vivo T1 5G (Rainbow Fantasy, 128 GB)', 4.510847536437267), ('APPLE iPhone 11 (Green, 128 GB)', 4.475960286135026)] \n",
      "\n",
      "Ajay Singh ->  [('vivo V23 5G (Stardust Black, 128 GB)', 4.779446603472881), ('APPLE iPhone 12 (Blue, 64 GB)', 4.659713279341763), ('APPLE iPhone 12 (Green, 64 GB)', 4.619731338458182), ('Infinix Hot 10 (Ocean Wave, 64 GB)', 4.5768804157965715), ('Infinix Hot 11S (Polar Black, 128 GB)', 4.528949992672194)] \n",
      "\n",
      "Vijay ->  [('Micromax IN Note 1 (White, 64 GB)', 4.59372774738722), ('Micromax IN Note 1 (Green, 64 GB)', 4.383966117109327), ('Nokia 105', 4.342746188716838), ('APPLE iPhone SE (Red, 128 GB)', 4.34178966130125), ('APPLE iPhone SE (Black, 128 GB)', 4.206576368841038)] \n",
      "\n",
      "Rohit Kumar ->  [('OPPO A31 (Fantasy White, 128 GB)', 4.771568823855695), ('OPPO F17 Pro (Matte Black, 128 GB)', 4.74116267901941), ('OPPO F17 Pro (Metallic White, 128 GB)', 4.663415091992174), ('APPLE iPhone 11 (White, 64 GB)', 4.537590608591887), ('APPLE iPhone 11 (Red, 64 GB)', 4.50675695830703)] \n",
      "\n",
      "Vijay Kumar ->  [('Infinix Hot 11S (Silver Wave, 128 GB)', 4.740077162006873), ('REDMI Note 10S (Deep Sea Blue, 128 GB)', 4.706638844488514), ('realme 9i (Prism Blue, 64 GB)', 4.683745947871516), ('Infinix Hot 11S (7° Purple, 128 GB)', 4.6216944657374865), ('Infinix Hot 11S (7° Purple, 128 GB)', 4.6216944657374865)] \n",
      "\n",
      "Sonu Yadav ->  [('Infinix Hot 10 Play (Aegean Blue, 64 GB)', 5.326475008100965), ('POCO M2 Pro (Out of the Blue, 64 GB)', 5.275887008398755), ('Infinix Smart 5 (Morandi Green, 32 GB)', 5.243505910976978), ('SAMSUNG Galaxy F22 (Denim Black, 128 GB)', 5.239276627845607), ('REDMI 9i Sport (Carbon Black, 64 GB)', 5.2236376655684404)] \n",
      "\n",
      "Pankaj Kumar ->  [('APPLE iPhone 12 (Black, 128 GB)', 4.760428523145892), ('APPLE iPhone 12 (Black, 64 GB)', 4.71262402344619), ('APPLE iPhone 12 (Blue, 64 GB)', 4.709485758337341), ('Redmi 9A (Midnight Black, 32 GB)', 4.691000122139668), ('APPLE iPhone 12 (Green, 64 GB)', 4.656458377568436)] \n",
      "\n",
      "Sonu  Kumar ->  [('REDMI Note 10S (Frost White, 64 GB)', 4.716469061421777), ('REDMI Note 10S (Deep Sea Blue, 128 GB)', 4.671229706438596), ('SAMSUNG Galaxy F22 (Denim Blue, 64 GB)', 4.583031868948131), ('Infinix Smart 5 (Aegean Blue, 32 GB)', 4.566050985626971), ('LAVA A3', 4.523249234272516)] \n",
      "\n",
      "Pankaj Yadav ->  [('APPLE iPhone 12 (Black, 64 GB)', 4.953518404324851), ('APPLE iPhone 12 (Purple, 64 GB)', 4.88648165860134), ('Xiaomi 11i 5G (Stealth Black, 128 GB)', 4.816422607383625), ('realme 8i (Space Black, 128 GB)', 4.790755795982218), ('APPLE iPhone 12 (White, 64 GB)', 4.780240157810717)] \n",
      "\n",
      "Bhupendra Singh ->  [('APPLE iPhone 11 (Red, 64 GB)', 5.179626002386469), ('APPLE iPhone 11 (White, 128 GB)', 5.091147054718151), ('Xiaomi 11i 5G (Purple Mist, 128 GB)', 4.9136654291678825), ('APPLE iPhone SE (White, 64 GB)', 4.854696062913558), ('Xiaomi 11i 5G (Camo Green, 128 GB)', 4.79057216817924)] \n",
      "\n",
      "CHANDAN KUMAR ->  [('realme C25s (Watery Grey, 128 GB)', 5.13129771962405), ('Infinix Hot 11S (Polar Black, 64 GB)', 5.099734437216418), ('realme Narzo 30 5G (Racing Blue, 128 GB)', 5.0960065446625595), ('Infinix Hot 10 Play (7° Purple, 64 GB)', 5.0926675953254374), ('realme C25 (Watery Blue, 64 GB)', 5.046057764964726)] \n",
      "\n",
      "Ankit Singh ->  [('REDMI 9 Power (Blazing Blue, 64 GB)', 4.677671555386568), ('Infinix Hot 11S (7° Purple, 128 GB)', 4.654420863399631), ('Infinix Hot 11S (Silver Wave, 128 GB)', 4.5991190599820895), ('realme C21 (Cross Blue, 64 GB)', 4.557718156874849), ('Infinix Smart 5A (Ocean Wave, 32 GB)', 4.547507496056362)] \n",
      "\n",
      "sonu kumar ->  [('Infinix Smart 5A (Midnight Black, 32 GB)', 4.419549580937186), ('Infinix Smart 5A (Ocean Wave, 32 GB)', 4.398735167484853), ('realme Narzo 30 (Racing Blue, 64 GB)', 4.096367240586752), ('realme 8s 5G (Universe Blue, 128 GB)', 3.903010255533326), ('Infinix Hot 10 (Ocean Wave, 64 GB)', 3.81043959739388)] \n",
      "\n",
      "Sandeep  Kumar  ->  [('APPLE iPhone 12 Mini (White, 64 GB)', 4.447533216644574), ('Infinix Hot 10 Play (Obsidian Black, 64 GB)', 4.339939261677144), ('REDMI Note 9 (Aqua Green, 64 GB)', 4.299718446667461), ('Infinix Hot 10 (Ocean Wave, 64 GB)', 4.285650800425255), ('POCO M3 Pro 5G (Cool Blue, 64 GB)', 4.22069697686855)] \n",
      "\n",
      "Anuj Kumar ->  [('APPLE iPhone 11 (Purple, 128 GB)', 4.7307949479037505), ('APPLE iPhone 11 (Black, 128 GB)', 4.695842293663624), ('APPLE iPhone 12 (Green, 64 GB)', 4.682385935917334), ('APPLE iPhone 11 (White, 64 GB)', 4.67285582296515), ('REDMI 9i (Midnight Black, 64 GB)', 4.593471422038006)] \n",
      "\n",
      "Amit Kumar ->  [('Nokia TA-1010/105', 4.6887388763773945), ('APPLE iPhone 12 (Green, 64 GB)', 4.574927695972154), ('REDMI 9i (Sea Blue, 64 GB)', 4.564206457047733), ('APPLE iPhone 11 (Purple, 64 GB)', 4.52907840654094), ('APPLE iPhone 11 (Black, 128 GB)', 4.521415176933125)] \n",
      "\n",
      "Pradeep  Kumar ->  [('APPLE iPhone SE (Red, 128 GB)', 4.895766902974949), ('REDMI 9i (Nature Green, 64 GB)', 4.593322137142898), ('Infinix Smart 5 (Morandi Green, 32 GB)', 4.556243726396253), ('realme C21 (Cross Black, 64 GB)', 4.554981147315533), ('OPPO A33 (Moonlight Black, 32 GB)', 4.538742358062954)] \n",
      "\n",
      "Rajesh Kumar ->  [('Kechaoda K116', 4.640411990323067), ('realme Narzo 50i (Carbon Black, 32 GB)', 4.611677075150039), ('LAVA A1 Josh', 4.583787612057307), ('Infinix Hot 11S (7° Purple, 128 GB)', 4.5549673204233425), ('realme Narzo 50i (Mint Green, 32 GB)', 4.510738503932432)] \n",
      "\n",
      "chandan kumar ->  [('realme 9i (Prism Blue, 128 GB)', 4.719924098577904), ('realme 8s 5G (Universe Purple, 128 GB)', 4.656513046610447), ('realme Narzo 30 (Racing Blue, 128 GB)', 4.491998316463721), ('realme C25s (Watery Blue, 128 GB)', 4.314616202088277), ('realme Narzo 30 (Racing Silver, 128 GB)', 4.2934650576434406)] \n",
      "\n",
      "Raj ->  [('REDMI Note 9 (Aqua Green, 64 GB)', 4.081385724221472), ('Nokia 105', 3.9998079356842093), ('realme Narzo 50A (Oxygen Blue, 128 GB)', 3.9437228469454606), ('realme GT Master Edition (Voyager Grey, 256 GB)', 3.918288606043106), ('Xiaomi 11i 5G (Purple Mist, 128 GB)', 3.8121898933990868)] \n",
      "\n",
      "Abhishek Gupta ->  [('APPLE iPhone 12 (White, 256 GB)', 4.32344929659071), ('APPLE iPhone 12 (Blue, 64 GB)', 4.283275117760891), ('realme 8 5G (Supersonic Blue, 64 GB)', 4.261167166396945), ('APPLE iPhone SE (Red, 64 GB)', 4.249478464885537), ('realme 8 (Cyber Black, 128 GB)', 4.2478374788405375)] \n",
      "\n",
      "Vishnu Kumar ->  [('Infinix Smart HD 2021 (Obsidian Black, 32 GB)', 4.46891293205286), ('OPPO A53s 5G (Ink Black, 128 GB)', 4.387139814933491), ('vivo T1 5G (Starlight Black, 128 GB)', 4.355924531338166), ('realme C25Y (Metal Grey, 64 GB)', 4.33321400520869), ('OPPO A53s 5G (Crystal Blue, 128 GB)', 4.241502517611473)] \n",
      "\n",
      "Rohit Yadav ->  [('APPLE iPhone 12 Mini (White, 64 GB)', 4.75497232006921), ('SAMSUNG Galaxy F12 (Sky Blue, 128 GB)', 4.710153363973306), ('SAMSUNG Galaxy F12 (Sky Blue, 64 GB)', 4.701681681137821), ('APPLE iPhone 12 Mini (Blue, 64 GB)', 4.559106400896979), ('LAVA A1', 4.5500813718758115)] \n",
      "\n",
      "Mohan Raj ->  [('APPLE iPhone 12 (White, 256 GB)', 4.907024106825324), ('APPLE iPhone 12 (Red, 128 GB)', 4.8710589010026), ('Infinix Hot 11S (Green Wave, 64 GB)', 4.704619983500803), ('realme Narzo 50A (Oxygen Blue, 128 GB)', 4.639214051423514), ('realme Narzo 30 5G (Racing Silver, 128 GB)', 4.592183260197135)] \n",
      "\n",
      "Ajay Kumar ->  [('APPLE iPhone 12 (Blue, 64 GB)', 4.558406100716112), ('OPPO F17 Pro (Magic Blue, 128 GB)', 4.520597612835043), ('Infinix Note 11 (Celestial Snow, 64 GB)', 4.481629898070651), ('Infinix Smart HD 2021 (Quartz Green, 32 GB)', 4.417691476702655), ('Infinix Hot 11S (Silver Wave, 128 GB)', 4.407713531552837)] \n",
      "\n",
      "Aditya Sharma ->  [('APPLE iPhone 11 (Yellow, 64 GB)', 5.082109721006386), ('APPLE iPhone 11 (Yellow, 128 GB)', 5.0649415117198355), ('APPLE iPhone 11 (Black, 128 GB)', 5.054325408499794), ('APPLE iPhone 12 (Blue, 64 GB)', 4.875577831896916), ('Infinix Hot 10 Play (Aegean Blue, 64 GB)', 4.724764575994936)] \n",
      "\n",
      "Subhash Kumar ->  [('realme Narzo 30 (Racing Blue, 128 GB)', 4.794307837701099), ('Infinix Smart 5A (Midnight Black, 32 GB)', 4.701823871941743), ('realme C25Y (Glacier Blue, 128 GB)', 4.692147193556764), ('Infinix Smart 5A (Ocean Wave, 32 GB)', 4.628575909823716), ('realme Narzo 30 (Racing Silver, 64 GB)', 4.539614498833085)] \n",
      "\n",
      "Sahil ->  [('Infinix Hot 11S (7° Purple, 64 GB)', 5.088402938395447), ('APPLE iPhone 11 (White, 64 GB)', 5.030428074386349), ('Infinix Hot 11S (Green Wave, 64 GB)', 4.990171176977509), ('Infinix Hot 11S (Silver Wave, 64 GB)', 4.962546098526791), ('Infinix Smart HD 2021 (Quartz Green, 32 GB)', 4.86275125333246)] \n",
      "\n",
      "Satish Kumar ->  [('realme Narzo 50i (Mint Green, 32 GB)', 4.538214082357625), ('Infinix Smart 5 (7 Purple, 32 GB)', 4.3725326017937896), ('APPLE iPhone 12 (White, 64 GB)', 4.314392594794032), ('realme GT Master Edition (Luna White, 256 GB)', 4.313561940557794), ('realme Narzo 20 (Victory Blue, 128 GB)', 4.237718131627627)] \n",
      "\n",
      "Mohit Kumar ->  [('APPLE iPhone 12 (Red, 128 GB)', 4.552696896676515), ('APPLE iPhone 12 (Purple, 64 GB)', 4.53487249144251), ('SAMSUNG Galaxy F12 (Sea Green, 64 GB)', 4.439696409481253), ('Infinix Hot 11S (Green Wave, 64 GB)', 4.409994828334682), ('SAMSUNG Galaxy F12 (Sea Green, 128 GB)', 4.388261749459087)] \n",
      "\n",
      "Rajesh Gupta ->  [('realme Narzo 50A (Oxygen Green, 64 GB)', 4.818519506167353), ('Infinix Smart 5 (7 Purple, 32 GB)', 4.726978280359859), ('POCO M3 (Cool Blue, 64 GB)', 4.507486597204625), ('Infinix Smart 5 (Aegean Blue, 32 GB)', 4.416896066801582), ('Redmi 9A (Midnight Black, 32 GB)', 4.345070573738671)] \n",
      "\n",
      "Bhanu Prakash ->  [('APPLE iPhone SE (Red, 64 GB)', 4.876761619135331), ('APPLE iPhone SE (White, 128 GB)', 4.769631540757726), ('APPLE iPhone SE (Black, 128 GB)', 4.755716803392624), ('realme Narzo 50A (Oxygen Blue, 64 GB)', 4.649332397163426), ('POCO M3 (Cool Blue, 64 GB)', 4.621217579699404)] \n",
      "\n",
      "Ram Kumar ->  [('APPLE iPhone SE (Red, 128 GB)', 4.565126462525246), ('POCO X3 (Shadow Gray, 64 GB)', 4.495346264503144), ('SAMSUNG Galaxy F12 (Sea Green, 64 GB)', 4.437296390625644), ('SAMSUNG Galaxy F12 (Sea Green, 128 GB)', 4.4349857346334165), ('Infinix Hot 10 (Ocean Wave, 64 GB)', 4.433926506604938)] \n",
      "\n",
      "Ravindra Kumar ->  [('APPLE iPhone 11 (Red, 64 GB)', 4.882664641238429), ('APPLE iPhone 12 (White, 256 GB)', 4.753932401532862), ('APPLE iPhone 12 (Green, 64 GB)', 4.737927048081885), ('APPLE iPhone 12 Mini (Black, 64 GB)', 4.527221027167263), ('realme 9i (Prism Blue, 128 GB)', 4.507736933344562)] \n",
      "\n",
      "Gautam Kumar ->  [('APPLE iPhone 11 (Green, 128 GB)', 4.994838386183654), ('LAVA A1 Josh', 4.926780451987431), ('APPLE iPhone 11 (Red, 64 GB)', 4.924667624689947), ('APPLE iPhone 11 (Purple, 64 GB)', 4.872749622381595), ('APPLE iPhone 11 (Yellow, 64 GB)', 4.835511830563366)] \n",
      "\n",
      "Anuj  Kumar ->  [('Infinix Hot 11S (Green Wave, 128 GB)', 4.925557492015991), ('Infinix Hot 11S (7° Purple, 64 GB)', 4.814821745460277), ('OPPO A53s 5G (Ink Black, 128 GB)', 4.803989382617863), ('realme 8s 5G (Universe Blue, 128 GB)', 4.771957914123705), ('Infinix Hot 10 Play (Obsidian Black, 64 GB)', 4.655177444299551)] \n",
      "\n",
      "Ravi Yadav ->  [('APPLE iPhone 12 (Blue, 64 GB)', 4.720754061561432), ('APPLE iPhone 12 Mini (White, 64 GB)', 4.7120658754123355), ('SAMSUNG Galaxy F12 (Sky Blue, 64 GB)', 4.70749422684592), ('APPLE iPhone 12 Mini (Blue, 64 GB)', 4.689664559506204), ('APPLE iPhone 12 Mini (Blue, 64 GB)', 4.689664559506204)] \n",
      "\n",
      "Kundan Kumar ->  [('Infinix Hot 10 Play (Obsidian Black, 64 GB)', 4.682014922573541), ('Infinix Hot 10 (Ocean Wave, 64 GB)', 4.66534954821398), ('Infinix Hot 10 (Ocean Wave, 64 GB)', 4.66534954821398), ('OPPO A12 (Blue, 64 GB)', 4.618290040465188), ('Xiaomi 11i 5G (Purple Mist, 128 GB)', 4.579207822766652)] \n",
      "\n",
      "Ashish Yadav ->  [('OPPO Reno6 5G (Aurora, 128 GB)', 4.78098738688535), ('APPLE iPhone 12 (Purple, 64 GB)', 4.760946753440429), ('APPLE iPhone 11 (Purple, 128 GB)', 4.757442076881235), ('APPLE iPhone 12 (Black, 64 GB)', 4.753582935550553), ('APPLE iPhone 11 (Yellow, 64 GB)', 4.739983303458999)] \n",
      "\n",
      "Deepak  Kumar ->  [('realme C21 (Cross Blue, 32 GB)', 4.600487114022512), ('Infinix Smart 5 (7 Purple, 32 GB)', 4.533145718503769), ('Xiaomi 11i 5G (Camo Green, 128 GB)', 4.434040979327658), ('REDMI Note 9 (Shadow Black, 64 GB)', 4.392552277561231), ('Infinix Smart 5A (Ocean Wave, 32 GB)', 4.383290136400678)] \n",
      "\n",
      "Shailesh Kumar ->  [('APPLE iPhone 12 (White, 256 GB)', 4.782929692607347), ('APPLE iPhone 12 (Black, 64 GB)', 4.780564396987193), ('APPLE iPhone 12 (Purple, 64 GB)', 4.755520832084222), ('OPPO A12 (Blue, 32 GB)', 4.732177541308202), ('POCO C31 (Shadow Gray, 32 GB)', 4.728629862439116)] \n",
      "\n",
      "Sachin Kumar ->  [('APPLE iPhone 12 (Black, 64 GB)', 4.709887441853287), ('APPLE iPhone 12 (Green, 64 GB)', 4.6851855683807075), ('APPLE iPhone 12 (Red, 128 GB)', 4.669796722075029), ('APPLE iPhone 12 (White, 64 GB)', 4.660537351465244), ('SAMSUNG GT-E1215', 4.55768780374031)] \n",
      "\n",
      "Vikash Kumar ->  [('Infinix Hot 11S (Green Wave, 128 GB)', 4.652844782137191), ('Infinix Hot 11S (Polar Black, 128 GB)', 4.651260543808929), ('Infinix Hot 11S (Polar Black, 64 GB)', 4.598824774004823), ('Infinix Hot 11S (7° Purple, 64 GB)', 4.58609843066151), ('APPLE iPhone 12 (Blue, 64 GB)', 4.5037987408937585)] \n",
      "\n",
      "Rakesh Sharma ->  [('APPLE iPhone 11 (Red, 64 GB)', 4.788699190315719), ('APPLE iPhone 11 (White, 128 GB)', 4.730231202815071), ('APPLE iPhone 12 Mini (White, 64 GB)', 4.618187299714413), ('LAVA A3', 4.544902619764409), ('SAMSUNG Galaxy F12 (Sky Blue, 128 GB)', 4.535168012471806)] \n",
      "\n",
      "Raushan Kumar ->  [('APPLE iPhone 12 (Blue, 64 GB)', 4.903556137129575), ('SAMSUNG Galaxy F12 (Sea Green, 64 GB)', 4.844872591063392), ('Infinix Hot 11S (Polar Black, 128 GB)', 4.755519129845626), ('Infinix Smart 5 (Aegean Blue, 32 GB)', 4.739804485111043), ('OPPO A33 (Mint Cream, 32 GB)', 4.724663227396029)] \n",
      "\n",
      "Sachin ->  [('OPPO A12 (Blue, 32 GB)', 4.892272941954965), ('realme C11 2021 (Cool Blue, 32 GB)', 4.888064808682502), ('realme C25s (Watery Grey, 128 GB)', 4.86067496825797), ('Redmi 9A (Midnight Black, 32 GB)', 4.827824445730094), ('APPLE iPhone 12 Mini (White, 64 GB)', 4.824545002608546)] \n",
      "\n",
      "Arun  Kumar ->  [('SAMSUNG Galaxy F12 (Sea Green, 128 GB)', 4.789199060655822), ('SAMSUNG Galaxy F12 (Sky Blue, 64 GB)', 4.765938949800917), ('realme C25Y (Metal Grey, 128 GB)', 4.658436709318148), ('realme C25Y (Metal Grey, 64 GB)', 4.629358533716589), ('POCO M3 (Power Black, 128 GB)', 4.612175476113985)] \n",
      "\n",
      "Imran Khan ->  [('APPLE iPhone 12 (Green, 64 GB)', 4.827375637672643), ('APPLE iPhone 12 (Blue, 64 GB)', 4.801957797916765), ('Infinix Hot 10 Play (Morandi Green, 64 GB)', 4.716816930641838), ('APPLE iPhone 12 Mini (Black, 64 GB)', 4.697295977944993), ('realme C21 (Cross Black, 64 GB)', 4.650982526753424)] \n",
      "\n",
      "arun kumar ->  [('APPLE iPhone 12 (Purple, 64 GB)', 4.855476234675755), ('POCO X3 (Shadow Gray, 64 GB)', 4.513075298123099), ('realme Narzo 50A (Oxygen Green, 128 GB)', 4.3669274621220175), ('realme Narzo 50A (Oxygen Blue, 64 GB)', 4.295978677345695), ('MOTOROLA G60 (Soft Silver, 128 GB)', 4.284135646560901)] \n",
      "\n",
      "Ankit Kumar ->  [('APPLE iPhone 11 (White, 128 GB)', 4.727141080910712), ('APPLE iPhone 12 (Black, 64 GB)', 4.719066151216134), ('realme Narzo 50A (Oxygen Green, 64 GB)', 4.654718890815071), ('Infinix Hot 10S (95° Black, 64 GB)', 4.631484144318262), ('realme Narzo 30 Pro 5G (Sword Black, 64 GB)', 4.620621148790853)] \n",
      "\n",
      "Ravi Raj ->  [('APPLE iPhone SE (White, 64 GB)', 4.867119957093827), ('vivo V23 5G (Stardust Black, 128 GB)', 4.70929101733291), ('Infinix Hot 10 Play (Obsidian Black, 64 GB)', 4.648721457044806), ('Infinix Smart 5A (Ocean Wave, 32 GB)', 4.400751822649055), ('Infinix Smart 5A (Midnight Black, 32 GB)', 4.349547359945697)] \n",
      "\n",
      "Deepak Kumar ->  [('vivo V21 5G (Sunset Dazzle, 256 GB)', 4.560905482682572), ('OPPO A12 (Flowing Silver, 64 GB)', 4.536038200970213), ('OPPO A12 (Flowing Silver, 64 GB)', 4.536038200970213), ('OPPO A12 (Deep Blue, 32 GB)', 4.449488885885435), ('Redmi 9 (Sky Blue, 128 GB)', 4.440778422238142)] \n",
      "\n",
      "Ashish Gupta ->  [('APPLE iPhone 12 Mini (White, 64 GB)', 4.784911024035292), ('APPLE iPhone SE (Black, 64 GB)', 4.742365576832221), ('OPPO Reno6 5G (Aurora, 128 GB)', 4.65469087343558), ('SAMSUNG Galaxy F12 (Celestial Black, 64 GB)', 4.586304216985698), ('Nokia TA-1304/105 SS', 4.5821009351588)] \n",
      "\n",
      "Arjun Singh ->  [('APPLE iPhone 11 (Green, 128 GB)', 5.038392565380269), ('APPLE iPhone 11 (Black, 128 GB)', 5.033171986642835), ('APPLE iPhone 11 (White, 128 GB)', 4.998170105313829), ('POCO M3 (Power Black, 64 GB)', 4.938497180517757), ('APPLE iPhone 11 (Black, 64 GB)', 4.933943096567795)] \n",
      "\n",
      "Santosh  Kumar  ->  [('APPLE iPhone SE (White, 64 GB)', 4.6937594007644226), ('realme Narzo 50A (Oxygen Green, 64 GB)', 4.598288571188196), ('realme C25s (Watery Grey, 128 GB)', 4.526059418381312), ('realme C25s (Watery Blue, 128 GB)', 4.519757518779537), ('REDMI 9 Power (Mighty Black, 64 GB)', 4.4970103739006575)] \n",
      "\n",
      "Ankit Sharma ->  [('APPLE iPhone 11 (White, 128 GB)', 5.058185403662938), ('APPLE iPhone 12 (Black, 64 GB)', 5.0331256388240355), ('APPLE iPhone 12 (Purple, 64 GB)', 5.0129604891231985), ('APPLE iPhone 11 (Yellow, 128 GB)', 4.95127835497036), ('APPLE iPhone 11 (Yellow, 64 GB)', 4.94741561620222)] \n",
      "\n",
      "santosh kumar ->  [('SAMSUNG GT-E1215', 4.462743752385854), ('Infinix Hot 10 Play (7° Purple, 64 GB)', 4.038137763406321), ('OPPO F17 Pro (Matte Black, 128 GB)', 3.9961604807801616), ('realme C11 2021 (Cool Grey, 64 GB)', 3.969292726182569), ('SAMSUNG Galaxy A21s (Blue, 64 GB)', 3.961538981066745)] \n",
      "\n",
      "Jitendra Singh ->  [('realme 8i (Space Black, 64 GB)', 4.400116084489576), ('REDMI 9 Power (Blazing Blue, 64 GB)', 4.376153712119182), ('REDMI 9 Power (Fiery Red, 64 GB)', 4.317387121144402), ('APPLE iPhone SE (White, 64 GB)', 4.062361919009737), ('MOTOROLA G60 (Soft Silver, 128 GB)', 4.002329309165999)] \n",
      "\n",
      "sandeep kumar ->  [('OPPO A31 (Fantasy White, 128 GB)', 5.098111308573418), ('SAMSUNG Galaxy F12 (Celestial Black, 128 GB)', 5.0559603476306565), ('SAMSUNG GT-E1215', 5.003431196179418), ('APPLE iPhone 12 (Purple, 64 GB)', 4.955637503765782), ('realme C25s (Watery Grey, 128 GB)', 4.894169093949111)] \n",
      "\n",
      "Pavan Kumar ->  [('APPLE iPhone 11 (White, 128 GB)', 4.595827187530283), ('APPLE iPhone 11 (Black, 64 GB)', 4.551917915581724), ('OPPO A33 (Moonlight Black, 32 GB)', 4.363447778475585), ('realme X7 5G (Space Silver, 128 GB)', 4.338635680742668), ('realme C25Y (Glacier Blue, 64 GB)', 4.287714748030455)] \n",
      "\n",
      "Rahul Singh ->  [('APPLE iPhone 12 (Black, 128 GB)', 4.695004663508573), ('realme C35 (Glowing Black, 64 GB)', 4.596815838892999), ('APPLE iPhone 12 (Red, 128 GB)', 4.585597919659565), ('POCO M3 Pro 5G (Power Black, 64 GB)', 4.567099536734832), ('APPLE iPhone 12 (Purple, 64 GB)', 4.564493462853473)] \n",
      "\n",
      "Krishna Singh ->  [('realme Narzo 50A (Oxygen Blue, 64 GB)', 4.888276924001255), ('Infinix Hot 10 Play (Obsidian Black, 64 GB)', 4.798650498334703), ('realme C25Y (Glacier Blue, 128 GB)', 4.782224043384476), ('realme C21 (Cross Blue, 64 GB)', 4.7813881554330715), ('realme 8 (Cyber Silver, 128 GB)', 4.656455372373484)] \n",
      "\n",
      "Deepak Singh ->  [('REDMI Note 10S (Frost White, 64 GB)', 4.717042246643333), ('REDMI Note 10S (Shadow Black, 64 GB)', 4.661717991105731), ('APPLE iPhone 12 (Green, 64 GB)', 4.589573222253644), ('Infinix Hot 10 (Ocean Wave, 64 GB)', 4.5834469531169875), ('APPLE iPhone 12 (White, 64 GB)', 4.548638363611436)] \n",
      "\n",
      "sanjay kumar ->  [('APPLE iPhone 11 (Yellow, 128 GB)', 4.695604919998779), ('REDMI Note 9 (Aqua Green, 64 GB)', 4.603695246440119), ('realme Narzo 50A (Oxygen Blue, 64 GB)', 4.532499459510399), ('OPPO A31 (Lake Green, 64 GB)', 4.49616781151331), ('realme C25s (Watery Blue, 128 GB)', 4.393937330601666)] \n",
      "\n",
      "Ranjan Kumar ->  [('APPLE iPhone 12 Mini (White, 64 GB)', 4.601797189565462), ('realme 8s 5G (Universe Purple, 128 GB)', 4.449510139165123), ('realme Narzo 50A (Oxygen Blue, 64 GB)', 4.332689423355486), ('REDMI Note 10S (Shadow Black, 128 GB)', 4.324084557663796), ('LAVA A3', 4.269193137665252)] \n",
      "\n",
      "Saurav Kumar ->  [('Infinix Hot 10 Play (7° Purple, 64 GB)', 4.681556434702913), ('realme 8s 5G (Universe Blue, 128 GB)', 4.524789862709352), ('realme Narzo 30 (Racing Blue, 64 GB)', 4.469244404276186), ('Infinix Smart 5 (Morandi Green, 32 GB)', 4.404483243374936), ('MOTOROLA G60 (Moonless, 128 GB)', 4.390629362785762)] \n",
      "\n",
      "Pawan Kumar ->  [('APPLE iPhone 11 (Purple, 128 GB)', 4.678056747588146), ('APPLE iPhone 11 (Red, 64 GB)', 4.638345541628766), ('APPLE iPhone 11 (Yellow, 128 GB)', 4.594455890004501), ('APPLE iPhone 11 (Yellow, 128 GB)', 4.594455890004501), ('Micromax IN Note 1 (White, 64 GB)', 4.571302804353126)] \n",
      "\n",
      "Sathish Kumar ->  [('APPLE iPhone 11 (Black, 64 GB)', 4.456858161149945), ('APPLE iPhone 11 (White, 128 GB)', 4.4200908506352405), ('Nokia 105 SS 2021', 4.295156841554602), ('realme 8 Pro (Infinite Black, 128 GB)', 4.254596107083868), ('realme Narzo 30 (Racing Blue, 128 GB)', 4.21691686164025)] \n",
      "\n",
      "rajesh kumar ->  [('realme 8 Pro (Infinite Black, 128 GB)', 4.3027431479872025), ('OPPO A12 (Blue, 64 GB)', 4.1179239853162946), ('REDMI 9 Power (Mighty Black, 64 GB)', 4.01486573486915), ('REDMI 9 Power (Fiery Red, 64 GB)', 3.937274690699074), ('Infinix Smart 5 (Morandi Green, 32 GB)', 3.8516896064811155)] \n",
      "\n",
      "Lokesh Kumar ->  [('APPLE iPhone 12 (Black, 64 GB)', 4.690089388366104), ('APPLE iPhone 12 (Black, 64 GB)', 4.690089388366104), ('APPLE iPhone 12 (White, 256 GB)', 4.574373947818456), ('APPLE iPhone 12 (White, 256 GB)', 4.574373947818456), ('APPLE iPhone 12 (Purple, 64 GB)', 4.492825649292405)] \n",
      "\n",
      "Ashish Mishra ->  [('APPLE iPhone 12 (Blue, 64 GB)', 4.799898098485934), ('APPLE iPhone 12 (White, 256 GB)', 4.793398289478491), ('Infinix Hot 10 (Ocean Wave, 64 GB)', 4.71054852932949), ('APPLE iPhone SE (Black, 64 GB)', 4.696762586077152), ('APPLE iPhone 12 (White, 64 GB)', 4.641086245390615)] \n",
      "\n",
      "Ranjeet  Kumar ->  [('SAMSUNG Galaxy F12 (Sea Green, 128 GB)', 4.901772279900529), ('realme Narzo 50A (Oxygen Green, 128 GB)', 4.875981939368576), ('SAMSUNG Galaxy F12 (Sea Green, 64 GB)', 4.8609591423741865), ('OPPO A12 (Blue, 64 GB)', 4.778532215786178), ('POCO M2 Pro (Green and Greener, 64 GB)', 4.499635935882067)] \n",
      "\n",
      "Deepak  Sharma ->  [('APPLE iPhone SE (Black, 128 GB)', 5.1678426188580024), ('Infinix Hot 10 Play (Obsidian Black, 64 GB)', 5.057280345619129), ('Infinix Hot 10 Play (Aegean Blue, 64 GB)', 5.037860231967137), ('APPLE iPhone 12 (Red, 128 GB)', 5.014727777741516), ('POCO C31 (Royal Blue, 64 GB)', 4.974577841261256)] \n",
      "\n",
      "Rahul Verma ->  [('vivo V23 5G (Sunshine Gold, 128 GB)', 4.980726694370044), ('APPLE iPhone 12 (White, 64 GB)', 4.966512502601355), ('APPLE iPhone 11 (Purple, 128 GB)', 4.893285742279783), ('APPLE iPhone 11 (Black, 64 GB)', 4.8293865946203045), ('Infinix Hot 10 (Amber Red, 64 GB)', 4.781202275085115)] \n",
      "\n",
      "NUZHAT BANO ANSARI ->  [('realme C25Y (Glacier Blue, 64 GB)', 5.427395378715055), ('Infinix Hot 10 Play (7° Purple, 64 GB)', 5.404907659648822), ('realme GT Master Edition (Luna White, 256 GB)', 5.389806500676239), ('realme C25Y (Glacier Blue, 128 GB)', 5.372736782033022), ('Infinix Hot 11S (Green Wave, 128 GB)', 5.266419817969527)] \n",
      "\n",
      "Mani Kandan ->  [('POCO C3 (Arctic Blue, 32 GB)', 4.415456315497753), ('REDMI 9 Power (Fiery Red, 64 GB)', 4.2865102649862035), ('APPLE iPhone SE (Red, 128 GB)', 4.248388284381044), ('MOTOROLA G60 (Frosted Champagne, 128 GB)', 4.189410805925046), ('APPLE iPhone SE (Black, 64 GB)', 4.177410779832913)] \n",
      "\n",
      "Vinod  Kumar ->  [('realme C11 2021 (Cool Blue, 64 GB)', 4.640985641184309), ('realme 8 5G (Supersonic Blue, 64 GB)', 4.533593540951202), ('POCO M3 Pro 5G (Cool Blue, 64 GB)', 4.525966267920995), ('POCO M2 Pro (Green and Greener, 64 GB)', 4.492820367329616), ('OPPO A12 (Blue, 32 GB)', 4.471206184888074)] \n",
      "\n",
      "Ajay ->  [('APPLE iPhone 12 (White, 256 GB)', 4.804489958561988), ('APPLE iPhone SE (White, 64 GB)', 4.618844968640154), ('APPLE iPhone SE (White, 64 GB)', 4.618844968640154), ('realme Narzo 50A (Oxygen Green, 64 GB)', 4.527811729959904), ('realme 8 (Cyber Silver, 128 GB)', 4.473797915510561)] \n",
      "\n",
      "Sunil  Kumar ->  [('APPLE iPhone 11 (Purple, 128 GB)', 4.832541983699339), ('OPPO A12 (Blue, 32 GB)', 4.8177398757261995), ('APPLE iPhone 11 (Green, 128 GB)', 4.801985468948242), ('POCO M2 Pro (Green and Greener, 64 GB)', 4.795953279052265), ('realme 9 Pro 5G (Midnight Black, 128 GB)', 4.753281970025153)] \n",
      "\n",
      "Manish Singh ->  [('realme 9i (Prism Blue, 64 GB)', 4.651228103819463), ('APPLE iPhone 11 (Purple, 128 GB)', 4.644422027263208), ('APPLE iPhone 11 (Black, 64 GB)', 4.589881104192974), ('APPLE iPhone 11 (White, 64 GB)', 4.4157000220622695), ('Infinix Smart 5 (Morandi Green, 32 GB)', 4.327355585242204)] \n",
      "\n",
      "Aman Singh ->  [('APPLE iPhone SE (Black, 64 GB)', 4.83287795690541), ('LAVA A1 Josh', 4.822750952396256), ('Nokia TA-1010/105', 4.807155771672897), ('Micromax IN Note 1 (White, 64 GB)', 4.802486778033792), ('APPLE iPhone SE (White, 64 GB)', 4.77560571041198)] \n",
      "\n",
      "Prabhat Singh ->  [('REDMI 9 Prime (Matte Black, 64 GB)', 3.3812336421918596), ('realme 8 5G (Supersonic Black, 64 GB)', 3.289243463675096), ('LAVA A1', 3.14514189043076), ('realme Narzo 30 5G (Racing Blue, 128 GB)', 3.1065890727014893), ('MOTOROLA G60 (Frosted Champagne, 128 GB)', 3.0351383112351114)] \n",
      "\n",
      "Abhishek Kumar ->  [('vivo V21 5G (Arctic White, 128 GB)', 4.937529669210859), ('vivo V21 5G (Neon Spark, 128 GB)', 4.89140301672461), ('APPLE iPhone SE (Red, 128 GB)', 4.577410075477273), ('realme Narzo 30 (Racing Blue, 128 GB)', 4.530256114401132), ('APPLE iPhone 12 (White, 256 GB)', 4.513739612005454)] \n",
      "\n",
      "RAHUL KUMAR ->  [('APPLE iPhone SE (White, 64 GB)', 4.812453096388364), ('SAMSUNG Galaxy F12 (Celestial Black, 128 GB)', 4.772064143783408), ('realme Narzo 30 5G (Racing Silver, 128 GB)', 4.710663834055252), ('Infinix Hot 10 Play (Aegean Blue, 64 GB)', 4.629053765201828), ('APPLE iPhone SE (Black, 64 GB)', 4.624074615363315)] \n",
      "\n",
      "vivek kumar ->  [('APPLE iPhone 12 (Blue, 64 GB)', 5.309703467070582), ('realme 9 Pro+ 5G (Midnight Black, 128 GB)', 5.127877696975204), ('REDMI 9 Power (Blazing Blue, 64 GB)', 5.118648436705723), ('Infinix Hot 10 Play (Morandi Green, 64 GB)', 5.049922650839379), ('Xiaomi 11i 5G (Purple Mist, 128 GB)', 5.0382386825153915)] \n",
      "\n",
      "Deepak  Kumar  ->  [('APPLE iPhone 12 (Purple, 64 GB)', 4.631146770253296), ('APPLE iPhone 12 (Blue, 64 GB)', 4.617244519967715), ('REDMI 9 Prime (Matte Black, 64 GB)', 4.5906051103564485), ('APPLE iPhone 12 (Green, 64 GB)', 4.589236323736541), ('SAMSUNG Galaxy F12 (Celestial Black, 64 GB)', 4.50960279133591)] \n",
      "\n",
      "Amit  Kumar  ->  [('APPLE iPhone 12 (White, 64 GB)', 4.963069034368247), ('APPLE iPhone SE (Red, 64 GB)', 4.811834766516505), ('APPLE iPhone SE (Black, 64 GB)', 4.775466301858669), ('Infinix Hot 10 (Amber Red, 64 GB)', 4.6845998628909085), ('REDMI 9 Power (Fiery Red, 64 GB)', 4.621329676464665)] \n",
      "\n",
      "Rakesh  Kumar ->  [('APPLE iPhone 12 (Green, 64 GB)', 4.379771095150506), ('APPLE iPhone 12 (Blue, 64 GB)', 4.3626504378224045), ('APPLE iPhone 12 (Red, 128 GB)', 4.358015524808766), ('APPLE iPhone 12 (Black, 64 GB)', 4.357162243799549), ('APPLE iPhone SE (Black, 64 GB)', 4.328981260852845)] \n",
      "\n",
      "Ankit Yadav ->  [('APPLE iPhone 12 (Red, 128 GB)', 4.723429468913134), ('APPLE iPhone 12 (White, 64 GB)', 4.684604636662807), ('APPLE iPhone 12 (Black, 64 GB)', 4.665494534966557), ('Infinix Smart 5 (7 Purple, 32 GB)', 4.572035897042789), ('APPLE iPhone SE (Black, 64 GB)', 4.561906819236284)] \n",
      "\n",
      "Vivek Mishra ->  [('Infinix Note 11 (Graphite Black, 64 GB)', 4.5288224625897), ('Infinix Smart 5A (Midnight Black, 32 GB)', 4.4926412229298), ('POCO C31 (Shadow Gray, 64 GB)', 4.487919205297381), ('REDMI Note 9 (Aqua Green, 64 GB)', 4.413689651558331), ('POCO X3 (Cobalt Blue, 64 GB)', 4.39420774610657)] \n",
      "\n",
      "Deepak Gupta ->  [('REDMI Note 9 (Aqua Green, 64 GB)', 4.544998171721387), ('APPLE iPhone 12 (White, 64 GB)', 4.52536513400058), ('realme 8s 5G (Universe Purple, 128 GB)', 4.439272970023324), ('SAMSUNG Galaxy F12 (Sky Blue, 64 GB)', 4.437619106699929), ('REDMI Note 9 (Shadow Black, 64 GB)', 4.423883412571969)] \n",
      "\n",
      "Kanhaiya Kumar ->  [('Infinix Hot 10 Play (7° Purple, 64 GB)', 4.594582660230198), ('Infinix Hot 10 Play (Aegean Blue, 64 GB)', 4.5644635423181015), ('POCO C31 (Shadow Gray, 64 GB)', 4.403027128294687), ('MOTOROLA G60 (Soft Silver, 128 GB)', 4.207361129929242), ('realme Narzo 30 (Racing Blue, 64 GB)', 4.115932089918687)] \n",
      "\n",
      "suraj kumar ->  [('APPLE iPhone 11 (White, 64 GB)', 4.952012081078749), ('APPLE iPhone 11 (Black, 64 GB)', 4.914725877646611), ('APPLE iPhone 11 (Purple, 64 GB)', 4.8523977344563765), ('realme C25s (Watery Blue, 128 GB)', 4.648290734229164), ('Infinix Hot 10S (95° Black, 64 GB)', 4.619427654478555)] \n",
      "\n",
      "Neeraj Yadav ->  [('APPLE iPhone 11 (Yellow, 128 GB)', 5.211958409024482), ('APPLE iPhone 11 (Red, 64 GB)', 5.1909149213160655), ('APPLE iPhone 11 (Black, 64 GB)', 5.1896268750013945), ('OPPO A33 (Moonlight Black, 32 GB)', 5.002200453696019), ('realme C21Y (Cross Blue, 32 GB)', 4.95499234619923)] \n",
      "\n",
      "Deepak Yadav ->  [('APPLE iPhone 11 (Yellow, 64 GB)', 4.348951024822961), ('realme 8s 5G (Universe Purple, 128 GB)', 4.320853743757016), ('APPLE iPhone 11 (Purple, 64 GB)', 4.314756780227263), ('APPLE iPhone 11 (White, 128 GB)', 4.29583101568978), ('LAVA A1', 4.2710318081509735)] \n",
      "\n",
      "Vikas  Kumar ->  [('APPLE iPhone 12 (Purple, 64 GB)', 4.407405899462114), ('APPLE iPhone SE (Red, 128 GB)', 4.345764871556777), ('APPLE iPhone 12 (Green, 64 GB)', 4.340632591611185), ('APPLE iPhone 12 (Black, 64 GB)', 4.256936129166663), ('Infinix Hot 10 Play (Morandi Green, 64 GB)', 4.1389967260186085)] \n",
      "\n",
      "Lalit Kumar ->  [('OPPO A33 (Mint Cream, 32 GB)', 4.483793475472652), ('OPPO A33 (Moonlight Black, 32 GB)', 4.448359238171443), ('APPLE iPhone 12 Mini (White, 64 GB)', 4.177273639566046), ('REDMI 9 Power (Fiery Red, 64 GB)', 4.077946243224138), ('POCO M3 (Power Black, 64 GB)', 4.0720887317973204)] \n",
      "\n",
      "Vikas Kumar ->  [('APPLE iPhone 12 (Red, 128 GB)', 4.637785043506688), ('APPLE iPhone 12 (Black, 64 GB)', 4.613506709383663), ('SAMSUNG Galaxy F12 (Sea Green, 128 GB)', 4.4921097243078165), ('OPPO A53s 5G (Ink Black, 128 GB)', 4.478922045227794), ('POCO M2 Pro (Out of the Blue, 64 GB)', 4.440102346873535)] \n",
      "\n",
      "Ravi Shankar ->  [('APPLE iPhone 12 (White, 256 GB)', 5.07517414113332), ('APPLE iPhone 12 (White, 64 GB)', 4.991322810339374), ('Infinix Smart 5A (Midnight Black, 32 GB)', 4.957743054375421), ('Infinix Smart 5A (Ocean Wave, 32 GB)', 4.957016065322561), ('MOTOROLA G40 Fusion (Frosted Champagne, 128 GB)', 4.776543181381921)] \n",
      "\n",
      "Ashok Kumar ->  [('APPLE iPhone 11 (Black, 64 GB)', 4.991363921389916), ('APPLE iPhone 11 (Purple, 128 GB)', 4.984091918006249), ('APPLE iPhone 11 (Red, 64 GB)', 4.954303673461913), ('APPLE iPhone 11 (Black, 128 GB)', 4.914737343736352), ('vivo V23 5G (Stardust Black, 128 GB)', 4.838318621866846)] \n",
      "\n",
      "Arvind Kumar ->  [('realme 8 (Cyber Silver, 128 GB)', 4.3871998385232605), ('realme 8 (Cyber Silver, 128 GB)', 4.3871998385232605), ('APPLE iPhone 12 (Red, 128 GB)', 4.377041374783974), ('vivo V21 5G (Neon Spark, 128 GB)', 4.364015867303465), ('realme C11 2021 (Cool Grey, 32 GB)', 4.344767929965331)] \n",
      "\n",
      "Sunil Kumar ->  [('APPLE iPhone 12 Mini (Black, 64 GB)', 4.617544250374403), ('Kechaoda K115', 4.529500890819628), ('APPLE iPhone 12 Mini (White, 64 GB)', 4.529492876346521), ('vivo V21 5G (Sunset Dazzle, 128 GB)', 4.490027787216037), ('APPLE iPhone 11 (Purple, 128 GB)', 4.480321578331807)] \n",
      "\n",
      "Ashutosh Singh ->  [('APPLE iPhone SE (White, 128 GB)', 4.624103551088932), ('POCO M2 Pro (Out of the Blue, 64 GB)', 4.568394306014092), ('APPLE iPhone 11 (Green, 128 GB)', 4.561266348140621), ('APPLE iPhone 11 (Green, 128 GB)', 4.561266348140621), ('APPLE iPhone 11 (Black, 64 GB)', 4.526832381880216)] \n",
      "\n",
      "Anil Kumar ->  [('vivo V21 5G (Sunset Dazzle, 128 GB)', 4.740420054575826), ('APPLE iPhone 12 (Green, 64 GB)', 4.634420458749267), ('vivo V21 5G (Neon Spark, 128 GB)', 4.587714133300135), ('LAVA A1 Josh', 4.541644674684887), ('OPPO A31 (Fantasy White, 128 GB)', 4.490027933068598)] \n",
      "\n",
      "Sudhir Kumar ->  [('APPLE iPhone 11 (Black, 128 GB)', 4.83112686768787), ('Xiaomi 11i 5G (Purple Mist, 128 GB)', 4.622054432366457), ('realme Narzo 50A (Oxygen Green, 128 GB)', 4.547553616453081), ('REDMI Note 9 (Shadow Black, 64 GB)', 4.508126140545007), ('realme GT Master Edition (Luna White, 128 GB)', 4.475139820048252)] \n",
      "\n",
      "Raj  Kumar ->  [('POCO M2 Pro (Green and Greener, 64 GB)', 4.775975707535965), ('realme C21 (Cross Black, 32 GB)', 4.653196860550407), ('LAVA A3', 4.599615893349204), ('realme 8 (Cyber Silver, 128 GB)', 4.413824847182326), ('Infinix Hot 10S (95° Black, 64 GB)', 4.394799546660723)] \n",
      "\n",
      "Naresh Kumar ->  [('realme Narzo 50i (Mint Green, 64 GB)', 4.618262518680086), ('MOTOROLA G60 (Moonless, 128 GB)', 4.580259719254774), ('SAMSUNG Galaxy F12 (Sea Green, 128 GB)', 4.555285701998301), ('Infinix Hot 10 Play (7° Purple, 64 GB)', 4.528357095273116), ('Infinix Hot 10 Play (Morandi Green, 64 GB)', 4.486205823291453)] \n",
      "\n",
      "Nikhil Kumar ->  [('APPLE iPhone SE (Red, 128 GB)', 5.000405500265715), ('Micromax IN Note 1 (White, 64 GB)', 4.8675925073760125), ('realme Narzo 30 (Racing Blue, 128 GB)', 4.839872099420238), ('APPLE iPhone 12 (White, 64 GB)', 4.823376861979506), ('APPLE iPhone 12 (Black, 128 GB)', 4.820580153658957)] \n",
      "\n",
      "Manish Sharma ->  [('APPLE iPhone 11 (Black, 64 GB)', 5.052209323062588), ('APPLE iPhone 11 (Yellow, 64 GB)', 5.047027586695396), ('APPLE iPhone 11 (Red, 64 GB)', 5.028200956798519), ('APPLE iPhone 11 (Purple, 128 GB)', 5.005685255453378), ('Infinix Hot 10 Play (Obsidian Black, 64 GB)', 4.756237105901501)] \n",
      "\n",
      "Rahul  Kumar ->  [('APPLE iPhone 11 (Purple, 64 GB)', 4.7853150664846815), ('APPLE iPhone 11 (Green, 128 GB)', 4.68097466605229), ('APPLE iPhone 12 (Blue, 64 GB)', 4.669290564906814), ('APPLE iPhone 12 Mini (Black, 64 GB)', 4.664665322261735), ('realme Narzo 30 5G (Racing Blue, 128 GB)', 4.515998482862948)] \n",
      "\n",
      "Santosh Singh ->  [('APPLE iPhone 12 (Red, 128 GB)', 4.9347074017988355), ('realme Narzo 30 (Racing Blue, 64 GB)', 4.731170207410956), ('OPPO A12 (Blue, 32 GB)', 4.729392053382285), ('OPPO A12 (Deep Blue, 32 GB)', 4.651459920960933), ('realme C25Y (Glacier Blue, 64 GB)', 4.61269017143292)] \n",
      "\n",
      "Abhishek kumar ->  [('REDMI Note 10S (Deep Sea Blue, 128 GB)', 4.525769790332973), ('MOTOROLA G60 (Soft Silver, 128 GB)', 4.525318567049609), ('Infinix Smart HD 2021 (Quartz Green, 32 GB)', 4.500539993785188), ('Infinix Smart 5 (Morandi Green, 32 GB)', 4.375361189240339), ('Infinix Smart 5 (7 Purple, 32 GB)', 4.323520934480054)] \n",
      "\n",
      "Irfan Khan ->  [('realme GT Master Edition (Voyager Grey, 256 GB)', 4.503925343747239), ('realme 8 Pro (Infinite Black, 128 GB)', 4.373968615565042), ('Redmi 9 (Sky Blue, 64 GB)', 4.373688148085906), ('realme GT Master Edition (Cosmos Black, 128 GB)', 4.325805691760509), ('Infinix Hot 10 Play (Morandi Green, 64 GB)', 4.319872119925621)] \n",
      "\n",
      "Kundan  Kumar ->  [('APPLE iPhone 12 Mini (Black, 64 GB)', 4.746300525003077), ('realme Narzo 50A (Oxygen Green, 128 GB)', 4.6156750843703644), ('Infinix Smart 5A (Midnight Black, 32 GB)', 4.5602264362523455), ('realme C21 (Cross Black, 64 GB)', 4.516669407559211), ('Infinix Smart HD 2021 (Obsidian Black, 32 GB)', 4.508536250333804)] \n",
      "\n",
      "Jitendra  Kumar ->  [('SAMSUNG Guru Music 2', 4.2652791730990085), ('REDMI 9i (Nature Green, 64 GB)', 4.007719656843798), ('realme Narzo 30 (Racing Silver, 64 GB)', 3.9385852350735275), ('realme Narzo 30 (Racing Silver, 64 GB)', 3.9385852350735275), ('realme 9i (Prism Black, 128 GB)', 3.8393012564078344)] \n",
      "\n",
      "Amit  Singh ->  [('Infinix Hot 11S (7° Purple, 64 GB)', 4.809698156262741), ('Infinix Hot 11S (Green Wave, 128 GB)', 4.740082652996147), ('Infinix Hot 10 Play (Obsidian Black, 64 GB)', 4.5768749611445605), ('SAMSUNG Galaxy F12 (Sea Green, 128 GB)', 4.555301881125413), ('SAMSUNG Galaxy F12 (Sea Green, 64 GB)', 4.525799367012057)] \n",
      "\n",
      "Ritesh Singh ->  [('Infinix Note 11 (Celestial Snow, 64 GB)', 5.05681219494902), ('REDMI 9i Sport (Metallic Blue, 64 GB)', 5.053348171902551), ('realme GT Master Edition (Luna White, 256 GB)', 4.9673074486449265), ('Infinix Smart 5 (7 Purple, 32 GB)', 4.962771898546526), ('realme GT Master Edition (Voyager Grey, 256 GB)', 4.941204781759808)] \n",
      "\n",
      "Kiran ->  [('APPLE iPhone SE (Red, 64 GB)', 4.484838619719715), ('Infinix Hot 10 Play (Obsidian Black, 64 GB)', 4.440791237151744), ('realme C11 2021 (Cool Blue, 32 GB)', 4.345779576012761), ('vivo V23 5G (Sunshine Gold, 128 GB)', 4.311915562104071), ('realme Narzo 50A (Oxygen Green, 128 GB)', 4.290785961583904)] \n",
      "\n",
      "SONU KUMAR ->  [('APPLE iPhone 12 (Red, 128 GB)', 4.872877015031881), ('APPLE iPhone 12 (White, 64 GB)', 4.863711257394437), ('realme 8 5G (Supersonic Black, 128 GB)', 4.764981376709406), ('REDMI 9i (Midnight Black, 64 GB)', 4.663477309723218), ('realme 8s 5G (Universe Blue, 128 GB)', 4.564069038238364)] \n",
      "\n",
      "Roushan Kumar ->  [('APPLE iPhone 12 (Green, 64 GB)', 4.793517713929734), ('SAMSUNG Galaxy F12 (Sky Blue, 128 GB)', 4.763724498079488), ('APPLE iPhone 12 (White, 256 GB)', 4.680412273982525), ('APPLE iPhone 12 (White, 256 GB)', 4.680412273982525), ('vivo T1 5G (Rainbow Fantasy, 128 GB)', 4.645382924548552)] \n",
      "\n",
      "Shyam Sundar ->  [('realme GT Master Edition (Daybreak Blue, 128 GB)', 4.418085712433391), ('MOTOROLA G60 (Soft Silver, 128 GB)', 4.390148969017758), ('MOTOROLA G60 (Moonless, 128 GB)', 4.335541748260563), ('realme Narzo 50A (Oxygen Green, 64 GB)', 4.089872856987054), ('realme Narzo 50A (Oxygen Green, 64 GB)', 4.089872856987054)] \n",
      "\n",
      "Abhishek Pandey ->  [('realme Narzo 50i (Carbon Black, 32 GB)', 4.018766094281472), ('realme C21 (Cross Blue, 64 GB)', 3.9311466474726084), ('REDMI 9 Power (Blazing Blue, 64 GB)', 3.887107995833193), ('realme Narzo 30 (Racing Blue, 128 GB)', 3.6496019203147965), ('OPPO A53s 5G (Ink Black, 128 GB)', 3.640359419656877)] \n",
      "\n",
      "Prem Kumar ->  [('SAMSUNG Galaxy F22 (Denim Blue, 128 GB)', 4.689265699513591), ('SAMSUNG GT-E1215', 4.510431844634917), ('APPLE iPhone 12 Mini (White, 64 GB)', 4.391579860060043), ('realme C25Y (Glacier Blue, 64 GB)', 4.388587571814569), ('realme C25Y (Metal Grey, 128 GB)', 4.37098136442262)] \n",
      "\n",
      "Muthu Kumar ->  [('POCO M3 (Cool Blue, 64 GB)', 4.485847663387386), ('Infinix Hot 10 Play (Morandi Green, 64 GB)', 4.433177605980603), ('POCO M3 (Power Black, 64 GB)', 4.277044946733348), ('Infinix Note 11 (Graphite Black, 64 GB)', 4.262934749678172), ('Infinix Note 11 (Glacier Green, 64 GB)', 4.226480846482499)] \n",
      "\n",
      "Varun Kumar ->  [('APPLE iPhone 11 (Yellow, 128 GB)', 4.844194375504817), ('APPLE iPhone SE (White, 128 GB)', 4.607034293021424), ('Redmi 9 (Sky Blue, 128 GB)', 4.5227492107872775), ('REDMI 9 Prime (Matte Black, 64 GB)', 4.442996262727547), ('realme C25Y (Metal Grey, 128 GB)', 4.42635305029809)] \n",
      "\n",
      "manish kumar ->  [('APPLE iPhone 11 (Yellow, 64 GB)', 4.886469160959853), ('APPLE iPhone 12 (Green, 64 GB)', 4.685750107669336), ('APPLE iPhone 12 (Purple, 64 GB)', 4.650929516637258), ('realme Narzo 50i (Carbon Black, 32 GB)', 4.632075688502608), ('APPLE iPhone 12 (Black, 128 GB)', 4.602291414625448)] \n",
      "\n",
      "Vishal Kumar ->  [('vivo V21 5G (Sunset Dazzle, 256 GB)', 5.139008848999308), ('vivo V21 5G (Arctic White, 128 GB)', 5.121505173697119), ('APPLE iPhone 12 Mini (Blue, 64 GB)', 4.85364701638486), ('APPLE iPhone 12 Mini (White, 64 GB)', 4.786881855842737), ('APPLE iPhone 12 Mini (Black, 64 GB)', 4.7751669816212186)] \n",
      "\n",
      "Sanjay Kumar ->  [('APPLE iPhone 11 (Yellow, 128 GB)', 4.8634284544278605), ('APPLE iPhone 11 (Black, 128 GB)', 4.790357920197929), ('APPLE iPhone 11 (Black, 64 GB)', 4.7767380233296866), ('realme 9 Pro 5G (Aurora Green, 128 GB)', 4.640067579423534), ('realme C25s (Watery Grey, 128 GB)', 4.621012004441011)] \n",
      "\n",
      "Sai Kumar ->  [('APPLE iPhone 12 (Green, 64 GB)', 4.5931175542751275), ('realme C25s (Watery Grey, 128 GB)', 4.436533965817483), ('POCO C31 (Shadow Gray, 64 GB)', 4.433820159200497), ('realme 8i (Space Purple, 128 GB)', 4.323220960281594), ('MOTOROLA G60 (Frosted Champagne, 128 GB)', 4.260384914450273)] \n",
      "\n",
      "PANKAJ KUMAR ->  [('vivo T1 5G (Rainbow Fantasy, 128 GB)', 4.681054880011619), ('vivo T1 5G (Starlight Black, 128 GB)', 4.665090639813224), ('APPLE iPhone 12 (Blue, 64 GB)', 4.376956539187937), ('Itel Magic2 4G( WiFi,Hotspot Tethering)', 4.37505930272122), ('realme 8i (Space Purple, 64 GB)', 4.369530267317158)] \n",
      "\n",
      "Suman Kumar ->  [('APPLE iPhone 12 (Green, 64 GB)', 4.935539669250174), ('APPLE iPhone 12 (White, 64 GB)', 4.820418021076327), ('APPLE iPhone 12 Mini (White, 64 GB)', 4.776043285316243), ('Infinix Hot 11S (Green Wave, 128 GB)', 4.750652874421972), ('OPPO A53s 5G (Ink Black, 128 GB)', 4.746910729337294)] \n",
      "\n",
      "Anand Kumar ->  [('APPLE iPhone 11 (Yellow, 128 GB)', 4.656080772056548), ('APPLE iPhone SE (Black, 128 GB)', 4.6269590129811515), ('APPLE iPhone SE (White, 64 GB)', 4.6141010487409435), ('APPLE iPhone 11 (Black, 64 GB)', 4.600113348066017), ('APPLE iPhone 11 (Black, 128 GB)', 4.599827350214529)] \n",
      "\n",
      "Aditya Raj ->  [('APPLE iPhone 11 (Purple, 64 GB)', 4.580381761896194), ('APPLE iPhone 11 (Green, 128 GB)', 4.524170958428672), ('REDMI 9i (Nature Green, 64 GB)', 4.377523406654413), ('APPLE iPhone 12 (Purple, 64 GB)', 4.372959977919725), ('OPPO Reno6 5G (Stellar Black, 128 GB)', 4.20108526882911)] \n",
      "\n",
      "Dinesh Kumar ->  [('APPLE iPhone 11 (Purple, 128 GB)', 4.612194137057252), ('APPLE iPhone 11 (White, 128 GB)', 4.540807293455863), ('APPLE iPhone SE (Red, 64 GB)', 4.519896729084276), ('APPLE iPhone 11 (Green, 128 GB)', 4.502082660717593), ('APPLE iPhone 11 (Red, 64 GB)', 4.492732903181887)] \n",
      "\n",
      "Chandan Kumar ->  [('APPLE iPhone 11 (Purple, 128 GB)', 4.700776079143072), ('Infinix Hot 11S (Polar Black, 128 GB)', 4.506695850130529), ('OPPO A31 (Fantasy White, 128 GB)', 4.486465930861259), ('Xiaomi 11i 5G (Stealth Black, 128 GB)', 4.458181407846814), ('Xiaomi 11i 5G (Stealth Black, 128 GB)', 4.458181407846814)] \n",
      "\n",
      "Niraj Kumar ->  [('APPLE iPhone 11 (White, 128 GB)', 4.478245170626286), ('APPLE iPhone 11 (Yellow, 128 GB)', 4.435471384462468), ('APPLE iPhone 11 (Black, 128 GB)', 4.413901829125759), ('APPLE iPhone 11 (Red, 64 GB)', 4.391358675340941), ('LAVA A1 Josh', 4.334910555273187)] \n",
      "\n",
      "Shivam Kumar ->  [('APPLE iPhone 11 (Green, 128 GB)', 4.8768505814606185), ('APPLE iPhone 11 (Yellow, 128 GB)', 4.834950899046071), ('OPPO A31 (Mystery Black, 128 GB)', 4.715932171484951), ('realme 9i (Prism Blue, 64 GB)', 4.714472228971638), ('Infinix Hot 10 Play (Morandi Green, 64 GB)', 4.673037807982597)] \n",
      "\n",
      "Sushil Kumar ->  [('APPLE iPhone 12 (Blue, 64 GB)', 4.654638630598763), ('APPLE iPhone 12 (Red, 128 GB)', 4.581995382143402), ('APPLE iPhone 12 (Black, 64 GB)', 4.5330470498078315), ('realme GT Master Edition (Voyager Grey, 256 GB)', 4.477649328245045), ('Infinix Smart 5 (Morandi Green, 32 GB)', 4.443252120166596)] \n",
      "\n",
      "Mithilesh Kumar ->  [('POCO C31 (Royal Blue, 32 GB)', 4.416593049459687), ('realme 8s 5G (Universe Purple, 128 GB)', 4.3890794523954035), ('Infinix Note 11 (Glacier Green, 64 GB)', 4.302045331481068), ('Infinix Hot 11S (Polar Black, 128 GB)', 4.210080621089106), ('vivo V21 5G (Arctic White, 128 GB)', 4.178253656438507)] \n",
      "\n",
      "Rohit Singh ->  [('APPLE iPhone SE (Red, 64 GB)', 4.524196276688745), ('vivo V21 5G (Dusk Blue, 128 GB)', 4.431226713555882), ('APPLE iPhone SE (Black, 64 GB)', 4.426204891475666), ('REDMI 9 Power (Blazing Blue, 64 GB)', 4.356142587339381), ('Itel Magic2 4G( WiFi,Hotspot Tethering)', 4.312216633413056)] \n",
      "\n",
      "vinay kumar ->  [('APPLE iPhone 11 (White, 128 GB)', 4.578639454135801), ('APPLE iPhone 11 (Yellow, 64 GB)', 4.50699138673554), ('REDMI 9 Power (Blazing Blue, 64 GB)', 4.289976915933146), ('SAMSUNG Galaxy F12 (Sea Green, 64 GB)', 4.284727861153048), ('REDMI 9 Power (Mighty Black, 64 GB)', 4.262833778516579)] \n",
      "\n",
      "Pawan  Kumar ->  [('APPLE iPhone SE (Black, 128 GB)', 4.717098239399924), ('realme 9i (Prism Black, 64 GB)', 4.514702905199965), ('Infinix Hot 10S (95° Black, 64 GB)', 4.465113263985377), ('POCO M3 Pro 5G (Power Black, 64 GB)', 4.44500419481482), ('realme C11 2021 (Cool Grey, 32 GB)', 4.366466976224754)] \n",
      "\n",
      "Govind Kumar ->  [('APPLE iPhone 12 (Black, 128 GB)', 4.936950852086025), ('Infinix Hot 11S (7° Purple, 128 GB)', 4.8464270950971855), ('SAMSUNG Galaxy F12 (Celestial Black, 64 GB)', 4.796408838546164), ('SAMSUNG Galaxy F12 (Sea Green, 64 GB)', 4.792880581464464), ('LAVA A1 Josh', 4.7505769318886255)] \n",
      "\n",
      "Raja Kumar ->  [('REDMI Note 9 (Aqua Green, 64 GB)', 4.390859303368421), ('POCO M2 Pro (Two Shades of Black, 64 GB)', 4.260304613639572), ('realme 8i (Space Black, 128 GB)', 4.1941455852582985), ('Infinix Note 10 (7° Purple, 128 GB)', 4.190161183691188), ('realme C21 (Cross Blue, 64 GB)', 4.185029519138145)] \n",
      "\n",
      "Irfan Shaikh ->  [('APPLE iPhone 12 (Green, 64 GB)', 4.906967561326661), ('APPLE iPhone 12 (White, 64 GB)', 4.841535871417028), ('APPLE iPhone 12 (Purple, 64 GB)', 4.829611755651777), ('realme Narzo 50A (Oxygen Green, 128 GB)', 4.757904794959963), ('SAMSUNG Galaxy F12 (Celestial Black, 128 GB)', 4.600541080162369)] \n",
      "\n",
      "VIJAY KUMAR ->  [('APPLE iPhone 12 (Purple, 64 GB)', 4.841836978610623), ('SAMSUNG Metro 313 Dual Sim', 4.8116308168313235), ('POCO M2 Pro (Green and Greener, 64 GB)', 4.799843036408434), ('APPLE iPhone 12 (White, 64 GB)', 4.7969296617487425), ('APPLE iPhone 12 Mini (Black, 64 GB)', 4.676366042213675)] \n",
      "\n",
      "Sandeep Singh ->  [('APPLE iPhone 12 Mini (Blue, 64 GB)', 4.483095400451805), ('REDMI Note 10S (Cosmic Purple, 64 GB)', 4.480221682393564), ('realme Narzo 30 5G (Racing Silver, 128 GB)', 4.469931204024917), ('realme Narzo 30 (Racing Blue, 64 GB)', 4.3989729994237425), ('REDMI Note 10S (Cosmic Purple, 128 GB)', 4.390683782757412)] \n",
      "\n",
      "Abhishek Singh ->  [('APPLE iPhone 12 (Red, 128 GB)', 4.86690040586414), ('APPLE iPhone 12 (Green, 64 GB)', 4.835096567980496), ('APPLE iPhone 12 (Purple, 64 GB)', 4.80943491470173), ('APPLE iPhone 12 (White, 64 GB)', 4.747349382711592), ('MOTOROLA G60 (Moonless, 128 GB)', 4.707573261889487)] \n",
      "\n",
      "Gurpreet Singh ->  [('realme C25Y (Metal Grey, 128 GB)', 5.074666124062938), ('APPLE iPhone 12 (Green, 64 GB)', 5.052237271997053), ('realme C25Y (Glacier Blue, 128 GB)', 5.049248588448173), ('LAVA A1 Josh', 5.011885068198765), ('realme Narzo 30 (Racing Blue, 64 GB)', 4.968411307036438)] \n",
      "\n",
      "AMIT KUMAR ->  [('vivo V21 5G (Arctic White, 128 GB)', 4.837668231973859), ('vivo V21 5G (Sunset Dazzle, 256 GB)', 4.7683077245981424), ('APPLE iPhone 11 (White, 128 GB)', 4.728793757639373), ('APPLE iPhone 11 (Yellow, 64 GB)', 4.694362530148853), ('SAMSUNG Guru Music 2', 4.650996041941072)] \n",
      "\n",
      "Raju ->  [('APPLE iPhone 12 Mini (Black, 64 GB)', 4.719603922073653), ('realme Narzo 20 (Victory Blue, 128 GB)', 4.717110475655739), ('APPLE iPhone 12 Mini (White, 64 GB)', 4.683812438726098), ('OPPO A12 (Black, 32 GB)', 4.651784097044806), ('realme Narzo 30 5G (Racing Blue, 128 GB)', 4.499304207407113)] \n",
      "\n",
      "Vivek Kumar ->  [('APPLE iPhone 11 (White, 64 GB)', 4.636337950948334), ('APPLE iPhone 11 (Black, 128 GB)', 4.576382098406613), ('APPLE iPhone 11 (White, 128 GB)', 4.522137369771499), ('APPLE iPhone 11 (Yellow, 64 GB)', 4.517799523014241), ('POCO F3 GT (Predator Black, 128 GB)', 4.464344536013406)] \n",
      "\n",
      "Uday Kumar ->  [('APPLE iPhone 11 (Black, 64 GB)', 4.95554450041563), ('APPLE iPhone 11 (White, 128 GB)', 4.90670164168309), ('APPLE iPhone 11 (Yellow, 128 GB)', 4.904870557907685), ('Infinix Hot 10 Play (Obsidian Black, 64 GB)', 4.828534252633274), ('Infinix Hot 10 Play (Morandi Green, 64 GB)', 4.781846167992042)] \n",
      "\n",
      "Suraj  Kumar ->  [('APPLE iPhone 11 (Green, 128 GB)', 4.9565271416581105), ('APPLE iPhone 11 (Black, 128 GB)', 4.915706102235088), ('APPLE iPhone 11 (Purple, 64 GB)', 4.872658780433934), ('APPLE iPhone 12 Mini (White, 64 GB)', 4.8620147553874915), ('REDMI 9 Power (Mighty Black, 64 GB)', 4.832750093972874)] \n",
      "\n",
      "Karthi Keyan ->  [('Infinix Hot 11S (7° Purple, 128 GB)', 4.782869259876826), ('Infinix Hot 11S (Silver Wave, 128 GB)', 4.754320492764173), ('Infinix Hot 11S (Green Wave, 128 GB)', 4.746322247287537), ('REDMI Note 10S (Cosmic Purple, 64 GB)', 4.672842097177988), ('SAMSUNG Galaxy F12 (Sea Green, 128 GB)', 4.556792686397692)] \n",
      "\n",
      "Vivek Singh ->  [('APPLE iPhone 11 (White, 64 GB)', 4.58737443779968), ('APPLE iPhone 11 (Yellow, 64 GB)', 4.584301191639539), ('APPLE iPhone 11 (Black, 64 GB)', 4.5803488112903), ('APPLE iPhone 11 (Black, 128 GB)', 4.56121339650684), ('APPLE iPhone 12 Mini (Black, 64 GB)', 4.475932216878915)] \n",
      "\n",
      "Sachin  Kumar ->  [('APPLE iPhone 12 (Green, 64 GB)', 5.030432432162053), ('APPLE iPhone 12 (White, 64 GB)', 4.81712496051436), ('realme 9 Pro 5G (Aurora Green, 128 GB)', 4.731419630753077), ('realme Narzo 50A (Oxygen Blue, 128 GB)', 4.730836335147091), ('REDMI 9 Power (Blazing Blue, 64 GB)', 4.729239251308494)] \n",
      "\n",
      "Suresh Kumar ->  [('LAVA A1 Josh', 4.642136671274355), ('Xiaomi 11i 5G (Purple Mist, 128 GB)', 4.544588995577239), ('OPPO A33 (Mint Cream, 32 GB)', 4.5041873433701305), ('REDMI Note 9 (Shadow Black, 64 GB)', 4.4003424717355974), ('realme Narzo 50A (Oxygen Green, 128 GB)', 4.381214542593254)] \n",
      "\n",
      "Harish Kumar ->  [('Infinix Hot 11S (Green Wave, 64 GB)', 5.07109686923962), ('Nokia TA-1010/105', 4.9013483407075045), ('REDMI 9i (Sea Blue, 64 GB)', 4.87986087115225), ('Infinix Hot 10 Play (Aegean Blue, 64 GB)', 4.8371767761577775), ('OPPO F17 Pro (Metallic White, 128 GB)', 4.781119031450884)] \n",
      "\n",
      "Pramod  Kumar ->  [('Infinix Hot 10 Play (Obsidian Black, 64 GB)', 4.7851804217136555), ('realme C25Y (Metal Grey, 128 GB)', 4.658555810871161), ('realme C25Y (Glacier Blue, 128 GB)', 4.494945890199556), ('Xiaomi 11i 5G (Stealth Black, 128 GB)', 4.4755084149532225), ('POCO M2 Pro (Out of the Blue, 64 GB)', 4.463808352989721)] \n",
      "\n",
      "Arun ->  [('APPLE iPhone 11 (Green, 128 GB)', 4.7969183872015), ('APPLE iPhone 11 (Purple, 64 GB)', 4.768073818054475), ('realme C25s (Watery Grey, 128 GB)', 4.6096583208125), ('REDMI 9 Power (Blazing Blue, 64 GB)', 4.505908712284877), ('LAVA A1 Josh', 4.50469261538015)] \n",
      "\n",
      "Vikash  Kumar ->  [('APPLE iPhone 12 (Green, 64 GB)', 4.600022324847467), ('APPLE iPhone 12 (Black, 64 GB)', 4.535309486321715), ('SAMSUNG Galaxy F12 (Sea Green, 128 GB)', 4.369087450189577), ('SAMSUNG Galaxy F12 (Sea Green, 64 GB)', 4.343160011797029), ('SAMSUNG Galaxy F12 (Sky Blue, 64 GB)', 4.247909425872858)] \n",
      "\n",
      "Chandra Sekhar ->  [('Infinix Hot 11S (Polar Black, 128 GB)', 4.115391457592588), ('Infinix Hot 11S (Polar Black, 64 GB)', 4.106269374976751), ('OPPO F17 Pro (Matte Black, 128 GB)', 3.69076214393307), ('realme 8s 5G (Universe Purple, 128 GB)', 3.6657389070298074), ('POCO X3 (Cobalt Blue, 64 GB)', 3.6648616651237775)] \n",
      "\n",
      "Manish ->  [('APPLE iPhone SE (White, 128 GB)', 4.33094621897828), ('APPLE iPhone SE (Black, 64 GB)', 4.323800413146907), ('realme Narzo 30 (Racing Blue, 64 GB)', 4.144571532701373), ('POCO M2 Pro (Two Shades of Black, 64 GB)', 4.054730912854473), ('realme C25s (Watery Blue, 128 GB)', 3.9955985998821335)] \n",
      "\n",
      "Manish  Kumar ->  [('APPLE iPhone 11 (Purple, 128 GB)', 4.790260298649529), ('APPLE iPhone 11 (Yellow, 128 GB)', 4.762307153198821), ('APPLE iPhone 11 (Purple, 64 GB)', 4.702325942011247), ('OPPO A53s 5G (Ink Black, 128 GB)', 4.608361832022192), ('SAMSUNG Metro 313 Dual Sim', 4.554646767020929)] \n",
      "\n",
      "RAVI KUMAR ->  [('APPLE iPhone 12 (Blue, 64 GB)', 4.7634775947567976), ('Infinix Smart 5 (Aegean Blue, 32 GB)', 4.7296233449166465), ('vivo V23 5G (Sunshine Gold, 128 GB)', 4.705935272456182), ('realme 8s 5G (Universe Blue, 128 GB)', 4.695954928404066), ('APPLE iPhone 12 (Black, 64 GB)', 4.68098541902739)] \n",
      "\n",
      "Satya Prakash ->  [('APPLE iPhone 12 (Purple, 64 GB)', 4.7246280036288475), ('POCO M3 (Power Black, 128 GB)', 4.553837009577414), ('MOTOROLA E7 Power (Tahiti Blue, 64 GB)', 4.547137855178545), ('APPLE iPhone 12 (White, 64 GB)', 4.5318747564189), ('OPPO A12 (Flowing Silver, 64 GB)', 4.45654716762171)] \n",
      "\n",
      "Vikram Singh ->  [('vivo V21 5G (Neon Spark, 128 GB)', 4.780913721632769), ('APPLE iPhone 12 (Green, 64 GB)', 4.714556750802711), ('APPLE iPhone 12 (Red, 128 GB)', 4.68229334828123), ('Infinix Hot 10 Play (7° Purple, 64 GB)', 4.532417462562993), ('Infinix Hot 10 Play (7° Purple, 64 GB)', 4.532417462562993)] \n",
      "\n",
      "Jitendra Yadav ->  [('Infinix Hot 10 Play (Aegean Blue, 64 GB)', 4.915186316876494), ('realme 9 Pro 5G (Aurora Green, 128 GB)', 4.7022878818126985), ('OPPO A53s 5G (Ink Black, 128 GB)', 4.69894129041782), ('Infinix Hot 11S (7° Purple, 128 GB)', 4.666834380093701), ('realme Narzo 30 5G (Racing Blue, 128 GB)', 4.661431077859254)] \n",
      "\n",
      "Kuldeep Singh ->  [('APPLE iPhone 12 (Red, 128 GB)', 4.655494909547237), ('APPLE iPhone 12 (Blue, 64 GB)', 4.6502127981110215), ('APPLE iPhone 12 (Purple, 64 GB)', 4.649165452445569), ('APPLE iPhone 12 (White, 256 GB)', 4.6067126678343335), ('APPLE iPhone 11 (Purple, 64 GB)', 4.587651631494359)] \n",
      "\n",
      "Akash Yadav ->  [('Infinix Hot 11S (7° Purple, 64 GB)', 4.970322171926594), ('Infinix Hot 11S (Green Wave, 64 GB)', 4.933628531490623), ('Infinix Hot 11S (Silver Wave, 128 GB)', 4.920194922729786), ('Infinix Hot 10 (Amber Red, 64 GB)', 4.859596651843097), ('Infinix Hot 11S (Green Wave, 128 GB)', 4.8522710943440135)] \n",
      "\n",
      "Deepak kumar ->  [('APPLE iPhone 12 Mini (Blue, 64 GB)', 4.685174299431214), ('Infinix Smart 5 (Aegean Blue, 32 GB)', 4.632901672085574), ('MOTOROLA G60 (Frosted Champagne, 128 GB)', 4.494460172069874), ('APPLE iPhone 12 Mini (Black, 64 GB)', 4.485882024605923), ('POCO M3 (Cool Blue, 64 GB)', 4.326509273891379)] \n",
      "\n",
      "Arun Kumar ->  [('realme C25Y (Glacier Blue, 64 GB)', 4.506042715619643), ('realme C25Y (Glacier Blue, 64 GB)', 4.506042715619643), ('APPLE iPhone 12 (Black, 128 GB)', 4.4371918130832855), ('APPLE iPhone 11 (Red, 64 GB)', 4.392500135325239), ('realme C25Y (Metal Grey, 64 GB)', 4.344723839676701)] \n",
      "\n",
      "Nitish  Kumar  ->  [('Infinix Hot 11S (7° Purple, 64 GB)', 4.8424376046978), ('Infinix Hot 11S (Polar Black, 128 GB)', 4.81227270327559), ('vivo T1 5G (Starlight Black, 128 GB)', 4.7901240721579175), ('Infinix Hot 10 Play (Morandi Green, 64 GB)', 4.7149970116873785), ('SAMSUNG Guru Music 2', 4.634658931405333)] \n",
      "\n",
      "vikash kumar ->  [('APPLE iPhone 12 Mini (Black, 64 GB)', 4.961935212314551), ('Infinix Hot 11S (Silver Wave, 128 GB)', 4.898215451909801), ('Infinix Hot 11S (Polar Black, 64 GB)', 4.8186964714837135), ('Infinix Hot 11S (7° Purple, 128 GB)', 4.818203752768196), ('Infinix Hot 11S (7° Purple, 64 GB)', 4.7852892093572565)] \n",
      "\n",
      "Manpreet Singh ->  [('APPLE iPhone 11 (Purple, 64 GB)', 5.2030138639889305), ('APPLE iPhone 11 (Purple, 128 GB)', 5.193246039400754), ('APPLE iPhone 11 (Yellow, 128 GB)', 5.164992277354194), ('APPLE iPhone 12 Mini (White, 64 GB)', 5.063950213148769), ('APPLE iPhone 12 (White, 256 GB)', 5.046259726709113)] \n",
      "\n",
      "Rahul  Singh ->  [('OPPO A31 (Mystery Black, 128 GB)', 4.948914549929723), ('APPLE iPhone 11 (Red, 64 GB)', 4.898193189859706), ('POCO M3 Pro 5G (Yellow, 64 GB)', 4.847429464141505), ('APPLE iPhone 11 (Black, 128 GB)', 4.774963045360659), ('OPPO A12 (Flowing Silver, 64 GB)', 4.65302702844492)] \n",
      "\n",
      "Devendra Singh ->  [('APPLE iPhone 11 (White, 128 GB)', 4.7788051170511805), ('APPLE iPhone 11 (Green, 128 GB)', 4.721353879858014), ('APPLE iPhone 11 (Black, 128 GB)', 4.619243772078488), ('APPLE iPhone 11 (Yellow, 128 GB)', 4.608575538154491), ('realme C11 2021 (Cool Blue, 64 GB)', 4.4586098901343965)] \n",
      "\n",
      "Sanjay ->  [('APPLE iPhone SE (Red, 128 GB)', 4.661769379210265), ('APPLE iPhone SE (Black, 128 GB)', 4.550166221244177), ('SAMSUNG GT-E1215', 4.43862330321508), ('realme Narzo 50A (Oxygen Green, 128 GB)', 4.373413605413246), ('REDMI Note 9 (Shadow Black, 64 GB)', 4.264697181985162)] \n",
      "\n",
      "Narendra Kumar ->  [('Itel Magic2 4G( WiFi,Hotspot Tethering)', 4.826347366918664), ('POCO M3 (Cool Blue, 64 GB)', 4.734241826726858), ('APPLE iPhone 12 (Black, 64 GB)', 4.596813714970172), ('Nokia TA-1304/105 SS', 4.539924595731998), ('realme C21 (Cross Blue, 64 GB)', 4.534726462323266)] \n",
      "\n",
      "Sarath Kumar ->  [('realme 8i (Space Black, 64 GB)', 4.355257350958978), ('realme C25Y (Metal Grey, 64 GB)', 4.3316582152645084), ('POCO M3 Pro 5G (Yellow, 64 GB)', 4.108917176364617), ('SAMSUNG Guru Music 2', 3.997078166057435), ('POCO M3 Pro 5G (Power Black, 64 GB)', 3.8929344046918204)] \n",
      "\n",
      "Manish Gupta ->  [('APPLE iPhone 11 (Yellow, 128 GB)', 5.044915031873725), ('APPLE iPhone 11 (Green, 128 GB)', 4.990228741275983), ('realme C25s (Watery Blue, 128 GB)', 4.961968396144543), ('APPLE iPhone SE (White, 128 GB)', 4.960496126526917), ('APPLE iPhone SE (Red, 64 GB)', 4.936818804833046)] \n",
      "\n",
      "Ajay Sharma ->  [('APPLE iPhone 11 (Yellow, 64 GB)', 4.768737885618268), ('APPLE iPhone 11 (Yellow, 128 GB)', 4.727907154607447), ('APPLE iPhone 11 (Red, 64 GB)', 4.700653359015437), ('APPLE iPhone 11 (Black, 128 GB)', 4.658124224180099), ('APPLE iPhone 12 Mini (Black, 64 GB)', 4.623904102938689)] \n",
      "\n",
      "Saravana Kumar ->  [('APPLE iPhone 12 Mini (Black, 64 GB)', 4.690565131552134), ('MOTOROLA G60 (Soft Silver, 128 GB)', 4.509176550487548), ('REDMI Note 9 (Shadow Black, 64 GB)', 4.49693958821221), ('REDMI Note 9 (Aqua Green, 64 GB)', 4.447413537595271), ('APPLE iPhone SE (White, 128 GB)', 4.4229679293872985)] \n",
      "\n",
      "Dheeraj Maurya ->  [('Infinix Smart 5A (Quetzal Cyan, 32 GB)', 4.962868075285954), ('realme Narzo 50A (Oxygen Blue, 64 GB)', 4.932618929931624), ('REDMI 9i (Nature Green, 64 GB)', 4.917085643538185), ('realme 9 Pro 5G (Aurora Green, 128 GB)', 4.777057015633687), ('realme C21 (Cross Blue, 64 GB)', 4.766011562330613)] \n",
      "\n",
      "Rajesh Singh ->  [('realme C25Y (Glacier Blue, 64 GB)', 4.365064281349601), ('realme 9 Pro 5G (Aurora Green, 128 GB)', 4.3162698975018445), ('Micromax IN Note 1 (White, 64 GB)', 4.222823931522141), ('realme C25s (Watery Grey, 128 GB)', 4.212010527779995), ('realme C25Y (Metal Grey, 64 GB)', 4.077761295549399)] \n",
      "\n",
      "Sandeep ->  [('APPLE iPhone 12 Mini (White, 64 GB)', 4.691520832357476), ('OPPO A12 (Blue, 32 GB)', 4.495077037937478), ('APPLE iPhone 12 (White, 64 GB)', 4.466318444827467), ('APPLE iPhone 12 Mini (Blue, 64 GB)', 4.4038539846268705), ('OPPO A33 (Mint Cream, 32 GB)', 4.217295022818054)] \n",
      "\n",
      "Pankaj  Kumar ->  [('Infinix Hot 10S (95° Black, 64 GB)', 4.6714214920386565), ('OPPO F17 Pro (Magic Blue, 128 GB)', 4.608429445738987), ('REDMI Note 9 (Aqua Green, 64 GB)', 4.552605829445301), ('OPPO A31 (Mystery Black, 64 GB)', 4.496439255600117), ('Infinix Hot 10 (Ocean Wave, 64 GB)', 4.480401233098109)] \n",
      "\n",
      "Prabhat Kumar ->  [('OPPO A12 (Blue, 32 GB)', 4.282068590471721), ('POCO M3 Pro 5G (Power Black, 64 GB)', 4.262192580416407), ('Infinix Smart 5A (Quetzal Cyan, 32 GB)', 4.213020499883483), ('realme Narzo 30 (Racing Blue, 64 GB)', 4.1779993993214966), ('REDMI Note 9 (Aqua Green, 64 GB)', 4.089750448463272)] \n",
      "\n",
      "sunil kumar ->  [('OPPO A53s 5G (Ink Black, 128 GB)', 4.486749652034811), ('realme C25Y (Metal Grey, 64 GB)', 4.473263257632957), ('SAMSUNG Galaxy F12 (Sea Green, 64 GB)', 4.455153509651305), ('APPLE iPhone 12 (Blue, 64 GB)', 4.439542806545133), ('SAMSUNG Galaxy F12 (Celestial Black, 64 GB)', 4.392598546539733)] \n",
      "\n",
      "Rohit kumar ->  [('APPLE iPhone 12 (Green, 64 GB)', 4.878954784844123), ('APPLE iPhone 12 Mini (Blue, 64 GB)', 4.8701451807589216), ('APPLE iPhone 12 Mini (Black, 64 GB)', 4.84108580318694), ('realme 8 5G (Supersonic Blue, 128 GB)', 4.661766670992739), ('realme Narzo 30 5G (Racing Blue, 128 GB)', 4.648679271237716)] \n",
      "\n",
      "Sakthi Vel ->  [('SAMSUNG Galaxy F12 (Sea Green, 128 GB)', 4.670003394866473), ('SAMSUNG Galaxy F12 (Sky Blue, 64 GB)', 4.634273178888774), ('REDMI 9 Power (Fiery Red, 64 GB)', 4.559117983086119), ('POCO F3 GT (Predator Black, 128 GB)', 4.395964974607312), ('POCO C3 (Arctic Blue, 32 GB)', 4.388198202519265)] \n",
      "\n",
      "Prashant Singh ->  [('APPLE iPhone 12 (Blue, 64 GB)', 4.564066884154995), ('SAMSUNG Guru Music 2', 4.492786974625169), ('APPLE iPhone 12 (White, 256 GB)', 4.4674679878136185), ('realme 8 (Cyber Black, 128 GB)', 4.249159286409183), ('APPLE iPhone 12 (Green, 64 GB)', 4.150160436105723)] \n",
      "\n",
      "Bablu Kumar ->  [('POCO C31 (Royal Blue, 32 GB)', 4.698288988634026), ('realme Narzo 30 5G (Racing Silver, 128 GB)', 4.692049576255213), ('Infinix Smart 5A (Quetzal Cyan, 32 GB)', 4.506769004065116), ('realme 8 5G (Supersonic Blue, 64 GB)', 4.482989005806521), ('realme 9 Pro+ 5G (Midnight Black, 128 GB)', 4.317330945781744)] \n",
      "\n",
      "Sanjeet Kumar ->  [('APPLE iPhone 11 (White, 128 GB)', 4.741589145158712), ('APPLE iPhone 11 (Green, 128 GB)', 4.728778310495644), ('APPLE iPhone 11 (Yellow, 128 GB)', 4.727135381145623), ('Infinix Hot 11S (Green Wave, 64 GB)', 4.712508511925947), ('APPLE iPhone 11 (Black, 64 GB)', 4.69638000021282)] \n",
      "\n",
      "Amar Singh ->  [('REDMI 9 Power (Blazing Blue, 64 GB)', 4.482073144046493), ('realme GT Master Edition (Cosmos Black, 128 GB)', 4.480606768277877), ('vivo V21 5G (Sunset Dazzle, 128 GB)', 4.38127879955524), ('vivo V21 5G (Arctic White, 128 GB)', 4.357131130149786), ('realme C11 2021 (Cool Blue, 32 GB)', 4.340141955081128)] \n",
      "\n",
      "Shubham Gupta ->  [('Infinix Smart 5A (Ocean Wave, 32 GB)', 4.220390977776185), ('realme C21Y (Cross Blue, 32 GB)', 4.215353669530038), ('REDMI Note 9 (Shadow Black, 64 GB)', 4.206079735659262), ('realme C25Y (Metal Grey, 64 GB)', 4.197444652913833), ('Infinix Smart HD 2021 (Quartz Green, 32 GB)', 4.145880842153401)] \n",
      "\n",
      "Ashish Kumar ->  [('APPLE iPhone 12 (Black, 64 GB)', 4.659799633941148), ('APPLE iPhone 11 (Purple, 128 GB)', 4.6330997444645154), ('APPLE iPhone 12 (Black, 128 GB)', 4.626967218151389), ('POCO F3 GT (Gunmetal Silver, 128 GB)', 4.603200733467365), ('Infinix Hot 11S (Polar Black, 128 GB)', 4.5855077302376905)] \n",
      "\n",
      "Mohit ->  [('APPLE iPhone 12 (Blue, 64 GB)', 4.958462535186815), ('APPLE iPhone 12 Mini (White, 64 GB)', 4.950173275197357), ('APPLE iPhone 12 (Red, 128 GB)', 4.920847705204145), ('SAMSUNG Galaxy F12 (Celestial Black, 64 GB)', 4.907127821883668), ('Infinix Hot 10 Play (Aegean Blue, 64 GB)', 4.90639735327856)] \n",
      "\n",
      "Devendra Kumar ->  [('REDMI Note 9 (Shadow Black, 64 GB)', 4.762472371340423), ('Infinix Smart 5A (Ocean Wave, 32 GB)', 4.663974303639928), ('Infinix Smart 5A (Midnight Black, 32 GB)', 4.607296853144067), ('Infinix Smart 5A (Quetzal Cyan, 32 GB)', 4.590798089089476), ('OPPO A31 (Lake Green, 64 GB)', 4.422653260609994)] \n",
      "\n",
      "Ravi Kumar ->  [('Redmi 9 (Sporty Orange, 64 GB)', 4.57034035814867), ('APPLE iPhone 12 Mini (Blue, 64 GB)', 4.565606430565039), ('APPLE iPhone 12 (Green, 64 GB)', 4.527964977633188), ('APPLE iPhone SE (Black, 128 GB)', 4.48455153722854), ('APPLE iPhone SE (Black, 128 GB)', 4.48455153722854)] \n",
      "\n",
      "Brijesh Kumar ->  [('APPLE iPhone 11 (Purple, 128 GB)', 5.063911103913405), ('APPLE iPhone SE (Red, 128 GB)', 4.865214135339819), ('APPLE iPhone SE (White, 64 GB)', 4.774099712898727), ('Redmi 9 (Carbon Black, 64 GB)', 4.677889088730067), ('REDMI 9 Prime (Matte Black, 64 GB)', 4.635197607057257)] \n",
      "\n",
      "pradeep kumar ->  [('APPLE iPhone 11 (Red, 64 GB)', 4.903993705718531), ('APPLE iPhone 11 (Black, 64 GB)', 4.902428433397349), ('APPLE iPhone 11 (Yellow, 128 GB)', 4.9000115096468795), ('APPLE iPhone 11 (Black, 128 GB)', 4.899192157161884), ('APPLE iPhone 11 (Purple, 64 GB)', 4.872251226166426)] \n",
      "\n",
      "Vijay  Kumar ->  [('REDMI Note 10S (Cosmic Purple, 64 GB)', 4.926833122333922), ('REDMI Note 10S (Shadow Black, 64 GB)', 4.843115865218814), ('Infinix Hot 11S (Silver Wave, 128 GB)', 4.8394658791529634), ('Infinix Hot 11S (Silver Wave, 64 GB)', 4.839002418472576), ('realme 8i (Space Black, 128 GB)', 4.620080113035916)] \n",
      "\n",
      "Ganesh ->  [('SAMSUNG Galaxy F12 (Sea Green, 64 GB)', 4.788409449093304), ('realme 9i (Prism Blue, 128 GB)', 4.780480970389842), ('SAMSUNG Galaxy F12 (Sky Blue, 64 GB)', 4.7582240973671865), ('Infinix Hot 10 Play (Obsidian Black, 64 GB)', 4.733710172633676), ('Nokia TA-1304/105 SS', 4.645156521672397)] \n",
      "\n",
      "Rahul Yadav ->  [('APPLE iPhone SE (White, 64 GB)', 4.616526814331589), ('APPLE iPhone 11 (Black, 128 GB)', 4.608941721905346), ('APPLE iPhone 12 Mini (Blue, 64 GB)', 4.596703518298149), ('vivo T1 5G (Starlight Black, 128 GB)', 4.586484567793944), ('APPLE iPhone SE (Red, 128 GB)', 4.586469780397015)] \n",
      "\n",
      "vijay kumar ->  [('realme Narzo 50A (Oxygen Green, 128 GB)', 4.511980439123528), ('Infinix Hot 11S (Polar Black, 128 GB)', 4.456202048681414), ('APPLE iPhone 12 Mini (Blue, 64 GB)', 4.428707636284393), ('REDMI 9i (Midnight Black, 64 GB)', 4.286214168103876), ('vivo T1 5G (Starlight Black, 128 GB)', 4.275281794421983)] \n",
      "\n",
      "Harpreet Singh ->  [('APPLE iPhone SE (Black, 64 GB)', 5.0181947868159416), ('APPLE iPhone 12 (White, 64 GB)', 4.999344088092571), ('APPLE iPhone 12 (White, 256 GB)', 4.995055588460977), ('APPLE iPhone 12 Mini (Blue, 64 GB)', 4.977465816119377), ('APPLE iPhone 12 (Black, 64 GB)', 4.943646898582039)] \n",
      "\n",
      "Salman Khan ->  [('APPLE iPhone 12 Mini (White, 64 GB)', 4.877153999212007), ('SAMSUNG Galaxy F12 (Sky Blue, 128 GB)', 4.762465425302373), ('SAMSUNG Galaxy F12 (Sky Blue, 64 GB)', 4.74742547424041), ('OPPO A31 (Lake Green, 64 GB)', 4.65952304120344), ('OPPO A12 (Blue, 64 GB)', 4.539275061954528)] \n",
      "\n",
      "Munna Kumar ->  [('Infinix Smart 5 (Morandi Green, 32 GB)', 4.986375597175704), ('Xiaomi 11i 5G (Purple Mist, 128 GB)', 4.970161196726134), ('realme C21 (Cross Blue, 64 GB)', 4.969162056098764), ('Infinix Hot 10 Play (Obsidian Black, 64 GB)', 4.857846365185636), ('vivo T1 5G (Rainbow Fantasy, 128 GB)', 4.839722623369846)] \n",
      "\n",
      "Satyam Singh ->  [('APPLE iPhone SE (Black, 128 GB)', 4.961973560748904), ('APPLE iPhone SE (Red, 128 GB)', 4.909311321570646), ('APPLE iPhone SE (White, 64 GB)', 4.894855380276643), ('realme Narzo 30 (Racing Blue, 128 GB)', 4.868536110634222), ('SAMSUNG Galaxy F22 (Denim Black, 128 GB)', 4.867847756326391)] \n",
      "\n",
      "Atul Kumar ->  [('APPLE iPhone 12 (Black, 64 GB)', 4.996318735595834), ('APPLE iPhone 12 (White, 64 GB)', 4.927348947685358), ('APPLE iPhone SE (White, 128 GB)', 4.832576996537931), ('APPLE iPhone SE (Black, 128 GB)', 4.815851300853268), ('Infinix Hot 10 Play (Morandi Green, 64 GB)', 4.720759344229331)] \n",
      "\n",
      "Vinay ->  [('APPLE iPhone 12 (Blue, 64 GB)', 4.684129180314912), ('APPLE iPhone SE (Red, 64 GB)', 4.604426180231123), ('APPLE iPhone 12 Mini (White, 64 GB)', 4.579506925922129), ('OPPO A12 (Flowing Silver, 64 GB)', 4.500570975082984), ('APPLE iPhone 11 (Green, 128 GB)', 4.440308059085697)] \n",
      "\n",
      "Naveen Kumar ->  [('APPLE iPhone 12 (Blue, 64 GB)', 4.615973252920512), ('APPLE iPhone 12 (White, 64 GB)', 4.569508964027367), ('APPLE iPhone SE (Red, 128 GB)', 4.551966051590628), ('realme Narzo 50A (Oxygen Green, 128 GB)', 4.506375376556697), ('POCO M3 Pro 5G (Power Black, 64 GB)', 4.42186866750886)] \n",
      "\n",
      "Yogesh Kumar ->  [('APPLE iPhone 12 (Green, 64 GB)', 4.7464214225301), ('realme Narzo 50i (Mint Green, 32 GB)', 4.657043516436996), ('APPLE iPhone 12 (White, 256 GB)', 4.621874909418483), ('POCO M3 Pro 5G (Cool Blue, 128 GB)', 4.490462086378255), ('realme GT Master Edition (Cosmos Black, 128 GB)', 4.472484756024726)] \n",
      "\n",
      "Amit Sharma ->  [('APPLE iPhone 11 (Red, 64 GB)', 4.761405756380748), ('APPLE iPhone 11 (Green, 128 GB)', 4.733920794920551), ('APPLE iPhone 11 (Yellow, 128 GB)', 4.713294568123267), ('APPLE iPhone 11 (Black, 128 GB)', 4.712430075682682), ('APPLE iPhone 11 (Purple, 128 GB)', 4.555031418086798)] \n",
      "\n",
      "Prashant Kumar ->  [('APPLE iPhone 12 (Black, 128 GB)', 4.7345788690466595), ('APPLE iPhone 12 (Green, 64 GB)', 4.69414320110447), ('APPLE iPhone 12 (White, 256 GB)', 4.679145770128933), ('OPPO Reno6 5G (Aurora, 128 GB)', 4.570567189725394), ('Infinix Hot 11S (Silver Wave, 64 GB)', 4.526599501988271)] \n",
      "\n",
      "Saddam Hussain ->  [('APPLE iPhone 12 Mini (Blue, 64 GB)', 5.060429268909433), ('APPLE iPhone 12 Mini (White, 64 GB)', 4.972235429605947), ('OPPO A12 (Blue, 32 GB)', 4.8643900487760225), ('POCO C3 (Matte Black, 32 GB)', 4.849501188853092), ('REDMI 9 Power (Blazing Blue, 64 GB)', 4.786187198209993)] \n",
      "\n",
      "Anil ->  [('APPLE iPhone 12 (Blue, 64 GB)', 4.841215770741682), ('APPLE iPhone 12 (Purple, 64 GB)', 4.822106833464982), ('APPLE iPhone 12 Mini (Blue, 64 GB)', 4.791851764308867), ('APPLE iPhone 12 (Red, 128 GB)', 4.767360054709187), ('APPLE iPhone 11 (White, 128 GB)', 4.746126447809747)] \n",
      "\n",
      "Suraj Gupta ->  [('POCO M2 Pro (Out of the Blue, 64 GB)', 4.042487692811394), ('Infinix Hot 11S (Polar Black, 64 GB)', 4.011684593520148), ('Infinix Hot 11S (Silver Wave, 64 GB)', 3.9923595230673965), ('Infinix Hot 11S (7° Purple, 128 GB)', 3.987774811810648), ('REDMI 9i (Sea Blue, 64 GB)', 3.884211829275217)] \n",
      "\n",
      "Ajith Kumar ->  [('Nokia 105 SS 2021', 4.149934680877221), ('Infinix Hot 10S (95° Black, 64 GB)', 4.069367681197087), ('Infinix Smart 5A (Quetzal Cyan, 32 GB)', 4.049961741820404), ('realme 8 (Cyber Silver, 128 GB)', 3.873322017076257), ('OPPO Reno6 5G (Stellar Black, 128 GB)', 3.8085684134253652)] \n",
      "\n",
      "Santhosh ->  [('REDMI 9 Power (Fiery Red, 128 GB)', 4.17204926277868), ('realme C11 2021 (Cool Grey, 32 GB)', 4.16108809021922), ('OPPO Reno6 5G (Stellar Black, 128 GB)', 4.149960244156089), ('MOTOROLA G40 Fusion (Frosted Champagne, 128 GB)', 4.097959275105039), ('MOTOROLA G60 (Moonless, 128 GB)', 3.9034817178468013)] \n",
      "\n",
      "Sachin Yadav ->  [('Infinix Smart 5 (Morandi Green, 32 GB)', 4.742785883676211), ('OPPO F17 Pro (Magic Blue, 128 GB)', 4.73814622659951), ('POCO X3 (Cobalt Blue, 64 GB)', 4.678735555456989), ('OPPO A53s 5G (Crystal Blue, 128 GB)', 4.636766113621563), ('Infinix Smart 5 (7 Purple, 32 GB)', 4.605499672811972)] \n",
      "\n",
      "Debashish Barman ->  [('realme C25_Y (Glacier Blue, 64 GB)', 5.232685609367341), ('realme Narzo 50A (Oxygen Blue, 64 GB)', 5.186372722401097), ('OPPO A33 (Moonlight Black, 32 GB)', 5.162529062066253), ('realme C21Y (Cross Blue, 32 GB)', 5.149339946068321), ('realme Narzo 30 5G (Racing Silver, 128 GB)', 5.116581528727273)] \n",
      "\n",
      "Vipin Kumar ->  [('APPLE iPhone 12 (Green, 64 GB)', 4.784186334986251), ('APPLE iPhone 12 Mini (Blue, 64 GB)', 4.669644117543224), ('realme C21Y (Cross Black, 64 GB)', 4.601392842636099), ('vivo T1 5G (Starlight Black, 128 GB)', 4.600345234056549), ('realme Narzo 30 (Racing Silver, 64 GB)', 4.598376961465665)] \n",
      "\n",
      "Shivam Mishra ->  [('APPLE iPhone 11 (White, 64 GB)', 4.995596611060331), ('APPLE iPhone 11 (Purple, 64 GB)', 4.97377410382687), ('SAMSUNG Galaxy F12 (Sea Green, 64 GB)', 4.693603357794027), ('Infinix Hot 10 Play (Obsidian Black, 64 GB)', 4.653103264631466), ('SAMSUNG Galaxy F12 (Celestial Black, 128 GB)', 4.612854990992069)] \n",
      "\n",
      "Kiran Kumar ->  [('APPLE iPhone 12 (White, 64 GB)', 4.361859272287427), ('realme Narzo 30 (Racing Silver, 64 GB)', 4.2928628169435825), ('Infinix Smart 5 (7 Purple, 32 GB)', 4.224101965499033), ('realme GT Master Edition (Cosmos Black, 128 GB)', 4.106276808797558), ('APPLE iPhone SE (Red, 128 GB)', 4.023860298839105)] \n",
      "\n",
      "Sanjeev Kumar ->  [('APPLE iPhone 11 (Black, 128 GB)', 4.815719883466579), ('APPLE iPhone 12 (White, 256 GB)', 4.802292773779431), ('APPLE iPhone 11 (Black, 64 GB)', 4.78963784904665), ('APPLE iPhone 11 (Yellow, 64 GB)', 4.752351669050444), ('APPLE iPhone 11 (Purple, 64 GB)', 4.738236233431052)] \n",
      "\n",
      "Raj Kumar ->  [('APPLE iPhone 12 (Black, 64 GB)', 4.606923199263855), ('Infinix Hot 11S (Green Wave, 64 GB)', 4.600746121554292), ('realme 9i (Prism Black, 64 GB)', 4.464570487475436), ('realme 9i (Prism Blue, 128 GB)', 4.458579713675764), ('realme Narzo 30 (Racing Blue, 64 GB)', 4.456490751534611)] \n",
      "\n",
      "Amit Singh ->  [('REDMI Note 10S (Shadow Black, 64 GB)', 5.093094804330226), ('APPLE iPhone 11 (White, 128 GB)', 5.042874543690061), ('APPLE iPhone 11 (Red, 64 GB)', 4.864816127966134), ('POCO X3 (Cobalt Blue, 64 GB)', 4.839836993439898), ('SAMSUNG Guru Music 2', 4.813790288215554)] \n",
      "\n",
      "Suresh ->  [('APPLE iPhone 11 (White, 128 GB)', 4.839835875611329), ('APPLE iPhone 11 (Yellow, 64 GB)', 4.775839083442206), ('APPLE iPhone 11 (Yellow, 128 GB)', 4.768472400760693), ('OPPO A12 (Blue, 32 GB)', 4.682305903298306), ('APPLE iPhone SE (Red, 64 GB)', 4.633530458397503)] \n",
      "\n",
      "Shravan Kumar ->  [('APPLE iPhone 12 (Blue, 64 GB)', 4.8023942547483225), ('APPLE iPhone 12 (Black, 64 GB)', 4.7936119157180155), ('APPLE iPhone 12 (Green, 64 GB)', 4.777078610039672), ('OPPO A53s 5G (Ink Black, 128 GB)', 4.629738826639627), ('POCO M3 (Power Black, 64 GB)', 4.443104526816065)] \n",
      "\n",
      "SANTOSH KUMAR ->  [('SAMSUNG Galaxy F12 (Sky Blue, 128 GB)', 4.9176492953201265), ('realme C25Y (Glacier Blue, 128 GB)', 4.914235304624995), ('realme C25Y (Glacier Blue, 64 GB)', 4.890546181979658), ('realme C25Y (Metal Grey, 64 GB)', 4.805194904672261), ('realme C21Y (Cross Blue, 32 GB)', 4.719901752274546)] \n",
      "\n",
      "Dilip Kumar ->  [('APPLE iPhone 12 (Green, 64 GB)', 4.78322170972273), ('APPLE iPhone 12 (Purple, 64 GB)', 4.688191379352335), ('APPLE iPhone 12 (Purple, 64 GB)', 4.688191379352335), ('realme C21 (Cross Black, 32 GB)', 4.561939151646185), ('realme C21 (Cross Black, 32 GB)', 4.561939151646185)] \n",
      "\n",
      "Pradeep Sharma ->  [('APPLE iPhone 11 (Purple, 128 GB)', 5.086165231358692), ('APPLE iPhone 11 (Red, 64 GB)', 5.012187377314401), ('APPLE iPhone 12 (Red, 128 GB)', 4.964715575960907), ('APPLE iPhone 11 (Yellow, 128 GB)', 4.94232732827855), ('APPLE iPhone 12 (White, 256 GB)', 4.910191702177588)] \n",
      "\n",
      "Amit Verma ->  [('APPLE iPhone 11 (Purple, 64 GB)', 4.790379830235212), ('SAMSUNG Galaxy F12 (Sea Green, 64 GB)', 4.316002223398346), ('realme Narzo 50A (Oxygen Green, 64 GB)', 4.262348372851156), ('SAMSUNG Galaxy F12 (Celestial Black, 64 GB)', 4.236121960731452), ('Infinix Smart 5A (Ocean Wave, 32 GB)', 4.187333852154338)] \n",
      "\n",
      "Amandeep Singh ->  [('APPLE iPhone 12 (Green, 64 GB)', 4.591692067958823), ('APPLE iPhone SE (White, 128 GB)', 4.545542378162366), ('APPLE iPhone SE (Red, 128 GB)', 4.513101383569051), ('APPLE iPhone SE (Black, 64 GB)', 4.463547565677612), ('SAMSUNG Galaxy F12 (Celestial Black, 128 GB)', 4.452775994601802)] \n",
      "\n",
      "Abhishek  Kumar ->  [('vivo V21 5G (Sunset Dazzle, 128 GB)', 4.9829199826324455), ('APPLE iPhone SE (Black, 64 GB)', 4.870639700087684), ('Infinix Hot 10 (Amber Red, 64 GB)', 4.786876092230452), ('APPLE iPhone SE (White, 128 GB)', 4.769423313036464), ('realme C25s (Watery Grey, 128 GB)', 4.751023250423051)] \n",
      "\n",
      "Rahul Raj ->  [('APPLE iPhone 12 (White, 256 GB)', 4.905926246761817), ('Nokia TA-1304/105 SS', 4.607976562508064), ('realme GT Master Edition (Luna White, 256 GB)', 4.437193737698526), ('Nokia 105 SS 2021', 4.372625591794102), ('realme GT Master Edition (Cosmos Black, 128 GB)', 4.36648402631934)] \n",
      "\n",
      "Suraj Kumar ->  [('APPLE iPhone SE (Black, 64 GB)', 4.712885669958545), ('APPLE iPhone SE (Black, 128 GB)', 4.5169799803380535), ('Infinix Hot 11S (7° Purple, 128 GB)', 4.506352882617655), ('OPPO A12 (Blue, 32 GB)', 4.483751838641996), ('realme Narzo 30 (Racing Blue, 128 GB)', 4.468681797841063)] \n",
      "\n",
      "Ganesh Kumar ->  [('APPLE iPhone 12 Mini (Black, 64 GB)', 4.80778395925298), ('OPPO A12 (Black, 32 GB)', 4.775870933449765), ('OPPO A12 (Blue, 32 GB)', 4.767665425709599), ('realme Narzo 30 5G (Racing Silver, 128 GB)', 4.684199411295849), ('Mi 11 Lite (Jazz Blue, 128 GB)', 4.64792247363743)] \n",
      "\n",
      "Dileep Kumar ->  [('SAMSUNG Galaxy F12 (Celestial Black, 128 GB)', 4.526045817475882), ('Infinix Hot 10 (Ocean Wave, 64 GB)', 4.522349995892669), ('SAMSUNG Galaxy F12 (Sky Blue, 64 GB)', 4.474613071643272), ('Infinix Smart 5 (Aegean Blue, 32 GB)', 4.449044894138291), ('SAMSUNG Galaxy F12 (Sky Blue, 128 GB)', 4.447220852398677)] \n",
      "\n",
      "praveen kumar ->  [('vivo V21 5G (Arctic White, 128 GB)', 4.706559225411078), ('vivo V21 5G (Sunset Dazzle, 256 GB)', 4.65450852682683), ('Infinix Note 11 (Celestial Snow, 64 GB)', 4.632153337223565), ('APPLE iPhone 12 (Blue, 64 GB)', 4.618804154194039), ('vivo V21 5G (Dusk Blue, 128 GB)', 4.470288620607571)] \n",
      "\n",
      "rahul kumar ->  [('APPLE iPhone 12 (Green, 64 GB)', 4.960211313631706), ('APPLE iPhone 12 (Blue, 64 GB)', 4.936882153152637), ('APPLE iPhone 12 (White, 256 GB)', 4.890307546969652), ('APPLE iPhone 12 (White, 64 GB)', 4.869088638225137), ('Infinix Smart 5 (Aegean Blue, 32 GB)', 4.72431501630756)] \n",
      "\n",
      "Gaurav Kumar ->  [('APPLE iPhone 12 (White, 256 GB)', 4.638712609983882), ('POCO C31 (Royal Blue, 32 GB)', 4.6171192386995905), ('APPLE iPhone 12 (Black, 64 GB)', 4.601381931697705), ('APPLE iPhone 12 (Blue, 64 GB)', 4.600421059785839), ('APPLE iPhone 11 (White, 128 GB)', 4.4534215890712066)] \n",
      "\n",
      "Amir Khan ->  [('APPLE iPhone 11 (Black, 64 GB)', 4.727859551349536), ('APPLE iPhone 12 Mini (Blue, 64 GB)', 4.658709312373327), ('APPLE iPhone 11 (Yellow, 64 GB)', 4.478819335906363), ('realme 8 (Cyber Black, 128 GB)', 4.433142893924841), ('APPLE iPhone 11 (Black, 128 GB)', 4.40586775142182)] \n",
      "\n",
      "My Account ->  [('realme Narzo 50A (Oxygen Blue, 128 GB)', 4.563221923839136), ('APPLE iPhone SE (White, 64 GB)', 4.479723851989975), ('APPLE iPhone SE (Black, 64 GB)', 4.47719146712339), ('APPLE iPhone 11 (Green, 128 GB)', 4.4427439821177765), ('APPLE iPhone 11 (Red, 64 GB)', 4.388864755257793)] \n",
      "\n",
      "ravi kumar ->  [('APPLE iPhone 11 (White, 128 GB)', 4.711832250017814), ('APPLE iPhone 11 (Black, 128 GB)', 4.699097019676273), ('POCO M3 Pro 5G (Yellow, 128 GB)', 4.4956000904665885), ('Xiaomi 11i 5G (Camo Green, 128 GB)', 4.352169031786178), ('OPPO A12 (Blue, 64 GB)', 4.308697654762712)] \n",
      "\n",
      "Rajeev Ranjan ->  [('APPLE iPhone 12 (Purple, 64 GB)', 4.47751133450455), ('APPLE iPhone 11 (Red, 64 GB)', 4.380149267359974), ('realme Narzo 30 (Racing Silver, 64 GB)', 4.343414264514901), ('LAVA A3', 4.287583406233013), ('APPLE iPhone 11 (Green, 128 GB)', 4.209070177403901)] \n",
      "\n",
      "Aamir Khan ->  [('APPLE iPhone 11 (Purple, 64 GB)', 5.202425816373495), ('APPLE iPhone 11 (Red, 64 GB)', 5.193660972778188), ('realme C25Y (Glacier Blue, 64 GB)', 4.944355444333869), ('REDMI Note 9 (Shadow Black, 64 GB)', 4.904199540091118), ('Infinix Hot 10 Play (Obsidian Black, 64 GB)', 4.871664958698892)] \n",
      "\n",
      "Santhosh Kumar ->  [('APPLE iPhone 12 (Red, 128 GB)', 4.604888141177719), ('APPLE iPhone 12 (White, 64 GB)', 4.468282044125835), ('OPPO A31 (Mystery Black, 64 GB)', 4.332143221951807), ('MOTOROLA Edge 20 Fusion 5G (Electric Graphite, 128 GB)', 4.322713067225832), ('Infinix Smart 5 (Morandi Green, 32 GB)', 4.2757492061460365)] \n",
      "\n",
      "Abhishek Ranjan ->  [('APPLE iPhone 11 (Yellow, 64 GB)', 5.325846997818569), ('APPLE iPhone 11 (White, 128 GB)', 5.3147277936190065), ('APPLE iPhone 11 (Black, 128 GB)', 5.314014486712217), ('APPLE iPhone 11 (Purple, 64 GB)', 5.308881989619078), ('APPLE iPhone SE (Red, 64 GB)', 5.214979599938616)] \n",
      "\n",
      "Amit Mishra ->  [('realme C25Y (Metal Grey, 128 GB)', 4.481760170491473), ('realme C25Y (Glacier Blue, 128 GB)', 4.354759212782177), ('APPLE iPhone 12 (Purple, 64 GB)', 4.3280111303530395), ('APPLE iPhone SE (White, 64 GB)', 4.2694178715121565), ('APPLE iPhone 12 (White, 256 GB)', 4.24376693114786)] \n",
      "\n",
      "Hardeep Singh ->  [('APPLE iPhone 12 (Purple, 64 GB)', 5.174646670696344), ('APPLE iPhone 12 (Red, 128 GB)', 5.139515668435317), ('MOTOROLA G60 (Moonless, 128 GB)', 5.066537163393435), ('APPLE iPhone 12 (Black, 128 GB)', 5.056712511890398), ('APPLE iPhone 12 (White, 256 GB)', 5.019293110698224)] \n",
      "\n",
      "Vikash Singh ->  [('Infinix Hot 10 Play (Aegean Blue, 64 GB)', 5.001958542504721), ('OPPO A31 (Fantasy White, 128 GB)', 4.880272920507098), ('realme Narzo 20 (Victory Blue, 128 GB)', 4.877550120441622), ('POCO M3 (Power Black, 64 GB)', 4.822301377806674), ('Infinix Smart HD 2021 (Quartz Green, 32 GB)', 4.767082409605868)] \n",
      "\n",
      "Avinash  Kumar ->  [('realme 8i (Space Black, 64 GB)', 4.586629547854511), ('realme Narzo 50A (Oxygen Blue, 64 GB)', 4.513382227577612), ('REDMI 9 Power (Fiery Red, 64 GB)', 4.504435824092766), ('realme Narzo 50A (Oxygen Green, 64 GB)', 4.452558737008153), ('OPPO A12 (Blue, 32 GB)', 4.39096706772704)] \n",
      "\n",
      "Akash Kumar ->  [('APPLE iPhone SE (Black, 64 GB)', 4.774224791788324), ('APPLE iPhone 12 (Green, 64 GB)', 4.748527542744972), ('APPLE iPhone 12 (Blue, 64 GB)', 4.684572338136024), ('Infinix Hot 10 Play (Aegean Blue, 64 GB)', 4.6203538748667485), ('APPLE iPhone 12 (Black, 64 GB)', 4.591043399312918)] \n",
      "\n",
      "Ashish Sharma ->  [('APPLE iPhone 12 (Green, 64 GB)', 4.808779800899004), ('APPLE iPhone 12 (Red, 128 GB)', 4.699394006564918), ('APPLE iPhone SE (Red, 64 GB)', 4.666219706084893), ('APPLE iPhone SE (Red, 128 GB)', 4.6205577444508314), ('OPPO Reno6 5G (Stellar Black, 128 GB)', 4.440860622055816)] \n",
      "\n",
      "Dharmendra  Kumar ->  [('realme 9i (Prism Black, 128 GB)', 4.542464532571002), ('OPPO A12 (Deep Blue, 32 GB)', 4.537781701169107), ('Infinix Hot 11S (Polar Black, 64 GB)', 4.406387080580405), ('realme 8i (Space Purple, 64 GB)', 4.399315737005219), ('Infinix Hot 11S (Green Wave, 128 GB)', 4.343297224036853)] \n",
      "\n",
      "Saurabh Kumar ->  [('APPLE iPhone 12 (Black, 64 GB)', 4.7356279033221265), ('APPLE iPhone 12 (Green, 64 GB)', 4.734536728236354), ('APPLE iPhone 12 (Black, 128 GB)', 4.634472978664572), ('realme GT Master Edition (Luna White, 128 GB)', 4.503251854763734), ('Infinix Hot 10 Play (Obsidian Black, 64 GB)', 4.463213397974974)] \n",
      "\n",
      "Gaurav Singh ->  [('vivo V21 5G (Sunset Dazzle, 256 GB)', 4.427086581747251), ('APPLE iPhone 11 (Black, 128 GB)', 4.343938655557809), ('APPLE iPhone 11 (Red, 64 GB)', 4.325813373800556), ('APPLE iPhone SE (Red, 128 GB)', 4.2863610486883355), ('APPLE iPhone 11 (Purple, 128 GB)', 4.279804898036774)] \n",
      "\n",
      "Rakesh ->  [('APPLE iPhone 11 (Black, 64 GB)', 4.821436000538177), ('APPLE iPhone 11 (Black, 128 GB)', 4.8062003276322836), ('APPLE iPhone SE (White, 128 GB)', 4.659772454972307), ('APPLE iPhone SE (Black, 128 GB)', 4.571335402494074), ('APPLE iPhone SE (Red, 64 GB)', 4.52289518817827)] \n",
      "\n",
      "Anil Sharma ->  [('Infinix Hot 11S (7° Purple, 128 GB)', 4.222392189096249), ('Infinix Hot 10 Play (Morandi Green, 64 GB)', 4.18307448809576), ('REDMI 9i (Sea Blue, 64 GB)', 4.129335695125122), ('realme C25Y (Glacier Blue, 128 GB)', 4.11647778102277), ('Infinix Hot 11S (Silver Wave, 64 GB)', 4.094260368022232)] \n",
      "\n",
      "DEEPAK KUMAR ->  [('APPLE iPhone 12 Mini (Blue, 64 GB)', 4.654240662378536), ('APPLE iPhone 12 (Blue, 64 GB)', 4.578537818092013), ('Infinix Note 11 (Graphite Black, 64 GB)', 4.528092665796305), ('SAMSUNG Galaxy F12 (Celestial Black, 128 GB)', 4.393882702259785), ('Kechaoda K115', 4.3066557732529835)] \n",
      "\n",
      "Ashish Verma ->  [('Infinix Smart 5A (Ocean Wave, 32 GB)', 4.8267207969938), ('REDMI 9 Power (Mighty Black, 64 GB)', 4.750119609163363), ('Infinix Hot 10S (95° Black, 64 GB)', 4.6825445627918425), ('Micromax IN Note 1 (Green, 64 GB)', 4.587900093696613), ('APPLE iPhone 11 (White, 128 GB)', 4.380828556625875)] \n",
      "\n",
      "Anish Kumar ->  [('Infinix Smart 5 (Morandi Green, 32 GB)', 4.4320055713446935), ('Infinix Hot 10 Play (Obsidian Black, 64 GB)', 4.398465384346126), ('realme C25Y (Metal Grey, 64 GB)', 4.387962829480071), ('APPLE iPhone 11 (Yellow, 64 GB)', 4.360032234307008), ('Infinix Smart 5 (7 Purple, 32 GB)', 4.288104035879684)] \n",
      "\n",
      "Saurabh Singh ->  [('vivo V21 5G (Arctic White, 128 GB)', 5.143451097280837), ('APPLE iPhone 12 (Blue, 64 GB)', 4.834717027669715), ('APPLE iPhone 12 (Green, 64 GB)', 4.826056685313109), ('APPLE iPhone 12 (Purple, 64 GB)', 4.822060854173557), ('APPLE iPhone 11 (Purple, 128 GB)', 4.8166930320329415)] \n",
      "\n",
      "mukesh kumar ->  [('Infinix Hot 11S (7° Purple, 64 GB)', 5.184687197080215), ('APPLE iPhone 11 (Yellow, 128 GB)', 5.117571415648266), ('Infinix Hot 11S (Polar Black, 128 GB)', 5.11486818141647), ('APPLE iPhone 11 (Black, 64 GB)', 5.114363753926948), ('APPLE iPhone SE (Black, 64 GB)', 5.023150500463876)] \n",
      "\n",
      "Sumit ->  [('APPLE iPhone 12 Mini (Blue, 64 GB)', 4.298579844672061), ('realme Narzo 30 5G (Racing Blue, 128 GB)', 4.067737267407953), ('realme Narzo 30 5G (Racing Silver, 128 GB)', 4.05936978860826), ('realme C21Y (Cross Blue, 32 GB)', 4.03656997622729), ('realme 8s 5G (Universe Blue, 128 GB)', 3.9954478900437826)] \n",
      "\n",
      "Vishal Singh ->  [('APPLE iPhone SE (White, 64 GB)', 4.797828867400262), ('APPLE iPhone 11 (White, 64 GB)', 4.749946830717536), ('Infinix Hot 10 Play (Obsidian Black, 64 GB)', 4.744746404762441), ('APPLE iPhone SE (White, 128 GB)', 4.6903943954997835), ('Infinix Hot 10S (95° Black, 64 GB)', 4.656690239197004)] \n",
      "\n",
      "Ashish  Kumar ->  [('Infinix Hot 11S (7° Purple, 128 GB)', 4.827570090800603), ('Infinix Hot 11S (Polar Black, 128 GB)', 4.812507027779184), ('Infinix Hot 11S (7° Purple, 64 GB)', 4.774699341569721), ('APPLE iPhone 12 (Black, 64 GB)', 4.758276264510483), ('APPLE iPhone 12 (White, 256 GB)', 4.716548266973623)] \n",
      "\n",
      "Aniket Kumar ->  [('Xiaomi 11i 5G (Camo Green, 128 GB)', 4.642695921452904), ('realme 8 5G (Supersonic Blue, 128 GB)', 4.624296561405863), ('APPLE iPhone 12 (Black, 128 GB)', 4.4917582268407), ('realme 8 5G (Supersonic Black, 64 GB)', 4.456077459160628), ('realme 8 5G (Supersonic Black, 128 GB)', 4.305866800001047)] \n",
      "\n",
      "Vaibhav Singh ->  [('APPLE iPhone SE (Black, 64 GB)', 5.405036073709839), ('APPLE iPhone SE (Black, 128 GB)', 5.381856814956255), ('realme 9i (Prism Blue, 128 GB)', 5.370553525805615), ('POCO C3 (Matte Black, 32 GB)', 5.276146196708252), ('POCO C31 (Royal Blue, 64 GB)', 5.199538078124319)] \n",
      "\n",
      "Javed Ansari ->  [('APPLE iPhone 11 (Purple, 128 GB)', 4.856672408382016), ('Infinix Hot 11S (Silver Wave, 128 GB)', 4.835942715244165), ('APPLE iPhone 11 (Yellow, 64 GB)', 4.827601189595362), ('APPLE iPhone 11 (Green, 128 GB)', 4.805795958488288), ('realme 8 (Cyber Black, 128 GB)', 4.773306511509414)] \n",
      "\n",
      "Rahul Saini ->  [('realme Narzo 50A (Oxygen Green, 128 GB)', 5.35898629254122), ('realme C25Y (Metal Grey, 128 GB)', 5.355108887241242), ('APPLE iPhone SE (Red, 64 GB)', 5.350845379026426), ('APPLE iPhone SE (Black, 64 GB)', 5.299096475309282), ('REDMI 9i (Sea Blue, 64 GB)', 5.278592725586754)] \n",
      "\n",
      "manoj kumar ->  [('APPLE iPhone 11 (Green, 128 GB)', 4.7259936452955005), ('APPLE iPhone 11 (Purple, 64 GB)', 4.710084779828885), ('APPLE iPhone 12 (Black, 64 GB)', 4.700352376967815), ('Infinix Hot 11S (Silver Wave, 128 GB)', 4.609757889270783), ('APPLE iPhone SE (White, 128 GB)', 4.595862953836658)] \n",
      "\n",
      "Jitendra Kumar ->  [('vivo T1 5G (Starlight Black, 128 GB)', 4.741706437505296), ('Infinix Hot 10 Play (Obsidian Black, 64 GB)', 4.6553701244857155), ('Infinix Hot 10 Play (7° Purple, 64 GB)', 4.646628219569658), ('Infinix Hot 10 Play (7° Purple, 64 GB)', 4.646628219569658), ('Kechaoda K112', 4.623487879112828)] \n",
      "\n",
      "Rahul Sharma ->  [('APPLE iPhone SE (Red, 128 GB)', 4.81718979985744), ('APPLE iPhone 11 (Yellow, 128 GB)', 4.813722602816474), ('APPLE iPhone 11 (Purple, 64 GB)', 4.788155551733703), ('APPLE iPhone 11 (Black, 128 GB)', 4.784204421319444), ('APPLE iPhone 11 (Red, 64 GB)', 4.771725686839603)] \n",
      "\n",
      "Vikram  Singh ->  [('APPLE iPhone SE (White, 64 GB)', 4.72397366717558), ('APPLE iPhone SE (Black, 128 GB)', 4.607331690087836), ('realme C21Y (Cross Blue, 32 GB)', 4.3505880245129465), ('Infinix Smart 5 (Morandi Green, 32 GB)', 4.3041593119523265), ('realme C11 2021 (Cool Blue, 32 GB)', 4.275583926493255)] \n",
      "\n",
      "Siva Kumar ->  [('Infinix Hot 10S (95° Black, 64 GB)', 4.408750256026615), ('Infinix Smart 5A (Midnight Black, 32 GB)', 4.365282735985367), ('POCO M2 Pro (Two Shades of Black, 64 GB)', 4.35233904499077), ('realme C21 (Cross Black, 32 GB)', 4.338727830157851), ('POCO M3 (Power Black, 64 GB)', 4.313313472395394)] \n",
      "\n",
      "Ankush Kumar ->  [('APPLE iPhone SE (Black, 128 GB)', 4.7695427771915275), ('APPLE iPhone 11 (Purple, 64 GB)', 4.734068881491479), ('APPLE iPhone 11 (Red, 64 GB)', 4.733016235591722), ('Infinix Smart 5 (7 Purple, 32 GB)', 4.56688407435136), ('REDMI Note 9 (Shadow Black, 64 GB)', 4.392401531748733)] \n",
      "\n",
      "Rakesh Kumar ->  [('OPPO A31 (Fantasy White, 128 GB)', 4.637970760409651), ('APPLE iPhone 11 (Yellow, 128 GB)', 4.615577941739482), ('APPLE iPhone 11 (Purple, 128 GB)', 4.613944075272295), ('Nokia TA-1174 / TA-1299', 4.576452134354071), ('Xiaomi 11i 5G (Camo Green, 128 GB)', 4.572546105849185)] \n",
      "\n",
      "Nitin Kumar ->  [('APPLE iPhone 11 (White, 128 GB)', 4.696356476028834), ('APPLE iPhone 11 (Yellow, 64 GB)', 4.6828145058640445), ('APPLE iPhone 11 (Purple, 128 GB)', 4.6452037259725465), ('APPLE iPhone 12 (White, 256 GB)', 4.574457569179575), ('APPLE iPhone 12 (Black, 64 GB)', 4.569708090993553)] \n",
      "\n",
      "ANIL KUMAR ->  [('APPLE iPhone 11 (Purple, 128 GB)', 4.69211347492042), ('Infinix Smart 5A (Ocean Wave, 32 GB)', 4.462681550396165), ('SAMSUNG Guru Music 2', 4.438756507514169), ('OPPO A53s 5G (Crystal Blue, 128 GB)', 4.3468337405592035), ('OPPO A53s 5G (Ink Black, 128 GB)', 4.2850308282204415)] \n",
      "\n",
      "Abhishek Sharma ->  [('APPLE iPhone 12 (Red, 128 GB)', 4.769405408173387), ('APPLE iPhone SE (Black, 128 GB)', 4.754833460563481), ('Redmi 9A (Midnight Black, 32 GB)', 4.735763282688186), ('REDMI Note 9 (Aqua Green, 64 GB)', 4.534104643614634), ('Infinix Smart 5A (Ocean Wave, 32 GB)', 4.529867847821923)] \n",
      "\n",
      "Santosh  Kumar ->  [('vivo V21 5G (Arctic White, 128 GB)', 5.2070000279504915), ('APPLE iPhone 11 (Red, 64 GB)', 4.933421123563582), ('realme Narzo 30 5G (Racing Blue, 128 GB)', 4.8372668608489535), ('realme Narzo 30 5G (Racing Silver, 128 GB)', 4.794135217187205), ('SAMSUNG GT-E1215', 4.782977333395818)] \n",
      "\n",
      "Mandeep Singh ->  [('APPLE iPhone 11 (White, 128 GB)', 5.207315871496607), ('APPLE iPhone 11 (Black, 128 GB)', 5.179974585765293), ('APPLE iPhone 12 (White, 256 GB)', 5.160512288916401), ('APPLE iPhone 12 (Purple, 64 GB)', 5.097293692491934), ('APPLE iPhone 12 (Black, 64 GB)', 5.063136345723465)] \n",
      "\n",
      "Vignesh ->  [('APPLE iPhone 12 (Blue, 64 GB)', 4.6952431674139135), ('APPLE iPhone 12 (Black, 64 GB)', 4.6750405431074755), ('MOTOROLA E7 Power (Coral Red, 64 GB)', 4.660066103144368), ('GIONEE Max (Royal Blue, 32 GB)', 4.484777750805571), ('POCO C3 (Arctic Blue, 32 GB)', 4.38430171211209)] \n",
      "\n",
      "Sonu Singh ->  [('Infinix Hot 10 (Amber Red, 64 GB)', 4.458818738557693), ('SAMSUNG Metro 313 Dual Sim', 4.369071732852735), ('SAMSUNG Galaxy F22 (Denim Blue, 64 GB)', 4.309164368555102), ('realme 9i (Prism Black, 64 GB)', 4.1315690934041704), ('Micromax IN Note 1 (White, 64 GB)', 4.087004313852059)] \n",
      "\n",
      "Subodh Kumar ->  [('APPLE iPhone 12 (Blue, 64 GB)', 4.909630219002463), ('APPLE iPhone 12 (Black, 128 GB)', 4.90876575705497), ('APPLE iPhone SE (Black, 64 GB)', 4.893126960620921), ('APPLE iPhone 12 (Red, 128 GB)', 4.865998317649024), ('APPLE iPhone 12 (Green, 64 GB)', 4.865130373602236)] \n",
      "\n",
      "Manoj Singh ->  [('APPLE iPhone 12 (Green, 64 GB)', 4.868084050217119), ('REDMI Note 10S (Deep Sea Blue, 128 GB)', 4.844561855156018), ('realme C25Y (Glacier Blue, 64 GB)', 4.831239621803423), ('REDMI Note 10S (Cosmic Purple, 64 GB)', 4.8219300330078), ('APPLE iPhone 12 (Black, 128 GB)', 4.81813858572847)] \n",
      "\n",
      "Avinash Kumar ->  [('realme Narzo 30 (Racing Silver, 128 GB)', 4.754457854804002), ('REDMI 9 Power (Fiery Red, 64 GB)', 4.551406520472031), ('APPLE iPhone SE (Red, 128 GB)', 4.54395956712018), ('SAMSUNG Metro 313 Dual Sim', 4.514437474479774), ('realme Narzo 30 (Racing Blue, 128 GB)', 4.5129125838096655)] \n",
      "\n",
      "Sagar Kumar ->  [('Infinix Hot 11S (Polar Black, 64 GB)', 4.703750884291046), ('Infinix Hot 11S (7° Purple, 128 GB)', 4.647511399885042), ('LAVA A1 Josh', 4.582849202039664), ('APPLE iPhone 12 Mini (Black, 64 GB)', 4.5390777454597915), ('Infinix Hot 10 Play (7° Purple, 64 GB)', 4.465649117338519)] \n",
      "\n",
      "Dinesh  Kumar ->  [('SAMSUNG Galaxy F12 (Celestial Black, 128 GB)', 4.968309579468324), ('SAMSUNG Galaxy F12 (Celestial Black, 128 GB)', 4.968309579468324), ('SAMSUNG Galaxy F12 (Sea Green, 128 GB)', 4.911221240808436), ('realme Narzo 50A (Oxygen Green, 64 GB)', 4.8617122211258), ('realme 9i (Prism Black, 128 GB)', 4.860640620988991)] \n",
      "\n",
      "Yogesh Sharma ->  [('APPLE iPhone 11 (White, 128 GB)', 4.25637361645708), ('APPLE iPhone 11 (Green, 128 GB)', 4.244496385254901), ('APPLE iPhone 11 (Purple, 128 GB)', 4.231403664692755), ('APPLE iPhone 11 (Black, 128 GB)', 4.209784714229038), ('APPLE iPhone 11 (Yellow, 128 GB)', 4.195800952322703)] \n",
      "\n",
      "Ajay Gupta ->  [('APPLE iPhone 12 (Black, 128 GB)', 5.146212179076459), ('APPLE iPhone 12 (Black, 64 GB)', 5.043869270081889), ('realme C21 (Cross Black, 32 GB)', 5.030417416814452), ('realme 8 (Cyber Black, 128 GB)', 4.989875223066811), ('POCO C3 (Arctic Blue, 32 GB)', 4.7818975048851105)] \n",
      "\n",
      "deepak kumar ->  [('realme 9i (Prism Black, 64 GB)', 4.833467694062199), ('Infinix Hot 11S (Silver Wave, 128 GB)', 4.682140700175705), ('APPLE iPhone SE (Black, 128 GB)', 4.577119211964643), ('REDMI 9 Power (Fiery Red, 64 GB)', 4.560936686558695), ('Infinix Hot 11S (Green Wave, 128 GB)', 4.53431240246001)] \n",
      "\n",
      "Sachin Singh ->  [('APPLE iPhone 12 (Green, 64 GB)', 5.229782342720767), ('Infinix Hot 10 Play (Obsidian Black, 64 GB)', 5.155269566791027), ('POCO M2 Pro (Out of the Blue, 64 GB)', 5.147565791947833), ('APPLE iPhone 12 (Black, 128 GB)', 5.14464024203078), ('APPLE iPhone 11 (Purple, 128 GB)', 5.120129845855686)] \n",
      "\n",
      "Pradeep Kumar ->  [('Nokia TA-1010/105', 4.725114612558161), ('APPLE iPhone 11 (Purple, 128 GB)', 4.675866613027193), ('APPLE iPhone 11 (Black, 64 GB)', 4.645085547037892), ('APPLE iPhone 11 (White, 128 GB)', 4.634779547039985), ('realme C11 2021 (Cool Grey, 32 GB)', 4.602332214557627)] \n",
      "\n",
      "ASHOK KUMAR ->  [('Xiaomi 11i 5G (Camo Green, 128 GB)', 4.941407537881907), ('REDMI Note 9 (Shadow Black, 64 GB)', 4.754775673000064), ('REDMI Note 9 (Shadow Black, 64 GB)', 4.754775673000064), ('realme 9 Pro 5G (Midnight Black, 128 GB)', 4.751430908746558), ('REDMI Note 9 (Aqua Green, 64 GB)', 4.740139581070606)] \n",
      "\n",
      "Arjun ->  [('MOTOROLA G60 (Soft Silver, 128 GB)', 4.444828385067668), ('REDMI 9 Power (Mighty Black, 64 GB)', 4.4008224068143695), ('APPLE iPhone SE (Black, 128 GB)', 4.252591464667211), ('APPLE iPhone SE (Black, 64 GB)', 4.248497402435007), ('APPLE iPhone SE (Black, 64 GB)', 4.248497402435007)] \n",
      "\n",
      "Sunil ->  [('realme GT Master Edition (Cosmos Black, 128 GB)', 4.525081767457793), ('OPPO F17 Pro (Magic Blue, 128 GB)', 4.461884178453934), ('REDMI 9 Power (Fiery Red, 64 GB)', 4.42803728068683), ('OPPO A12 (Blue, 32 GB)', 4.3056208048757485), ('Nokia TA-1304/105 SS', 3.9947155478957033)] \n",
      "\n",
      "Neeraj  Kumar ->  [('realme C25Y (Metal Grey, 128 GB)', 4.595531357108861), ('REDMI Note 9 (Shadow Black, 64 GB)', 4.523564984282738), ('realme Narzo 50A (Oxygen Green, 64 GB)', 4.304142259277678), ('POCO X3 (Shadow Gray, 64 GB)', 4.2856272020835275), ('OPPO F17 Pro (Matte Black, 128 GB)', 4.284661978677952)] \n",
      "\n",
      "Ramesh ->  [('APPLE iPhone SE (White, 128 GB)', 4.782174016398445), ('OPPO A12 (Deep Blue, 32 GB)', 4.6190302410298925), ('Infinix Hot 10 Play (Aegean Blue, 64 GB)', 4.45449712668417), ('realme 8i (Space Black, 64 GB)', 4.437577560120795), ('REDMI 9i (Midnight Black, 64 GB)', 4.38943768091421)] \n",
      "\n",
      "Suman Das ->  [('POCO M2 Pro (Green and Greener, 64 GB)', 4.345751175293905), ('vivo V21 5G (Neon Spark, 128 GB)', 4.341861289429683), ('REDMI 9 Power (Mighty Black, 64 GB)', 4.314649643937413), ('realme C25Y (Metal Grey, 64 GB)', 4.2351470983947905), ('Nokia 105 SS 2021', 4.171119818810689)] \n",
      "\n",
      "Sandeep Yadav ->  [('APPLE iPhone SE (Red, 64 GB)', 4.756868224236609), ('APPLE iPhone SE (Black, 64 GB)', 4.755781199425261), ('Infinix Smart 5A (Quetzal Cyan, 32 GB)', 4.7122326201244285), ('SAMSUNG Galaxy F12 (Sea Green, 128 GB)', 4.6882265978351745), ('Infinix Hot 10 Play (Aegean Blue, 64 GB)', 4.6703984806139545)] \n",
      "\n",
      "Dheeraj Kumar ->  [('realme Narzo 30 5G (Racing Silver, 128 GB)', 4.633665192636709), ('APPLE iPhone 11 (Yellow, 128 GB)', 4.511667523664915), ('APPLE iPhone 11 (Yellow, 64 GB)', 4.509939102801705), ('APPLE iPhone 11 (Purple, 64 GB)', 4.505712241384352), ('APPLE iPhone 11 (Purple, 128 GB)', 4.493443323627554)] \n",
      "\n",
      "Rahul Gupta ->  [('APPLE iPhone 12 (Black, 64 GB)', 4.831304680408145), ('APPLE iPhone 12 (Purple, 64 GB)', 4.779692027573215), ('Nokia TA-1010/105', 4.666083911060524), ('Infinix Note 11 (Celestial Snow, 64 GB)', 4.644038638798872), ('Infinix Smart 5A (Midnight Black, 32 GB)', 4.598146536554784)] \n",
      "\n",
      "Praveen  Kumar ->  [('APPLE iPhone 12 (Purple, 64 GB)', 4.935234081847177), ('APPLE iPhone 12 (White, 256 GB)', 4.8299337928423665), ('REDMI Note 9 (Aqua Green, 64 GB)', 4.735161365442265), ('realme Narzo 50A (Oxygen Blue, 128 GB)', 4.7321684376420965), ('APPLE iPhone SE (Black, 64 GB)', 4.686047150565783)] \n",
      "\n",
      "Niranjan Kumar ->  [('Micromax IN Note 1 (Green, 64 GB)', 4.863293622516912), ('POCO M2 Pro (Two Shades of Black, 64 GB)', 4.839641771272428), ('Micromax IN Note 1 (White, 64 GB)', 4.801439309891761), ('OPPO A12 (Flowing Silver, 64 GB)', 4.767780087222474), ('realme 8i (Space Purple, 64 GB)', 4.462486314331693)] \n",
      "\n",
      "Jeevan Kumar ->  [('realme C25Y (Metal Grey, 128 GB)', 4.743848340409365), ('realme Narzo 30 (Racing Silver, 128 GB)', 4.673023398283263), ('POCO M3 (Power Black, 64 GB)', 4.650920321454939), ('realme 8s 5G (Universe Purple, 128 GB)', 4.629943548930867), ('realme C25Y (Metal Grey, 64 GB)', 4.572895737627727)] \n",
      "\n",
      "Surya ->  [('APPLE iPhone 12 (Blue, 64 GB)', 5.152082512854969), ('APPLE iPhone 12 (Purple, 64 GB)', 5.128485354989692), ('Infinix Hot 11S (Silver Wave, 128 GB)', 5.036763612483872), ('Infinix Hot 11S (7° Purple, 128 GB)', 5.022541284071285), ('SAMSUNG Metro 313 Dual Sim', 4.991730308592645)] \n",
      "\n",
      "Atul Singh ->  [('APPLE iPhone 11 (Yellow, 128 GB)', 5.144091874108388), ('APPLE iPhone 11 (White, 64 GB)', 5.115707345167277), ('APPLE iPhone 11 (Black, 64 GB)', 5.044211081778539), ('SAMSUNG Guru Music 2', 4.798317941138734), ('Infinix Smart HD 2021 (Quartz Green, 32 GB)', 4.781711622168356)] \n",
      "\n",
      "Saurabh Mishra ->  [('APPLE iPhone 11 (Red, 64 GB)', 5.394368104657007), ('REDMI Note 10S (Shadow Black, 128 GB)', 5.35679365806558), ('APPLE iPhone 12 (White, 256 GB)', 5.302369220344905), ('APPLE iPhone 12 (White, 64 GB)', 5.27974911261706), ('APPLE iPhone 12 (Red, 128 GB)', 5.264129208412772)] \n",
      "\n",
      "Vijay kumar ->  [('LAVA A3', 4.346529275185731), ('realme 8 Pro (Infinite Black, 128 GB)', 4.213585477014148), ('realme 8i (Space Black, 64 GB)', 4.201261299345269), ('OPPO A12 (Black, 32 GB)', 3.9284959548272753), ('realme C25 (Watery Blue, 64 GB)', 3.8657930399471296)] \n",
      "\n",
      "Aftab Alam ->  [('OPPO A33 (Moonlight Black, 32 GB)', 4.883394203310041), ('realme C11 2021 (Cool Blue, 64 GB)', 4.847012961304231), ('realme Narzo 50A (Oxygen Green, 64 GB)', 4.821837192543959), ('realme Narzo 50A (Oxygen Green, 128 GB)', 4.751030290997848), ('realme Narzo 50A (Oxygen Green, 128 GB)', 4.751030290997848)] \n",
      "\n",
      "Shivam Singh ->  [('APPLE iPhone 12 (Red, 128 GB)', 4.720851581558622), ('APPLE iPhone 12 (Black, 64 GB)', 4.714819293396452), ('APPLE iPhone 12 (Purple, 64 GB)', 4.693747779094831), ('APPLE iPhone 12 (White, 256 GB)', 4.676204072550755), ('APPLE iPhone 12 (Green, 64 GB)', 4.657878499903259)] \n",
      "\n",
      "Asif Khan ->  [('SAMSUNG Galaxy F12 (Celestial Black, 64 GB)', 4.331310044401705), ('SAMSUNG Galaxy F12 (Sky Blue, 128 GB)', 4.3216178409915855), ('vivo V23 5G (Stardust Black, 128 GB)', 4.306805371362662), ('APPLE iPhone 12 Mini (Black, 64 GB)', 4.278013162786488), ('OPPO A33 (Moonlight Black, 32 GB)', 4.24961494146381)] \n",
      "\n",
      "Mahendra Kumar ->  [('vivo V21 5G (Sunset Dazzle, 128 GB)', 4.602482505568247), ('realme 8 5G (Supersonic Black, 64 GB)', 4.334464432881913), ('REDMI 9i (Midnight Black, 64 GB)', 4.323087762155679), ('POCO M2 Pro (Out of the Blue, 64 GB)', 4.130982835988083), ('POCO M2 Pro (Two Shades of Black, 64 GB)', 4.054565010600965)] \n",
      "\n",
      "Mukesh Kumar ->  [('realme 8 5G (Supersonic Blue, 128 GB)', 4.6208120369477115), ('APPLE iPhone 12 (Blue, 64 GB)', 4.559463100938014), ('APPLE iPhone SE (White, 64 GB)', 4.544986005972382), ('APPLE iPhone SE (Red, 128 GB)', 4.497968682651513), ('APPLE iPhone 12 (White, 256 GB)', 4.471998164902064)] \n",
      "\n",
      "Karan Kumar ->  [('realme C25s (Watery Grey, 128 GB)', 4.5842560107235375), ('OPPO A33 (Moonlight Black, 32 GB)', 4.577190122461818), ('SAMSUNG Guru Music 2', 4.47785649907198), ('Infinix Hot 10S (95° Black, 64 GB)', 4.455991291642043), ('POCO X3 (Shadow Gray, 64 GB)', 4.447491857133217)] \n",
      "\n",
      "Rahul kumar ->  [('SAMSUNG Galaxy F12 (Celestial Black, 128 GB)', 4.914850262820228), ('Micromax IN Note 1 (Green, 64 GB)', 4.740323376180505), ('vivo V23 5G (Sunshine Gold, 128 GB)', 4.606852532302587), ('POCO M3 Pro 5G (Power Black, 64 GB)', 4.60537057304393), ('realme Narzo 30 (Racing Silver, 64 GB)', 4.571159363226368)] \n",
      "\n",
      "Sourav Das ->  [('realme GT Master Edition (Voyager Grey, 256 GB)', 4.701462240687163), ('Micromax IN Note 1 (White, 64 GB)', 4.6425833786029695), ('Infinix Smart 5 (Morandi Green, 32 GB)', 4.52806951387459), ('realme Narzo 30 (Racing Blue, 64 GB)', 4.4270673817686665), ('APPLE iPhone 12 (White, 256 GB)', 4.384488031954248)] \n",
      "\n",
      "Rohit Gupta ->  [('Xiaomi 11i 5G (Pacific Pearl, 128 GB)', 4.874602367116295), ('SAMSUNG Galaxy F12 (Sky Blue, 128 GB)', 4.740662663346983), ('SAMSUNG Galaxy F12 (Celestial Black, 64 GB)', 4.700842376517852), ('realme Narzo 50A (Oxygen Green, 128 GB)', 4.673852790280555), ('realme C25s (Watery Blue, 128 GB)', 4.657696260976891)] \n",
      "\n",
      "Shivam Yadav ->  [('realme C21 (Cross Blue, 64 GB)', 4.106364905239564), ('realme 8i (Space Black, 64 GB)', 3.9311403597423706), ('realme Narzo 30 Pro 5G (Sword Black, 64 GB)', 3.9239988844446003), ('realme 8i (Space Black, 128 GB)', 3.913131325055627), ('realme 8i (Space Purple, 128 GB)', 3.8639786182973013)] \n",
      "\n",
      "Raj kumar ->  [('APPLE iPhone 11 (Green, 128 GB)', 4.971910052181534), ('APPLE iPhone 11 (White, 128 GB)', 4.920792602335713), ('Micromax IN Note 1 (White, 64 GB)', 4.785777455592845), ('Nokia TA-1010/105', 4.709357830049857), ('Infinix Smart 5 (Morandi Green, 32 GB)', 4.681538938153081)] \n",
      "\n",
      "Ramesh Kumar ->  [('realme 9 Pro 5G (Midnight Black, 128 GB)', 4.888484273966832), ('SAMSUNG Galaxy F12 (Celestial Black, 128 GB)', 4.756195543207359), ('SAMSUNG Galaxy F12 (Sea Green, 128 GB)', 4.7310575208731915), ('LAVA A1 Josh', 4.70667862112295), ('realme 9 Pro 5G (Sunrise Blue, 128 GB)', 4.643445455389579)] \n",
      "\n",
      "Manish Yadav ->  [('APPLE iPhone SE (White, 64 GB)', 5.224440158491777), ('APPLE iPhone SE (White, 128 GB)', 5.2055598281162965), ('APPLE iPhone SE (Black, 128 GB)', 5.1362018553642335), ('realme Narzo 30 (Racing Silver, 64 GB)', 5.132587839635803), ('realme C21 (Cross Black, 64 GB)', 5.129305190942126)] \n",
      "\n",
      "Abhishek Yadav ->  [('APPLE iPhone 11 (White, 128 GB)', 4.957638983601228), ('APPLE iPhone 12 (Blue, 64 GB)', 4.850136473442019), ('Nokia TA-1174 / TA-1299', 4.664915282656385), ('APPLE iPhone SE (Black, 64 GB)', 4.628882313789096), ('APPLE iPhone 12 Mini (Blue, 64 GB)', 4.627325677539169)] \n",
      "\n",
      "Pankaj Singh ->  [('APPLE iPhone 12 (Red, 128 GB)', 5.144955263653244), ('Infinix Hot 10 (Ocean Wave, 64 GB)', 5.130956516554109), ('Infinix Hot 11S (7° Purple, 128 GB)', 5.077326474697807), ('realme C25Y (Metal Grey, 128 GB)', 4.9359244898932895), ('OPPO A12 (Black, 32 GB)', 4.903683525183508)] \n",
      "\n",
      "RAJESH KUMAR ->  [('APPLE iPhone 11 (Yellow, 64 GB)', 4.881968981082545), ('POCO M3 (Cool Blue, 64 GB)', 4.679986399045783), ('realme Narzo 50A (Oxygen Blue, 64 GB)', 4.615413046034612), ('realme C21 (Cross Blue, 64 GB)', 4.565253539867657), ('realme C21Y (Cross Black, 32 GB)', 4.565092859020078)] \n",
      "\n",
      "Rajesh ->  [('APPLE iPhone 12 Mini (White, 64 GB)', 4.399016211044412), ('realme Narzo 30 (Racing Silver, 128 GB)', 4.243118235774675), ('APPLE iPhone 12 Mini (Blue, 64 GB)', 4.165782071654841), ('realme Narzo 50A (Oxygen Blue, 64 GB)', 4.0344643483426434), ('APPLE iPhone 12 (Green, 64 GB)', 4.0132272893835825)] \n",
      "\n",
      "Ravi  Kumar ->  [('APPLE iPhone 12 (Purple, 64 GB)', 4.8281406790253305), ('APPLE iPhone 12 (Blue, 64 GB)', 4.744033368232567), ('APPLE iPhone SE (Black, 64 GB)', 4.74008760893863), ('APPLE iPhone SE (Red, 64 GB)', 4.737261830803143), ('Infinix Hot 11S (7° Purple, 64 GB)', 4.5674737453444365)] \n",
      "\n",
      "Sameer Khan ->  [('OPPO F17 Pro (Magic Blue, 128 GB)', 4.374892959705728), ('realme Narzo 30 (Racing Blue, 64 GB)', 4.15355587190601), ('OPPO A53s 5G (Ink Black, 128 GB)', 4.1109915419487875), ('realme 8s 5G (Universe Purple, 128 GB)', 4.0215566325045105), ('Infinix Hot 10 Play (7° Purple, 64 GB)', 3.998750748135987)] \n",
      "\n",
      "Ravinder Kumar ->  [('realme 9 Pro 5G (Midnight Black, 128 GB)', 4.675967977461079), ('APPLE iPhone SE (White, 64 GB)', 4.584159569833798), ('realme C25Y (Glacier Blue, 64 GB)', 4.264251884626448), ('MOTOROLA E7 Power (Coral Red, 64 GB)', 4.21300066127984), ('realme C25Y (Glacier Blue, 128 GB)', 4.120566665857132)] \n",
      "\n",
      "Prince Sharma ->  [('APPLE iPhone 11 (Black, 64 GB)', 5.026953946664655), ('APPLE iPhone 11 (White, 128 GB)', 5.0073114022517915), ('APPLE iPhone 11 (Black, 128 GB)', 4.929408874630966), ('APPLE iPhone 11 (Green, 128 GB)', 4.891770537729591), ('Infinix Smart 5A (Midnight Black, 32 GB)', 4.887068990405159)] \n",
      "\n",
      "Neeraj Singh ->  [('APPLE iPhone 11 (Purple, 128 GB)', 4.8956010018919445), ('APPLE iPhone 12 (Green, 64 GB)', 4.8697530561025415), ('REDMI 9 Power (Fiery Red, 64 GB)', 4.46892365602027), ('SAMSUNG Guru Music 2', 4.340666655039971), ('Micromax IN Note 1 (White, 64 GB)', 4.272551685452443)] \n",
      "\n",
      "Sujit Kumar ->  [('APPLE iPhone SE (Black, 64 GB)', 4.812648513290215), ('APPLE iPhone SE (Red, 64 GB)', 4.789749954629803), ('APPLE iPhone SE (Red, 128 GB)', 4.726962988407127), ('SAMSUNG Galaxy F12 (Sky Blue, 128 GB)', 4.718278577025158), ('REDMI Note 10S (Deep Sea Blue, 128 GB)', 4.712202744101587)] \n",
      "\n",
      "Ashish Singh ->  [('Infinix Smart 5A (Midnight Black, 32 GB)', 4.725412274375974), ('Infinix Hot 10 Play (Obsidian Black, 64 GB)', 4.672409757784795), ('OPPO A12 (Black, 32 GB)', 4.632586737498284), ('MOTOROLA E7 Power (Tahiti Blue, 64 GB)', 4.611986293991364), ('realme 8i (Space Black, 128 GB)', 4.544873201437785)] \n",
      "\n",
      "PRAVEEN KUMAR ->  [('MOTOROLA G60 (Moonless, 128 GB)', 4.634668972808961), ('realme Narzo 50A (Oxygen Green, 64 GB)', 4.536436733647244), ('LAVA A1 Josh', 4.465317927077142), ('Xiaomi 11i 5G (Stealth Black, 128 GB)', 4.426870494432567), ('realme C25 (Watery Grey, 128 GB)', 4.3313962637682435)] \n",
      "\n",
      "Dharmendra Kumar ->  [('realme 8 (Cyber Black, 128 GB)', 4.486649465025377), ('realme 8 (Cyber Silver, 128 GB)', 4.480958519707548), ('Infinix Smart 5 (Morandi Green, 32 GB)', 4.480344605087148), ('Infinix Smart 5A (Quetzal Cyan, 32 GB)', 4.4534581827173), ('Infinix Hot 11S (Polar Black, 128 GB)', 4.444073062062863)] \n",
      "\n",
      "Bipin Kumar ->  [('OPPO A12 (Blue, 32 GB)', 4.41065034872487), ('REDMI Note 9 (Aqua Green, 64 GB)', 4.313931456057194), ('Infinix Hot 10 (Ocean Wave, 64 GB)', 4.250245074346257), ('realme Narzo 30 (Racing Blue, 64 GB)', 4.186090407827024), ('realme 8 (Cyber Black, 128 GB)', 4.163184590858109)] \n",
      "\n",
      "Shubham Kumar ->  [('APPLE iPhone 12 (Green, 64 GB)', 4.795520621619641), ('APPLE iPhone 12 (Blue, 64 GB)', 4.696133207205137), ('APPLE iPhone 12 (Red, 128 GB)', 4.684155100823434), ('APPLE iPhone 12 (White, 64 GB)', 4.6035959486566265), ('realme 8s 5G (Universe Blue, 128 GB)', 4.557690646431274)] \n",
      "\n",
      "Anand Raj ->  [('APPLE iPhone 11 (Red, 64 GB)', 5.020722183304288), ('APPLE iPhone 11 (White, 128 GB)', 4.986666593207391), ('realme 8 5G (Supersonic Black, 64 GB)', 4.685194858152481), ('realme 8 (Cyber Black, 128 GB)', 4.510936695686822), ('realme C11 2021 (Cool Blue, 32 GB)', 4.36403675096331)] \n",
      "\n",
      "Sumit Singh ->  [('APPLE iPhone 12 (Black, 64 GB)', 4.913100938598073), ('APPLE iPhone SE (White, 64 GB)', 4.867051382433967), ('REDMI Note 10S (Shadow Black, 64 GB)', 4.854210083953723), ('realme 8i (Space Black, 64 GB)', 4.76528660463242), ('Infinix Smart 5 (Morandi Green, 32 GB)', 4.754839183807202)] \n",
      "\n",
      "Mohit Sharma ->  [('APPLE iPhone 11 (Green, 128 GB)', 4.881681095829135), ('APPLE iPhone 11 (White, 128 GB)', 4.877370967800285), ('realme C21 (Cross Black, 64 GB)', 4.156245633406908), ('POCO C3 (Arctic Blue, 32 GB)', 4.095947889789531), ('REDMI 9i Sport (Metallic Blue, 64 GB)', 4.0553390376957115)] \n",
      "\n",
      "Sanjay Singh ->  [('Infinix Hot 11S (Polar Black, 64 GB)', 5.032123772107802), ('OPPO A31 (Mystery Black, 64 GB)', 5.027116101033797), ('APPLE iPhone 11 (Purple, 128 GB)', 5.0222309727868275), ('APPLE iPhone 11 (Green, 128 GB)', 5.002445174394929), ('APPLE iPhone 11 (Yellow, 64 GB)', 4.990142662267129)] \n",
      "\n",
      "Chandan  Kumar ->  [('REDMI Note 10S (Cosmic Purple, 64 GB)', 4.742993770507599), ('MOTOROLA G60 (Moonless, 128 GB)', 4.617324072914077), ('realme Narzo 20 (Victory Blue, 128 GB)', 4.57961847574391), ('Infinix Hot 10 Play (Obsidian Black, 64 GB)', 4.543297295201785), ('realme 8i (Space Purple, 64 GB)', 4.519655596780268)] \n",
      "\n",
      "Ajeet Singh ->  [('APPLE iPhone 12 (Black, 128 GB)', 4.866468748895343), ('APPLE iPhone 12 (Red, 128 GB)', 4.740080446214776), ('APPLE iPhone 12 (Purple, 64 GB)', 4.694195160647372), ('realme C21Y (Cross Black, 64 GB)', 4.578557155863951), ('realme C35 (Glowing Black, 64 GB)', 4.506045683976421)] \n",
      "\n",
      "Abhi Verma ->  [('REDMI Note 10S (Cosmic Purple, 64 GB)', 5.273352328461985), ('Infinix Hot 10 Play (Morandi Green, 64 GB)', 5.202568736337674), ('POCO M3 Pro 5G (Cool Blue, 64 GB)', 5.169180114303584), ('OPPO A12 (Flowing Silver, 64 GB)', 5.117518894476633), ('Infinix Hot 10 Play (Obsidian Black, 64 GB)', 5.100634177496923)] \n",
      "\n",
      "Pawan Singh ->  [('APPLE iPhone 11 (Black, 64 GB)', 4.059094918183912), ('realme C21 (Cross Black, 64 GB)', 4.039174012531141), ('APPLE iPhone 11 (White, 64 GB)', 4.028618458834202), ('APPLE iPhone SE (Black, 64 GB)', 3.9797305200324318), ('APPLE iPhone SE (White, 64 GB)', 3.9791199683794605)] \n",
      "\n",
      "Mukesh  Kumar ->  [('vivo V21 5G (Arctic White, 128 GB)', 4.858733869246923), ('APPLE iPhone 11 (Purple, 64 GB)', 4.850845138069345), ('APPLE iPhone 11 (Yellow, 64 GB)', 4.82791203104151), ('APPLE iPhone 12 Mini (Black, 64 GB)', 4.7720056079806685), ('APPLE iPhone 12 Mini (White, 64 GB)', 4.7281835864882975)] \n",
      "\n",
      "Rohit Sharma ->  [('APPLE iPhone 12 (Red, 128 GB)', 4.7763631346263935), ('REDMI Note 9 (Aqua Green, 64 GB)', 4.646101922049162), ('realme Narzo 50A (Oxygen Green, 64 GB)', 4.615728478997086), ('realme 9 Pro 5G (Aurora Green, 128 GB)', 4.606199545391709), ('Infinix Hot 10 Play (Morandi Green, 64 GB)', 4.498503942119489)] \n",
      "\n",
      "Sujeet Kumar ->  [('APPLE iPhone 12 (Black, 64 GB)', 4.797106312982518), ('APPLE iPhone 11 (Yellow, 128 GB)', 4.667317524134885), ('APPLE iPhone 11 (Black, 64 GB)', 4.662942178398781), ('APPLE iPhone 11 (Red, 64 GB)', 4.654650459316326), ('APPLE iPhone 11 (Yellow, 64 GB)', 4.602859647951479)] \n",
      "\n",
      "RAJ KUMAR ->  [('APPLE iPhone SE (Black, 128 GB)', 4.600186680644029), ('APPLE iPhone SE (Black, 64 GB)', 4.587878544452835), ('SAMSUNG Galaxy F12 (Celestial Black, 64 GB)', 4.579946732172953), ('APPLE iPhone SE (Red, 64 GB)', 4.552267417458587), ('Infinix Hot 10 Play (7° Purple, 64 GB)', 4.463327831960429)] \n",
      "\n",
      "Amit Gupta ->  [('APPLE iPhone 12 (Blue, 64 GB)', 4.989104984586123), ('APPLE iPhone 11 (Yellow, 64 GB)', 4.850425321547817), ('OPPO A12 (Flowing Silver, 64 GB)', 4.850358733573134), ('APPLE iPhone 11 (Purple, 128 GB)', 4.835937175242916), ('APPLE iPhone 11 (Black, 64 GB)', 4.79530376799508)] \n",
      "\n",
      "Manish kumar ->  [('REDMI 9 Power (Blazing Blue, 64 GB)', 4.537019825353092), ('realme Narzo 50A (Oxygen Green, 128 GB)', 4.4835881636282995), ('realme Narzo 50A (Oxygen Green, 64 GB)', 4.445859625613078), ('Infinix Smart 5 (7 Purple, 32 GB)', 4.407784816425969), ('realme GT Master Edition (Daybreak Blue, 128 GB)', 4.2904378402257946)] \n",
      "\n",
      "Gaurav Yadav ->  [('OPPO A31 (Mystery Black, 64 GB)', 5.172593021895517), ('APPLE iPhone 12 (Black, 64 GB)', 5.1293789881788525), ('APPLE iPhone 12 (Purple, 64 GB)', 5.122696758870998), ('REDMI Note 9 (Aqua Green, 64 GB)', 5.004296685374858), ('Infinix Hot 10 (Amber Red, 64 GB)', 5.002231838265431)] \n",
      "\n",
      "Shiva Kumar ->  [('Nokia 105 DS 2020', 4.653799699613011), ('MOTOROLA G40 Fusion (Frosted Champagne, 128 GB)', 4.634925891763199), ('APPLE iPhone SE (Red, 64 GB)', 4.586256180711715), ('APPLE iPhone SE (Red, 128 GB)', 4.562322774023543), ('MOTOROLA G40 Fusion (Dynamic Gray, 128 GB)', 4.541977068312623)] \n",
      "\n",
      "Sunny Singh ->  [('Infinix Hot 10 (Ocean Wave, 64 GB)', 4.442272066799931), ('realme GT Master Edition (Luna White, 128 GB)', 4.3496927791690645), ('realme C21 (Cross Blue, 64 GB)', 4.344346471905262), ('realme C11 2021 (Cool Grey, 32 GB)', 4.236629438769889), ('POCO M3 Pro 5G (Power Black, 128 GB)', 4.019812064982612)] \n",
      "\n",
      "Abhi Kumar ->  [('APPLE iPhone SE (Red, 128 GB)', 4.702931563947536), ('APPLE iPhone SE (Red, 64 GB)', 4.701355650375778), ('APPLE iPhone 11 (Yellow, 128 GB)', 4.276806591479794), ('APPLE iPhone 11 (Green, 128 GB)', 4.234187547356012), ('realme C21Y (Cross Blue, 32 GB)', 4.229741830777692)] \n",
      "\n",
      "Sagar Sharma ->  [('APPLE iPhone 12 (Green, 64 GB)', 5.033655677324234), ('SAMSUNG Galaxy F12 (Sky Blue, 128 GB)', 4.973956115141613), ('SAMSUNG Galaxy F12 (Sky Blue, 64 GB)', 4.9609801142148475), ('APPLE iPhone SE (Red, 64 GB)', 4.810610654364856), ('realme 8i (Space Purple, 128 GB)', 4.690551304908298)] \n",
      "\n",
      "Jay Patel ->  [('APPLE iPhone 11 (Purple, 128 GB)', 5.4984352721835315), ('APPLE iPhone 11 (Black, 128 GB)', 5.405403167835446), ('APPLE iPhone 11 (Red, 64 GB)', 5.404034787373728), ('APPLE iPhone 11 (Green, 128 GB)', 5.331457340004525), ('APPLE iPhone 12 (Black, 64 GB)', 5.301753024270868)] \n",
      "\n",
      "Praveen ->  [('realme 8 (Cyber Black, 128 GB)', 3.7940066239909647), ('Infinix Hot 10 Play (Aegean Blue, 64 GB)', 3.6622988477442893), ('Nokia 105 SS 2021', 3.5404234493015068), ('SAMSUNG Metro 313 Dual Sim', 3.422379720656244), ('realme 8s 5G (Universe Blue, 128 GB)', 3.2800149229646807)] \n",
      "\n",
      "pankaj kumar ->  [('APPLE iPhone 11 (White, 128 GB)', 4.802760782533117), ('APPLE iPhone 11 (Black, 64 GB)', 4.780144423982108), ('APPLE iPhone 11 (Red, 64 GB)', 4.779410175313004), ('APPLE iPhone 11 (Purple, 128 GB)', 4.754986783636503), ('APPLE iPhone 11 (Purple, 64 GB)', 4.743914538885678)] \n",
      "\n",
      "MANISH KUMAR ->  [('realme Narzo 30 (Racing Blue, 128 GB)', 5.116866927218633), ('APPLE iPhone 11 (Red, 64 GB)', 5.102163179423063), ('APPLE iPhone 12 Mini (White, 64 GB)', 5.0549609859633), ('realme C25s (Watery Grey, 128 GB)', 5.010310197213853), ('APPLE iPhone 11 (Purple, 128 GB)', 4.99696865189032)] \n",
      "\n",
      "Manoj  Kumar ->  [('Infinix Hot 11S (Green Wave, 128 GB)', 4.705041949983529), ('Infinix Hot 11S (Polar Black, 128 GB)', 4.635112141587124), ('realme Narzo 50A (Oxygen Blue, 64 GB)', 4.608708470348278), ('POCO M3 Pro 5G (Yellow, 64 GB)', 4.471238224908304), ('vivo T1 5G (Starlight Black, 128 GB)', 4.449271672488541)] \n",
      "\n",
      "Anil Yadav ->  [('POCO C31 (Royal Blue, 32 GB)', 4.9067972273490685), ('APPLE iPhone SE (Black, 64 GB)', 4.862755787335), ('Infinix Hot 10 Play (Morandi Green, 64 GB)', 4.805653204397011), ('Infinix Hot 10 Play (7° Purple, 64 GB)', 4.784630504806811), ('Infinix Hot 10 Play (Aegean Blue, 64 GB)', 4.709122456987381)] \n",
      "\n",
      "Pankaj Sharma ->  [('APPLE iPhone SE (Red, 128 GB)', 4.8238801182437046), ('APPLE iPhone SE (Red, 64 GB)', 4.772767091252752), ('APPLE iPhone SE (Black, 128 GB)', 4.76681277092894), ('APPLE iPhone 12 (Purple, 64 GB)', 4.749577561872641), ('vivo T1 5G (Starlight Black, 128 GB)', 4.6487097563419)] \n",
      "\n",
      "pawan kumar ->  [('APPLE iPhone 12 (Black, 64 GB)', 5.0054842371899815), ('APPLE iPhone 12 (Purple, 64 GB)', 4.9697753067536405), ('POCO M3 Pro 5G (Power Black, 128 GB)', 4.923435585364612), ('POCO M2 Pro (Two Shades of Black, 64 GB)', 4.798283406324597), ('SAMSUNG Metro 313 Dual Sim', 4.7152883995328985)] \n",
      "\n",
      "vinod kumar ->  [('SAMSUNG Galaxy F12 (Celestial Black, 64 GB)', 4.699112726526567), ('realme Narzo 50A (Oxygen Blue, 64 GB)', 4.659295400343764), ('OPPO F17 Pro (Metallic White, 128 GB)', 4.640954699778416), ('OPPO A53s 5G (Ink Black, 128 GB)', 4.523612206017454), ('SAMSUNG Guru Music 2', 4.491373007884146)] \n",
      "\n",
      "Ravi ->  [('OPPO F17 Pro (Matte Black, 128 GB)', 4.039009487482104), ('OPPO F17 Pro (Magic Blue, 128 GB)', 4.023970823607068), ('POCO F3 GT (Gunmetal Silver, 128 GB)', 3.860337509025218), ('OPPO A31 (Lake Green, 64 GB)', 3.826205714704373), ('realme Narzo 30 (Racing Blue, 64 GB)', 3.7100043574332244)] \n",
      "\n",
      "Ajay Verma ->  [('realme 8 5G (Supersonic Blue, 128 GB)', 3.802465565141047), ('realme 8 5G (Supersonic Blue, 64 GB)', 3.774540675661975), ('SAMSUNG Galaxy F12 (Sky Blue, 64 GB)', 3.7079658056596774), ('realme 9 Pro+ 5G (Aurora Green, 128 GB)', 3.668242673051429), ('REDMI 9 Power (Blazing Blue, 64 GB)', 3.6611555486622964)] \n",
      "\n",
      "Rahul ->  [('realme GT Master Edition (Voyager Grey, 256 GB)', 4.691387648125718), ('realme GT Master Edition (Cosmos Black, 128 GB)', 4.659401679494174), ('Infinix Note 11 (Glacier Green, 64 GB)', 4.59423148423569), ('Infinix Note 11 (Glacier Green, 64 GB)', 4.59423148423569), ('APPLE iPhone 12 (White, 256 GB)', 4.569210568381368)] \n",
      "\n",
      "Vikas Gupta ->  [('APPLE iPhone 12 (White, 256 GB)', 4.776940240528309), ('APPLE iPhone 12 (Red, 128 GB)', 4.728577734197227), ('POCO X3 (Cobalt Blue, 64 GB)', 4.659451336649873), ('OPPO A12 (Black, 32 GB)', 4.604635824819086), ('OPPO A12 (Deep Blue, 32 GB)', 4.602859558923025)] \n",
      "\n",
      "Karan Singh ->  [('APPLE iPhone 11 (Black, 128 GB)', 4.992812306684472), ('APPLE iPhone 12 Mini (Blue, 64 GB)', 4.928895329741641), ('Xiaomi 11i 5G (Stealth Black, 128 GB)', 4.925648325047213), ('realme 8 5G (Supersonic Black, 64 GB)', 4.869006433177686), ('realme Narzo 30 5G (Racing Blue, 128 GB)', 4.744721926069371)] \n",
      "\n",
      "Ajay Yadav ->  [('Infinix Note 10 (7° Purple, 128 GB)', 4.290284957155106), ('Infinix Hot 10 (Amber Red, 64 GB)', 4.258642133544966), ('realme Narzo 30 (Racing Blue, 64 GB)', 4.23829985378816), ('POCO M2 Pro (Two Shades of Black, 64 GB)', 4.229476492853033), ('SAMSUNG Guru Music 2', 4.208885242705046)] \n",
      "\n",
      "Rehan Khan ->  [('SAMSUNG Galaxy F12 (Sea Green, 128 GB)', 4.483890443968113), ('REDMI 9 Power (Fiery Red, 64 GB)', 4.4473256958715925), ('SAMSUNG Galaxy F12 (Celestial Black, 64 GB)', 4.420525066428234), ('realme Narzo 30 (Racing Blue, 128 GB)', 4.420026049166849), ('Xiaomi 11i 5G (Purple Mist, 128 GB)', 4.3778379804478975)] \n",
      "\n",
      "Manoj Gupta ->  [('REDMI 9i (Midnight Black, 64 GB)', 4.5528054411807455), ('realme Narzo 50i (Carbon Black, 32 GB)', 4.3211178840768545), ('realme Narzo 50i (Carbon Black, 32 GB)', 4.3211178840768545), ('realme C11 2021 (Cool Grey, 64 GB)', 4.2665985131351505), ('realme 8 5G (Supersonic Black, 128 GB)', 4.119609556728484)] \n",
      "\n",
      "Nitesh Kumar ->  [('realme 9 Pro 5G (Aurora Green, 128 GB)', 4.891532046614791), ('realme Narzo 30 5G (Racing Blue, 128 GB)', 4.75231008712634), ('SAMSUNG Galaxy F12 (Sky Blue, 128 GB)', 4.698864761970091), ('realme C21 (Cross Blue, 32 GB)', 4.6966189366518725), ('Nokia TA-1304/105 SS', 4.60639203102794)] \n",
      "\n",
      "Amit  Sharma ->  [('realme Narzo 50A (Oxygen Green, 128 GB)', 4.802813899368899), ('REDMI Note 9 (Aqua Green, 64 GB)', 4.787360071993654), ('APPLE iPhone 12 (Green, 64 GB)', 4.634572963838656), ('APPLE iPhone 12 (Green, 64 GB)', 4.634572963838656), ('APPLE iPhone 12 (Blue, 64 GB)', 4.545696429637895)] \n",
      "\n",
      "Shailendra Kumar ->  [('Infinix Hot 11S (Green Wave, 64 GB)', 4.97648016572329), ('Infinix Hot 11S (7° Purple, 128 GB)', 4.913860798865857), ('APPLE iPhone 12 (Black, 64 GB)', 4.881738198596827), ('Infinix Hot 11S (Silver Wave, 64 GB)', 4.835602736261109), ('APPLE iPhone 12 (Red, 128 GB)', 4.786841122792227)] \n",
      "\n",
      "Sanjay Yadav ->  [('Infinix Hot 11S (Silver Wave, 128 GB)', 4.718955697901802), ('Infinix Hot 10 Play (Aegean Blue, 64 GB)', 4.629577780804225), ('LAVA A3', 4.53678688197111), ('OPPO A12 (Deep Blue, 32 GB)', 4.498377881441428), ('OPPO Reno6 5G (Aurora, 128 GB)', 4.475738217496181)] \n",
      "\n",
      "Abhishek  Singh ->  [('realme 9 Pro 5G (Midnight Black, 128 GB)', 4.9150012119983835), ('SAMSUNG Galaxy F12 (Sea Green, 128 GB)', 4.7368607790608594), ('SAMSUNG Galaxy F12 (Celestial Black, 64 GB)', 4.733009713976248), ('realme Narzo 30 (Racing Silver, 128 GB)', 4.724781753822152), ('realme C11 2021 (Cool Grey, 32 GB)', 4.682366530651086)] \n",
      "\n",
      "Manoj kumar ->  [('APPLE iPhone 12 (Red, 128 GB)', 4.68757406045871), ('REDMI 9 Power (Fiery Red, 128 GB)', 4.627102734365496), ('realme 8 (Cyber Silver, 128 GB)', 4.615827894831198), ('APPLE iPhone 12 (Black, 64 GB)', 4.614639389984585), ('APPLE iPhone 12 Mini (Black, 64 GB)', 4.480251769963513)] \n",
      "\n",
      "Biswajit Mandal ->  [('SAMSUNG Galaxy F12 (Sky Blue, 128 GB)', 5.0611519669944345), ('SAMSUNG Galaxy F12 (Sea Green, 64 GB)', 5.029930892262877), ('OPPO A53s 5G (Crystal Blue, 128 GB)', 4.852219691488893), ('OPPO A53s 5G (Ink Black, 128 GB)', 4.833772339766621), ('POCO X3 (Cobalt Blue, 64 GB)', 4.769092979028384)] \n",
      "\n",
      "Venkatesh ->  [('REDMI Note 10S (Frost White, 64 GB)', 4.238951061324932), ('REDMI 9 Power (Blazing Blue, 64 GB)', 4.041239901230978), ('realme GT Master Edition (Voyager Grey, 256 GB)', 3.977561019888538), ('realme 8 Pro (Infinite Black, 128 GB)', 3.8852209604143813), ('SAMSUNG Galaxy F12 (Celestial Black, 64 GB)', 3.849239124574778)] \n",
      "\n",
      "Vijay Singh ->  [('SAMSUNG Galaxy F12 (Sky Blue, 64 GB)', 4.69462521235626), ('Infinix Hot 10 Play (Obsidian Black, 64 GB)', 4.374789418835546), ('OPPO Reno6 5G (Stellar Black, 128 GB)', 4.247851805578903), ('I Kall K29', 4.227112761454657), ('REDMI 9 Power (Blazing Blue, 64 GB)', 4.214577684628114)] \n",
      "\n",
      "Ayush Kumar ->  [('POCO M2 Pro (Green and Greener, 64 GB)', 4.569611934659925), ('APPLE iPhone SE (Red, 64 GB)', 4.52469117898456), ('realme Narzo 50A (Oxygen Green, 128 GB)', 4.505414473617986), ('APPLE iPhone SE (Red, 128 GB)', 4.503610924710772), ('realme 8 (Cyber Black, 128 GB)', 4.486301627494699)] \n",
      "\n",
      "Mohit Saini ->  [('APPLE iPhone 12 (Green, 64 GB)', 5.201141379419636), ('APPLE iPhone 12 (White, 256 GB)', 5.118660846997317), ('APPLE iPhone 12 (Blue, 64 GB)', 5.116435469250151), ('APPLE iPhone 12 Mini (Black, 64 GB)', 5.112952394010616), ('APPLE iPhone 11 (Red, 64 GB)', 5.0603466608096)] \n",
      "\n",
      "Amarjeet Kumar ->  [('APPLE iPhone 11 (Green, 128 GB)', 4.968506230225561), ('APPLE iPhone 11 (Yellow, 64 GB)', 4.96354718090203), ('APPLE iPhone 12 (Green, 64 GB)', 4.899718241572356), ('APPLE iPhone 12 (Red, 128 GB)', 4.888143777790994), ('Micromax IN Note 1 (White, 64 GB)', 4.596193233317298)] \n",
      "\n",
      "Ranjith Kumar ->  [('APPLE iPhone 12 (Blue, 64 GB)', 4.882149723984188), ('APPLE iPhone SE (White, 64 GB)', 4.859673039554009), ('SAMSUNG Galaxy F12 (Sky Blue, 64 GB)', 4.8323998190272714), ('APPLE iPhone 12 (Black, 64 GB)', 4.824589157308093), ('APPLE iPhone 12 (White, 256 GB)', 4.814056684418423)] \n",
      "\n",
      "Anil  Kumar ->  [('APPLE iPhone SE (Red, 128 GB)', 4.765449174777804), ('APPLE iPhone SE (White, 128 GB)', 4.7338579487477705), ('APPLE iPhone SE (Black, 128 GB)', 4.708467081267415), ('APPLE iPhone 12 (Black, 64 GB)', 4.690423841107053), ('Infinix Hot 10 (Amber Red, 64 GB)', 4.650325260347259)] \n",
      "\n",
      "Sumit Gupta ->  [('REDMI 9i Sport (Carbon Black, 64 GB)', 5.1241501738756146), ('realme Narzo 30 5G (Racing Blue, 128 GB)', 5.11942886888004), ('vivo V23 5G (Sunshine Gold, 128 GB)', 5.091602419868302), ('realme 8i (Space Black, 128 GB)', 5.036410624354008), ('realme C25Y (Glacier Blue, 64 GB)', 5.0330552919931755)] \n",
      "\n",
      "Sahil Singh ->  [('APPLE iPhone 11 (Purple, 128 GB)', 4.878997496484696), ('APPLE iPhone 11 (Black, 64 GB)', 4.844346784423005), ('realme 9i (Prism Blue, 64 GB)', 4.829904228777326), ('APPLE iPhone 12 (Blue, 64 GB)', 4.792523873729332), ('APPLE iPhone 12 (Red, 128 GB)', 4.748583433276132)] \n",
      "\n",
      "Abhinav Kumar ->  [('Infinix Hot 11S (Silver Wave, 128 GB)', 4.8587063658397645), ('Infinix Hot 10 (Amber Red, 64 GB)', 4.697762682438757), ('realme Narzo 30 5G (Racing Blue, 128 GB)', 4.442505276683778), ('realme Narzo 30 (Racing Blue, 64 GB)', 4.348011757216917), ('Nokia 105 SS 2021', 4.347740122457937)] \n",
      "\n",
      "Chandan Singh ->  [('APPLE iPhone SE (White, 64 GB)', 5.037381780429712), ('Infinix Hot 10 Play (Obsidian Black, 64 GB)', 4.976105778324441), ('realme GT Master Edition (Luna White, 256 GB)', 4.894472979861444), ('Infinix Hot 10 (Amber Red, 64 GB)', 4.857751500547078), ('realme GT Master Edition (Cosmos Black, 128 GB)', 4.856899578748625)] \n",
      "\n",
      "Biswajit Ghosh ->  [('OPPO F17 Pro (Matte Black, 128 GB)', 4.359866369570147), ('SAMSUNG Galaxy F12 (Sea Green, 128 GB)', 4.22533891023152), ('LAVA A1', 4.13550659258035), ('POCO X3 (Cobalt Blue, 64 GB)', 4.0454873473924575), ('realme 8i (Space Black, 64 GB)', 4.00563111561903)] \n",
      "\n",
      "Satyam Kumar ->  [('realme C21 (Cross Blue, 32 GB)', 4.70200783857862), ('realme 8i (Space Black, 64 GB)', 4.603367413902762), ('realme C21 (Cross Blue, 64 GB)', 4.570136618067357), ('Nokia 105 SS 2021', 4.5111336471628345), ('OPPO Reno6 5G (Aurora, 128 GB)', 4.462991988578348)] \n",
      "\n",
      "Shiv Kumar ->  [('vivo V21 5G (Sunset Dazzle, 256 GB)', 5.131872956127372), ('Infinix Hot 11S (7° Purple, 64 GB)', 4.919447026752779), ('APPLE iPhone 12 (Blue, 64 GB)', 4.896144567210615), ('APPLE iPhone 12 (White, 64 GB)', 4.870261968830926), ('Redmi 9 (Sky Blue, 128 GB)', 4.861890711171379)] \n",
      "\n",
      "Manoj ->  [('APPLE iPhone 12 (Blue, 64 GB)', 4.473841884428544), ('APPLE iPhone 12 (Red, 128 GB)', 4.393549073158675), ('REDMI 9i (Midnight Black, 64 GB)', 4.335165248681713), ('realme Narzo 30 5G (Racing Blue, 128 GB)', 4.213685077194418), ('realme 9i (Prism Black, 64 GB)', 4.1973467031975815)] \n",
      "\n",
      "Danish Khan ->  [('APPLE iPhone 11 (Green, 128 GB)', 4.935608302688872), ('APPLE iPhone 12 (Blue, 64 GB)', 4.889024118822346), ('Infinix Hot 10 Play (Obsidian Black, 64 GB)', 4.801035427786517), ('realme 8 (Cyber Black, 128 GB)', 4.560155936912419), ('Infinix Hot 10 Play (Aegean Blue, 64 GB)', 4.557575497718043)] \n",
      "\n",
      "Vivek Yadav ->  [('APPLE iPhone SE (White, 128 GB)', 4.707986684115485), ('realme 9i (Prism Blue, 64 GB)', 4.434119347534599), ('REDMI 9 Power (Mighty Black, 64 GB)', 4.361823994407202), ('realme 9i (Prism Black, 128 GB)', 4.351018007469869), ('Infinix Note 10 (7° Purple, 128 GB)', 4.096977462351902)] \n",
      "\n",
      "Rupesh Kumar ->  [('APPLE iPhone 11 (Black, 128 GB)', 4.896646713035032), ('APPLE iPhone 11 (Purple, 128 GB)', 4.893046069814526), ('APPLE iPhone 11 (Yellow, 64 GB)', 4.886779521223403), ('APPLE iPhone 11 (Red, 64 GB)', 4.886192078839483), ('APPLE iPhone 11 (White, 128 GB)', 4.88483076798774)] \n",
      "\n",
      "Ajay  Kumar ->  [('realme Narzo 30 (Racing Blue, 64 GB)', 4.46092204468448), ('realme Narzo 30 5G (Racing Silver, 128 GB)', 4.455643133524986), ('REDMI Note 10S (Cosmic Purple, 64 GB)', 4.451516760653821), ('REDMI 9 Prime (Matte Black, 64 GB)', 4.448417668172554), ('realme C11 2021 (Cool Blue, 32 GB)', 4.423804325068665)] \n",
      "\n",
      "Rahul  Kumar  ->  [('Infinix Hot 11S (Polar Black, 64 GB)', 4.594232304947836), ('Infinix Hot 11S (7° Purple, 64 GB)', 4.534935868869839), ('OPPO A31 (Fantasy White, 128 GB)', 4.523925043845213), ('Infinix Smart 5 (Aegean Blue, 32 GB)', 4.443434609640038), ('Infinix Smart 5 (7 Purple, 32 GB)', 4.4166075457440215)] \n",
      "\n",
      "Himanshu Kumar ->  [('APPLE iPhone 12 (Blue, 64 GB)', 4.845467173643385), ('Infinix Hot 11S (Polar Black, 128 GB)', 4.7105096381296185), ('Infinix Hot 11S (7° Purple, 128 GB)', 4.652995618066757), ('Infinix Smart 5A (Quetzal Cyan, 32 GB)', 4.5201641498161695), ('Infinix Smart 5A (Midnight Black, 32 GB)', 4.502457279247593)] \n",
      "\n",
      "Aman Verma ->  [('APPLE iPhone SE (Black, 64 GB)', 4.766036673035256), ('APPLE iPhone 12 Mini (Blue, 64 GB)', 4.724085936336294), ('APPLE iPhone 12 (Black, 64 GB)', 4.700038051820597), ('APPLE iPhone 12 (Purple, 64 GB)', 4.699461354031422), ('APPLE iPhone SE (White, 64 GB)', 4.530816834430888)] \n",
      "\n",
      "Sunil Sharma ->  [('realme C25Y (Metal Grey, 128 GB)', 4.933327670211306), ('realme C25Y (Glacier Blue, 128 GB)', 4.924116784942607), ('realme C21 (Cross Blue, 64 GB)', 4.8030262288823815), ('realme 8i (Space Purple, 64 GB)', 4.746534761669174), ('realme GT Master Edition (Voyager Grey, 256 GB)', 4.625451439067985)] \n",
      "\n",
      "Ashish ->  [('Infinix Hot 10 Play (Aegean Blue, 64 GB)', 4.542238781096841), ('LAVA A1', 4.428815832896952), ('realme Narzo 30 (Racing Blue, 64 GB)', 4.3419241234244135), ('POCO X3 (Cobalt Blue, 64 GB)', 4.217643746629688), ('realme Narzo 50A (Oxygen Green, 128 GB)', 4.093646835708054)] \n",
      "\n",
      "Manoj Kumar ->  [('Kechaoda K66 Plus', 4.6699386410984145), ('POCO F3 GT (Predator Black, 128 GB)', 4.567762971935361), ('Infinix Smart 5A (Midnight Black, 32 GB)', 4.526344352559596), ('APPLE iPhone 11 (Green, 128 GB)', 4.499653746809838), ('vivo V21 5G (Arctic White, 128 GB)', 4.48506543030595)] \n",
      "\n",
      "Ravi Singh ->  [('APPLE iPhone 11 (Red, 64 GB)', 4.462355795952373), ('APPLE iPhone 11 (Black, 128 GB)', 4.43839892535494), ('APPLE iPhone 11 (Purple, 128 GB)', 4.392691577494723), ('APPLE iPhone 11 (Yellow, 64 GB)', 4.390166507399633), ('APPLE iPhone 11 (Yellow, 128 GB)', 4.374227776805671)] \n",
      "\n",
      "Vikash Sharma ->  [('APPLE iPhone 11 (Purple, 64 GB)', 5.06446668646439), ('APPLE iPhone 11 (Green, 128 GB)', 5.002779950461654), ('Xiaomi 11i 5G (Purple Mist, 128 GB)', 4.866310692376503), ('Infinix Smart 5A (Quetzal Cyan, 32 GB)', 4.760814387008763), ('realme C21Y (Cross Blue, 64 GB)', 4.758109076269857)] \n",
      "\n",
      "Ravi Gupta ->  [('APPLE iPhone 12 Mini (Blue, 64 GB)', 4.163897819824745), ('SAMSUNG Galaxy F12 (Sea Green, 64 GB)', 4.03895820219256), ('SAMSUNG Galaxy F12 (Sea Green, 128 GB)', 4.02977646658915), ('REDMI Note 9 (Shadow Black, 64 GB)', 3.934143603819124), ('realme Narzo 50A (Oxygen Blue, 64 GB)', 3.9191822067783644)] \n",
      "\n",
      "Gaurav Sharma ->  [('APPLE iPhone 12 Mini (Blue, 64 GB)', 4.808730468733761), ('APPLE iPhone SE (Black, 64 GB)', 4.7780649407321025), ('Infinix Hot 10 Play (Aegean Blue, 64 GB)', 4.745981181162892), ('APPLE iPhone SE (White, 128 GB)', 4.697880856529394), ('realme C21 (Cross Blue, 64 GB)', 4.5698697298728685)] \n",
      "\n",
      "Sanjay  Kumar ->  [('APPLE iPhone 12 Mini (Blue, 64 GB)', 5.09676712174988), ('APPLE iPhone SE (Red, 128 GB)', 5.095900452754197), ('realme Narzo 30 5G (Racing Blue, 128 GB)', 5.066841653844036), ('LAVA A1 Josh', 5.060677559240399), ('APPLE iPhone 12 (White, 256 GB)', 5.057905229689995)] \n",
      "\n",
      "MANOJ KUMAR ->  [('APPLE iPhone SE (White, 64 GB)', 4.9161406215962575), ('Infinix Hot 10 Play (Aegean Blue, 64 GB)', 4.884292200404746), ('POCO C3 (Matte Black, 32 GB)', 4.792517453582377), ('OPPO Reno6 5G (Stellar Black, 128 GB)', 4.774935554217175), ('realme Narzo 50A (Oxygen Green, 64 GB)', 4.7678598735972555)] \n",
      "\n",
      "Hemant Kumar ->  [('POCO M2 Pro (Out of the Blue, 64 GB)', 4.562606150994861), ('Infinix Hot 10 (Amber Red, 64 GB)', 4.5048023241952135), ('realme GT Master Edition (Luna White, 256 GB)', 4.434621494358718), ('APPLE iPhone 12 Mini (Black, 64 GB)', 4.417226934704731), ('realme C20 (Cool Grey, 32 GB)', 4.3868914877808765)] \n",
      "\n",
      "Prince Kumar ->  [('APPLE iPhone 12 (Black, 128 GB)', 4.883351641097489), ('realme C25Y (Glacier Blue, 64 GB)', 4.850926059615242), ('APPLE iPhone 12 (Red, 128 GB)', 4.78142791356868), ('APPLE iPhone SE (White, 64 GB)', 4.707513453865006), ('Infinix Hot 11S (7° Purple, 64 GB)', 4.670531387150467)] \n",
      "\n",
      "suresh kumar ->  [('APPLE iPhone SE (White, 128 GB)', 4.818250143588972), ('APPLE iPhone 12 Mini (Blue, 64 GB)', 4.713679792984856), ('realme 8s 5G (Universe Purple, 128 GB)', 4.704141445515066), ('SAMSUNG Galaxy F12 (Celestial Black, 128 GB)', 4.6777842713792275), ('APPLE iPhone 12 Mini (Black, 64 GB)', 4.6598510969376745)] \n",
      "\n",
      "Rakesh Singh ->  [('SAMSUNG Guru Music 2', 4.278317917838974), ('APPLE iPhone SE (Black, 64 GB)', 3.970454040672476), ('vivo T1 5G (Rainbow Fantasy, 128 GB)', 3.931367882534025), ('APPLE iPhone 12 Mini (Blue, 64 GB)', 3.8900290034686558), ('APPLE iPhone SE (White, 64 GB)', 3.8474425423990506)] \n",
      "\n",
      "amit kumar ->  [('APPLE iPhone 12 (Green, 64 GB)', 4.7007187200835965), ('APPLE iPhone 12 (Blue, 64 GB)', 4.665675878188056), ('APPLE iPhone 12 (Black, 64 GB)', 4.651310523827291), ('APPLE iPhone SE (Black, 128 GB)', 4.640553004372966), ('OPPO F17 Pro (Magic Blue, 128 GB)', 4.6126736578760665)] \n",
      "\n",
      "Kapil Sharma ->  [('APPLE iPhone 12 (Purple, 64 GB)', 4.684098421839147), ('realme Narzo 30 5G (Racing Silver, 128 GB)', 4.651751387716504), ('APPLE iPhone 12 (White, 64 GB)', 4.550165774620471), ('SAMSUNG Galaxy F12 (Celestial Black, 128 GB)', 4.53565736536521), ('POCO M2 Pro (Two Shades of Black, 64 GB)', 4.486971609200782)] \n",
      "\n",
      "Prince Singh ->  [('Infinix Hot 11S (7° Purple, 64 GB)', 4.773712461712191), ('OPPO Reno6 5G (Aurora, 128 GB)', 4.636890871865084), ('Infinix Smart 5 (Aegean Blue, 32 GB)', 4.586887137844487), ('realme C11 2021 (Cool Blue, 64 GB)', 4.407633908810363), ('Infinix Smart 5 (Morandi Green, 32 GB)', 4.276410901769723)] \n",
      "\n",
      "Gulshan Kumar ->  [('Kechaoda K116', 4.687234306205751), ('OPPO A12 (Deep Blue, 32 GB)', 4.4871209027162395), ('SAMSUNG Galaxy F12 (Sea Green, 128 GB)', 4.434240791822325), ('SAMSUNG Galaxy F12 (Sky Blue, 128 GB)', 4.431143312864593), ('SAMSUNG Galaxy F12 (Sea Green, 64 GB)', 4.425180340277454)] \n",
      "\n",
      "Aman Kumar ->  [('SAMSUNG Galaxy F12 (Celestial Black, 128 GB)', 4.733364023585871), ('SAMSUNG Galaxy F12 (Sea Green, 64 GB)', 4.72107915602378), ('APPLE iPhone SE (Black, 64 GB)', 4.688152218076279), ('APPLE iPhone SE (Black, 128 GB)', 4.648214776613607), ('realme Narzo 50A (Oxygen Green, 128 GB)', 4.631956160139859)] \n",
      "\n",
      "Satendra Kumar ->  [('SAMSUNG Galaxy F12 (Celestial Black, 128 GB)', 5.416916975463387), ('Infinix Smart 5A (Quetzal Cyan, 32 GB)', 5.209688413432026), ('vivo V23 5G (Sunshine Gold, 128 GB)', 5.085171554494836), ('realme C11 2021 (Cool Grey, 32 GB)', 5.033275823726415), ('OPPO A12 (Black, 32 GB)', 4.944805500314907)] \n",
      "\n",
      "Tarun Kumar ->  [('realme 8s 5G (Universe Purple, 128 GB)', 4.572361178930076), ('POCO M2 Pro (Two Shades of Black, 64 GB)', 4.542478093865752), ('APPLE iPhone SE (Red, 128 GB)', 4.4493438214941285), ('LAVA A3', 4.422077140018284), ('realme Narzo 50i (Carbon Black, 32 GB)', 4.419385939383612)] \n",
      "\n",
      "Anup Kumar ->  [('APPLE iPhone 11 (Black, 128 GB)', 5.253463538927382), ('APPLE iPhone 11 (Purple, 128 GB)', 5.227968792190778), ('Xiaomi 11i 5G (Stealth Black, 128 GB)', 5.152363127932071), ('APPLE iPhone 12 (White, 64 GB)', 5.093673720783157), ('SAMSUNG Galaxy F12 (Sky Blue, 64 GB)', 5.0835288880407425)] \n",
      "\n",
      "Vikas Sharma ->  [('APPLE iPhone 12 (Red, 128 GB)', 4.931681126844304), ('APPLE iPhone 12 (Blue, 64 GB)', 4.8876242295260734), ('REDMI Note 9 (Shadow Black, 64 GB)', 4.6192372614211745), ('realme 8i (Space Purple, 64 GB)', 4.4758395589460145), ('APPLE iPhone 12 Mini (Blue, 64 GB)', 4.405570842861028)] \n",
      "\n",
      "Mukesh  Kumar  ->  [('realme Narzo 30 5G (Racing Silver, 128 GB)', 4.682939530991396), ('realme C21 (Cross Black, 32 GB)', 4.5778139404318035), ('OPPO A12 (Blue, 64 GB)', 4.565534366722378), ('Nokia TA-1174 / TA-1299', 4.453690130939543), ('REDMI 9i (Nature Green, 64 GB)', 4.440493520911647)] \n",
      "\n",
      "Amit Tiwari ->  [('APPLE iPhone 12 (White, 256 GB)', 4.818478946965942), ('APPLE iPhone 12 (Red, 128 GB)', 4.8046138299670815), ('APPLE iPhone SE (Red, 128 GB)', 4.693677484371586), ('REDMI 9 Power (Mighty Black, 64 GB)', 4.5314781872844305), ('vivo V23 5G (Stardust Black, 128 GB)', 4.5162531462705955)] \n",
      "\n",
      "Brajesh Kumar ->  [('APPLE iPhone 12 (Purple, 64 GB)', 4.863770275532478), ('APPLE iPhone 12 (White, 256 GB)', 4.856692702127525), ('APPLE iPhone 12 (Blue, 64 GB)', 4.813447862983982), ('APPLE iPhone 12 (Red, 128 GB)', 4.797273574764288), ('APPLE iPhone 12 (Green, 64 GB)', 4.774971609350873)] \n",
      "\n",
      "Parveen Kumar ->  [('APPLE iPhone 12 (Black, 128 GB)', 4.584877011884683), ('APPLE iPhone SE (Red, 128 GB)', 4.4684666349411275), ('Infinix Smart 5A (Quetzal Cyan, 32 GB)', 4.293906187428659), ('POCO C31 (Royal Blue, 32 GB)', 4.264414308882441), ('LAVA A1', 4.128650102232251)] \n",
      "\n",
      "Aman ->  [('APPLE iPhone 11 (Black, 128 GB)', 4.905342939142303), ('vivo V21 5G (Sunset Dazzle, 128 GB)', 4.889594446543084), ('APPLE iPhone 11 (Yellow, 128 GB)', 4.88811243125853), ('vivo V21 5G (Sunset Dazzle, 256 GB)', 4.848459530888073), ('SAMSUNG GT-E1215', 4.784536907612402)] \n",
      "\n",
      "Ashwani Kumar ->  [('APPLE iPhone 12 (White, 256 GB)', 4.695702525761573), ('Infinix Hot 11S (Polar Black, 128 GB)', 4.5836397057376095), ('APPLE iPhone 12 Mini (Blue, 64 GB)', 4.552908719903135), ('Infinix Hot 11S (7° Purple, 64 GB)', 4.502256693192789), ('Infinix Hot 11S (Silver Wave, 64 GB)', 4.395472340405604)] \n",
      "\n",
      "Sanjeev  Kumar ->  [('realme 8 (Cyber Silver, 128 GB)', 4.425431395166891), ('Kechaoda K115', 4.34161714151456), ('OPPO A33 (Mint Cream, 32 GB)', 4.302755626889658), ('realme 8s 5G (Universe Blue, 128 GB)', 4.272511005604567), ('vivo T1 5G (Rainbow Fantasy, 128 GB)', 4.217700596560132)] \n",
      "\n",
      "Dhiraj Kumar ->  [('APPLE iPhone 11 (Yellow, 64 GB)', 4.706559070727427), ('APPLE iPhone 11 (White, 128 GB)', 4.68830971415062), ('APPLE iPhone 11 (Green, 128 GB)', 4.682424122770877), ('APPLE iPhone 11 (Purple, 64 GB)', 4.636890952070804), ('Infinix Hot 10 Play (Obsidian Black, 64 GB)', 4.433055138285826)] \n",
      "\n",
      "Ravi Sharma ->  [('APPLE iPhone SE (Black, 64 GB)', 4.635729816343716), ('realme 9 Pro 5G (Midnight Black, 128 GB)', 4.5610062335147274), ('realme C21 (Cross Black, 64 GB)', 4.482589415610267), ('realme 8 Pro (Infinite Black, 128 GB)', 4.456800765649438), ('realme 9 Pro 5G (Aurora Green, 128 GB)', 4.433812568389867)] \n",
      "\n",
      "AJAY KUMAR ->  [('realme 9 Pro+ 5G (Aurora Green, 128 GB)', 4.247589870322669), ('Infinix Hot 10 Play (Morandi Green, 64 GB)', 4.225927247269783), ('Infinix Hot 10 Play (Aegean Blue, 64 GB)', 4.170116048807765), ('REDMI 9i (Midnight Black, 64 GB)', 4.093775641305427), ('realme C25_Y (Metal Grey, 64 GB)', 4.053141344770416)] \n",
      "\n",
      "Akshay Kumar ->  [('APPLE iPhone 12 Mini (Black, 64 GB)', 4.78146775123778), ('APPLE iPhone SE (White, 128 GB)', 4.678454289435306), ('APPLE iPhone SE (White, 64 GB)', 4.67001224750772), ('POCO C31 (Royal Blue, 32 GB)', 4.608789565796301), ('LAVA A3', 4.470661197919504)] \n",
      "\n",
      "Monu Kumar ->  [('SAMSUNG Galaxy F12 (Sky Blue, 128 GB)', 4.8928490415777155), ('SAMSUNG Galaxy F12 (Sky Blue, 64 GB)', 4.886531666611973), ('SAMSUNG Galaxy F12 (Sea Green, 64 GB)', 4.881114851124819), ('OPPO A12 (Blue, 64 GB)', 4.8594300668343875), ('realme C21 (Cross Black, 64 GB)', 4.676561993309911)] \n",
      "\n",
      "Sandip Das ->  [('REDMI Note 10S (Cosmic Purple, 64 GB)', 5.117401072822425), ('SAMSUNG Galaxy F12 (Sky Blue, 128 GB)', 5.003390516973284), ('Nokia 105', 4.8509513727209095), ('Micromax X741', 4.6230905078520115), ('APPLE iPhone 11 (Black, 128 GB)', 4.3937860729783225)] \n",
      "\n",
      "Ashok  Kumar ->  [('APPLE iPhone 12 (Purple, 64 GB)', 4.828261241040163), ('POCO M3 Pro 5G (Power Black, 128 GB)', 4.518055534854589), ('OPPO F17 Pro (Metallic White, 128 GB)', 4.408802335221856), ('Xiaomi 11i 5G (Pacific Pearl, 128 GB)', 4.365701935115297), ('OPPO Reno6 5G (Stellar Black, 128 GB)', 4.26650883530013)] \n",
      "\n",
      "Sandeep  Kumar ->  [('APPLE iPhone 12 (Blue, 64 GB)', 4.326949660108423), ('APPLE iPhone 12 (Black, 64 GB)', 4.253411443717434), ('REDMI 9 Prime (Matte Black, 64 GB)', 4.129794832712123), ('Redmi 9 (Sporty Orange, 64 GB)', 3.9951148339040286), ('SAMSUNG Metro 313 Dual Sim', 3.9607784430797417)] \n",
      "\n",
      "Akash Singh ->  [('Infinix Hot 11S (Polar Black, 128 GB)', 5.017032071912154), ('SAMSUNG Galaxy F12 (Sea Green, 128 GB)', 4.987908809667949), ('Infinix Hot 11S (7° Purple, 128 GB)', 4.984861580655897), ('SAMSUNG Galaxy F12 (Sky Blue, 128 GB)', 4.978703991801789), ('SAMSUNG Galaxy F12 (Celestial Black, 128 GB)', 4.9571815915569335)] \n",
      "\n",
      "Ankit Verma ->  [('SAMSUNG Galaxy F12 (Sky Blue, 128 GB)', 5.052270716198617), ('APPLE iPhone SE (Black, 64 GB)', 4.835024316897077), ('realme 8 (Cyber Silver, 128 GB)', 4.734970598136343), ('realme GT Master Edition (Voyager Grey, 256 GB)', 4.642059451239723), ('realme GT Master Edition (Cosmos Black, 128 GB)', 4.541697384465873)] \n",
      "\n",
      "Neeraj Kumar ->  [('Nokia 105 DS 2020', 4.743939729023781), ('APPLE iPhone 12 (Blue, 64 GB)', 4.572856978328228), ('OPPO F17 Pro (Matte Black, 128 GB)', 4.400132937981301), ('realme Narzo 30 (Racing Blue, 64 GB)', 4.390877572545301), ('realme C21 (Cross Black, 64 GB)', 4.377602217821419)] \n",
      "\n",
      "Abhishek ->  [('APPLE iPhone 11 (Yellow, 64 GB)', 4.65760278123327), ('APPLE iPhone 11 (Black, 128 GB)', 4.6000076604299265), ('APPLE iPhone 12 (White, 64 GB)', 4.532953598258693), ('APPLE iPhone 12 (White, 256 GB)', 4.516668613950657), ('APPLE iPhone 12 (Green, 64 GB)', 4.484147821216171)] \n",
      "\n",
      "Golu Kumar ->  [('LAVA A1', 4.343885621587464), ('REDMI 9 Power (Blazing Blue, 64 GB)', 4.310234065094772), ('realme C21 (Cross Blue, 32 GB)', 4.288782071839714), ('realme Narzo 30 (Racing Blue, 64 GB)', 4.236022295693267), ('realme Narzo 50i (Mint Green, 32 GB)', 4.224475849141857)] \n",
      "\n",
      "Roshan Kumar ->  [('Redmi 9 (Sporty Orange, 64 GB)', 4.933858635928823), ('realme Narzo 30 (Racing Silver, 128 GB)', 4.758747739979805), ('Kechaoda K115', 4.691079151232393), ('realme 8i (Space Purple, 64 GB)', 4.635497496079104), ('Infinix Smart 5 (Morandi Green, 32 GB)', 4.622243967277951)] \n",
      "\n",
      "Alok Singh ->  [('APPLE iPhone 11 (Yellow, 64 GB)', 5.031487354836416), ('APPLE iPhone 11 (White, 64 GB)', 5.016958998121505), ('APPLE iPhone 11 (Red, 64 GB)', 4.97622177071816), ('APPLE iPhone 11 (Purple, 64 GB)', 4.976141959357411), ('Infinix Hot 11S (Polar Black, 64 GB)', 4.928452124979994)] \n",
      "\n",
      "Vinay Kumar ->  [('vivo V23 5G (Stardust Black, 128 GB)', 4.770265890287709), ('APPLE iPhone 11 (Black, 128 GB)', 4.720007338236846), ('realme C25s (Watery Grey, 128 GB)', 4.7016539451061), ('Infinix Note 11 (Glacier Green, 64 GB)', 4.628424807129728), ('realme C25s (Watery Blue, 128 GB)', 4.589690044076468)] \n",
      "\n",
      "Surendra Kumar ->  [('REDMI Note 10S (Shadow Black, 64 GB)', 4.684154416384174), ('Infinix Hot 10 Play (Morandi Green, 64 GB)', 4.630833673839494), ('Infinix Hot 10 Play (Obsidian Black, 64 GB)', 4.488214794563224), ('realme 8 Pro (Infinite Black, 128 GB)', 4.424276352680128), ('Infinix Hot 10 (Ocean Wave, 64 GB)', 4.409320126793733)] \n",
      "\n",
      "Abhishek  Kumar  ->  [('APPLE iPhone SE (Black, 128 GB)', 4.610405969341741), ('APPLE iPhone SE (White, 128 GB)', 4.606437670304744), ('APPLE iPhone SE (Red, 64 GB)', 4.467493218538756), ('OPPO A12 (Deep Blue, 32 GB)', 4.4308493969711735), ('realme Narzo 50i (Mint Green, 32 GB)', 4.429537801390905)] \n",
      "\n",
      "Imran Shaikh ->  [('realme GT Master Edition (Cosmos Black, 128 GB)', 4.182111916267362), ('OPPO A12 (Blue, 32 GB)', 4.122017027547274), ('REDMI 9 Power (Mighty Black, 64 GB)', 4.08107073998888), ('Micromax IN Note 1 (White, 64 GB)', 3.888996661264019), ('Micromax IN Note 1 (Green, 64 GB)', 3.8022993496704665)] \n",
      "\n",
      "Rahul Mondal ->  [('APPLE iPhone 12 (Green, 64 GB)', 4.963426848235297), ('APPLE iPhone 12 (Blue, 64 GB)', 4.923225829877661), ('REDMI Note 10S (Frost White, 128 GB)', 4.779467940565596), ('REDMI Note 10S (Shadow Black, 128 GB)', 4.752403467409381), ('Nokia 105 SS 2021', 4.22640817021411)] \n",
      "\n",
      "Vikash  Kumar  ->  [('realme 8s 5G (Universe Purple, 128 GB)', 4.989242687951951), ('realme Narzo 50A (Oxygen Blue, 64 GB)', 4.952887003596859), ('LAVA A1 Josh', 4.94363558845656), ('realme 8s 5G (Universe Blue, 128 GB)', 4.915083651170477), ('OPPO A12 (Flowing Silver, 64 GB)', 4.8380927815690065)] \n",
      "\n",
      "Nilesh Kumar ->  [('APPLE iPhone 11 (White, 128 GB)', 4.996921689793493), ('APPLE iPhone 11 (White, 64 GB)', 4.940855599165519), ('APPLE iPhone 11 (Black, 64 GB)', 4.926103280312034), ('APPLE iPhone SE (Red, 128 GB)', 4.884078549408054), ('APPLE iPhone 11 (Purple, 64 GB)', 4.856425068315671)] \n",
      "\n",
      "Raja ->  [('REDMI 9 Power (Mighty Black, 64 GB)', 4.757475288742968), ('REDMI 9 Power (Fiery Red, 64 GB)', 4.685709391056675), ('APPLE iPhone 12 (Green, 64 GB)', 4.668135373711039), ('APPLE iPhone 12 (Purple, 64 GB)', 4.654014403305935), ('APPLE iPhone 12 (White, 256 GB)', 4.603691920251608)] \n",
      "\n",
      "Saurabh Sharma ->  [('APPLE iPhone 11 (Yellow, 128 GB)', 4.751162456018542), ('APPLE iPhone 11 (Purple, 64 GB)', 4.726442614087574), ('APPLE iPhone 12 Mini (White, 64 GB)', 4.6947697982350185), ('APPLE iPhone 12 (Blue, 64 GB)', 4.629233529584002), ('Micromax IN Note 1 (Green, 64 GB)', 4.227294724806774)] \n",
      "\n",
      "sumit kumar ->  [('APPLE iPhone SE (Red, 128 GB)', 4.979889436635056), ('APPLE iPhone SE (White, 128 GB)', 4.93740740588605), ('APPLE iPhone 12 Mini (Blue, 64 GB)', 4.928329997061177), ('realme C25 (Watery Blue, 64 GB)', 4.4306075778240945), ('APPLE iPhone 11 (White, 128 GB)', 4.238920223670658)] \n",
      "\n",
      "Shyam Kumar ->  [('vivo T1 5G (Starlight Black, 128 GB)', 5.016741147072331), ('realme C25Y (Metal Grey, 128 GB)', 4.97692429846645), ('Infinix Hot 10 Play (Obsidian Black, 64 GB)', 4.954374368516429), ('SAMSUNG Galaxy F12 (Celestial Black, 64 GB)', 4.916830322442718), ('POCO M3 Pro 5G (Power Black, 128 GB)', 4.89097892031992)] \n",
      "\n",
      "Akash ->  [('APPLE iPhone 12 (Black, 128 GB)', 4.634747047675027), ('POCO C3 (Matte Black, 32 GB)', 4.495691873332883), ('APPLE iPhone SE (White, 128 GB)', 4.484106754104503), ('APPLE iPhone SE (Red, 64 GB)', 4.386301723656377), ('POCO C3 (Arctic Blue, 32 GB)', 4.361442710391304)] \n",
      "\n",
      "Rajan Kumar ->  [('LAVA A3', 4.666005923306146), ('SAMSUNG Guru Music 2', 4.615324509142956), ('realme C20 (Cool Grey, 32 GB)', 4.594246074088425), ('Infinix Smart 5A (Midnight Black, 32 GB)', 4.546151893485094), ('Infinix Smart 5A (Quetzal Cyan, 32 GB)', 4.496088006470055)] \n",
      "\n",
      "sandeep singh ->  [('APPLE iPhone 12 Mini (Black, 64 GB)', 4.7530630570546), ('APPLE iPhone 12 (Black, 64 GB)', 4.682650956377184), ('APPLE iPhone 12 (Blue, 64 GB)', 4.647698897232322), ('realme 8 5G (Supersonic Black, 64 GB)', 4.546118256484717), ('APPLE iPhone 12 (Green, 64 GB)', 4.49743290403819)] \n",
      "\n",
      "Hari Krishna ->  [('vivo V21 5G (Arctic White, 128 GB)', 4.702479516366771), ('vivo V21 5G (Sunset Dazzle, 256 GB)', 4.569782288178926), ('vivo V21 5G (Neon Spark, 128 GB)', 4.511771455178266), ('realme C25 (Watery Blue, 64 GB)', 4.468485242949631), ('realme C25 (Watery Grey, 128 GB)', 4.368298600798639)] \n",
      "\n",
      "Shivam Sharma ->  [('SAMSUNG Galaxy F12 (Sky Blue, 128 GB)', 4.647530156765692), ('SAMSUNG Galaxy F12 (Sky Blue, 64 GB)', 4.624613431257229), ('Micromax IN Note 1 (Green, 64 GB)', 4.423406610091566), ('realme C21 (Cross Blue, 64 GB)', 4.413854993958845), ('realme Narzo 30 (Racing Blue, 64 GB)', 4.3907830908986085)] \n",
      "\n",
      "Krishna Kumar ->  [('APPLE iPhone 12 (Black, 64 GB)', 4.972097207084354), ('POCO M3 (Power Black, 64 GB)', 4.879785703319927), ('APPLE iPhone 11 (White, 128 GB)', 4.873656173115111), ('POCO M3 (Power Black, 128 GB)', 4.872680970474102), ('realme Narzo 30 (Racing Blue, 128 GB)', 4.864400560949027)] \n",
      "\n",
      "Umesh Kumar ->  [('realme 8i (Space Black, 64 GB)', 4.8833024401045435), ('realme Narzo 30 Pro 5G (Sword Black, 64 GB)', 4.798112251129768), ('Infinix Hot 10 Play (Obsidian Black, 64 GB)', 4.798090249461579), ('realme Narzo 30 (Racing Silver, 64 GB)', 4.769229228147537), ('realme 8 (Cyber Silver, 128 GB)', 4.757609337544311)] \n",
      "\n",
      "Akash  Kumar ->  [('APPLE iPhone 12 (Purple, 64 GB)', 5.112655024040157), ('APPLE iPhone 12 (Green, 64 GB)', 5.0456564079565105), ('APPLE iPhone 12 (White, 64 GB)', 4.884142247112516), ('Infinix Smart 5A (Quetzal Cyan, 32 GB)', 4.7955743070118215), ('realme GT Master Edition (Luna White, 128 GB)', 4.6848744636132444)] \n",
      "\n",
      "Sonu  Singh ->  [('realme 8 5G (Supersonic Black, 64 GB)', 4.986752208960551), ('realme 9 Pro 5G (Midnight Black, 128 GB)', 4.910299072961099), ('realme 8 5G (Supersonic Black, 128 GB)', 4.718397035948882), ('realme 8 (Cyber Black, 128 GB)', 4.64677692042508), ('realme 8 5G (Supersonic Blue, 128 GB)', 4.6251075515884015)] \n",
      "\n",
      "Satish  Kumar ->  [('REDMI 9 Power (Blazing Blue, 64 GB)', 4.425936322302593), ('realme Narzo 50A (Oxygen Green, 64 GB)', 4.384756403559127), ('OPPO A12 (Flowing Silver, 64 GB)', 4.291010548166397), ('realme C11 2021 (Cool Grey, 32 GB)', 3.8027623331450644), ('realme 8 (Cyber Silver, 128 GB)', 3.6694686335864426)] \n",
      "\n",
      "Shubham Mishra ->  [('SAMSUNG GT-E1215', 4.327281308974953), ('OPPO A33 (Moonlight Black, 32 GB)', 4.2985299414840785), ('Infinix Hot 10 (Ocean Wave, 64 GB)', 4.284538001249644), ('vivo T1 5G (Rainbow Fantasy, 128 GB)', 4.01143062177188), ('Infinix Note 10 (7° Purple, 128 GB)', 3.7836004425166356)] \n",
      "\n",
      "Ankit ->  [('APPLE iPhone 11 (Purple, 128 GB)', 4.872064626909038), ('APPLE iPhone 11 (Purple, 64 GB)', 4.8275653832400565), ('Infinix Hot 10 Play (Morandi Green, 64 GB)', 4.659614497215464), ('realme 8 5G (Supersonic Blue, 128 GB)', 4.5794729888513785), ('REDMI Note 9 (Shadow Black, 64 GB)', 4.534038161669679)] \n",
      "\n",
      "Sourav Mondal ->  [('APPLE iPhone 11 (Green, 128 GB)', 4.725207398826625), ('APPLE iPhone 11 (Purple, 128 GB)', 4.706790226855755), ('APPLE iPhone 11 (Yellow, 128 GB)', 4.626352026349676), ('realme Narzo 30 (Racing Silver, 128 GB)', 4.221361702301373), ('vivo T1 5G (Starlight Black, 128 GB)', 4.129378590712724)] \n",
      "\n",
      "Praveen Kumar ->  [('vivo V21 5G (Neon Spark, 128 GB)', 4.820233685475452), ('vivo V23 5G (Sunshine Gold, 128 GB)', 4.551091932472744), ('APPLE iPhone 12 (Green, 64 GB)', 4.515754195651927), ('OPPO A33 (Mint Cream, 32 GB)', 4.479095102516449), ('Infinix Hot 11S (7° Purple, 128 GB)', 4.4264372690749445)] \n",
      "\n",
      "Rahul Chaudhary ->  [('APPLE iPhone 11 (Yellow, 128 GB)', 4.748990403039433), ('realme Narzo 50A (Oxygen Green, 64 GB)', 4.53751135807777), ('Infinix Note 11 (Celestial Snow, 64 GB)', 4.5127056009955275), ('realme C21 (Cross Black, 64 GB)', 4.239001263267232), ('realme C21 (Cross Blue, 64 GB)', 4.204002115638481)] \n",
      "\n",
      "Rahul Das ->  [('APPLE iPhone 12 (Black, 64 GB)', 5.187789078834901), ('APPLE iPhone 12 (Blue, 64 GB)', 5.126706615704583), ('realme Narzo 50A (Oxygen Green, 64 GB)', 4.803779442619657), ('Infinix Smart 5A (Ocean Wave, 32 GB)', 4.750827711919897), ('POCO C31 (Royal Blue, 32 GB)', 4.743352906239907)] \n",
      "\n",
      "Vivek Sharma ->  [('APPLE iPhone 11 (Black, 64 GB)', 4.734874710929963), ('APPLE iPhone 11 (Yellow, 128 GB)', 4.687644604826321), ('Micromax IN Note 1 (White, 64 GB)', 4.427602315472285), ('REDMI Note 9 (Shadow Black, 64 GB)', 4.366184042579764), ('Infinix Hot 10 Play (7° Purple, 64 GB)', 4.293112596793051)] \n",
      "\n",
      "Wasim Akram ->  [('APPLE iPhone 12 (Blue, 64 GB)', 4.869551743904005), ('APPLE iPhone 12 (White, 256 GB)', 4.849157143917262), ('APPLE iPhone 12 (White, 64 GB)', 4.777561626665381), ('SAMSUNG Galaxy F12 (Sky Blue, 64 GB)', 4.519105266307772), ('realme C25s (Watery Grey, 128 GB)', 4.479894101959394)] \n",
      "\n",
      "Dinesh Yadav ->  [('REDMI Note 9 (Shadow Black, 64 GB)', 4.35998859175366), ('REDMI Note 9 (Aqua Green, 64 GB)', 4.349856705321992), ('realme 8 (Cyber Silver, 128 GB)', 4.3272217918051386), ('realme Narzo 50A (Oxygen Green, 64 GB)', 4.0663959926802375), ('APPLE iPhone 12 Mini (Blue, 64 GB)', 4.015916615002554)] \n",
      "\n",
      "Ramesh Ramesh ->  [('Nokia TA-1304/105 SS', 4.738914588849168), ('vivo V21 5G (Dusk Blue, 128 GB)', 4.618467844786361), ('SAMSUNG Galaxy F12 (Sky Blue, 64 GB)', 4.545814021678723), ('realme 8 (Cyber Black, 128 GB)', 4.523211133554934), ('SAMSUNG Galaxy F12 (Celestial Black, 64 GB)', 4.478284243094431)] \n",
      "\n",
      "Pradeep Singh ->  [('OPPO F17 Pro (Matte Black, 128 GB)', 4.441202836241272), ('realme C25 (Watery Blue, 64 GB)', 4.407876507566343), ('realme Narzo 30 (Racing Blue, 64 GB)', 4.263418074357163), ('realme Narzo 30 (Racing Blue, 128 GB)', 4.157881492905897), ('vivo T1 5G (Starlight Black, 128 GB)', 4.130283277557575)] \n",
      "\n",
      "Himanshu Sharma ->  [('APPLE iPhone 12 (Black, 64 GB)', 4.67511595004654), ('APPLE iPhone 11 (Yellow, 64 GB)', 4.6372822505954545), ('realme Narzo 50A (Oxygen Green, 128 GB)', 4.517433896435244), ('LAVA A3', 4.3490960350229155), ('Infinix Hot 10 Play (Morandi Green, 64 GB)', 4.31883290881789)] \n",
      "\n",
      "Surya Prakash ->  [('APPLE iPhone 12 (Blue, 64 GB)', 4.932708002962016), ('APPLE iPhone 12 (White, 256 GB)', 4.88467217516123), ('vivo V21 5G (Dusk Blue, 128 GB)', 4.8805575579317715), ('APPLE iPhone SE (White, 128 GB)', 4.871066650665859), ('APPLE iPhone SE (Black, 64 GB)', 4.824768412524875)] \n",
      "\n",
      "Rajat Kumar ->  [('Infinix Hot 11S (7° Purple, 64 GB)', 5.196084816611617), ('realme C21 (Cross Black, 32 GB)', 4.970430415376731), ('realme 8i (Space Black, 64 GB)', 4.701764669078211), ('Infinix Smart 5A (Midnight Black, 32 GB)', 4.583684582480995), ('realme Narzo 30 5G (Racing Blue, 128 GB)', 4.441325585299558)] \n",
      "\n",
      "Krishan Kumar ->  [('Infinix Hot 11S (7° Purple, 128 GB)', 4.854872679941174), ('realme 8 5G (Supersonic Black, 128 GB)', 4.675262963717489), ('Infinix Hot 10 (Amber Red, 64 GB)', 4.666075444968263), ('realme C21 (Cross Black, 32 GB)', 4.666056158069436), ('SAMSUNG Galaxy F12 (Celestial Black, 64 GB)', 4.665496063978582)] \n",
      "\n",
      "Shivam Verma ->  [('realme GT Master Edition (Luna White, 256 GB)', 5.533200360647432), ('APPLE iPhone SE (Black, 64 GB)', 5.48184189657905), ('realme Narzo 30 (Racing Blue, 128 GB)', 5.392683297708688), ('APPLE iPhone SE (White, 128 GB)', 5.348881190907242), ('REDMI 9 Power (Mighty Black, 64 GB)', 5.24972939189998)] \n",
      "\n",
      "PRADEEP KUMAR ->  [('Infinix Hot 11S (Silver Wave, 128 GB)', 4.943406027090743), ('SAMSUNG Galaxy F12 (Celestial Black, 128 GB)', 4.909557027365403), ('Infinix Hot 11S (Green Wave, 64 GB)', 4.798518728583239), ('REDMI 9 Power (Mighty Black, 64 GB)', 4.778146607964701), ('Infinix Hot 11S (Polar Black, 64 GB)', 4.759953087382015)] \n",
      "\n",
      "Pramod Kumar ->  [('APPLE iPhone 11 (Yellow, 64 GB)', 4.901507340797531), ('APPLE iPhone 11 (Red, 64 GB)', 4.8449381844682655), ('APPLE iPhone 11 (Black, 128 GB)', 4.818382804113828), ('APPLE iPhone 11 (Yellow, 128 GB)', 4.778904618045903), ('Infinix Hot 11S (Green Wave, 128 GB)', 4.691281621194049)] \n",
      "\n",
      "Sumit  Kumar ->  [('realme Narzo 50A (Oxygen Blue, 64 GB)', 4.591733513657892), ('realme Narzo 50A (Oxygen Green, 128 GB)', 4.306672590513832), ('realme Narzo 50A (Oxygen Green, 128 GB)', 4.306672590513832), ('Infinix Smart 5A (Quetzal Cyan, 32 GB)', 4.233109740103377), ('realme 9i (Prism Black, 128 GB)', 4.2237858085918)] \n",
      "\n",
      "Vishal Sharma ->  [('APPLE iPhone 11 (Black, 128 GB)', 4.75251567191707), ('Redmi 9 (Sky Blue, 64 GB)', 4.520126609327906), ('POCO F3 GT (Gunmetal Silver, 128 GB)', 4.484695087233997), ('realme 8i (Space Purple, 64 GB)', 4.249997176434764), ('realme Narzo 50A (Oxygen Green, 128 GB)', 4.234822161184963)] \n",
      "\n",
      "Amit  Kumar ->  [('vivo V21 5G (Sunset Dazzle, 128 GB)', 4.494118874426427), ('vivo V21 5G (Arctic White, 128 GB)', 4.491590017662804), ('realme Narzo 30 (Racing Silver, 64 GB)', 4.45027482921668), ('Nokia 105 DS 2020', 4.419544074926994), ('REDMI 9 Power (Fiery Red, 128 GB)', 4.371041303689563)] \n",
      "\n",
      "Prakash Kumar ->  [('APPLE iPhone 12 (White, 256 GB)', 4.547036352075329), ('APPLE iPhone 12 (Blue, 64 GB)', 4.536045761081223), ('Micromax IN Note 1 (White, 64 GB)', 4.53102422890662), ('APPLE iPhone 12 (Red, 128 GB)', 4.5259023150229645), ('POCO C31 (Royal Blue, 32 GB)', 4.3699815311821775)] \n",
      "\n",
      "Vishal Yadav ->  [('APPLE iPhone 12 Mini (White, 64 GB)', 4.903826478990063), ('realme 8 (Cyber Black, 128 GB)', 4.709832058826027), ('LAVA A1', 4.675378885528813), ('Infinix Hot 10 Play (Morandi Green, 64 GB)', 4.674933068686271), ('REDMI 9 Power (Blazing Blue, 64 GB)', 4.654768200792402)] \n",
      "\n",
      "Himanshu Singh ->  [('realme C11 2021 (Cool Blue, 64 GB)', 4.551916935115664), ('Nokia 105 SS 2021', 4.393421900596827), ('Nokia 105 SS 2021', 4.393421900596827), ('POCO X3 (Shadow Gray, 64 GB)', 4.338316296318835), ('POCO M2 Pro (Out of the Blue, 64 GB)', 4.28227969167533)] \n",
      "\n",
      "Biswajit Das ->  [('realme 9i (Prism Blue, 64 GB)', 4.653781187673435), ('POCO M3 Pro 5G (Yellow, 64 GB)', 4.651226453958981), ('vivo T1 5G (Starlight Black, 128 GB)', 4.598424471766135), ('realme C21 (Cross Blue, 32 GB)', 4.531820045796824), ('realme 9 Pro 5G (Aurora Green, 128 GB)', 4.48471748281047)] \n",
      "\n",
      "Senthil Kumar ->  [('APPLE iPhone SE (Black, 128 GB)', 4.228245845922927), ('POCO C31 (Shadow Gray, 64 GB)', 4.183807276772966), ('APPLE iPhone 12 (Blue, 64 GB)', 4.140706192753711), ('APPLE iPhone 12 (Red, 128 GB)', 4.0466411970870215), ('REDMI Note 9 (Aqua Green, 64 GB)', 4.034235211726567)] \n",
      "\n",
      "Aman  Kumar ->  [('MOTOROLA G60 (Moonless, 128 GB)', 4.469862079762488), ('realme GT Master Edition (Cosmos Black, 128 GB)', 4.442843039390517), ('SAMSUNG Galaxy F12 (Sky Blue, 64 GB)', 4.442817258376208), ('SAMSUNG Galaxy F12 (Sky Blue, 64 GB)', 4.442817258376208), ('SAMSUNG Galaxy F12 (Celestial Black, 128 GB)', 4.384727057216317)] \n",
      "\n",
      "Rajnish Kumar ->  [('realme Narzo 50A (Oxygen Green, 64 GB)', 4.497401875517123), ('Itel Magic2 4G (WiFi, Hotspot Tethering)', 4.437115183988992), ('realme C21 (Cross Blue, 64 GB)', 4.413408082954953), ('realme C21 (Cross Black, 64 GB)', 4.41292551883226), ('realme Narzo 30 (Racing Blue, 64 GB)', 4.3625815177711695)] \n",
      "\n",
      "Rajesh  Kumar  ->  [('MOTOROLA G60 (Moonless, 128 GB)', 4.915513193804193), ('realme C21 (Cross Blue, 32 GB)', 4.807949724473998), ('OPPO A53s 5G (Ink Black, 128 GB)', 4.7815958984309095), ('Kechaoda K115', 4.70906942601731), ('realme GT Master Edition (Daybreak Blue, 128 GB)', 4.58147942767258)] \n",
      "\n",
      "SURAJ KUMAR ->  [('vivo V21 5G (Arctic White, 128 GB)', 5.148103095377921), ('Infinix Hot 11S (Polar Black, 128 GB)', 4.861194235726716), ('REDMI 9i (Nature Green, 64 GB)', 4.860089567013815), ('Infinix Hot 11S (Polar Black, 64 GB)', 4.852686282475063), ('Infinix Hot 11S (7° Purple, 64 GB)', 4.818059938135833)] \n",
      "\n",
      "Vikram Kumar ->  [('POCO C3 (Matte Black, 32 GB)', 4.8977116106071765), ('OPPO A31 (Mystery Black, 128 GB)', 4.794505113941672), ('realme 8 (Cyber Silver, 128 GB)', 4.677328092832291), ('MOTOROLA G40 Fusion (Frosted Champagne, 128 GB)', 4.612599632133627), ('REDMI 9 Prime (Matte Black, 64 GB)', 4.597697250930559)] \n",
      "\n",
      "Ashutosh Kumar ->  [('APPLE iPhone 11 (Purple, 128 GB)', 4.721175254107721), ('APPLE iPhone 11 (Yellow, 64 GB)', 4.66232586827181), ('APPLE iPhone 11 (Yellow, 64 GB)', 4.66232586827181), ('REDMI 9 Prime (Matte Black, 64 GB)', 4.512918661714149), ('APPLE iPhone 11 (Red, 64 GB)', 4.504896920651951)] \n",
      "\n",
      "Shani Kumar ->  [('realme 8i (Space Black, 64 GB)', 4.203276736531457), ('realme C21Y (Cross Black, 32 GB)', 4.16256994770902), ('Infinix Hot 11S (Polar Black, 64 GB)', 4.156391304411798), ('Infinix Hot 11S (7° Purple, 128 GB)', 4.14022809757092), ('realme Narzo 50A (Oxygen Green, 64 GB)', 4.108578328137525)] \n",
      "\n",
      "Amit Yadav ->  [('APPLE iPhone 12 Mini (Black, 64 GB)', 4.870016945591673), ('APPLE iPhone 12 (Black, 64 GB)', 4.823266063282312), ('APPLE iPhone 12 (Red, 128 GB)', 4.807626471835098), ('APPLE iPhone 12 (White, 256 GB)', 4.778536559149297), ('realme Narzo 50A (Oxygen Blue, 64 GB)', 4.759739892545935)] \n",
      "\n",
      "Pradeep Verma ->  [('SAMSUNG Galaxy F12 (Sky Blue, 128 GB)', 5.455983040614898), ('Infinix Hot 10 Play (Obsidian Black, 64 GB)', 5.307544799552557), ('POCO C3 (Arctic Blue, 32 GB)', 5.299491781162503), ('REDMI 9i Sport (Metallic Blue, 64 GB)', 5.290198913761563), ('realme C25Y (Glacier Blue, 128 GB)', 5.252851006790178)] \n",
      "\n",
      "Anil kumar ->  [('vivo T1 5G (Rainbow Fantasy, 128 GB)', 4.719998257363926), ('REDMI 9 Power (Mighty Black, 64 GB)', 4.533652730055368), ('APPLE iPhone 12 (White, 256 GB)', 4.42139507591175), ('APPLE iPhone 12 (White, 64 GB)', 4.391301066318363), ('realme 8s 5G (Universe Purple, 128 GB)', 4.359766988409351)] \n",
      "\n",
      "Kishor Kumar ->  [('APPLE iPhone 12 Mini (Blue, 64 GB)', 5.009849516246303), ('Infinix Note 11 (Celestial Snow, 64 GB)', 4.8699629611009305), ('POCO M3 Pro 5G (Cool Blue, 64 GB)', 4.799690079124878), ('LAVA GEM', 4.785791237498847), ('REDMI 9 Power (Mighty Black, 64 GB)', 4.717070676603125)] \n",
      "\n",
      "Deepak ->  [('APPLE iPhone 12 (Green, 64 GB)', 4.660311905135592), ('realme GT Master Edition (Daybreak Blue, 128 GB)', 4.524621216324547), ('realme GT Master Edition (Daybreak Blue, 128 GB)', 4.524621216324547), ('APPLE iPhone 12 (Red, 128 GB)', 4.513343447661001), ('APPLE iPhone SE (Black, 64 GB)', 4.497355725273399)] \n",
      "\n",
      "Akhilesh Kumar ->  [('Infinix Hot 10 Play (Aegean Blue, 64 GB)', 4.851500712141424), ('Redmi 9 (Sky Blue, 64 GB)', 4.772645763515806), ('SAMSUNG Galaxy F12 (Sky Blue, 64 GB)', 4.69067919850747), ('realme Narzo 50A (Oxygen Blue, 64 GB)', 4.6584417204985895), ('POCO M3 Pro 5G (Power Black, 64 GB)', 4.646147758052997)] \n",
      "\n",
      "Rajesh  Kumar ->  [('APPLE iPhone 12 (Green, 64 GB)', 4.608207803307075), ('APPLE iPhone 12 (Red, 128 GB)', 4.5562573953436685), ('realme Narzo 50i (Carbon Black, 32 GB)', 4.386106140528217), ('REDMI Note 9 (Shadow Black, 64 GB)', 4.306923387030839), ('Micromax IN Note 1 (Green, 64 GB)', 4.26099788180396)] \n",
      "\n",
      "Sonu ->  [('APPLE iPhone 12 (White, 256 GB)', 4.446947126124929), ('realme 9i (Prism Black, 64 GB)', 4.347869324717646), ('Infinix Smart 5A (Ocean Wave, 32 GB)', 4.025122211764043), ('Infinix Hot 10 Play (Morandi Green, 64 GB)', 4.022955108045946), ('realme C21Y (Cross Blue, 64 GB)', 3.98552951100907)] \n",
      "\n",
      "Mukesh Yadav ->  [('Infinix Hot 11S (Green Wave, 64 GB)', 4.892851208319008), ('Infinix Hot 11S (7° Purple, 128 GB)', 4.771218518872206), ('Infinix Note 11 (Graphite Black, 64 GB)', 4.632481389138784), ('APPLE iPhone SE (Red, 64 GB)', 4.54291810886676), ('REDMI Note 9 (Shadow Black, 64 GB)', 4.450957048544061)] \n",
      "\n",
      "Gajendra  Singh ->  [('OPPO Reno6 5G (Stellar Black, 128 GB)', 4.459457032525868), ('realme C21 (Cross Black, 32 GB)', 4.343363335123408), ('realme Narzo 50i (Mint Green, 32 GB)', 4.157619185718103), ('realme 8 5G (Supersonic Blue, 64 GB)', 3.9888013167183187), ('realme C20 (Cool Grey, 32 GB)', 3.9106203067003653)] \n",
      "\n",
      "Chandan Das ->  [('APPLE iPhone 11 (White, 128 GB)', 5.22250145429556), ('APPLE iPhone 11 (Black, 128 GB)', 5.1602478949284025), ('SAMSUNG Galaxy F12 (Celestial Black, 64 GB)', 5.039058627895137), ('SAMSUNG Galaxy F12 (Sky Blue, 128 GB)', 5.038935638096953), ('APPLE iPhone SE (Red, 128 GB)', 4.956988441835823)] \n",
      "\n",
      "Vicky Kumar ->  [('APPLE iPhone 11 (Yellow, 128 GB)', 4.544703411474794), ('APPLE iPhone 11 (Green, 128 GB)', 4.535878911319922), ('OPPO Reno6 5G (Aurora, 128 GB)', 4.338972174929369), ('realme Narzo 30 (Racing Blue, 64 GB)', 4.147494368020346), ('Infinix Hot 10 Play (7° Purple, 64 GB)', 4.08362996379417)] \n",
      "\n",
      "Arvind  Kumar ->  [('Infinix Smart HD 2021 (Quartz Green, 32 GB)', 4.6952533230289015), ('Infinix Hot 10 Play (7° Purple, 64 GB)', 4.301596273125744), ('realme 8 5G (Supersonic Black, 128 GB)', 4.294329810723337), ('Infinix Smart 5 (7 Purple, 32 GB)', 4.281752339167728), ('REDMI 9 Power (Fiery Red, 128 GB)', 4.195949297132385)] \n",
      "\n",
      "Amit ->  [('realme C21Y (Cross Blue, 64 GB)', 4.388652053184175), ('OPPO A12 (Blue, 32 GB)', 4.322134123451957), ('Xiaomi 11i 5G (Pacific Pearl, 128 GB)', 4.280835194551908), ('OPPO A12 (Deep Blue, 32 GB)', 4.236728043205853), ('realme C11 2021 (Cool Blue, 32 GB)', 4.1785543444972975)] \n",
      "\n",
      "Vishal  Kumar ->  [('SAMSUNG Galaxy F12 (Celestial Black, 64 GB)', 4.705395681335248), ('SAMSUNG Galaxy F12 (Sky Blue, 64 GB)', 4.63065303696689), ('realme 9i (Prism Black, 128 GB)', 4.529100391842479), ('Infinix Hot 10 Play (Morandi Green, 64 GB)', 4.522972943046719), ('vivo V23 5G (Sunshine Gold, 128 GB)', 4.478676285625767)] \n",
      "\n",
      "Sunny Kumar ->  [('APPLE iPhone 12 Mini (Blue, 64 GB)', 4.51551841896557), ('OPPO A12 (Flowing Silver, 64 GB)', 4.361261476453387), ('REDMI Note 9 (Shadow Black, 64 GB)', 4.350284994595089), ('Infinix Smart 5 (7 Purple, 32 GB)', 4.346235795949777), ('Infinix Smart 5 (7 Purple, 32 GB)', 4.346235795949777)] \n",
      "\n",
      "Sourav Sarkar ->  [('APPLE iPhone 11 (Green, 128 GB)', 5.062082634492432), ('APPLE iPhone 11 (Red, 64 GB)', 5.029811800065792), ('APPLE iPhone 11 (Black, 128 GB)', 5.016985570739258), ('realme C20 (Cool Blue, 32 GB)', 4.490788468664226), ('POCO M2 Pro (Green and Greener, 64 GB)', 4.395540362238792)] \n",
      "\n",
      "Ankit Gupta ->  [('Infinix Hot 11S (7° Purple, 64 GB)', 4.994547332864682), ('Infinix Hot 11S (Silver Wave, 128 GB)', 4.973276247935272), ('Infinix Smart 5 (Morandi Green, 32 GB)', 4.805843888062603), ('APPLE iPhone SE (Red, 128 GB)', 4.73989724665872), ('APPLE iPhone SE (Black, 128 GB)', 4.684562002530538)] \n",
      "\n",
      "Saroj Kumar ->  [('realme C25Y (Metal Grey, 128 GB)', 5.294281787094528), ('APPLE iPhone SE (Red, 128 GB)', 5.23040553014758), ('realme C35 (Glowing Black, 64 GB)', 5.1727402042945), ('Infinix Smart 5A (Ocean Wave, 32 GB)', 5.141298836753766), ('Nokia TA-1174 / TA-1299', 4.927595018483558)] \n",
      "\n",
      "Bala Murugan ->  [('APPLE iPhone 12 (White, 256 GB)', 4.739608161695944), ('Nokia TA-1174 / TA-1299', 4.528373843379719), ('Infinix Smart 5A (Quetzal Cyan, 32 GB)', 4.515248918734724), ('MOTOROLA G60 (Moonless, 128 GB)', 4.220716778333134), ('realme 8 5G (Supersonic Black, 64 GB)', 4.062449440248544)] \n",
      "\n",
      "Vikas Singh ->  [('APPLE iPhone 12 Mini (White, 64 GB)', 4.875879377088199), ('realme Narzo 50A (Oxygen Green, 128 GB)', 4.6375251982963475), ('realme 8i (Space Purple, 64 GB)', 4.579019240953618), ('realme 8i (Space Purple, 64 GB)', 4.579019240953618), ('REDMI Note 9 (Aqua Green, 64 GB)', 4.516996216315297)] \n",
      "\n",
      "Saurabh Yadav ->  [('Infinix Hot 11S (7° Purple, 128 GB)', 4.823785568889326), ('Infinix Hot 11S (Silver Wave, 64 GB)', 4.800674985152393), ('Infinix Hot 10 (Amber Red, 64 GB)', 4.7733469524022265), ('realme Narzo 30 (Racing Silver, 64 GB)', 4.615567724620843), ('realme 8i (Space Purple, 64 GB)', 4.543604760666947)] \n",
      "\n",
      "Arun Singh ->  [('SAMSUNG Galaxy F12 (Sea Green, 128 GB)', 4.747679175569323), ('OPPO Reno6 5G (Aurora, 128 GB)', 4.626037187656298), ('Infinix Smart 5 (Morandi Green, 32 GB)', 4.371231786867876), ('Infinix Smart HD 2021 (Obsidian Black, 32 GB)', 3.8150816914356547), ('realme Narzo 30 (Racing Silver, 64 GB)', 3.613042435540624)] \n",
      "\n",
      "Abhi ->  [('APPLE iPhone 11 (Red, 64 GB)', 4.968233173598151), ('POCO M3 (Power Black, 64 GB)', 4.567114731978205), ('APPLE iPhone SE (Red, 128 GB)', 4.334230908537274), ('APPLE iPhone SE (Red, 64 GB)', 4.331495024052318), ('APPLE iPhone SE (Black, 128 GB)', 4.325979995038154)] \n",
      "\n",
      "Piyush Kumar ->  [('APPLE iPhone 11 (Green, 128 GB)', 5.072432977645062), ('REDMI Note 10S (Cosmic Purple, 64 GB)', 4.945931110598668), ('realme 9 Pro 5G (Midnight Black, 128 GB)', 4.811905689991159), ('SAMSUNG Galaxy F12 (Sea Green, 64 GB)', 4.722158649734998), ('SAMSUNG Galaxy F12 (Sky Blue, 64 GB)', 4.657210088694922)] \n",
      "\n",
      "Anurag Singh ->  [('APPLE iPhone 11 (Yellow, 64 GB)', 4.998995226000961), ('APPLE iPhone 11 (Green, 128 GB)', 4.989657423885235), ('APPLE iPhone 12 (Purple, 64 GB)', 4.849272817838096), ('realme Narzo 50A (Oxygen Blue, 128 GB)', 4.8260008116243265), ('APPLE iPhone 12 (Red, 128 GB)', 4.812740345860546)] \n",
      "\n",
      "Dhananjay Kumar ->  [('APPLE iPhone 12 (Green, 64 GB)', 5.13363577727471), ('Infinix Smart 5A (Midnight Black, 32 GB)', 5.117302925926757), ('Infinix Hot 10 Play (Obsidian Black, 64 GB)', 5.029889419608837), ('Infinix Hot 10 Play (Aegean Blue, 64 GB)', 4.995988665282266), ('realme 9i (Prism Blue, 128 GB)', 4.899957336303167)] \n",
      "\n",
      "Vimal Kumar ->  [('Infinix Note 11 (Graphite Black, 64 GB)', 4.8180219250228005), ('SAMSUNG Galaxy F12 (Sky Blue, 128 GB)', 4.7742299225215), ('SAMSUNG Galaxy F12 (Celestial Black, 128 GB)', 4.757061038322099), ('SAMSUNG Galaxy F12 (Sea Green, 128 GB)', 4.7284775446569025), ('realme 9i (Prism Black, 128 GB)', 4.6120039233063395)] \n",
      "\n",
      "Arun kumar ->  [('realme X7 5G (Space Silver, 128 GB)', 4.597276365987632), ('APPLE iPhone 12 Mini (Blue, 64 GB)', 4.4780951408478815), ('REDMI 9 Power (Fiery Red, 128 GB)', 4.462666752052014), ('POCO X3 (Shadow Gray, 64 GB)', 4.442215054587542), ('realme 8 (Cyber Silver, 128 GB)', 4.429125410755076)] \n",
      "\n",
      "Manoj  Kumar  ->  [('Infinix Smart 5 (Aegean Blue, 32 GB)', 4.14954662820674), ('realme GT Master Edition (Luna White, 256 GB)', 4.115951542910119), ('Infinix Smart 5A (Quetzal Cyan, 32 GB)', 3.959023998704276), ('OPPO A53s 5G (Ink Black, 128 GB)', 3.8525288494255836), ('realme GT Master Edition (Cosmos Black, 128 GB)', 3.769253804731568)] \n",
      "\n",
      "Ajit Kumar ->  [('vivo V21 5G (Arctic White, 128 GB)', 4.936579982713958), ('vivo V21 5G (Dusk Blue, 128 GB)', 4.909144960183715), ('APPLE iPhone 12 (Purple, 64 GB)', 4.803818719805032), ('APPLE iPhone 12 (Black, 64 GB)', 4.802949201698173), ('APPLE iPhone 12 (White, 256 GB)', 4.797513865007692)] \n",
      "\n",
      "Rajeev Kumar ->  [('APPLE iPhone SE (Red, 128 GB)', 4.479561850951134), ('SAMSUNG Galaxy F12 (Sky Blue, 64 GB)', 4.390822962843176), ('realme Narzo 30 5G (Racing Silver, 128 GB)', 4.364682649230082), ('realme 9 Pro 5G (Midnight Black, 128 GB)', 4.305428043789268), ('OPPO A53s 5G (Ink Black, 128 GB)', 4.294533866164303)] \n",
      "\n",
      "Deepak  Singh ->  [('APPLE iPhone 11 (White, 128 GB)', 5.289593888207398), ('APPLE iPhone 11 (Black, 64 GB)', 5.242328416648183), ('Infinix Hot 10 Play (7° Purple, 64 GB)', 5.067540126545959), ('realme 8 (Cyber Black, 128 GB)', 4.864930580003816), ('Infinix Note 11 (Graphite Black, 64 GB)', 4.838955306766374)] \n",
      "\n",
      "Guddu Kumar ->  [('OPPO A31 (Lake Green, 64 GB)', 4.659991055572973), ('Infinix Smart HD 2021 (Quartz Green, 32 GB)', 4.565509699966009), ('Nokia 105 DS 2020', 4.519423508779829), ('OPPO Reno6 5G (Stellar Black, 128 GB)', 4.385097934381347), ('OPPO F17 Pro (Matte Black, 128 GB)', 4.353452408312015)] \n",
      "\n",
      "Sunil  Kumar  ->  [('realme Narzo 50A (Oxygen Green, 64 GB)', 4.677446644512626), ('APPLE iPhone 12 Mini (Black, 64 GB)', 4.664910757240209), ('realme Narzo 50A (Oxygen Green, 128 GB)', 4.629535694034016), ('REDMI 9 Power (Blazing Blue, 64 GB)', 4.570560868027747), ('realme Narzo 50A (Oxygen Blue, 64 GB)', 4.568222901297119)] \n",
      "\n",
      "Anand Singh ->  [('APPLE iPhone 12 (Black, 128 GB)', 4.604544900850694), ('APPLE iPhone 12 (Green, 64 GB)', 4.571573213482069), ('APPLE iPhone 12 (Purple, 64 GB)', 4.538717724042147), ('APPLE iPhone 12 (Red, 128 GB)', 4.517866521393346), ('OPPO F17 Pro (Matte Black, 128 GB)', 4.436666374933903)] \n",
      "\n",
      "Aman Gupta ->  [('APPLE iPhone 12 (Red, 128 GB)', 4.924394010475237), ('APPLE iPhone 12 (Green, 64 GB)', 4.890015393344963), ('SAMSUNG Galaxy F12 (Celestial Black, 64 GB)', 4.868233462989871), ('realme 8 (Cyber Silver, 128 GB)', 4.786031726815909), ('realme GT Master Edition (Luna White, 256 GB)', 4.702151308718605)] \n",
      "\n",
      "Abhishek Raj ->  [('APPLE iPhone SE (Black, 64 GB)', 4.755400596676407), ('APPLE iPhone 12 (Green, 64 GB)', 4.738307705044307), ('APPLE iPhone SE (White, 128 GB)', 4.727822287225807), ('APPLE iPhone SE (Red, 64 GB)', 4.722303969048314), ('APPLE iPhone 12 (Blue, 64 GB)', 4.699156574874798)] \n",
      "\n",
      "Nitish Kumar ->  [('OPPO A53s 5G (Ink Black, 128 GB)', 4.611637040644014), ('SAMSUNG Galaxy F12 (Sea Green, 64 GB)', 4.607015237060503), ('APPLE iPhone 12 Mini (Black, 64 GB)', 4.582075134740824), ('SAMSUNG Galaxy F12 (Sky Blue, 64 GB)', 4.581547229662629), ('Infinix Smart 5 (Aegean Blue, 32 GB)', 4.512657455177508)] \n",
      "\n",
      "Narendra Singh ->  [('POCO X3 (Cobalt Blue, 64 GB)', 4.5665771417464835), ('POCO M2 Pro (Two Shades of Black, 64 GB)', 4.553640065558855), ('Xiaomi 11i 5G (Camo Green, 128 GB)', 4.54630782217347), ('realme X7 5G (Space Silver, 128 GB)', 4.539555692335576), ('MOTOROLA G60 (Frosted Champagne, 128 GB)', 4.410368554781202)] \n",
      "\n",
      "Ram ->  [('APPLE iPhone 12 Mini (White, 64 GB)', 4.406953265597271), ('APPLE iPhone SE (Black, 64 GB)', 4.322422060113469), ('APPLE iPhone SE (White, 64 GB)', 4.31339971388455), ('OPPO A53s 5G (Crystal Blue, 128 GB)', 3.9708040898255135), ('realme Narzo 30 5G (Racing Blue, 128 GB)', 3.9397998958663853)] \n",
      "\n",
      "Sunny  Kumar ->  [('APPLE iPhone 12 (Green, 64 GB)', 4.617193484399525), ('Infinix Hot 10 (Amber Red, 64 GB)', 4.307687234828044), ('Infinix Hot 11S (Polar Black, 64 GB)', 4.165452700732879), ('vivo T1 5G (Starlight Black, 128 GB)', 4.124330012966055), ('Infinix Hot 11S (Silver Wave, 128 GB)', 4.1032474394020895)] \n",
      "\n",
      "Manjeet Kumar ->  [('REDMI Note 10S (Frost White, 64 GB)', 4.949280711026028), ('APPLE iPhone SE (Red, 128 GB)', 4.905855676484631), ('Infinix Hot 10 Play (7° Purple, 64 GB)', 4.80561568554288), ('APPLE iPhone SE (White, 64 GB)', 4.754294562040201), ('realme Narzo 50A (Oxygen Green, 128 GB)', 4.704983390229686)] \n",
      "\n",
      "Sourav Kumar ->  [('SAMSUNG Galaxy F12 (Sky Blue, 64 GB)', 5.097599903574803), ('APPLE iPhone 12 (Purple, 64 GB)', 5.095018359511552), ('SAMSUNG Galaxy F12 (Celestial Black, 128 GB)', 5.047324075481933), ('SAMSUNG Galaxy F12 (Sky Blue, 128 GB)', 5.041339321908848), ('realme 8i (Space Purple, 64 GB)', 4.899529465620559)] \n",
      "\n",
      "Manish  Kumar  ->  [('vivo V21 5G (Sunset Dazzle, 256 GB)', 4.96824736769935), ('APPLE iPhone 12 (Blue, 64 GB)', 4.95960809522379), ('APPLE iPhone 11 (Yellow, 128 GB)', 4.937699193500327), ('APPLE iPhone 12 (Black, 64 GB)', 4.930685123329501), ('Infinix Hot 11S (7° Purple, 64 GB)', 4.9066986646017074)] \n",
      "\n",
      "Deepak Sharma ->  [('APPLE iPhone SE (White, 128 GB)', 4.1930160232987825), ('APPLE iPhone SE (Black, 64 GB)', 4.171317119242133), ('OPPO A31 (Fantasy White, 128 GB)', 4.16425095669255), ('vivo V21 5G (Neon Spark, 128 GB)', 4.1383054616781445), ('Infinix Hot 10S (95° Black, 64 GB)', 4.126067972835973)] \n",
      "\n",
      "Pintu Kumar ->  [('OPPO A12 (Deep Blue, 32 GB)', 4.379943780427524), ('Infinix Hot 11S (Green Wave, 128 GB)', 4.332635588102153), ('Infinix Hot 11S (Silver Wave, 128 GB)', 4.279554101845505), ('REDMI 9 Prime (Matte Black, 64 GB)', 4.256463843873098), ('Infinix Smart 5A (Ocean Wave, 32 GB)', 4.21109541060872)] \n",
      "\n",
      "VIKASH KUMAR ->  [('Infinix Hot 11S (Polar Black, 64 GB)', 5.142629609354401), ('realme C11 2021 (Cool Grey, 32 GB)', 4.912791695183277), ('realme 8 Pro (Infinite Black, 128 GB)', 4.823178891644638), ('SAMSUNG Guru Music 2', 4.797621719401871), ('OPPO A12 (Flowing Silver, 64 GB)', 4.795124662996874)] \n",
      "\n",
      "anil kumar ->  [('Infinix Hot 10 (Ocean Wave, 64 GB)', 4.801706243122309), ('APPLE iPhone 11 (Purple, 64 GB)', 4.715155397453948), ('APPLE iPhone 11 (Purple, 128 GB)', 4.668710169990282), ('APPLE iPhone 12 Mini (Blue, 64 GB)', 4.418383893134591), ('APPLE iPhone 12 Mini (Black, 64 GB)', 4.411941839242794)] \n",
      "\n",
      "Rahul Mishra ->  [('APPLE iPhone 12 Mini (White, 64 GB)', 4.838210481144172), ('Redmi 9 (Sky Blue, 64 GB)', 4.813975394609905), ('APPLE iPhone 12 Mini (Black, 64 GB)', 4.7887278091581145), ('SAMSUNG Galaxy F12 (Sky Blue, 128 GB)', 4.630050641545906), ('Infinix Hot 10 Play (Morandi Green, 64 GB)', 4.583186796595005)] \n",
      "\n",
      "Ashok kumar ->  [('Infinix Hot 10 Play (Obsidian Black, 64 GB)', 4.767593403255483), ('OPPO A12 (Black, 32 GB)', 4.499516085966524), ('realme 8 (Cyber Black, 128 GB)', 4.33153029501778), ('realme GT Master Edition (Daybreak Blue, 128 GB)', 4.330104419669588), ('Micromax IN Note 1 (Green, 64 GB)', 4.177524751552873)] \n",
      "\n",
      "MUKESH KUMAR ->  [('Infinix Hot 11S (Silver Wave, 64 GB)', 5.02960926715668), ('Infinix Hot 11S (7° Purple, 128 GB)', 4.9962951979457655), ('Infinix Smart 5A (Midnight Black, 32 GB)', 4.863205819992222), ('Infinix Smart 5A (Quetzal Cyan, 32 GB)', 4.813965520331553), ('MOTOROLA E7 Power (Tahiti Blue, 64 GB)', 4.804575338114319)] \n",
      "\n",
      "Sonu Sharma ->  [('APPLE iPhone 11 (Purple, 128 GB)', 5.074883436928083), ('APPLE iPhone 11 (White, 128 GB)', 5.047626117752553), ('REDMI Note 10S (Cosmic Purple, 128 GB)', 4.831493391592733), ('REDMI 9i (Midnight Black, 64 GB)', 4.78641726704567), ('realme C25Y (Glacier Blue, 128 GB)', 4.764788773316644)] \n",
      "\n",
      "Mohan Kumar ->  [('OPPO A31 (Mystery Black, 64 GB)', 4.6003213952461275), ('OPPO A12 (Deep Blue, 32 GB)', 4.432117673916435), ('APPLE iPhone SE (Black, 128 GB)', 4.411541463673925), ('REDMI Note 9 (Shadow Black, 64 GB)', 4.243612165164428), ('REDMI Note 9 (Aqua Green, 64 GB)', 4.215843530515481)] \n",
      "\n",
      "Abhijeet Kumar ->  [('APPLE iPhone 11 (White, 128 GB)', 4.5673137728932645), ('realme C25Y (Metal Grey, 128 GB)', 4.257331947375878), ('POCO M3 (Cool Blue, 64 GB)', 4.223048104214024), ('realme C25Y (Metal Grey, 64 GB)', 4.222154078386553), ('vivo V23 5G (Sunshine Gold, 128 GB)', 4.1269251205694655)] \n",
      "\n",
      "Shivam Gupta ->  [('Infinix Hot 11S (7° Purple, 128 GB)', 4.704647234573174), ('Infinix Hot 11S (Polar Black, 128 GB)', 4.635199846092027), ('APPLE iPhone 12 Mini (Black, 64 GB)', 4.599368239973634), ('APPLE iPhone 12 Mini (White, 64 GB)', 4.598835429501895), ('Infinix Hot 11S (Green Wave, 128 GB)', 4.590323315250871)] \n",
      "\n",
      "Shashi Kumar ->  [('Infinix Smart 5A (Midnight Black, 32 GB)', 4.253788451061056), ('realme Narzo 30 (Racing Blue, 128 GB)', 4.163821885373184), ('OPPO A12 (Black, 32 GB)', 4.1576024348871385), ('realme Narzo 30 (Racing Blue, 64 GB)', 4.020105041028173), ('realme Narzo 30 (Racing Silver, 64 GB)', 3.953554654461125)] \n",
      "\n",
      "Kamal Kumar ->  [('APPLE iPhone 11 (White, 128 GB)', 5.074122631128233), ('OPPO A12 (Blue, 64 GB)', 5.064991016388431), ('realme C25Y (Glacier Blue, 128 GB)', 4.984032881857518), ('MOTOROLA E7 Power (Coral Red, 64 GB)', 4.692701588122761), ('realme 8 5G (Supersonic Black, 128 GB)', 4.612192100276085)] \n",
      "\n",
      "Pradeep ->  [('APPLE iPhone 12 (Purple, 64 GB)', 4.437658922824747), ('POCO F3 GT (Predator Black, 128 GB)', 4.275638433142401), ('APPLE iPhone 12 Mini (White, 64 GB)', 4.213438067826353), ('realme C25Y (Metal Grey, 128 GB)', 4.1190171568044915), ('REDMI 9 Power (Blazing Blue, 64 GB)', 3.9583740306435096)] \n",
      "\n",
      "Mahesh Kumar ->  [('APPLE iPhone 12 (Red, 128 GB)', 4.722582519148221), ('APPLE iPhone 12 (Purple, 64 GB)', 4.660549973985084), ('APPLE iPhone 12 (White, 256 GB)', 4.640159340895911), ('APPLE iPhone 12 (Blue, 64 GB)', 4.622217061276046), ('Infinix Smart 5A (Ocean Wave, 32 GB)', 4.523899131842252)] \n",
      "\n",
      "Ajay kumar ->  [('APPLE iPhone 11 (White, 64 GB)', 4.842054770623483), ('APPLE iPhone 11 (Black, 128 GB)', 4.8113421052277525), ('APPLE iPhone SE (Black, 128 GB)', 4.676885492256502), ('OPPO A12 (Blue, 32 GB)', 4.494860105869289), ('Infinix Hot 10 (Ocean Wave, 64 GB)', 4.475148758775372)] \n",
      "\n",
      "Chhotu Kumar ->  [('Infinix Hot 11S (7° Purple, 128 GB)', 4.741479598046004), ('realme Narzo 50A (Oxygen Green, 64 GB)', 4.709163624563953), ('Infinix Hot 10 Play (7° Purple, 64 GB)', 4.664487111744348), ('Infinix Hot 11S (Green Wave, 64 GB)', 4.643756071380747), ('Infinix Hot 11S (Green Wave, 64 GB)', 4.643756071380747)] \n",
      "\n",
      "Dharmendra Singh ->  [('APPLE iPhone 11 (Purple, 128 GB)', 4.21187994708596), ('APPLE iPhone 11 (Red, 64 GB)', 3.793557222223335), ('vivo T1 5G (Rainbow Fantasy, 128 GB)', 3.789263057230783), ('APPLE iPhone 11 (Yellow, 128 GB)', 3.770388032023857), ('REDMI 9 Prime (Matte Black, 64 GB)', 3.66054758741604)] \n",
      "\n",
      "Vishal ->  [('APPLE iPhone 12 (White, 64 GB)', 4.4796529472661195), ('realme 8 5G (Supersonic Black, 64 GB)', 4.4331891555781775), ('realme 8 5G (Supersonic Blue, 64 GB)', 4.390324158248412), ('vivo T1 5G (Starlight Black, 128 GB)', 4.157477114206188), ('realme 9i (Prism Black, 128 GB)', 3.9720947545796377)] \n",
      "\n",
      "Kamlesh Kumar ->  [('APPLE iPhone 12 (Black, 64 GB)', 4.986967883122944), ('SAMSUNG Galaxy F12 (Celestial Black, 64 GB)', 4.920524676645558), ('SAMSUNG Galaxy F12 (Celestial Black, 128 GB)', 4.8795921869357635), ('SAMSUNG Galaxy F12 (Sky Blue, 64 GB)', 4.646058725966322), ('Infinix Hot 10 (Amber Red, 64 GB)', 4.595369788410223)] \n",
      "\n",
      "Aman Yadav ->  [('APPLE iPhone 12 (Black, 128 GB)', 5.149740633718531), ('REDMI 9 Power (Mighty Black, 64 GB)', 4.8589960838799), ('realme C25 (Watery Grey, 128 GB)', 4.765975882863063), ('MOTOROLA G60 (Moonless, 128 GB)', 4.690948934167971), ('Infinix Hot 10 Play (Morandi Green, 64 GB)', 4.667725718701522)] \n",
      "\n",
      "Vinoth Kumar ->  [('APPLE iPhone 11 (Purple, 128 GB)', 4.873773767620873), ('SAMSUNG Galaxy F12 (Sky Blue, 128 GB)', 4.566669764552552), ('Xiaomi 11i 5G (Purple Mist, 128 GB)', 4.5303067260579155), ('SAMSUNG Galaxy F12 (Celestial Black, 64 GB)', 4.480872206687839), ('Infinix Smart 5A (Quetzal Cyan, 32 GB)', 4.470574486725417)] \n",
      "\n",
      "Shubham Yadav ->  [('APPLE iPhone 11 (Yellow, 64 GB)', 5.095952967338404), ('APPLE iPhone 11 (Black, 64 GB)', 5.023580245253441), ('APPLE iPhone 11 (Green, 128 GB)', 5.001798287651334), ('APPLE iPhone 11 (White, 128 GB)', 4.991889786739219), ('vivo V21 5G (Arctic White, 128 GB)', 4.963560922710096)] \n",
      "\n",
      "Nikhil Singh ->  [('Micromax IN Note 1 (White, 64 GB)', 4.904250733321261), ('Infinix Smart 5 (Morandi Green, 32 GB)', 4.84153543609828), ('APPLE iPhone SE (White, 128 GB)', 4.804863280739213), ('Nokia TA-1304/105 SS', 4.534609970592092), ('realme Narzo 30 (Racing Blue, 64 GB)', 4.507102140284422)] \n",
      "\n",
      "Shailendra Singh ->  [('APPLE iPhone 12 (Black, 64 GB)', 4.887264310162596), ('SAMSUNG Galaxy F12 (Sea Green, 128 GB)', 4.819400461479917), ('SAMSUNG Galaxy F12 (Sky Blue, 64 GB)', 4.6583923550542305), ('realme Narzo 50A (Oxygen Blue, 64 GB)', 4.111486278354409), ('realme Narzo 50A (Oxygen Green, 128 GB)', 4.098858894372429)] \n",
      "\n",
      "Shubham ->  [('APPLE iPhone 12 (Blue, 64 GB)', 4.357248435414128), ('realme 9i (Prism Black, 64 GB)', 4.169133623368248), ('realme GT Master Edition (Voyager Grey, 256 GB)', 3.8512884844339252), ('LAVA A1', 3.7225613106245308), ('POCO C3 (Arctic Blue, 32 GB)', 3.715579413634493)] \n",
      "\n",
      "Anurag Kumar ->  [('APPLE iPhone 12 (Green, 64 GB)', 4.9460894259520245), ('APPLE iPhone 12 (Red, 128 GB)', 4.936410525673541), ('APPLE iPhone 12 (Purple, 64 GB)', 4.9364067600133215), ('APPLE iPhone 12 (Blue, 64 GB)', 4.909030071002654), ('APPLE iPhone 12 (White, 256 GB)', 4.845108640931083)] \n",
      "\n",
      "Aditya Gupta ->  [('APPLE iPhone SE (Black, 128 GB)', 4.70327814069466), ('APPLE iPhone SE (Black, 64 GB)', 4.664738341812053), ('realme Narzo 50A (Oxygen Green, 128 GB)', 4.641151129328313), ('realme Narzo 20 (Victory Blue, 128 GB)', 4.576087141994905), ('realme GT Master Edition (Luna White, 256 GB)', 4.511981954117609)] \n",
      "\n",
      "Nitin Sharma ->  [('APPLE iPhone SE (Red, 64 GB)', 4.585957919031605), ('APPLE iPhone SE (White, 64 GB)', 4.564838127927089), ('APPLE iPhone 12 Mini (White, 64 GB)', 4.489936481540891), ('OPPO A12 (Blue, 32 GB)', 4.374296563710302), ('realme C21Y (Cross Blue, 32 GB)', 4.262383189049038)] \n",
      "\n",
      "Ravi Kant ->  [('APPLE iPhone 12 (Green, 64 GB)', 4.412648648670604), ('APPLE iPhone 12 (Red, 128 GB)', 4.332269744518416), ('APPLE iPhone 12 (Black, 64 GB)', 4.300969488357834), ('OPPO A33 (Mint Cream, 32 GB)', 3.987023892069178), ('Xiaomi 11i 5G (Camo Green, 128 GB)', 3.9353650244026745)] \n",
      "\n",
      "Rahul Roy ->  [('Infinix Hot 11S (7° Purple, 64 GB)', 4.660596500696581), ('Infinix Hot 11S (7° Purple, 128 GB)', 4.604387742906235), ('Infinix Hot 11S (Silver Wave, 64 GB)', 4.531180518483848), ('realme 8i (Space Black, 64 GB)', 4.513216734045518), ('realme C11 2021 (Cool Blue, 32 GB)', 4.497516319153371)] \n",
      "\n",
      "Sarvesh Kumar ->  [('APPLE iPhone SE (Red, 64 GB)', 4.956542262018008), ('APPLE iPhone SE (Red, 128 GB)', 4.955203599201061), ('APPLE iPhone SE (Red, 128 GB)', 4.955203599201061), ('APPLE iPhone 12 (Green, 64 GB)', 4.920914715128015), ('APPLE iPhone SE (White, 128 GB)', 4.865841781233366)] \n",
      "\n",
      "Alok Kumar ->  [('vivo V21 5G (Neon Spark, 128 GB)', 4.936917335236975), ('APPLE iPhone 12 (Black, 64 GB)', 4.8204071890348565), ('APPLE iPhone 11 (Green, 128 GB)', 4.781314102082656), ('APPLE iPhone 12 (Purple, 64 GB)', 4.779299202352092), ('APPLE iPhone SE (Red, 64 GB)', 4.758151178924164)] \n",
      "\n",
      "Sumit Sharma ->  [('APPLE iPhone 12 (Green, 64 GB)', 4.798803257662846), ('APPLE iPhone 12 (White, 64 GB)', 4.684957795705642), ('APPLE iPhone 12 (Black, 128 GB)', 4.667178841879059), ('APPLE iPhone 12 Mini (White, 64 GB)', 4.452110649513195), ('I Kall K3310', 4.374674830228085)] \n",
      "\n",
      "Ajeet Kumar ->  [('SAMSUNG Galaxy F12 (Celestial Black, 128 GB)', 4.648977542232291), ('SAMSUNG Guru Music 2', 4.586718221438894), ('realme Narzo 30 5G (Racing Blue, 128 GB)', 4.582188686526828), ('realme C11 2021 (Cool Grey, 32 GB)', 4.473287160435788), ('realme 9i (Prism Blue, 128 GB)', 4.395184266148824)] \n",
      "\n",
      "Shahrukh Khan ->  [('APPLE iPhone 12 (Green, 64 GB)', 4.923437169383194), ('APPLE iPhone 12 (Blue, 64 GB)', 4.894334862111084), ('APPLE iPhone 12 (Black, 64 GB)', 4.843176288539546), ('APPLE iPhone 12 Mini (Black, 64 GB)', 4.828466044684215), ('REDMI Note 9 (Shadow Black, 64 GB)', 4.813395891563562)] \n",
      "\n",
      "Harsh Kumar ->  [('APPLE iPhone 11 (Black, 128 GB)', 5.032818170125651), ('APPLE iPhone 12 Mini (Blue, 64 GB)', 4.913655058568564), ('REDMI 9 Power (Mighty Black, 64 GB)', 4.82945964067447), ('realme Narzo 30 (Racing Blue, 64 GB)', 4.751294982542345), ('MOTOROLA G60 (Soft Silver, 128 GB)', 4.658589374670546)] \n",
      "\n",
      "Ranjeet Singh ->  [('APPLE iPhone 12 Mini (White, 64 GB)', 4.93811990277373), ('SAMSUNG Galaxy F22 (Denim Blue, 128 GB)', 4.637863784421053), ('realme Narzo 50A (Oxygen Green, 128 GB)', 4.578681628329126), ('OPPO A12 (Black, 32 GB)', 4.4444712487204185), ('POCO M2 Pro (Out of the Blue, 64 GB)', 4.429435434520466)] \n",
      "\n",
      "SANDEEP KUMAR ->  [('SAMSUNG Galaxy A21s (Blue, 64 GB)', 5.028386853485786), ('APPLE iPhone 12 (White, 256 GB)', 4.977097151899208), ('realme C21 (Cross Black, 64 GB)', 4.933993132737032), ('REDMI 9 Prime (Matte Black, 64 GB)', 4.9118234448404525), ('Infinix Smart 5A (Ocean Wave, 32 GB)', 4.861019361371798)] \n",
      "\n",
      "Durga Prasad ->  [('Infinix Hot 11S (7° Purple, 64 GB)', 4.683512876413902), ('Infinix Hot 11S (Green Wave, 128 GB)', 4.617100397546383), ('Infinix Hot 11S (Green Wave, 128 GB)', 4.617100397546383), ('Infinix Smart 5 (7 Purple, 32 GB)', 4.513043965027463), ('Infinix Hot 11S (7° Purple, 128 GB)', 4.469312017177029)] \n",
      "\n",
      "Manoj Yadav ->  [('REDMI 9i (Nature Green, 64 GB)', 4.59676506522631), ('OPPO F17 Pro (Matte Black, 128 GB)', 4.5337793851581125), ('Infinix Note 11 (Graphite Black, 64 GB)', 4.496268983691393), ('realme Narzo 30 5G (Racing Silver, 128 GB)', 4.4608379558911135), ('vivo V23 5G (Stardust Black, 128 GB)', 4.429470833226536)] \n",
      "\n",
      "Anshul Sharma ->  [('APPLE iPhone 11 (Purple, 128 GB)', 4.757996767460579), ('APPLE iPhone 11 (White, 128 GB)', 4.729944495483046), ('APPLE iPhone 11 (Black, 128 GB)', 4.7036611470303935), ('Infinix Smart 5A (Quetzal Cyan, 32 GB)', 4.531902660992306), ('realme C11 2021 (Cool Grey, 32 GB)', 4.29185144745621)] \n",
      "\n",
      "Rajiv Kumar ->  [('APPLE iPhone 12 (Black, 64 GB)', 4.749275753096699), ('APPLE iPhone SE (Red, 128 GB)', 4.705061387898427), ('APPLE iPhone SE (Red, 64 GB)', 4.668410764094638), ('APPLE iPhone SE (Black, 128 GB)', 4.64737086371124), ('Infinix Hot 10 Play (Obsidian Black, 64 GB)', 4.600247448579772)] \n",
      "\n",
      "Rohan Singh ->  [('APPLE iPhone 12 (Blue, 64 GB)', 4.8669013572423845), ('Infinix Hot 11S (7° Purple, 64 GB)', 4.713547781461274), ('Infinix Hot 11S (Polar Black, 128 GB)', 4.7052515957445396), ('Infinix Hot 11S (7° Purple, 128 GB)', 4.656773103063121), ('realme C25Y (Metal Grey, 128 GB)', 4.426010032675863)] \n",
      "\n",
      "Ranjeet Kumar ->  [('realme Narzo 50i (Mint Green, 32 GB)', 4.9844895060692425), ('SAMSUNG Galaxy F12 (Sky Blue, 64 GB)', 4.876690909908555), ('SAMSUNG Galaxy F12 (Sea Green, 64 GB)', 4.849253627173787), ('APPLE iPhone 12 (Red, 128 GB)', 4.807351772801609), ('Infinix Smart 5A (Quetzal Cyan, 32 GB)', 4.764083701447414)] \n",
      "\n",
      "Priyanshu Kumar ->  [('vivo V21 5G (Sunset Dazzle, 128 GB)', 5.152520612527077), ('realme C21 (Cross Black, 32 GB)', 4.71190289195513), ('Infinix Smart 5 (7 Purple, 32 GB)', 4.701030574178882), ('POCO M2 Pro (Two Shades of Black, 64 GB)', 4.661093883850782), ('realme X7 5G (Space Silver, 128 GB)', 4.614551958170507)] \n",
      "\n",
      "Kaushal Kumar ->  [('SAMSUNG Guru Music 2', 4.660171912415915), ('Kechaoda K112', 4.643728104818925), ('SAMSUNG Galaxy F22 (Denim Black, 128 GB)', 4.629759014723737), ('realme Narzo 30 (Racing Blue, 128 GB)', 4.580381450955459), ('realme 8 (Cyber Black, 128 GB)', 4.490298187244745)] \n",
      "\n",
      "Manjeet Singh ->  [('SAMSUNG Galaxy F12 (Sea Green, 128 GB)', 4.808187776033638), ('realme 8s 5G (Universe Purple, 128 GB)', 4.777423128251314), ('SAMSUNG Galaxy F12 (Celestial Black, 64 GB)', 4.774777747057543), ('realme 8s 5G (Universe Blue, 128 GB)', 4.739650550405469), ('realme GT Master Edition (Cosmos Black, 128 GB)', 4.722262728075069)] \n",
      "\n",
      "Sanjay  Singh ->  [('Infinix Note 11 (Glacier Green, 64 GB)', 4.543446417653715), ('Infinix Note 11 (Graphite Black, 64 GB)', 4.527757078197912), ('Infinix Smart 5 (7 Purple, 32 GB)', 4.338294536422594), ('Infinix Smart 5A (Ocean Wave, 32 GB)', 3.8273428062693955), ('REDMI 9i (Midnight Black, 64 GB)', 3.79018953298918)] \n",
      "\n",
      "Pravesh Kumar ->  [('APPLE iPhone 11 (Yellow, 64 GB)', 5.515478422068675), ('APPLE iPhone SE (White, 128 GB)', 5.467405103100937), ('APPLE iPhone 11 (Red, 64 GB)', 5.421379261117655), ('APPLE iPhone SE (Black, 128 GB)', 5.411038097295652), ('realme Narzo 50A (Oxygen Green, 64 GB)', 5.105329453615734)] \n",
      "\n",
      "RAKESH KUMAR ->  [('realme Narzo 50i (Mint Green, 32 GB)', 4.679539689970156), ('realme Narzo 50i (Carbon Black, 32 GB)', 4.575385544985919), ('Infinix Hot 10 (Amber Red, 64 GB)', 4.5429212059658886), ('Infinix Hot 10 (Amber Red, 64 GB)', 4.5429212059658886), ('Infinix Smart 5 (7 Purple, 32 GB)', 4.489561259831245)] \n",
      "\n",
      "Shubham Singh ->  [('APPLE iPhone 11 (Black, 64 GB)', 4.761054835789747), ('SAMSUNG Galaxy F12 (Sky Blue, 64 GB)', 4.56794634534449), ('realme 8s 5G (Universe Blue, 128 GB)', 4.565685551897365), ('realme 8s 5G (Universe Blue, 128 GB)', 4.565685551897365), ('POCO M3 (Cool Blue, 64 GB)', 4.5481218254822195)] \n",
      "\n",
      "Ajay  Kumar  ->  [('realme Narzo 30 (Racing Silver, 128 GB)', 4.61575086584998), ('OPPO A53s 5G (Ink Black, 128 GB)', 4.501898921308218), ('realme C25_Y (Metal Grey, 64 GB)', 4.453618450773626), ('MOTOROLA G60 (Moonless, 128 GB)', 4.387370515689042), ('POCO C3 (Matte Black, 32 GB)', 4.268577201572877)] \n",
      "\n",
      "Umesh  Kumar ->  [('OPPO A12 (Blue, 64 GB)', 4.914275233365334), ('APPLE iPhone SE (Red, 128 GB)', 4.885297724845395), ('REDMI 9 Power (Fiery Red, 64 GB)', 4.8489087846456655), ('realme 8 5G (Supersonic Black, 64 GB)', 4.843323375275593), ('OPPO A12 (Flowing Silver, 64 GB)', 4.832309721649782)] \n",
      "\n",
      "Ravi Teja ->  [('APPLE iPhone 11 (Red, 64 GB)', 4.851874227381107), ('realme GT Master Edition (Voyager Grey, 256 GB)', 4.170710365187327), ('realme C21Y (Cross Blue, 64 GB)', 3.890578649523847), ('realme X7 5G (Space Silver, 128 GB)', 3.873789782424332), ('REDMI 9i (Midnight Black, 64 GB)', 3.850212313783903)] \n",
      "\n",
      "Surender Kumar ->  [('APPLE iPhone 11 (Green, 128 GB)', 5.1681791677537525), ('APPLE iPhone 11 (White, 128 GB)', 5.147351879397203), ('realme 8s 5G (Universe Purple, 128 GB)', 4.8382015893302075), ('OPPO F17 Pro (Matte Black, 128 GB)', 4.689502236406701), ('POCO M3 Pro 5G (Power Black, 64 GB)', 4.674756531154252)] \n",
      "\n",
      "Sahil Khan ->  [('realme C21 (Cross Blue, 64 GB)', 4.698993750196208), ('APPLE iPhone 12 Mini (White, 64 GB)', 4.682854371038009), ('Infinix Smart 5A (Ocean Wave, 32 GB)', 4.571793043967685), ('Infinix Hot 10 Play (Morandi Green, 64 GB)', 4.547301432288049), ('POCO M3 (Cool Blue, 64 GB)', 4.412573489498891)] \n",
      "\n",
      "Abhay Singh ->  [('APPLE iPhone 11 (White, 128 GB)', 5.2191209159778476), ('APPLE iPhone 11 (Red, 64 GB)', 5.198596052308254), ('APPLE iPhone 11 (Purple, 128 GB)', 5.132038426050776), ('POCO M3 Pro 5G (Cool Blue, 64 GB)', 5.1008106793068055), ('SAMSUNG Galaxy F12 (Celestial Black, 64 GB)', 5.059769874130964)] \n",
      "\n",
      "Naveen ->  [('vivo V21 5G (Arctic White, 128 GB)', 4.898603829033665), ('APPLE iPhone SE (White, 128 GB)', 4.71122521931726), ('APPLE iPhone SE (Black, 64 GB)', 4.69993201601503), ('Micromax X741', 4.685575983995899), ('Infinix Smart 5A (Midnight Black, 32 GB)', 4.645188834734592)] \n",
      "\n",
      "Ujjwal Kumar ->  [('APPLE iPhone 12 (Blue, 64 GB)', 5.008786360086184), ('APPLE iPhone 12 Mini (White, 64 GB)', 5.0029317777877615), ('APPLE iPhone SE (Black, 64 GB)', 4.9648627215966705), ('APPLE iPhone SE (Red, 128 GB)', 4.939896721788617), ('APPLE iPhone SE (Black, 128 GB)', 4.908971171151062)] \n",
      "\n",
      "Pradeep Yadav ->  [('APPLE iPhone 12 (Green, 64 GB)', 4.747454413727089), ('APPLE iPhone SE (Red, 64 GB)', 4.720291055121508), ('APPLE iPhone 12 (Black, 64 GB)', 4.693067352476485), ('APPLE iPhone 12 (White, 256 GB)', 4.618404586867895), ('APPLE iPhone SE (Black, 128 GB)', 4.607008888689697)] \n",
      "\n",
      "Dev Kumar ->  [('APPLE iPhone 12 (Black, 64 GB)', 4.873472582285654), ('APPLE iPhone 12 (Black, 128 GB)', 4.804895806857756), ('realme C25Y (Glacier Blue, 128 GB)', 4.584181208700347), ('REDMI Note 9 (Shadow Black, 64 GB)', 4.475950932820468), ('REDMI Note 9 (Aqua Green, 64 GB)', 4.455263209623733)] \n",
      "\n",
      "Pardeep Kumar ->  [('Infinix Smart 5A (Midnight Black, 32 GB)', 4.65125524425041), ('realme C25 (Watery Grey, 128 GB)', 4.6015207074776505), ('APPLE iPhone SE (Black, 64 GB)', 4.590552810026423), ('realme 8 5G (Supersonic Black, 128 GB)', 4.586979141542074), ('APPLE iPhone SE (Red, 64 GB)', 4.565939922362209)] \n",
      "\n",
      "Kishore Kumar ->  [('APPLE iPhone 11 (Yellow, 64 GB)', 5.146405044533342), ('APPLE iPhone 11 (Purple, 128 GB)', 5.126437779926194), ('APPLE iPhone 11 (Black, 64 GB)', 5.114306284967338), ('APPLE iPhone 11 (Red, 64 GB)', 5.110187152221307), ('vivo T1 5G (Rainbow Fantasy, 128 GB)', 4.691900135037288)] \n",
      "\n",
      "Pappu Kumar ->  [('OPPO A31 (Lake Green, 64 GB)', 4.324195992205529), ('realme C35 (Glowing Black, 64 GB)', 4.308046139533939), ('Infinix Smart 5A (Midnight Black, 32 GB)', 4.271799300592222), ('REDMI 9 Power (Fiery Red, 64 GB)', 4.263368205274989), ('realme C25Y (Glacier Blue, 64 GB)', 4.2480928184188596)] \n",
      "\n",
      "Arvind Singh ->  [('APPLE iPhone 11 (Black, 64 GB)', 4.941732131553738), ('APPLE iPhone 11 (Purple, 128 GB)', 4.933697373955244), ('APPLE iPhone 11 (Green, 128 GB)', 4.922942059386735), ('realme Narzo 50A (Oxygen Green, 64 GB)', 4.821334107980235), ('realme Narzo 50A (Oxygen Green, 128 GB)', 4.785311556776638)] \n",
      "\n",
      "Shubham  Kumar ->  [('Infinix Hot 10 Play (Aegean Blue, 64 GB)', 4.3388106154999635), ('realme GT Master Edition (Cosmos Black, 128 GB)', 4.289068699441924), ('Nokia 105 SS 2021', 4.253667948340087), ('realme Narzo 50i (Mint Green, 32 GB)', 4.190296742393124), ('Infinix Hot 10S (95° Black, 64 GB)', 4.165503843329796)] \n",
      "\n",
      "Rohit ->  [('realme C25Y (Glacier Blue, 64 GB)', 4.758126871175537), ('APPLE iPhone 12 Mini (White, 64 GB)', 4.712143815396143), ('realme 8 (Cyber Silver, 128 GB)', 4.643707692322402), ('realme 9 Pro 5G (Aurora Green, 128 GB)', 4.587562935566252), ('Infinix Smart 5 (7 Purple, 32 GB)', 4.45524497358036)] \n",
      "\n",
      "sanjeev kumar ->  [('realme C20 (Cool Grey, 32 GB)', 4.144176422501327), ('realme Narzo 50A (Oxygen Blue, 64 GB)', 4.080300363037458), ('Infinix Smart 5A (Quetzal Cyan, 32 GB)', 4.008713475266929), ('realme 9 Pro+ 5G (Midnight Black, 128 GB)', 3.8228499985825284), ('realme 8i (Space Black, 64 GB)', 3.725746170070606)] \n",
      "\n",
      "Ravi kumar ->  [('APPLE iPhone 12 (Purple, 64 GB)', 4.648025841061954), ('APPLE iPhone 12 (Blue, 64 GB)', 4.5107565163737675), ('Infinix Hot 11S (Green Wave, 128 GB)', 4.486072173713423), ('REDMI Note 9 (Shadow Black, 64 GB)', 4.250025157096485), ('OPPO Reno6 5G (Aurora, 128 GB)', 4.164958735170335)] \n",
      "\n",
      "Suraj Yadav ->  [('APPLE iPhone 11 (Black, 64 GB)', 4.945993415402224), ('APPLE iPhone 11 (Red, 64 GB)', 4.905027726438771), ('Infinix Smart 5A (Ocean Wave, 32 GB)', 4.3389227782039335), ('Infinix Hot 10 Play (Obsidian Black, 64 GB)', 4.23598485128024), ('REDMI 9 Prime (Matte Black, 64 GB)', 4.2333572375011705)] \n",
      "\n",
      "Bittu Kumar ->  [('SAMSUNG Galaxy F22 (Denim Blue, 128 GB)', 5.022507157231727), ('OPPO A12 (Deep Blue, 32 GB)', 4.93636908846818), ('Infinix Smart 5A (Quetzal Cyan, 32 GB)', 4.8346500293814465), ('realme 8i (Space Black, 128 GB)', 4.8097293487654635), ('realme Narzo 30 (Racing Blue, 64 GB)', 4.7787952105611)] \n",
      "\n",
      "Karthik ->  [('APPLE iPhone 12 (White, 256 GB)', 3.9856954019114657), ('APPLE iPhone 12 (Black, 64 GB)', 3.938961197743703), ('Micromax IN Note 1 (White, 64 GB)', 3.8172162209600495), ('realme C11 2021 (Cool Grey, 64 GB)', 3.7927866516387527), ('SAMSUNG Galaxy F22 (Denim Black, 128 GB)', 3.571860577082917)] \n",
      "\n",
      "Raj Singh ->  [('APPLE iPhone SE (Red, 64 GB)', 5.252623888597618), ('APPLE iPhone 11 (Purple, 64 GB)', 5.1985303780077), ('APPLE iPhone 11 (Purple, 128 GB)', 5.153497928410632), ('REDMI Note 10S (Cosmic Purple, 64 GB)', 5.130016911661892), ('APPLE iPhone 11 (Red, 64 GB)', 5.101042134749271)] \n",
      "\n",
      "Shubham Sharma ->  [('vivo V23 5G (Stardust Black, 128 GB)', 4.404289547976724), ('MOTOROLA G60 (Soft Silver, 128 GB)', 4.39676969163952), ('Infinix Hot 10 Play (7° Purple, 64 GB)', 4.277944961497943), ('Infinix Hot 10 Play (Obsidian Black, 64 GB)', 4.261890367528504), ('MOTOROLA G60 (Moonless, 128 GB)', 4.131601672798999)] \n",
      "\n",
      "Rahul  Gupta ->  [('APPLE iPhone 12 (Black, 64 GB)', 4.960928882692426), ('realme Narzo 50A (Oxygen Green, 128 GB)', 4.90341432880534), ('realme Narzo 50A (Oxygen Blue, 128 GB)', 4.85348956156401), ('realme 8 5G (Supersonic Black, 64 GB)', 4.789444173468254), ('realme Narzo 50i (Mint Green, 32 GB)', 4.7745732286765925)] \n",
      "\n",
      "Sunil Yadav ->  [('APPLE iPhone SE (Black, 64 GB)', 4.378604076668201), ('REDMI Note 9 (Shadow Black, 64 GB)', 4.305237999287023), ('realme C25_Y (Glacier Blue, 128 GB)', 4.1459308570980475), ('Micromax IN Note 1 (Green, 64 GB)', 4.132290578362633), ('realme C25_Y (Metal Grey, 128 GB)', 4.0873037300607535)] \n",
      "\n",
      "Rohit Raj ->  [('POCO M2 Pro (Two Shades of Black, 64 GB)', 4.943127614108958), ('OPPO A12 (Deep Blue, 32 GB)', 4.844843625761568), ('realme C25s (Watery Grey, 128 GB)', 4.835826497182805), ('POCO M3 Pro 5G (Yellow, 64 GB)', 4.769610779096003), ('LAVA A3', 4.735304698972056)] \n",
      "\n",
      "Mahesh ->  [('POCO X3 (Shadow Gray, 64 GB)', 4.811038130274961), ('SAMSUNG Galaxy F12 (Sky Blue, 128 GB)', 4.761004462875428), ('SAMSUNG Galaxy F12 (Sky Blue, 64 GB)', 4.684064666770761), ('POCO X3 (Cobalt Blue, 64 GB)', 4.637662164133181), ('Infinix Smart 5A (Midnight Black, 32 GB)', 4.611257937786418)] \n",
      "\n",
      "Rajesh kumar ->  [('REDMI 9i (Midnight Black, 64 GB)', 4.083580201365694), ('Infinix Hot 10 (Ocean Wave, 64 GB)', 4.0816688975241195), ('OPPO A53s 5G (Ink Black, 128 GB)', 4.072817955990152), ('SAMSUNG Guru Music 2', 4.0608808027374605), ('realme Narzo 30 (Racing Silver, 128 GB)', 3.9951811027111277)] \n",
      "\n",
      "Mukesh Singh ->  [('realme 9 Pro 5G (Sunrise Blue, 128 GB)', 3.9532338583377395), ('realme 8 5G (Supersonic Black, 128 GB)', 3.640993849759124), ('Infinix Smart HD 2021 (Obsidian Black, 32 GB)', 3.598131879630602), ('GIONEE Max (Royal Blue, 32 GB)', 3.3277197892110197), ('REDMI 9 Power (Fiery Red, 64 GB)', 3.0199103900163573)] \n",
      "\n",
      "Nitish  Kumar ->  [('APPLE iPhone 12 (Green, 64 GB)', 5.043510820405252), ('APPLE iPhone 12 (White, 256 GB)', 5.020565998153436), ('APPLE iPhone 12 (Purple, 64 GB)', 5.016042673757205), ('SAMSUNG Galaxy F12 (Sky Blue, 128 GB)', 4.9940477750388546), ('REDMI 9 Power (Blazing Blue, 64 GB)', 4.9823018990298085)] \n",
      "\n",
      "Akshay ->  [('APPLE iPhone 12 (Green, 64 GB)', 5.142884492594906), ('APPLE iPhone 11 (White, 128 GB)', 5.103161909212616), ('APPLE iPhone SE (Black, 64 GB)', 5.043591926051), ('APPLE iPhone 12 (White, 256 GB)', 5.029152584028461), ('APPLE iPhone SE (Red, 64 GB)', 4.926231344612703)] \n",
      "\n",
      "Vishal Gupta ->  [('APPLE iPhone SE (Red, 64 GB)', 4.915628936240129), ('APPLE iPhone 12 Mini (White, 64 GB)', 4.766909286097839), ('Redmi 9A (Midnight Black, 32 GB)', 4.6857040599277076), ('Infinix Hot 10 (Amber Red, 64 GB)', 4.6475947411695255), ('Infinix Hot 10 Play (Aegean Blue, 64 GB)', 4.64336019588144)] \n",
      "\n",
      "UNBOX  4 YOU ->  [('Infinix Hot 11S (Polar Black, 64 GB)', 5.199265499358445), ('Infinix Hot 11S (Polar Black, 128 GB)', 5.19771333732392), ('realme 8i (Space Purple, 64 GB)', 5.171041174798038), ('realme Narzo 30 (Racing Blue, 64 GB)', 5.161429908252896), ('realme C21 (Cross Blue, 64 GB)', 5.145405097821231)] \n",
      "\n",
      "Imran Ali ->  [('APPLE iPhone 11 (Yellow, 128 GB)', 5.068853394612565), ('APPLE iPhone 11 (Black, 128 GB)', 5.0430488388586685), ('SAMSUNG Galaxy F12 (Sky Blue, 64 GB)', 4.813634362890198), ('POCO C31 (Royal Blue, 32 GB)', 4.672699287740466), ('OPPO Reno6 5G (Stellar Black, 128 GB)', 4.665470004536016)] \n",
      "\n",
      "Arif Khan ->  [('APPLE iPhone 11 (Purple, 128 GB)', 5.016290526285636), ('realme 8 5G (Supersonic Black, 64 GB)', 4.8170071942508805), ('Infinix Hot 10 Play (7° Purple, 64 GB)', 4.603086979350883), ('realme Narzo 30 (Racing Blue, 64 GB)', 4.5645648066177165), ('realme C25 (Watery Grey, 128 GB)', 4.468873267163785)] \n",
      "\n",
      "Rakesh  Kumar  ->  [('realme Narzo 30 (Racing Silver, 64 GB)', 4.662722507027723), ('realme Narzo 30 (Racing Blue, 128 GB)', 4.5841761596936434), ('MOTOROLA G60 (Soft Silver, 128 GB)', 4.524213346059739), ('realme Narzo 30 (Racing Blue, 64 GB)', 4.488381666237394), ('POCO M2 Pro (Green and Greener, 64 GB)', 4.380855772114407)] \n",
      "\n",
      "Suraj Singh ->  [('APPLE iPhone 11 (Red, 64 GB)', 4.910630004418748), ('APPLE iPhone 11 (Purple, 128 GB)', 4.87384773132247), ('APPLE iPhone 12 (Purple, 64 GB)', 4.845782583310493), ('APPLE iPhone 11 (Black, 128 GB)', 4.8254802166594), ('realme 8s 5G (Universe Purple, 128 GB)', 4.480941826737312)] \n",
      "\n",
      "Rahul  Sharma ->  [('realme C21 (Cross Black, 64 GB)', 4.057328755187878), ('realme 8 Pro (Infinite Black, 128 GB)', 3.9109687228971883), ('realme 8s 5G (Universe Blue, 128 GB)', 3.8923199924939054), ('APPLE iPhone 12 (Red, 128 GB)', 3.5817950143673203), ('APPLE iPhone 12 (Red, 128 GB)', 3.5817950143673203)] \n",
      "\n",
      "Shivam ->  [('vivo V21 5G (Dusk Blue, 128 GB)', 4.986357262973805), ('realme 8 5G (Supersonic Blue, 64 GB)', 4.4972272743514425), ('realme C20 (Cool Blue, 32 GB)', 3.9799320544575654), ('POCO M2 Pro (Two Shades of Black, 64 GB)', 3.7303716741134867)] \n",
      "\n",
      "Amit Chauhan ->  [('APPLE iPhone 12 (Black, 64 GB)', 4.636067936228772), ('APPLE iPhone 12 (White, 64 GB)', 4.6236264810955205), ('APPLE iPhone 12 (White, 256 GB)', 4.387743334233563), ('OPPO A31 (Mystery Black, 128 GB)', 4.349187937945862), ('REDMI 9 Prime (Matte Black, 64 GB)', 4.2701154829432335)] \n",
      "\n",
      "Raju Kumar ->  [('REDMI 9 Power (Mighty Black, 64 GB)', 4.770282234663568), ('Infinix Hot 10 Play (7° Purple, 64 GB)', 4.75185884178953), ('REDMI 9 Power (Blazing Blue, 64 GB)', 4.708715406337418), ('realme C21 (Cross Black, 32 GB)', 4.704213757760171), ('APPLE iPhone SE (White, 64 GB)', 4.650957190508971)] \n",
      "\n",
      "Durgesh Kumar ->  [('APPLE iPhone 11 (Black, 128 GB)', 4.86214013411884), ('APPLE iPhone 11 (Purple, 64 GB)', 4.838121690242884), ('APPLE iPhone 11 (Yellow, 128 GB)', 4.79954183461714), ('REDMI 9i (Midnight Black, 64 GB)', 4.560246747283666), ('Infinix Hot 10 (Ocean Wave, 64 GB)', 4.415276348002074)] \n",
      "\n",
      "Sourav Ghosh ->  [('APPLE iPhone 12 (Red, 128 GB)', 4.589961449248161), ('APPLE iPhone 12 (Blue, 64 GB)', 4.573785722741232), ('APPLE iPhone 12 (White, 64 GB)', 4.520720293780875), ('realme Narzo 20 (Victory Blue, 128 GB)', 4.457573089317537), ('REDMI 9 Power (Fiery Red, 64 GB)', 4.35683449499888)] \n",
      "\n",
      "Himanshu Verma ->  [('realme Narzo 50A (Oxygen Blue, 64 GB)', 4.750876512365745), ('SAMSUNG Metro 313 Dual Sim', 4.747112273614874), ('realme C21 (Cross Blue, 64 GB)', 4.729820043695547), ('Infinix Hot 10 Play (Aegean Blue, 64 GB)', 4.68552051030526), ('realme C21 (Cross Black, 64 GB)', 4.675802046235149)] \n",
      "\n",
      "Santosh Yadav ->  [('Xiaomi 11i 5G (Stealth Black, 128 GB)', 4.745960663567828), ('realme 8i (Space Black, 128 GB)', 4.699904577395521), ('realme Narzo 30 5G (Racing Blue, 128 GB)', 4.582966741797862), ('realme C21 (Cross Blue, 64 GB)', 4.566459861542804), ('realme C11 2021 (Cool Grey, 64 GB)', 4.530946498468888)] \n",
      "\n",
      "Shakti Singh ->  [('APPLE iPhone 12 (Black, 64 GB)', 4.607095902711035), ('APPLE iPhone 12 (White, 256 GB)', 4.577234612424983), ('REDMI Note 10S (Cosmic Purple, 64 GB)', 4.211672860151819), ('REDMI 9 Power (Mighty Black, 64 GB)', 4.1580325229155175), ('realme 8 (Cyber Black, 128 GB)', 3.992588881390648)] \n",
      "\n",
      "Rohit  Kumar ->  [('APPLE iPhone 12 (Purple, 64 GB)', 4.98681604317269), ('APPLE iPhone 12 (Black, 64 GB)', 4.955588327331383), ('Infinix Smart 5A (Ocean Wave, 32 GB)', 4.7466695201431675), ('REDMI Note 10S (Deep Sea Blue, 128 GB)', 4.6383956367843), ('REDMI Note 10S (Cosmic Purple, 128 GB)', 4.526441321398464)] \n",
      "\n",
      "Rahul Pandey ->  [('Infinix Smart 5 (Aegean Blue, 32 GB)', 4.784780950032632), ('Infinix Smart 5 (7 Purple, 32 GB)', 4.745824015564557), ('OPPO A12 (Black, 32 GB)', 4.589805254550165), ('realme C21Y (Cross Black, 64 GB)', 4.559904848963998), ('realme 8 (Cyber Black, 128 GB)', 4.3486715281219235)] \n",
      "\n",
      "Mukesh Sharma ->  [('APPLE iPhone 12 (White, 256 GB)', 4.6931810655386865), ('Redmi 9 (Sporty Orange, 64 GB)', 4.5567084306147025), ('OPPO A53s 5G (Crystal Blue, 128 GB)', 4.38952382606008), ('MOTOROLA G60 (Soft Silver, 128 GB)', 4.164503302089028), ('realme GT Master Edition (Voyager Grey, 256 GB)', 4.127123121506821)] \n",
      "\n",
      "Aman  Singh ->  [('SAMSUNG Galaxy F12 (Sea Green, 128 GB)', 4.653358872284268), ('realme Narzo 30 (Racing Blue, 64 GB)', 4.490420428120849), ('REDMI 9 Power (Mighty Black, 64 GB)', 4.3926593553064475), ('REDMI 9 Power (Blazing Blue, 64 GB)', 4.38523864825314), ('realme 8 5G (Supersonic Blue, 64 GB)', 4.353544143688497)] \n",
      "\n",
      "SUNIL KUMAR ->  [('APPLE iPhone SE (Black, 128 GB)', 4.627712624239547), ('APPLE iPhone SE (White, 128 GB)', 4.533475802163942), ('Infinix Hot 10 Play (Obsidian Black, 64 GB)', 4.533098402060276), ('APPLE iPhone SE (Red, 128 GB)', 4.527366844784341), ('APPLE iPhone 12 (Purple, 64 GB)', 4.408057711741376)] \n",
      "\n",
      "ABHISHEK KUMAR ->  [('realme 9 Pro 5G (Sunrise Blue, 128 GB)', 4.129290834982325), ('OPPO A31 (Fantasy White, 128 GB)', 4.124957829548092), ('realme 8i (Space Purple, 128 GB)', 4.022143824012442), ('realme C21Y (Cross Blue, 64 GB)', 3.7759877052267), ('MOTOROLA E7 Power (Coral Red, 64 GB)', 3.762611312295198)] \n",
      "\n",
      "Gaurav ->  [('OPPO F17 Pro (Matte Black, 128 GB)', 4.4504215712212805), ('Infinix Hot 10 Play (Morandi Green, 64 GB)', 4.349041870826145), ('SAMSUNG Guru Music 2', 4.276325319631213), ('Infinix Hot 10 Play (7° Purple, 64 GB)', 4.272102319712307), ('realme Narzo 50A (Oxygen Green, 128 GB)', 4.256532117424262)] \n",
      "\n",
      "Arjun Kumar ->  [('Infinix Hot 10 (Amber Red, 64 GB)', 4.957766999736801), ('realme 8 5G (Supersonic Black, 64 GB)', 4.917869796533296), ('realme Narzo 50A (Oxygen Green, 64 GB)', 4.911483394981879), ('LAVA A1', 4.724117984081456), ('OPPO A31 (Lake Green, 64 GB)', 4.708517037782444)] \n",
      "\n",
      "Amresh Kumar ->  [('OPPO A31 (Fantasy White, 128 GB)', 5.29122903061082), ('Xiaomi 11i 5G (Purple Mist, 128 GB)', 5.174601057084545), ('OPPO Reno6 5G (Stellar Black, 128 GB)', 5.0488302026509775), ('Redmi 9A (Midnight Black, 32 GB)', 5.032241289049621), ('OPPO A31 (Mystery Black, 128 GB)', 4.949267004342813)] \n",
      "\n",
      "Himanshu Gupta ->  [('SAMSUNG Galaxy F12 (Sea Green, 128 GB)', 4.330458277672061), ('APPLE iPhone SE (Black, 64 GB)', 4.260864650373664), ('POCO X3 (Shadow Gray, 64 GB)', 4.237233434645781), ('Infinix Note 11 (Glacier Green, 64 GB)', 4.127728696299838), ('realme 8 (Cyber Black, 128 GB)', 4.109325171908369)] \n",
      "\n",
      "ARUN KUMAR ->  [('realme 8i (Space Purple, 128 GB)', 4.531355537416676), ('vivo T1 5G (Rainbow Fantasy, 128 GB)', 4.402704899565549), ('realme C11 2021 (Cool Blue, 32 GB)', 4.3292878982441705), ('realme C21 (Cross Black, 64 GB)', 4.3212163861168165), ('GIONEE Max (Royal Blue, 32 GB)', 3.9393809426000055)] \n",
      "\n",
      "Rakesh kumar ->  [('APPLE iPhone SE (Black, 128 GB)', 4.334876806876201), ('Infinix Hot 10 Play (Morandi Green, 64 GB)', 4.13740223036938), ('realme 8 Pro (Infinite Black, 128 GB)', 3.965241234153699), ('REDMI 9i (Midnight Black, 64 GB)', 3.8478342085012174), ('REDMI 9i (Nature Green, 64 GB)', 3.8060174087664045)] \n",
      "\n",
      "ROHIT KUMAR ->  [('SAMSUNG Galaxy F12 (Sea Green, 64 GB)', 4.812690515582409), ('APPLE iPhone 12 Mini (Black, 64 GB)', 4.7293707257366515)] \n",
      "\n",
      "Nishant Kumar ->  [('APPLE iPhone 12 (Green, 64 GB)', 4.474648885802425), ('APPLE iPhone 12 (White, 256 GB)', 4.451904053267348), ('realme C25Y (Glacier Blue, 64 GB)', 4.390365170169636), ('realme C25Y (Metal Grey, 64 GB)', 4.313645838869789), ('APPLE iPhone 12 Mini (White, 64 GB)', 4.1252404795878865)] \n",
      "\n",
      "Uttam Kumar ->  [('Infinix Hot 11S (Polar Black, 64 GB)', 4.712159389058947), ('Infinix Smart 5 (Morandi Green, 32 GB)', 4.463750063798889), ('realme 8 5G (Supersonic Black, 64 GB)', 4.439704204546895), ('realme C11 2021 (Cool Grey, 64 GB)', 4.4296701941935375), ('LAVA A3', 4.164622235662812)] \n",
      "\n",
      "Anand  Kumar  ->  [('vivo V21 5G (Arctic White, 128 GB)', 5.381192867347195), ('OPPO F17 Pro (Matte Black, 128 GB)', 5.272387216929155), ('Infinix Hot 10 Play (Morandi Green, 64 GB)', 5.178945186891262), ('MOTOROLA G40 Fusion (Dynamic Gray, 128 GB)', 4.906107829782899), ('POCO M2 Pro (Two Shades of Black, 64 GB)', 4.572866385256119)] \n",
      "\n",
      "CPU times: total: 328 ms\n",
      "Wall time: 305 ms\n"
     ]
    }
   ],
   "source": [
    "%%time\n",
    "#recommend top 5 products for test users\n",
    "top_5 = get_top_n(knn_u_pred,5)\n",
    "print('Top 5 recommendations for all test users are: \\n')\n",
    "for key,value in top_5.items(): print(key,'-> ',value,'\\n') # to print all the recommendations for all the users\n",
    "#print('Top 5 recommendations for 3 users are: \\n')\n",
    "#for key,value in {k: v for k, v in top_5.items() if k in ['Amazon Customer','Cliente Amazon',\"Client d'Amazon\"]}.items(): print(key,'-> ',value,'\\n')"
   ]
  },
  {
   "cell_type": "markdown",
   "id": "crucial-delhi",
   "metadata": {
    "papermill": {
     "duration": 0.119787,
     "end_time": "2021-05-17T07:46:55.179109",
     "exception": false,
     "start_time": "2021-05-17T07:46:55.059322",
     "status": "completed"
    },
    "tags": []
   },
   "source": [
    "## 9. Results with cross_validation techniques <a id=\"cross_validation\"></a>\n",
    "[Go to top](#toc)"
   ]
  },
  {
   "cell_type": "code",
   "execution_count": 49,
   "id": "introductory-ghost",
   "metadata": {
    "execution": {
     "iopub.execute_input": "2021-05-17T07:46:55.456450Z",
     "iopub.status.busy": "2021-05-17T07:46:55.451439Z",
     "iopub.status.idle": "2021-05-17T07:47:37.453946Z",
     "shell.execute_reply": "2021-05-17T07:47:37.453368Z"
    },
    "papermill": {
     "duration": 42.158823,
     "end_time": "2021-05-17T07:47:37.454096",
     "exception": false,
     "start_time": "2021-05-17T07:46:55.295273",
     "status": "completed"
    },
    "tags": []
   },
   "outputs": [
    {
     "name": "stdout",
     "output_type": "stream",
     "text": [
      "\n",
      " Mean svd cv score: 1.14 \n",
      "\n",
      "CPU times: total: 17.5 s\n",
      "Wall time: 17.6 s\n"
     ]
    },
    {
     "data": {
      "text/plain": [
       "{'test_rmse': array([1.14343835, 1.13641056, 1.14042036, 1.14485288, 1.14176613]),\n",
       " 'fit_time': (3.3993260860443115,\n",
       "  3.3380088806152344,\n",
       "  3.3426578044891357,\n",
       "  3.287449359893799,\n",
       "  3.2671568393707275),\n",
       " 'test_time': (0.08437490463256836,\n",
       "  0.07641315460205078,\n",
       "  0.09729814529418945,\n",
       "  0.19211602210998535,\n",
       "  0.08118128776550293)}"
      ]
     },
     "execution_count": 49,
     "metadata": {},
     "output_type": "execute_result"
    }
   ],
   "source": [
    "%%time\n",
    "svd_cv = cross_validate(svd,revs50_, measures=['RMSE'], cv=5, verbose=False)\n",
    "print('\\n Mean svd cv score:', round(svd_cv['test_rmse'].mean(),2),'\\n')\n",
    "svd_cv"
   ]
  },
  {
   "cell_type": "code",
   "execution_count": 50,
   "id": "binding-mortgage",
   "metadata": {
    "execution": {
     "iopub.execute_input": "2021-05-17T07:47:37.711588Z",
     "iopub.status.busy": "2021-05-17T07:47:37.706521Z",
     "iopub.status.idle": "2021-05-17T07:49:07.159030Z",
     "shell.execute_reply": "2021-05-17T07:49:07.158337Z"
    },
    "papermill": {
     "duration": 89.586525,
     "end_time": "2021-05-17T07:49:07.159226",
     "exception": false,
     "start_time": "2021-05-17T07:47:37.572701",
     "status": "completed"
    },
    "tags": []
   },
   "outputs": [
    {
     "name": "stdout",
     "output_type": "stream",
     "text": [
      "Estimating biases using als...\n",
      "Computing the pearson_baseline similarity matrix...\n",
      "Done computing similarity matrix.\n",
      "Estimating biases using als...\n",
      "Computing the pearson_baseline similarity matrix...\n",
      "Done computing similarity matrix.\n",
      "Estimating biases using als...\n",
      "Computing the pearson_baseline similarity matrix...\n",
      "Done computing similarity matrix.\n",
      "Estimating biases using als...\n",
      "Computing the pearson_baseline similarity matrix...\n",
      "Done computing similarity matrix.\n",
      "Estimating biases using als...\n",
      "Computing the pearson_baseline similarity matrix...\n",
      "Done computing similarity matrix.\n",
      "\n",
      " Mean knn_i_cv score: 1.11 \n",
      "\n",
      "CPU times: total: 13.2 s\n",
      "Wall time: 13.2 s\n"
     ]
    },
    {
     "data": {
      "text/plain": [
       "{'test_rmse': array([1.09815858, 1.09967841, 1.1147097 , 1.10723145, 1.11250418]),\n",
       " 'fit_time': (0.7876410484313965,\n",
       "  0.6789577007293701,\n",
       "  0.6700072288513184,\n",
       "  0.8003561496734619,\n",
       "  0.8771717548370361),\n",
       " 'test_time': (1.6622064113616943,\n",
       "  1.6145639419555664,\n",
       "  1.8878536224365234,\n",
       "  1.9865126609802246,\n",
       "  1.833333969116211)}"
      ]
     },
     "execution_count": 50,
     "metadata": {},
     "output_type": "execute_result"
    }
   ],
   "source": [
    "%%time\n",
    "knn_i_cv = cross_validate(knn_i,revs50_, measures=['RMSE'], cv=5, verbose=False)\n",
    "print('\\n Mean knn_i_cv score:', round(knn_i_cv['test_rmse'].mean(),2),'\\n')\n",
    "knn_i_cv"
   ]
  },
  {
   "cell_type": "code",
   "execution_count": 51,
   "id": "comparable-actress",
   "metadata": {
    "execution": {
     "iopub.execute_input": "2021-05-17T07:49:07.417132Z",
     "iopub.status.busy": "2021-05-17T07:49:07.416411Z",
     "iopub.status.idle": "2021-05-17T07:49:44.496787Z",
     "shell.execute_reply": "2021-05-17T07:49:44.496259Z"
    },
    "papermill": {
     "duration": 37.209542,
     "end_time": "2021-05-17T07:49:44.496968",
     "exception": false,
     "start_time": "2021-05-17T07:49:07.287426",
     "status": "completed"
    },
    "tags": []
   },
   "outputs": [
    {
     "name": "stdout",
     "output_type": "stream",
     "text": [
      "Estimating biases using als...\n",
      "Computing the pearson_baseline similarity matrix...\n",
      "Done computing similarity matrix.\n",
      "Estimating biases using als...\n",
      "Computing the pearson_baseline similarity matrix...\n",
      "Done computing similarity matrix.\n",
      "Estimating biases using als...\n",
      "Computing the pearson_baseline similarity matrix...\n",
      "Done computing similarity matrix.\n",
      "Estimating biases using als...\n",
      "Computing the pearson_baseline similarity matrix...\n",
      "Done computing similarity matrix.\n",
      "Estimating biases using als...\n",
      "Computing the pearson_baseline similarity matrix...\n",
      "Done computing similarity matrix.\n",
      "\n",
      " Mean knn_u_cv score: 1.16 \n",
      "\n",
      "CPU times: total: 24.5 s\n",
      "Wall time: 24.6 s\n"
     ]
    },
    {
     "data": {
      "text/plain": [
       "{'test_rmse': array([1.16583672, 1.15600691, 1.15735804, 1.13602678, 1.17017785]),\n",
       " 'fit_time': (1.5859951972961426,\n",
       "  1.6711845397949219,\n",
       "  1.7096483707427979,\n",
       "  1.7660894393920898,\n",
       "  1.7846636772155762),\n",
       " 'test_time': (2.863307237625122,\n",
       "  3.007441997528076,\n",
       "  3.0769312381744385,\n",
       "  3.406538963317871,\n",
       "  3.325178623199463)}"
      ]
     },
     "execution_count": 51,
     "metadata": {},
     "output_type": "execute_result"
    }
   ],
   "source": [
    "%%time\n",
    "knn_u_cv = cross_validate(knn_u,revs50_, measures=['RMSE'], cv=5, verbose=False)\n",
    "print('\\n Mean knn_u_cv score:', round(knn_u_cv['test_rmse'].mean(),2),'\\n')\n",
    "knn_u_cv"
   ]
  },
  {
   "cell_type": "code",
   "execution_count": 52,
   "id": "earlier-article",
   "metadata": {
    "execution": {
     "iopub.execute_input": "2021-05-17T07:49:44.793772Z",
     "iopub.status.busy": "2021-05-17T07:49:44.790568Z",
     "iopub.status.idle": "2021-05-17T07:49:44.924472Z",
     "shell.execute_reply": "2021-05-17T07:49:44.923724Z"
    },
    "papermill": {
     "duration": 0.286652,
     "end_time": "2021-05-17T07:49:44.924626",
     "exception": false,
     "start_time": "2021-05-17T07:49:44.637974",
     "status": "completed"
    },
    "tags": []
   },
   "outputs": [
    {
     "data": {
      "text/plain": [
       "<AxesSubplot:>"
      ]
     },
     "execution_count": 52,
     "metadata": {},
     "output_type": "execute_result"
    },
    {
     "data": {
      "image/png": "[encoded data removed]",
      "text/plain": [
       "<Figure size 432x288 with 1 Axes>"
      ]
     },
     "metadata": {
      "needs_background": "light"
     },
     "output_type": "display_data"
    }
   ],
   "source": [
    "# Comparison of RMSE scores(mean cv) from different collaorative algorithms\n",
    "sns.barplot(y=['svd_cv_rmse','knn_i_cv_rmse', 'knn_u_cv_rmse'],\n",
    "            x=[svd_cv['test_rmse'].mean(),knn_i_cv['test_rmse'].mean(), knn_u_cv['test_rmse'].mean()])"
   ]
  },
  {
   "cell_type": "markdown",
   "id": "adopted-decimal",
   "metadata": {
    "papermill": {
     "duration": 0.144415,
     "end_time": "2021-05-17T07:49:45.212985",
     "exception": false,
     "start_time": "2021-05-17T07:49:45.068570",
     "status": "completed"
    },
    "tags": []
   },
   "source": [
    "Thus, for cv scores too, knn_i is giving a better performance"
   ]
  },
  {
   "cell_type": "markdown",
   "id": "lesser-manhattan",
   "metadata": {
    "papermill": {
     "duration": 0.133275,
     "end_time": "2021-05-17T07:49:45.486231",
     "exception": false,
     "start_time": "2021-05-17T07:49:45.352956",
     "status": "completed"
    },
    "tags": []
   },
   "source": [
    "**10: In what business scenario you should use popularity based Recommendation Systems ?** <a id=\"q10\"></a>\n",
    "[Go to top](#toc)\n",
    "\n",
    "> Popularity based recommendation systems can be useful in multiple scenarios like:  \n",
    "> 1. When there is no data about the user and items.\n",
    "> 2. When it is required to show most popular items in different categories along with personalized results like: \n",
    ">     * Most popular punjabi songs or most popular english songs on a music website/app\n",
    ">     * Most popular trend in cwestern wear or traditional wear\n",
    ">     * Most popular holiday packages for honeymoon trips, or bike trips or himalayan trips etc"
   ]
  },
  {
   "cell_type": "markdown",
   "id": "outdoor-error",
   "metadata": {
    "papermill": {
     "duration": 0.133067,
     "end_time": "2021-05-17T07:49:45.756419",
     "exception": false,
     "start_time": "2021-05-17T07:49:45.623352",
     "status": "completed"
    },
    "tags": []
   },
   "source": [
    "**11: In what business scenario you should use CF based Recommendation Systems ?**  <a id=\"q11\"></a>\n",
    "[Go to top](#toc)\n",
    "> Collaborative filtering is useful in scenarios like: \n",
    "> 1. Giving personalised recommendation to the user, when user history or item data is available. Some examples can be:\n",
    ">     * Personalized movie recommendation of movie sites like Netflix, Amazon Prime, Youtube etc"
   ]
  },
  {
   "cell_type": "markdown",
   "id": "every-wealth",
   "metadata": {
    "papermill": {
     "duration": 0.132788,
     "end_time": "2021-05-17T07:49:46.018542",
     "exception": false,
     "start_time": "2021-05-17T07:49:45.885754",
     "status": "completed"
    },
    "tags": []
   },
   "source": [
    "**12: What other possible methods can you think of which can further improve the recommendation for different users ?**  <a id=\"q12\"></a>\n",
    "[Go to top](#toc)\n",
    "> Other from Popularity and Collaborative Filtering, hybrid recommendation methods like Content+Collaborative method, Demographic, Utility based, and Knowledge based recommendation system can also be used."
   ]
  }
 ],
 "metadata": {
  "interpreter": {
   "hash": "369f2c481f4da34e4445cda3fffd2e751bd1c4d706f27375911949ba6bb62e1c"
  },
  "kernelspec": {
   "display_name": "Python 3.10.2 64-bit",
   "language": "python",
   "name": "python3"
  },
  "language_info": {
   "codemirror_mode": {
    "name": "ipython",
    "version": 3
   },
   "file_extension": ".py",
   "mimetype": "text/x-python",
   "name": "python",
   "nbconvert_exporter": "python",
   "pygments_lexer": "ipython3",
   "version": "3.10.2"
  },
  "papermill": {
   "default_parameters": {},
   "duration": 306.194295,
   "end_time": "2021-05-17T07:49:48.236307",
   "environment_variables": {},
   "exception": null,
   "input_path": "__notebook__.ipynb",
   "output_path": "__notebook__.ipynb",
   "parameters": {},
   "start_time": "2021-05-17T07:44:42.042012",
   "version": "2.3.3"
  }
 },
 "nbformat": 4,
 "nbformat_minor": 5
}
