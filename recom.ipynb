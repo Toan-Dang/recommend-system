{
 "cells": [
  {
   "cell_type": "code",
   "execution_count": null,
   "id": "veterinary-azerbaijan",
   "metadata": {
    "_cell_guid": "b1076dfc-b9ad-4769-8c92-a6c4dae69d19",
    "_uuid": "8f2839f25d086af736a60e9eeb907d3b93b6e0e5",
    "papermill": {
     "duration": 0.060519,
     "end_time": "2021-05-17T07:44:50.749596",
     "exception": false,
     "start_time": "2021-05-17T07:44:50.689077",
     "status": "completed"
    },
    "tags": []
   },
   "outputs": [],
   "source": []
  },
  {
   "cell_type": "markdown",
   "id": "smoking-subcommittee",
   "metadata": {
    "papermill": {
     "duration": 0.056985,
     "end_time": "2021-05-17T07:44:50.865198",
     "exception": false,
     "start_time": "2021-05-17T07:44:50.808213",
     "status": "completed"
    },
    "tags": []
   },
   "source": [
    "# Description: \n",
    "\n",
    "\n",
    "* **CONTEXT:** \n",
    "\n",
    "* **DATA DESCRIPTION:**  \n",
    "• author : name of the person who gave the rating  \n",
    "• country : country the person who gave the rating belongs to  \n",
    "• data : date of the rating  \n",
    "• domain: website from which the rating was taken from  \n",
    "• extract: rating content  \n",
    "• language: language in which the rating was given  \n",
    "• product: name of the product/mobile phone for which the rating was given  \n",
    "• score: average rating for the phone  \n",
    "• score_max: highest rating given for the phone  \n",
    "• source: source from where the rating was taken  \n",
    "\n",
    "* **PROJECT OBJECTIVE:** We will build a recommendation system using popularity based and collaborative filtering methods to recommend mobile phones to a user which are most popular and personalised respectively."
   ]
  },
  {
   "cell_type": "markdown",
   "id": "liquid-aspect",
   "metadata": {
    "papermill": {
     "duration": 0.058051,
     "end_time": "2021-05-17T07:44:50.980384",
     "exception": false,
     "start_time": "2021-05-17T07:44:50.922333",
     "status": "completed"
    },
    "tags": []
   },
   "source": [
    "## Table of Contents <a id=\"toc\"></a>\n",
    "* [# Import Libraries](#import_libraries)  \n",
    "1. [Data Prepration and cleaning](#data_prepration)  \n",
    "    1.1. [Load the dataset](#load_data)  \n",
    "    1.2. [Merge dataset](#merge_data)  \n",
    "    1.3. [Basic Analysis](#basic_analysis)  \n",
    "    1.4. [Modification 1: revs1: Data cleaning, Imputation and rounding-off](#clean_impute_round-off)  \n",
    "    1.5. [Data split](#data_split)  \n",
    "2. [Analysis](#analysis)\n",
    "3. [Recommend top 5 mobile phones using popularity based model](#popularity_model)\n",
    "4. [Collaborative filtering based models](#collaborative_filtering)  \n",
    "    4.1 [SVD](#svd)  \n",
    "    4.2 [kNNWithMeans_Item based](#knnwithmeans_item_based)  \n",
    "    4.3 [kNNWithMeans_User based](#knnwithmeans_user_based)  \n",
    "5. [Show RMSE value and comparison](#rmse)  \n",
    "6. [Average ratings for test users](#average_rating)  \n",
    "7. [Summary (findings and Inferences)](#summary_inferences)\n",
    "8. [Recommend top 5 products for test users](#recommend_top_5)  \n",
    "9. [Results with cross_validation techniques](#cross_validation)  \n",
    "10. [In what business scenario you should use popularity based Recommendation Systems?](#q10)  \n",
    "11. [In what business scenario you should use CF based Recommendation Systems ?](#q11)\n",
    "12. [What other possible methods can you think of which can further improve the recommendation for different users ?](#q12)"
   ]
  },
  {
   "cell_type": "markdown",
   "id": "useful-ontario",
   "metadata": {
    "papermill": {
     "duration": 0.057359,
     "end_time": "2021-05-17T07:44:51.097797",
     "exception": false,
     "start_time": "2021-05-17T07:44:51.040438",
     "status": "completed"
    },
    "tags": []
   },
   "source": [
    "## #. Import libraries <a id=\"import_libraries\"></a>\n",
    "[Go to top](#toc)"
   ]
  },
  {
   "cell_type": "markdown",
   "id": "funny-visitor",
   "metadata": {
    "papermill": {
     "duration": 0.057145,
     "end_time": "2021-05-17T07:44:51.212708",
     "exception": false,
     "start_time": "2021-05-17T07:44:51.155563",
     "status": "completed"
    },
    "tags": []
   },
   "source": [
    "[Go to top](#toc)"
   ]
  },
  {
   "cell_type": "code",
   "execution_count": 191,
   "id": "thorough-slovakia",
   "metadata": {
    "execution": {
     "iopub.execute_input": "2021-05-17T07:44:51.366182Z",
     "iopub.status.busy": "2021-05-17T07:44:51.365558Z",
     "iopub.status.idle": "2021-05-17T07:44:51.369037Z",
     "shell.execute_reply": "2021-05-17T07:44:51.368260Z"
    },
    "papermill": {
     "duration": 0.08351,
     "end_time": "2021-05-17T07:44:51.369203",
     "exception": false,
     "start_time": "2021-05-17T07:44:51.285693",
     "status": "completed"
    },
    "tags": []
   },
   "outputs": [],
   "source": [
    "# Main libraries\n",
    "import os\n",
    "import pandas as pd\n",
    "import numpy as np"
   ]
  },
  {
   "cell_type": "code",
   "execution_count": 192,
   "id": "severe-affiliation",
   "metadata": {
    "execution": {
     "iopub.execute_input": "2021-05-17T07:44:51.493664Z",
     "iopub.status.busy": "2021-05-17T07:44:51.493026Z",
     "iopub.status.idle": "2021-05-17T07:44:53.846482Z",
     "shell.execute_reply": "2021-05-17T07:44:53.845719Z"
    },
    "papermill": {
     "duration": 2.419414,
     "end_time": "2021-05-17T07:44:53.846632",
     "exception": false,
     "start_time": "2021-05-17T07:44:51.427218",
     "status": "completed"
    },
    "tags": []
   },
   "outputs": [],
   "source": [
    "# Visualization libraries\n",
    "import matplotlib.pyplot as plt\n",
    "%matplotlib inline\n",
    "import seaborn as sns\n",
    "import plotly.graph_objs as go\n",
    "import plotly.express as px"
   ]
  },
  {
   "cell_type": "code",
   "execution_count": 193,
   "id": "adapted-knowing",
   "metadata": {
    "execution": {
     "iopub.execute_input": "2021-05-17T07:44:53.968522Z",
     "iopub.status.busy": "2021-05-17T07:44:53.967596Z",
     "iopub.status.idle": "2021-05-17T07:44:54.086553Z",
     "shell.execute_reply": "2021-05-17T07:44:54.087123Z"
    },
    "papermill": {
     "duration": 0.182643,
     "end_time": "2021-05-17T07:44:54.087303",
     "exception": false,
     "start_time": "2021-05-17T07:44:53.904660",
     "status": "completed"
    },
    "tags": []
   },
   "outputs": [],
   "source": [
    "# Libraries for recommendation systems\n",
    "from collections import defaultdict\n",
    "from surprise import SVD\n",
    "from surprise import KNNWithMeans\n",
    "from surprise import Dataset\n",
    "from surprise import accuracy\n",
    "from surprise import Reader\n",
    "from surprise.model_selection import cross_validate\n",
    "from surprise.model_selection import train_test_split"
   ]
  },
  {
   "cell_type": "code",
   "execution_count": 194,
   "id": "looking-faculty",
   "metadata": {
    "execution": {
     "iopub.execute_input": "2021-05-17T07:44:54.222506Z",
     "iopub.status.busy": "2021-05-17T07:44:54.208898Z",
     "iopub.status.idle": "2021-05-17T07:45:15.168578Z",
     "shell.execute_reply": "2021-05-17T07:45:15.168039Z"
    },
    "papermill": {
     "duration": 21.023006,
     "end_time": "2021-05-17T07:45:15.168741",
     "exception": false,
     "start_time": "2021-05-17T07:44:54.145735",
     "status": "completed"
    },
    "scrolled": true,
    "tags": []
   },
   "outputs": [],
   "source": [
    "# !pip install translate\n",
    "# !pip install google-trans-new"
   ]
  },
  {
   "cell_type": "code",
   "execution_count": 195,
   "id": "overall-voice",
   "metadata": {
    "execution": {
     "iopub.execute_input": "2021-05-17T07:45:15.329490Z",
     "iopub.status.busy": "2021-05-17T07:45:15.328465Z",
     "iopub.status.idle": "2021-05-17T07:45:15.398580Z",
     "shell.execute_reply": "2021-05-17T07:45:15.397859Z"
    },
    "papermill": {
     "duration": 0.152749,
     "end_time": "2021-05-17T07:45:15.398770",
     "exception": false,
     "start_time": "2021-05-17T07:45:15.246021",
     "status": "completed"
    },
    "tags": []
   },
   "outputs": [],
   "source": [
    "from google_trans_new import google_translator\n",
    "from translate import Translator"
   ]
  },
  {
   "cell_type": "code",
   "execution_count": 196,
   "id": "integral-parcel",
   "metadata": {
    "execution": {
     "iopub.execute_input": "2021-05-17T07:45:15.559564Z",
     "iopub.status.busy": "2021-05-17T07:45:15.558791Z",
     "iopub.status.idle": "2021-05-17T07:45:15.560918Z",
     "shell.execute_reply": "2021-05-17T07:45:15.561399Z"
    },
    "papermill": {
     "duration": 0.083926,
     "end_time": "2021-05-17T07:45:15.561578",
     "exception": false,
     "start_time": "2021-05-17T07:45:15.477652",
     "status": "completed"
    },
    "tags": []
   },
   "outputs": [],
   "source": [
    "import warnings\n",
    "warnings.filterwarnings('ignore')"
   ]
  },
  {
   "cell_type": "code",
   "execution_count": 197,
   "id": "beneficial-yeast",
   "metadata": {
    "execution": {
     "iopub.execute_input": "2021-05-17T07:45:15.718769Z",
     "iopub.status.busy": "2021-05-17T07:45:15.718095Z",
     "iopub.status.idle": "2021-05-17T07:45:15.723926Z",
     "shell.execute_reply": "2021-05-17T07:45:15.723276Z"
    },
    "papermill": {
     "duration": 0.085776,
     "end_time": "2021-05-17T07:45:15.724065",
     "exception": false,
     "start_time": "2021-05-17T07:45:15.638289",
     "status": "completed"
    },
    "tags": []
   },
   "outputs": [],
   "source": [
    "pd.set_option(\"display.max_rows\", 50, \"display.max_columns\", 50)\n",
    "pd.set_option('display.max_colwidth', None)\n",
    "plt.style.use('bmh')\n",
    "# create contants\n",
    "RS=612"
   ]
  },
  {
   "cell_type": "markdown",
   "id": "mexican-jumping",
   "metadata": {
    "papermill": {
     "duration": 0.07622,
     "end_time": "2021-05-17T07:45:15.876784",
     "exception": false,
     "start_time": "2021-05-17T07:45:15.800564",
     "status": "completed"
    },
    "tags": []
   },
   "source": [
    "## 1. Data preparation and basic cleaning <a id=\"data_prepration\"></a>\n",
    "[Go to top](#toc)"
   ]
  },
  {
   "cell_type": "markdown",
   "id": "naval-frank",
   "metadata": {
    "papermill": {
     "duration": 0.077629,
     "end_time": "2021-05-17T07:45:16.033072",
     "exception": false,
     "start_time": "2021-05-17T07:45:15.955443",
     "status": "completed"
    },
    "tags": []
   },
   "source": [
    "[Go to top](#toc)"
   ]
  },
  {
   "cell_type": "markdown",
   "id": "arbitrary-monkey",
   "metadata": {
    "papermill": {
     "duration": 0.076242,
     "end_time": "2021-05-17T07:45:16.185430",
     "exception": false,
     "start_time": "2021-05-17T07:45:16.109188",
     "status": "completed"
    },
    "tags": []
   },
   "source": [
    "### 1.1.  Load the dataset <a id=\"load_data\"></a>\n",
    "[Go to top](#toc)"
   ]
  },
  {
   "cell_type": "code",
   "execution_count": 198,
   "id": "other-surge",
   "metadata": {
    "execution": {
     "iopub.execute_input": "2021-05-17T07:45:16.347075Z",
     "iopub.status.busy": "2021-05-17T07:45:16.346354Z",
     "iopub.status.idle": "2021-05-17T07:45:29.817726Z",
     "shell.execute_reply": "2021-05-17T07:45:29.818203Z"
    },
    "papermill": {
     "duration": 13.556562,
     "end_time": "2021-05-17T07:45:29.818396",
     "exception": false,
     "start_time": "2021-05-17T07:45:16.261834",
     "status": "completed"
    },
    "tags": []
   },
   "outputs": [
    {
     "name": "stdout",
     "output_type": "stream",
     "text": [
      "CPU times: total: 2.22 s\n",
      "Wall time: 2.22 s\n"
     ]
    }
   ],
   "source": [
    "%%time\n",
    "#Loading Data files\n",
    "review_1 = pd.read_csv('feedbacksmall.csv')\n",
    "review_2 = pd.read_csv('feedback.csv')\n"
   ]
  },
  {
   "cell_type": "code",
   "execution_count": 199,
   "id": "architectural-prescription",
   "metadata": {
    "execution": {
     "iopub.execute_input": "2021-05-17T07:45:29.982129Z",
     "iopub.status.busy": "2021-05-17T07:45:29.981439Z",
     "iopub.status.idle": "2021-05-17T07:45:30.010605Z",
     "shell.execute_reply": "2021-05-17T07:45:30.011207Z"
    },
    "papermill": {
     "duration": 0.116226,
     "end_time": "2021-05-17T07:45:30.011379",
     "exception": false,
     "start_time": "2021-05-17T07:45:29.895153",
     "status": "completed"
    },
    "tags": []
   },
   "outputs": [
    {
     "data": {
      "text/html": [
       "<div>\n",
       "<style scoped>\n",
       "    .dataframe tbody tr th:only-of-type {\n",
       "        vertical-align: middle;\n",
       "    }\n",
       "\n",
       "    .dataframe tbody tr th {\n",
       "        vertical-align: top;\n",
       "    }\n",
       "\n",
       "    .dataframe thead th {\n",
       "        text-align: right;\n",
       "    }\n",
       "</style>\n",
       "<table border=\"1\" class=\"dataframe\">\n",
       "  <thead>\n",
       "    <tr style=\"text-align: right;\">\n",
       "      <th></th>\n",
       "      <th>productid</th>\n",
       "      <th>rate</th>\n",
       "      <th>cmt</th>\n",
       "      <th>username</th>\n",
       "      <th>productname</th>\n",
       "    </tr>\n",
       "  </thead>\n",
       "  <tbody>\n",
       "    <tr>\n",
       "      <th>0</th>\n",
       "      <td>626fc73b92862a001100054e</td>\n",
       "      <td>5.0</td>\n",
       "      <td>Very beautiful phone 📱</td>\n",
       "      <td>Naugachhia</td>\n",
       "      <td>Nokia 105 SS</td>\n",
       "    </tr>\n",
       "    <tr>\n",
       "      <th>1</th>\n",
       "      <td>626fc73b92862a001100054e</td>\n",
       "      <td>3.0</td>\n",
       "      <td>Good</td>\n",
       "      <td>Darbhanga</td>\n",
       "      <td>Nokia 105 SS</td>\n",
       "    </tr>\n",
       "    <tr>\n",
       "      <th>2</th>\n",
       "      <td>626fc73b92862a0011000566</td>\n",
       "      <td>5.0</td>\n",
       "      <td>Excellent for battery life and Display. Nice smartphone from samsung.</td>\n",
       "      <td>Mandir Hasaud</td>\n",
       "      <td>SAMSUNG Galaxy M33 5G (Deep Ocean Blue, 128 GB)</td>\n",
       "    </tr>\n",
       "    <tr>\n",
       "      <th>3</th>\n",
       "      <td>626fc73b92862a0011000566</td>\n",
       "      <td>4.0</td>\n",
       "      <td>God awasome phone in this price</td>\n",
       "      <td>Mokokchung</td>\n",
       "      <td>SAMSUNG Galaxy M33 5G (Deep Ocean Blue, 128 GB)</td>\n",
       "    </tr>\n",
       "    <tr>\n",
       "      <th>4</th>\n",
       "      <td>626fc73b92862a0011000566</td>\n",
       "      <td>5.0</td>\n",
       "      <td>Above  par, worth for  money</td>\n",
       "      <td>Madurai</td>\n",
       "      <td>SAMSUNG Galaxy M33 5G (Deep Ocean Blue, 128 GB)</td>\n",
       "    </tr>\n",
       "  </tbody>\n",
       "</table>\n",
       "</div>"
      ],
      "text/plain": [
       "                  productid  rate  \\\n",
       "0  626fc73b92862a001100054e   5.0   \n",
       "1  626fc73b92862a001100054e   3.0   \n",
       "2  626fc73b92862a0011000566   5.0   \n",
       "3  626fc73b92862a0011000566   4.0   \n",
       "4  626fc73b92862a0011000566   5.0   \n",
       "\n",
       "                                                                     cmt  \\\n",
       "0                                                 Very beautiful phone 📱   \n",
       "1                                                                   Good   \n",
       "2  Excellent for battery life and Display. Nice smartphone from samsung.   \n",
       "3                                        God awasome phone in this price   \n",
       "4                                           Above  par, worth for  money   \n",
       "\n",
       "        username                                      productname  \n",
       "0     Naugachhia                                     Nokia 105 SS  \n",
       "1      Darbhanga                                     Nokia 105 SS  \n",
       "2  Mandir Hasaud  SAMSUNG Galaxy M33 5G (Deep Ocean Blue, 128 GB)  \n",
       "3     Mokokchung  SAMSUNG Galaxy M33 5G (Deep Ocean Blue, 128 GB)  \n",
       "4        Madurai  SAMSUNG Galaxy M33 5G (Deep Ocean Blue, 128 GB)  "
      ]
     },
     "execution_count": 199,
     "metadata": {},
     "output_type": "execute_result"
    }
   ],
   "source": [
    "review_1.head()"
   ]
  },
  {
   "cell_type": "code",
   "execution_count": 200,
   "id": "advance-graduation",
   "metadata": {
    "execution": {
     "iopub.execute_input": "2021-05-17T07:45:30.172822Z",
     "iopub.status.busy": "2021-05-17T07:45:30.172139Z",
     "iopub.status.idle": "2021-05-17T07:45:30.190285Z",
     "shell.execute_reply": "2021-05-17T07:45:30.190785Z"
    },
    "papermill": {
     "duration": 0.100497,
     "end_time": "2021-05-17T07:45:30.190971",
     "exception": false,
     "start_time": "2021-05-17T07:45:30.090474",
     "status": "completed"
    },
    "tags": []
   },
   "outputs": [
    {
     "data": {
      "text/html": [
       "<div>\n",
       "<style scoped>\n",
       "    .dataframe tbody tr th:only-of-type {\n",
       "        vertical-align: middle;\n",
       "    }\n",
       "\n",
       "    .dataframe tbody tr th {\n",
       "        vertical-align: top;\n",
       "    }\n",
       "\n",
       "    .dataframe thead th {\n",
       "        text-align: right;\n",
       "    }\n",
       "</style>\n",
       "<table border=\"1\" class=\"dataframe\">\n",
       "  <thead>\n",
       "    <tr style=\"text-align: right;\">\n",
       "      <th></th>\n",
       "      <th>productid</th>\n",
       "      <th>rate</th>\n",
       "      <th>cmt</th>\n",
       "      <th>username</th>\n",
       "      <th>productname</th>\n",
       "    </tr>\n",
       "  </thead>\n",
       "  <tbody>\n",
       "    <tr>\n",
       "      <th>0</th>\n",
       "      <td>626fc73b92862a00110004bd</td>\n",
       "      <td>4</td>\n",
       "      <td>This is best budget phone.... Poco C31, and order this product because I have Poco M2 Reloaded, i was gift this phone to my sister on her birthday, she loved it</td>\n",
       "      <td>Kavi Lama</td>\n",
       "      <td>POCO C31 (Royal Blue, 64 GB)</td>\n",
       "    </tr>\n",
       "    <tr>\n",
       "      <th>1</th>\n",
       "      <td>626fc73b92862a00110004bd</td>\n",
       "      <td>3</td>\n",
       "      <td>Pros :</td>\n",
       "      <td>MOKIM SARKAR</td>\n",
       "      <td>POCO C31 (Royal Blue, 64 GB)</td>\n",
       "    </tr>\n",
       "    <tr>\n",
       "      <th>2</th>\n",
       "      <td>626fc73b92862a00110004bd</td>\n",
       "      <td>5</td>\n",
       "      <td>The best budget phone. Camera clarity is good. Value for money.  Right size phone with light weight. Over all good phone with budget price.</td>\n",
       "      <td>Suresh Kumar.k</td>\n",
       "      <td>POCO C31 (Royal Blue, 64 GB)</td>\n",
       "    </tr>\n",
       "    <tr>\n",
       "      <th>3</th>\n",
       "      <td>626fc73b92862a00110004bd</td>\n",
       "      <td>3</td>\n",
       "      <td>Not soo gud.... Average phone...</td>\n",
       "      <td>Ankur Dhawan</td>\n",
       "      <td>POCO C31 (Royal Blue, 64 GB)</td>\n",
       "    </tr>\n",
       "    <tr>\n",
       "      <th>4</th>\n",
       "      <td>626fc73b92862a00110004bd</td>\n",
       "      <td>5</td>\n",
       "      <td>Outstanding phone at a very outstanding price....it's performance, battery,camera is very good it has nice interface and anyone can easily use it...i didn't expected this product to be this good..but it's on the next level...I am very happy that I bought it..</td>\n",
       "      <td>Ayub Mulla</td>\n",
       "      <td>POCO C31 (Royal Blue, 64 GB)</td>\n",
       "    </tr>\n",
       "  </tbody>\n",
       "</table>\n",
       "</div>"
      ],
      "text/plain": [
       "                  productid  rate  \\\n",
       "0  626fc73b92862a00110004bd     4   \n",
       "1  626fc73b92862a00110004bd     3   \n",
       "2  626fc73b92862a00110004bd     5   \n",
       "3  626fc73b92862a00110004bd     3   \n",
       "4  626fc73b92862a00110004bd     5   \n",
       "\n",
       "                                                                                                                                                                                                                                                                   cmt  \\\n",
       "0                                                                                                    This is best budget phone.... Poco C31, and order this product because I have Poco M2 Reloaded, i was gift this phone to my sister on her birthday, she loved it    \n",
       "1                                                                                                                                                                                                                                                              Pros :    \n",
       "2                                                                                                                          The best budget phone. Camera clarity is good. Value for money.  Right size phone with light weight. Over all good phone with budget price.   \n",
       "3                                                                                                                                                                                                                                    Not soo gud.... Average phone...    \n",
       "4  Outstanding phone at a very outstanding price....it's performance, battery,camera is very good it has nice interface and anyone can easily use it...i didn't expected this product to be this good..but it's on the next level...I am very happy that I bought it..   \n",
       "\n",
       "         username                   productname  \n",
       "0       Kavi Lama  POCO C31 (Royal Blue, 64 GB)  \n",
       "1    MOKIM SARKAR  POCO C31 (Royal Blue, 64 GB)  \n",
       "2  Suresh Kumar.k  POCO C31 (Royal Blue, 64 GB)  \n",
       "3    Ankur Dhawan  POCO C31 (Royal Blue, 64 GB)  \n",
       "4      Ayub Mulla  POCO C31 (Royal Blue, 64 GB)  "
      ]
     },
     "execution_count": 200,
     "metadata": {},
     "output_type": "execute_result"
    }
   ],
   "source": [
    "review_2.head()"
   ]
  },
  {
   "cell_type": "code",
   "execution_count": 201,
   "id": "meaning-count",
   "metadata": {
    "execution": {
     "iopub.execute_input": "2021-05-17T07:45:30.351717Z",
     "iopub.status.busy": "2021-05-17T07:45:30.351084Z",
     "iopub.status.idle": "2021-05-17T07:45:30.360487Z",
     "shell.execute_reply": "2021-05-17T07:45:30.359657Z"
    },
    "papermill": {
     "duration": 0.09104,
     "end_time": "2021-05-17T07:45:30.360687",
     "exception": false,
     "start_time": "2021-05-17T07:45:30.269647",
     "status": "completed"
    },
    "tags": []
   },
   "outputs": [
    {
     "name": "stdout",
     "output_type": "stream",
     "text": [
      "review_1: Rows: 598 and Columns: 5\n",
      "\n",
      "review_2: Rows: 1658160 and Columns: 5\n",
      "\n",
      "Total rows: 1658758\n"
     ]
    }
   ],
   "source": [
    "print(f'review_1: Rows: {review_1.shape[0]} and Columns: {review_1.shape[1]}\\n')\n",
    "print(f'review_2: Rows: {review_2.shape[0]} and Columns: {review_2.shape[1]}\\n')\n",
    "\n",
    "print(f'Total rows: {review_1.shape[0]+review_2.shape[0]}')"
   ]
  },
  {
   "cell_type": "code",
   "execution_count": 202,
   "id": "celtic-criterion",
   "metadata": {
    "execution": {
     "iopub.execute_input": "2021-05-17T07:45:30.526830Z",
     "iopub.status.busy": "2021-05-17T07:45:30.524860Z",
     "iopub.status.idle": "2021-05-17T07:45:30.532756Z",
     "shell.execute_reply": "2021-05-17T07:45:30.532232Z"
    },
    "papermill": {
     "duration": 0.092631,
     "end_time": "2021-05-17T07:45:30.532918",
     "exception": false,
     "start_time": "2021-05-17T07:45:30.440287",
     "status": "completed"
    },
    "tags": []
   },
   "outputs": [
    {
     "name": "stdout",
     "output_type": "stream",
     "text": [
      "Check whether the column names are same in all the dataframes: \n"
     ]
    },
    {
     "data": {
      "text/plain": [
       "True"
      ]
     },
     "execution_count": 202,
     "metadata": {},
     "output_type": "execute_result"
    }
   ],
   "source": [
    "print('Check whether the column names are same in all the dataframes: ')\n",
    "all(np.unique(review_1.columns.tolist()) == np.unique(review_1.columns.tolist()+\n",
    "                                                      review_2.columns.tolist()\n",
    "                                                ))"
   ]
  },
  {
   "cell_type": "markdown",
   "id": "alien-heater",
   "metadata": {
    "papermill": {
     "duration": 0.078987,
     "end_time": "2021-05-17T07:45:30.691682",
     "exception": false,
     "start_time": "2021-05-17T07:45:30.612695",
     "status": "completed"
    },
    "tags": []
   },
   "source": [
    "### 1.2. Merge dataset <a id=\"merge_data\"></a>\n",
    "[Go to top](#toc)"
   ]
  },
  {
   "cell_type": "code",
   "execution_count": 203,
   "id": "finite-scanning",
   "metadata": {
    "execution": {
     "iopub.execute_input": "2021-05-17T07:45:30.914538Z",
     "iopub.status.busy": "2021-05-17T07:45:30.883683Z",
     "iopub.status.idle": "2021-05-17T07:45:31.360564Z",
     "shell.execute_reply": "2021-05-17T07:45:31.361448Z"
    },
    "papermill": {
     "duration": 0.590405,
     "end_time": "2021-05-17T07:45:31.361682",
     "exception": false,
     "start_time": "2021-05-17T07:45:30.771277",
     "status": "completed"
    },
    "tags": []
   },
   "outputs": [
    {
     "name": "stdout",
     "output_type": "stream",
     "text": [
      "reviews: Rows: 1658758 and Columns: 5\n",
      "\n",
      "Top 5 rows of the data: \n"
     ]
    },
    {
     "data": {
      "text/html": [
       "<div>\n",
       "<style scoped>\n",
       "    .dataframe tbody tr th:only-of-type {\n",
       "        vertical-align: middle;\n",
       "    }\n",
       "\n",
       "    .dataframe tbody tr th {\n",
       "        vertical-align: top;\n",
       "    }\n",
       "\n",
       "    .dataframe thead th {\n",
       "        text-align: right;\n",
       "    }\n",
       "</style>\n",
       "<table border=\"1\" class=\"dataframe\">\n",
       "  <thead>\n",
       "    <tr style=\"text-align: right;\">\n",
       "      <th></th>\n",
       "      <th>productid</th>\n",
       "      <th>rate</th>\n",
       "      <th>cmt</th>\n",
       "      <th>username</th>\n",
       "      <th>productname</th>\n",
       "    </tr>\n",
       "  </thead>\n",
       "  <tbody>\n",
       "    <tr>\n",
       "      <th>0</th>\n",
       "      <td>626fc73b92862a001100054e</td>\n",
       "      <td>5.0</td>\n",
       "      <td>Very beautiful phone 📱</td>\n",
       "      <td>Naugachhia</td>\n",
       "      <td>Nokia 105 SS</td>\n",
       "    </tr>\n",
       "    <tr>\n",
       "      <th>1</th>\n",
       "      <td>626fc73b92862a001100054e</td>\n",
       "      <td>3.0</td>\n",
       "      <td>Good</td>\n",
       "      <td>Darbhanga</td>\n",
       "      <td>Nokia 105 SS</td>\n",
       "    </tr>\n",
       "    <tr>\n",
       "      <th>2</th>\n",
       "      <td>626fc73b92862a0011000566</td>\n",
       "      <td>5.0</td>\n",
       "      <td>Excellent for battery life and Display. Nice smartphone from samsung.</td>\n",
       "      <td>Mandir Hasaud</td>\n",
       "      <td>SAMSUNG Galaxy M33 5G (Deep Ocean Blue, 128 GB)</td>\n",
       "    </tr>\n",
       "    <tr>\n",
       "      <th>3</th>\n",
       "      <td>626fc73b92862a0011000566</td>\n",
       "      <td>4.0</td>\n",
       "      <td>God awasome phone in this price</td>\n",
       "      <td>Mokokchung</td>\n",
       "      <td>SAMSUNG Galaxy M33 5G (Deep Ocean Blue, 128 GB)</td>\n",
       "    </tr>\n",
       "    <tr>\n",
       "      <th>4</th>\n",
       "      <td>626fc73b92862a0011000566</td>\n",
       "      <td>5.0</td>\n",
       "      <td>Above  par, worth for  money</td>\n",
       "      <td>Madurai</td>\n",
       "      <td>SAMSUNG Galaxy M33 5G (Deep Ocean Blue, 128 GB)</td>\n",
       "    </tr>\n",
       "  </tbody>\n",
       "</table>\n",
       "</div>"
      ],
      "text/plain": [
       "                  productid  rate  \\\n",
       "0  626fc73b92862a001100054e   5.0   \n",
       "1  626fc73b92862a001100054e   3.0   \n",
       "2  626fc73b92862a0011000566   5.0   \n",
       "3  626fc73b92862a0011000566   4.0   \n",
       "4  626fc73b92862a0011000566   5.0   \n",
       "\n",
       "                                                                     cmt  \\\n",
       "0                                                 Very beautiful phone 📱   \n",
       "1                                                                   Good   \n",
       "2  Excellent for battery life and Display. Nice smartphone from samsung.   \n",
       "3                                        God awasome phone in this price   \n",
       "4                                           Above  par, worth for  money   \n",
       "\n",
       "        username                                      productname  \n",
       "0     Naugachhia                                     Nokia 105 SS  \n",
       "1      Darbhanga                                     Nokia 105 SS  \n",
       "2  Mandir Hasaud  SAMSUNG Galaxy M33 5G (Deep Ocean Blue, 128 GB)  \n",
       "3     Mokokchung  SAMSUNG Galaxy M33 5G (Deep Ocean Blue, 128 GB)  \n",
       "4        Madurai  SAMSUNG Galaxy M33 5G (Deep Ocean Blue, 128 GB)  "
      ]
     },
     "metadata": {},
     "output_type": "display_data"
    },
    {
     "name": "stdout",
     "output_type": "stream",
     "text": [
      "Bottom 5 rows of the data: \n"
     ]
    },
    {
     "data": {
      "text/html": [
       "<div>\n",
       "<style scoped>\n",
       "    .dataframe tbody tr th:only-of-type {\n",
       "        vertical-align: middle;\n",
       "    }\n",
       "\n",
       "    .dataframe tbody tr th {\n",
       "        vertical-align: top;\n",
       "    }\n",
       "\n",
       "    .dataframe thead th {\n",
       "        text-align: right;\n",
       "    }\n",
       "</style>\n",
       "<table border=\"1\" class=\"dataframe\">\n",
       "  <thead>\n",
       "    <tr style=\"text-align: right;\">\n",
       "      <th></th>\n",
       "      <th>productid</th>\n",
       "      <th>rate</th>\n",
       "      <th>cmt</th>\n",
       "      <th>username</th>\n",
       "      <th>productname</th>\n",
       "    </tr>\n",
       "  </thead>\n",
       "  <tbody>\n",
       "    <tr>\n",
       "      <th>1658753</th>\n",
       "      <td>626fc73b92862a0011000867</td>\n",
       "      <td>5.0</td>\n",
       "      <td>Ideal according to price.</td>\n",
       "      <td>Afif  Hossain</td>\n",
       "      <td>POCO M2 Pro (Two Shades of Black, 64 GB)</td>\n",
       "    </tr>\n",
       "    <tr>\n",
       "      <th>1658754</th>\n",
       "      <td>626fc73b92862a0011000867</td>\n",
       "      <td>4.0</td>\n",
       "      <td>Good not better</td>\n",
       "      <td>Flipkart Customer</td>\n",
       "      <td>POCO M2 Pro (Two Shades of Black, 64 GB)</td>\n",
       "    </tr>\n",
       "    <tr>\n",
       "      <th>1658755</th>\n",
       "      <td>626fc73b92862a0011000867</td>\n",
       "      <td>2.0</td>\n",
       "      <td>after 15 days receiver of this phone is damaged 🙁</td>\n",
       "      <td>D C Gupta</td>\n",
       "      <td>POCO M2 Pro (Two Shades of Black, 64 GB)</td>\n",
       "    </tr>\n",
       "    <tr>\n",
       "      <th>1658756</th>\n",
       "      <td>626fc73b92862a0011000867</td>\n",
       "      <td>5.0</td>\n",
       "      <td>12000 main best ha</td>\n",
       "      <td>Keishna Chetry</td>\n",
       "      <td>POCO M2 Pro (Two Shades of Black, 64 GB)</td>\n",
       "    </tr>\n",
       "    <tr>\n",
       "      <th>1658757</th>\n",
       "      <td>626fc73b92862a0011000867</td>\n",
       "      <td>4.0</td>\n",
       "      <td>Value for money</td>\n",
       "      <td>Shiva Kumar</td>\n",
       "      <td>POCO M2 Pro (Two Shades of Black, 64 GB)</td>\n",
       "    </tr>\n",
       "  </tbody>\n",
       "</table>\n",
       "</div>"
      ],
      "text/plain": [
       "                        productid  rate  \\\n",
       "1658753  626fc73b92862a0011000867   5.0   \n",
       "1658754  626fc73b92862a0011000867   4.0   \n",
       "1658755  626fc73b92862a0011000867   2.0   \n",
       "1658756  626fc73b92862a0011000867   5.0   \n",
       "1658757  626fc73b92862a0011000867   4.0   \n",
       "\n",
       "                                                       cmt           username  \\\n",
       "1658753                          Ideal according to price.     Afif  Hossain    \n",
       "1658754                                    Good not better  Flipkart Customer   \n",
       "1658755  after 15 days receiver of this phone is damaged 🙁          D C Gupta   \n",
       "1658756                                 12000 main best ha     Keishna Chetry   \n",
       "1658757                                    Value for money       Shiva Kumar    \n",
       "\n",
       "                                      productname  \n",
       "1658753  POCO M2 Pro (Two Shades of Black, 64 GB)  \n",
       "1658754  POCO M2 Pro (Two Shades of Black, 64 GB)  \n",
       "1658755  POCO M2 Pro (Two Shades of Black, 64 GB)  \n",
       "1658756  POCO M2 Pro (Two Shades of Black, 64 GB)  \n",
       "1658757  POCO M2 Pro (Two Shades of Black, 64 GB)  "
      ]
     },
     "metadata": {},
     "output_type": "display_data"
    }
   ],
   "source": [
    "#Merge the data into a single dataframe \n",
    "reviews = pd.concat([review_1,review_2], ignore_index=True)\n",
    "del review_1, review_2\n",
    "print(f'reviews: Rows: {reviews.shape[0]} and Columns: {reviews.shape[1]}\\n')\n",
    "print('Top 5 rows of the data: ')\n",
    "display(reviews.head())\n",
    "print('Bottom 5 rows of the data: ')\n",
    "display(reviews.tail())"
   ]
  },
  {
   "cell_type": "code",
   "execution_count": 204,
   "id": "pending-rescue",
   "metadata": {
    "execution": {
     "iopub.execute_input": "2021-05-17T07:45:32.265633Z",
     "iopub.status.busy": "2021-05-17T07:45:32.264927Z",
     "iopub.status.idle": "2021-05-17T07:45:32.710670Z",
     "shell.execute_reply": "2021-05-17T07:45:32.711195Z"
    },
    "papermill": {
     "duration": 1.267427,
     "end_time": "2021-05-17T07:45:32.711394",
     "exception": false,
     "start_time": "2021-05-17T07:45:31.443967",
     "status": "completed"
    },
    "tags": []
   },
   "outputs": [
    {
     "name": "stdout",
     "output_type": "stream",
     "text": [
      "<class 'pandas.core.frame.DataFrame'>\n",
      "RangeIndex: 1658758 entries, 0 to 1658757\n",
      "Data columns (total 5 columns):\n",
      " #   Column       Non-Null Count    Dtype  \n",
      "---  ------       --------------    -----  \n",
      " 0   productid    1643466 non-null  object \n",
      " 1   rate         1658757 non-null  float64\n",
      " 2   cmt          1658758 non-null  object \n",
      " 3   username     1658737 non-null  object \n",
      " 4   productname  1658757 non-null  object \n",
      "dtypes: float64(1), object(4)\n",
      "memory usage: 63.3+ MB\n"
     ]
    }
   ],
   "source": [
    "reviews.info()"
   ]
  },
  {
   "cell_type": "markdown",
   "id": "transparent-hybrid",
   "metadata": {
    "papermill": {
     "duration": 0.082535,
     "end_time": "2021-05-17T07:45:32.882950",
     "exception": false,
     "start_time": "2021-05-17T07:45:32.800415",
     "status": "completed"
    },
    "tags": []
   },
   "source": [
    "* Except **rate**  (which are of float type) all other features are of object type \n",
    "* Also, **score, score_max, extract and author**: columns seems to have Null values"
   ]
  },
  {
   "cell_type": "markdown",
   "id": "excellent-airplane",
   "metadata": {
    "papermill": {
     "duration": 0.085299,
     "end_time": "2021-05-17T07:45:33.051639",
     "exception": false,
     "start_time": "2021-05-17T07:45:32.966340",
     "status": "completed"
    },
    "tags": []
   },
   "source": [
    "### 1.3. Basic analysis <a id=\"basic_analysis\"></a>\n",
    "[Go to top](#toc)"
   ]
  },
  {
   "cell_type": "code",
   "execution_count": 205,
   "id": "independent-operation",
   "metadata": {
    "execution": {
     "iopub.execute_input": "2021-05-17T07:45:33.949054Z",
     "iopub.status.busy": "2021-05-17T07:45:33.947715Z",
     "iopub.status.idle": "2021-05-17T07:45:34.404321Z",
     "shell.execute_reply": "2021-05-17T07:45:34.403742Z"
    },
    "papermill": {
     "duration": 1.269751,
     "end_time": "2021-05-17T07:45:34.404462",
     "exception": false,
     "start_time": "2021-05-17T07:45:33.134711",
     "status": "completed"
    },
    "tags": []
   },
   "outputs": [
    {
     "name": "stdout",
     "output_type": "stream",
     "text": [
      "Missing count and percentages for each column are: \n",
      " productid      15292 (0.92%)\n",
      "rate                1 (0.0%)\n",
      "cmt                 0 (0.0%)\n",
      "username           21 (0.0%)\n",
      "productname         1 (0.0%)\n",
      "dtype: object\n"
     ]
    },
    {
     "data": {
      "application/vnd.plotly.v1+json": {
       "config": {
        "plotlyServerURL": "https://plot.ly"
       },
       "data": [
        {
         "alignmentgroup": "True",
         "hovertemplate": "x=%{x}<br>y=%{y}<br>text=%{text}<extra></extra>",
         "legendgroup": "",
         "marker": {
          "color": "#636efa",
          "pattern": {
           "shape": ""
          }
         },
         "name": "",
         "offsetgroup": "",
         "orientation": "v",
         "showlegend": false,
         "text": [
          "15292(0.92%)",
          "1(0.0%)",
          "0(0.0%)",
          "21(0.0%)",
          "1(0.0%)"
         ],
         "textposition": "auto",
         "type": "bar",
         "x": [
          "productid",
          "rate",
          "cmt",
          "username",
          "productname"
         ],
         "xaxis": "x",
         "y": [
          0.92,
          0,
          0,
          0,
          0
         ],
         "yaxis": "y"
        }
       ],
       "layout": {
        "barmode": "relative",
        "legend": {
         "tracegroupgap": 0
        },
        "template": {
         "data": {
          "bar": [
           {
            "error_x": {
             "color": "#2a3f5f"
            },
            "error_y": {
             "color": "#2a3f5f"
            },
            "marker": {
             "line": {
              "color": "#E5ECF6",
              "width": 0.5
             },
             "pattern": {
              "fillmode": "overlay",
              "size": 10,
              "solidity": 0.2
             }
            },
            "type": "bar"
           }
          ],
          "barpolar": [
           {
            "marker": {
             "line": {
              "color": "#E5ECF6",
              "width": 0.5
             },
             "pattern": {
              "fillmode": "overlay",
              "size": 10,
              "solidity": 0.2
             }
            },
            "type": "barpolar"
           }
          ],
          "carpet": [
           {
            "aaxis": {
             "endlinecolor": "#2a3f5f",
             "gridcolor": "white",
             "linecolor": "white",
             "minorgridcolor": "white",
             "startlinecolor": "#2a3f5f"
            },
            "baxis": {
             "endlinecolor": "#2a3f5f",
             "gridcolor": "white",
             "linecolor": "white",
             "minorgridcolor": "white",
             "startlinecolor": "#2a3f5f"
            },
            "type": "carpet"
           }
          ],
          "choropleth": [
           {
            "colorbar": {
             "outlinewidth": 0,
             "ticks": ""
            },
            "type": "choropleth"
           }
          ],
          "contour": [
           {
            "colorbar": {
             "outlinewidth": 0,
             "ticks": ""
            },
            "colorscale": [
             [
              0,
              "#0d0887"
             ],
             [
              0.1111111111111111,
              "#46039f"
             ],
             [
              0.2222222222222222,
              "#7201a8"
             ],
             [
              0.3333333333333333,
              "#9c179e"
             ],
             [
              0.4444444444444444,
              "#bd3786"
             ],
             [
              0.5555555555555556,
              "#d8576b"
             ],
             [
              0.6666666666666666,
              "#ed7953"
             ],
             [
              0.7777777777777778,
              "#fb9f3a"
             ],
             [
              0.8888888888888888,
              "#fdca26"
             ],
             [
              1,
              "#f0f921"
             ]
            ],
            "type": "contour"
           }
          ],
          "contourcarpet": [
           {
            "colorbar": {
             "outlinewidth": 0,
             "ticks": ""
            },
            "type": "contourcarpet"
           }
          ],
          "heatmap": [
           {
            "colorbar": {
             "outlinewidth": 0,
             "ticks": ""
            },
            "colorscale": [
             [
              0,
              "#0d0887"
             ],
             [
              0.1111111111111111,
              "#46039f"
             ],
             [
              0.2222222222222222,
              "#7201a8"
             ],
             [
              0.3333333333333333,
              "#9c179e"
             ],
             [
              0.4444444444444444,
              "#bd3786"
             ],
             [
              0.5555555555555556,
              "#d8576b"
             ],
             [
              0.6666666666666666,
              "#ed7953"
             ],
             [
              0.7777777777777778,
              "#fb9f3a"
             ],
             [
              0.8888888888888888,
              "#fdca26"
             ],
             [
              1,
              "#f0f921"
             ]
            ],
            "type": "heatmap"
           }
          ],
          "heatmapgl": [
           {
            "colorbar": {
             "outlinewidth": 0,
             "ticks": ""
            },
            "colorscale": [
             [
              0,
              "#0d0887"
             ],
             [
              0.1111111111111111,
              "#46039f"
             ],
             [
              0.2222222222222222,
              "#7201a8"
             ],
             [
              0.3333333333333333,
              "#9c179e"
             ],
             [
              0.4444444444444444,
              "#bd3786"
             ],
             [
              0.5555555555555556,
              "#d8576b"
             ],
             [
              0.6666666666666666,
              "#ed7953"
             ],
             [
              0.7777777777777778,
              "#fb9f3a"
             ],
             [
              0.8888888888888888,
              "#fdca26"
             ],
             [
              1,
              "#f0f921"
             ]
            ],
            "type": "heatmapgl"
           }
          ],
          "histogram": [
           {
            "marker": {
             "pattern": {
              "fillmode": "overlay",
              "size": 10,
              "solidity": 0.2
             }
            },
            "type": "histogram"
           }
          ],
          "histogram2d": [
           {
            "colorbar": {
             "outlinewidth": 0,
             "ticks": ""
            },
            "colorscale": [
             [
              0,
              "#0d0887"
             ],
             [
              0.1111111111111111,
              "#46039f"
             ],
             [
              0.2222222222222222,
              "#7201a8"
             ],
             [
              0.3333333333333333,
              "#9c179e"
             ],
             [
              0.4444444444444444,
              "#bd3786"
             ],
             [
              0.5555555555555556,
              "#d8576b"
             ],
             [
              0.6666666666666666,
              "#ed7953"
             ],
             [
              0.7777777777777778,
              "#fb9f3a"
             ],
             [
              0.8888888888888888,
              "#fdca26"
             ],
             [
              1,
              "#f0f921"
             ]
            ],
            "type": "histogram2d"
           }
          ],
          "histogram2dcontour": [
           {
            "colorbar": {
             "outlinewidth": 0,
             "ticks": ""
            },
            "colorscale": [
             [
              0,
              "#0d0887"
             ],
             [
              0.1111111111111111,
              "#46039f"
             ],
             [
              0.2222222222222222,
              "#7201a8"
             ],
             [
              0.3333333333333333,
              "#9c179e"
             ],
             [
              0.4444444444444444,
              "#bd3786"
             ],
             [
              0.5555555555555556,
              "#d8576b"
             ],
             [
              0.6666666666666666,
              "#ed7953"
             ],
             [
              0.7777777777777778,
              "#fb9f3a"
             ],
             [
              0.8888888888888888,
              "#fdca26"
             ],
             [
              1,
              "#f0f921"
             ]
            ],
            "type": "histogram2dcontour"
           }
          ],
          "mesh3d": [
           {
            "colorbar": {
             "outlinewidth": 0,
             "ticks": ""
            },
            "type": "mesh3d"
           }
          ],
          "parcoords": [
           {
            "line": {
             "colorbar": {
              "outlinewidth": 0,
              "ticks": ""
             }
            },
            "type": "parcoords"
           }
          ],
          "pie": [
           {
            "automargin": true,
            "type": "pie"
           }
          ],
          "scatter": [
           {
            "fillpattern": {
             "fillmode": "overlay",
             "size": 10,
             "solidity": 0.2
            },
            "type": "scatter"
           }
          ],
          "scatter3d": [
           {
            "line": {
             "colorbar": {
              "outlinewidth": 0,
              "ticks": ""
             }
            },
            "marker": {
             "colorbar": {
              "outlinewidth": 0,
              "ticks": ""
             }
            },
            "type": "scatter3d"
           }
          ],
          "scattercarpet": [
           {
            "marker": {
             "colorbar": {
              "outlinewidth": 0,
              "ticks": ""
             }
            },
            "type": "scattercarpet"
           }
          ],
          "scattergeo": [
           {
            "marker": {
             "colorbar": {
              "outlinewidth": 0,
              "ticks": ""
             }
            },
            "type": "scattergeo"
           }
          ],
          "scattergl": [
           {
            "marker": {
             "colorbar": {
              "outlinewidth": 0,
              "ticks": ""
             }
            },
            "type": "scattergl"
           }
          ],
          "scattermapbox": [
           {
            "marker": {
             "colorbar": {
              "outlinewidth": 0,
              "ticks": ""
             }
            },
            "type": "scattermapbox"
           }
          ],
          "scatterpolar": [
           {
            "marker": {
             "colorbar": {
              "outlinewidth": 0,
              "ticks": ""
             }
            },
            "type": "scatterpolar"
           }
          ],
          "scatterpolargl": [
           {
            "marker": {
             "colorbar": {
              "outlinewidth": 0,
              "ticks": ""
             }
            },
            "type": "scatterpolargl"
           }
          ],
          "scatterternary": [
           {
            "marker": {
             "colorbar": {
              "outlinewidth": 0,
              "ticks": ""
             }
            },
            "type": "scatterternary"
           }
          ],
          "surface": [
           {
            "colorbar": {
             "outlinewidth": 0,
             "ticks": ""
            },
            "colorscale": [
             [
              0,
              "#0d0887"
             ],
             [
              0.1111111111111111,
              "#46039f"
             ],
             [
              0.2222222222222222,
              "#7201a8"
             ],
             [
              0.3333333333333333,
              "#9c179e"
             ],
             [
              0.4444444444444444,
              "#bd3786"
             ],
             [
              0.5555555555555556,
              "#d8576b"
             ],
             [
              0.6666666666666666,
              "#ed7953"
             ],
             [
              0.7777777777777778,
              "#fb9f3a"
             ],
             [
              0.8888888888888888,
              "#fdca26"
             ],
             [
              1,
              "#f0f921"
             ]
            ],
            "type": "surface"
           }
          ],
          "table": [
           {
            "cells": {
             "fill": {
              "color": "#EBF0F8"
             },
             "line": {
              "color": "white"
             }
            },
            "header": {
             "fill": {
              "color": "#C8D4E3"
             },
             "line": {
              "color": "white"
             }
            },
            "type": "table"
           }
          ]
         },
         "layout": {
          "annotationdefaults": {
           "arrowcolor": "#2a3f5f",
           "arrowhead": 0,
           "arrowwidth": 1
          },
          "autotypenumbers": "strict",
          "coloraxis": {
           "colorbar": {
            "outlinewidth": 0,
            "ticks": ""
           }
          },
          "colorscale": {
           "diverging": [
            [
             0,
             "#8e0152"
            ],
            [
             0.1,
             "#c51b7d"
            ],
            [
             0.2,
             "#de77ae"
            ],
            [
             0.3,
             "#f1b6da"
            ],
            [
             0.4,
             "#fde0ef"
            ],
            [
             0.5,
             "#f7f7f7"
            ],
            [
             0.6,
             "#e6f5d0"
            ],
            [
             0.7,
             "#b8e186"
            ],
            [
             0.8,
             "#7fbc41"
            ],
            [
             0.9,
             "#4d9221"
            ],
            [
             1,
             "#276419"
            ]
           ],
           "sequential": [
            [
             0,
             "#0d0887"
            ],
            [
             0.1111111111111111,
             "#46039f"
            ],
            [
             0.2222222222222222,
             "#7201a8"
            ],
            [
             0.3333333333333333,
             "#9c179e"
            ],
            [
             0.4444444444444444,
             "#bd3786"
            ],
            [
             0.5555555555555556,
             "#d8576b"
            ],
            [
             0.6666666666666666,
             "#ed7953"
            ],
            [
             0.7777777777777778,
             "#fb9f3a"
            ],
            [
             0.8888888888888888,
             "#fdca26"
            ],
            [
             1,
             "#f0f921"
            ]
           ],
           "sequentialminus": [
            [
             0,
             "#0d0887"
            ],
            [
             0.1111111111111111,
             "#46039f"
            ],
            [
             0.2222222222222222,
             "#7201a8"
            ],
            [
             0.3333333333333333,
             "#9c179e"
            ],
            [
             0.4444444444444444,
             "#bd3786"
            ],
            [
             0.5555555555555556,
             "#d8576b"
            ],
            [
             0.6666666666666666,
             "#ed7953"
            ],
            [
             0.7777777777777778,
             "#fb9f3a"
            ],
            [
             0.8888888888888888,
             "#fdca26"
            ],
            [
             1,
             "#f0f921"
            ]
           ]
          },
          "colorway": [
           "#636efa",
           "#EF553B",
           "#00cc96",
           "#ab63fa",
           "#FFA15A",
           "#19d3f3",
           "#FF6692",
           "#B6E880",
           "#FF97FF",
           "#FECB52"
          ],
          "font": {
           "color": "#2a3f5f"
          },
          "geo": {
           "bgcolor": "white",
           "lakecolor": "white",
           "landcolor": "#E5ECF6",
           "showlakes": true,
           "showland": true,
           "subunitcolor": "white"
          },
          "hoverlabel": {
           "align": "left"
          },
          "hovermode": "closest",
          "mapbox": {
           "style": "light"
          },
          "paper_bgcolor": "white",
          "plot_bgcolor": "#E5ECF6",
          "polar": {
           "angularaxis": {
            "gridcolor": "white",
            "linecolor": "white",
            "ticks": ""
           },
           "bgcolor": "#E5ECF6",
           "radialaxis": {
            "gridcolor": "white",
            "linecolor": "white",
            "ticks": ""
           }
          },
          "scene": {
           "xaxis": {
            "backgroundcolor": "#E5ECF6",
            "gridcolor": "white",
            "gridwidth": 2,
            "linecolor": "white",
            "showbackground": true,
            "ticks": "",
            "zerolinecolor": "white"
           },
           "yaxis": {
            "backgroundcolor": "#E5ECF6",
            "gridcolor": "white",
            "gridwidth": 2,
            "linecolor": "white",
            "showbackground": true,
            "ticks": "",
            "zerolinecolor": "white"
           },
           "zaxis": {
            "backgroundcolor": "#E5ECF6",
            "gridcolor": "white",
            "gridwidth": 2,
            "linecolor": "white",
            "showbackground": true,
            "ticks": "",
            "zerolinecolor": "white"
           }
          },
          "shapedefaults": {
           "line": {
            "color": "#2a3f5f"
           }
          },
          "ternary": {
           "aaxis": {
            "gridcolor": "white",
            "linecolor": "white",
            "ticks": ""
           },
           "baxis": {
            "gridcolor": "white",
            "linecolor": "white",
            "ticks": ""
           },
           "bgcolor": "#E5ECF6",
           "caxis": {
            "gridcolor": "white",
            "linecolor": "white",
            "ticks": ""
           }
          },
          "title": {
           "x": 0.05
          },
          "xaxis": {
           "automargin": true,
           "gridcolor": "white",
           "linecolor": "white",
           "ticks": "",
           "title": {
            "standoff": 15
           },
           "zerolinecolor": "white",
           "zerolinewidth": 2
          },
          "yaxis": {
           "automargin": true,
           "gridcolor": "white",
           "linecolor": "white",
           "ticks": "",
           "title": {
            "standoff": 15
           },
           "zerolinecolor": "white",
           "zerolinewidth": 2
          }
         }
        },
        "title": {
         "text": "Count (text) and Percentage(yaxis) of missing values in all the features (data: reviews)"
        },
        "xaxis": {
         "anchor": "y",
         "domain": [
          0,
          1
         ],
         "title": {
          "text": "Features"
         }
        },
        "yaxis": {
         "anchor": "x",
         "domain": [
          0,
          1
         ],
         "title": {
          "text": "Percentage of Missing values"
         }
        }
       }
      }
     },
     "metadata": {},
     "output_type": "display_data"
    }
   ],
   "source": [
    "df=reviews.isna().sum().round(2)\n",
    "df1 = (df*100/reviews.shape[0]).round(2)\n",
    "print('Missing count and percentages for each column are: \\n',df.astype('str') +' ('+ df1.astype('str')+'%)')\n",
    "\n",
    "fig = px.bar(x=df.index, y=df1,text = df.astype('str') +'('+ df1.astype('str')+'%)',\n",
    "            title=\"Count (text) and Percentage(yaxis) of missing values in all the features (data: reviews)\")\n",
    "fig.update_xaxes(title_text= 'Features')\n",
    "fig.update_yaxes(title_text= 'Percentage of Missing values')\n",
    "fig.show()\n",
    "del df, df1"
   ]
  },
  {
   "cell_type": "markdown",
   "id": "clinical-track",
   "metadata": {
    "papermill": {
     "duration": 0.08194,
     "end_time": "2021-05-17T07:45:34.569066",
     "exception": false,
     "start_time": "2021-05-17T07:45:34.487126",
     "status": "completed"
    },
    "tags": []
   },
   "source": [
    "Thus these three features have approx 4.5% missing values\n",
    "'score' and 'score_max' have exactly same number of missing values"
   ]
  },
  {
   "cell_type": "code",
   "execution_count": 206,
   "id": "irish-discrimination",
   "metadata": {
    "execution": {
     "iopub.execute_input": "2021-05-17T07:45:34.740366Z",
     "iopub.status.busy": "2021-05-17T07:45:34.739243Z",
     "iopub.status.idle": "2021-05-17T07:45:39.075128Z",
     "shell.execute_reply": "2021-05-17T07:45:39.075588Z"
    },
    "papermill": {
     "duration": 4.423454,
     "end_time": "2021-05-17T07:45:39.075785",
     "exception": false,
     "start_time": "2021-05-17T07:45:34.652331",
     "status": "completed"
    },
    "tags": []
   },
   "outputs": [
    {
     "name": "stdout",
     "output_type": "stream",
     "text": [
      "Number of unique values in each feature: \n",
      " productid        1085\n",
      "rate                5\n",
      "cmt            358515\n",
      "username       392571\n",
      "productname      1163\n",
      "dtype: int64\n"
     ]
    }
   ],
   "source": [
    "print('Number of unique values in each feature: \\n',reviews.nunique())"
   ]
  },
  {
   "cell_type": "code",
   "execution_count": 207,
   "id": "static-explanation",
   "metadata": {
    "execution": {
     "iopub.execute_input": "2021-05-17T07:45:50.967593Z",
     "iopub.status.busy": "2021-05-17T07:45:50.966841Z",
     "iopub.status.idle": "2021-05-17T07:45:50.970578Z",
     "shell.execute_reply": "2021-05-17T07:45:50.971077Z"
    },
    "papermill": {
     "duration": 0.098559,
     "end_time": "2021-05-17T07:45:50.971294",
     "exception": false,
     "start_time": "2021-05-17T07:45:50.872735",
     "status": "completed"
    },
    "tags": []
   },
   "outputs": [
    {
     "data": {
      "text/plain": [
       "(1658758,)"
      ]
     },
     "execution_count": 207,
     "metadata": {},
     "output_type": "execute_result"
    }
   ],
   "source": [
    "reviews['productname'].shape"
   ]
  },
  {
   "cell_type": "code",
   "execution_count": 208,
   "id": "requested-douglas",
   "metadata": {
    "execution": {
     "iopub.execute_input": "2021-05-17T07:45:51.153629Z",
     "iopub.status.busy": "2021-05-17T07:45:51.152990Z",
     "iopub.status.idle": "2021-05-17T07:45:51.900746Z",
     "shell.execute_reply": "2021-05-17T07:45:51.899745Z"
    },
    "papermill": {
     "duration": 0.840071,
     "end_time": "2021-05-17T07:45:51.900933",
     "exception": false,
     "start_time": "2021-05-17T07:45:51.060862",
     "status": "completed"
    },
    "tags": []
   },
   "outputs": [
    {
     "name": "stdout",
     "output_type": "stream",
     "text": [
      "Distribution of number of ratings per item (Clipped at 10): \n",
      " realme 8 (Cyber Silver, 128 GB)           29406\n",
      "LAVA A1                                   23740\n",
      "SAMSUNG Guru Music 2                      23721\n",
      "POCO M3 (Cool Blue, 64 GB)                18755\n",
      "realme 8 (Cyber Black, 128 GB)            17602\n",
      "Micromax X741                             14643\n",
      "realme Narzo 30 (Racing Silver, 64 GB)    14498\n",
      "Kechaoda K115                             14455\n",
      "I Kall K3310                              13846\n",
      "Nokia 105 SS 2021                         11938\n",
      "Name: productname, dtype: int64\n"
     ]
    },
    {
     "data": {
      "image/png": "[encoded data removed]",
      "text/plain": [
       "<Figure size 432x288 with 1 Axes>"
      ]
     },
     "metadata": {
      "needs_background": "light"
     },
     "output_type": "display_data"
    }
   ],
   "source": [
    "product = reviews['productname'].value_counts()[:10]\n",
    "print('Distribution of number of ratings per item (Clipped at 10): \\n',product)\n",
    "sns.barplot(y=product.index,x=product)\n",
    "plt.tight_layout()\n",
    "plt.show()"
   ]
  },
  {
   "cell_type": "code",
   "execution_count": 209,
   "id": "transparent-consolidation",
   "metadata": {
    "execution": {
     "iopub.execute_input": "2021-05-17T07:45:52.726838Z",
     "iopub.status.busy": "2021-05-17T07:45:52.726183Z",
     "iopub.status.idle": "2021-05-17T07:45:53.759595Z",
     "shell.execute_reply": "2021-05-17T07:45:53.760107Z"
    },
    "papermill": {
     "duration": 1.769676,
     "end_time": "2021-05-17T07:45:53.760302",
     "exception": false,
     "start_time": "2021-05-17T07:45:51.990626",
     "status": "completed"
    },
    "tags": []
   },
   "outputs": [
    {
     "name": "stdout",
     "output_type": "stream",
     "text": [
      "Distribution of number of ratings per user(Clipped at 10): \n",
      " Flipkart Customer    325385\n",
      "Deepak Kumar           1351\n",
      "Amit Kumar             1211\n",
      "Rahul Kumar            1182\n",
      "Ajay Kumar              869\n",
      "Manish Kumar            828\n",
      "Anil Kumar              806\n",
      "Abhishek Kumar          796\n",
      "Pankaj Kumar            777\n",
      "Ravi Kumar              760\n",
      "Name: username, dtype: int64\n"
     ]
    },
    {
     "data": {
      "image/png": "[encoded data removed]",
      "text/plain": [
       "<Figure size 432x288 with 1 Axes>"
      ]
     },
     "metadata": {
      "needs_background": "light"
     },
     "output_type": "display_data"
    }
   ],
   "source": [
    "users = reviews['username'].value_counts(dropna=False)[:10]\n",
    "print('Distribution of number of ratings per user(Clipped at 10): \\n',users)\n",
    "users.index = users.index.map(str)\n",
    "sns.barplot(y=users.index,x=users)\n",
    "plt.tight_layout()\n",
    "plt.show()"
   ]
  },
  {
   "cell_type": "markdown",
   "id": "forced-toyota",
   "metadata": {
    "papermill": {
     "duration": 0.092176,
     "end_time": "2021-05-17T07:45:53.944032",
     "exception": false,
     "start_time": "2021-05-17T07:45:53.851856",
     "status": "completed"
    },
    "tags": []
   },
   "source": [
    "Following observations are made:  \n",
    "1. Most active user is 'Flipkart customer'\n",
    "2. 'Anonymous' and 'unknown' users are those whose names are not known. Thus we can use this to impute blank values in 'username' column\n"
   ]
  },
  {
   "cell_type": "markdown",
   "id": "parallel-rehabilitation",
   "metadata": {
    "papermill": {
     "duration": 0.090405,
     "end_time": "2021-05-17T07:45:54.126189",
     "exception": false,
     "start_time": "2021-05-17T07:45:54.035784",
     "status": "completed"
    },
    "tags": []
   },
   "source": [
    "names like 'einer Kundin', 'einem Kunden','Anonymous' and 'unknown' can be interpreted in the same way i.e. an 'unknown customer'. Let's replace these names too"
   ]
  },
  {
   "cell_type": "code",
   "execution_count": 210,
   "id": "determined-astrology",
   "metadata": {
    "execution": {
     "iopub.execute_input": "2021-05-17T07:45:54.434967Z",
     "iopub.status.busy": "2021-05-17T07:45:54.433722Z",
     "iopub.status.idle": "2021-05-17T07:45:54.812920Z",
     "shell.execute_reply": "2021-05-17T07:45:54.811942Z"
    },
    "papermill": {
     "duration": 0.596729,
     "end_time": "2021-05-17T07:45:54.813082",
     "exception": false,
     "start_time": "2021-05-17T07:45:54.216353",
     "status": "completed"
    },
    "tags": []
   },
   "outputs": [],
   "source": [
    "unknowns = ['anonymous']\n",
    "reviews['username'].replace(to_replace = unknowns, \n",
    "                          value = 'Anonymous', \n",
    "                          inplace=True)"
   ]
  },
  {
   "cell_type": "code",
   "execution_count": 211,
   "id": "occupational-joining",
   "metadata": {
    "execution": {
     "iopub.execute_input": "2021-05-17T07:45:55.620320Z",
     "iopub.status.busy": "2021-05-17T07:45:55.619621Z",
     "iopub.status.idle": "2021-05-17T07:45:56.678353Z",
     "shell.execute_reply": "2021-05-17T07:45:56.677785Z"
    },
    "papermill": {
     "duration": 1.774255,
     "end_time": "2021-05-17T07:45:56.678501",
     "exception": false,
     "start_time": "2021-05-17T07:45:54.904246",
     "status": "completed"
    },
    "tags": []
   },
   "outputs": [
    {
     "name": "stdout",
     "output_type": "stream",
     "text": [
      "Distribution of number of ratings per user(Clipped at 10): \n",
      " Flipkart Customer    325385\n",
      "Deepak Kumar           1351\n",
      "Amit Kumar             1211\n",
      "Rahul Kumar            1182\n",
      "Ajay Kumar              869\n",
      "Manish Kumar            828\n",
      "Anil Kumar              806\n",
      "Abhishek Kumar          796\n",
      "Pankaj Kumar            777\n",
      "Ravi Kumar              760\n",
      "Name: username, dtype: int64\n"
     ]
    },
    {
     "data": {
      "image/png": "[encoded data removed]",
      "text/plain": [
       "<Figure size 432x288 with 1 Axes>"
      ]
     },
     "metadata": {
      "needs_background": "light"
     },
     "output_type": "display_data"
    }
   ],
   "source": [
    "users = reviews['username'].value_counts(dropna=False)[:10]\n",
    "print('Distribution of number of ratings per user(Clipped at 10): \\n',users)\n",
    "users.index = users.index.map(str)\n",
    "sns.barplot(y=users.index,x=users)\n",
    "plt.tight_layout()\n",
    "plt.show()"
   ]
  },
  {
   "cell_type": "code",
   "execution_count": 212,
   "id": "pointed-helmet",
   "metadata": {
    "execution": {
     "iopub.execute_input": "2021-05-17T07:45:56.871495Z",
     "iopub.status.busy": "2021-05-17T07:45:56.870776Z",
     "iopub.status.idle": "2021-05-17T07:45:56.893472Z",
     "shell.execute_reply": "2021-05-17T07:45:56.892896Z"
    },
    "papermill": {
     "duration": 0.122428,
     "end_time": "2021-05-17T07:45:56.893616",
     "exception": false,
     "start_time": "2021-05-17T07:45:56.771188",
     "status": "completed"
    },
    "tags": []
   },
   "outputs": [
    {
     "name": "stdout",
     "output_type": "stream",
     "text": [
      "Uniqe values in the \"score\" feature: \n",
      " [ 5.  3.  4.  1.  2. nan]\n"
     ]
    }
   ],
   "source": [
    "# Let's check the score column of the data\n",
    "print('Uniqe values in the \"score\" feature: \\n',reviews.rate.unique())"
   ]
  },
  {
   "cell_type": "markdown",
   "id": "italian-handy",
   "metadata": {
    "papermill": {
     "duration": 0.09709,
     "end_time": "2021-05-17T07:45:57.085798",
     "exception": false,
     "start_time": "2021-05-17T07:45:56.988708",
     "status": "completed"
    },
    "tags": []
   },
   "source": [
    "Let's round it off to nearest integer"
   ]
  },
  {
   "cell_type": "code",
   "execution_count": 213,
   "id": "australian-toolbox",
   "metadata": {
    "execution": {
     "iopub.execute_input": "2021-05-17T07:45:57.294367Z",
     "iopub.status.busy": "2021-05-17T07:45:57.293610Z",
     "iopub.status.idle": "2021-05-17T07:45:57.302222Z",
     "shell.execute_reply": "2021-05-17T07:45:57.301512Z"
    },
    "papermill": {
     "duration": 0.12343,
     "end_time": "2021-05-17T07:45:57.302381",
     "exception": false,
     "start_time": "2021-05-17T07:45:57.178951",
     "status": "completed"
    },
    "tags": []
   },
   "outputs": [],
   "source": [
    "relevant_features=['username','productname','rate']\n"
   ]
  },
  {
   "cell_type": "code",
   "execution_count": 214,
   "id": "romantic-excess",
   "metadata": {
    "execution": {
     "iopub.execute_input": "2021-05-17T07:45:57.521405Z",
     "iopub.status.busy": "2021-05-17T07:45:57.520405Z",
     "iopub.status.idle": "2021-05-17T07:46:00.205927Z",
     "shell.execute_reply": "2021-05-17T07:46:00.204869Z"
    },
    "papermill": {
     "duration": 2.803576,
     "end_time": "2021-05-17T07:46:00.206130",
     "exception": false,
     "start_time": "2021-05-17T07:45:57.402554",
     "status": "completed"
    },
    "tags": []
   },
   "outputs": [
    {
     "name": "stdout",
     "output_type": "stream",
     "text": [
      "Number of duplicate rows:  205758\n"
     ]
    }
   ],
   "source": [
    "print('Number of duplicate rows: ', reviews.duplicated().sum())"
   ]
  },
  {
   "cell_type": "code",
   "execution_count": 215,
   "id": "secondary-coverage",
   "metadata": {
    "execution": {
     "iopub.execute_input": "2021-05-17T07:46:00.399779Z",
     "iopub.status.busy": "2021-05-17T07:46:00.399043Z",
     "iopub.status.idle": "2021-05-17T07:46:00.402808Z",
     "shell.execute_reply": "2021-05-17T07:46:00.402160Z"
    },
    "papermill": {
     "duration": 0.102025,
     "end_time": "2021-05-17T07:46:00.403027",
     "exception": false,
     "start_time": "2021-05-17T07:46:00.301002",
     "status": "completed"
    },
    "tags": []
   },
   "outputs": [
    {
     "name": "stdout",
     "output_type": "stream",
     "text": [
      "5\n",
      "1658758\n"
     ]
    }
   ],
   "source": [
    "orgnl_rows = reviews.shape[0]\n",
    "orgnl_columns = reviews.shape[1]\n",
    "\n",
    "print(orgnl_columns)\n",
    "print(orgnl_rows)"
   ]
  },
  {
   "cell_type": "markdown",
   "id": "grand-poison",
   "metadata": {
    "papermill": {
     "duration": 0.094124,
     "end_time": "2021-05-17T07:46:00.591614",
     "exception": false,
     "start_time": "2021-05-17T07:46:00.497490",
     "status": "completed"
    },
    "tags": []
   },
   "source": [
    "### 1.4. Modification 1: revs1: Data cleaning, Imputation and rounding-off <a id=\"clean_impute_round-off\"></a>\n",
    "[Go to top](#toc)"
   ]
  },
  {
   "cell_type": "code",
   "execution_count": 216,
   "id": "packed-pontiac",
   "metadata": {
    "execution": {
     "iopub.execute_input": "2021-05-17T07:46:00.787574Z",
     "iopub.status.busy": "2021-05-17T07:46:00.786785Z",
     "iopub.status.idle": "2021-05-17T07:46:03.214839Z",
     "shell.execute_reply": "2021-05-17T07:46:03.214351Z"
    },
    "papermill": {
     "duration": 2.52923,
     "end_time": "2021-05-17T07:46:03.214998",
     "exception": false,
     "start_time": "2021-05-17T07:46:00.685768",
     "status": "completed"
    },
    "tags": []
   },
   "outputs": [
    {
     "name": "stdout",
     "output_type": "stream",
     "text": [
      "Step1: revs1 Shape after removing irrelevant features: Rows: 1658758 and Columns: 3\n",
      "\n",
      "Step2: Round-off: Unique values in the \"score\" feature(after rounding-off): \n",
      " [5, 3, 4, 1, 2, <NA>]\n",
      "\n",
      "Step3: Imputation of \"rate\"  with median and \"username\" with \"Anonymous\"\n",
      "\n",
      "Step4: revs1 Shape(after removing missing values): Rows: 1658729 and Columns: 3\n",
      "\n",
      "Step5: revs1 Shape(after removing duplicates): Rows: 1205792 and Columns: 3\n",
      "\n",
      "Overall 27.31% samples are dropped\n",
      "\n"
     ]
    },
    {
     "data": {
      "text/html": [
       "<div>\n",
       "<style scoped>\n",
       "    .dataframe tbody tr th:only-of-type {\n",
       "        vertical-align: middle;\n",
       "    }\n",
       "\n",
       "    .dataframe tbody tr th {\n",
       "        vertical-align: top;\n",
       "    }\n",
       "\n",
       "    .dataframe thead th {\n",
       "        text-align: right;\n",
       "    }\n",
       "</style>\n",
       "<table border=\"1\" class=\"dataframe\">\n",
       "  <thead>\n",
       "    <tr style=\"text-align: right;\">\n",
       "      <th></th>\n",
       "      <th>username</th>\n",
       "      <th>productname</th>\n",
       "      <th>rate</th>\n",
       "    </tr>\n",
       "  </thead>\n",
       "  <tbody>\n",
       "    <tr>\n",
       "      <th>0</th>\n",
       "      <td>Naugachhia</td>\n",
       "      <td>Nokia 105 SS</td>\n",
       "      <td>5</td>\n",
       "    </tr>\n",
       "    <tr>\n",
       "      <th>1</th>\n",
       "      <td>Darbhanga</td>\n",
       "      <td>Nokia 105 SS</td>\n",
       "      <td>3</td>\n",
       "    </tr>\n",
       "    <tr>\n",
       "      <th>2</th>\n",
       "      <td>Mandir Hasaud</td>\n",
       "      <td>SAMSUNG Galaxy M33 5G (Deep Ocean Blue, 128 GB)</td>\n",
       "      <td>5</td>\n",
       "    </tr>\n",
       "    <tr>\n",
       "      <th>3</th>\n",
       "      <td>Mokokchung</td>\n",
       "      <td>SAMSUNG Galaxy M33 5G (Deep Ocean Blue, 128 GB)</td>\n",
       "      <td>4</td>\n",
       "    </tr>\n",
       "    <tr>\n",
       "      <th>4</th>\n",
       "      <td>Madurai</td>\n",
       "      <td>SAMSUNG Galaxy M33 5G (Deep Ocean Blue, 128 GB)</td>\n",
       "      <td>5</td>\n",
       "    </tr>\n",
       "    <tr>\n",
       "      <th>...</th>\n",
       "      <td>...</td>\n",
       "      <td>...</td>\n",
       "      <td>...</td>\n",
       "    </tr>\n",
       "    <tr>\n",
       "      <th>1658752</th>\n",
       "      <td>Kapileswar Dash</td>\n",
       "      <td>POCO M2 Pro (Two Shades of Black, 64 GB)</td>\n",
       "      <td>3</td>\n",
       "    </tr>\n",
       "    <tr>\n",
       "      <th>1658753</th>\n",
       "      <td>Afif  Hossain</td>\n",
       "      <td>POCO M2 Pro (Two Shades of Black, 64 GB)</td>\n",
       "      <td>5</td>\n",
       "    </tr>\n",
       "    <tr>\n",
       "      <th>1658755</th>\n",
       "      <td>D C Gupta</td>\n",
       "      <td>POCO M2 Pro (Two Shades of Black, 64 GB)</td>\n",
       "      <td>2</td>\n",
       "    </tr>\n",
       "    <tr>\n",
       "      <th>1658756</th>\n",
       "      <td>Keishna Chetry</td>\n",
       "      <td>POCO M2 Pro (Two Shades of Black, 64 GB)</td>\n",
       "      <td>5</td>\n",
       "    </tr>\n",
       "    <tr>\n",
       "      <th>1658757</th>\n",
       "      <td>Shiva Kumar</td>\n",
       "      <td>POCO M2 Pro (Two Shades of Black, 64 GB)</td>\n",
       "      <td>4</td>\n",
       "    </tr>\n",
       "  </tbody>\n",
       "</table>\n",
       "<p>1205792 rows × 3 columns</p>\n",
       "</div>"
      ],
      "text/plain": [
       "                username                                      productname  \\\n",
       "0             Naugachhia                                     Nokia 105 SS   \n",
       "1              Darbhanga                                     Nokia 105 SS   \n",
       "2          Mandir Hasaud  SAMSUNG Galaxy M33 5G (Deep Ocean Blue, 128 GB)   \n",
       "3             Mokokchung  SAMSUNG Galaxy M33 5G (Deep Ocean Blue, 128 GB)   \n",
       "4                Madurai  SAMSUNG Galaxy M33 5G (Deep Ocean Blue, 128 GB)   \n",
       "...                  ...                                              ...   \n",
       "1658752  Kapileswar Dash         POCO M2 Pro (Two Shades of Black, 64 GB)   \n",
       "1658753   Afif  Hossain          POCO M2 Pro (Two Shades of Black, 64 GB)   \n",
       "1658755        D C Gupta         POCO M2 Pro (Two Shades of Black, 64 GB)   \n",
       "1658756   Keishna Chetry         POCO M2 Pro (Two Shades of Black, 64 GB)   \n",
       "1658757     Shiva Kumar          POCO M2 Pro (Two Shades of Black, 64 GB)   \n",
       "\n",
       "         rate  \n",
       "0           5  \n",
       "1           3  \n",
       "2           5  \n",
       "3           4  \n",
       "4           5  \n",
       "...       ...  \n",
       "1658752     3  \n",
       "1658753     5  \n",
       "1658755     2  \n",
       "1658756     5  \n",
       "1658757     4  \n",
       "\n",
       "[1205792 rows x 3 columns]"
      ]
     },
     "execution_count": 216,
     "metadata": {},
     "output_type": "execute_result"
    }
   ],
   "source": [
    "revs1 = reviews.copy()\n",
    "\n",
    "# Delete data which is not useful anymore, to save memory\n",
    "del reviews\n",
    "\n",
    "# Step1: remove irrelevant features\n",
    "revs1 = revs1.loc[:,relevant_features]\n",
    "print(f'Step1: revs1 Shape after removing irrelevant features: Rows: {revs1.shape[0]} and Columns: {revs1.shape[1]}\\n')\n",
    "\n",
    "# Step2: Round-off score feature to nearest integer\n",
    "revs1['rate'] = revs1['rate'].round(0).astype('Int64')\n",
    "print('Step2: Round-off: Unique values in the \"score\" feature(after rounding-off): \\n',list(revs1.rate.unique()))\n",
    "\n",
    "# Step3: Impute missing values in score feature with median\n",
    "revs1['rate'] = revs1['rate'].fillna(revs1['rate'].median())\n",
    "print('\\nStep3: Imputation of \"rate\"  with median and \"username\" with \"Anonymous\"')\n",
    "\n",
    "# Step4: remove samples with missing values in 'Product' and 'author' feature and also 'Anonymous' values\n",
    "revs1.dropna(inplace=True)\n",
    "revs1 = revs1[revs1[\"username\"] != 'Anonymous']\n",
    "print(f'\\nStep4: revs1 Shape(after removing missing values): Rows: {revs1.shape[0]} and Columns: {revs1.shape[1]}\\n')\n",
    "\n",
    "# Step5: remove duplicates, if any\n",
    "revs1 = revs1.drop_duplicates()\n",
    "print(f'Step5: revs1 Shape(after removing duplicates): Rows: {revs1.shape[0]} and Columns: {revs1.shape[1]}\\n')\n",
    "\n",
    "print(f'Overall {round(100 - revs1.shape[0]*100/orgnl_rows,2)}% samples are dropped\\n')\n",
    "revs1"
   ]
  },
  {
   "cell_type": "markdown",
   "id": "buried-stock",
   "metadata": {
    "papermill": {
     "duration": 0.094353,
     "end_time": "2021-05-17T07:46:03.404267",
     "exception": false,
     "start_time": "2021-05-17T07:46:03.309914",
     "status": "completed"
    },
    "tags": []
   },
   "source": [
    "### 1.5. Data split <a id=\"data_split\"></a>\n",
    "[Go to top](#toc)"
   ]
  },
  {
   "cell_type": "code",
   "execution_count": 217,
   "id": "existing-adelaide",
   "metadata": {
    "execution": {
     "iopub.execute_input": "2021-05-17T07:46:03.600473Z",
     "iopub.status.busy": "2021-05-17T07:46:03.599559Z",
     "iopub.status.idle": "2021-05-17T07:46:04.012568Z",
     "shell.execute_reply": "2021-05-17T07:46:04.013080Z"
    },
    "papermill": {
     "duration": 0.513451,
     "end_time": "2021-05-17T07:46:04.013251",
     "exception": false,
     "start_time": "2021-05-17T07:46:03.499800",
     "status": "completed"
    },
    "tags": []
   },
   "outputs": [
    {
     "name": "stdout",
     "output_type": "stream",
     "text": [
      "revs2 Shape: Rows: 1000000 and Columns: 3\n",
      "\n"
     ]
    }
   ],
   "source": [
    "# separate 1 million data samples\n",
    "revs_1m = revs1.sample(n=1000000, random_state=RS)\n",
    "print(f'revs2 Shape: Rows: {revs_1m.shape[0]} and Columns: {revs_1m.shape[1]}\\n')"
   ]
  },
  {
   "cell_type": "markdown",
   "id": "fitted-empty",
   "metadata": {
    "papermill": {
     "duration": 0.095882,
     "end_time": "2021-05-17T07:46:04.207001",
     "exception": false,
     "start_time": "2021-05-17T07:46:04.111119",
     "status": "completed"
    },
    "tags": []
   },
   "source": [
    "## 2. Analysis <a id=\"analysis\"></a>\n",
    "[Go to top](#toc)"
   ]
  },
  {
   "cell_type": "code",
   "execution_count": 218,
   "id": "educated-requirement",
   "metadata": {
    "execution": {
     "iopub.execute_input": "2021-05-17T07:46:04.842535Z",
     "iopub.status.busy": "2021-05-17T07:46:04.653391Z",
     "iopub.status.idle": "2021-05-17T07:46:04.850729Z",
     "shell.execute_reply": "2021-05-17T07:46:04.850179Z"
    },
    "papermill": {
     "duration": 0.54868,
     "end_time": "2021-05-17T07:46:04.850867",
     "exception": false,
     "start_time": "2021-05-17T07:46:04.302187",
     "status": "completed"
    },
    "tags": []
   },
   "outputs": [
    {
     "name": "stdout",
     "output_type": "stream",
     "text": [
      "Most rated features/products: \n",
      "\n",
      " realme 8 (Cyber Silver, 128 GB)           16434\n",
      "POCO M3 (Cool Blue, 64 GB)                11893\n",
      "realme 8 (Cyber Black, 128 GB)            11566\n",
      "realme Narzo 30 (Racing Silver, 64 GB)     9195\n",
      "LAVA A1                                    7446\n",
      "Name: productname, dtype: int64\n"
     ]
    }
   ],
   "source": [
    "# 1. Most rated features\n",
    "print('Most rated features/products: \\n\\n',revs_1m['productname'].value_counts().head())"
   ]
  },
  {
   "cell_type": "code",
   "execution_count": 219,
   "id": "confirmed-fruit",
   "metadata": {
    "execution": {
     "iopub.execute_input": "2021-05-17T07:46:05.049133Z",
     "iopub.status.busy": "2021-05-17T07:46:05.048232Z",
     "iopub.status.idle": "2021-05-17T07:46:05.988439Z",
     "shell.execute_reply": "2021-05-17T07:46:05.987699Z"
    },
    "papermill": {
     "duration": 1.042298,
     "end_time": "2021-05-17T07:46:05.988587",
     "exception": false,
     "start_time": "2021-05-17T07:46:04.946289",
     "status": "completed"
    },
    "tags": []
   },
   "outputs": [
    {
     "data": {
      "image/png": "[encoded data removed]",
      "text/plain": [
       "<Figure size 432x288 with 1 Axes>"
      ]
     },
     "metadata": {
      "needs_background": "light"
     },
     "output_type": "display_data"
    }
   ],
   "source": [
    "# find out which rating is given highest number of times\n",
    "sns.countplot(data=revs_1m , x='rate')\n",
    "plt.show()"
   ]
  },
  {
   "cell_type": "code",
   "execution_count": 220,
   "id": "obvious-sacrifice",
   "metadata": {
    "execution": {
     "iopub.execute_input": "2021-05-17T07:46:06.190170Z",
     "iopub.status.busy": "2021-05-17T07:46:06.189165Z",
     "iopub.status.idle": "2021-05-17T07:46:06.805598Z",
     "shell.execute_reply": "2021-05-17T07:46:06.805001Z"
    },
    "papermill": {
     "duration": 0.718814,
     "end_time": "2021-05-17T07:46:06.805736",
     "exception": false,
     "start_time": "2021-05-17T07:46:06.086922",
     "status": "completed"
    },
    "tags": []
   },
   "outputs": [
    {
     "data": {
      "text/plain": [
       "Series([], Name: username, dtype: int64)"
      ]
     },
     "execution_count": 220,
     "metadata": {},
     "output_type": "execute_result"
    }
   ],
   "source": [
    "revs1[revs1['rate']==10]['username'].value_counts().head(10)"
   ]
  },
  {
   "cell_type": "code",
   "execution_count": 221,
   "id": "gothic-courage",
   "metadata": {
    "execution": {
     "iopub.execute_input": "2021-05-17T07:46:07.589413Z",
     "iopub.status.busy": "2021-05-17T07:46:07.588070Z",
     "iopub.status.idle": "2021-05-17T07:46:08.034039Z",
     "shell.execute_reply": "2021-05-17T07:46:08.034710Z"
    },
    "papermill": {
     "duration": 1.132628,
     "end_time": "2021-05-17T07:46:08.034961",
     "exception": false,
     "start_time": "2021-05-17T07:46:06.902333",
     "status": "completed"
    },
    "tags": []
   },
   "outputs": [
    {
     "name": "stdout",
     "output_type": "stream",
     "text": [
      "Users with highest number of reviews: \n",
      "\n",
      " Flipkart Customer    3164\n",
      "Deepak Kumar          501\n",
      "Rahul Kumar           489\n",
      "Amit Kumar            468\n",
      "Ajay Kumar            415\n",
      "Name: username, dtype: int64\n"
     ]
    }
   ],
   "source": [
    "# 2. Users with highest number of reviews\n",
    "print('Users with highest number of reviews: \\n\\n',revs_1m['username'].value_counts().head())"
   ]
  },
  {
   "cell_type": "code",
   "execution_count": 222,
   "id": "available-franchise",
   "metadata": {
    "execution": {
     "iopub.execute_input": "2021-05-17T07:46:08.859372Z",
     "iopub.status.busy": "2021-05-17T07:46:08.857897Z",
     "iopub.status.idle": "2021-05-17T07:46:09.735931Z",
     "shell.execute_reply": "2021-05-17T07:46:09.735391Z"
    },
    "papermill": {
     "duration": 1.601793,
     "end_time": "2021-05-17T07:46:09.736071",
     "exception": false,
     "start_time": "2021-05-17T07:46:08.134278",
     "status": "completed"
    },
    "tags": []
   },
   "outputs": [
    {
     "name": "stdout",
     "output_type": "stream",
     "text": [
      "Number of authors who have given >50 rating:  692\n",
      "Number of products with >50 rating:  687\n",
      "\n",
      "revs_50: Rows: 74619 and Columns: 3\n",
      "\n"
     ]
    },
    {
     "data": {
      "text/html": [
       "<div>\n",
       "<style scoped>\n",
       "    .dataframe tbody tr th:only-of-type {\n",
       "        vertical-align: middle;\n",
       "    }\n",
       "\n",
       "    .dataframe tbody tr th {\n",
       "        vertical-align: top;\n",
       "    }\n",
       "\n",
       "    .dataframe thead th {\n",
       "        text-align: right;\n",
       "    }\n",
       "</style>\n",
       "<table border=\"1\" class=\"dataframe\">\n",
       "  <thead>\n",
       "    <tr style=\"text-align: right;\">\n",
       "      <th></th>\n",
       "      <th>username</th>\n",
       "      <th>productname</th>\n",
       "      <th>rate</th>\n",
       "    </tr>\n",
       "  </thead>\n",
       "  <tbody>\n",
       "    <tr>\n",
       "      <th>604</th>\n",
       "      <td>Flipkart Customer</td>\n",
       "      <td>POCO C31 (Royal Blue, 64 GB)</td>\n",
       "      <td>5</td>\n",
       "    </tr>\n",
       "    <tr>\n",
       "      <th>606</th>\n",
       "      <td>Flipkart Customer</td>\n",
       "      <td>realme 9i (Prism Black, 64 GB)</td>\n",
       "      <td>5</td>\n",
       "    </tr>\n",
       "    <tr>\n",
       "      <th>609</th>\n",
       "      <td>Flipkart Customer</td>\n",
       "      <td>realme 9i (Prism Black, 64 GB)</td>\n",
       "      <td>4</td>\n",
       "    </tr>\n",
       "    <tr>\n",
       "      <th>611</th>\n",
       "      <td>Flipkart Customer</td>\n",
       "      <td>realme 9i (Prism Black, 64 GB)</td>\n",
       "      <td>3</td>\n",
       "    </tr>\n",
       "    <tr>\n",
       "      <th>612</th>\n",
       "      <td>Ankit Sharma</td>\n",
       "      <td>realme 9i (Prism Black, 64 GB)</td>\n",
       "      <td>5</td>\n",
       "    </tr>\n",
       "  </tbody>\n",
       "</table>\n",
       "</div>"
      ],
      "text/plain": [
       "              username                     productname  rate\n",
       "604  Flipkart Customer    POCO C31 (Royal Blue, 64 GB)     5\n",
       "606  Flipkart Customer  realme 9i (Prism Black, 64 GB)     5\n",
       "609  Flipkart Customer  realme 9i (Prism Black, 64 GB)     4\n",
       "611  Flipkart Customer  realme 9i (Prism Black, 64 GB)     3\n",
       "612       Ankit Sharma  realme 9i (Prism Black, 64 GB)     5"
      ]
     },
     "execution_count": 222,
     "metadata": {},
     "output_type": "execute_result"
    }
   ],
   "source": [
    "# 3. Select data with products having >50 ratings and users who have given > 50 ratings\n",
    "author50 = revs1['username'].value_counts()\n",
    "author50 = author50[author50>50].index.tolist() # list of authors with > 50 ratings\n",
    "print('Number of authors who have given >50 rating: ', len(author50))\n",
    "\n",
    "product50 = revs1['productname'].value_counts()\n",
    "product50 = product50[product50>50].index.tolist() # list of products with > 50 ratings\n",
    "print('Number of products with >50 rating: ', len(product50))\n",
    "\n",
    "revs_50 = revs1[(revs1['username'].isin(author50)) & (revs1['productname'].isin(product50))]\n",
    "print(f'\\nrevs_50: Rows: {revs_50.shape[0]} and Columns: {revs_50.shape[1]}\\n')\n",
    "del author50, product50\n",
    "revs_50.head()"
   ]
  },
  {
   "cell_type": "code",
   "execution_count": 223,
   "id": "ceramic-arcade",
   "metadata": {
    "execution": {
     "iopub.execute_input": "2021-05-17T07:46:09.949390Z",
     "iopub.status.busy": "2021-05-17T07:46:09.948617Z",
     "iopub.status.idle": "2021-05-17T07:46:09.958687Z",
     "shell.execute_reply": "2021-05-17T07:46:09.958048Z"
    },
    "papermill": {
     "duration": 0.123788,
     "end_time": "2021-05-17T07:46:09.958826",
     "exception": false,
     "start_time": "2021-05-17T07:46:09.835038",
     "status": "completed"
    },
    "tags": []
   },
   "outputs": [
    {
     "data": {
      "text/plain": [
       "array(['Flipkart Customer', 'Ankit Sharma', 'Raj Kumar', 'Arif Khan',\n",
       "       'Aniket Kumar', 'MANISH KUMAR', 'Rahul Kumar', 'Nitish  Kumar ',\n",
       "       'Vikash Sharma', 'Abhishek Kumar', 'Suman Kumar', 'Ankit Yadav',\n",
       "       'Govind Kumar', 'Sunny Kumar', 'Ashish Yadav', 'Manish Gupta',\n",
       "       'Vikash  Kumar', 'Prabhat Kumar', 'Vijay Kumar', 'Avinash Kumar',\n",
       "       'Ashish', 'Karthik', 'Arvind Kumar', 'Ravi Kumar', 'Sudhir Kumar',\n",
       "       'Pawan Singh', 'Aman Singh', 'Kapil Sharma', 'Dinesh Kumar',\n",
       "       'Mohit Saini', 'Ajeet Kumar', 'Raushan Kumar', 'Mukesh Kumar',\n",
       "       'Dhananjay Kumar', 'Sanjay Kumar', 'chandan kumar', 'Sumit Kumar',\n",
       "       'Neeraj Kumar', 'Nikhil Singh', 'Kaushal Kumar', 'vivek kumar',\n",
       "       'Abhishek Ranjan', 'Deepak Sharma', 'Prashant Kumar',\n",
       "       'Rahul Singh', 'Tarun Kumar', 'Amit Singh', 'Ankit Kumar',\n",
       "       'Sonu Kumar', 'Manish  Kumar ', 'Sourav Kumar', 'Santosh Singh',\n",
       "       'Shivam Kumar', 'Akash Kumar', 'Sathish Kumar', 'ROHIT KUMAR',\n",
       "       'Uday Kumar', 'Santosh Kumar', 'Amit Yadav', 'Rajesh Kumar',\n",
       "       'Pawan Kumar', 'ANIL KUMAR', 'Himanshu Gupta', 'Shani Kumar',\n",
       "       'Sujeet Kumar', 'Varun Kumar', 'Suraj Gupta', 'Rohit Sharma',\n",
       "       'Deepak Kumar', 'Ashish Kumar', 'Brajesh Kumar', 'Pravesh Kumar',\n",
       "       'Shailendra Singh', 'Krishna Kumar', 'Mohan Kumar',\n",
       "       'Bhanu Prakash', 'Vicky Kumar', 'Aman Kumar', 'Rohit Singh',\n",
       "       'Ranjith Kumar', 'Sanjeev Kumar', 'Pawan  Kumar', 'Sunil Kumar',\n",
       "       'Sachin  Kumar', 'Amit  Kumar', 'Shahrukh Khan', 'Deepak Gupta',\n",
       "       'Ankush Kumar', 'Arun Kumar', 'Manoj Gupta', 'Hari Krishna',\n",
       "       'GAURAV KUMAR', 'Bipin Kumar', 'Rahul  Kumar', 'Amit Kumar',\n",
       "       'Sandeep Kumar', 'Sonu Singh', 'Raj', 'Nilesh Kumar', 'ARUN KUMAR'],\n",
       "      dtype=object)"
      ]
     },
     "execution_count": 223,
     "metadata": {},
     "output_type": "execute_result"
    }
   ],
   "source": [
    "revs_50['username'].unique()[:100]"
   ]
  },
  {
   "cell_type": "code",
   "execution_count": 224,
   "id": "running-dylan",
   "metadata": {
    "execution": {
     "iopub.execute_input": "2021-05-17T07:46:10.174793Z",
     "iopub.status.busy": "2021-05-17T07:46:10.174101Z",
     "iopub.status.idle": "2021-05-17T07:46:10.201870Z",
     "shell.execute_reply": "2021-05-17T07:46:10.201204Z"
    },
    "papermill": {
     "duration": 0.142541,
     "end_time": "2021-05-17T07:46:10.202031",
     "exception": false,
     "start_time": "2021-05-17T07:46:10.059490",
     "status": "completed"
    },
    "tags": []
   },
   "outputs": [
    {
     "data": {
      "text/plain": [
       "array(['POCO C31 (Royal Blue, 64 GB)', 'realme 9i (Prism Black, 64 GB)',\n",
       "       'realme 9i (Prism Blue, 64 GB)', 'realme 9i (Prism Black, 128 GB)',\n",
       "       'REDMI 9i Sport (Metallic Blue, 64 GB)',\n",
       "       'REDMI 9i Sport (Carbon Black, 64 GB)',\n",
       "       'POCO M3 Pro 5G (Yellow, 128 GB)',\n",
       "       'realme C11 2021 (Cool Grey, 32 GB)',\n",
       "       'POCO M3 Pro 5G (Power Black, 128 GB)',\n",
       "       'realme C11 2021 (Cool Blue, 64 GB)',\n",
       "       'realme C11 2021 (Cool Grey, 64 GB)',\n",
       "       'REDMI Note 10T 5G (Metallic Blue, 64 GB)',\n",
       "       'realme C11 2021 (Cool Blue, 32 GB)',\n",
       "       'SAMSUNG Galaxy F22 (Denim Black, 64 GB)',\n",
       "       'POCO M3 Pro 5G (Cool Blue, 128 GB)',\n",
       "       'POCO M3 Pro 5G (Yellow, 64 GB)',\n",
       "       'SAMSUNG Galaxy F22 (Denim Blue, 128 GB)',\n",
       "       'SAMSUNG Galaxy F22 (Denim Blue, 64 GB)',\n",
       "       'REDMI 10 (Midnight Black, 64 GB)',\n",
       "       'REDMI 10 (Pacific Blue, 64 GB)',\n",
       "       'REDMI 10 (Pacific Blue, 128 GB)',\n",
       "       'REDMI 10 (Caribbean Green, 64 GB)',\n",
       "       'REDMI Note 10T 5G (Mint Green, 64 GB)',\n",
       "       'REDMI Note 10T 5G (Graphite Black, 64 GB)',\n",
       "       'Nokia TA-1304/105 SS', 'POCO C31 (Royal Blue, 32 GB)',\n",
       "       'realme C20 (Cool Grey, 32 GB)', 'realme C20 (Cool Blue, 32 GB)',\n",
       "       'MOTOROLA G60 (Moonless, 128 GB)',\n",
       "       'realme 8 (Cyber Black, 128 GB)',\n",
       "       'OPPO K10 (Black Carbon, 128 GB)', 'POCO C31 (Shadow Gray, 64 GB)',\n",
       "       'OPPO K10 (Blue Flame, 128 GB)',\n",
       "       'SAMSUNG Galaxy F22 (Denim Black, 128 GB)',\n",
       "       'REDMI Note 10T 5G (Chromium White, 64 GB)',\n",
       "       'realme Narzo 50A (Oxygen Blue, 128 GB)',\n",
       "       'vivo T1 5G (Starlight Black, 128 GB)',\n",
       "       'realme C25Y (Metal Grey, 64 GB)',\n",
       "       'vivo T1 5G (Rainbow Fantasy, 128 GB)',\n",
       "       'realme 8 (Cyber Silver, 128 GB)',\n",
       "       'POCO M3 Pro 5G (Cool Blue, 64 GB)',\n",
       "       'realme 9i (Prism Blue, 128 GB)',\n",
       "       'REDMI Note 10S (Shadow Black, 64 GB)',\n",
       "       'POCO M3 Pro 5G (Power Black, 64 GB)',\n",
       "       'REDMI Note 10S (Frost White, 64 GB)',\n",
       "       'realme C25Y (Glacier Blue, 64 GB)',\n",
       "       'MOTOROLA G60 (Soft Silver, 128 GB)',\n",
       "       'realme Narzo 50A (Oxygen Green, 64 GB)',\n",
       "       'POCO C31 (Shadow Gray, 32 GB)',\n",
       "       'realme C21Y (Cross Black, 64 GB)',\n",
       "       'realme C21Y (Cross Blue, 64 GB)',\n",
       "       'SAMSUNG Galaxy F23 5G (Aqua Blue, 128 GB)',\n",
       "       'realme C21Y (Cross Blue, 32 GB)',\n",
       "       'SAMSUNG Galaxy F23 5G (Forest Green, 128 GB)',\n",
       "       'realme C21Y (Cross Black, 32 GB)',\n",
       "       'Redmi 9A Sport (Coral Green, 32 GB)',\n",
       "       'Redmi 9A Sport (Carbon Black, 32 GB)',\n",
       "       'MOTOROLA g31 (Baby Blue, 64 GB)',\n",
       "       'Redmi 9A Sport (Metallic Blue, 32 GB)',\n",
       "       'realme C31 (Light Silver, 32 GB)',\n",
       "       'Infinix Hot 11 2022 (Polar Black, 64 GB)',\n",
       "       'Infinix Hot 11 2022 (Aurora Green, 64 GB)',\n",
       "       'realme C31 (Dark Green, 32 GB)',\n",
       "       'REDMI Note 10T 5G (Metallic Blue, 128 GB)',\n",
       "       'realme C35 (Glowing Black, 64 GB)',\n",
       "       'realme C25_Y (Metal Grey, 64 GB)',\n",
       "       'realme C25_Y (Glacier Blue, 64 GB)',\n",
       "       'REDMI Note 10T 5G (Mint Green, 128 GB)',\n",
       "       'realme C31 (Light Silver, 64 GB)',\n",
       "       'realme C31 (Dark Green, 64 GB)',\n",
       "       'realme 8s 5G (Universe Purple, 128 GB)',\n",
       "       'REDMI Note 10S (Cosmic Purple, 64 GB)',\n",
       "       'MOTOROLA G60 (Dynamic Gray, 128 GB)',\n",
       "       'realme C25_Y (Glacier Blue, 128 GB)',\n",
       "       'vivo Y53s (Deep Sea Blue, 128 GB)',\n",
       "       'SAMSUNG Galaxy F12 (Celestial Black, 64 GB)',\n",
       "       'MOTOROLA G40 Fusion (Dynamic Gray, 128 GB)',\n",
       "       'MOTOROLA g31 (Meteorite Grey, 64 GB)',\n",
       "       'realme 8s 5G (Universe Blue, 128 GB)',\n",
       "       'REDMI 10 (Midnight Black, 128 GB)', 'Nokia 105 SS 2021',\n",
       "       'REDMI Note 10T 5G (Chromium White, 128 GB)',\n",
       "       'realme Narzo 50i (Mint Green, 32 GB)',\n",
       "       'SAMSUNG Galaxy M12 (Blue, 64 GB)',\n",
       "       'realme Narzo 50A (Oxygen Blue, 64 GB)',\n",
       "       'realme Narzo 50i (Carbon Black, 32 GB)',\n",
       "       'REDMI 9i (Midnight Black, 64 GB)',\n",
       "       'Infinix Note 11 (Glacier Green, 64 GB)',\n",
       "       'Infinix Note 11 (Graphite Black, 64 GB)',\n",
       "       'Infinix Note 11 (Celestial Snow, 64 GB)',\n",
       "       'realme Narzo 50A (Oxygen Green, 128 GB)',\n",
       "       'SAMSUNG Galaxy F12 (Sea Green, 64 GB)',\n",
       "       'REDMI 10 (Caribbean Green, 128 GB)',\n",
       "       'realme 9 5G SE (Starry Glow, 128 GB)',\n",
       "       'Infinix Smart 5A (Midnight Black, 32 GB)',\n",
       "       'Infinix Smart 5A (Quetzal Cyan, 32 GB)',\n",
       "       'realme 9 Pro 5G (Midnight Black, 128 GB)',\n",
       "       'realme 9 Pro 5G (Sunrise Blue, 128 GB)',\n",
       "       'Infinix Smart 5A (Ocean Wave, 32 GB)',\n",
       "       'vivo Y53s (Fantastic Rainbow, 128 GB)'], dtype=object)"
      ]
     },
     "execution_count": 224,
     "metadata": {},
     "output_type": "execute_result"
    }
   ],
   "source": [
    "revs_50['productname'].unique()[:100]"
   ]
  },
  {
   "cell_type": "code",
   "execution_count": 225,
   "id": "naval-bridges",
   "metadata": {
    "execution": {
     "iopub.execute_input": "2021-05-17T07:46:10.680868Z",
     "iopub.status.busy": "2021-05-17T07:46:10.678933Z",
     "iopub.status.idle": "2021-05-17T07:46:11.233730Z",
     "shell.execute_reply": "2021-05-17T07:46:11.233153Z"
    },
    "papermill": {
     "duration": 0.931325,
     "end_time": "2021-05-17T07:46:11.233894",
     "exception": false,
     "start_time": "2021-05-17T07:46:10.302569",
     "status": "completed"
    },
    "tags": []
   },
   "outputs": [
    {
     "name": "stdout",
     "output_type": "stream",
     "text": [
      "Number of products with >3000 rating:  50\n"
     ]
    }
   ],
   "source": [
    "target = 3000\n",
    "top50_product = revs1['productname'].value_counts()[0:50].rename('rating_count').to_frame()\n",
    "top50_product['mean_ratings']=revs1[revs1['productname'].isin(top50_product.index.tolist())].groupby(['productname'])['rate'].mean().astype('float64').round(1)\n",
    "top50_product.sort_values(by='mean_ratings',inplace=True)\n",
    "print('Number of products with >'+str(target)+' rating: ', len(top50_product))"
   ]
  },
  {
   "cell_type": "code",
   "execution_count": 226,
   "id": "adjacent-macro",
   "metadata": {
    "execution": {
     "iopub.execute_input": "2021-05-17T07:46:11.441262Z",
     "iopub.status.busy": "2021-05-17T07:46:11.440579Z",
     "iopub.status.idle": "2021-05-17T07:46:12.662228Z",
     "shell.execute_reply": "2021-05-17T07:46:12.661658Z"
    },
    "papermill": {
     "duration": 1.327369,
     "end_time": "2021-05-17T07:46:12.662372",
     "exception": false,
     "start_time": "2021-05-17T07:46:11.335003",
     "status": "completed"
    },
    "tags": []
   },
   "outputs": [
    {
     "data": {
      "application/vnd.plotly.v1+json": {
       "config": {
        "plotlyServerURL": "https://plot.ly"
       },
       "data": [
        {
         "hovertemplate": "index=%{x}<br>mean_ratings=%{y}<br>rating_count=%{marker.size}<extra></extra>",
         "legendgroup": "",
         "marker": {
          "color": "#636efa",
          "size": [
           7660,
           7628,
           7629,
           14338,
           7320,
           7751,
           7823,
           7792,
           7744,
           7284,
           7876,
           7638,
           8082,
           8082,
           7398,
           8947,
           7398,
           7284,
           7398,
           7713,
           19922,
           7441,
           7476,
           7476,
           7441,
           7441,
           7431,
           7637,
           7734,
           7144,
           13933,
           11112,
           8995,
           7916,
           7916,
           7742,
           7759,
           8156,
           7766,
           7800,
           7800,
           7800,
           7652,
           7781,
           7847,
           7847,
           7847,
           7818,
           7847,
           7847
          ],
          "sizemode": "area",
          "sizeref": 5.533888888888889,
          "symbol": "circle"
         },
         "mode": "markers",
         "name": "",
         "orientation": "v",
         "showlegend": false,
         "type": "scatter",
         "x": [
          "GIONEE Max (Royal Blue, 32 GB)",
          "POCO M3 (Power Black, 128 GB)",
          "POCO M3 (Power Black, 64 GB)",
          "POCO M3 (Cool Blue, 64 GB)",
          "realme C20 (Cool Grey, 32 GB)",
          "POCO X3 (Cobalt Blue, 64 GB)",
          "POCO C3 (Matte Black, 32 GB)",
          "POCO C3 (Arctic Blue, 32 GB)",
          "POCO X3 (Shadow Gray, 64 GB)",
          "REDMI 9i (Nature Green, 64 GB)",
          "POCO M2 Pro (Green and Greener, 64 GB)",
          "realme Narzo 20 (Victory Blue, 128 GB)",
          "POCO M2 Pro (Out of the Blue, 64 GB)",
          "POCO M2 Pro (Two Shades of Black, 64 GB)",
          "realme Narzo 50A (Oxygen Green, 128 GB)",
          "realme 8 5G (Supersonic Black, 128 GB)",
          "realme Narzo 50A (Oxygen Blue, 64 GB)",
          "REDMI 9i (Midnight Black, 64 GB)",
          "realme Narzo 50A (Oxygen Green, 64 GB)",
          "REDMI 9 Power (Mighty Black, 64 GB)",
          "realme 8 (Cyber Silver, 128 GB)",
          "Infinix Hot 10 Play (Obsidian Black, 64 GB)",
          "realme 8s 5G (Universe Purple, 128 GB)",
          "realme 8s 5G (Universe Blue, 128 GB)",
          "Infinix Hot 10 Play (Aegean Blue, 64 GB)",
          "Infinix Hot 10 Play (7° Purple, 64 GB)",
          "Infinix Hot 10 Play (Morandi Green, 64 GB)",
          "realme 8 Pro (Infinite Black, 128 GB)",
          "REDMI 9 Power (Blazing Blue, 64 GB)",
          "REDMI Note 9 (Aqua Green, 64 GB)",
          "realme 8 (Cyber Black, 128 GB)",
          "realme Narzo 30 (Racing Silver, 64 GB)",
          "LAVA A1",
          "realme 8i (Space Black, 64 GB)",
          "realme 8i (Space Purple, 64 GB)",
          "REDMI 9 Power (Fiery Red, 64 GB)",
          "APPLE iPhone SE (Red, 128 GB)",
          "SAMSUNG Guru Music 2",
          "APPLE iPhone SE (Black, 128 GB)",
          "APPLE iPhone SE (Black, 64 GB)",
          "APPLE iPhone SE (White, 64 GB)",
          "APPLE iPhone SE (Red, 64 GB)",
          "REDMI 9 Prime (Matte Black, 64 GB)",
          "APPLE iPhone SE (White, 128 GB)",
          "APPLE iPhone 12 (Green, 64 GB)",
          "APPLE iPhone 12 (Blue, 64 GB)",
          "APPLE iPhone 12 (Black, 64 GB)",
          "APPLE iPhone 12 (White, 256 GB)",
          "APPLE iPhone 12 (Purple, 64 GB)",
          "APPLE iPhone 12 (Red, 128 GB)"
         ],
         "xaxis": "x",
         "y": [
          3.9,
          4,
          4,
          4.1,
          4.1,
          4.2,
          4.2,
          4.2,
          4.2,
          4.2,
          4.2,
          4.2,
          4.2,
          4.2,
          4.2,
          4.2,
          4.2,
          4.2,
          4.2,
          4.3,
          4.3,
          4.3,
          4.3,
          4.3,
          4.3,
          4.3,
          4.3,
          4.3,
          4.3,
          4.3,
          4.3,
          4.3,
          4.3,
          4.3,
          4.3,
          4.3,
          4.4,
          4.4,
          4.4,
          4.4,
          4.4,
          4.4,
          4.4,
          4.4,
          4.7,
          4.7,
          4.7,
          4.7,
          4.7,
          4.7
         ],
         "yaxis": "y"
        }
       ],
       "layout": {
        "height": 800,
        "legend": {
         "itemsizing": "constant",
         "tracegroupgap": 0
        },
        "template": {
         "data": {
          "bar": [
           {
            "error_x": {
             "color": "#2a3f5f"
            },
            "error_y": {
             "color": "#2a3f5f"
            },
            "marker": {
             "line": {
              "color": "#E5ECF6",
              "width": 0.5
             },
             "pattern": {
              "fillmode": "overlay",
              "size": 10,
              "solidity": 0.2
             }
            },
            "type": "bar"
           }
          ],
          "barpolar": [
           {
            "marker": {
             "line": {
              "color": "#E5ECF6",
              "width": 0.5
             },
             "pattern": {
              "fillmode": "overlay",
              "size": 10,
              "solidity": 0.2
             }
            },
            "type": "barpolar"
           }
          ],
          "carpet": [
           {
            "aaxis": {
             "endlinecolor": "#2a3f5f",
             "gridcolor": "white",
             "linecolor": "white",
             "minorgridcolor": "white",
             "startlinecolor": "#2a3f5f"
            },
            "baxis": {
             "endlinecolor": "#2a3f5f",
             "gridcolor": "white",
             "linecolor": "white",
             "minorgridcolor": "white",
             "startlinecolor": "#2a3f5f"
            },
            "type": "carpet"
           }
          ],
          "choropleth": [
           {
            "colorbar": {
             "outlinewidth": 0,
             "ticks": ""
            },
            "type": "choropleth"
           }
          ],
          "contour": [
           {
            "colorbar": {
             "outlinewidth": 0,
             "ticks": ""
            },
            "colorscale": [
             [
              0,
              "#0d0887"
             ],
             [
              0.1111111111111111,
              "#46039f"
             ],
             [
              0.2222222222222222,
              "#7201a8"
             ],
             [
              0.3333333333333333,
              "#9c179e"
             ],
             [
              0.4444444444444444,
              "#bd3786"
             ],
             [
              0.5555555555555556,
              "#d8576b"
             ],
             [
              0.6666666666666666,
              "#ed7953"
             ],
             [
              0.7777777777777778,
              "#fb9f3a"
             ],
             [
              0.8888888888888888,
              "#fdca26"
             ],
             [
              1,
              "#f0f921"
             ]
            ],
            "type": "contour"
           }
          ],
          "contourcarpet": [
           {
            "colorbar": {
             "outlinewidth": 0,
             "ticks": ""
            },
            "type": "contourcarpet"
           }
          ],
          "heatmap": [
           {
            "colorbar": {
             "outlinewidth": 0,
             "ticks": ""
            },
            "colorscale": [
             [
              0,
              "#0d0887"
             ],
             [
              0.1111111111111111,
              "#46039f"
             ],
             [
              0.2222222222222222,
              "#7201a8"
             ],
             [
              0.3333333333333333,
              "#9c179e"
             ],
             [
              0.4444444444444444,
              "#bd3786"
             ],
             [
              0.5555555555555556,
              "#d8576b"
             ],
             [
              0.6666666666666666,
              "#ed7953"
             ],
             [
              0.7777777777777778,
              "#fb9f3a"
             ],
             [
              0.8888888888888888,
              "#fdca26"
             ],
             [
              1,
              "#f0f921"
             ]
            ],
            "type": "heatmap"
           }
          ],
          "heatmapgl": [
           {
            "colorbar": {
             "outlinewidth": 0,
             "ticks": ""
            },
            "colorscale": [
             [
              0,
              "#0d0887"
             ],
             [
              0.1111111111111111,
              "#46039f"
             ],
             [
              0.2222222222222222,
              "#7201a8"
             ],
             [
              0.3333333333333333,
              "#9c179e"
             ],
             [
              0.4444444444444444,
              "#bd3786"
             ],
             [
              0.5555555555555556,
              "#d8576b"
             ],
             [
              0.6666666666666666,
              "#ed7953"
             ],
             [
              0.7777777777777778,
              "#fb9f3a"
             ],
             [
              0.8888888888888888,
              "#fdca26"
             ],
             [
              1,
              "#f0f921"
             ]
            ],
            "type": "heatmapgl"
           }
          ],
          "histogram": [
           {
            "marker": {
             "pattern": {
              "fillmode": "overlay",
              "size": 10,
              "solidity": 0.2
             }
            },
            "type": "histogram"
           }
          ],
          "histogram2d": [
           {
            "colorbar": {
             "outlinewidth": 0,
             "ticks": ""
            },
            "colorscale": [
             [
              0,
              "#0d0887"
             ],
             [
              0.1111111111111111,
              "#46039f"
             ],
             [
              0.2222222222222222,
              "#7201a8"
             ],
             [
              0.3333333333333333,
              "#9c179e"
             ],
             [
              0.4444444444444444,
              "#bd3786"
             ],
             [
              0.5555555555555556,
              "#d8576b"
             ],
             [
              0.6666666666666666,
              "#ed7953"
             ],
             [
              0.7777777777777778,
              "#fb9f3a"
             ],
             [
              0.8888888888888888,
              "#fdca26"
             ],
             [
              1,
              "#f0f921"
             ]
            ],
            "type": "histogram2d"
           }
          ],
          "histogram2dcontour": [
           {
            "colorbar": {
             "outlinewidth": 0,
             "ticks": ""
            },
            "colorscale": [
             [
              0,
              "#0d0887"
             ],
             [
              0.1111111111111111,
              "#46039f"
             ],
             [
              0.2222222222222222,
              "#7201a8"
             ],
             [
              0.3333333333333333,
              "#9c179e"
             ],
             [
              0.4444444444444444,
              "#bd3786"
             ],
             [
              0.5555555555555556,
              "#d8576b"
             ],
             [
              0.6666666666666666,
              "#ed7953"
             ],
             [
              0.7777777777777778,
              "#fb9f3a"
             ],
             [
              0.8888888888888888,
              "#fdca26"
             ],
             [
              1,
              "#f0f921"
             ]
            ],
            "type": "histogram2dcontour"
           }
          ],
          "mesh3d": [
           {
            "colorbar": {
             "outlinewidth": 0,
             "ticks": ""
            },
            "type": "mesh3d"
           }
          ],
          "parcoords": [
           {
            "line": {
             "colorbar": {
              "outlinewidth": 0,
              "ticks": ""
             }
            },
            "type": "parcoords"
           }
          ],
          "pie": [
           {
            "automargin": true,
            "type": "pie"
           }
          ],
          "scatter": [
           {
            "fillpattern": {
             "fillmode": "overlay",
             "size": 10,
             "solidity": 0.2
            },
            "type": "scatter"
           }
          ],
          "scatter3d": [
           {
            "line": {
             "colorbar": {
              "outlinewidth": 0,
              "ticks": ""
             }
            },
            "marker": {
             "colorbar": {
              "outlinewidth": 0,
              "ticks": ""
             }
            },
            "type": "scatter3d"
           }
          ],
          "scattercarpet": [
           {
            "marker": {
             "colorbar": {
              "outlinewidth": 0,
              "ticks": ""
             }
            },
            "type": "scattercarpet"
           }
          ],
          "scattergeo": [
           {
            "marker": {
             "colorbar": {
              "outlinewidth": 0,
              "ticks": ""
             }
            },
            "type": "scattergeo"
           }
          ],
          "scattergl": [
           {
            "marker": {
             "colorbar": {
              "outlinewidth": 0,
              "ticks": ""
             }
            },
            "type": "scattergl"
           }
          ],
          "scattermapbox": [
           {
            "marker": {
             "colorbar": {
              "outlinewidth": 0,
              "ticks": ""
             }
            },
            "type": "scattermapbox"
           }
          ],
          "scatterpolar": [
           {
            "marker": {
             "colorbar": {
              "outlinewidth": 0,
              "ticks": ""
             }
            },
            "type": "scatterpolar"
           }
          ],
          "scatterpolargl": [
           {
            "marker": {
             "colorbar": {
              "outlinewidth": 0,
              "ticks": ""
             }
            },
            "type": "scatterpolargl"
           }
          ],
          "scatterternary": [
           {
            "marker": {
             "colorbar": {
              "outlinewidth": 0,
              "ticks": ""
             }
            },
            "type": "scatterternary"
           }
          ],
          "surface": [
           {
            "colorbar": {
             "outlinewidth": 0,
             "ticks": ""
            },
            "colorscale": [
             [
              0,
              "#0d0887"
             ],
             [
              0.1111111111111111,
              "#46039f"
             ],
             [
              0.2222222222222222,
              "#7201a8"
             ],
             [
              0.3333333333333333,
              "#9c179e"
             ],
             [
              0.4444444444444444,
              "#bd3786"
             ],
             [
              0.5555555555555556,
              "#d8576b"
             ],
             [
              0.6666666666666666,
              "#ed7953"
             ],
             [
              0.7777777777777778,
              "#fb9f3a"
             ],
             [
              0.8888888888888888,
              "#fdca26"
             ],
             [
              1,
              "#f0f921"
             ]
            ],
            "type": "surface"
           }
          ],
          "table": [
           {
            "cells": {
             "fill": {
              "color": "#EBF0F8"
             },
             "line": {
              "color": "white"
             }
            },
            "header": {
             "fill": {
              "color": "#C8D4E3"
             },
             "line": {
              "color": "white"
             }
            },
            "type": "table"
           }
          ]
         },
         "layout": {
          "annotationdefaults": {
           "arrowcolor": "#2a3f5f",
           "arrowhead": 0,
           "arrowwidth": 1
          },
          "autotypenumbers": "strict",
          "coloraxis": {
           "colorbar": {
            "outlinewidth": 0,
            "ticks": ""
           }
          },
          "colorscale": {
           "diverging": [
            [
             0,
             "#8e0152"
            ],
            [
             0.1,
             "#c51b7d"
            ],
            [
             0.2,
             "#de77ae"
            ],
            [
             0.3,
             "#f1b6da"
            ],
            [
             0.4,
             "#fde0ef"
            ],
            [
             0.5,
             "#f7f7f7"
            ],
            [
             0.6,
             "#e6f5d0"
            ],
            [
             0.7,
             "#b8e186"
            ],
            [
             0.8,
             "#7fbc41"
            ],
            [
             0.9,
             "#4d9221"
            ],
            [
             1,
             "#276419"
            ]
           ],
           "sequential": [
            [
             0,
             "#0d0887"
            ],
            [
             0.1111111111111111,
             "#46039f"
            ],
            [
             0.2222222222222222,
             "#7201a8"
            ],
            [
             0.3333333333333333,
             "#9c179e"
            ],
            [
             0.4444444444444444,
             "#bd3786"
            ],
            [
             0.5555555555555556,
             "#d8576b"
            ],
            [
             0.6666666666666666,
             "#ed7953"
            ],
            [
             0.7777777777777778,
             "#fb9f3a"
            ],
            [
             0.8888888888888888,
             "#fdca26"
            ],
            [
             1,
             "#f0f921"
            ]
           ],
           "sequentialminus": [
            [
             0,
             "#0d0887"
            ],
            [
             0.1111111111111111,
             "#46039f"
            ],
            [
             0.2222222222222222,
             "#7201a8"
            ],
            [
             0.3333333333333333,
             "#9c179e"
            ],
            [
             0.4444444444444444,
             "#bd3786"
            ],
            [
             0.5555555555555556,
             "#d8576b"
            ],
            [
             0.6666666666666666,
             "#ed7953"
            ],
            [
             0.7777777777777778,
             "#fb9f3a"
            ],
            [
             0.8888888888888888,
             "#fdca26"
            ],
            [
             1,
             "#f0f921"
            ]
           ]
          },
          "colorway": [
           "#636efa",
           "#EF553B",
           "#00cc96",
           "#ab63fa",
           "#FFA15A",
           "#19d3f3",
           "#FF6692",
           "#B6E880",
           "#FF97FF",
           "#FECB52"
          ],
          "font": {
           "color": "#2a3f5f"
          },
          "geo": {
           "bgcolor": "white",
           "lakecolor": "white",
           "landcolor": "#E5ECF6",
           "showlakes": true,
           "showland": true,
           "subunitcolor": "white"
          },
          "hoverlabel": {
           "align": "left"
          },
          "hovermode": "closest",
          "mapbox": {
           "style": "light"
          },
          "paper_bgcolor": "white",
          "plot_bgcolor": "#E5ECF6",
          "polar": {
           "angularaxis": {
            "gridcolor": "white",
            "linecolor": "white",
            "ticks": ""
           },
           "bgcolor": "#E5ECF6",
           "radialaxis": {
            "gridcolor": "white",
            "linecolor": "white",
            "ticks": ""
           }
          },
          "scene": {
           "xaxis": {
            "backgroundcolor": "#E5ECF6",
            "gridcolor": "white",
            "gridwidth": 2,
            "linecolor": "white",
            "showbackground": true,
            "ticks": "",
            "zerolinecolor": "white"
           },
           "yaxis": {
            "backgroundcolor": "#E5ECF6",
            "gridcolor": "white",
            "gridwidth": 2,
            "linecolor": "white",
            "showbackground": true,
            "ticks": "",
            "zerolinecolor": "white"
           },
           "zaxis": {
            "backgroundcolor": "#E5ECF6",
            "gridcolor": "white",
            "gridwidth": 2,
            "linecolor": "white",
            "showbackground": true,
            "ticks": "",
            "zerolinecolor": "white"
           }
          },
          "shapedefaults": {
           "line": {
            "color": "#2a3f5f"
           }
          },
          "ternary": {
           "aaxis": {
            "gridcolor": "white",
            "linecolor": "white",
            "ticks": ""
           },
           "baxis": {
            "gridcolor": "white",
            "linecolor": "white",
            "ticks": ""
           },
           "bgcolor": "#E5ECF6",
           "caxis": {
            "gridcolor": "white",
            "linecolor": "white",
            "ticks": ""
           }
          },
          "title": {
           "x": 0.05
          },
          "xaxis": {
           "automargin": true,
           "gridcolor": "white",
           "linecolor": "white",
           "ticks": "",
           "title": {
            "standoff": 15
           },
           "zerolinecolor": "white",
           "zerolinewidth": 2
          },
          "yaxis": {
           "automargin": true,
           "gridcolor": "white",
           "linecolor": "white",
           "ticks": "",
           "title": {
            "standoff": 15
           },
           "zerolinecolor": "white",
           "zerolinewidth": 2
          }
         }
        },
        "title": {
         "text": "Visualisation of mean ratings vs rating count for highest rated 50 phones"
        },
        "xaxis": {
         "anchor": "y",
         "domain": [
          0,
          1
         ],
         "title": {
          "text": "index"
         }
        },
        "yaxis": {
         "anchor": "x",
         "domain": [
          0,
          1
         ],
         "title": {
          "text": "mean_ratings"
         }
        }
       }
      }
     },
     "metadata": {},
     "output_type": "display_data"
    }
   ],
   "source": [
    "fig = px.scatter(top50_product, x=top50_product.index, y=\"mean_ratings\", size=\"rating_count\", size_max=60,\n",
    "                  height=800,title=\"Visualisation of mean ratings vs rating count for highest rated 50 phones\")\n",
    "fig.show()"
   ]
  },
  {
   "cell_type": "markdown",
   "id": "limited-hampshire",
   "metadata": {
    "papermill": {
     "duration": 0.101556,
     "end_time": "2021-05-17T07:46:12.865540",
     "exception": false,
     "start_time": "2021-05-17T07:46:12.763984",
     "status": "completed"
    },
    "tags": []
   },
   "source": [
    "## 3. Recommend top 5 mobile phones using popularity based model <a id=\"popularity_model\"></a>\n",
    "[Go to top](#toc)"
   ]
  },
  {
   "cell_type": "code",
   "execution_count": 227,
   "id": "offensive-orleans",
   "metadata": {
    "execution": {
     "iopub.execute_input": "2021-05-17T07:46:13.076848Z",
     "iopub.status.busy": "2021-05-17T07:46:13.076203Z",
     "iopub.status.idle": "2021-05-17T07:46:13.078819Z",
     "shell.execute_reply": "2021-05-17T07:46:13.079354Z"
    },
    "papermill": {
     "duration": 0.1124,
     "end_time": "2021-05-17T07:46:13.079540",
     "exception": false,
     "start_time": "2021-05-17T07:46:12.967140",
     "status": "completed"
    },
    "tags": []
   },
   "outputs": [],
   "source": [
    "def popularity_rec(data):\n",
    "    ratings_mean_count = pd.DataFrame(data.groupby('productname')['rate'].mean())\n",
    "    ratings_mean_count['rating_counts'] = data.groupby('productname')['rate'].count()\n",
    "    ratings_mean_count = ratings_mean_count.sort_values(by=['rate','rating_counts'], ascending=[False,False])\n",
    "    print('Top 5 recommendations for the products are: \\n')\n",
    "    display(ratings_mean_count.head())\n",
    "    return"
   ]
  },
  {
   "cell_type": "code",
   "execution_count": 228,
   "id": "reduced-density",
   "metadata": {
    "execution": {
     "iopub.execute_input": "2021-05-17T07:46:13.304713Z",
     "iopub.status.busy": "2021-05-17T07:46:13.295865Z",
     "iopub.status.idle": "2021-05-17T07:46:13.372760Z",
     "shell.execute_reply": "2021-05-17T07:46:13.373490Z"
    },
    "papermill": {
     "duration": 0.191328,
     "end_time": "2021-05-17T07:46:13.373698",
     "exception": false,
     "start_time": "2021-05-17T07:46:13.182370",
     "status": "completed"
    },
    "tags": []
   },
   "outputs": [
    {
     "name": "stdout",
     "output_type": "stream",
     "text": [
      "Top 5 recommendations for the products are: \n",
      "\n"
     ]
    },
    {
     "data": {
      "text/html": [
       "<div>\n",
       "<style scoped>\n",
       "    .dataframe tbody tr th:only-of-type {\n",
       "        vertical-align: middle;\n",
       "    }\n",
       "\n",
       "    .dataframe tbody tr th {\n",
       "        vertical-align: top;\n",
       "    }\n",
       "\n",
       "    .dataframe thead th {\n",
       "        text-align: right;\n",
       "    }\n",
       "</style>\n",
       "<table border=\"1\" class=\"dataframe\">\n",
       "  <thead>\n",
       "    <tr style=\"text-align: right;\">\n",
       "      <th></th>\n",
       "      <th>rate</th>\n",
       "      <th>rating_counts</th>\n",
       "    </tr>\n",
       "    <tr>\n",
       "      <th>productname</th>\n",
       "      <th></th>\n",
       "      <th></th>\n",
       "    </tr>\n",
       "  </thead>\n",
       "  <tbody>\n",
       "    <tr>\n",
       "      <th>APPLE 2020 Macbook Pro M1 - (8 GB/256 GB SSD/Mac OS Big Sur) MYD82HN/A</th>\n",
       "      <td>5.0</td>\n",
       "      <td>5</td>\n",
       "    </tr>\n",
       "    <tr>\n",
       "      <th>APPLE MacBook Pro M1 - (8 GB/1 TB SSD/Mac OS Big Sur) Z11B0008S</th>\n",
       "      <td>5.0</td>\n",
       "      <td>5</td>\n",
       "    </tr>\n",
       "    <tr>\n",
       "      <th>APPLE 2020 Macbook Air M1 - (8 GB/512 GB SSD/Mac OS Big Sur) MGN73HN/A</th>\n",
       "      <td>4.857143</td>\n",
       "      <td>7</td>\n",
       "    </tr>\n",
       "    <tr>\n",
       "      <th>APPLE 2020 Macbook Air M1 - (8 GB/512 GB SSD/Mac OS Big Sur) MGNA3HN/A</th>\n",
       "      <td>4.857143</td>\n",
       "      <td>7</td>\n",
       "    </tr>\n",
       "    <tr>\n",
       "      <th>REDMI Note 10T 5G (Metallic Blue, 64 GB)</th>\n",
       "      <td>4.818182</td>\n",
       "      <td>11</td>\n",
       "    </tr>\n",
       "  </tbody>\n",
       "</table>\n",
       "</div>"
      ],
      "text/plain": [
       "                                                                            rate  \\\n",
       "productname                                                                        \n",
       "APPLE 2020 Macbook Pro M1 - (8 GB/256 GB SSD/Mac OS Big Sur) MYD82HN/A       5.0   \n",
       "APPLE MacBook Pro M1 - (8 GB/1 TB SSD/Mac OS Big Sur) Z11B0008S              5.0   \n",
       "APPLE 2020 Macbook Air M1 - (8 GB/512 GB SSD/Mac OS Big Sur) MGN73HN/A  4.857143   \n",
       "APPLE 2020 Macbook Air M1 - (8 GB/512 GB SSD/Mac OS Big Sur) MGNA3HN/A  4.857143   \n",
       "REDMI Note 10T 5G (Metallic Blue, 64 GB)                                4.818182   \n",
       "\n",
       "                                                                        rating_counts  \n",
       "productname                                                                            \n",
       "APPLE 2020 Macbook Pro M1 - (8 GB/256 GB SSD/Mac OS Big Sur) MYD82HN/A              5  \n",
       "APPLE MacBook Pro M1 - (8 GB/1 TB SSD/Mac OS Big Sur) Z11B0008S                     5  \n",
       "APPLE 2020 Macbook Air M1 - (8 GB/512 GB SSD/Mac OS Big Sur) MGN73HN/A              7  \n",
       "APPLE 2020 Macbook Air M1 - (8 GB/512 GB SSD/Mac OS Big Sur) MGNA3HN/A              7  \n",
       "REDMI Note 10T 5G (Metallic Blue, 64 GB)                                           11  "
      ]
     },
     "metadata": {},
     "output_type": "display_data"
    }
   ],
   "source": [
    "# Using the data from the most popular phones amongst the most frequent users\n",
    "popularity_rec(revs_50)"
   ]
  },
  {
   "cell_type": "code",
   "execution_count": 229,
   "id": "vocational-given",
   "metadata": {
    "execution": {
     "iopub.execute_input": "2021-05-17T07:46:13.584208Z",
     "iopub.status.busy": "2021-05-17T07:46:13.583561Z",
     "iopub.status.idle": "2021-05-17T07:46:13.952255Z",
     "shell.execute_reply": "2021-05-17T07:46:13.951619Z"
    },
    "papermill": {
     "duration": 0.475703,
     "end_time": "2021-05-17T07:46:13.952429",
     "exception": false,
     "start_time": "2021-05-17T07:46:13.476726",
     "status": "completed"
    },
    "tags": []
   },
   "outputs": [
    {
     "name": "stdout",
     "output_type": "stream",
     "text": [
      "Top 5 recommendations for the products are: \n",
      "\n"
     ]
    },
    {
     "data": {
      "text/html": [
       "<div>\n",
       "<style scoped>\n",
       "    .dataframe tbody tr th:only-of-type {\n",
       "        vertical-align: middle;\n",
       "    }\n",
       "\n",
       "    .dataframe tbody tr th {\n",
       "        vertical-align: top;\n",
       "    }\n",
       "\n",
       "    .dataframe thead th {\n",
       "        text-align: right;\n",
       "    }\n",
       "</style>\n",
       "<table border=\"1\" class=\"dataframe\">\n",
       "  <thead>\n",
       "    <tr style=\"text-align: right;\">\n",
       "      <th></th>\n",
       "      <th>rate</th>\n",
       "      <th>rating_counts</th>\n",
       "    </tr>\n",
       "    <tr>\n",
       "      <th>productname</th>\n",
       "      <th></th>\n",
       "      <th></th>\n",
       "    </tr>\n",
       "  </thead>\n",
       "  <tbody>\n",
       "    <tr>\n",
       "      <th>APPLE 2021 Macbook Pro M1 Pro - (16 GB/1 TB SSD/Mac OS Monterey) MKGT3HN/A</th>\n",
       "      <td>5.0</td>\n",
       "      <td>11</td>\n",
       "    </tr>\n",
       "    <tr>\n",
       "      <th>ASUS ZenBook Duo 14 (2021) Touch Panel Intel EVO Core i5 11th Gen - (8 GB/512 GB SSD/Windows 10 Home) UX482EA-KA501TS Thin and Light Laptop</th>\n",
       "      <td>5.0</td>\n",
       "      <td>6</td>\n",
       "    </tr>\n",
       "    <tr>\n",
       "      <th>acer Aspire 5 Ryzen 5 Hexa Core AMD Ryzen 5-5500U hexa-core - (8 GB/512 GB SSD/Windows 10 Home) A515-45 Thin and Light Laptop</th>\n",
       "      <td>5.0</td>\n",
       "      <td>6</td>\n",
       "    </tr>\n",
       "    <tr>\n",
       "      <th>HP Pavilion Ryzen 5 Hexa Core 5600H - (8 GB/512 GB SSD/Windows 11 Home/4 GB Graphics/NVIDIA GeForce GTX 3050) 15-EC2145AX Gaming Laptop</th>\n",
       "      <td>5.0</td>\n",
       "      <td>5</td>\n",
       "    </tr>\n",
       "    <tr>\n",
       "      <th>IAIR Basic Feature Dual Sim Mobile Phone with 2800mAh Battery, 2.4 inch Display Screen, 0.8 mp Camera with Big LED Torch (FPS6, Sky Blue)</th>\n",
       "      <td>5.0</td>\n",
       "      <td>5</td>\n",
       "    </tr>\n",
       "  </tbody>\n",
       "</table>\n",
       "</div>"
      ],
      "text/plain": [
       "                                                                                                                                             rate  \\\n",
       "productname                                                                                                                                         \n",
       "APPLE 2021 Macbook Pro M1 Pro - (16 GB/1 TB SSD/Mac OS Monterey) MKGT3HN/A                                                                    5.0   \n",
       "ASUS ZenBook Duo 14 (2021) Touch Panel Intel EVO Core i5 11th Gen - (8 GB/512 GB SSD/Windows 10 Home) UX482EA-KA501TS Thin and Light Laptop   5.0   \n",
       "acer Aspire 5 Ryzen 5 Hexa Core AMD Ryzen 5-5500U hexa-core - (8 GB/512 GB SSD/Windows 10 Home) A515-45 Thin and Light Laptop                 5.0   \n",
       "HP Pavilion Ryzen 5 Hexa Core 5600H - (8 GB/512 GB SSD/Windows 11 Home/4 GB Graphics/NVIDIA GeForce GTX 3050) 15-EC2145AX Gaming Laptop       5.0   \n",
       "IAIR Basic Feature Dual Sim Mobile Phone with 2800mAh Battery, 2.4 inch Display Screen, 0.8 mp Camera with Big LED Torch (FPS6, Sky Blue)     5.0   \n",
       "\n",
       "                                                                                                                                             rating_counts  \n",
       "productname                                                                                                                                                 \n",
       "APPLE 2021 Macbook Pro M1 Pro - (16 GB/1 TB SSD/Mac OS Monterey) MKGT3HN/A                                                                              11  \n",
       "ASUS ZenBook Duo 14 (2021) Touch Panel Intel EVO Core i5 11th Gen - (8 GB/512 GB SSD/Windows 10 Home) UX482EA-KA501TS Thin and Light Laptop              6  \n",
       "acer Aspire 5 Ryzen 5 Hexa Core AMD Ryzen 5-5500U hexa-core - (8 GB/512 GB SSD/Windows 10 Home) A515-45 Thin and Light Laptop                            6  \n",
       "HP Pavilion Ryzen 5 Hexa Core 5600H - (8 GB/512 GB SSD/Windows 11 Home/4 GB Graphics/NVIDIA GeForce GTX 3050) 15-EC2145AX Gaming Laptop                  5  \n",
       "IAIR Basic Feature Dual Sim Mobile Phone with 2800mAh Battery, 2.4 inch Display Screen, 0.8 mp Camera with Big LED Torch (FPS6, Sky Blue)                5  "
      ]
     },
     "metadata": {},
     "output_type": "display_data"
    }
   ],
   "source": [
    "# if we consider the original data (excluding 'Anonymous' users)\n",
    "popularity_rec(revs1)"
   ]
  },
  {
   "cell_type": "code",
   "execution_count": 230,
   "id": "increased-smith",
   "metadata": {
    "execution": {
     "iopub.execute_input": "2021-05-17T07:46:14.167915Z",
     "iopub.status.busy": "2021-05-17T07:46:14.166699Z",
     "iopub.status.idle": "2021-05-17T07:46:14.701115Z",
     "shell.execute_reply": "2021-05-17T07:46:14.700379Z"
    },
    "papermill": {
     "duration": 0.644353,
     "end_time": "2021-05-17T07:46:14.701315",
     "exception": false,
     "start_time": "2021-05-17T07:46:14.056962",
     "status": "completed"
    },
    "tags": []
   },
   "outputs": [
    {
     "name": "stdout",
     "output_type": "stream",
     "text": [
      "Flipkart  the Phonepe wallet activation is not working. How do I recieve my refund Rs. 177/-? Customer Samarendra Singh\n"
     ]
    }
   ],
   "source": [
    "field_length = revs1.username.astype(str).map(len)\n",
    "print (revs1.iloc[field_length.argmax(),0])"
   ]
  },
  {
   "cell_type": "markdown",
   "id": "floppy-excerpt",
   "metadata": {
    "papermill": {
     "duration": 0.104988,
     "end_time": "2021-05-17T07:46:14.911021",
     "exception": false,
     "start_time": "2021-05-17T07:46:14.806033",
     "status": "completed"
    },
    "tags": []
   },
   "source": [
    "## 4. Collaborative filtering based models <a id=\"collaborative_filtering\"></a>\n",
    "[Go to top](#toc)"
   ]
  },
  {
   "cell_type": "markdown",
   "id": "acoustic-artist",
   "metadata": {
    "papermill": {
     "duration": 0.105212,
     "end_time": "2021-05-17T07:46:15.123511",
     "exception": false,
     "start_time": "2021-05-17T07:46:15.018299",
     "status": "completed"
    },
    "tags": []
   },
   "source": [
    "### 4.1. Collaborative filtering model using SVD <a id=\"svd\"></a>\n",
    "[Go to top](#toc)"
   ]
  },
  {
   "cell_type": "code",
   "execution_count": 231,
   "id": "advanced-expression",
   "metadata": {
    "execution": {
     "iopub.execute_input": "2021-05-17T07:46:15.352341Z",
     "iopub.status.busy": "2021-05-17T07:46:15.341343Z",
     "iopub.status.idle": "2021-05-17T07:46:15.729306Z",
     "shell.execute_reply": "2021-05-17T07:46:15.730177Z"
    },
    "papermill": {
     "duration": 0.501105,
     "end_time": "2021-05-17T07:46:15.730468",
     "exception": false,
     "start_time": "2021-05-17T07:46:15.229363",
     "status": "completed"
    },
    "tags": []
   },
   "outputs": [
    {
     "name": "stdout",
     "output_type": "stream",
     "text": [
      "top 3 values from trainset: \n",
      "\n",
      "0 ->  [(0, 4.0), (226, 3.0), (95, 3.0), (54, 4.0), (89, 5.0), (117, 3.0), (227, 1.0), (82, 5.0), (167, 3.0), (573, 5.0), (26, 5.0), (103, 1.0), (44, 5.0), (77, 5.0), (147, 3.0), (99, 5.0), (121, 1.0), (229, 5.0), (171, 4.0), (113, 5.0), (35, 5.0), (169, 3.0), (339, 5.0), (65, 5.0), (130, 1.0), (252, 4.0), (160, 5.0), (20, 5.0), (132, 5.0), (69, 5.0), (66, 5.0), (53, 5.0), (69, 4.0), (415, 5.0), (81, 3.0), (230, 4.0), (204, 3.0), (141, 5.0), (285, 5.0), (225, 5.0), (26, 4.0), (160, 1.0), (395, 5.0), (14, 5.0), (43, 5.0), (133, 5.0), (115, 4.0), (20, 4.0), (1, 4.0), (622, 5.0)] \n",
      "\n",
      "1 ->  [(1, 5.0), (4, 5.0), (77, 2.0), (94, 1.0), (4, 3.0), (196, 5.0), (236, 5.0), (230, 4.0), (1, 4.0), (95, 4.0), (187, 5.0), (128, 1.0), (207, 1.0), (95, 5.0), (332, 3.0), (87, 4.0), (312, 4.0), (204, 2.0), (270, 4.0), (423, 5.0), (47, 5.0), (361, 3.0), (156, 5.0), (255, 3.0), (65, 3.0), (73, 4.0), (584, 4.0), (105, 5.0), (35, 5.0), (115, 4.0), (387, 5.0), (226, 5.0), (33, 5.0), (86, 4.0), (207, 5.0), (30, 5.0), (63, 3.0), (179, 4.0), (483, 2.0), (112, 4.0), (63, 4.0), (84, 5.0), (45, 5.0), (397, 2.0), (352, 4.0), (15, 4.0), (32, 5.0), (30, 1.0), (659, 2.0), (54, 2.0), (89, 5.0), (50, 5.0), (140, 5.0), (176, 5.0), (24, 4.0), (214, 2.0), (2, 5.0), (406, 5.0), (15, 5.0), (254, 3.0), (375, 1.0), (216, 3.0), (172, 4.0), (76, 4.0), (128, 4.0), (77, 5.0), (166, 5.0), (147, 2.0), (173, 5.0), (182, 5.0), (197, 5.0), (200, 3.0), (204, 1.0), (195, 4.0), (285, 2.0), (274, 5.0), (117, 5.0), (54, 4.0), (78, 5.0), (75, 5.0), (457, 5.0), (41, 5.0), (132, 5.0), (105, 1.0), (112, 5.0), (410, 3.0), (5, 4.0), (227, 5.0), (410, 5.0), (260, 5.0), (93, 1.0), (167, 2.0), (184, 5.0), (188, 4.0), (277, 5.0), (22, 5.0), (199, 5.0), (130, 5.0), (143, 5.0), (195, 5.0), (159, 4.0), (176, 4.0), (95, 3.0), (106, 5.0), (395, 5.0), (235, 4.0), (18, 4.0), (86, 5.0), (40, 4.0), (87, 3.0), (206, 5.0), (131, 5.0), (71, 4.0), (91, 5.0), (169, 5.0), (564, 4.0), (257, 5.0), (98, 3.0), (136, 1.0), (371, 5.0), (182, 4.0), (216, 1.0), (70, 2.0), (41, 4.0), (5, 3.0), (233, 3.0), (230, 5.0), (582, 2.0), (73, 2.0), (181, 4.0), (7, 1.0), (149, 5.0), (115, 5.0), (39, 5.0), (84, 2.0), (223, 5.0), (28, 5.0), (93, 5.0), (126, 4.0), (3, 5.0), (55, 4.0), (139, 5.0), (121, 5.0), (155, 5.0), (332, 5.0), (40, 5.0), (375, 5.0), (361, 4.0), (70, 5.0), (252, 5.0), (619, 5.0), (92, 5.0), (247, 4.0), (200, 5.0), (69, 5.0), (25, 5.0), (98, 4.0), (313, 5.0), (43, 5.0), (158, 5.0), (88, 5.0), (235, 1.0), (136, 4.0), (4, 1.0), (51, 5.0)] \n",
      "\n",
      "2 ->  [(2, 4.0), (112, 5.0), (4, 5.0), (260, 2.0), (224, 4.0), (235, 5.0), (86, 5.0), (288, 5.0), (29, 4.0), (60, 5.0), (1, 5.0), (173, 4.0), (215, 4.0), (86, 4.0), (43, 3.0), (226, 5.0), (44, 5.0), (269, 4.0), (383, 5.0), (111, 5.0), (234, 4.0), (21, 1.0), (434, 5.0), (234, 3.0), (230, 5.0), (65, 4.0), (89, 5.0), (279, 5.0), (97, 3.0), (115, 5.0), (112, 4.0), (36, 5.0), (33, 4.0), (17, 1.0), (143, 4.0), (243, 5.0), (58, 3.0), (20, 3.0), (150, 3.0), (7, 5.0), (96, 5.0), (11, 5.0), (141, 5.0), (90, 3.0), (110, 4.0), (250, 4.0), (86, 1.0), (136, 1.0), (136, 5.0), (74, 5.0), (193, 4.0), (285, 2.0), (170, 5.0), (229, 5.0), (43, 5.0), (128, 1.0), (235, 1.0), (140, 5.0), (106, 5.0), (217, 5.0), (158, 4.0), (92, 2.0), (40, 4.0), (384, 5.0), (274, 5.0), (474, 1.0), (402, 5.0), (2, 5.0), (132, 3.0), (191, 5.0), (53, 3.0), (289, 4.0), (422, 4.0), (83, 5.0), (33, 3.0), (15, 5.0), (566, 5.0), (220, 5.0), (197, 3.0), (35, 3.0), (324, 5.0), (248, 4.0), (15, 2.0), (322, 5.0), (305, 4.0), (250, 5.0), (75, 1.0), (129, 5.0), (135, 5.0), (195, 5.0), (86, 2.0), (14, 5.0), (113, 4.0), (390, 3.0), (151, 5.0), (516, 4.0), (318, 4.0), (15, 3.0), (423, 5.0), (72, 5.0), (66, 5.0), (15, 4.0)] \n",
      "\n",
      "\n",
      "top 3 values from testset: \n",
      "\n",
      "('Amit Yadav', 'Infinix Smart HD 2021 (Quartz Green, 32 GB)', 5.0)\n",
      "\n",
      "('Raju Kumar', 'POCO M2 Pro (Green and Greener, 64 GB)', 5.0)\n",
      "\n",
      "('Saurabh Sharma', 'Xiaomi 11i 5G (Stealth Black, 128 GB)', 1.0)\n"
     ]
    }
   ],
   "source": [
    "# Rearrange columns for SVD and prepare train and testsets\n",
    "revs50_ = Dataset.load_from_df(revs_50[['username','productname','rate']], Reader(rating_scale=(1, 10)))\n",
    "trainset, testset = train_test_split(revs50_, test_size=.25,random_state=RS)\n",
    "\n",
    "print('top 3 values from trainset: \\n')\n",
    "for key,value in {k: v for k, v in trainset.ur.items() if k <= 2}.items(): print(key,'-> ',value,'\\n')\n",
    "print('\\ntop 3 values from testset: ', *testset[0:3], sep='\\n\\n')"
   ]
  },
  {
   "cell_type": "code",
   "execution_count": 232,
   "id": "russian-underwear",
   "metadata": {
    "execution": {
     "iopub.execute_input": "2021-05-17T07:46:15.947160Z",
     "iopub.status.busy": "2021-05-17T07:46:15.946134Z",
     "iopub.status.idle": "2021-05-17T07:46:15.949308Z",
     "shell.execute_reply": "2021-05-17T07:46:15.948725Z"
    },
    "papermill": {
     "duration": 0.114257,
     "end_time": "2021-05-17T07:46:15.949449",
     "exception": false,
     "start_time": "2021-05-17T07:46:15.835192",
     "status": "completed"
    },
    "tags": []
   },
   "outputs": [],
   "source": [
    "# Objective: To get top_n recommendation for each user\n",
    "def get_top_n(predictions, n=5):\n",
    "    # First map the predictions to each user.\n",
    "    top_n = defaultdict(list)\n",
    "    for uid, iid, true_r, est, _ in predictions:\n",
    "        top_n[uid].append((iid, est))\n",
    "\n",
    "    # Then sort the predictions for each user and retrieve the n highest ones.\n",
    "    for uid, user_ratings in top_n.items():\n",
    "        user_ratings.sort(key=lambda x: x[1], reverse=True)\n",
    "        top_n[uid] = user_ratings[:n]\n",
    "\n",
    "    return top_n"
   ]
  },
  {
   "cell_type": "code",
   "execution_count": 233,
   "id": "diverse-trout",
   "metadata": {
    "execution": {
     "iopub.execute_input": "2021-05-17T07:46:16.245848Z",
     "iopub.status.busy": "2021-05-17T07:46:16.245189Z",
     "iopub.status.idle": "2021-05-17T07:46:23.952953Z",
     "shell.execute_reply": "2021-05-17T07:46:23.952004Z"
    },
    "papermill": {
     "duration": 7.898488,
     "end_time": "2021-05-17T07:46:23.953114",
     "exception": false,
     "start_time": "2021-05-17T07:46:16.054626",
     "status": "completed"
    },
    "tags": []
   },
   "outputs": [
    {
     "name": "stdout",
     "output_type": "stream",
     "text": [
      "First few prediction values: \n",
      " [Prediction(uid='Amit Yadav', iid='Infinix Smart HD 2021 (Quartz Green, 32 GB)', r_ui=5.0, est=4.668052845699334, details={'was_impossible': False}), Prediction(uid='Raju Kumar', iid='POCO M2 Pro (Green and Greener, 64 GB)', r_ui=5.0, est=4.365055760442149, details={'was_impossible': False})]\n",
      "RMSE: 1.1792\n",
      "\n",
      "RMSE value(test-set):  1.18 \n",
      "\n",
      "RMSE: 1.1792\n",
      "CPU times: total: 2.42 s\n",
      "Wall time: 2.42 s\n"
     ]
    }
   ],
   "source": [
    "%%time\n",
    "# fit and predict using svd\n",
    "def svd_func(train, test):\n",
    "    svd = SVD(random_state=RS)\n",
    "    svd.fit(train)\n",
    "    svd_pred = svd.test(test)\n",
    "    return svd_pred, svd\n",
    "\n",
    "svd_pred, svd = svd_func(trainset,testset)\n",
    "print('First few prediction values: \\n',svd_pred[0:2])\n",
    "print('\\nRMSE value(test-set): ',round(accuracy.rmse(svd_pred),2),'\\n') # compute RMSE\n",
    "svd_rmse = round(accuracy.rmse(svd_pred),2)"
   ]
  },
  {
   "cell_type": "markdown",
   "id": "detailed-journey",
   "metadata": {
    "papermill": {
     "duration": 0.11025,
     "end_time": "2021-05-17T07:46:24.173630",
     "exception": false,
     "start_time": "2021-05-17T07:46:24.063380",
     "status": "completed"
    },
    "tags": []
   },
   "source": [
    "### 4.2. Collaborative filtering model using kNNWithMeans_Item based <a id=\"knnwithmeans_item_based\"></a>\n",
    "[Go to top](#toc)"
   ]
  },
  {
   "cell_type": "code",
   "execution_count": 234,
   "id": "textile-repair",
   "metadata": {
    "execution": {
     "iopub.execute_input": "2021-05-17T07:46:24.602735Z",
     "iopub.status.busy": "2021-05-17T07:46:24.496140Z",
     "iopub.status.idle": "2021-05-17T07:46:42.981797Z",
     "shell.execute_reply": "2021-05-17T07:46:42.980453Z"
    },
    "papermill": {
     "duration": 18.702625,
     "end_time": "2021-05-17T07:46:42.981973",
     "exception": false,
     "start_time": "2021-05-17T07:46:24.279348",
     "status": "completed"
    },
    "tags": []
   },
   "outputs": [
    {
     "name": "stdout",
     "output_type": "stream",
     "text": [
      "Estimating biases using als...\n",
      "Computing the pearson_baseline similarity matrix...\n",
      "Done computing similarity matrix.\n",
      "First few prediction values: \n",
      " [Prediction(uid='Amit Yadav', iid='Infinix Smart HD 2021 (Quartz Green, 32 GB)', r_ui=5.0, est=4.262554473695209, details={'actual_k': 43, 'was_impossible': False}), Prediction(uid='Raju Kumar', iid='POCO M2 Pro (Green and Greener, 64 GB)', r_ui=5.0, est=4.400629577540286, details={'actual_k': 48, 'was_impossible': False})]\n",
      "RMSE: 1.1523\n",
      "\n",
      "RMSE value(Item-based Model, test-set):  1.15 \n",
      "\n",
      "RMSE: 1.1523\n",
      "CPU times: total: 3.53 s\n",
      "Wall time: 3.54 s\n"
     ]
    }
   ],
   "source": [
    "%%time\n",
    "# fit and predict using knn\n",
    "def knn_item(train, test):\n",
    "    knn_i = KNNWithMeans(k=50, sim_options={'name': 'pearson_baseline', 'user_based': False})\n",
    "    knn_i.fit(train)\n",
    "    knn_i_pred = knn_i.test(test)\n",
    "    return knn_i_pred, knn_i\n",
    "\n",
    "knn_i_pred, knn_i = knn_item(trainset, testset)\n",
    "print('First few prediction values: \\n',knn_i_pred[0:2])\n",
    "print('\\nRMSE value(Item-based Model, test-set): ',round(accuracy.rmse(knn_i_pred),2),'\\n') # compute RMSE\n",
    "knn_i_rmse = round(accuracy.rmse(knn_i_pred),2)"
   ]
  },
  {
   "cell_type": "code",
   "execution_count": null,
   "id": "deluxe-customer",
   "metadata": {
    "papermill": {
     "duration": 0.107942,
     "end_time": "2021-05-17T07:46:43.198939",
     "exception": false,
     "start_time": "2021-05-17T07:46:43.090997",
     "status": "completed"
    },
    "tags": []
   },
   "outputs": [],
   "source": []
  },
  {
   "cell_type": "markdown",
   "id": "coordinate-newman",
   "metadata": {
    "papermill": {
     "duration": 0.106191,
     "end_time": "2021-05-17T07:46:43.411372",
     "exception": false,
     "start_time": "2021-05-17T07:46:43.305181",
     "status": "completed"
    },
    "tags": []
   },
   "source": [
    "## 4.3. Collaborative filtering model using kNNWithMeans_User based <a id=\"knnwithmeans_user_based\"></a>\n",
    "[Go to top](#toc)"
   ]
  },
  {
   "cell_type": "code",
   "execution_count": 235,
   "id": "intense-horizontal",
   "metadata": {
    "execution": {
     "iopub.execute_input": "2021-05-17T07:46:43.813140Z",
     "iopub.status.busy": "2021-05-17T07:46:43.722384Z",
     "iopub.status.idle": "2021-05-17T07:46:51.643536Z",
     "shell.execute_reply": "2021-05-17T07:46:51.644280Z"
    },
    "papermill": {
     "duration": 8.126717,
     "end_time": "2021-05-17T07:46:51.644539",
     "exception": false,
     "start_time": "2021-05-17T07:46:43.517822",
     "status": "completed"
    },
    "tags": []
   },
   "outputs": [
    {
     "name": "stdout",
     "output_type": "stream",
     "text": [
      "Estimating biases using als...\n",
      "Computing the pearson_baseline similarity matrix...\n",
      "Done computing similarity matrix.\n",
      "First few prediction values: \n",
      " [Prediction(uid='Amit Yadav', iid='Infinix Smart HD 2021 (Quartz Green, 32 GB)', r_ui=5.0, est=4.248311159730277, details={'actual_k': 50, 'was_impossible': False}), Prediction(uid='Raju Kumar', iid='POCO M2 Pro (Green and Greener, 64 GB)', r_ui=5.0, est=4.281097307282474, details={'actual_k': 50, 'was_impossible': False})]\n",
      "RMSE: 1.1920\n",
      "\n",
      "RMSE value(User-based Model, test-set):  1.19 \n",
      "\n",
      "RMSE: 1.1920\n",
      "CPU times: total: 3.42 s\n",
      "Wall time: 3.43 s\n"
     ]
    }
   ],
   "source": [
    "%%time\n",
    "# fit and predict using knn\n",
    "def knn_user(train, test):\n",
    "    knn_u = KNNWithMeans(k=50, sim_options={'name': 'pearson_baseline', 'user_based': True})\n",
    "    knn_u.fit(train)\n",
    "    knn_u_pred = knn_u.test(test)\n",
    "    return knn_u_pred, knn_u\n",
    "\n",
    "knn_u_pred, knn_u = knn_user(trainset, testset)\n",
    "print('First few prediction values: \\n',knn_u_pred[0:2])\n",
    "print('\\nRMSE value(User-based Model, test-set): ',round(accuracy.rmse(knn_u_pred),2),'\\n') # compute RMSE\n",
    "knn_u_rmse = round(accuracy.rmse(knn_u_pred),2)"
   ]
  },
  {
   "cell_type": "markdown",
   "id": "weighted-passenger",
   "metadata": {
    "papermill": {
     "duration": 0.112457,
     "end_time": "2021-05-17T07:46:52.093463",
     "exception": false,
     "start_time": "2021-05-17T07:46:51.981006",
     "status": "completed"
    },
    "tags": []
   },
   "source": [
    "## 5. Show RMSE value and comparison <a id=\"rmse\"></a>\n",
    "[Go to top](#toc)"
   ]
  },
  {
   "cell_type": "code",
   "execution_count": 236,
   "id": "packed-genome",
   "metadata": {
    "execution": {
     "iopub.execute_input": "2021-05-17T07:46:52.375115Z",
     "iopub.status.busy": "2021-05-17T07:46:52.374434Z",
     "iopub.status.idle": "2021-05-17T07:46:52.492027Z",
     "shell.execute_reply": "2021-05-17T07:46:52.491101Z"
    },
    "papermill": {
     "duration": 0.287043,
     "end_time": "2021-05-17T07:46:52.492177",
     "exception": false,
     "start_time": "2021-05-17T07:46:52.205134",
     "status": "completed"
    },
    "tags": []
   },
   "outputs": [
    {
     "data": {
      "text/plain": [
       "<AxesSubplot:>"
      ]
     },
     "execution_count": 236,
     "metadata": {},
     "output_type": "execute_result"
    },
    {
     "data": {
      "image/png": "[encoded data removed]",
      "text/plain": [
       "<Figure size 432x288 with 1 Axes>"
      ]
     },
     "metadata": {
      "needs_background": "light"
     },
     "output_type": "display_data"
    }
   ],
   "source": [
    "# Comparison of RMSE scores from different collaorative algorithms\n",
    "sns.barplot(x=['svd_rmse','knn_i_rmse', 'knn_u_rmse'],y=[svd_rmse,knn_i_rmse, knn_u_rmse])"
   ]
  },
  {
   "cell_type": "markdown",
   "id": "departmental-feeding",
   "metadata": {
    "papermill": {
     "duration": 0.111357,
     "end_time": "2021-05-17T07:46:52.715358",
     "exception": false,
     "start_time": "2021-05-17T07:46:52.604001",
     "status": "completed"
    },
    "tags": []
   },
   "source": [
    "Best RMSE score is given by knn (item based), so let's use it for further analyssi"
   ]
  },
  {
   "cell_type": "markdown",
   "id": "possible-separate",
   "metadata": {
    "papermill": {
     "duration": 0.110352,
     "end_time": "2021-05-17T07:46:52.936202",
     "exception": false,
     "start_time": "2021-05-17T07:46:52.825850",
     "status": "completed"
    },
    "tags": []
   },
   "source": [
    "## 6. Average ratings for test users <a id=\"average_rating\"></a>\n",
    "[Go to top](#toc)"
   ]
  },
  {
   "cell_type": "code",
   "execution_count": 237,
   "id": "advisory-carbon",
   "metadata": {
    "execution": {
     "iopub.execute_input": "2021-05-17T07:46:53.169292Z",
     "iopub.status.busy": "2021-05-17T07:46:53.168561Z",
     "iopub.status.idle": "2021-05-17T07:46:53.207436Z",
     "shell.execute_reply": "2021-05-17T07:46:53.207931Z"
    },
    "papermill": {
     "duration": 0.160138,
     "end_time": "2021-05-17T07:46:53.208111",
     "exception": false,
     "start_time": "2021-05-17T07:46:53.047973",
     "status": "completed"
    },
    "tags": []
   },
   "outputs": [
    {
     "name": "stdout",
     "output_type": "stream",
     "text": [
      "average prediction for test users:  4.103176171542065\n",
      "average rating  by test users:  4.1064057893326185\n",
      "average prediction error for test users:  0.8998876472269711\n"
     ]
    }
   ],
   "source": [
    "svd_pred_df=pd.DataFrame(svd_pred, columns=['uid', 'iid', 'rui', 'est', 'details'])\n",
    "print('average prediction for test users: ',svd_pred_df['est'].mean())\n",
    "print('average rating  by test users: ',svd_pred_df['rui'].mean())\n",
    "print('average prediction error for test users: ',(svd_pred_df['rui']-svd_pred_df['est']).abs().mean())"
   ]
  },
  {
   "cell_type": "code",
   "execution_count": 238,
   "id": "heavy-shelf",
   "metadata": {
    "execution": {
     "iopub.execute_input": "2021-05-17T07:46:53.473052Z",
     "iopub.status.busy": "2021-05-17T07:46:53.472365Z",
     "iopub.status.idle": "2021-05-17T07:46:53.484647Z",
     "shell.execute_reply": "2021-05-17T07:46:53.485145Z"
    },
    "papermill": {
     "duration": 0.164163,
     "end_time": "2021-05-17T07:46:53.485351",
     "exception": false,
     "start_time": "2021-05-17T07:46:53.321188",
     "status": "completed"
    },
    "tags": []
   },
   "outputs": [
    {
     "name": "stdout",
     "output_type": "stream",
     "text": [
      "average prediction for test users:  4.06525934201064\n",
      "average rating  by test users:  4.1064057893326185\n",
      "average prediction error for test users:  0.8570448254386742\n"
     ]
    }
   ],
   "source": [
    "knn_i_pred_df=pd.DataFrame(knn_i_pred, columns=['uid', 'iid', 'rui', 'est', 'details'])\n",
    "print('average prediction for test users: ',knn_i_pred_df['est'].mean())\n",
    "print('average rating  by test users: ',knn_i_pred_df['rui'].mean())\n",
    "print('average prediction error for test users: ',(knn_i_pred_df['rui']-knn_i_pred_df['est']).abs().mean())"
   ]
  },
  {
   "cell_type": "code",
   "execution_count": 239,
   "id": "excessive-intermediate",
   "metadata": {
    "execution": {
     "iopub.execute_input": "2021-05-17T07:46:53.736147Z",
     "iopub.status.busy": "2021-05-17T07:46:53.726430Z",
     "iopub.status.idle": "2021-05-17T07:46:53.754154Z",
     "shell.execute_reply": "2021-05-17T07:46:53.754752Z"
    },
    "papermill": {
     "duration": 0.158785,
     "end_time": "2021-05-17T07:46:53.754952",
     "exception": false,
     "start_time": "2021-05-17T07:46:53.596167",
     "status": "completed"
    },
    "tags": []
   },
   "outputs": [
    {
     "name": "stdout",
     "output_type": "stream",
     "text": [
      "average prediction for test users:  4.081674719547944\n",
      "average rating  by test users:  4.1064057893326185\n",
      "average prediction error for test users:  0.9027389018016587\n"
     ]
    }
   ],
   "source": [
    "knn_u_pred_df=pd.DataFrame(knn_u_pred, columns=['uid', 'iid', 'rui', 'est', 'details'])\n",
    "print('average prediction for test users: ',knn_u_pred_df['est'].mean())\n",
    "print('average rating  by test users: ',knn_u_pred_df['rui'].mean())\n",
    "print('average prediction error for test users: ',(knn_u_pred_df['rui']-knn_u_pred_df['est']).abs().mean())"
   ]
  },
  {
   "cell_type": "markdown",
   "id": "appointed-toyota",
   "metadata": {
    "papermill": {
     "duration": 0.109975,
     "end_time": "2021-05-17T07:46:53.985872",
     "exception": false,
     "start_time": "2021-05-17T07:46:53.875897",
     "status": "completed"
    },
    "tags": []
   },
   "source": [
    "## 7. Summary (findings and Inferences) <a id=\"summary_inferences\"></a>\n",
    "[Go to top](#toc)\n",
    "\n",
    "1. Most popular phone (rated 10 by highest number of people):  \n",
    "        * Overall: verykool t742\n",
    "        * Amongst top users: samsung e1120       \n",
    "2. Overall data is highly skewed towards 'Amazon customers' from different countries. This may also be because 'Amazon' is the biggest trader for phones in the world. Although correct 'user' names from 'Amazon' should have used.\n",
    "3. Most of the authors have given the rating of '10' or '8'\n",
    "4. Both knn_i(item-based) and knn_u(user-based) have roughly similar RMSE"
   ]
  },
  {
   "cell_type": "markdown",
   "id": "junior-treatment",
   "metadata": {
    "papermill": {
     "duration": 0.110727,
     "end_time": "2021-05-17T07:46:54.209711",
     "exception": false,
     "start_time": "2021-05-17T07:46:54.098984",
     "status": "completed"
    },
    "tags": []
   },
   "source": [
    "## 8. Recommend top 5 products for test users <a id=\"recommend_top_5\"></a>\n",
    "[Go to top](#toc)"
   ]
  },
  {
   "cell_type": "code",
   "execution_count": 240,
   "id": "strange-norman",
   "metadata": {
    "execution": {
     "iopub.execute_input": "2021-05-17T07:46:54.473992Z",
     "iopub.status.busy": "2021-05-17T07:46:54.472968Z",
     "iopub.status.idle": "2021-05-17T07:46:54.933125Z",
     "shell.execute_reply": "2021-05-17T07:46:54.933915Z"
    },
    "papermill": {
     "duration": 0.614735,
     "end_time": "2021-05-17T07:46:54.934158",
     "exception": false,
     "start_time": "2021-05-17T07:46:54.319423",
     "status": "completed"
    },
    "scrolled": true,
    "tags": []
   },
   "outputs": [
    {
     "name": "stdout",
     "output_type": "stream",
     "text": [
      "Top 5 recommendations for all test users are: \n",
      "\n",
      "Amit Yadav ->  [('realme C11 2021 (Cool Blue, 32 GB)', 4.796924262390658), ('MOTOROLA g31 (Baby Blue, 64 GB)', 4.784783019182167), ('Infinix Hot 10 (Ocean Wave, 64 GB)', 4.763452742509925), ('OPPO K10 (Black Carbon, 128 GB)', 4.750991959772378), ('APPLE iPhone 12 (Green, 64 GB)', 4.714591150221394)] \n",
      "\n",
      "Raju Kumar ->  [('ASUS Ryzen 3 Dual Core 3250U 3rd Gen - (8 GB/256 GB SSD/Windows 10 Home) M515DA-BQ322TS Thin and Light Laptop', 4.925890945651976), ('Infinix Hot 10 Play (Aegean Blue, 64 GB)', 4.738903897281874), ('realme C11 2021 (Cool Grey, 64 GB)', 4.737609863355164), ('APPLE iPhone 12 Mini (Black, 64 GB)', 4.670817007325861), ('realme C11 2021 (Cool Blue, 64 GB)', 4.595733765099034)] \n",
      "\n",
      "Saurabh Sharma ->  [('APPLE iPhone 12 (Green, 64 GB)', 4.889808488825567), ('APPLE iPhone 12 (Black, 64 GB)', 4.844362765192313), ('APPLE iPhone 11 (Yellow, 128 GB)', 4.752769827496379), ('Micromax IN Note 1 (White, 64 GB)', 4.632174969907736), ('realme C11 2021 (Cool Blue, 32 GB)', 4.456058368427686)] \n",
      "\n",
      "Rohit Yadav ->  [('APPLE iPhone SE (Black, 128 GB)', 4.866127449084974), ('realme C11 2021 (Cool Blue, 32 GB)', 4.846499320312963), ('APPLE iPhone SE (Black, 64 GB)', 4.796960812468752), ('OPPO A31 (Mystery Black, 64 GB)', 4.657935920587025), ('Infinix Hot 10 Play (Obsidian Black, 64 GB)', 4.653752518586865)] \n",
      "\n",
      "Sachin Kumar ->  [('SAMSUNG Metro 313 Dual Sim', 4.643409555747361), ('SAMSUNG Galaxy F12 (Celestial Black, 128 GB)', 4.64274161684793), ('OPPO A12 (Black, 32 GB)', 4.628231305569002), ('SAMSUNG Galaxy F12 (Sea Green, 128 GB)', 4.589735162077651), ('LAVA A3', 4.582084741614265)] \n",
      "\n",
      "Vignesh ->  [('OPPO Reno4 Pro (Silky White, 128 GB)', 5.267521568282312), ('APPLE iPhone 12 (Red, 128 GB)', 4.910090348802546), ('Nokia TA-1174 / TA-1299', 4.779842677010897), ('APPLE iPhone 12 (Black, 64 GB)', 4.765554724278487), ('realme GT Master Edition (Luna White, 128 GB)', 4.686351158842628)] \n",
      "\n",
      "Flipkart Customer ->  [('APPLE iPhone 13 Mini (Pink, 128 GB)', 4.939039947769502), ('OPPO Reno4 Pro (Silky White, 128 GB)', 4.882216965744507), ('OPPO Reno4 Pro (Silky White, 128 GB)', 4.882216965744507), ('HP Core i5 11th Gen - (8 GB + 32 GB Optane/512 GB SSD/Windows 10 Home) 15s-FQ2071TU Thin and Light Laptop', 4.719026379706523), ('HP Core i5 11th Gen - (8 GB + 32 GB Optane/512 GB SSD/Windows 10 Home) 15s-FQ2071TU Thin and Light Laptop', 4.719026379706523)] \n",
      "\n",
      "Ramesh Kumar ->  [('APPLE iPhone 12 (Green, 64 GB)', 4.968770850279471), ('APPLE iPhone 12 (Blue, 64 GB)', 4.959125675720809), ('Redmi 9A (SeaBlue, 32 GB)', 4.948602430823193), ('I Kall K 19 Car', 4.927000574557476), ('APPLE iPhone 12 (Black, 64 GB)', 4.899446841716725)] \n",
      "\n",
      "Jitendra Kumar ->  [('Infinix Hot 11S (Polar Black, 64 GB)', 4.644935878502729), ('Infinix Hot 11S (7° Purple, 64 GB)', 4.619156261900172), ('realme C21 (Cross Blue, 32 GB)', 4.604239563628267), ('Infinix Hot 10 Play (Aegean Blue, 64 GB)', 4.580357280713487), ('Infinix Note 11 (Glacier Green, 64 GB)', 4.57924049064267)] \n",
      "\n",
      "Amit Mishra ->  [('SAMSUNG Galaxy F12 (Sky Blue, 64 GB)', 4.9659847249708), ('APPLE iPhone 12 (Red, 128 GB)', 4.9562995903702936), ('SAMSUNG Galaxy F12 (Sea Green, 64 GB)', 4.944329478986448), ('realme GT Master Edition (Luna White, 256 GB)', 4.686945322805228), ('SAMSUNG Galaxy A21s (Blue, 64 GB)', 4.386178136557326)] \n",
      "\n",
      "Asif Khan ->  [('SAMSUNG Galaxy F12 (Sea Green, 128 GB)', 4.825143006585413), ('POCO M3 Pro 5G (Power Black, 64 GB)', 4.8030184511114), ('POCO M3 Pro 5G (Cool Blue, 64 GB)', 4.794476587038925), ('SAMSUNG Galaxy F12 (Celestial Black, 128 GB)', 4.790415321037957), ('vivo V23 5G (Stardust Black, 128 GB)', 4.674349530941546)] \n",
      "\n",
      "Rohit kumar ->  [('APPLE iPhone 12 (White, 256 GB)', 4.96165598385284), ('APPLE iPhone 12 (Purple, 64 GB)', 4.935501740690181), ('realme Book (Slim) Core i3 11th Gen - (8 GB/256 GB SSD/Windows 10 Home) RMNB1001 Thin and Light Laptop', 4.764043404497334), ('Infinix Hot 10 (Amber Red, 64 GB)', 4.597315842321146), ('realme 8i (Space Black, 64 GB)', 4.588736006010395)] \n",
      "\n",
      "Ajay kumar ->  [('APPLE iPhone 11 (Red, 64 GB)', 4.904291951144566), ('APPLE iPhone 11 (White, 128 GB)', 4.868168071337695), ('APPLE iPhone SE (Red, 128 GB)', 4.861551052721372), ('APPLE iPhone SE (White, 64 GB)', 4.842190877812363), ('APPLE iPhone 11 (Black, 128 GB)', 4.832612859006723)] \n",
      "\n",
      "Ajay Singh ->  [('APPLE iPhone 12 Mini (White, 64 GB)', 4.694988535218807), ('APPLE iPhone 12 (Red, 128 GB)', 4.663278443710749), ('realme 9i (Prism Blue, 128 GB)', 4.587779230208207), ('APPLE iPhone 12 (White, 64 GB)', 4.551348256641399), ('OPPO A12 (Flowing Silver, 64 GB)', 4.54389677765422)] \n",
      "\n",
      "Vikas Kumar ->  [('APPLE iPhone 12 (Red, 128 GB)', 4.750151996403529), ('APPLE iPhone 12 (Black, 64 GB)', 4.660268267689971), ('SAMSUNG Guru Music 2', 4.614149229049896), ('APPLE iPhone 13 ((PRODUCT)RED, 256 GB)', 4.427289355725533), ('LAVA A3', 4.392748146292763)] \n",
      "\n",
      "Ravinder Kumar ->  [('APPLE iPhone SE (White, 64 GB)', 4.791637722044559), ('realme C25Y (Glacier Blue, 64 GB)', 4.757570275202728), ('realme 8i (Space Black, 128 GB)', 4.6863038634643255), ('OPPO Reno6 5G (Stellar Black, 128 GB)', 4.615639689156836), ('realme 8i (Space Purple, 128 GB)', 4.582110519348913)] \n",
      "\n",
      "Sudhir Kumar ->  [('APPLE iPhone 11 (Red, 64 GB)', 4.924447207140301), ('APPLE iPhone 11 (Yellow, 128 GB)', 4.899065355624248), ('APPLE iPhone 11 (Black, 128 GB)', 4.86887830308397), ('APPLE iPhone 11 (Purple, 128 GB)', 4.776404864957077), ('realme 9 Pro 5G (Aurora Green, 128 GB)', 4.654724339332507)] \n",
      "\n",
      "Anand  Kumar  ->  [('OPPO F17 Pro (Magic Blue, 128 GB)', 5.168391115532863), ('realme GT Master Edition (Voyager Grey, 256 GB)', 5.040830915842381), ('SAMSUNG Galaxy F12 (Sky Blue, 64 GB)', 5.014901925154118), ('realme GT Master Edition (Cosmos Black, 128 GB)', 4.987010002715092), ('Infinix Note 11 (Glacier Green, 64 GB)', 4.955117466033236)] \n",
      "\n",
      "Naresh Kumar ->  [('REDMI Note 10T 5G (Chromium White, 64 GB)', 4.64493203430985), ('SAMSUNG Galaxy F12 (Sea Green, 64 GB)', 4.592996368306093), ('SAMSUNG Galaxy F12 (Celestial Black, 64 GB)', 4.4899271911375225), ('SAMSUNG Galaxy F12 (Sky Blue, 64 GB)', 4.486621486939096), ('Infinix Hot 10 (Amber Red, 64 GB)', 4.465500949614553)] \n",
      "\n",
      "Kundan Kumar ->  [('Infinix Smart 5A (Quetzal Cyan, 32 GB)', 4.89017816567451), ('Infinix Hot 10 Play (Aegean Blue, 64 GB)', 4.743344742181534), ('Infinix Hot 10 Play (7° Purple, 64 GB)', 4.7155770349408375), ('Infinix Hot 10 Play (Morandi Green, 64 GB)', 4.699140604477748), ('APPLE iPhone 12 Mini (Blue, 64 GB)', 4.679901344336462)] \n",
      "\n",
      "Santosh  Kumar  ->  [('realme Narzo 30 Pro 5G (Sword Black, 64 GB)', 4.9627928719323116), ('Itel IT2163', 4.857042826422577), ('REDMI 9 Prime (Matte Black, 64 GB)', 4.841724155081685), ('REDMI Note 9 (Aqua Green, 64 GB)', 4.797702014093554), ('REDMI Note 9 (Aqua Green, 64 GB)', 4.797702014093554)] \n",
      "\n",
      "Kuldeep Kumar ->  [('Infinix Hot 11 (Emerald Green, 64 GB)', 5.124649726195363), ('APPLE iPhone 11 (White, 128 GB)', 5.0215361959614055), ('APPLE iPhone 11 (Green, 128 GB)', 5.013137196444646), ('APPLE iPhone 11 (Yellow, 64 GB)', 4.999458388308919), ('Nokia 105 SS 2021', 4.9791769002169435)] \n",
      "\n",
      "Prince Kumar ->  [('APPLE iPhone 12 (Red, 128 GB)', 4.918221805785599), ('Infinix Hot 11 (Silver Wave, 64 GB)', 4.768363357161675), ('APPLE iPhone 12 (Black, 128 GB)', 4.767422288519662), ('OPPO A12 (Blue, 64 GB)', 4.737758045073603), ('ASUS VivoBook 15 Ryzen 3 Dual Core - (4 GB/256 GB SSD/Windows 10 Home) M515DA-BQ312TS Thin and Light Laptop', 4.730430642345999)] \n",
      "\n",
      "Kamal Kumar ->  [('HP 15-ec1105AX Ryzen 5 Hexa Core 4600H - (8 GB/512 GB SSD/Windows 10 Home/4 GB Graphics/NVIDIA GeForce GTX 1650) 15-ec1105AX Gaming Laptop', 5.139523137089757), ('APPLE iPhone 11 (Green, 128 GB)', 5.0461312301110315), ('Infinix Hot 11 (Emerald Green, 64 GB)', 4.951438148174604), ('realme Narzo 50A (Oxygen Green, 128 GB)', 4.945330050502987), ('realme C25Y (Metal Grey, 128 GB)', 4.888414546481616)] \n",
      "\n",
      "Sunil Yadav ->  [('APPLE iPhone SE (White, 128 GB)', 4.786995674172055), ('REDMI Note 9 (Aqua Green, 64 GB)', 4.722271245492733), ('APPLE iPhone SE (White, 64 GB)', 4.687291842263466), ('Micromax IN Note 1 (Green, 64 GB)', 4.464286943289594), ('REDMI 9 Power (Blazing Blue, 64 GB)', 4.234429883023368)] \n",
      "\n",
      "Pradeep Kumar ->  [('Infinix Hot 11S (Green Wave, 64 GB)', 4.7237008220111445), ('APPLE iPhone 11 (Red, 64 GB)', 4.670041661976844), ('OPPO A53s 5G (Ink Black, 128 GB)', 4.657338995214366), ('APPLE iPhone 11 (Yellow, 64 GB)', 4.655399081586499), ('Infinix Hot 10S (95° Black, 64 GB)', 4.6436445148402345)] \n",
      "\n",
      "Prashant Singh ->  [('APPLE 2020 Macbook Pro M1 - (8 GB/256 GB SSD/Mac OS Big Sur) MYD82HN/A', 5.076323081389433), ('APPLE iPhone 11 (Purple, 128 GB)', 5.069644891190264), ('APPLE iPhone 11 (Yellow, 128 GB)', 4.9976016451352585), ('APPLE iPhone 11 (Black, 128 GB)', 4.895042018755823), ('APPLE iPhone 11 (Red, 64 GB)', 4.796813137804947)] \n",
      "\n",
      "Pavan Kumar ->  [('APPLE iPhone 11 (Red, 64 GB)', 4.671303254962603), ('POCO C3 (Matte Black, 32 GB)', 4.40099143028141), ('OPPO Reno5 Pro 5G (Astral Blue, 128 GB)', 4.326110358163694), ('OPPO A33 (Mint Cream, 32 GB)', 4.31705270749963), ('realme 8 (Cyber Silver, 128 GB)', 4.312735855343171)] \n",
      "\n",
      "Vikash Kumar ->  [('APPLE iPhone 11 (Purple, 128 GB)', 4.844209468404896), ('APPLE iPhone 12 (Black, 64 GB)', 4.768373212558286), ('APPLE iPhone 12 Mini (White, 64 GB)', 4.656109668720537), ('APPLE iPhone 12 (Purple, 64 GB)', 4.655156606986542), ('REDMI Note 9 (Shadow Black, 64 GB)', 4.602304006217117)] \n",
      "\n",
      "MANISH KUMAR ->  [('APPLE iPhone 11 (White, 128 GB)', 5.02426739543525), ('APPLE iPhone 11 (Black, 128 GB)', 4.980567818313411), ('APPLE iPhone 12 Mini (Blue, 64 GB)', 4.9275924628929575), ('realme Narzo 30 (Racing Silver, 128 GB)', 4.9029163208097), ('SAMSUNG Guru Music 2', 4.820537289293074)] \n",
      "\n",
      "Deepak Sharma ->  [('APPLE iPhone SE (White, 64 GB)', 4.604154144818934), ('APPLE iPhone SE (Red, 64 GB)', 4.561365508098989), ('vivo V21 5G (Arctic White, 128 GB)', 4.560051372644242), ('REDMI Note 10S (Deep Sea Blue, 128 GB)', 4.430110874714427), ('Infinix Smart 5 (7 Purple, 32 GB)', 4.181263028707669)] \n",
      "\n",
      "Amresh Kumar ->  [('Infinix Hot 11S (7° Purple, 128 GB)', 5.078856161305324), ('Infinix Hot 11S (Green Wave, 64 GB)', 4.975348885750511), ('Infinix Hot 10 Play (Aegean Blue, 64 GB)', 4.881254352376592), ('realme Narzo 30 (Racing Silver, 64 GB)', 4.866831138063859), ('Xiaomi 11i 5G (Purple Mist, 128 GB)', 4.832217840437112)] \n",
      "\n",
      "Lokesh Kumar ->  [('APPLE iPhone 12 (White, 64 GB)', 4.694095473322141), ('OPPO A12 (Flowing Silver, 64 GB)', 4.688412480860366), ('APPLE iPhone 12 (Green, 64 GB)', 4.664361707262322), ('Xiaomi 11i 5G (Pacific Pearl, 128 GB)', 4.660765904358321), ('OPPO A12 (Blue, 64 GB)', 4.6581517730407755)] \n",
      "\n",
      "Durga Prasad ->  [('LAVA A1 Josh', 4.872616958307768), ('Infinix Smart 5 (Aegean Blue, 32 GB)', 4.688720554305962), ('Infinix Hot 11S (Green Wave, 128 GB)', 4.6134452879623495), ('Infinix Hot 11S (Silver Wave, 128 GB)', 4.613121807368549), ('realme Narzo 20 (Victory Blue, 128 GB)', 4.597536172255111)] \n",
      "\n",
      "Sunil  Kumar ->  [('APPLE iPhone 11 (Purple, 64 GB)', 4.935270465943349), ('APPLE iPhone 11 (Purple, 128 GB)', 4.922470399000619), ('APPLE iPhone 11 (Black, 64 GB)', 4.884176528268247), ('APPLE iPhone 11 (Green, 128 GB)', 4.863375988569057), ('APPLE iPhone SE (Black, 64 GB)', 4.833774085585198)] \n",
      "\n",
      "SURAJ KUMAR ->  [('Infinix Hot 11S (Silver Wave, 128 GB)', 5.003468728534135), ('Infinix Hot 10 Play (Obsidian Black, 64 GB)', 4.901594867356195), ('realme 9 Pro 5G (Midnight Black, 128 GB)', 4.8164337177431475), ('vivo V21 5G (Neon Spark, 128 GB)', 4.810606635915867), ('realme 9 Pro 5G (Aurora Green, 128 GB)', 4.725218591040532)] \n",
      "\n",
      "Manoj ->  [('APPLE iPhone 12 (Green, 64 GB)', 4.830933856385072), ('realme 9i (Prism Blue, 128 GB)', 4.317319875167263), ('realme Narzo 30 5G (Racing Silver, 128 GB)', 4.174578220033174), ('Micromax IN Note 1 (Green, 64 GB)', 4.044858193699431), ('POCO M2 Pro (Green and Greener, 64 GB)', 4.030928508958941)] \n",
      "\n",
      "Nishant Kumar ->  [('APPLE iPhone 12 (Blue, 64 GB)', 4.928464415360565), ('APPLE iPhone 12 (Purple, 64 GB)', 4.8406843984823285), ('APPLE iPhone 12 (White, 256 GB)', 4.819642048117361), ('APPLE iPhone 12 Mini (Black, 64 GB)', 4.227996739756591), ('realme Narzo 30 Pro 5G (Sword Black, 64 GB)', 4.020890197112884)] \n",
      "\n",
      "Gajendra  Singh ->  [('OPPO Reno6 5G (Aurora, 128 GB)', 4.887714215010015), ('APPLE iPhone 12 Mini (Black, 64 GB)', 4.745530689546041), ('realme 8i (Space Black, 64 GB)', 4.545616432691946), ('realme C21Y (Cross Black, 64 GB)', 4.157580897703634), ('realme C21 (Cross Black, 32 GB)', 3.969178881405697)] \n",
      "\n",
      "Mithilesh Kumar ->  [('APPLE iPhone SE (White, 128 GB)', 4.916974940589091), ('Infinix Note 11 (Graphite Black, 64 GB)', 4.795874631492288), ('APPLE iPhone SE (Red, 128 GB)', 4.709503718593983), ('REDMI 9 Power (Blazing Blue, 64 GB)', 4.6553338946450635), ('REDMI 9 Prime (Matte Black, 64 GB)', 4.5595628518150875)] \n",
      "\n",
      "Rahul Kumar ->  [('APPLE iPhone 12 (Red, 128 GB)', 4.730050594603582), ('APPLE iPhone 12 (Black, 64 GB)', 4.667041018504985), ('APPLE iPhone 12 (White, 64 GB)', 4.621472297257797), ('APPLE iPhone 12 (Purple, 64 GB)', 4.617185342280187), ('realme 9i (Prism Blue, 64 GB)', 4.603693780431192)] \n",
      "\n",
      "Abhishek Yadav ->  [('APPLE iPhone 11 (White, 128 GB)', 5.08085084494838), ('APPLE iPhone 11 (Black, 64 GB)', 4.969226102304906), ('APPLE iPhone 11 (Black, 128 GB)', 4.963155717070357), ('APPLE iPhone SE (Black, 64 GB)', 4.949697340004572), ('APPLE iPhone 11 (Green, 128 GB)', 4.944671252513788)] \n",
      "\n",
      "Ashok Kumar ->  [('APPLE iPhone 11 (White, 128 GB)', 5.0191282810156395), ('APPLE iPhone 11 (Green, 128 GB)', 4.919086679469656), ('SAMSUNG GT-E1215', 4.862010909828339), ('REDMI Note 10T 5G (Chromium White, 64 GB)', 4.819818811398809), ('OPPO A12 (Deep Blue, 32 GB)', 4.8170079360966565)] \n",
      "\n",
      "Naveen Kumar ->  [('APPLE iPhone 13 (Pink, 128 GB)', 4.845614016300269), ('APPLE iPhone 12 (Red, 128 GB)', 4.704672863176697), ('APPLE iPhone 12 (Black, 64 GB)', 4.632825004093011), ('OPPO A12 (Black, 32 GB)', 4.54702075370094), ('realme Narzo 50A (Oxygen Green, 64 GB)', 4.507025184803102)] \n",
      "\n",
      "My Account ->  [('APPLE iPhone 11 (Yellow, 64 GB)', 4.883439429273867), ('Kechaoda K33', 4.877340930902893), ('MOTOROLA g31 (Baby Blue, 64 GB)', 4.757079240838324), ('APPLE iPhone 12 Mini (White, 64 GB)', 4.6362734228179585), ('Infinix Hot 10 (Ocean Wave, 64 GB)', 4.625479728207448)] \n",
      "\n",
      "Vishal Singh ->  [('APPLE iPhone SE (Black, 128 GB)', 5.0023327077474455), ('Kechaoda K33', 4.957283597032844), ('APPLE iPhone SE (Red, 64 GB)', 4.881421142582539), ('OPPO A12 (Deep Blue, 32 GB)', 4.687070067305382), ('realme 8s 5G (Universe Purple, 128 GB)', 4.594322643611736)] \n",
      "\n",
      "Nilesh Kumar ->  [('APPLE iPhone 11 (Black, 64 GB)', 5.0028258209195124), ('APPLE iPhone 11 (Yellow, 128 GB)', 4.947493934171182), ('APPLE iPhone SE (White, 64 GB)', 4.920520051657229), ('realme 8 5G (Supersonic Blue, 64 GB)', 4.761631351319209), ('realme 8 5G (Supersonic Black, 64 GB)', 4.687503071615711)] \n",
      "\n",
      "Shivam Kumar ->  [('APPLE iPhone 12 (Purple, 64 GB)', 4.963190453116673), ('APPLE iPhone 12 (White, 64 GB)', 4.9507433801486105), ('realme C25Y (Metal Grey, 128 GB)', 4.7955346229139835), ('REDMI Note 10 Pro (Dark Night, 128 GB)', 4.67693027143729), ('REDMI Note 9 (Aqua Green, 64 GB)', 4.6665470412802454)] \n",
      "\n",
      "Rajesh Kumar ->  [('APPLE iPhone 12 (White, 256 GB)', 4.748858960970406), ('APPLE iPhone 12 (Black, 64 GB)', 4.712963965380225), ('OPPO A12 (Deep Blue, 32 GB)', 4.693004455874419), ('Infinix Smart 5A (Quetzal Cyan, 32 GB)', 4.657574863253675), ('Infinix Hot 11S (Polar Black, 64 GB)', 4.613613706665955)] \n",
      "\n",
      "Shahrukh Khan ->  [('APPLE iPhone 12 (Red, 128 GB)', 4.98811019725335), ('APPLE iPhone 12 (Purple, 64 GB)', 4.95469388195732), ('APPLE iPhone 12 (White, 64 GB)', 4.939081032162938), ('realme 9i (Prism Blue, 128 GB)', 4.8867702504572215), ('APPLE iPhone 12 (Black, 64 GB)', 4.857470408044296)] \n",
      "\n",
      "Prashant Kumar ->  [('APPLE iPhone 12 (Blue, 64 GB)', 4.671390132437742), ('Infinix Hot 11S (Polar Black, 128 GB)', 4.6521603345385), ('Infinix Hot 11S (Silver Wave, 128 GB)', 4.601195056754185), ('APPLE iPhone 12 (Red, 128 GB)', 4.5496323370312695), ('APPLE iPhone SE (Black, 64 GB)', 4.514096974186193)] \n",
      "\n",
      "Rohit Raj ->  [('REDMI 9 Power (Mighty Black, 64 GB)', 4.877779277409897), ('POCO M2 Pro (Out of the Blue, 64 GB)', 4.813520840572069), ('realme 8i (Space Black, 64 GB)', 4.795108564788165), ('realme C20 (Cool Grey, 32 GB)', 4.782728676974584), ('POCO M2 Pro (Two Shades of Black, 64 GB)', 4.77593082645666)] \n",
      "\n",
      "Ajith Kumar ->  [('APPLE iPhone 11 (Black, 64 GB)', 4.975010074357988), ('APPLE iPhone 11 (Purple, 128 GB)', 4.940111762356566), ('APPLE iPhone 11 (Red, 64 GB)', 4.861501040468961), ('POCO M3 (Power Black, 64 GB)', 4.030574390603241), ('realme 8 (Cyber Black, 128 GB)', 3.9755480280876183)] \n",
      "\n",
      "Sachin ->  [('APPLE iPhone 12 (Green, 64 GB)', 5.047936510746093), ('APPLE iPhone 12 Mini (Black, 64 GB)', 4.951498756573467), ('realme C25Y (Metal Grey, 128 GB)', 4.774399704498788), ('SAMSUNG Guru Music 2', 4.768928422536824), ('realme C21Y (Cross Blue, 32 GB)', 4.702098533254053)] \n",
      "\n",
      "Ankit Kumar ->  [('APPLE iPhone 13 (Starlight, 128 GB)', 5.083011007385024), ('APPLE iPhone 11 (Green, 128 GB)', 4.969704797873292), ('OPPO Reno4 Pro (Silky White, 128 GB)', 4.968834767296034), ('APPLE iPhone 11 (Black, 128 GB)', 4.8918129271117445), ('APPLE 2020 Macbook Air M1 - (8 GB/256 GB SSD/Mac OS Big Sur) MGN93HN/A', 4.881374716182295)] \n",
      "\n",
      "Manoj kumar ->  [('APPLE iPhone 12 (White, 64 GB)', 4.791715473675364), ('APPLE iPhone 12 (Red, 128 GB)', 4.702764294439687), ('realme GT Master Edition (Voyager Grey, 256 GB)', 4.681353481737808), ('REDMI 9 Power (Mighty Black, 64 GB)', 4.6147230169204505), ('POCO M2 Pro (Out of the Blue, 64 GB)', 4.492563304116253)] \n",
      "\n",
      "Santosh Kumar ->  [('APPLE iPhone 11 (Purple, 128 GB)', 4.848758151428137), ('APPLE iPhone 11 (White, 128 GB)', 4.838530898249023), ('APPLE iPhone 11 (Black, 64 GB)', 4.704454851494671), ('OPPO A33 (Mint Cream, 32 GB)', 4.566728328346914), ('SAMSUNG Galaxy F12 (Sea Green, 64 GB)', 4.503308745333502)] \n",
      "\n",
      "Sameer Khan ->  [('APPLE iPhone 12 (Green, 64 GB)', 5.031639202584633), ('APPLE iPhone 12 (Red, 128 GB)', 4.716587159583086), ('realme X7 5G (Space Silver, 128 GB)', 4.627146991768559), ('APPLE iPhone 12 Mini (Blue, 64 GB)', 4.334875264210553), ('realme 8 (Cyber Silver, 128 GB)', 4.323959048552443)] \n",
      "\n",
      "Ajay Yadav ->  [('SAMSUNG Metro 313 Dual Sim', 4.81454696172627), ('realme C25Y (Glacier Blue, 128 GB)', 4.70846433023302), ('SAMSUNG Galaxy M12 (Black, 64 GB)', 4.668219455576573), ('realme C25Y (Glacier Blue, 64 GB)', 4.667286295126508), ('GIONEE Max (Royal Blue, 32 GB)', 4.590917123994985)] \n",
      "\n",
      "Vikash  Kumar ->  [('APPLE iPhone 12 (White, 256 GB)', 4.800488391695257), ('SAMSUNG Galaxy F12 (Celestial Black, 64 GB)', 4.717976138066855), ('APPLE iPhone 12 (Blue, 64 GB)', 4.700117810148549), ('APPLE iPhone 12 (Black, 64 GB)', 4.69042828034722), ('APPLE iPhone 12 (Purple, 64 GB)', 4.6568436277838705)] \n",
      "\n",
      "Ajit Kumar ->  [('APPLE iPhone 12 (White, 256 GB)', 4.8543278077607175), ('APPLE iPhone 12 (Black, 64 GB)', 4.776537172749591), ('APPLE iPhone SE (White, 128 GB)', 4.729298613238475), ('APPLE iPhone SE (Red, 128 GB)', 4.702555455673998), ('APPLE iPhone 12 (Green, 64 GB)', 4.690559225694861)] \n",
      "\n",
      "Shivam Gupta ->  [('APPLE 2020 Macbook Air M1 - (8 GB/256 GB SSD/Mac OS Big Sur) MGN93HN/A', 4.92781040269975), ('APPLE iPhone 12 Mini (Blue, 64 GB)', 4.903574024164515), ('Infinix Hot 11S (7° Purple, 64 GB)', 4.900323068675005), ('Infinix Hot 11S (Green Wave, 64 GB)', 4.880867163388278), ('realme Narzo 50i (Mint Green, 32 GB)', 4.741257945844999)] \n",
      "\n",
      "Satyam Singh ->  [('APPLE iPhone SE (Black, 128 GB)', 4.929803142879374), ('APPLE iPhone SE (Red, 128 GB)', 4.885568468745588), ('Infinix Hot 10 (Amber Red, 64 GB)', 4.807544279464181), ('realme C21Y (Cross Blue, 64 GB)', 4.784433589454397), ('REDMI 9i (Midnight Black, 64 GB)', 4.750187955153215)] \n",
      "\n",
      "Rakesh Kumar ->  [('APPLE 2020 Macbook Air M1 - (8 GB/512 GB SSD/Mac OS Big Sur) MGNA3HN/A', 4.743658638083451), ('APPLE iPhone 11 (Purple, 128 GB)', 4.722070420357237), ('Xiaomi 11i 5G (Purple Mist, 128 GB)', 4.715400130581827), ('APPLE MacBook Air M1 - (8 GB/512 GB SSD/Mac OS Big Sur) Z12A000D3', 4.70897073540183), ('APPLE 2020 Macbook Air M1 - (8 GB/512 GB SSD/Mac OS Big Sur) MGN73HN/A', 4.62899563501717)] \n",
      "\n",
      "vikash kumar ->  [('APPLE iPhone 12 Mini (White, 64 GB)', 5.0423435307037785), ('Infinix Hot 11S (Silver Wave, 64 GB)', 4.796135016414816), ('Infinix Hot 11S (7° Purple, 64 GB)', 4.782495060351315), ('Infinix Hot 10 Play (Aegean Blue, 64 GB)', 4.73869008254436), ('realme 8i (Space Purple, 128 GB)', 4.696273086132989)] \n",
      "\n",
      "Aman  Kumar ->  [('REDMI 9 Power (Fiery Red, 64 GB)', 4.852950405061376), ('Infinix Hot 10 (Amber Red, 64 GB)', 4.842375002237293), ('MOTOROLA G60 (Frosted Champagne, 128 GB)', 4.73138531544703), ('Infinix Smart 5 (Aegean Blue, 32 GB)', 4.682896279985704), ('realme C21 (Cross Blue, 32 GB)', 4.655466956140633)] \n",
      "\n",
      "Pradeep Singh ->  [('LAVA A1', 4.795471148946057), ('OPPO A53s 5G (Crystal Blue, 128 GB)', 4.730134360467604), ('MOTOROLA G60 (Moonless, 128 GB)', 4.698982941199618), ('Nokia 105', 4.610107391173916), ('vivo T1 5G (Rainbow Fantasy, 128 GB)', 4.501032004501651)] \n",
      "\n",
      "Rahul  Sharma ->  [('realme 8 (Cyber Silver, 128 GB)', 4.640430917362213), ('MOTOROLA G40 Fusion (Dynamic Gray, 128 GB)', 4.239121818567435), ('Nokia TA-1304/105 SS', 4.025499762869124), ('POCO M2 Pro (Out of the Blue, 64 GB)', 3.9597648789225923), ('APPLE iPhone 12 (Blue, 64 GB)', 3.8485488000967347)] \n",
      "\n",
      "Sandeep Singh ->  [('REDMI Note 10S (Frost White, 64 GB)', 4.385759901153403), ('realme 8s 5G (Universe Purple, 128 GB)', 4.3702855211600635), ('realme 8s 5G (Universe Purple, 128 GB)', 4.3702855211600635), ('APPLE iPhone 12 Mini (White, 64 GB)', 4.353382714295508), ('Infinix Note 11 (Celestial Snow, 64 GB)', 4.3300321054795905)] \n",
      "\n",
      "Ashish Yadav ->  [('APPLE iPhone 11 (White, 128 GB)', 4.9921096768622215), ('APPLE iPhone 12 (Green, 64 GB)', 4.923216507512534), ('APPLE iPhone 11 (Green, 128 GB)', 4.87698377076688), ('APPLE iPhone 11 (Purple, 64 GB)', 4.867081258183888), ('APPLE iPhone 11 (White, 64 GB)', 4.782296351413188)] \n",
      "\n",
      "Aniket Kumar ->  [('realme 8 5G (Supersonic Black, 64 GB)', 4.842286867914993), ('vivo V21 5G (Neon Spark, 128 GB)', 4.697098165075953), ('vivo V21 5G (Dusk Blue, 128 GB)', 4.493150362218344), ('realme C21Y (Cross Black, 32 GB)', 4.472845449669021), ('realme 8 (Cyber Silver, 128 GB)', 4.470119890580421)] \n",
      "\n",
      "Shakti Singh ->  [('APPLE iPhone 12 (Red, 128 GB)', 4.971570248262632), ('APPLE iPhone 12 (Green, 64 GB)', 4.950843525684595), ('realme 8 (Cyber Silver, 128 GB)', 4.732634098867514), ('realme Narzo 50A (Oxygen Green, 64 GB)', 4.6464728680152865), ('REDMI Note 10S (Frost White, 64 GB)', 4.557639850866143)] \n",
      "\n",
      "Vijay ->  [('Infinix Hot 10 Play (7° Purple, 64 GB)', 4.721153211073878), ('realme 9 Pro 5G (Aurora Green, 128 GB)', 4.680479567206979), ('realme C21Y (Cross Blue, 64 GB)', 4.646838226739519), ('MOTOROLA E7 Power (Coral Red, 64 GB)', 4.6370269650318345), ('Infinix Hot 10 Play (Aegean Blue, 64 GB)', 4.535517296512819)] \n",
      "\n",
      "AMIT KUMAR ->  [('APPLE iPhone 11 (Purple, 128 GB)', 4.917550661314134), ('realme 8 (Cyber Silver, 128 GB)', 4.725030007072937), ('SAMSUNG Galaxy F12 (Sky Blue, 64 GB)', 4.664466985630339), ('ASUS VivoBook Ultra 14 (2022) Core i3 11th Gen - (8 GB/512 GB SSD/Windows 11 Home) X413EA-EB322WS Thin and Light Laptop', 4.584650317166075), ('vivo Y33s (Midday Dream, 128 GB)', 4.561131875007888)] \n",
      "\n",
      "Jitendra Singh ->  [('SAMSUNG Galaxy F12 (Sky Blue, 128 GB)', 4.759295748307222), ('Infinix Smart 5A (Quetzal Cyan, 32 GB)', 4.7539453056362175), ('POCO C3 (Matte Black, 32 GB)', 4.581836314183036), ('realme Narzo 30 (Racing Silver, 64 GB)', 4.557412328197147), ('REDMI 9 Power (Mighty Black, 64 GB)', 4.291348233822078)] \n",
      "\n",
      "Bala Murugan ->  [('APPLE iPhone 12 (Purple, 64 GB)', 4.993987689208985), ('APPLE iPhone 12 (Black, 64 GB)', 4.959949795023191), ('Infinix Smart 5A (Quetzal Cyan, 32 GB)', 4.874234385641927), ('MOTOROLA G60 (Frosted Champagne, 128 GB)', 4.602018010230791), ('POCO C3 (Matte Black, 32 GB)', 4.5929600395959245)] \n",
      "\n",
      "Golu Kumar ->  [('POCO M3 (Cool Blue, 64 GB)', 4.79924416622472), ('realme 8 (Cyber Silver, 128 GB)', 4.7649026796173475), ('Infinix Hot 10 (Amber Red, 64 GB)', 4.605978002146001), ('Infinix Hot 10 (Amber Red, 64 GB)', 4.605978002146001), ('REDMI 9 Power (Fiery Red, 64 GB)', 4.547235655002466)] \n",
      "\n",
      "Deepak  Kumar  ->  [('REDMI 9 Prime (Matte Black, 64 GB)', 4.789290361287351), ('Infinix Smart 5 (7 Purple, 32 GB)', 4.735166550198772), ('realme C25Y (Glacier Blue, 64 GB)', 4.711537686278619), ('realme 8 Pro (Infinite Black, 128 GB)', 4.669657245428242), ('SAMSUNG Galaxy F12 (Celestial Black, 128 GB)', 4.6272348065223285)] \n",
      "\n",
      "mukesh kumar ->  [('LAVA A3', 5.0418777022263255), ('APPLE iPhone 11 (Purple, 64 GB)', 5.023993387843458), ('APPLE iPhone SE (Red, 64 GB)', 4.968617076220747), ('Infinix Hot 11S (7° Purple, 64 GB)', 4.942166033963025), ('APPLE iPhone SE (White, 128 GB)', 4.898686933002007)] \n",
      "\n",
      "Vikash Singh ->  [('REDMI Note 9 (Aqua Green, 64 GB)', 4.858775150558235), ('realme Narzo 20 (Victory Blue, 128 GB)', 4.827340094498884), ('Infinix Hot 10 Play (Obsidian Black, 64 GB)', 4.811305231805468), ('Kechaoda K33', 4.7972085523129495), ('POCO C3 (Arctic Blue, 32 GB)', 4.732975462758471)] \n",
      "\n",
      "Dinesh Kumar ->  [('APPLE iPhone 11 (Purple, 64 GB)', 4.843047281829325), ('APPLE iPhone 11 (Red, 64 GB)', 4.804853290022273), ('APPLE MacBook Air M1 - (8 GB/512 GB SSD/Mac OS Big Sur) Z12A000D3', 4.759925815253981), ('APPLE MacBook Air M1 - (8 GB/512 GB SSD/Mac OS Big Sur) Z12A000D3', 4.759925815253981), ('APPLE iPhone SE (Black, 64 GB)', 4.754324524263442)] \n",
      "\n",
      "Amit Singh ->  [('APPLE iPhone 11 (Yellow, 64 GB)', 4.969673006780426), ('APPLE iPhone 11 (Yellow, 128 GB)', 4.969557155869912), ('Infinix Smart 5A (Quetzal Cyan, 32 GB)', 4.896426499364227), ('SAMSUNG Galaxy F12 (Sky Blue, 64 GB)', 4.85165372315197), ('realme Book (Slim) Core i3 11th Gen - (8 GB/256 GB SSD/Windows 10 Home) RMNB1001 Thin and Light Laptop', 4.797741902292131)] \n",
      "\n",
      "Sumit Gupta ->  [('POCO M4 Pro (Power Black, 64 GB)', 5.158541262944207), ('APPLE iPhone 12 (Green, 64 GB)', 5.000641647052205), ('POCO M4 Pro (Yellow, 128 GB)', 4.9979093429573505), ('APPLE iPhone 12 (Black, 64 GB)', 4.993131275633054), ('realme 8 Pro (Infinite Black, 128 GB)', 4.986447958271023)] \n",
      "\n",
      "Pankaj  Kumar ->  [('Redmi 9A (SeaBlue, 32 GB)', 4.563574124791285), ('POCO C31 (Shadow Gray, 32 GB)', 4.553672386647613), ('Infinix Hot 10 (Amber Red, 64 GB)', 4.5452520029655625), ('realme 8i (Space Purple, 128 GB)', 4.515273188811278), ('realme 8 5G (Supersonic Black, 128 GB)', 4.4862840050038875)] \n",
      "\n",
      "Santosh  Kumar ->  [('APPLE iPhone 11 (Purple, 128 GB)', 4.848761768083361), ('vivo V21 5G (Neon Spark, 128 GB)', 4.8439974290092085), ('APPLE iPhone 11 (Yellow, 128 GB)', 4.804852120994594), ('REDMI 9 Power (Fiery Red, 128 GB)', 4.5755279640088515), ('Infinix Note 11s (Haze Green, 64 GB)', 4.526875592943925)] \n",
      "\n",
      "Shubham  Kumar ->  [('Infinix Hot 10 Play (7° Purple, 64 GB)', 4.893081817177382), ('POCO C3 (Arctic Blue, 32 GB)', 4.828240393049964), ('OPPO K10 (Blue Flame, 128 GB)', 4.8281533466942825), ('Infinix Note 11s (Haze Green, 64 GB)', 4.749764152006765), ('realme Narzo 50A (Oxygen Green, 64 GB)', 4.728409672206989)] \n",
      "\n",
      "RAJ KUMAR ->  [('APPLE iPhone SE (White, 128 GB)', 4.951717318748221), ('APPLE iPhone SE (Black, 64 GB)', 4.938806164959489), ('SAMSUNG Galaxy F12 (Sky Blue, 64 GB)', 4.734988633178958), ('Infinix Smart 5 (Morandi Green, 32 GB)', 4.665591505780285), ('SAMSUNG Galaxy F12 (Sea Green, 128 GB)', 4.591778169879457)] \n",
      "\n",
      "Ashish Kumar ->  [('APPLE iPhone 12 (Purple, 64 GB)', 5.015479640987151), ('APPLE iPhone 13 ((PRODUCT)RED, 256 GB)', 4.8992334217522275), ('APPLE iPhone 13 (Pink, 128 GB)', 4.8518732802807), ('APPLE iPhone 11 (Green, 128 GB)', 4.8286509502847), ('APPLE iPhone 12 (Red, 128 GB)', 4.826499044736818)] \n",
      "\n",
      "Sandeep Kumar ->  [('APPLE iPhone 11 (White, 128 GB)', 4.814222121566071), ('OPPO A33 (Mint Cream, 32 GB)', 4.693307277665685), ('OPPO A33 (Moonlight Black, 32 GB)', 4.68349851293161), ('REDMI Note 9 (Shadow Black, 64 GB)', 4.656168609327943), ('realme 8s 5G (Universe Blue, 128 GB)', 4.593703109950376)] \n",
      "\n",
      "Vinod  Kumar ->  [('Infinix Hot 11S (7° Purple, 128 GB)', 4.951423317864749), ('Infinix Hot 11S (Silver Wave, 128 GB)', 4.9016502870129575), ('Infinix Hot 11S (Green Wave, 128 GB)', 4.860493822538669), ('realme C11 2021 (Cool Blue, 64 GB)', 4.765369280962435), ('realme 8 5G (Supersonic Blue, 128 GB)', 4.578993359536685)] \n",
      "\n",
      "Raushan Kumar ->  [('REDMI Note 10T 5G (Metallic Blue, 64 GB)', 5.1414747946875305), ('REDMI Note 10T 5G (Mint Green, 64 GB)', 4.97854993920755), ('APPLE iPhone 12 (Blue, 64 GB)', 4.867578773615022), ('OPPO A12 (Deep Blue, 32 GB)', 4.848886716011194), ('APPLE iPhone 12 (Purple, 64 GB)', 4.839972277523298)] \n",
      "\n",
      "arun kumar ->  [('APPLE iPhone 12 (Red, 128 GB)', 5.004572783649653), ('APPLE iPhone 12 (Black, 64 GB)', 4.9478852183322415), ('POCO X3 (Cobalt Blue, 64 GB)', 4.707053669672016), ('realme GT Master Edition (Cosmos Black, 128 GB)', 4.598291731180952), ('realme GT Master Edition (Luna White, 256 GB)', 4.582508440975493)] \n",
      "\n",
      "Pankaj Kumar ->  [('APPLE iPhone 12 (Blue, 64 GB)', 4.85173009597432), ('APPLE iPhone 12 (Red, 128 GB)', 4.8222382456399275), ('APPLE iPhone 12 (White, 256 GB)', 4.81597890337703), ('APPLE iPhone 12 (White, 64 GB)', 4.7461535539377895), ('Infinix Hot 11S (Green Wave, 64 GB)', 4.612807689513208)] \n",
      "\n",
      "Vinoth Kumar ->  [('APPLE iPhone 11 (Black, 64 GB)', 4.937325752969976), ('APPLE iPhone 12 (White, 64 GB)', 4.924628770422499), ('APPLE iPhone 11 (White, 128 GB)', 4.910949259224598), ('APPLE iPhone 11 (Black, 128 GB)', 4.9065855118829695), ('APPLE iPhone 12 (Black, 64 GB)', 4.903113300588237)] \n",
      "\n",
      "Sonu  Singh ->  [('realme Narzo 30 (Racing Blue, 64 GB)', 4.874800822773265), ('realme 8 5G (Supersonic Black, 64 GB)', 4.788464234168031), ('realme 8i (Space Purple, 64 GB)', 4.670748937934168), ('POCO M3 Pro 5G (Cool Blue, 64 GB)', 4.641969796249273), ('POCO M3 Pro 5G (Yellow, 64 GB)', 4.531722556371946)] \n",
      "\n",
      "Gaurav Singh ->  [('APPLE iPhone 11 (Yellow, 128 GB)', 4.778839697482276), ('SAMSUNG Galaxy F12 (Sky Blue, 64 GB)', 4.718698984138728), ('APPLE iPhone 11 (Green, 128 GB)', 4.702708612310679), ('Infinix Smart 5 (Aegean Blue, 32 GB)', 4.68295529761751), ('SAMSUNG Galaxy F12 (Celestial Black, 128 GB)', 4.497345639436401)] \n",
      "\n",
      "Karthik ->  [('realme 8 (Cyber Silver, 128 GB)', 4.272878156561745), ('REDMI 9i (Nature Green, 64 GB)', 4.119136627675372), ('REDMI 9 Activ (Metallic Purple, 64 GB)', 3.93714109866763), ('POCO C3 (Arctic Blue, 32 GB)', 3.853646267292429), ('APPLE iPhone 12 (Green, 64 GB)', 3.6534853584841294)] \n",
      "\n",
      "Rohit ->  [('APPLE iPhone 11 (White, 128 GB)', 4.98181003818031), ('APPLE iPhone 11 (Yellow, 128 GB)', 4.902696514860133), ('APPLE iPhone 11 (Yellow, 64 GB)', 4.8931666926042015), ('Infinix Hot 10 Play (Morandi Green, 64 GB)', 4.706866618203513), ('Infinix Note 11 (Graphite Black, 128 GB)', 4.701671990944656)] \n",
      "\n",
      "Ravi Shankar ->  [('APPLE iPhone 12 (Black, 64 GB)', 4.988832955493505), ('APPLE iPhone SE (Black, 64 GB)', 4.819022962977218), ('APPLE iPhone SE (White, 128 GB)', 4.817040361824396), ('APPLE iPhone 12 (Black, 128 GB)', 4.780612181322642), ('REDMI 9 Power (Blazing Blue, 64 GB)', 4.7679631388158565)] \n",
      "\n",
      "Akash Kumar ->  [('APPLE iPhone 13 (Starlight, 128 GB)', 5.056768349563563), ('APPLE 2020 Macbook Air M1 - (8 GB/256 GB SSD/Mac OS Big Sur) MGND3HN/A', 5.039384488925893), ('Infinix Hot 11S (7° Purple, 128 GB)', 4.8675943299256), ('vivo V23 5G (Sunshine Gold, 128 GB)', 4.830086068323546), ('Infinix Hot 11S (Green Wave, 64 GB)', 4.822537110587675)] \n",
      "\n",
      "Raj Kumar ->  [('APPLE iPhone 12 (Green, 64 GB)', 4.853819623917319), ('APPLE iPhone 12 (White, 256 GB)', 4.739840715285945), ('Infinix Hot 11S (Green Wave, 128 GB)', 4.67864892816978), ('REDMI 9 Power (Mighty Black, 64 GB)', 4.661658993002332), ('Infinix Hot 11S (Polar Black, 64 GB)', 4.652613891800281)] \n",
      "\n",
      "Manoj Gupta ->  [('realme Narzo 50i (Mint Green, 32 GB)', 5.012278320756354), ('realme Narzo 50i (Mint Green, 32 GB)', 5.012278320756354), ('realme Narzo 50i (Carbon Black, 32 GB)', 4.93134108518361), ('APPLE iPhone SE (Red, 128 GB)', 4.898525305015319), ('APPLE iPhone SE (Black, 64 GB)', 4.861145078887385)] \n",
      "\n",
      "Amit kumar ->  [('APPLE iPhone 12 Mini (Blue, 64 GB)', 4.560423047577593), ('realme 8 (Cyber Black, 128 GB)', 4.546635451431465), ('Infinix Note 11 (Celestial Snow, 64 GB)', 4.533407412000424), ('Infinix Smart 5 (Aegean Blue, 32 GB)', 4.412702625479815), ('realme 8i (Space Purple, 128 GB)', 4.381911134546719)] \n",
      "\n",
      "Ravi Kumar ->  [('APPLE iPhone 12 (Blue, 64 GB)', 4.657307877123919), ('APPLE iPhone 12 Mini (White, 64 GB)', 4.623117375560303), ('APPLE iPhone 12 Mini (Black, 64 GB)', 4.614025322695482), ('REDMI Note 10S (Cosmic Purple, 64 GB)', 4.570959768872147), ('APPLE iPhone 12 Mini (Blue, 64 GB)', 4.547767772795914)] \n",
      "\n",
      "Vishal  Kumar ->  [('SAMSUNG Galaxy F12 (Sea Green, 64 GB)', 4.957437537729361), ('realme C21 (Cross Blue, 32 GB)', 4.823297436262663), ('SAMSUNG Galaxy F12 (Celestial Black, 64 GB)', 4.804233006136153), ('POCO X3 (Shadow Gray, 64 GB)', 4.790926066039967), ('realme 8 (Cyber Silver, 128 GB)', 4.575760936403575)] \n",
      "\n",
      "Nitish Kumar ->  [('SAMSUNG Galaxy F12 (Sky Blue, 64 GB)', 4.554023406043537), ('LAVA A1 Josh', 4.544012628993514), ('OPPO A53s 5G (Ink Black, 128 GB)', 4.525500744460195), ('APPLE iPhone SE (Red, 128 GB)', 4.504952997143231), ('Infinix Smart 5 (7 Purple, 32 GB)', 4.5033230185479205)] \n",
      "\n",
      "Gurpreet Singh ->  [('APPLE iPhone 12 (Purple, 64 GB)', 5.091087926377632), ('realme Narzo 50i (Mint Green, 32 GB)', 5.080652376410989), ('REDMI 9 Power (Fiery Red, 64 GB)', 5.038357277773179), ('realme 9i (Prism Black, 64 GB)', 5.015528302871832), ('OPPO A31 (Lake Green, 64 GB)', 4.99734730376304)] \n",
      "\n",
      "Dhiraj Kumar ->  [('APPLE iPhone 11 (Purple, 128 GB)', 5.055230018304995), ('APPLE iPhone 11 (White, 128 GB)', 5.039421555430863), ('APPLE iPhone 11 (Red, 64 GB)', 4.92989379353716), ('realme Narzo 50A (Oxygen Green, 64 GB)', 4.683758796431454), ('Infinix Hot 10 Play (Obsidian Black, 64 GB)', 4.57693242687411)] \n",
      "\n",
      "Mohit Sharma ->  [('APPLE iPhone 12 (Green, 64 GB)', 4.941482478057129), ('APPLE iPhone 12 (Purple, 64 GB)', 4.847396482026224), ('APPLE iPhone 11 (Purple, 128 GB)', 4.81223501141695), ('APPLE iPhone 11 (Purple, 64 GB)', 4.769116423967281), ('APPLE iPhone 11 (Yellow, 128 GB)', 4.74306265449329)] \n",
      "\n",
      "Rahul  Kumar ->  [('APPLE iPhone 11 (Purple, 128 GB)', 5.013304579239888), ('APPLE iPhone 12 (Blue, 64 GB)', 4.862925505383331), ('APPLE iPhone 11 (Yellow, 128 GB)', 4.856965869101957), ('APPLE iPhone 12 (Green, 64 GB)', 4.8372638438322015), ('APPLE iPhone 12 (Red, 128 GB)', 4.832345717256995)] \n",
      "\n",
      "Rakesh  Kumar  ->  [('APPLE iPhone 12 Mini (White, 64 GB)', 4.8434603536482275), ('APPLE iPhone 12 Mini (Blue, 64 GB)', 4.6252028761109685), ('realme Narzo 30 (Racing Blue, 64 GB)', 4.470461943767813), ('MOTOROLA G60 (Moonless, 128 GB)', 4.376116497605635), ('realme Narzo 30 (Racing Blue, 128 GB)', 4.36292636548389)] \n",
      "\n",
      "Manish Kumar ->  [('APPLE iPhone 11 (White, 128 GB)', 4.799610665745664), ('APPLE iPhone 11 (Black, 128 GB)', 4.72479688038583), ('OPPO A33 (Mint Cream, 32 GB)', 4.69258559559967), ('OPPO A53s 5G (Crystal Blue, 128 GB)', 4.6060574674624535), ('APPLE iPhone 13 (Green, 128 GB)', 4.604937654064698)] \n",
      "\n",
      "Saddam Hussain ->  [('APPLE iPhone 12 Mini (White, 64 GB)', 5.062619227656585), ('OPPO F17 Pro (Magic Blue, 128 GB)', 5.044979128968389), ('APPLE iPhone 12 Mini (Black, 64 GB)', 4.968543896799356), ('OPPO A12 (Blue, 32 GB)', 4.96349980804769), ('Xiaomi 11i 5G (Purple Mist, 128 GB)', 4.860867045923001)] \n",
      "\n",
      "Praveen Kumar ->  [('APPLE iPhone 12 (White, 256 GB)', 4.9199219091067565), ('APPLE 2020 Macbook Air M1 - (8 GB/256 GB SSD/Mac OS Big Sur) MGND3HN/A', 4.884925891611715), ('SAMSUNG Metro 313 Dual Sim', 4.775819591286176), ('OPPO A53s 5G (Crystal Blue, 128 GB)', 4.689383560318569), ('APPLE iPhone SE (White, 64 GB)', 4.6816675772327265)] \n",
      "\n",
      "Sunny Singh ->  [('APPLE iPhone 12 (Black, 64 GB)', 4.863571792829715), ('APPLE iPhone 11 (Purple, 64 GB)', 4.85305563820546), ('APPLE iPhone 12 (Purple, 64 GB)', 4.795988511230606), ('APPLE iPhone 11 (Yellow, 128 GB)', 4.722108213153229), ('POCO X3 (Shadow Gray, 64 GB)', 4.649614729346261)] \n",
      "\n",
      "Shubham ->  [('APPLE iPhone 12 (Purple, 64 GB)', 4.94618411756539), ('APPLE iPhone 12 (Green, 64 GB)', 4.9460102624848625), ('APPLE iPhone 12 (Black, 64 GB)', 4.915713311976798), ('APPLE iPhone 12 (Blue, 64 GB)', 4.856335548524682), ('realme 9i (Prism Blue, 64 GB)', 4.645622688896954)] \n",
      "\n",
      "Subhash Kumar ->  [('realme C25s (Watery Grey, 128 GB)', 4.738388866431481), ('Infinix Smart 5A (Midnight Black, 32 GB)', 4.647819564573765), ('realme C21 (Cross Black, 64 GB)', 4.614303928959272), ('Infinix Hot 10S (95° Black, 64 GB)', 4.324538155347488), ('REDMI Note 10S (Frost White, 128 GB)', 4.323769650866132)] \n",
      "\n",
      "Sumit ->  [('APPLE iPhone 12 Mini (White, 64 GB)', 4.877413700170188), ('APPLE iPhone 13 (Midnight, 128 GB)', 4.726508318571928), ('Xiaomi 11i 5G (Pacific Pearl, 128 GB)', 4.440996707245489), ('REDMI 9 Power (Blazing Blue, 64 GB)', 4.3563021405660916), ('realme Narzo 30 (Racing Blue, 64 GB)', 4.304816642079644)] \n",
      "\n",
      "Bhanu Prakash ->  [('APPLE iPhone SE (Red, 64 GB)', 4.958435135957614), ('Infinix Smart 5 (7 Purple, 32 GB)', 4.949306291849091), ('realme Narzo 50A (Oxygen Green, 128 GB)', 4.931112113988085), ('Infinix Smart 5 (Aegean Blue, 32 GB)', 4.888282696541305), ('realme 8 (Cyber Black, 128 GB)', 4.7888257010442965)] \n",
      "\n",
      "Abhishek  Singh ->  [('realme Narzo 30 (Racing Silver, 128 GB)', 4.88062655663262), ('Infinix Hot 11S (Polar Black, 128 GB)', 4.849926212001624), ('APPLE iPhone 12 Mini (Black, 64 GB)', 4.8377130066143845), ('Infinix Hot 11S (Green Wave, 64 GB)', 4.7598780283811095), ('Xiaomi 11i 5G (Camo Green, 128 GB)', 4.702850754443854)] \n",
      "\n",
      "Deepak  Kumar ->  [('APPLE iPhone 11 (Purple, 128 GB)', 4.913747805307994), ('APPLE iPhone 11 (Green, 128 GB)', 4.889784005893956), ('APPLE iPhone 11 (Yellow, 128 GB)', 4.828395871426262), ('APPLE iPhone 11 (Red, 64 GB)', 4.671110446523314), ('realme 9 Pro 5G (Sunrise Blue, 128 GB)', 4.659184684373991)] \n",
      "\n",
      "Gaurav Kumar ->  [('APPLE iPhone 11 (Purple, 64 GB)', 4.80649067327541), ('APPLE iPhone 11 (Black, 128 GB)', 4.738639001485017), ('POCO C31 (Shadow Gray, 32 GB)', 4.7288184794405534), ('APPLE iPhone 11 (White, 128 GB)', 4.7266264903090915), ('OPPO A53s 5G (Crystal Blue, 128 GB)', 4.723604314353545)] \n",
      "\n",
      "Avinash Kumar ->  [('APPLE iPhone SE (Black, 64 GB)', 4.811988419277868), ('SAMSUNG Galaxy F12 (Sky Blue, 64 GB)', 4.638150102560359), ('realme Narzo 30 (Racing Silver, 64 GB)', 4.606714713072039), ('SAMSUNG Galaxy F12 (Celestial Black, 64 GB)', 4.588944178894346), ('SAMSUNG Galaxy F12 (Sky Blue, 128 GB)', 4.578503004179653)] \n",
      "\n",
      "Rahul Gupta ->  [('APPLE iPhone 12 (Purple, 64 GB)', 5.09642123396879), ('APPLE iPhone 12 (Green, 64 GB)', 5.091281610838916), ('Infinix Hot 11 (Silver Wave, 64 GB)', 4.989623408737595), ('REDMI Note 10T 5G (Chromium White, 64 GB)', 4.790826341551439), ('APPLE iPhone 12 Mini (Black, 64 GB)', 4.781073980864565)] \n",
      "\n",
      "Sarath Kumar ->  [('APPLE iPhone 13 (Blue, 128 GB)', 4.816514776697625), ('Nokia TA-1174 / TA-1299', 4.67460507801988), ('POCO X3 (Cobalt Blue, 64 GB)', 4.5454710078638945), ('Micromax IN Note 1 (White, 64 GB)', 4.41935419597673), ('realme C25s (Watery Blue, 128 GB)', 4.3571092489133525)] \n",
      "\n",
      "Sachin Yadav ->  [('realme 8 5G (Supersonic Blue, 64 GB)', 4.825532411287396), ('APPLE iPhone 12 Mini (Blue, 64 GB)', 4.602763827575955), ('REDMI 9 Power (Blazing Blue, 64 GB)', 4.46502023805124), ('HP 14q Core i3 7th Gen - (4 GB/1 TB HDD/Windows 10 Home) 14q-CS0005TU Thin and Light Laptop', 4.38505355491475), ('Infinix Zero 5G (Cosmic Black, 128 GB)', 4.311162954335819)] \n",
      "\n",
      "Rohit Singh ->  [('REDMI 9i (Midnight Black, 64 GB)', 4.829049744752606), ('vivo V21 5G (Sunset Dazzle, 128 GB)', 4.813624143002018), ('APPLE iPhone SE (White, 128 GB)', 4.7771923846607285), ('REDMI 9 Power (Blazing Blue, 64 GB)', 4.697514237628523), ('realme C21Y (Cross Black, 32 GB)', 4.694674911701725)] \n",
      "\n",
      "Aman Kumar ->  [('APPLE 2020 Macbook Air M1 - (8 GB/256 GB SSD/Mac OS Big Sur) MGN93HN/A', 5.148691841815461), ('APPLE iPhone 12 Mini (Blue, 64 GB)', 4.9219236209433115), ('APPLE iPhone 12 Mini (Black, 64 GB)', 4.827752089539738), ('REDMI 9 Power (Fiery Red, 64 GB)', 4.810715878603923), ('realme 9i (Prism Black, 128 GB)', 4.77522614862087)] \n",
      "\n",
      "Nitin Kumar ->  [('APPLE iPhone 12 (Green, 64 GB)', 5.025120679350041), ('APPLE iPhone 12 (Red, 128 GB)', 4.949381233162262), ('APPLE iPhone 11 (Black, 128 GB)', 4.832903095798728), ('Infinix Hot 11S (7° Purple, 64 GB)', 4.783138294284484), ('realme C21 (Cross Black, 64 GB)', 4.743853826170365)] \n",
      "\n",
      "manoj kumar ->  [('APPLE iPhone 11 (White, 128 GB)', 5.052620524421267), ('APPLE iPhone 12 (Green, 64 GB)', 5.01080055488272), ('APPLE iPhone 11 (Yellow, 64 GB)', 4.940553695590486), ('APPLE iPhone 11 (Red, 64 GB)', 4.868983530739776), ('Infinix Hot 11S (Polar Black, 128 GB)', 4.864189483764236)] \n",
      "\n",
      "Shubham Singh ->  [('realme 8s 5G (Universe Blue, 128 GB)', 4.832998393824704), ('SAMSUNG Galaxy F12 (Celestial Black, 64 GB)', 4.644005752916774), ('ASUS VivoBook Ultra 14 (2022) Core i3 11th Gen - (8 GB/512 GB SSD/Windows 11 Home) X413EA-EB321WS Thin and Light Laptop', 4.626518162148383), ('REDMI 9i Sport (Metallic Blue, 64 GB)', 4.6237741785382145), ('Infinix Smart 5 (7 Purple, 32 GB)', 4.485426351855937)] \n",
      "\n",
      "Sanjay Singh ->  [('OPPO A31 (Lake Green, 64 GB)', 4.96812525568099), ('APPLE iPhone 12 (Blue, 64 GB)', 4.942211150807865), ('APPLE iPhone 12 (Purple, 64 GB)', 4.907466385686811), ('Infinix Hot 11S (Green Wave, 64 GB)', 4.875203585709065), ('APPLE iPhone 12 (Black, 64 GB)', 4.836217573040623)] \n",
      "\n",
      "RAHUL KUMAR ->  [('SAMSUNG Galaxy F12 (Sea Green, 128 GB)', 4.7871376621536825), ('SAMSUNG Galaxy F22 (Denim Blue, 64 GB)', 4.778467975432978), ('realme Narzo 30 5G (Racing Blue, 128 GB)', 4.743668731560068), ('realme C25_Y (Glacier Blue, 64 GB)', 4.675000062320881), ('POCO C3 (Matte Black, 32 GB)', 4.633736753626399)] \n",
      "\n",
      "Jitendra  Kumar ->  [('REDMI 9 Prime (Matte Black, 64 GB)', 4.715781304182548), ('realme C21 (Cross Black, 64 GB)', 4.708765653212837), ('Infinix Hot 10 (Amber Red, 64 GB)', 4.471905542012885), ('SAMSUNG Guru Music 2', 4.1921665453031505), ('SAMSUNG Guru Music 2', 4.1921665453031505)] \n",
      "\n",
      "Raj  Kumar ->  [('Infinix Hot 10S (95° Black, 64 GB)', 4.925515463009112), ('OPPO Reno6 5G (Aurora, 128 GB)', 4.71856648419423), ('REDMI 9 Prime (Matte Black, 64 GB)', 4.627752430528492), ('POCO M3 (Power Black, 128 GB)', 4.595125754266466), ('REDMI 9i (Midnight Black, 64 GB)', 4.566466209620702)] \n",
      "\n",
      "Shubham Yadav ->  [('APPLE iPhone 11 (Green, 128 GB)', 4.993743278811904), ('APPLE iPhone 11 (Black, 128 GB)', 4.978698083856645), ('APPLE iPhone SE (Red, 128 GB)', 4.923756583908789), ('vivo V21 5G (Sunset Dazzle, 256 GB)', 4.872407839722492), ('realme Narzo 30 Pro 5G (Sword Black, 64 GB)', 4.830405293436753)] \n",
      "\n",
      "pradeep kumar ->  [('APPLE iPhone 11 (Purple, 128 GB)', 4.971228336674581), ('APPLE iPhone 11 (Red, 64 GB)', 4.874836097992011), ('APPLE iPhone 12 (Green, 64 GB)', 4.865114641568428), ('APPLE iPhone 12 (Black, 64 GB)', 4.76764861824927), ('APPLE iPhone 11 (White, 64 GB)', 4.683948931901425)] \n",
      "\n",
      "Ravi Raj ->  [('APPLE iPhone SE (White, 64 GB)', 4.981817979166354), ('APPLE iPhone SE (Red, 64 GB)', 4.90912983955729), ('vivo V23 5G (Stardust Black, 128 GB)', 4.76841684618037), ('REDMI 9i Sport (Carbon Black, 64 GB)', 4.676668250242988), ('Infinix Hot 10 Play (Obsidian Black, 64 GB)', 4.487799089211442)] \n",
      "\n",
      "Kiran Kumar ->  [('APPLE iPhone 12 (White, 256 GB)', 4.50241452516339), ('I Kall K29', 4.3491422554128025), ('APPLE iPhone 12 (Blue, 64 GB)', 4.314618234258293), ('Infinix Smart 5 (Morandi Green, 32 GB)', 4.201738663081554), ('realme GT Master Edition (Luna White, 128 GB)', 4.138367503080664)] \n",
      "\n",
      "Vinay Kumar ->  [('APPLE iPhone 11 (Purple, 128 GB)', 4.929781678739088), ('OPPO Reno4 Pro (Silky White, 128 GB)', 4.875872287756846), ('Infinix Note 11 (Celestial Snow, 64 GB)', 4.791453048263628), ('realme C25s (Watery Grey, 128 GB)', 4.653604867040311), ('Infinix Hot 10 Play (Morandi Green, 64 GB)', 4.630000153456156)] \n",
      "\n",
      "Suraj Kumar ->  [('MSI Modern 14 Core i3 10th Gen - (8 GB/512 GB SSD/Windows 10 Home) Modern 14 B10MW-424IN Laptop', 4.98643548392125), ('REDMI Note 9 (Aqua Green, 64 GB)', 4.709212453053626), ('realme X7 5G (Space Silver, 128 GB)', 4.646104785777458), ('Infinix Hot 11S (Silver Wave, 64 GB)', 4.632525298311853), ('APPLE iPhone SE (Black, 64 GB)', 4.594738401913646)] \n",
      "\n",
      "Sonu Kumar ->  [('APPLE iPhone 12 (Blue, 64 GB)', 5.002903587662603), ('APPLE iPhone 12 (Black, 128 GB)', 4.968889928094176), ('Infinix Hot 11 (Emerald Green, 64 GB)', 4.80661718729469), ('Infinix Hot 11 (Silver Wave, 64 GB)', 4.797052812001283), ('Infinix Hot 11S (Silver Wave, 64 GB)', 4.756105803557519)] \n",
      "\n",
      "Brijesh Kumar ->  [('APPLE iPhone 11 (Black, 64 GB)', 5.0693203451471), ('APPLE iPhone SE (Black, 128 GB)', 5.040282481215553), ('APPLE iPhone 11 (Purple, 64 GB)', 4.992847761216562), ('realme C21 (Cross Black, 64 GB)', 4.892485917137351), ('Infinix Smart 5A (Ocean Wave, 32 GB)', 4.8384099819749915)] \n",
      "\n",
      "Manoj Kumar ->  [('APPLE iPhone 11 (White, 128 GB)', 4.746654923090226), ('APPLE iPhone 11 (Black, 64 GB)', 4.741741434114078), ('APPLE iPhone 11 (Yellow, 64 GB)', 4.72191923214008), ('Infinix Hot 11S (7° Purple, 64 GB)', 4.674112384138143), ('Infinix Hot 11S (Green Wave, 128 GB)', 4.667842365343539)] \n",
      "\n",
      "Abhishek Sharma ->  [('APPLE iPhone 12 (Green, 64 GB)', 4.987202628088065), ('APPLE iPhone 12 (Black, 64 GB)', 4.777696861278652), ('APPLE iPhone SE (White, 64 GB)', 4.739417995280603), ('APPLE iPhone 12 Mini (White, 64 GB)', 4.58804415819403), ('APPLE iPhone 12 Mini (White, 64 GB)', 4.58804415819403)] \n",
      "\n",
      "Deepak ->  [('APPLE iPhone 13 (Starlight, 128 GB)', 4.836679011324313), ('APPLE iPhone 13 ((PRODUCT)RED, 128 GB)', 4.662624329394383), ('Micromax IN Note 1 (White, 64 GB)', 4.65187126360583), ('realme C11 2021 (Cool Blue, 32 GB)', 4.511911572517477), ('realme C11 2021 (Cool Blue, 32 GB)', 4.511911572517477)] \n",
      "\n",
      "Amit ->  [('OPPO A12 (Black, 32 GB)', 4.83531877551788), ('Xiaomi 11i 5G (Stealth Black, 128 GB)', 4.7275652148464244), ('OPPO A12 (Deep Blue, 32 GB)', 4.534375413970286), ('realme C11 2021 (Cool Grey, 64 GB)', 4.498060741022964), ('realme C11 2021 (Cool Blue, 64 GB)', 4.4259424719251745)] \n",
      "\n",
      "Deepak Singh ->  [('APPLE iPhone 12 (Black, 64 GB)', 4.937460642324476), ('APPLE iPhone 12 (Purple, 64 GB)', 4.893437796563055), ('APPLE iPhone 13 ((PRODUCT)RED, 128 GB)', 4.68115680761521), ('realme Narzo 30 Pro 5G (Sword Black, 64 GB)', 4.65039280856898), ('LAVA A3', 4.6165116883576784)] \n",
      "\n",
      "Lalit Kumar ->  [('APPLE iPhone 12 (Blue, 64 GB)', 4.868516156672509), ('MOTOROLA G60 (Frosted Champagne, 128 GB)', 4.842055964239371), ('MOTOROLA G60 (Soft Silver, 128 GB)', 4.794354801743297), ('MOTOROLA G60 (Moonless, 128 GB)', 4.640425826567553), ('APPLE iPhone 12 (Red, 128 GB)', 4.639876359222078)] \n",
      "\n",
      "Vimal Kumar ->  [('SAMSUNG Galaxy F12 (Sea Green, 64 GB)', 4.976064254470359), ('Infinix Hot 10 (Ocean Wave, 64 GB)', 4.946930564631066), ('Infinix Hot 10 (Amber Red, 64 GB)', 4.909891619071584), ('Infinix Note 11 (Celestial Snow, 64 GB)', 4.824302506896443), ('LAVA A3', 4.73638147820881)] \n",
      "\n",
      "Rahul Verma ->  [('APPLE iPhone 12 (White, 64 GB)', 5.0987537015533135), ('APPLE iPhone 12 (Blue, 64 GB)', 5.0454990517439136), ('APPLE iPhone 12 (White, 256 GB)', 5.028730096394258), ('APPLE iPhone 11 (Black, 64 GB)', 4.970570621887647), ('APPLE iPhone 11 (Purple, 128 GB)', 4.896253057011057)] \n",
      "\n",
      "Naveen  Kumar ->  [('vivo Y21 (Diamond Glow, 64 GB)', 5.158597702570222), ('realme X7 5G (Space Silver, 128 GB)', 4.9213884120449904), ('REDMI 9 Power (Mighty Black, 64 GB)', 4.91429761949731), ('REDMI 9 Prime (Matte Black, 64 GB)', 4.909333526635046), ('REDMI 9i (Midnight Black, 64 GB)', 4.870549337074526)] \n",
      "\n",
      "Biswajit Ghosh ->  [('SAMSUNG Galaxy F12 (Sea Green, 64 GB)', 4.949895109250056), ('LAVA A1 Josh', 4.916427083178279), ('Nokia TA-1010/105', 4.869229840561847), ('OPPO A33 (Moonlight Black, 32 GB)', 4.495109199675416), ('realme 8i (Space Purple, 64 GB)', 4.475989415939511)] \n",
      "\n",
      "Akash  Kumar ->  [('Infinix Smart 5A (Quetzal Cyan, 32 GB)', 5.122475909360092), ('Infinix Hot 10S (95° Black, 64 GB)', 5.057132998735993), ('APPLE iPhone 12 (Green, 64 GB)', 5.003346894288652), ('Infinix Note 10 Pro (95° Black, 256 GB)', 4.910926839736633), ('realme GT Master Edition (Daybreak Blue, 128 GB)', 4.845694752274454)] \n",
      "\n",
      "Deepak Gupta ->  [('OPPO A33 (Mint Cream, 32 GB)', 4.905707105417239), ('REDMI Note 9 (Shadow Black, 64 GB)', 4.757657305471379), ('realme 8i (Space Purple, 64 GB)', 4.664299170886406), ('APPLE iPhone 12 (Black, 64 GB)', 4.625285395176521), ('realme 8s 5G (Universe Blue, 128 GB)', 4.6086347985893905)] \n",
      "\n",
      "Ajeet Kumar ->  [('SAMSUNG Galaxy F12 (Sky Blue, 64 GB)', 4.835391889420215), ('REDMI 9 Power (Fiery Red, 64 GB)', 4.8320817038406005), ('SAMSUNG Galaxy F12 (Celestial Black, 64 GB)', 4.80286531585475), ('realme Narzo 30 5G (Racing Blue, 128 GB)', 4.783065149520166), ('realme 9i (Prism Blue, 64 GB)', 4.713374434113186)] \n",
      "\n",
      "Manjeet Singh ->  [('REDMI 9 Power (Fiery Red, 64 GB)', 5.059974446855696), ('SAMSUNG Galaxy F12 (Sea Green, 64 GB)', 4.903105965647912), ('POCO C31 (Royal Blue, 64 GB)', 4.8585402846911485), ('realme C25Y (Glacier Blue, 128 GB)', 4.811926023111834), ('OPPO F17 Pro (Matte Black, 128 GB)', 4.758119026229198)] \n",
      "\n",
      "Shiva Kumar ->  [('HP HP Pavilion Ryzen 5 Hexa Core 4600H - (8 GB/512 GB SSD/Windows 10 Home/4 GB Graphics/NVIDIA GeForce GTX 1650Ti/144 Hz) 15-ec1025AX Gaming Laptop', 4.9372853494918925), ('APPLE iPhone 12 Mini (Black, 64 GB)', 4.885588684363612), ('APPLE iPhone SE (Red, 128 GB)', 4.826535553387508), ('realme C21 (Cross Black, 64 GB)', 4.714013979381212), ('realme X7 5G (Space Silver, 128 GB)', 4.711958513860778)] \n",
      "\n",
      "Rajeev Kumar ->  [('realme 9 Pro 5G (Midnight Black, 128 GB)', 4.733756548829735), ('Infinix Hot 10 (Ocean Wave, 64 GB)', 4.610108409065247), ('APPLE iPhone SE (White, 128 GB)', 4.54334169605276), ('REDMI Note 10T 5G (Graphite Black, 128 GB)', 4.390587660756028), ('realme Narzo 30 (Racing Blue, 128 GB)', 4.323341574275451)] \n",
      "\n",
      "Mukesh Kumar ->  [('APPLE iPhone 12 (Blue, 64 GB)', 4.74231709737415), ('Infinix Hot 11S (Silver Wave, 128 GB)', 4.716496830772733), ('Infinix Hot 11S (Silver Wave, 64 GB)', 4.632171236494747), ('APPLE iPhone SE (Red, 64 GB)', 4.545378009124006), ('Infinix Smart 5A (Midnight Black, 32 GB)', 4.478801449207929)] \n",
      "\n",
      "Saravana Kumar ->  [('MOTOROLA G60 (Frosted Champagne, 128 GB)', 4.794312167355227), ('REDMI Note 9 (Aqua Green, 64 GB)', 4.70911213006199), ('MOTOROLA G60 (Soft Silver, 128 GB)', 4.696097958960783), ('APPLE iPhone SE (Red, 64 GB)', 4.565386414291259), ('REDMI Note 9 (Shadow Black, 64 GB)', 4.498902871165891)] \n",
      "\n",
      "Himanshu Kumar ->  [('Infinix Smart 5A (Quetzal Cyan, 32 GB)', 5.025404584675682), ('APPLE iPhone 12 (White, 256 GB)', 4.9254661128250765), ('Infinix Hot 11S (Silver Wave, 128 GB)', 4.91756255018226), ('APPLE iPhone 12 (Blue, 64 GB)', 4.9031149418777495), ('Infinix Hot 11S (Polar Black, 128 GB)', 4.877167869087112)] \n",
      "\n",
      "Vijay Singh ->  [('SAMSUNG Galaxy F12 (Sea Green, 64 GB)', 4.928163128319347), ('SAMSUNG Galaxy F12 (Sea Green, 128 GB)', 4.885894910952909), ('SAMSUNG Galaxy F12 (Celestial Black, 128 GB)', 4.857817463205212), ('HP Ryzen 3 Dual Core 3250U - (8 GB/256 GB SSD/Windows 10 Home) 15s-GY0501AU Thin and Light Laptop', 4.797175846884449), ('Infinix Note 11 (Graphite Black, 64 GB)', 4.766348294146132)] \n",
      "\n",
      "Vikram Singh ->  [('APPLE iPhone 12 (White, 64 GB)', 4.839752829389123), ('vivo V21 5G (Neon Spark, 128 GB)', 4.704623595840208), ('REDMI Note 9 (Aqua Green, 64 GB)', 4.609591100406708), ('Infinix Note 11 (Celestial Snow, 64 GB)', 4.577569915147579), ('OPPO A12 (Deep Blue, 32 GB)', 4.45996402152713)] \n",
      "\n",
      "Shivam Singh ->  [('APPLE iPhone 12 (Purple, 64 GB)', 5.086976813886329), ('APPLE iPhone 12 (White, 256 GB)', 5.02631646883145), ('Infinix Hot 11S (7° Purple, 128 GB)', 5.016301281328069), ('APPLE iPhone 12 (Black, 64 GB)', 4.992088690285187), ('Xiaomi 11i 5G (Camo Green, 128 GB)', 4.881390914169552)] \n",
      "\n",
      "Priyanshu Kumar ->  [('vivo V21 5G (Neon Spark, 128 GB)', 4.795843798914177), ('POCO M2 Pro (Two Shades of Black, 64 GB)', 4.569018575880795), ('Infinix Hot 10 Play (Morandi Green, 64 GB)', 4.499735190038811), ('realme C21Y (Cross Black, 32 GB)', 4.455399340097425), ('Nokia 110 TA-1302 DS', 4.436564460865516)] \n",
      "\n",
      "Abhay Kumar ->  [('REDMI Note 9 (Aqua Green, 64 GB)', 4.897114670191891), ('Infinix Smart 5 (Morandi Green, 32 GB)', 4.836014009279136), ('realme C25Y (Metal Grey, 64 GB)', 4.738478278068393), ('Kechaoda K115', 4.626078982788547), ('POCO M2 Pro (Out of the Blue, 64 GB)', 4.604519377450723)] \n",
      "\n",
      "Sarvesh Kumar ->  [('REDMI 9i Sport (Metallic Blue, 64 GB)', 4.712005973806273), ('realme C21Y (Cross Blue, 32 GB)', 4.630814201893981), ('realme Narzo 30 5G (Racing Blue, 128 GB)', 4.594987125224468), ('APPLE iPhone 12 (Black, 128 GB)', 4.591161177340149), ('realme Narzo 30 5G (Racing Silver, 128 GB)', 4.580534296174387)] \n",
      "\n",
      "Vishal Kumar ->  [('vivo V21 5G (Dusk Blue, 128 GB)', 4.8703848648446515), ('Infinix Smart 5A (Quetzal Cyan, 32 GB)', 4.757235530801321), ('realme C21 (Cross Black, 64 GB)', 4.735997730530898), ('realme Narzo 50i (Carbon Black, 32 GB)', 4.724608211831839), ('realme 9i (Prism Blue, 64 GB)', 4.690188999252194)] \n",
      "\n",
      "Rahul Saini ->  [('APPLE 2020 Macbook Air M1 - (8 GB/512 GB SSD/Mac OS Big Sur) MGN73HN/A', 5.41935171360365), ('Infinix Smart 5A (Ocean Wave, 32 GB)', 5.0796475062980875), ('Micromax IN Note 1 (White, 64 GB)', 5.055540083788336), ('realme C25Y (Metal Grey, 128 GB)', 5.032450334129098), ('APPLE iPhone SE (White, 128 GB)', 5.020139934594335)] \n",
      "\n",
      "Surya Prakash ->  [('APPLE iPhone SE (Black, 64 GB)', 5.07120371071535), ('APPLE iPhone SE (White, 64 GB)', 4.96644750961158), ('APPLE iPhone SE (Black, 128 GB)', 4.946999564836311), ('HP Pavilion Ryzen 5 Hexa Core 5600H - (8 GB/512 GB SSD/Windows 10/4 GB Graphics/NVIDIA GeForce GTX 1650/144 Hz) 15-ec2004AX Gaming Laptop', 4.6448864163063), ('SAMSUNG Galaxy F12 (Sky Blue, 128 GB)', 4.612882869147587)] \n",
      "\n",
      "rajesh kumar ->  [('Infinix Smart 5 (Aegean Blue, 32 GB)', 4.794661915050991), ('REDMI 9 Power (Mighty Black, 64 GB)', 4.679219259531225), ('Micromax IN Note 1 (Green, 64 GB)', 4.548180308953418), ('Infinix Hot 11 (Silver Wave, 64 GB)', 4.439647390264635), ('realme Narzo 50A (Oxygen Green, 128 GB)', 4.135823455433039)] \n",
      "\n",
      "Anil  Kumar ->  [('realme C21 (Cross Black, 64 GB)', 4.803447821610968), ('APPLE iPhone 12 (Green, 64 GB)', 4.74571367947346), ('APPLE iPhone 12 (Black, 64 GB)', 4.734545474796027), ('realme Narzo 50A (Oxygen Green, 128 GB)', 4.731578359440848), ('vivo X60 (Shimmer Blue, 128 GB)', 4.709116275458869)] \n",
      "\n",
      "Anil Kumar ->  [('APPLE iPhone 11 (Red, 64 GB)', 4.779811008305464), ('vivo V21 5G (Arctic White, 128 GB)', 4.67452698000906), ('APPLE iPhone 11 (Green, 128 GB)', 4.674226324437339), ('APPLE iPhone 11 (Black, 128 GB)', 4.642243526641737), ('OPPO A12 (Flowing Silver, 64 GB)', 4.615693511672992)] \n",
      "\n",
      "pankaj kumar ->  [('APPLE iPhone 11 (Purple, 64 GB)', 4.892541216206139), ('APPLE iPhone 12 (Black, 64 GB)', 4.846165970295373), ('Infinix Hot 11S (Silver Wave, 128 GB)', 4.781907222053101), ('Infinix Hot 11S (Green Wave, 128 GB)', 4.768675430223869), ('APPLE iPhone 12 (Green, 64 GB)', 4.755515277025845)] \n",
      "\n",
      "Santosh Singh ->  [('OPPO A12 (Blue, 32 GB)', 4.98336524706974), ('APPLE iPhone 12 (Red, 128 GB)', 4.97335643650596), ('Xiaomi 11i 5G (Camo Green, 128 GB)', 4.935225723604916), ('realme C11 2021 (Cool Blue, 32 GB)', 4.77834847320271), ('Micromax IN Note 1 (White, 64 GB)', 4.768956690029759)] \n",
      "\n",
      "Mahendra Kumar ->  [('APPLE iPhone 12 Mini (Black, 64 GB)', 4.813942595513352), ('APPLE iPhone 12 Mini (Blue, 64 GB)', 4.708773418163299), ('POCO M2 Pro (Out of the Blue, 64 GB)', 4.700506507522144), ('REDMI 9i (Nature Green, 64 GB)', 4.351299738430877), ('SAMSUNG Guru Music 2', 3.799661931845931)] \n",
      "\n",
      "Aditya Kumar ->  [('APPLE iPhone 11 (Red, 64 GB)', 4.528553919129391), ('APPLE iPhone 11 (White, 64 GB)', 4.46748980407775), ('REDMI 9 Power (Fiery Red, 64 GB)', 4.440894816857458), ('realme 8 (Cyber Silver, 128 GB)', 4.426123336431889), ('POCO M2 Pro (Green and Greener, 64 GB)', 4.319011595456309)] \n",
      "\n",
      "Sumit Kumar ->  [('realme 8s 5G (Universe Blue, 128 GB)', 4.751299277601228), ('APPLE iPhone SE (Black, 64 GB)', 4.675469431485478), ('APPLE iPhone SE (Black, 128 GB)', 4.66783423718645), ('APPLE iPhone SE (Red, 128 GB)', 4.609404632552071), ('APPLE iPhone 11 (Yellow, 64 GB)', 4.594597288952742)] \n",
      "\n",
      "Ravindra Kumar ->  [('APPLE iPhone 12 Mini (Black, 64 GB)', 4.447599957039166), ('realme 8 5G (Supersonic Black, 128 GB)', 4.422895088810581), ('Infinix Smart 5 (7 Purple, 32 GB)', 4.367664741496916), ('Infinix Smart HD 2021 (Quartz Green, 32 GB)', 4.35801958473214), ('Micromax IN Note 1 (White, 64 GB)', 4.280399211096183)] \n",
      "\n",
      "Mohit Saini ->  [('APPLE MacBook Air M1 - (8 GB/512 GB SSD/Mac OS Big Sur) Z12A000D3', 5.302095910778229), ('APPLE iPhone 12 (Blue, 64 GB)', 4.991827877377214), ('APPLE iPhone 12 (Green, 64 GB)', 4.979183408124719), ('APPLE 2020 Macbook Air M1 - (8 GB/256 GB SSD/Mac OS Big Sur) MGN93HN/A', 4.9652133456211), ('APPLE iPhone 11 (Purple, 128 GB)', 4.95423772886981)] \n",
      "\n",
      "Santhosh Kumar ->  [('APPLE iPhone 13 (Starlight, 128 GB)', 5.01637158504461), ('APPLE iPhone 12 (Green, 64 GB)', 4.999614356454604), ('APPLE iPhone 12 (White, 256 GB)', 4.923918243896733), ('Infinix Smart 5 (Aegean Blue, 32 GB)', 4.591482471402131), ('OPPO A31 (Lake Green, 64 GB)', 4.560171305891371)] \n",
      "\n",
      "Rakesh  Kumar ->  [('APPLE iPhone 12 Mini (Blue, 64 GB)', 4.810273936853239), ('OPPO Reno6 5G (Stellar Black, 128 GB)', 4.6053916175328915), ('APPLE iPhone 12 (Black, 64 GB)', 4.550023008596777), ('Infinix Hot 10 (Ocean Wave, 64 GB)', 4.538780256100471), ('APPLE iPhone 12 (Red, 128 GB)', 4.538088458511829)] \n",
      "\n",
      "Mohit Kumar ->  [('Infinix Hot 11S (Polar Black, 128 GB)', 4.909507971081665), ('Infinix Note 10 Pro (95° Black, 256 GB)', 4.838053206469783), ('APPLE iPhone 12 (Blue, 64 GB)', 4.818618651164841), ('Infinix Hot 11S (Polar Black, 64 GB)', 4.781326151431663), ('SAMSUNG Galaxy F12 (Sea Green, 64 GB)', 4.732678401230844)] \n",
      "\n",
      "Kamlesh Kumar ->  [('APPLE iPhone 12 (Red, 128 GB)', 4.871892789363476), ('APPLE iPhone 12 (Purple, 64 GB)', 4.855269717195647), ('POCO M2 Pro (Out of the Blue, 64 GB)', 4.8349856781798835), ('POCO M2 Pro (Two Shades of Black, 64 GB)', 4.759205063975096), ('APPLE iPhone 12 (White, 256 GB)', 4.749969631209128)] \n",
      "\n",
      "Vivek Singh ->  [('Infinix Hot 11S (Silver Wave, 64 GB)', 4.766410157072935), ('APPLE iPhone 11 (Purple, 64 GB)', 4.757181516346045), ('Infinix Hot 11S (Polar Black, 128 GB)', 4.724779992194413), ('APPLE iPhone 11 (Black, 128 GB)', 4.722732284608915), ('SAMSUNG Galaxy F12 (Sea Green, 64 GB)', 4.639100954696899)] \n",
      "\n",
      "Arun Kumar ->  [('APPLE iPhone 11 (Purple, 128 GB)', 4.745768765344843), ('APPLE iPhone 11 (Black, 64 GB)', 4.702824410977567), ('realme C21 (Cross Black, 32 GB)', 4.619224760491743), ('Infinix Hot 11S (Polar Black, 128 GB)', 4.601017621132267), ('Infinix Hot 11S (Silver Wave, 64 GB)', 4.586887886834867)] \n",
      "\n",
      "Shyam Kumar ->  [('Infinix Note 11 (Celestial Snow, 64 GB)', 5.07777912230405), ('SAMSUNG Galaxy A21s (Blue, 64 GB)', 4.910484819095685), ('realme C25Y (Glacier Blue, 64 GB)', 4.900423620691461), ('REDMI Note 9 (Aqua Green, 64 GB)', 4.873816603167886), ('Nokia TA-1174 / TA-1299', 4.733015783989112)] \n",
      "\n",
      "rahul kumar ->  [('Infinix Smart 5A (Quetzal Cyan, 32 GB)', 4.990602689717091), ('Infinix Smart 5 (Aegean Blue, 32 GB)', 4.827997676485779), ('Kechaoda K66 Plus', 4.745584751175127), ('SAMSUNG Guru Music 2', 4.737580859607851), ('Infinix Smart 5A (Midnight Black, 32 GB)', 4.7328392094778025)] \n",
      "\n",
      "Vaibhav Singh ->  [('LAVA A1 Josh', 5.112509462219908), ('APPLE iPhone SE (White, 64 GB)', 5.025791560756591), ('realme 9i (Prism Blue, 64 GB)', 5.012937817366092), ('SAMSUNG Galaxy M12 (White, 64 GB)', 4.9632376786376025), ('OPPO Reno6 5G (Stellar Black, 128 GB)', 4.877176957070814)] \n",
      "\n",
      "Rahul Roy ->  [('Infinix Hot 11S (Polar Black, 64 GB)', 4.953949441289186), ('POCO M3 (Power Black, 128 GB)', 4.707080580659676), ('realme Narzo 30 (Racing Silver, 64 GB)', 4.695131399059363), ('Redmi 9 (Carbon Black, 64 GB)', 4.668873989669753), ('Infinix Note 11 (Graphite Black, 64 GB)', 4.630035609631842)] \n",
      "\n",
      "Mahesh ->  [('SAMSUNG Galaxy F12 (Sea Green, 64 GB)', 4.897029044369067), ('SAMSUNG Galaxy F12 (Sky Blue, 128 GB)', 4.808050913198171), ('POCO X3 (Cobalt Blue, 64 GB)', 4.57599995013941), ('realme 9i (Prism Black, 128 GB)', 4.50926185907031), ('realme Narzo 30 (Racing Blue, 64 GB)', 4.320167357464688)] \n",
      "\n",
      "Gautam Kumar ->  [('APPLE iPhone 11 (White, 128 GB)', 4.85330165114275), ('realme 8s 5G (Universe Blue, 128 GB)', 4.791461435610754), ('MOTOROLA G60 (Frosted Champagne, 128 GB)', 4.77149156132054), ('APPLE iPhone 11 (Yellow, 64 GB)', 4.738425980060124), ('realme 8 5G (Supersonic Black, 128 GB)', 4.691843629309509)] \n",
      "\n",
      "Ravi ->  [('realme 9i (Prism Black, 64 GB)', 4.849005521302166), ('SAMSUNG Galaxy F23 5G (Forest Green, 128 GB)', 4.469130471158848), ('vivo T1 5G (Starlight Black, 128 GB)', 4.424328721573327), ('realme 8i (Space Purple, 64 GB)', 4.374018394128245), ('realme C35 (Glowing Black, 64 GB)', 4.266048018041262)] \n",
      "\n",
      "Mukesh  Kumar ->  [('Infinix Hot 11S (Polar Black, 64 GB)', 4.862398883491077), ('APPLE iPhone 11 (Black, 128 GB)', 4.860813950030673), ('APPLE iPhone 11 (Black, 64 GB)', 4.853817835984989), ('Infinix Hot 11S (Green Wave, 64 GB)', 4.801708870657052), ('APPLE iPhone 11 (Purple, 128 GB)', 4.796410765427312)] \n",
      "\n",
      "Sachin  Kumar ->  [('APPLE iPhone 12 (Red, 128 GB)', 5.004644712066654), ('realme 9i (Prism Black, 128 GB)', 4.8007870411671085), ('realme C21 (Cross Blue, 32 GB)', 4.7684656237214025), ('Infinix Note 11 (Celestial Snow, 64 GB)', 4.660019503449581), ('realme 8 (Cyber Silver, 128 GB)', 4.643589818390128)] \n",
      "\n",
      "Narendra Singh ->  [('Infinix Hot 11S (Green Wave, 64 GB)', 4.9156928213561155), ('realme Narzo 50i (Carbon Black, 32 GB)', 4.80166956242456), ('OPPO A12 (Blue, 64 GB)', 4.688070185730824), ('realme C25 (Watery Grey, 64 GB)', 4.683747709780964), ('vivo T1 5G (Starlight Black, 128 GB)', 4.669214895140667)] \n",
      "\n",
      "Chandan  Kumar ->  [('MOTOROLA G60 (Frosted Champagne, 128 GB)', 4.7401103502387345), ('realme Narzo 50i (Mint Green, 32 GB)', 4.7057070624354305), ('REDMI 9 Power (Fiery Red, 64 GB)', 4.622123167335515), ('realme C11 2021 (Cool Blue, 64 GB)', 4.614248650226978), ('realme 8i (Space Black, 64 GB)', 4.603560019911906)] \n",
      "\n",
      "Rakesh Sharma ->  [('APPLE iPhone 12 (Red, 128 GB)', 4.842349326219375), ('APPLE iPhone 12 (Blue, 64 GB)', 4.817227315072812), ('APPLE iPhone 12 (Purple, 64 GB)', 4.803119702053188), ('APPLE iPhone 11 (Yellow, 64 GB)', 4.7883060650421765), ('APPLE iPhone 12 Mini (Blue, 64 GB)', 4.775968443031726)] \n",
      "\n",
      "Abhay Singh ->  [('APPLE iPhone 11 (Green, 128 GB)', 5.088696489455641), ('APPLE iPhone 11 (Black, 128 GB)', 5.036691160148558), ('APPLE iPhone 12 (Red, 128 GB)', 4.992269229253216), ('OPPO A12 (Blue, 32 GB)', 4.97777494536953), ('realme Narzo 50A (Oxygen Green, 128 GB)', 4.962049916476401)] \n",
      "\n",
      "Abhishek Kumar ->  [('APPLE iPhone 12 (Purple, 64 GB)', 4.724092752578404), ('Infinix Hot 10 (Ocean Wave, 64 GB)', 4.68442756594877), ('APPLE iPhone 12 (Green, 64 GB)', 4.6772388547342), ('APPLE 2020 Macbook Air M1 - (8 GB/256 GB SSD/Mac OS Big Sur) MGN93HN/A', 4.622818692807608), ('MSI Modern 14 Ryzen 5 Hexa Core 4500U - (8 GB/512 GB SSD/Windows 10 Home) Modern 14 B4MW-423IN Thin and Light Laptop', 4.612980044389736)] \n",
      "\n",
      "Atul Kumar ->  [('APPLE iPhone 12 (Blue, 64 GB)', 5.064608777718099), ('APPLE iPhone SE (White, 128 GB)', 4.9061367013030575), ('APPLE iPhone SE (Black, 64 GB)', 4.876316964658334), ('APPLE iPhone SE (White, 64 GB)', 4.81155094024281), ('ASUS ROG Strix G15 (2021) Ryzen 7 Octa Core 4800H - (8 GB/512 GB SSD/Windows 10 Home/4 GB Graphics/NVIDIA GeForce GTX 1650/144 Hz) G513IH-HN086T Gaming Laptop', 4.797330835348839)] \n",
      "\n",
      "Ashish Singh ->  [('APPLE iPhone 12 (Purple, 64 GB)', 5.049689416287732), ('APPLE iPhone 12 (Red, 128 GB)', 5.00821778132653), ('OPPO A12 (Blue, 32 GB)', 4.756146416575047), ('realme C21 (Cross Black, 32 GB)', 4.656393060014611), ('MOTOROLA G60 (Frosted Champagne, 128 GB)', 4.600999010029017)] \n",
      "\n",
      "Sanjeev Kumar ->  [('REDMI Note 10T 5G (Metallic Blue, 64 GB)', 4.9604593484991355), ('APPLE iPhone 11 (White, 128 GB)', 4.942887964619235), ('APPLE iPhone 11 (Red, 64 GB)', 4.729111352423068), ('APPLE iPhone 11 (Yellow, 64 GB)', 4.6975132702049756), ('Infinix Hot 11S (Silver Wave, 64 GB)', 4.683188856553193)] \n",
      "\n",
      "Shivam Verma ->  [('SAMSUNG Metro 313 Dual Sim', 5.198920828050416), ('APPLE iPhone 12 Mini (White, 64 GB)', 5.068671908622547), ('APPLE iPhone SE (Black, 128 GB)', 5.052112165609998), ('realme 8 Pro (Infinite Black, 128 GB)', 5.00256369436389), ('realme C25Y (Metal Grey, 128 GB)', 5.000107223588337)] \n",
      "\n",
      "Satyam Kumar ->  [('APPLE iPhone 12 (Blue, 64 GB)', 5.03076815682982), ('APPLE iPhone 12 (White, 64 GB)', 5.028287745385818), ('REDMI 9 Power (Mighty Black, 64 GB)', 4.748980988543016), ('OPPO A53s 5G (Crystal Blue, 128 GB)', 4.716042814803919), ('REDMI 9i Sport (Metallic Blue, 64 GB)', 4.652591792394048)] \n",
      "\n",
      "Shailendra Singh ->  [('vivo Y12G (Glacier Blue, 64 GB)', 5.0817216071396265), ('REDMI Note 10T 5G (Chromium White, 64 GB)', 4.876717233014065), ('APPLE iPhone 12 Mini (Black, 64 GB)', 4.827385016002979), ('Xiaomi 11i Hypercharge 5G (Pacific Pearl, 128 GB)', 4.661765738127892), ('realme GT Master Edition (Luna White, 256 GB)', 4.479420002867631)] \n",
      "\n",
      "Gaurav Sharma ->  [('MOTOROLA g31 (Baby Blue, 64 GB)', 4.988829575211927), ('MOTOROLA g31 (Meteorite Grey, 64 GB)', 4.905138471828543), ('OPPO A15S (Fancy White, 64 GB)', 4.822301705374625), ('APPLE iPhone SE (Black, 64 GB)', 4.790353211624782), ('APPLE iPhone 12 Mini (White, 64 GB)', 4.789120987703)] \n",
      "\n",
      "Tarun Kumar ->  [('APPLE MacBook Air M1 - (8 GB/512 GB SSD/Mac OS Big Sur) Z12A000D3', 4.708686416916002), ('APPLE iPhone 12 Mini (Black, 64 GB)', 4.559732880502421), ('realme 8s 5G (Universe Purple, 128 GB)', 4.477702795165277), ('APPLE iPhone 12 Mini (White, 64 GB)', 4.33032793255464), ('APPLE iPhone SE (Black, 64 GB)', 4.261354265636847)] \n",
      "\n",
      "Arun  Kumar ->  [('SAMSUNG Galaxy F12 (Sky Blue, 64 GB)', 4.8836260581877005), ('SAMSUNG Galaxy F12 (Sea Green, 64 GB)', 4.841247760985513), ('SAMSUNG Galaxy F12 (Celestial Black, 128 GB)', 4.815901777472447), ('LAVA A1 Josh', 4.782056814022045), ('Infinix Hot 11 (Silver Wave, 64 GB)', 4.7266556200894)] \n",
      "\n",
      "Kanhaiya Kumar ->  [('MOTOROLA G60 (Soft Silver, 128 GB)', 4.952251527207018), ('POCO M4 Pro (Power Black, 128 GB)', 4.743636966697527), ('Infinix Hot 10 Play (7° Purple, 64 GB)', 4.275045439261361), ('realme 8 (Cyber Black, 128 GB)', 4.2132618049965815), ('Nokia TA-1304/105 SS', 3.9860765571018035)] \n",
      "\n",
      "Mohan Kumar ->  [('OPPO A12 (Deep Blue, 32 GB)', 4.73953807554364), ('Infinix Hot 10 (Amber Red, 64 GB)', 4.54832942166412), ('MOTOROLA E7 Power (Tahiti Blue, 64 GB)', 4.523091016443306), ('Redmi 9 (Sky Blue, 64 GB)', 4.510398168068615), ('APPLE iPhone SE (White, 128 GB)', 4.3808443455474695)] \n",
      "\n",
      "Rahul Pandey ->  [('realme Narzo 50A (Oxygen Blue, 64 GB)', 4.826713701275315), ('realme Narzo 50A (Oxygen Green, 128 GB)', 4.564970083199078), ('realme C21Y (Cross Black, 64 GB)', 4.390717615384972), ('realme C21Y (Cross Black, 64 GB)', 4.390717615384972), ('POCO C31 (Royal Blue, 64 GB)', 4.317734332690079)] \n",
      "\n",
      "Rahul  Kumar  ->  [('Infinix Hot 11S (7° Purple, 128 GB)', 5.011762752660509), ('Infinix Hot 11S (Silver Wave, 64 GB)', 4.959735889087681), ('Infinix Hot 11S (Polar Black, 64 GB)', 4.953794585871547), ('realme C21Y (Cross Black, 32 GB)', 4.943715593126238), ('OPPO A53s 5G (Crystal Blue, 128 GB)', 4.728554268991878)] \n",
      "\n",
      "Sunil Singh ->  [('realme Narzo 50A (Oxygen Green, 128 GB)', 4.755253027647273), ('SAMSUNG Guru Music 2', 4.623482429070491), ('realme GT Master Edition (Cosmos Black, 128 GB)', 4.475778947576312), ('OPPO A31 (Fantasy White, 128 GB)', 4.423412626626353), ('realme Narzo 50i (Carbon Black, 32 GB)', 4.393961644700474)] \n",
      "\n",
      "Sujeet Kumar ->  [('APPLE iPhone 11 (White, 128 GB)', 4.843790139685895), ('APPLE iPhone 11 (Yellow, 128 GB)', 4.731100096018951), ('APPLE iPhone 12 (Green, 64 GB)', 4.676570624875339), ('APPLE iPhone 12 (White, 256 GB)', 4.667147873383936), ('KARBONN K9', 4.639102231776007)] \n",
      "\n",
      "Nitish  Kumar  ->  [('Infinix Hot 11S (Silver Wave, 128 GB)', 4.895702196597902), ('Infinix Hot 10 Play (Aegean Blue, 64 GB)', 4.894604870328638), ('Infinix Hot 11S (7° Purple, 128 GB)', 4.866410819085236), ('Infinix Hot 10 Play (Obsidian Black, 64 GB)', 4.817480105692152), ('OPPO Reno6 5G (Stellar Black, 128 GB)', 4.6108979576016695)] \n",
      "\n",
      "Chandan Das ->  [('APPLE iPhone 11 (Green, 128 GB)', 5.064673036945722), ('APPLE iPhone SE (Red, 64 GB)', 5.049176686704686), ('POCO M2 Pro (Green and Greener, 64 GB)', 5.000013979723181), ('POCO C31 (Royal Blue, 64 GB)', 4.999056139051103), ('realme Narzo 50A (Oxygen Blue, 64 GB)', 4.882630084864269)] \n",
      "\n",
      "Arun kumar ->  [('APPLE iPhone 12 Mini (Black, 64 GB)', 4.796192599289783), ('realme C11 2021 (Cool Blue, 32 GB)', 4.519343206416212), ('POCO M3 Pro 5G (Cool Blue, 64 GB)', 4.513554420290142), ('REDMI Note 9 (Aqua Green, 64 GB)', 4.197238682037121), ('realme C20 (Cool Blue, 32 GB)', 4.1688646159292775)] \n",
      "\n",
      "Ranjeet Kumar ->  [('APPLE iPhone 12 (Blue, 64 GB)', 4.970242512007093), ('APPLE iPhone 12 (Purple, 64 GB)', 4.925518819088392), ('APPLE iPhone 12 (Red, 128 GB)', 4.88236563282433), ('APPLE iPhone 12 (Black, 64 GB)', 4.768017008944188), ('realme Narzo 50i (Mint Green, 32 GB)', 4.7599382659370155)] \n",
      "\n",
      "Kuldeep Singh ->  [('Infinix Smart 5A (Quetzal Cyan, 32 GB)', 4.980324764178454), ('Xiaomi 11i 5G (Purple Mist, 128 GB)', 4.811798152842325), ('APPLE iPhone 11 (Green, 128 GB)', 4.782242680423861), ('APPLE iPhone 12 (Green, 64 GB)', 4.760246047112829), ('Infinix Smart 5A (Midnight Black, 32 GB)', 4.743850697534366)] \n",
      "\n",
      "Sahil Singh ->  [('APPLE iPhone 12 (Red, 128 GB)', 5.044122331935436), ('APPLE iPhone 12 (Blue, 64 GB)', 4.996538319450777), ('APPLE iPhone 11 (Red, 64 GB)', 4.957578558166847), ('APPLE iPhone 12 (Black, 64 GB)', 4.879931155725086), ('realme 9i (Prism Blue, 64 GB)', 4.8688882468841355)] \n",
      "\n",
      "Abhijeet Kumar ->  [('APPLE iPhone 11 (Black, 64 GB)', 5.011834611122169), ('POCO M3 (Cool Blue, 64 GB)', 4.7734804201751215), ('realme Narzo 30 (Racing Silver, 64 GB)', 4.526385142760989), ('POCO M3 (Power Black, 128 GB)', 4.428197664750681), ('MOTOROLA G40 Fusion (Frosted Champagne, 128 GB)', 4.082085711966099)] \n",
      "\n",
      "Rajesh ->  [('APPLE iPhone 12 Mini (Black, 64 GB)', 4.805842130496928), ('APPLE iPhone 12 Mini (Blue, 64 GB)', 4.707305618876598), ('vivo T1 5G (Starlight Black, 128 GB)', 4.398589716268368), ('POCO M2 Pro (Green and Greener, 64 GB)', 4.3420052382135985), ('realme C25_Y (Glacier Blue, 128 GB)', 4.169979126433569)] \n",
      "\n",
      "Gaurav Yadav ->  [('APPLE iPhone 12 (Blue, 64 GB)', 4.92842838418427), ('REDMI Note 9 (Aqua Green, 64 GB)', 4.827133623561606), ('realme C21Y (Cross Black, 32 GB)', 4.745597940779757), ('realme Narzo 50i (Carbon Black, 32 GB)', 4.704684740133014), ('Infinix Hot 10 Play (7° Purple, 64 GB)', 4.663582141567706)] \n",
      "\n",
      "Surendra Kumar ->  [('APPLE iPhone 12 Mini (White, 64 GB)', 4.893860673668814), ('REDMI Note 10S (Cosmic Purple, 128 GB)', 4.756336077611828), ('Infinix Hot 10 Play (7° Purple, 64 GB)', 4.711893761862586), ('Infinix Hot 10 (Ocean Wave, 64 GB)', 4.655993561621926), ('OPPO A33 (Mint Cream, 32 GB)', 4.596921634237031)] \n",
      "\n",
      "Ankit Verma ->  [('SAMSUNG Galaxy F12 (Sky Blue, 128 GB)', 4.960144942522243), ('POCO M3 (Power Black, 64 GB)', 4.4354451877188295), ('POCO M3 (Cool Blue, 64 GB)', 4.370978103268314), ('SAMSUNG Galaxy F22 (Denim Blue, 64 GB)', 4.355367822704837), ('realme C25s (Watery Blue, 128 GB)', 4.278153284773441)] \n",
      "\n",
      "Akshay ->  [('APPLE iPhone 11 (Black, 64 GB)', 4.99947297306565), ('APPLE iPhone 11 (Yellow, 128 GB)', 4.99236119002685), ('APPLE iPhone 11 (Green, 128 GB)', 4.991437396342367), ('APPLE iPhone SE (White, 128 GB)', 4.989077871195075), ('SAMSUNG Galaxy F12 (Celestial Black, 64 GB)', 4.9790462042895305)] \n",
      "\n",
      "Amit  Sharma ->  [('APPLE iPhone 12 (White, 64 GB)', 4.577274607361201), ('APPLE iPhone 12 (White, 64 GB)', 4.577274607361201), ('APPLE iPhone 12 (Purple, 64 GB)', 4.565096687180271), ('REDMI 9i (Midnight Black, 64 GB)', 4.527722482146269), ('APPLE iPhone 12 (White, 256 GB)', 4.404900372352598)] \n",
      "\n",
      "Manpreet Singh ->  [('APPLE iPhone 11 (Yellow, 64 GB)', 5.077600862990204), ('APPLE iPhone 11 (Purple, 64 GB)', 5.052743592310309), ('APPLE iPhone 11 (Red, 64 GB)', 5.025163246952971), ('APPLE iPhone 12 (Red, 128 GB)', 4.996722489676573), ('APPLE iPhone 12 (Green, 64 GB)', 4.919665616062554)] \n",
      "\n",
      "Manish kumar ->  [('realme Narzo 50A (Oxygen Green, 64 GB)', 4.640675034946528), ('Infinix Smart 5 (7 Purple, 32 GB)', 4.5887912261698185), ('POCO M3 (Power Black, 64 GB)', 4.541460040038142), ('realme C21 (Cross Black, 32 GB)', 4.514993512450613), ('realme 8 (Cyber Silver, 128 GB)', 4.357733090942904)] \n",
      "\n",
      "Ravi Gupta ->  [('Xiaomi 11i Hypercharge 5G (Purple Mist, 128 GB)', 4.9628869751843165), ('Infinix Smart 5A (Ocean Wave, 32 GB)', 4.8802305942956465), ('realme C20 (Cool Grey, 32 GB)', 4.736208623962714), ('Infinix Smart 5A (Quetzal Cyan, 32 GB)', 4.689591189909986), ('SAMSUNG Galaxy F12 (Sea Green, 128 GB)', 4.65158884216782)] \n",
      "\n",
      "Mohan Raj ->  [('APPLE iPhone 12 (Blue, 64 GB)', 5.035224039631036), ('Infinix Hot 11S (Polar Black, 128 GB)', 4.986943299413443), ('APPLE iPhone 12 (Green, 64 GB)', 4.969466836444741), ('POCO M3 (Power Black, 128 GB)', 4.694042627426921), ('realme Narzo 50A (Oxygen Green, 128 GB)', 4.642447130160299)] \n",
      "\n",
      "Vinod Kumar ->  [('APPLE iPhone 11 (Black, 64 GB)', 4.678573410832426), ('APPLE iPhone 11 (Green, 128 GB)', 4.672831658779755), ('APPLE iPhone 11 (Purple, 128 GB)', 4.610061554371926), ('realme 8 Pro (Infinite Black, 128 GB)', 4.571706593858637), ('REDMI Note 9 (Shadow Black, 64 GB)', 4.491752207802302)] \n",
      "\n",
      "Imran Khan ->  [('APPLE iPhone 12 (Blue, 64 GB)', 4.938305183720943), ('APPLE iPhone 12 (White, 64 GB)', 4.86627328966311), ('Infinix Hot 11S (Polar Black, 128 GB)', 4.733204084232594), ('Infinix Hot 11S (Silver Wave, 64 GB)', 4.705764910461572), ('REDMI 9 Power (Fiery Red, 64 GB)', 4.705602467353731)] \n",
      "\n",
      "Prince Sharma ->  [('POCO M3 (Power Black, 128 GB)', 4.946621889421682), ('realme Book (Slim) Core i3 11th Gen - (8 GB/256 GB SSD/Windows 10 Home) RMNB1001 Thin and Light Laptop', 4.851155649261796), ('REDMI 9 Power (Mighty Black, 64 GB)', 4.693425658036945), ('POCO X3 (Shadow Gray, 64 GB)', 4.6178994757297716), ('APPLE iPhone 11 (Red, 64 GB)', 4.5675157323485625)] \n",
      "\n",
      "Sonu  Kumar ->  [('REDMI Note 10S (Shadow Black, 64 GB)', 4.9272561460419535), ('Infinix Hot 11S (Polar Black, 64 GB)', 4.784717396959514), ('Infinix Hot 11S (Silver Wave, 64 GB)', 4.757226560906609), ('realme 9i (Prism Blue, 64 GB)', 4.752569546114996), ('APPLE iPhone SE (Black, 64 GB)', 4.6880539100199154)] \n",
      "\n",
      "Vivek Mishra ->  [('REDMI Note 9 (Aqua Green, 64 GB)', 4.713995854379475), ('Infinix Smart 5 (Morandi Green, 32 GB)', 4.708330602297326), ('Infinix Smart 5A (Quetzal Cyan, 32 GB)', 4.611774244656359), ('OPPO Reno5 Pro 5G (Starry Black, 128 GB)', 4.600577611796285), ('POCO C31 (Royal Blue, 32 GB)', 4.4508822538025665)] \n",
      "\n",
      "Abhishek Singh ->  [('APPLE iPhone SE (Black, 128 GB)', 4.928824664125362), ('APPLE iPhone 13 (Starlight, 128 GB)', 4.923951712278345), ('APPLE iPhone 13 (Midnight, 128 GB)', 4.869348501073679), ('APPLE iPhone 13 (Green, 128 GB)', 4.830921582422539), ('realme C21Y (Cross Black, 32 GB)', 4.826617326899077)] \n",
      "\n",
      "Akshay Kumar ->  [('realme 8i (Space Purple, 64 GB)', 4.715949884139061), ('realme Narzo 50A (Oxygen Green, 128 GB)', 4.696703163506018), ('realme Narzo 50A (Oxygen Blue, 64 GB)', 4.668955027008165), ('REDMI 9 Power (Mighty Black, 64 GB)', 4.62026151404514), ('realme C21 (Cross Black, 32 GB)', 4.606862205877789)] \n",
      "\n",
      "Arvind Singh ->  [('APPLE MacBook Air M1 - (8 GB/512 GB SSD/Mac OS Big Sur) Z12A000D3', 5.0257948827266485), ('APPLE iPhone 11 (White, 128 GB)', 5.02288716346291), ('OPPO A53s 5G (Crystal Blue, 128 GB)', 5.001179797644218), ('APPLE iPhone 11 (Red, 64 GB)', 4.946825583454371), ('APPLE iPhone 11 (Black, 64 GB)', 4.935028877850429)] \n",
      "\n",
      "Anurag Singh ->  [('APPLE iPhone 11 (Black, 64 GB)', 4.932564014378448), ('APPLE iPhone 11 (White, 128 GB)', 4.929505166386696), ('HP 15-ec1105AX Ryzen 5 Hexa Core 4600H - (8 GB/512 GB SSD/Windows 10 Home/4 GB Graphics/NVIDIA GeForce GTX 1650) 15-ec1105AX Gaming Laptop', 4.733924392042517), ('realme Narzo 50A (Oxygen Blue, 64 GB)', 4.626077388471725), ('SAMSUNG Galaxy F12 (Sky Blue, 64 GB)', 4.609731762292448)] \n",
      "\n",
      "Narendra Kumar ->  [('APPLE iPhone 12 (Green, 64 GB)', 4.560045597459769), ('realme 9i (Prism Black, 128 GB)', 4.426541019594863), ('POCO M3 (Power Black, 128 GB)', 4.419388953103762), ('POCO X3 (Shadow Gray, 64 GB)', 4.3792017960434), ('realme C21 (Cross Black, 64 GB)', 4.21184214205408)] \n",
      "\n",
      "Siva Kumar ->  [('SAMSUNG Metro 313 Dual Sim', 4.84458133181333), ('vivo V21 5G (Dusk Blue, 128 GB)', 4.457631424860063), ('vivo Y12G (Glacier Blue, 64 GB)', 4.420425450927532), ('POCO M2 Pro (Two Shades of Black, 64 GB)', 4.376041632617298), ('Moto G71 5G (Neptune Green, 128 GB)', 4.242740326752471)] \n",
      "\n",
      "Karan Kumar ->  [('realme 8i (Space Black, 64 GB)', 4.6666957481830025), ('POCO C3 (Arctic Blue, 32 GB)', 4.58509422851022), ('OPPO Reno5 Pro 5G (Starry Black, 128 GB)', 4.511871910416218), ('OPPO A33 (Moonlight Black, 32 GB)', 4.467250502987869), ('POCO C3 (Matte Black, 32 GB)', 4.45539802616146)] \n",
      "\n",
      "Anuj  Kumar ->  [('Nokia TA-1304/105 SS', 4.918112591918412), ('Infinix Hot 11S (Silver Wave, 64 GB)', 4.890616495464014), ('Infinix Hot 11S (Green Wave, 64 GB)', 4.88194999727275), ('OPPO A53s 5G (Ink Black, 128 GB)', 4.71712681243638), ('Infinix Smart 5 (Aegean Blue, 32 GB)', 4.6979347939755645)] \n",
      "\n",
      "Rajesh  Kumar ->  [('APPLE iPhone 12 (White, 256 GB)', 4.880203071396297), ('APPLE iPhone 13 (Green, 128 GB)', 4.766325684436729), ('Infinix Hot 11 (Silver Wave, 64 GB)', 4.5753757554116925), ('realme C25 (Watery Blue, 64 GB)', 4.504229992389565), ('Infinix Hot 10 (Amber Red, 64 GB)', 4.471988689074566)] \n",
      "\n",
      "Santosh Yadav ->  [('realme C21 (Cross Blue, 64 GB)', 4.848488051000957), ('realme C21 (Cross Black, 64 GB)', 4.774701185068696), ('OPPO F17 Pro (Metallic White, 128 GB)', 4.713890313426718), ('realme Narzo 30 5G (Racing Silver, 128 GB)', 4.706374986884351), ('OPPO F17 Pro (Matte Black, 128 GB)', 4.580472883732397)] \n",
      "\n",
      "Kiran ->  [('Infinix Hot 10 Play (7° Purple, 64 GB)', 4.856176811279421), ('Infinix Hot 10 Play (Morandi Green, 64 GB)', 4.8449319783606875), ('realme Narzo 50A (Oxygen Blue, 64 GB)', 4.802291540842091), ('vivo V23 5G (Sunshine Gold, 128 GB)', 4.634585316343666), ('REDMI 9 Power (Fiery Red, 64 GB)', 4.579734608891245)] \n",
      "\n",
      "Sunil Kumar ->  [('APPLE iPhone 11 (Yellow, 128 GB)', 4.788662112288115), ('APPLE iPhone 11 (Red, 64 GB)', 4.706966398479936), ('APPLE iPhone 12 (Red, 128 GB)', 4.674590470017741), ('Redmi 9A (Midnight Black, 32 GB)', 4.607270595000642), ('Infinix Hot 10 Play (Morandi Green, 64 GB)', 4.57290974212511)] \n",
      "\n",
      "Rahul Yadav ->  [('APPLE iPhone 11 (White, 128 GB)', 4.986126098485655), ('APPLE iPhone 11 (Red, 64 GB)', 4.795568969543348), ('Infinix Hot 10S (95° Black, 64 GB)', 4.730140690228824), ('POCO C3 (Matte Black, 32 GB)', 4.652667081008498), ('POCO C3 (Arctic Blue, 32 GB)', 4.5132589843576865)] \n",
      "\n",
      "Amit Kumar ->  [('APPLE iPhone 11 (Purple, 64 GB)', 4.716270465578634), ('APPLE iPhone 11 (Red, 64 GB)', 4.666172777191075), ('APPLE iPhone SE (White, 64 GB)', 4.6511223303203195), ('APPLE iPhone 11 (Black, 128 GB)', 4.647374022520231), ('APPLE iPhone 13 (Blue, 128 GB)', 4.623969290952316)] \n",
      "\n",
      "Deepak Yadav ->  [('APPLE iPhone 12 Mini (White, 64 GB)', 4.832483703428409), ('APPLE iPhone 11 (Red, 64 GB)', 4.7960075417107655), ('realme C21 (Cross Black, 64 GB)', 4.538148827450844), ('realme Narzo 30 (Racing Blue, 128 GB)', 4.429354525815832), ('POCO X3 (Cobalt Blue, 64 GB)', 4.358177225770291)] \n",
      "\n",
      "Krishna Kumar ->  [('APPLE iPhone 11 (Purple, 128 GB)', 4.968852945083945), ('APPLE iPhone 11 (Purple, 64 GB)', 4.820387012295333), ('OPPO A33 (Mint Cream, 32 GB)', 4.792303603996678), ('REDMI 9 Power (Blazing Blue, 64 GB)', 4.77217671861657), ('APPLE iPhone 12 (White, 256 GB)', 4.701527304892183)] \n",
      "\n",
      "Dinesh  Kumar ->  [('realme 9i (Prism Black, 64 GB)', 4.86516079884605), ('LAVA A1', 4.820995191281044), ('MOTOROLA G60 (Frosted Champagne, 128 GB)', 4.80185688913116), ('realme Narzo 30 (Racing Silver, 64 GB)', 4.726081724416631), ('realme Narzo 50A (Oxygen Blue, 64 GB)', 4.690492442905519)] \n",
      "\n",
      "Chandra Sekhar ->  [('Infinix Hot 11S (7° Purple, 64 GB)', 4.399731753509501), ('Infinix Hot 11S (Green Wave, 128 GB)', 4.329356852474832), ('realme 8s 5G (Universe Blue, 128 GB)', 4.244236773653214), ('POCO X3 (Shadow Gray, 64 GB)', 4.034237138714258), ('OPPO Reno6 5G (Stellar Black, 128 GB)', 3.904159150126977)] \n",
      "\n",
      "Sathish Kumar ->  [('APPLE iPhone 11 (Yellow, 64 GB)', 4.923975035333671), ('APPLE iPhone 11 (Green, 128 GB)', 4.868816410509261), ('HP OMEN 15 Ryzen 7 Octa Core 5800H - (16 GB/1 TB SSD/Windows 10 Home/6 GB Graphics/NVIDIA GeForce RTX 3060/144 Hz) 15-en1036AX Gaming Laptop', 4.500784306626277), ('realme Narzo 20 (Victory Blue, 128 GB)', 4.425355385996939), ('SAMSUNG GT-E1215', 4.402364735550359)] \n",
      "\n",
      "Pramod  Kumar ->  [('OPPO F17 Pro (Magic Blue, 128 GB)', 5.016200009222019), ('Xiaomi 11i 5G (Stealth Black, 128 GB)', 4.697029247034304), ('realme C25Y (Metal Grey, 64 GB)', 4.583694252766727), ('POCO M3 Pro 5G (Yellow, 64 GB)', 4.395913959148915), ('realme 8i (Space Black, 64 GB)', 4.28519470915277)] \n",
      "\n",
      "Vijay Kumar ->  [('APPLE iPhone 12 (Blue, 64 GB)', 5.009105101398369), ('APPLE iPhone 12 (Red, 128 GB)', 4.912602656120612), ('APPLE iPhone 12 Mini (White, 64 GB)', 4.893375058612805), ('APPLE iPhone 12 (Black, 64 GB)', 4.868409937730927), ('REDMI Note 10S (Cosmic Purple, 64 GB)', 4.760687523977579)] \n",
      "\n",
      "Irfan Shaikh ->  [('SAMSUNG Galaxy F12 (Sea Green, 64 GB)', 4.9918883585783345), ('SAMSUNG Galaxy F12 (Sky Blue, 64 GB)', 4.86216298373493), ('APPLE iPhone 12 (Blue, 64 GB)', 4.838783067508471), ('realme C25Y (Metal Grey, 64 GB)', 4.833148635531529), ('realme C25Y (Glacier Blue, 64 GB)', 4.799539582748597)] \n",
      "\n",
      "Rohit  Kumar ->  [('APPLE iPhone 13 ((PRODUCT)RED, 256 GB)', 4.9881256642401866), ('APPLE iPhone 13 (Green, 128 GB)', 4.914378136493999), ('Infinix Hot 10 Play (Obsidian Black, 64 GB)', 4.912309369583483), ('Infinix Smart 5A (Ocean Wave, 32 GB)', 4.8403759059549465), ('Infinix Hot 10 Play (7° Purple, 64 GB)', 4.779685857347524)] \n",
      "\n",
      "Wasim Akram ->  [('APPLE iPhone 12 (Green, 64 GB)', 5.034234147622477), ('SAMSUNG Galaxy F12 (Celestial Black, 64 GB)', 4.806352696415275), ('SAMSUNG Galaxy F12 (Sky Blue, 128 GB)', 4.799030986459788), ('realme C25Y (Glacier Blue, 128 GB)', 4.771810377368268), ('realme 8 5G (Supersonic Black, 64 GB)', 4.744031851822392)] \n",
      "\n",
      "Shubham Sharma ->  [('APPLE iPhone 13 (Starlight, 128 GB)', 4.939774223670109), ('Infinix Hot 10 Play (Aegean Blue, 64 GB)', 4.898615228347941), ('APPLE iPhone 13 (Midnight, 128 GB)', 4.674794531554275), ('MOTOROLA G60 (Frosted Champagne, 128 GB)', 4.601334345546971), ('Infinix Smart 5 (Morandi Green, 32 GB)', 4.5695824370113165)] \n",
      "\n",
      "Aman Singh ->  [('APPLE iPhone 11 (White, 128 GB)', 4.977810054540555), ('APPLE iPhone 12 (Black, 128 GB)', 4.899648510941829), ('APPLE iPhone 12 (White, 64 GB)', 4.876652564338806), ('APPLE iPhone 11 (Green, 128 GB)', 4.846813865272874), ('REDMI Note 9 (Shadow Black, 64 GB)', 4.836584346337011)] \n",
      "\n",
      "Parveen Kumar ->  [('APPLE iPhone 12 (Green, 64 GB)', 4.924870244513056), ('APPLE iPhone SE (Red, 64 GB)', 4.850205881890911), ('realme C21Y (Cross Black, 64 GB)', 4.696854830555606), ('realme C21Y (Cross Blue, 64 GB)', 4.616387046642258), ('POCO C31 (Royal Blue, 32 GB)', 4.59040770748048)] \n",
      "\n",
      "Shivam Yadav ->  [('Infinix Smart 5 (7 Purple, 32 GB)', 4.548697765869568), ('realme 9i (Prism Black, 64 GB)', 4.519730099106764), ('REDMI Note 9 (Aqua Green, 64 GB)', 4.5180996195262555), ('Kechaoda K66 Plus', 4.474136558095064), ('realme C21 (Cross Blue, 64 GB)', 4.449009750549683)] \n",
      "\n",
      "Mandeep Singh ->  [('APPLE iPhone 11 (White, 128 GB)', 5.088588084363883), ('APPLE iPhone 12 (Purple, 64 GB)', 5.035071713066954), ('APPLE iPhone 11 (Purple, 128 GB)', 4.999940543520079), ('APPLE iPhone 12 (White, 256 GB)', 4.99579954163902), ('APPLE iPhone 11 (Black, 128 GB)', 4.977943267513384)] \n",
      "\n",
      "Pintu Kumar ->  [('OPPO A12 (Deep Blue, 32 GB)', 4.768241489370932), ('OPPO A12 (Blue, 32 GB)', 4.7566905096830805), ('Infinix Smart 5A (Quetzal Cyan, 32 GB)', 4.725945583372532), ('Infinix Hot 11S (Polar Black, 128 GB)', 4.661624632336567), ('Infinix Hot 11S (Silver Wave, 64 GB)', 4.625515942743309)] \n",
      "\n",
      "Niraj Kumar ->  [('APPLE iPhone 11 (White, 128 GB)', 5.033932763789157), ('SAMSUNG Galaxy F12 (Sea Green, 128 GB)', 4.786904577498074), ('LAVA GEM', 4.7742478753964175), ('realme 8s 5G (Universe Purple, 128 GB)', 4.707759429179112), ('realme Narzo 30 (Racing Blue, 64 GB)', 4.647144820440057)] \n",
      "\n",
      "Roshan Kumar ->  [('realme C21Y (Cross Black, 32 GB)', 4.8142949241324065), ('realme 8i (Space Black, 64 GB)', 4.788555225004877), ('realme C21Y (Cross Blue, 32 GB)', 4.759719914560847), ('Micromax X741', 4.74262068366657), ('realme C25s (Watery Blue, 128 GB)', 4.670990729516696)] \n",
      "\n",
      "Sanjay Kumar ->  [('APPLE iPhone 11 (Green, 128 GB)', 4.823484399384804), ('APPLE iPhone 12 (Red, 128 GB)', 4.798649615604969), ('realme 8i (Space Purple, 128 GB)', 4.79343784466266), ('APPLE iPhone 11 (Black, 128 GB)', 4.7927401582007745), ('APPLE iPhone 11 (Red, 64 GB)', 4.760980644865644)] \n",
      "\n",
      "VIJAY KUMAR ->  [('APPLE iPhone 12 (White, 256 GB)', 4.988625401677378), ('APPLE iPhone 12 (Blue, 64 GB)', 4.953050206220405), ('REDMI Note 9 (Aqua Green, 64 GB)', 4.929183036524694), ('realme 8 (Cyber Silver, 128 GB)', 4.82821349729538), ('realme GT Master Edition (Cosmos Black, 128 GB)', 4.674753207400043)] \n",
      "\n",
      "Ranjeet Singh ->  [('APPLE iPhone 12 Mini (White, 64 GB)', 4.858549771442769), ('APPLE iPhone 12 Mini (Blue, 64 GB)', 4.824810135647033), ('vivo Y21 (Midnight Blue, 64 GB)', 4.818676268307814), ('OPPO A31 (Fantasy White, 128 GB)', 4.809375144802853), ('vivo Y21 (Diamond Glow, 64 GB)', 4.67623103488579)] \n",
      "\n",
      "Subodh Kumar ->  [('APPLE iPhone 12 (Green, 64 GB)', 4.825225893755675), ('APPLE iPhone SE (White, 128 GB)', 4.8170485247003745), ('APPLE iPhone 12 (Purple, 64 GB)', 4.803191433094558), ('APPLE iPhone SE (White, 64 GB)', 4.780019738335614), ('APPLE iPhone SE (Black, 64 GB)', 4.7713516158994285)] \n",
      "\n",
      "Sandeep  Kumar ->  [('APPLE iPhone 12 (Green, 64 GB)', 4.72896504867379), ('APPLE iPhone 12 (Black, 64 GB)', 4.610907857752512), ('APPLE iPhone 12 (Red, 128 GB)', 4.554831066263775), ('Redmi 9 (Sky Blue, 128 GB)', 4.435808763544499), ('APPLE iPhone 12 (Black, 128 GB)', 4.376325164580097)] \n",
      "\n",
      "Rohit Kumar ->  [('APPLE iPhone 12 (Blue, 64 GB)', 4.790336322345649), ('APPLE iPhone 11 (Black, 64 GB)', 4.726887768109746), ('OPPO F17 Pro (Metallic White, 128 GB)', 4.651711786892768), ('realme C21 (Cross Black, 64 GB)', 4.644004156038481), ('Infinix Hot 11S (7° Purple, 128 GB)', 4.636856966882582)] \n",
      "\n",
      "Dharmendra Kumar ->  [('APPLE iPhone 12 Mini (Black, 64 GB)', 4.862304131535345), ('Infinix Hot 10 Play (Aegean Blue, 64 GB)', 4.764295759990597), ('realme 9i (Prism Blue, 64 GB)', 4.665373048400495), ('realme Narzo 20 (Victory Blue, 128 GB)', 4.592035676160077), ('realme C25Y (Metal Grey, 128 GB)', 4.57948010605443)] \n",
      "\n",
      "Imran Ali ->  [('vivo Y21 (Diamond Glow, 64 GB)', 5.006793193300055), ('APPLE iPhone 11 (Red, 64 GB)', 4.993483329907183), ('APPLE iPhone 11 (Green, 128 GB)', 4.971515938835222), ('APPLE iPhone 11 (Black, 128 GB)', 4.962126794118078), ('realme C35 (Glowing Black, 64 GB)', 4.894543465306144)] \n",
      "\n",
      "Saurabh Singh ->  [('APPLE iPhone 12 (Black, 64 GB)', 4.87996012825696), ('APPLE iPhone 11 (Purple, 64 GB)', 4.879671765937655), ('APPLE iPhone 12 Mini (Black, 64 GB)', 4.783394004870194), ('Infinix Hot 10 Play (Aegean Blue, 64 GB)', 4.628243600218929), ('Micromax IN Note 1 (Green, 64 GB)', 4.4842613842498595)] \n",
      "\n",
      "Manish  Kumar  ->  [('APPLE iPhone 12 (Black, 64 GB)', 5.0086633363716935), ('realme 9i (Prism Blue, 128 GB)', 5.0069593181939505), ('APPLE iPhone 11 (Red, 64 GB)', 4.923555184644242), ('vivo V21 5G (Neon Spark, 128 GB)', 4.869679259486546), ('Infinix Hot 11S (Polar Black, 64 GB)', 4.852712502443351)] \n",
      "\n",
      "Shailendra Kumar ->  [('APPLE iPhone 12 (Red, 128 GB)', 5.027799036994005), ('Kechaoda K33', 4.9789676568447705), ('APPLE iPhone 12 (White, 256 GB)', 4.976318108591301), ('Infinix Hot 11 (Emerald Green, 64 GB)', 4.945624636205629), ('REDMI Note 9 (Aqua Green, 64 GB)', 4.9212713166416355)] \n",
      "\n",
      "Akash Yadav ->  [('POCO M4 Pro (Power Black, 64 GB)', 5.056527438921044), ('Infinix Hot 11S (Polar Black, 64 GB)', 4.961159285946493), ('Infinix Hot 11S (Silver Wave, 64 GB)', 4.954700894399294), ('realme C21Y (Cross Black, 32 GB)', 4.9382552204438985), ('Infinix Hot 10 (Ocean Wave, 64 GB)', 4.879233183253654)] \n",
      "\n",
      "Saurav Kumar ->  [('LAVA A1', 4.808779526155535), ('realme Narzo 30 (Racing Silver, 64 GB)', 4.72487114794237), ('Nokia 105 SS 2021', 4.69332276899415), ('Infinix Hot 10 Play (7° Purple, 64 GB)', 4.684597004920369), ('OPPO Reno5 Pro 5G (Astral Blue, 128 GB)', 4.6194677820370895)] \n",
      "\n",
      "Shivam Sharma ->  [('SAMSUNG Galaxy F12 (Sky Blue, 64 GB)', 4.903110875075041), ('SAMSUNG Galaxy F12 (Sky Blue, 128 GB)', 4.881566580880557), ('realme C21 (Cross Blue, 32 GB)', 4.488038850967688), ('REDMI 9 Power (Fiery Red, 64 GB)', 4.462232817868398), ('Lenovo Ideapad 130 Core i3 7th Gen - (4 GB/1 TB HDD/DOS) 130-15IKB Laptop', 4.397002869724091)] \n",
      "\n",
      "Ashutosh Kumar ->  [('realme 8s 5G (Universe Blue, 128 GB)', 4.682493129785283), ('APPLE iPhone 11 (Purple, 128 GB)', 4.582215102532537), ('POCO X3 (Cobalt Blue, 64 GB)', 4.380316862245732), ('APPLE iPhone 11 (Black, 128 GB)', 4.373784555850482), ('Infinix Smart 5A (Midnight Black, 32 GB)', 4.3727896133044455)] \n",
      "\n",
      "Pawan Kumar ->  [('Infinix Hot 10S (95° Black, 64 GB)', 4.665728764651797), ('APPLE iPhone 11 (White, 128 GB)', 4.6423515417732775), ('realme C21Y (Cross Black, 32 GB)', 4.603794271135759), ('APPLE iPhone SE (Black, 128 GB)', 4.592989503707027), ('APPLE iPhone 11 (Black, 64 GB)', 4.55055600530605)] \n",
      "\n",
      "Irfan Khan ->  [('realme C35 (Glowing Black, 64 GB)', 4.835687579620647), ('realme 8i (Space Black, 64 GB)', 4.710595142459037), ('Infinix Hot 10 Play (7° Purple, 64 GB)', 4.649507515462572), ('Redmi 9 (Sky Blue, 128 GB)', 4.546523135503913), ('REDMI 9 Power (Fiery Red, 128 GB)', 4.480890520173341)] \n",
      "\n",
      "Prem Kumar ->  [('Infinix Hot 10 Play (Aegean Blue, 64 GB)', 4.737142346065571), ('realme 8 (Cyber Black, 128 GB)', 4.681919012820536), ('realme 8 (Cyber Silver, 128 GB)', 4.665389462005775), ('POCO C3 (Arctic Blue, 32 GB)', 4.6185856319283385), ('Infinix Hot 10 Play (Morandi Green, 64 GB)', 4.569542211125637)] \n",
      "\n",
      "Prakash Kumar ->  [('APPLE iPhone 12 (Purple, 64 GB)', 4.867722944100729), ('APPLE iPhone 12 Mini (Black, 64 GB)', 4.634747586387163), ('APPLE iPhone SE (White, 128 GB)', 4.616897551548681), ('APPLE iPhone SE (Red, 128 GB)', 4.547240348667361), ('APPLE iPhone SE (Red, 64 GB)', 4.392858497531162)] \n",
      "\n",
      "MUKESH KUMAR ->  [('Infinix Hot 11S (Green Wave, 128 GB)', 5.022730667846079), ('Infinix Hot 11S (7° Purple, 64 GB)', 4.934865193952681), ('Infinix Hot 10 Play (Aegean Blue, 64 GB)', 4.919290299844442), ('Infinix Hot 11S (Green Wave, 64 GB)', 4.896831234285249), ('realme Narzo 30 (Racing Silver, 64 GB)', 4.820444958971801)] \n",
      "\n",
      "Abhishek  Kumar ->  [('APPLE iPhone 12 Mini (White, 64 GB)', 4.862501341024904), ('SAMSUNG Galaxy F12 (Sea Green, 64 GB)', 4.71638341330154), ('SAMSUNG Galaxy F12 (Celestial Black, 64 GB)', 4.710935889855528), ('APPLE iPhone SE (Red, 128 GB)', 4.65685871727252), ('realme 8 (Cyber Black, 128 GB)', 4.642724497737641)] \n",
      "\n",
      "Biswajit Das ->  [('APPLE iPhone 13 (Green, 128 GB)', 4.818060779828576), ('realme 9i (Prism Blue, 64 GB)', 4.6832174037114465), ('OPPO A53s 5G (Crystal Blue, 128 GB)', 4.656182726691723), ('realme 8i (Space Purple, 64 GB)', 4.645604565948545), ('realme 9 Pro 5G (Sunrise Blue, 128 GB)', 4.588603669969284)] \n",
      "\n",
      "Akhilesh Kumar ->  [('Infinix Note 11 (Glacier Green, 64 GB)', 4.76019074273358), ('Redmi 9 (Carbon Black, 64 GB)', 4.742605427364557), ('SAMSUNG Galaxy F12 (Celestial Black, 64 GB)', 4.724968334186234), ('realme Narzo 50A (Oxygen Green, 64 GB)', 4.626958075774927), ('realme C21 (Cross Black, 32 GB)', 4.619221973378951)] \n",
      "\n",
      "Suraj  Kumar ->  [('APPLE iPhone 12 Mini (White, 64 GB)', 5.082286007099376), ('APPLE iPhone 11 (White, 128 GB)', 5.042659047229993), ('APPLE iPhone 11 (Black, 64 GB)', 4.943023781230734), ('SAMSUNG Galaxy F12 (Sky Blue, 128 GB)', 4.80429241378716), ('SAMSUNG Galaxy F12 (Sky Blue, 64 GB)', 4.773920765365748)] \n",
      "\n",
      "Deepak Kumar ->  [('APPLE iPhone 12 (White, 64 GB)', 4.606850277874762), ('APPLE iPhone 12 (Black, 64 GB)', 4.489723301656249), ('APPLE iPhone SE (Red, 64 GB)', 4.485382392327053), ('Infinix Smart 5 (Aegean Blue, 32 GB)', 4.421715913010016), ('REDMI Note 9 (Aqua Green, 64 GB)', 4.4109571817864826)] \n",
      "\n",
      "Rupesh Kumar ->  [('APPLE iPhone 11 (Yellow, 64 GB)', 4.990372214884989), ('APPLE iPhone 11 (Red, 64 GB)', 4.951380862999857), ('APPLE iPhone 12 Mini (Black, 64 GB)', 4.943517444553493), ('APPLE iPhone SE (Red, 128 GB)', 4.919154050730268), ('Infinix Hot 11 (Silver Wave, 64 GB)', 4.914040424096902)] \n",
      "\n",
      "Sandeep  Kumar  ->  [('Infinix Hot 10 Play (Aegean Blue, 64 GB)', 4.799051988988682), ('SAMSUNG Metro 313 Dual Sim', 4.592577882161332), ('Infinix Hot 10 Play (7° Purple, 64 GB)', 4.591002786519365), ('APPLE iPhone 12 Mini (Black, 64 GB)', 4.578427239246411), ('POCO M2 Pro (Green and Greener, 64 GB)', 4.507911508468387)] \n",
      "\n",
      "Danish Khan ->  [('APPLE iPhone 11 (Yellow, 128 GB)', 4.98671899057118), ('APPLE iPhone 12 (Green, 64 GB)', 4.957931130254254), ('APPLE iPhone SE (White, 64 GB)', 4.920509642875947), ('APPLE iPhone SE (White, 128 GB)', 4.9176262216863735), ('APPLE iPhone 12 (Black, 64 GB)', 4.8913691049765164)] \n",
      "\n",
      "Raja Kumar ->  [('realme C21 (Cross Black, 64 GB)', 4.729473130874471), ('POCO M3 (Cool Blue, 64 GB)', 4.572280981036305), ('POCO M3 (Cool Blue, 64 GB)', 4.572280981036305), ('REDMI 9 Power (Blazing Blue, 64 GB)', 4.562374638350539), ('realme 8 5G (Supersonic Blue, 128 GB)', 4.529517886494267)] \n",
      "\n",
      "Shiv Kumar ->  [('OPPO A12 (Black, 32 GB)', 4.922434213099134), ('APPLE iPhone SE (White, 64 GB)', 4.900356752534674), ('vivo V21 5G (Sunset Dazzle, 128 GB)', 4.785520118163027), ('Infinix Hot 11S (Polar Black, 64 GB)', 4.782823384486804), ('Infinix Hot 11S (Green Wave, 128 GB)', 4.7750937406495355)] \n",
      "\n",
      "Ajay Kumar ->  [('Infinix Hot 11S (Polar Black, 128 GB)', 4.7681319024804), ('Infinix Hot 11S (Polar Black, 64 GB)', 4.74618954749428), ('Kechaoda K33', 4.745059916644539), ('Infinix Hot 11S (7° Purple, 64 GB)', 4.6966994269171405), ('realme 9i (Prism Black, 64 GB)', 4.640217799267951)] \n",
      "\n",
      "Manish ->  [('realme Narzo 30 (Racing Silver, 64 GB)', 4.738917211850878), ('APPLE iPhone SE (White, 128 GB)', 4.727072512226476), ('APPLE 2020 Macbook Air M1 - (8 GB/256 GB SSD/Mac OS Big Sur) MGND3HN/A', 4.227162923189547), ('realme GT Master Edition (Luna White, 256 GB)', 4.21046546631553), ('realme C11 2021 (Cool Grey, 32 GB)', 4.205956042243061)] \n",
      "\n",
      "Sandeep Yadav ->  [('Infinix Hot 10 (Amber Red, 64 GB)', 4.946715609617845), ('SAMSUNG Galaxy F12 (Sky Blue, 128 GB)', 4.767844332361154), ('realme Narzo 50A (Oxygen Blue, 64 GB)', 4.761937665746284), ('APPLE iPhone SE (Black, 64 GB)', 4.6572871666140525), ('OPPO A12 (Deep Blue, 32 GB)', 4.63663430939049)] \n",
      "\n",
      "Ravi Kant ->  [('APPLE iPhone 12 (Green, 64 GB)', 4.931091944954085), ('Xiaomi 11i 5G (Purple Mist, 128 GB)', 4.691549819171746), ('OPPO A53s 5G (Ink Black, 128 GB)', 4.548504307772187), ('MOTOROLA E7 Power (Coral Red, 64 GB)', 4.328012824635792), ('Xiaomi 11i 5G (Stealth Black, 128 GB)', 4.229490146834067)] \n",
      "\n",
      "AJAY KUMAR ->  [('APPLE iPhone SE (Black, 64 GB)', 5.016186249541413), ('APPLE iPhone SE (Black, 128 GB)', 5.002619046277765), ('APPLE iPhone SE (White, 64 GB)', 4.976335856739684), ('Infinix Hot 10S (95° Black, 64 GB)', 4.958536891415534), ('realme C21Y (Cross Blue, 64 GB)', 4.680079495106164)] \n",
      "\n",
      "Ankit Singh ->  [('APPLE iPhone 12 (Green, 64 GB)', 4.98174294428), ('APPLE iPhone SE (Black, 128 GB)', 4.783471988881043), ('APPLE iPhone 12 Mini (Black, 64 GB)', 4.771552060184182), ('APPLE iPhone 13 (Midnight, 128 GB)', 4.682243410725272), ('Infinix Smart 5A (Ocean Wave, 32 GB)', 4.674570589919529)] \n",
      "\n",
      "Pramod Kumar ->  [('APPLE iPhone 11 (Purple, 64 GB)', 5.020091589129275), ('APPLE iPhone 11 (Black, 64 GB)', 4.9970815421867565), ('APPLE iPhone 12 (Blue, 64 GB)', 4.968917534378983), ('APPLE iPhone 11 (Yellow, 128 GB)', 4.946436172706322), ('Infinix Hot 11S (Polar Black, 128 GB)', 4.945718137447804)] \n",
      "\n",
      "Shubham Kumar ->  [('APPLE iPhone 12 Mini (White, 64 GB)', 4.8261705745252454), ('REDMI 9 Power (Blazing Blue, 64 GB)', 4.682456914788427), ('realme Narzo 30 (Racing Blue, 64 GB)', 4.67337847639629), ('REDMI 9 Power (Fiery Red, 64 GB)', 4.66392411095353), ('APPLE iPhone 12 (Red, 128 GB)', 4.553608381041002)] \n",
      "\n",
      "pawan kumar ->  [('APPLE iPhone 12 (Blue, 64 GB)', 4.98906596969076), ('APPLE iPhone 12 (White, 256 GB)', 4.922811292202042), ('Infinix Smart 5 (7 Purple, 32 GB)', 4.719025727649026), ('realme Narzo 30 (Racing Blue, 64 GB)', 4.62044969495585), ('POCO M2 Pro (Out of the Blue, 64 GB)', 4.496015790733967)] \n",
      "\n",
      "Brajesh Kumar ->  [('APPLE iPhone 12 (Red, 128 GB)', 5.1395239038298275), ('APPLE iPhone 12 (Purple, 64 GB)', 5.089954937766552), ('APPLE iPhone 12 (Black, 64 GB)', 5.07581820988111), ('APPLE iPhone 12 (Green, 64 GB)', 5.067020748187452), ('REDMI Note 10S (Deep Sea Blue, 128 GB)', 4.853804174794605)] \n",
      "\n",
      "Dharmendra Singh ->  [('realme 8i (Space Purple, 64 GB)', 4.5126983979934305), ('OPPO Reno5 Pro 5G (Astral Blue, 128 GB)', 4.3630319917780005), ('APPLE iPhone 11 (White, 128 GB)', 4.197423889039163), ('APPLE iPhone 11 (Black, 64 GB)', 4.107088271438581), ('MOTOROLA G60 (Frosted Champagne, 128 GB)', 3.9931175527762566)] \n",
      "\n",
      "Suresh ->  [('APPLE iPhone 11 (White, 128 GB)', 4.971859592912173), ('APPLE iPhone 11 (Red, 64 GB)', 4.904756601025031), ('APPLE iPhone 11 (Yellow, 64 GB)', 4.880344610273476), ('APPLE iPhone 11 (Black, 128 GB)', 4.871644888781455), ('APPLE iPhone SE (Black, 64 GB)', 4.78216575758047)] \n",
      "\n",
      "Satish  Kumar ->  [('REDMI 9 Power (Fiery Red, 64 GB)', 4.425041851397517), ('realme C21 (Cross Black, 64 GB)', 4.416077854205829), ('SAMSUNG Metro 313 Dual Sim', 4.174516914824483), ('Infinix Hot 10 (Amber Red, 64 GB)', 4.167504386371199), ('vivo T1 5G (Rainbow Fantasy, 128 GB)', 3.960430785248949)] \n",
      "\n",
      "Umesh Kumar ->  [('SAMSUNG Galaxy F12 (Sea Green, 128 GB)', 4.843993213879562), ('Infinix Note 11 (Celestial Snow, 64 GB)', 4.809288960029226), ('SAMSUNG Guru Music 2', 4.721382235057454), ('realme 8i (Space Black, 64 GB)', 4.697188134205699), ('realme GT Master Edition (Cosmos Black, 128 GB)', 4.664018875110681)] \n",
      "\n",
      "Ankit Gupta ->  [('APPLE iPhone SE (Black, 128 GB)', 4.894016273797387), ('APPLE iPhone 11 (Black, 64 GB)', 4.893646125222509), ('Infinix Hot 11S (Green Wave, 64 GB)', 4.8718305154119435), ('APPLE iPhone 11 (Yellow, 128 GB)', 4.855493408767547), ('APPLE iPhone SE (Red, 64 GB)', 4.831671262375527)] \n",
      "\n",
      "Anup Kumar ->  [('APPLE iPhone 12 (Green, 64 GB)', 4.983324091603341), ('APPLE iPhone 11 (Yellow, 128 GB)', 4.935446273495646), ('SAMSUNG Galaxy F12 (Celestial Black, 64 GB)', 4.870368433244335), ('OPPO A12 (Blue, 32 GB)', 4.869821243414464), ('SAMSUNG Galaxy F12 (Celestial Black, 128 GB)', 4.840754363043187)] \n",
      "\n",
      "ROHIT KUMAR ->  [('vivo V23 5G (Sunshine Gold, 128 GB)', 5.0743521634804285), ('APPLE iPhone 12 Mini (White, 64 GB)', 4.973182110146349), ('Infinix Hot 11 (Silver Wave, 64 GB)', 4.950170793739606), ('realme 8 5G (Supersonic Black, 128 GB)', 4.9485958225408), ('SAMSUNG Galaxy F12 (Sea Green, 128 GB)', 4.935801375459894)] \n",
      "\n",
      "Vikram Kumar ->  [('realme GT Master Edition (Voyager Grey, 256 GB)', 4.769199664302054), ('realme 8s 5G (Universe Blue, 128 GB)', 4.63620526920513), ('realme C21 (Cross Black, 32 GB)', 4.608420969376709), ('realme C35 (Glowing Black, 64 GB)', 4.543026199587237), ('realme 8i (Space Purple, 64 GB)', 4.503857508592074)] \n",
      "\n",
      "Sahil ->  [('Infinix Smart 5A (Quetzal Cyan, 32 GB)', 5.044826593815466), ('APPLE iPhone 11 (Black, 64 GB)', 4.996758473609421), ('APPLE iPhone 11 (Green, 128 GB)', 4.970287757697923), ('Infinix Hot 11S (Polar Black, 64 GB)', 4.931912431791236), ('Infinix Hot 11S (Silver Wave, 128 GB)', 4.881715087594286)] \n",
      "\n",
      "Ankush Kumar ->  [('APPLE iPhone 11 (Green, 128 GB)', 4.761027757356333), ('OPPO A53s 5G (Crystal Blue, 128 GB)', 4.673937220460559), ('SAMSUNG Galaxy F22 (Denim Black, 128 GB)', 4.2847285895080285), ('ASUS Ryzen 3 Dual Core 3250U 3rd Gen - (8 GB/256 GB SSD/Windows 10 Home) M515DA-BQ322TS Thin and Light Laptop', 4.15110357471242), ('ASUS Celeron Dual Core - (4 GB/1 TB HDD/Windows 10 Home) X543MA-GQ1015T Laptop', 3.7210020385056075)] \n",
      "\n",
      "Vijay  Kumar ->  [('realme 8i (Space Purple, 128 GB)', 4.8581997804183175), ('Infinix Hot 11S (Silver Wave, 64 GB)', 4.848790631221392), ('Infinix Hot 11S (Silver Wave, 128 GB)', 4.83788743828472), ('REDMI Note 10S (Shadow Black, 128 GB)', 4.742617254457619), ('Infinix Smart 5 (Aegean Blue, 32 GB)', 4.616225714693117)] \n",
      "\n",
      "Manish Gupta ->  [('APPLE iPhone SE (Black, 64 GB)', 5.044515000064941), ('realme 8i (Space Purple, 64 GB)', 4.990257150257386), ('APPLE iPhone SE (Red, 128 GB)', 4.942920051770457), ('REDMI 9 Power (Fiery Red, 64 GB)', 4.886581791150593), ('APPLE iPhone 11 (White, 64 GB)', 4.752132629959925)] \n",
      "\n",
      "Aditya Sharma ->  [('APPLE iPhone 11 (White, 128 GB)', 4.989229567746898), ('APPLE iPhone 12 (White, 64 GB)', 4.932888872586372), ('APPLE iPhone 12 (Black, 64 GB)', 4.887324107859408), ('MOTOROLA E7 Power (Tahiti Blue, 64 GB)', 4.752728029435093), ('Infinix Hot 10 (Amber Red, 64 GB)', 4.691919987786139)] \n",
      "\n",
      "Dileep Kumar ->  [('SAMSUNG Galaxy F12 (Sea Green, 64 GB)', 4.966833558896021), ('OPPO A33 (Mint Cream, 32 GB)', 4.756969400988529), ('Infinix Smart 5 (Aegean Blue, 32 GB)', 4.735606702512834), ('Infinix Smart 5 (Morandi Green, 32 GB)', 4.682054844039719), ('realme C11 2021 (Cool Blue, 64 GB)', 4.523256361738197)] \n",
      "\n",
      "Harish Kumar ->  [('Infinix Hot 11S (Green Wave, 128 GB)', 4.89652763655506), ('Infinix Hot 10 Play (Obsidian Black, 64 GB)', 4.76226834823375), ('realme 8 5G (Supersonic Black, 128 GB)', 4.59326760872412), ('LAVA A1 Josh', 4.57321572770859), ('OPPO Reno6 5G (Aurora, 128 GB)', 4.555973842444533)] \n",
      "\n",
      "Pardeep Kumar ->  [('MOTOROLA E7 Power (Tahiti Blue, 64 GB)', 4.801127207421257), ('APPLE iPhone SE (Red, 128 GB)', 4.775505451322132), ('APPLE iPhone 12 (Red, 128 GB)', 4.665388495737823), ('APPLE iPhone SE (Red, 64 GB)', 4.649028618134669), ('APPLE iPhone SE (Black, 128 GB)', 4.642214113271309)] \n",
      "\n",
      "Sujit Kumar ->  [('OPPO A33 (Mint Cream, 32 GB)', 5.078369934449179), ('APPLE iPhone SE (Red, 64 GB)', 5.035003052940176), ('APPLE iPhone SE (Black, 64 GB)', 5.011435162168715), ('REDMI Note 10S (Deep Sea Blue, 128 GB)', 4.97553318535963), ('SAMSUNG Galaxy F12 (Sky Blue, 64 GB)', 4.92887227039907)] \n",
      "\n",
      "Ankit Sharma ->  [('realme Narzo 30 5G (Racing Blue, 128 GB)', 4.733563205814858), ('REDMI Note 10S (Frost White, 64 GB)', 4.700216792805985), ('REDMI Note 10S (Frost White, 128 GB)', 4.554550507349859), ('realme GT Master Edition (Cosmos Black, 128 GB)', 4.458543476468035), ('realme GT Master Edition (Luna White, 256 GB)', 4.449867994416463)] \n",
      "\n",
      "Manish Sharma ->  [('APPLE iPhone 11 (Yellow, 64 GB)', 4.984453019960901), ('APPLE iPhone 11 (Yellow, 128 GB)', 4.9420092646788545), ('Infinix Hot 10 (Ocean Wave, 64 GB)', 4.774067447353602), ('REDMI 9i (Midnight Black, 64 GB)', 4.755842689956018), ('realme C21Y (Cross Blue, 32 GB)', 4.738186115837695)] \n",
      "\n",
      "Rahul Singh ->  [('APPLE iPhone SE (Black, 128 GB)', 4.807026754074241), ('Infinix Hot 10S (95° Black, 64 GB)', 4.690357762069905), ('APPLE iPhone 12 (Red, 128 GB)', 4.628287074992451), ('REDMI Note 9 (Aqua Green, 64 GB)', 4.6239508544049785), ('Xiaomi 11i 5G (Camo Green, 128 GB)', 4.591421774684562)] \n",
      "\n",
      "Nitesh Kumar ->  [('realme 9 Pro 5G (Sunrise Blue, 128 GB)', 4.7172047113529585), ('Infinix Smart 5A (Ocean Wave, 32 GB)', 4.651548516894698), ('realme Narzo 30 5G (Racing Silver, 128 GB)', 4.634649562432868), ('realme Narzo 30 (Racing Blue, 64 GB)', 4.599765373648903), ('realme C11 2021 (Cool Grey, 64 GB)', 4.575177389222931)] \n",
      "\n",
      "Pradeep Verma ->  [('realme Narzo 50i (Mint Green, 32 GB)', 5.13863159118845), ('vivo X60 (Shimmer Blue, 128 GB)', 5.114267479734409), ('APPLE iPhone 11 (Black, 64 GB)', 5.083838248348859), ('realme C21 (Cross Black, 64 GB)', 5.038953912361829), ('APPLE iPhone 11 (Red, 64 GB)', 5.03664062259585)] \n",
      "\n",
      "Ravi Singh ->  [('APPLE iPhone 11 (Purple, 64 GB)', 4.9928868907971), ('APPLE iPhone 11 (White, 128 GB)', 4.8938011620361515), ('APPLE iPhone 11 (Black, 64 GB)', 4.84374419715456), ('APPLE iPhone 11 (Black, 128 GB)', 4.833061563201567), ('POCO M2 Pro (Two Shades of Black, 64 GB)', 4.264030192576403)] \n",
      "\n",
      "Deepak kumar ->  [('REDMI 9 Power (Mighty Black, 64 GB)', 4.752964779550172), ('realme 9 5G (Meteor Black, 64 GB)', 4.531636340000248), ('realme GT Master Edition (Luna White, 128 GB)', 4.5129937332042775), ('realme 8i (Space Purple, 64 GB)', 4.5079031405440295), ('Infinix Hot 10 (Ocean Wave, 64 GB)', 4.490415471281927)] \n",
      "\n",
      "Amit Sharma ->  [('APPLE iPhone 11 (White, 128 GB)', 4.636793084352315), ('SAMSUNG Galaxy F12 (Celestial Black, 64 GB)', 4.609836606890261), ('realme 8 5G (Supersonic Black, 64 GB)', 4.605967928385423), ('realme Narzo 30 (Racing Blue, 64 GB)', 4.581022785642224), ('APPLE iPhone 11 (Yellow, 128 GB)', 4.528941236876102)] \n",
      "\n",
      "Abhishek  Kumar  ->  [('APPLE iPhone SE (Black, 64 GB)', 4.762997567893329), ('APPLE iPhone SE (White, 128 GB)', 4.743897153642818), ('SAMSUNG Galaxy F12 (Celestial Black, 128 GB)', 4.7267964173972885), ('realme Narzo 50i (Carbon Black, 32 GB)', 4.720721056813506), ('realme C21 (Cross Blue, 32 GB)', 4.669497912606994)] \n",
      "\n",
      "Chandan Kumar ->  [('APPLE iPhone 11 (Black, 64 GB)', 4.807824088972106), ('APPLE iPhone 11 (Purple, 64 GB)', 4.798144362200597), ('Infinix Hot 10 (Amber Red, 64 GB)', 4.759787292247154), ('APPLE iPhone 11 (Red, 64 GB)', 4.7300414297980655), ('Infinix Hot 11S (Green Wave, 64 GB)', 4.712603664764338)] \n",
      "\n",
      "Praveen ->  [('realme 8 (Cyber Silver, 128 GB)', 4.574527241768603), ('Infinix Hot 10 Play (Obsidian Black, 64 GB)', 4.480641096174377), ('APPLE iPhone 12 Mini (White, 64 GB)', 4.180338383027469), ('realme 8 (Cyber Black, 128 GB)', 4.169256748921576), ('POCO M2 Pro (Green and Greener, 64 GB)', 4.105355056765259)] \n",
      "\n",
      "Himanshu Singh ->  [('Infinix Note 11s Free Fire Edition (Haze Green, 128 GB)', 4.907497879499218), ('realme C11 2021 (Cool Grey, 64 GB)', 4.798935988207485), ('POCO C3 (Arctic Blue, 32 GB)', 4.756821100117344), ('Lenovo Ideapad 130 Core i3 7th Gen - (4 GB/1 TB HDD/DOS) 130-15IKB Laptop', 4.701960187107739), ('realme 8 (Cyber Black, 128 GB)', 4.628605580635801)] \n",
      "\n",
      "Ram Kumar ->  [('APPLE iPhone SE (White, 64 GB)', 4.8486875658587865), ('APPLE iPhone SE (White, 128 GB)', 4.794522061876426), ('Infinix Smart 5 (Morandi Green, 32 GB)', 4.746881611444146), ('OPPO A53s 5G (Crystal Blue, 128 GB)', 4.650227936497633), ('APPLE iPhone 12 Mini (Black, 64 GB)', 4.6114493645029695)] \n",
      "\n",
      "Anand Kumar ->  [('APPLE iPhone 11 (White, 128 GB)', 4.917126862900673), ('APPLE iPhone SE (Red, 128 GB)', 4.815070660327622), ('APPLE iPhone 12 Mini (Blue, 64 GB)', 4.779371407112636), ('APPLE iPhone 11 (Purple, 64 GB)', 4.729941274653627), ('LAVA A1', 4.581453169261174)] \n",
      "\n",
      "Prabhat Kumar ->  [('realme 8i (Space Purple, 64 GB)', 4.702926367492032), ('POCO M3 (Cool Blue, 64 GB)', 4.660935409872111), ('POCO M3 Pro 5G (Power Black, 64 GB)', 4.58010675056192), ('realme Narzo 50A (Oxygen Green, 64 GB)', 4.503485585960783), ('realme 8 (Cyber Black, 128 GB)', 4.37761342783205)] \n",
      "\n",
      "vinay kumar ->  [('APPLE iPhone 11 (Purple, 64 GB)', 5.013900131516976), ('REDMI 9 Power (Blazing Blue, 64 GB)', 4.911539650097175), ('SAMSUNG Galaxy F12 (Sky Blue, 64 GB)', 4.896975885997759), ('POCO M3 (Power Black, 64 GB)', 4.780775320018575), ('APPLE iPhone 11 (White, 64 GB)', 4.775355539301809)] \n",
      "\n",
      "Anurag Kumar ->  [('APPLE iPhone 12 (Black, 64 GB)', 5.047195726179997), ('realme 8i (Space Black, 64 GB)', 4.898231848699628), ('realme 8i (Space Purple, 64 GB)', 4.890403543584254), ('Infinix Hot 10 Play (Obsidian Black, 64 GB)', 4.882982867341369), ('SAMSUNG Galaxy F22 (Denim Blue, 64 GB)', 4.863888545961215)] \n",
      "\n",
      "Sagar Kumar ->  [('Infinix Hot 11S (Silver Wave, 128 GB)', 4.992906572833862), ('realme 8 5G (Supersonic Blue, 128 GB)', 4.827372751205253), ('realme Narzo 30 5G (Racing Blue, 128 GB)', 4.823611799158298), ('Infinix Hot 10 Play (Aegean Blue, 64 GB)', 4.801421576017798), ('realme 8 (Cyber Black, 128 GB)', 4.732640289434986)] \n",
      "\n",
      "Rahul Das ->  [('APPLE iPhone 12 (Purple, 64 GB)', 5.047114295962365), ('APPLE iPhone 12 (Blue, 64 GB)', 5.034148982784824), ('APPLE iPhone 12 (Black, 64 GB)', 5.0154323203220565), ('realme Narzo 50A (Oxygen Green, 64 GB)', 4.933493304381601), ('Infinix Smart 5A (Ocean Wave, 32 GB)', 4.709686492186828)] \n",
      "\n",
      "Arvind  Kumar ->  [('MOTOROLA G60 (Moonless, 128 GB)', 4.5049651279957725), ('LAVA A3', 4.399876159094249), ('REDMI 9 Power (Mighty Black, 64 GB)', 4.349469878026791), ('Infinix Hot 10 Play (Aegean Blue, 64 GB)', 4.304132083929649), ('Infinix Hot 10 Play (Morandi Green, 64 GB)', 4.243118854498963)] \n",
      "\n",
      "Monu Kumar ->  [('APPLE iPhone 12 Mini (Black, 64 GB)', 5.15914448160244), ('APPLE iPhone 12 Mini (Blue, 64 GB)', 5.1399654050430055), ('OPPO A31 (Lake Green, 64 GB)', 5.136422275619155), ('APPLE iPhone 12 Mini (White, 64 GB)', 5.009652192859259), ('Infinix Smart HD 2021 (Quartz Green, 32 GB)', 4.873946237232391)] \n",
      "\n",
      "Rajnish Kumar ->  [('APPLE iPhone 13 (Starlight, 128 GB)', 5.044630288696268), ('APPLE iPhone 13 (Blue, 128 GB)', 4.872627221046062), ('APPLE iPhone 13 ((PRODUCT)RED, 128 GB)', 4.67935016252599), ('REDMI 9i (Midnight Black, 64 GB)', 4.615875352089423), ('realme C21 (Cross Black, 64 GB)', 4.583345987666736)] \n",
      "\n",
      "Rakesh ->  [('APPLE iPhone 12 Mini (Blue, 64 GB)', 4.783057280004515), ('APPLE iPhone 11 (Purple, 128 GB)', 4.711278421460061), ('APPLE iPhone 11 (Green, 128 GB)', 4.6969181684211305), ('vivo T1 5G (Rainbow Fantasy, 128 GB)', 4.619978593608808), ('REDMI Note 10 Pro (Glacial Blue, 128 GB)', 4.449726952718054)] \n",
      "\n",
      "ABHISHEK KUMAR ->  [('REDMI 9 Prime (Matte Black, 64 GB)', 4.690558618317324), ('HP 14q Core i3 7th Gen - (4 GB/1 TB HDD/Windows 10 Home) 14q-CS0005TU Thin and Light Laptop', 4.66577871130475), ('realme Narzo 30 (Racing Silver, 64 GB)', 4.631603195360345), ('REDMI 9i (Midnight Black, 64 GB)', 4.47028094494219), ('REDMI 9i Sport (Metallic Blue, 64 GB)', 4.354782528788739)] \n",
      "\n",
      "Bittu Kumar ->  [('OPPO A33 (Mint Cream, 32 GB)', 5.200266725957268), ('Infinix Smart 5A (Quetzal Cyan, 32 GB)', 5.15629264183169), ('realme C35 (Glowing Black, 64 GB)', 5.100255194807988), ('Infinix Smart 5A (Ocean Wave, 32 GB)', 5.097714586333211), ('realme GT Master Edition (Luna White, 128 GB)', 5.022269727955754)] \n",
      "\n",
      "Sanjay  Singh ->  [('OPPO Reno6 5G (Stellar Black, 128 GB)', 4.618813239290159), ('REDMI 9 Power (Mighty Black, 64 GB)', 4.497921340663424), ('Infinix Smart 5 (Morandi Green, 32 GB)', 4.485710737266396), ('REDMI 9 Power (Fiery Red, 64 GB)', 4.4818189555527015), ('realme 8 (Cyber Silver, 128 GB)', 4.370553486667501)] \n",
      "\n",
      "Suraj Singh ->  [('APPLE iPhone 11 (Black, 64 GB)', 4.945192199841243), ('APPLE iPhone 11 (Green, 128 GB)', 4.9360807804267495), ('SAMSUNG Galaxy F12 (Sea Green, 64 GB)', 4.914634402889971), ('APPLE iPhone 11 (Black, 128 GB)', 4.878793562625985), ('APPLE iPhone 12 (Black, 64 GB)', 4.877552200513428)] \n",
      "\n",
      "Abhi Kumar ->  [('OPPO A15s (Dynamic Black, 128 GB)', 4.757381654559025), ('APPLE iPhone SE (White, 64 GB)', 4.643046248033633), ('APPLE iPhone SE (Black, 128 GB)', 4.5938120296225415), ('APPLE iPhone SE (Black, 64 GB)', 4.5589699371665775), ('realme X7 5G (Space Silver, 128 GB)', 4.499180081478772)] \n",
      "\n",
      "Senthil Kumar ->  [('APPLE iPhone SE (White, 128 GB)', 4.730731279858878), ('APPLE iPhone 12 Mini (Blue, 64 GB)', 4.604341787939327), ('ASUS VivoBook E12 Celeron Dual Core - (2 GB/32 GB EMMC Storage/Windows 10 Home) E203MA-FD014T Thin and Light Laptop', 4.567516236650444), ('POCO M2 Pro (Green and Greener, 64 GB)', 4.475668677621501), ('POCO C3 (Matte Black, 32 GB)', 4.4199360201107645)] \n",
      "\n",
      "Hardeep Singh ->  [('realme Narzo 50i (Mint Green, 32 GB)', 5.112265440391795), ('realme C25Y (Metal Grey, 128 GB)', 5.060770192047151), ('APPLE iPhone 12 (Black, 64 GB)', 5.027896658091753), ('APPLE iPhone 12 (White, 256 GB)', 5.017677939057325), ('APPLE iPhone 12 (Green, 64 GB)', 5.011628920193415)] \n",
      "\n",
      "Amit Verma ->  [('SAMSUNG Galaxy F12 (Sea Green, 128 GB)', 4.861836343799323), ('APPLE iPhone 11 (Green, 128 GB)', 4.8268320172417445), ('APPLE iPhone 11 (White, 64 GB)', 4.755250439367302), ('realme 8s 5G (Universe Blue, 128 GB)', 4.7033830662253076), ('SAMSUNG Galaxy F12 (Sky Blue, 64 GB)', 4.6881619369699035)] \n",
      "\n",
      "Ranjith Kumar ->  [('APPLE iPhone SE (White, 128 GB)', 5.04562231088288), ('APPLE iPhone 12 (Blue, 64 GB)', 5.0064074265875655), ('APPLE iPhone SE (Red, 64 GB)', 4.980320023857296), ('APPLE iPhone SE (Red, 128 GB)', 4.969506644612035), ('APPLE iPhone SE (Black, 128 GB)', 4.969301022680377)] \n",
      "\n",
      "Ritesh Kumar ->  [('APPLE iPhone 11 (White, 128 GB)', 5.047284341327636), ('ASUS ROG Strix G15 (2021) Ryzen 7 Octa Core 4800H - (8 GB/512 GB SSD/Windows 10 Home/4 GB Graphics/NVIDIA GeForce GTX 1650/144 Hz) G513IH-HN086T Gaming Laptop', 5.005903838699279), ('APPLE iPhone 12 (Blue, 64 GB)', 4.951999755960579), ('REDMI Note 10S (Cosmic Purple, 64 GB)', 4.939303381552909), ('APPLE iPhone 11 (Green, 128 GB)', 4.877672599015165)] \n",
      "\n",
      "Rajesh Singh ->  [('realme 8 5G (Supersonic Black, 64 GB)', 4.973749241888292), ('realme C25Y (Glacier Blue, 64 GB)', 4.677773686889749), ('realme C25Y (Metal Grey, 64 GB)', 4.577302787172881), ('SAMSUNG Galaxy F12 (Celestial Black, 128 GB)', 4.002746727933731), ('SAMSUNG GT-E1215', 3.8991635669205253)] \n",
      "\n",
      "Akash ->  [('APPLE iPhone 12 (Purple, 64 GB)', 4.9349355591628274), ('APPLE iPhone 12 (Black, 128 GB)', 4.865514883951625), ('APPLE iPhone SE (Red, 64 GB)', 4.710244485049613), ('Infinix Hot 10 (Amber Red, 64 GB)', 4.689015685730973), ('APPLE iPhone SE (White, 64 GB)', 4.671892763418796)] \n",
      "\n",
      "Abhinav Kumar ->  [('Infinix Hot 10 (Ocean Wave, 64 GB)', 4.748126625839517), ('realme C21 (Cross Blue, 64 GB)', 4.568586087494468), ('APPLE iPhone 11 (Purple, 128 GB)', 4.208021651334964), ('realme Narzo 30 5G (Racing Blue, 128 GB)', 4.1702185580992275), ('POCO X4 Pro 5G (Laser Black, 64 GB)', 4.157391786317724)] \n",
      "\n",
      "Vivek Kumar ->  [('APPLE iPhone 11 (Red, 64 GB)', 4.7793697069816865), ('realme 8i (Space Purple, 64 GB)', 4.604153610564295), ('APPLE iPhone 11 (White, 64 GB)', 4.5859565988473605), ('realme 8i (Space Black, 64 GB)', 4.575370348043687), ('APPLE iPhone SE (Black, 64 GB)', 4.5637325096685375)] \n",
      "\n",
      "Vikas  Kumar ->  [('Infinix Hot 10 Play (Morandi Green, 64 GB)', 4.382356969067386), ('Infinix Hot 10 Play (7° Purple, 64 GB)', 4.329142652039572), ('OPPO F17 Pro (Metallic White, 128 GB)', 4.143431156776235), ('APPLE iPhone 12 (Green, 64 GB)', 4.069159024086938), ('realme C21 (Cross Black, 32 GB)', 3.96331411577138)] \n",
      "\n",
      "Anshul Sharma ->  [('Infinix Note 11s Free Fire Edition (Haze Green, 128 GB)', 5.051265504663625), ('APPLE iPhone 11 (Purple, 128 GB)', 4.92899645834949), ('APPLE iPhone 11 (Purple, 64 GB)', 4.8961605072301495), ('realme C11 2021 (Cool Blue, 32 GB)', 4.545527415034158), ('realme C20 (Cool Blue, 32 GB)', 4.314736437957329)] \n",
      "\n",
      "Abhishek ->  [('APPLE iPhone 11 (White, 128 GB)', 4.971829801995976), ('APPLE iPhone 11 (Yellow, 128 GB)', 4.946854743114979), ('APPLE iPhone 12 (Black, 64 GB)', 4.7498801762632565), ('Infinix Smart 5A (Quetzal Cyan, 32 GB)', 4.721059749167093), ('APPLE 2020 Macbook Air M1 - (8 GB/256 GB SSD/Mac OS Big Sur) MGN93HN/A', 4.645188928810502)] \n",
      "\n",
      "Sushil Kumar ->  [('Xiaomi 11i 5G (Pacific Pearl, 128 GB)', 4.762885686903512), ('Infinix Hot 10 Play (7° Purple, 64 GB)', 4.706373413959213), ('Xiaomi 11i 5G (Purple Mist, 128 GB)', 4.693041850194271), ('SAMSUNG Metro 313 Dual Sim', 4.685282181374637), ('realme 8 (Cyber Silver, 128 GB)', 4.6799891987227475)] \n",
      "\n",
      "Saroj Kumar ->  [('Infinix Smart 5A (Quetzal Cyan, 32 GB)', 5.174051198645248), ('APPLE iPhone SE (Black, 128 GB)', 5.014178334063461), ('APPLE iPhone SE (Red, 64 GB)', 4.998220364980841), ('realme C35 (Glowing Black, 64 GB)', 4.989879563207485), ('Infinix Smart 5A (Midnight Black, 32 GB)', 4.954177986759914)] \n",
      "\n",
      "Abhishek Gupta ->  [('APPLE iPhone SE (Black, 64 GB)', 4.6442620264947045), ('APPLE iPhone SE (Red, 128 GB)', 4.593548060750713), ('POCO M2 Pro (Two Shades of Black, 64 GB)', 4.460391104609057), ('realme C21Y (Cross Blue, 64 GB)', 4.387066707040006), ('APPLE iPhone SE (Red, 64 GB)', 4.372084190946916)] \n",
      "\n",
      "Abhishek Mishra ->  [('APPLE iPhone 12 Mini (Blue, 64 GB)', 4.785521585239959), ('APPLE iPhone 12 Mini (White, 64 GB)', 4.667536977190045), ('REDMI 9i (Midnight Black, 64 GB)', 4.51368162084227), ('POCO C3 (Arctic Blue, 32 GB)', 4.47249422664686), ('REDMI 9 Power (Fiery Red, 64 GB)', 4.471555487208236)] \n",
      "\n",
      "Sumit  Kumar ->  [('Xiaomi 11i 5G (Pacific Pearl, 128 GB)', 4.759346291374921), ('Xiaomi 11i 5G (Purple Mist, 128 GB)', 4.697921670723415), ('realme Narzo 50A (Oxygen Green, 128 GB)', 4.578095805943554), ('POCO C31 (Shadow Gray, 64 GB)', 4.481367462675021), ('MSI Modern 14 Core i3 10th Gen - (8 GB/512 GB SSD/Windows 10 Home) Modern 14 B10MW-424IN Laptop', 4.437731170479738)] \n",
      "\n",
      "Saurabh Yadav ->  [('APPLE iPhone 11 (Purple, 64 GB)', 4.994235785524932), ('Infinix Hot 11S (7° Purple, 64 GB)', 4.850865830191897), ('Infinix Hot 11S (Silver Wave, 128 GB)', 4.849942377231956), ('Infinix Hot 11S (Polar Black, 64 GB)', 4.8186211307848605), ('POCO X3 (Shadow Gray, 64 GB)', 4.697504531502757)] \n",
      "\n",
      "CHANDAN KUMAR ->  [('Infinix Hot 11S (Polar Black, 128 GB)', 4.9592717538886175), ('realme Narzo 50A (Oxygen Green, 128 GB)', 4.924318591586839), ('Infinix Hot 10 Play (Morandi Green, 64 GB)', 4.89712321199266), ('Infinix Hot 10 (Ocean Wave, 64 GB)', 4.881201977023028), ('Infinix Hot 11S (Silver Wave, 64 GB)', 4.86591691745368)] \n",
      "\n",
      "Rahul Sharma ->  [('APPLE iPhone 11 (Red, 64 GB)', 4.807696791001022), ('APPLE iPhone 11 (Black, 64 GB)', 4.795574010127372), ('APPLE iPhone SE (Red, 128 GB)', 4.776352037117843), ('APPLE iPhone 12 (Red, 128 GB)', 4.644900707136734), ('APPLE iPhone 12 (White, 64 GB)', 4.569271986192441)] \n",
      "\n",
      "Manoj Yadav ->  [('REDMI 9i (Nature Green, 64 GB)', 4.666131168635337), ('Infinix Note 11 (Graphite Black, 64 GB)', 4.616131818620477), ('OPPO F17 Pro (Magic Blue, 128 GB)', 4.610296288428786), ('Infinix Smart HD 2021 (Quartz Green, 32 GB)', 4.595645986415187), ('Infinix Hot 10S (95° Black, 64 GB)', 4.531523761427699)] \n",
      "\n",
      "Rajesh kumar ->  [('SAMSUNG GT-E1215', 4.710902598193014), ('REDMI Note 10 Pro (Glacial Blue, 128 GB)', 4.557338005686355), ('realme Narzo 30 (Racing Blue, 64 GB)', 4.439461053812117), ('realme C25s (Watery Grey, 128 GB)', 4.363084737167424), ('LAVA GEM', 4.324275581844804)] \n",
      "\n",
      "Yogesh Kumar ->  [('APPLE iPhone 12 (Black, 64 GB)', 4.891928166580167), ('SAMSUNG Galaxy F12 (Sky Blue, 128 GB)', 4.820443428809782), ('LAVA A1 Josh', 4.627318844382505), ('APPLE iPhone 12 (Black, 128 GB)', 4.567168609508645), ('LAVA A1', 4.330618396657492)] \n",
      "\n",
      "Sonu Singh ->  [('OPPO A12 (Deep Blue, 32 GB)', 4.703799439051609), ('Infinix Smart 5 (Aegean Blue, 32 GB)', 4.6850318053858135), ('Infinix Smart 5 (7 Purple, 32 GB)', 4.665412305627345), ('REDMI 9 Power (Fiery Red, 128 GB)', 4.54601491645899), ('vivo Y21 (Diamond Glow, 64 GB)', 4.532876720871038)] \n",
      "\n",
      "Raj Singh ->  [('APPLE iPhone 12 Mini (Blue, 64 GB)', 5.054224933121677), ('APPLE iPhone SE (Black, 128 GB)', 5.037664739636423), ('POCO X3 (Shadow Gray, 64 GB)', 4.923467001384505), ('realme C21 (Cross Black, 64 GB)', 4.87015583286487), ('POCO M2 Pro (Two Shades of Black, 64 GB)', 4.779417866554228)] \n",
      "\n",
      "Shivam ->  [('vivo V21 5G (Sunset Dazzle, 128 GB)', 5.015959610569091), ('realme 8 5G (Supersonic Black, 64 GB)', 4.900063368616252), ('LAVA A1 Josh', 4.825956473328845), ('APPLE iPhone SE (White, 128 GB)', 4.785542195466669), ('MOTOROLA G60 (Soft Silver, 128 GB)', 4.733486153637908)] \n",
      "\n",
      "Vivek Sharma ->  [('APPLE iPhone 11 (Red, 64 GB)', 4.878416061472322), ('APPLE iPhone 11 (Yellow, 128 GB)', 4.793845074959372), ('APPLE iPhone 11 (Purple, 64 GB)', 4.734124038319562), ('REDMI 9i (Nature Green, 64 GB)', 4.430297586208937), ('realme Narzo 30 5G (Racing Blue, 128 GB)', 4.328005707201842)] \n",
      "\n",
      "Shyam Sundar ->  [('realme GT Master Edition (Cosmos Black, 128 GB)', 4.813250932717915), ('ASUS VivoBook Ultra 14 (2022) Core i3 11th Gen - (8 GB/512 GB SSD/Windows 11 Home) X413EA-EB322WS Thin and Light Laptop', 4.793706670982526), ('APPLE 2020 Macbook Air M1 - (8 GB/256 GB SSD/Mac OS Big Sur) MGN93HN/A', 4.671671970588171), ('POCO M3 (Power Black, 128 GB)', 4.6382146444645045), ('POCO M3 (Power Black, 64 GB)', 4.63695217725016)] \n",
      "\n",
      "Aman ->  [('APPLE iPhone 11 (Purple, 128 GB)', 5.021202617618662), ('APPLE iPhone 11 (Yellow, 128 GB)', 4.968804875414399), ('realme C25Y (Glacier Blue, 128 GB)', 4.778243975008736), ('Infinix Hot 10 Play (7° Purple, 64 GB)', 4.741266906060905), ('SAMSUNG GT-E1215', 4.664991337770185)] \n",
      "\n",
      "Ranjeet  Kumar ->  [('SAMSUNG Galaxy F12 (Sky Blue, 128 GB)', 4.945376417834407), ('SAMSUNG Galaxy F12 (Sea Green, 64 GB)', 4.939674499828315), ('REDMI 9i Sport (Carbon Black, 64 GB)', 4.655220058152603), ('realme Narzo 30 Pro 5G (Sword Black, 64 GB)', 4.487188686896893), ('REDMI Note 9 (Shadow Black, 64 GB)', 4.37798473240645)] \n",
      "\n",
      "Hemant Kumar ->  [('Infinix Hot 10 (Ocean Wave, 64 GB)', 4.920872223535714), ('APPLE iPhone 12 (Blue, 64 GB)', 4.91552229375538), ('APPLE iPhone SE (White, 64 GB)', 4.731084087056823), ('APPLE iPhone SE (Red, 128 GB)', 4.684735583354173), ('APPLE iPhone 12 Mini (White, 64 GB)', 4.65406295777463)] \n",
      "\n",
      "Sunil  Kumar  ->  [('MOTOROLA G60 (Moonless, 128 GB)', 4.577413561061899), ('realme Narzo 50A (Oxygen Blue, 64 GB)', 4.523538309364696), ('OPPO Reno6 5G (Aurora, 128 GB)', 4.461119552834085), ('realme Narzo 50A (Oxygen Green, 128 GB)', 4.288617218579486), ('POCO M2 Pro (Out of the Blue, 64 GB)', 4.117295183576861)] \n",
      "\n",
      "Krishan Kumar ->  [('Infinix Note 10 Pro (95° Black, 256 GB)', 4.990294509096807), ('OPPO A12 (Black, 32 GB)', 4.866235179771191), ('Infinix Hot 11S (Polar Black, 64 GB)', 4.85381132821258), ('realme C11 2021 (Cool Blue, 64 GB)', 4.848252401129113), ('SAMSUNG Galaxy F12 (Sky Blue, 128 GB)', 4.832349800517805)] \n",
      "\n",
      "Satish Kumar ->  [('REDMI Note 9 (Aqua Green, 64 GB)', 4.635276654639738), ('Infinix Hot 10 Play (Aegean Blue, 64 GB)', 4.5991514126193636), ('Infinix Smart 5 (7 Purple, 32 GB)', 4.569762029808167), ('realme C21Y (Cross Black, 64 GB)', 4.510896490930212), ('realme C21Y (Cross Blue, 32 GB)', 4.49492068790084)] \n",
      "\n",
      "Aditya Gupta ->  [('APPLE iPhone 13 (Starlight, 128 GB)', 4.989384728553746), ('APPLE iPhone SE (Red, 128 GB)', 4.94930921428649), ('realme Narzo 50A (Oxygen Green, 128 GB)', 4.905211798493175), ('APPLE iPhone SE (White, 128 GB)', 4.89793300431954), ('APPLE iPhone 13 ((PRODUCT)RED, 128 GB)', 4.704444270072872)] \n",
      "\n",
      "Suman Das ->  [('Infinix Hot 10S (95° Black, 64 GB)', 4.681347258058919), ('vivo V21 5G (Neon Spark, 128 GB)', 4.669394963260685), ('vivo V21 5G (Dusk Blue, 128 GB)', 4.629591979767223), ('APPLE iPhone 12 Mini (Black, 64 GB)', 4.4316699252393414), ('APPLE iPhone 12 Mini (Blue, 64 GB)', 4.39237235996674)] \n",
      "\n",
      "Ajay Gupta ->  [('APPLE iPhone 12 (White, 256 GB)', 4.904860065198482), ('realme C21Y (Cross Blue, 64 GB)', 4.874667906559562), ('APPLE iPhone 12 (Purple, 64 GB)', 4.871540201717401), ('realme C25 (Watery Grey, 128 GB)', 4.851434426758847), ('MOTOROLA G40 Fusion (Frosted Champagne, 128 GB)', 4.668003125857408)] \n",
      "\n",
      "Ravi Yadav ->  [('APPLE iPhone 12 (White, 64 GB)', 4.937473640551304), ('APPLE iPhone 12 (Black, 128 GB)', 4.905381913725245), ('SAMSUNG Galaxy F12 (Sky Blue, 128 GB)', 4.89045366097995), ('APPLE iPhone 12 (White, 256 GB)', 4.878681214985685), ('SAMSUNG Galaxy F12 (Sea Green, 128 GB)', 4.8630759353173)] \n",
      "\n",
      "Ravi kumar ->  [('APPLE iPhone 12 (White, 256 GB)', 4.9177593579367995), ('APPLE iPhone 12 (Black, 64 GB)', 4.826662978129972), ('Infinix Hot 11S (Green Wave, 128 GB)', 4.786277236023906), ('Infinix Smart HD 2021 (Obsidian Black, 32 GB)', 4.358492332245057), ('LAVA A1', 4.34037771351573)] \n",
      "\n",
      "Kaushal Kumar ->  [('REDMI Note 9 (Shadow Black, 64 GB)', 4.970052050944572), ('SAMSUNG Galaxy F22 (Denim Black, 128 GB)', 4.9685502643842785), ('realme Narzo 30 (Racing Blue, 64 GB)', 4.930074197059517), ('APPLE 2020 Macbook Air M1 - (8 GB/256 GB SSD/Mac OS Big Sur) MGN93HN/A', 4.7169331070782885), ('SAMSUNG Guru Music 2', 4.716222610227735)] \n",
      "\n",
      "Manish  Kumar ->  [('ASUS VivoBook 15 Ryzen 3 Dual Core - (4 GB/256 GB SSD/Windows 10 Home) M515DA-BQ312TS Thin and Light Laptop', 5.0901755521326), ('ASUS Ryzen 3 Dual Core 3250U 3rd Gen - (8 GB/256 GB SSD/Windows 10 Home) M515DA-BQ322TS Thin and Light Laptop', 4.982750958714644), ('APPLE iPhone 11 (Red, 64 GB)', 4.846267321574786), ('POCO M3 (Cool Blue, 64 GB)', 4.800503722455625), ('Infinix Note 11 (Celestial Snow, 64 GB)', 4.7915033833473295)] \n",
      "\n",
      "Mukesh Yadav ->  [('Infinix Hot 11S (Silver Wave, 128 GB)', 4.9580440519826015), ('Infinix Hot 11S (7° Purple, 64 GB)', 4.875482791681718), ('OPPO Reno6 5G (Stellar Black, 128 GB)', 4.829108528327197), ('POCO X3 (Shadow Gray, 64 GB)', 4.679047762853039), ('Infinix Hot 10 Play (Morandi Green, 64 GB)', 4.643382671450159)] \n",
      "\n",
      "Muthu Kumar ->  [('realme 8 (Cyber Black, 128 GB)', 4.836863208766701), ('POCO M4 Pro (Power Black, 128 GB)', 4.83116037085406), ('POCO M4 Pro (Cool Blue, 64 GB)', 4.8294596288848), ('Infinix Hot 10 Play (Morandi Green, 64 GB)', 4.763438406196888), ('SAMSUNG Guru Music 2', 4.6846237149876915)] \n",
      "\n",
      "Prabhat Singh ->  [('REDMI 9 Prime (Matte Black, 64 GB)', 4.842672327790738), ('realme 8 5G (Supersonic Blue, 64 GB)', 4.462278773372045), ('POCO M2 Pro (Two Shades of Black, 64 GB)', 3.799055184366538), ('POCO M3 (Cool Blue, 64 GB)', 3.756309208178993), ('MOTOROLA G60 (Moonless, 128 GB)', 3.4773687912342153)] \n",
      "\n",
      "Durgesh Kumar ->  [('APPLE iPhone 11 (Purple, 128 GB)', 5.11027821068352), ('APPLE iPhone 11 (Black, 64 GB)', 5.043885160168489), ('APPLE iPhone 11 (Yellow, 64 GB)', 5.013505605844796), ('APPLE iPhone 11 (Yellow, 128 GB)', 4.9606975200538646), ('Infinix Hot 10 Play (Obsidian Black, 64 GB)', 4.888046583898324)] \n",
      "\n",
      "Sanjay  Kumar ->  [('APPLE iPhone SE (Black, 64 GB)', 5.075426352237289), ('APPLE iPhone SE (White, 128 GB)', 5.050624971955213), ('Infinix Note 11 (Celestial Snow, 64 GB)', 5.0306122338358), ('APPLE iPhone SE (White, 64 GB)', 4.990114534674596), ('SAMSUNG Galaxy F12 (Sea Green, 64 GB)', 4.862057756994954)] \n",
      "\n",
      "Mukesh Sharma ->  [('APPLE iPhone 12 (Green, 64 GB)', 5.02927947878924), ('realme 8 Pro (Infinite Black, 128 GB)', 4.976348281012201), ('Redmi 9 (Sky Blue, 128 GB)', 4.524366958748539), ('Kechaoda K9', 4.41929062078065), ('realme GT Master Edition (Cosmos Black, 128 GB)', 4.224427856464724)] \n",
      "\n",
      "Gulshan Kumar ->  [('POCO M4 Pro (Power Black, 64 GB)', 5.066543635798674), ('APPLE iPhone 12 (Green, 64 GB)', 5.02968292218663), ('SAMSUNG Galaxy F12 (Sea Green, 64 GB)', 4.888577025279429), ('REDMI 9 Prime (Matte Black, 64 GB)', 4.857852207616346), ('SAMSUNG Galaxy F12 (Celestial Black, 64 GB)', 4.823887468037779)] \n",
      "\n",
      "Sunny  Kumar ->  [('APPLE iPhone 12 (Purple, 64 GB)', 4.683317410864322), ('APPLE iPhone 12 (White, 256 GB)', 4.578783577259532), ('OPPO A53s 5G (Ink Black, 128 GB)', 4.362373525632617), ('OPPO Reno6 5G (Stellar Black, 128 GB)', 4.287961160251001), ('Infinix Hot 11S (Polar Black, 128 GB)', 4.076813272929561)] \n",
      "\n",
      "Avinash  Kumar ->  [('realme 8i (Space Black, 64 GB)', 4.6559873522471555), ('Infinix Smart 5A (Midnight Black, 32 GB)', 4.634155325737666), ('realme Narzo 50A (Oxygen Green, 128 GB)', 4.564406049319583), ('vivo V23 5G (Sunshine Gold, 128 GB)', 4.526903054092912), ('realme Narzo 50A (Oxygen Blue, 64 GB)', 4.50446243518955)] \n",
      "\n",
      "Neeraj  Kumar ->  [('REDMI Note 9 (Aqua Green, 64 GB)', 4.827262632721173), ('realme C25Y (Metal Grey, 128 GB)', 4.81822119779428), ('realme 8s 5G (Universe Blue, 128 GB)', 4.7750512177049504), ('REDMI Note 9 (Shadow Black, 64 GB)', 4.71610151006077), ('REDMI Note 9 (Shadow Black, 64 GB)', 4.71610151006077)] \n",
      "\n",
      "Rakesh Singh ->  [('APPLE iPhone 12 Mini (White, 64 GB)', 4.737836564923963), ('SAMSUNG Guru Music 2', 4.593327954438436), ('realme C21Y (Cross Black, 32 GB)', 4.465051351646539), ('realme Narzo 30 5G (Racing Blue, 128 GB)', 4.4531518719018885), ('Infinix Smart 5 (Aegean Blue, 32 GB)', 4.3404970278635275)] \n",
      "\n",
      "Rohan Singh ->  [('Infinix Hot 11S (7° Purple, 128 GB)', 4.965163403924384), ('Infinix Hot 11S (7° Purple, 64 GB)', 4.818656317674668), ('Infinix Hot 10 Play (Obsidian Black, 64 GB)', 4.34493178576831), ('APPLE iPhone 11 (White, 64 GB)', 3.9679028696948304), ('realme C25Y (Metal Grey, 64 GB)', 3.8601847509165714)] \n",
      "\n",
      "Javed Ansari ->  [('Infinix Hot 11S (7° Purple, 128 GB)', 5.023187634489229), ('Infinix Hot 11S (Green Wave, 64 GB)', 4.98430805439066), ('APPLE iPhone 11 (Yellow, 128 GB)', 4.975488042535421), ('APPLE iPhone 11 (Yellow, 64 GB)', 4.966772557201467), ('vivo Y12G (Glacier Blue, 64 GB)', 4.965738305555685)] \n",
      "\n",
      "Biswajit Mandal ->  [('OPPO F17 Pro (Magic Blue, 128 GB)', 5.030721799006144), ('realme 8s 5G (Universe Blue, 128 GB)', 4.888734040998739), ('OPPO F17 Pro (Metallic White, 128 GB)', 4.851362733115536), ('realme 8i (Space Purple, 128 GB)', 4.736619710561044), ('REDMI 9 Power (Fiery Red, 64 GB)', 4.710118944688142)] \n",
      "\n",
      "Manoj Singh ->  [('APPLE iPhone 12 (White, 64 GB)', 5.042360885628044), ('REDMI Note 10S (Cosmic Purple, 64 GB)', 4.986098790698096), ('APPLE iPhone SE (Black, 128 GB)', 4.812410834372263), ('APPLE iPhone SE (White, 128 GB)', 4.80137557373454), ('POCO C3 (Matte Black, 32 GB)', 4.764870117110546)] \n",
      "\n",
      "Raj ->  [('REDMI Note 9 (Shadow Black, 64 GB)', 4.609215219636779), ('Xiaomi 11i 5G (Purple Mist, 128 GB)', 4.437430850343256), ('realme 8 (Cyber Silver, 128 GB)', 4.376238942810428), ('Infinix Hot 10 Play (Morandi Green, 64 GB)', 4.356565073453971), ('Xiaomi 11i 5G (Stealth Black, 128 GB)', 4.3405216347367785)] \n",
      "\n",
      "Ajay  Kumar ->  [('Infinix Hot 10 (Amber Red, 64 GB)', 5.043125981637193), ('REDMI Note 10S (Cosmic Purple, 64 GB)', 4.814223702487596), ('realme Narzo 30 (Racing Silver, 64 GB)', 4.642263047371865), ('realme C20 (Cool Grey, 32 GB)', 4.597058161760611), ('REDMI Note 10S (Shadow Black, 128 GB)', 4.529829249995474)] \n",
      "\n",
      "Vikas Sharma ->  [('APPLE iPhone 12 (Black, 64 GB)', 4.911702715293037), ('realme 8i (Space Purple, 64 GB)', 4.6151364083933135), ('Micromax IN Note 1 (White, 64 GB)', 4.5612670608744725), ('realme C11 2021 (Cool Blue, 32 GB)', 4.322068752801665), ('APPLE iPhone 12 Mini (Black, 64 GB)', 4.277337093522997)] \n",
      "\n",
      "Sumit Sharma ->  [('MSI Modern 14 Core i3 10th Gen - (8 GB/512 GB SSD/Windows 10 Home) Modern 14 B10MW-424IN Laptop', 5.082474715571388), ('APPLE iPhone 12 (Green, 64 GB)', 4.666590471109349), ('realme 8 (Cyber Silver, 128 GB)', 4.645238535202853), ('APPLE iPhone 12 (Black, 64 GB)', 4.631519384109045), ('APPLE iPhone 12 Mini (White, 64 GB)', 4.599128038874208)] \n",
      "\n",
      "Bhupendra Singh ->  [('APPLE iPhone 11 (Yellow, 64 GB)', 5.000378379241359), ('Xiaomi 11i 5G (Camo Green, 128 GB)', 4.889672804111735), ('Infinix Smart 5A (Midnight Black, 32 GB)', 4.848037905063795), ('POCO X3 (Shadow Gray, 64 GB)', 4.821987891444671), ('Xiaomi 11i 5G (Pacific Pearl, 128 GB)', 4.803648175403318)] \n",
      "\n",
      "Nitin Sharma ->  [('APPLE iPhone 11 (Purple, 128 GB)', 4.95763924905482), ('APPLE iPhone SE (Black, 64 GB)', 4.845126171171579), ('APPLE iPhone 12 Mini (Black, 64 GB)', 4.775776582609799), ('OPPO A12 (Blue, 32 GB)', 4.263807909547605), ('HP 14q Core i3 7th Gen - (4 GB/1 TB HDD/Windows 10 Home) 14q-CS0005TU Thin and Light Laptop', 3.7725007221838536)] \n",
      "\n",
      "Sourav Das ->  [('Infinix Hot 10 (Amber Red, 64 GB)', 4.646762023831526), ('realme Narzo 30 (Racing Silver, 64 GB)', 4.60127773009097), ('realme GT Master Edition (Cosmos Black, 128 GB)', 4.596434668134489), ('POCO M3 (Power Black, 64 GB)', 4.587319659895327), ('realme Book (Slim) Core i3 11th Gen - (8 GB/256 GB SSD/Windows 10 Home) RMNB1001 Thin and Light Laptop', 4.567739079472697)] \n",
      "\n",
      "Ashish Gupta ->  [('APPLE iPhone 12 (Blue, 64 GB)', 5.040444058349968), ('APPLE iPhone 12 (Green, 64 GB)', 5.01512016364206), ('APPLE iPhone 12 (Black, 64 GB)', 4.994555987080221), ('APPLE iPhone 11 (Black, 64 GB)', 4.993762665478318), ('OPPO A33 (Mint Cream, 32 GB)', 4.966609178550518)] \n",
      "\n",
      "Shubham Gupta ->  [('MOTOROLA E7 Plus (Misty Blue, 64 GB)', 4.71526857887941), ('realme 9 Pro 5G (Midnight Black, 128 GB)', 4.673543577077437), ('Infinix Smart HD 2021 (Obsidian Black, 32 GB)', 4.446173162966029), ('Infinix Zero 5G (Skylight Orange, 128 GB)', 4.433113245318914), ('OPPO Reno7 5G (Starry Black, 256 GB)', 4.393130963935461)] \n",
      "\n",
      "Amarjeet Kumar ->  [('APPLE iPhone 12 (Blue, 64 GB)', 5.025966525917813), ('APPLE iPhone 11 (Yellow, 64 GB)', 5.011964498410891), ('Infinix Hot 11S (7° Purple, 128 GB)', 5.0063932849608745), ('APPLE iPhone 12 (Red, 128 GB)', 4.976438714040341), ('Infinix Hot 11S (Green Wave, 128 GB)', 4.954570386327643)] \n",
      "\n",
      "Ajay Sharma ->  [('APPLE iPhone 11 (Purple, 128 GB)', 4.760439051649475), ('APPLE iPhone 11 (Black, 64 GB)', 4.744541769638323), ('APPLE iPhone 11 (Red, 64 GB)', 4.720497350237795), ('APPLE iPhone 11 (Yellow, 128 GB)', 4.718633761377675), ('APPLE iPhone 11 (Purple, 64 GB)', 4.711959869795169)] \n",
      "\n",
      "Dilip Kumar ->  [('APPLE iPhone 12 (Green, 64 GB)', 4.675233671604991), ('APPLE iPhone 12 (Purple, 64 GB)', 4.663127997175112), ('Infinix Hot 11S (Green Wave, 64 GB)', 4.656732872809844), ('Infinix Hot 11S (Silver Wave, 128 GB)', 4.615540320262034), ('APPLE iPhone 12 (Blue, 64 GB)', 4.5350637772918345)] \n",
      "\n",
      "Neeraj Kumar ->  [('APPLE iPhone 12 (Green, 64 GB)', 4.647930055013384), ('Infinix Hot 10S (95° Black, 64 GB)', 4.543460872556149), ('realme C21 (Cross Blue, 32 GB)', 4.541838097066787), ('OPPO A53s 5G (Crystal Blue, 128 GB)', 4.501353875007567), ('APPLE 2020 Macbook Air M1 - (8 GB/256 GB SSD/Mac OS Big Sur) MGND3HN/A', 4.444111099962885)] \n",
      "\n",
      "vijay kumar ->  [('realme GT Master Edition (Cosmos Black, 128 GB)', 4.786554604917478), ('Infinix Hot 11S (Polar Black, 128 GB)', 4.726311319541826), ('Infinix Hot 11S (7° Purple, 128 GB)', 4.711512908810631), ('POCO C3 (Matte Black, 32 GB)', 4.6547485970572655), ('realme 9 5G (Meteor Black, 64 GB)', 4.586460872364554)] \n",
      "\n",
      "sunil kumar ->  [('POCO C3 (Arctic Blue, 32 GB)', 4.6771409020101125), ('APPLE iPhone 12 Mini (Blue, 64 GB)', 4.63887605958157), ('REDMI Note 9 (Aqua Green, 64 GB)', 4.571477462954792), ('POCO M2 Pro (Two Shades of Black, 64 GB)', 4.513407027164054), ('OPPO A54 (Crystal Black, 128 GB)', 4.47953581651914)] \n",
      "\n",
      "Pradeep  Kumar ->  [('Micromax IN Note 1 (White, 64 GB)', 4.819776408971333), ('realme Narzo 50A (Oxygen Green, 64 GB)', 4.730276971839706), ('APPLE iPhone SE (Red, 64 GB)', 4.718752480995604), ('OPPO A33 (Moonlight Black, 32 GB)', 4.706023911886719), ('OPPO Reno6 5G (Aurora, 128 GB)', 4.67786657091331)] \n",
      "\n",
      "Jay Patel ->  [('APPLE iPhone 12 (Red, 128 GB)', 5.056048127157367), ('APPLE iPhone 12 (White, 256 GB)', 4.965743199008902), ('realme GT Master Edition (Luna White, 256 GB)', 4.866821935027536), ('Micromax IN Note 1 (Green, 64 GB)', 4.726590589363608), ('OPPO A31 (Fantasy White, 128 GB)', 4.719264892384442)] \n",
      "\n",
      "Varun Kumar ->  [('APPLE iPhone 11 (Purple, 64 GB)', 4.962005504803554), ('APPLE iPhone SE (White, 64 GB)', 4.83983565016165), ('Infinix Hot 10 Play (Aegean Blue, 64 GB)', 4.702987282189907), ('realme C21 (Cross Black, 64 GB)', 4.544029584880645), ('SAMSUNG Guru Music 2', 4.50594970064287)] \n",
      "\n",
      "Vishal ->  [('APPLE iPhone 12 (Black, 64 GB)', 4.9469139739904495), ('APPLE iPhone 12 (White, 64 GB)', 4.943257664936165), ('APPLE iPhone 12 (Blue, 64 GB)', 4.8509654275699505), ('Infinix Hot 10S (95° Black, 64 GB)', 4.75338213270974), ('realme GT Master Edition (Voyager Grey, 256 GB)', 4.557731682441268)] \n",
      "\n",
      "Ravi Sharma ->  [('realme 9 Pro+ 5G (Midnight Black, 128 GB)', 4.920248441467305), ('APPLE iPhone SE (Red, 64 GB)', 4.9044844271435615), ('REDMI 9i (Midnight Black, 64 GB)', 4.695000889728438), ('REDMI 9i (Sea Blue, 64 GB)', 4.690438554895859), ('realme C11 2021 (Cool Blue, 64 GB)', 4.6735159903938435)] \n",
      "\n",
      "Ajay  Kumar  ->  [('realme C25_Y (Glacier Blue, 64 GB)', 5.002708029598412), ('realme Narzo 30 (Racing Silver, 128 GB)', 4.673517352689165), ('realme C25_Y (Glacier Blue, 128 GB)', 4.653652363142375), ('Infinix Hot 10 Play (7° Purple, 64 GB)', 4.5757371232204935), ('Infinix Hot 10 Play (Aegean Blue, 64 GB)', 4.407539939001507)] \n",
      "\n",
      "Alok Kumar ->  [('Kechaoda K33', 4.9524459909174885), ('APPLE iPhone 12 (White, 256 GB)', 4.866265703826271), ('APPLE iPhone 12 (Black, 64 GB)', 4.857867992138554), ('APPLE iPhone 12 (Green, 64 GB)', 4.812298535894871), ('vivo V21 5G (Arctic White, 128 GB)', 4.772367474369257)] \n",
      "\n",
      "PRADEEP KUMAR ->  [('Infinix Hot 11S (Polar Black, 128 GB)', 5.03353813819473), ('Infinix Hot 11S (Green Wave, 128 GB)', 5.00883322995008), ('Infinix Hot 11S (Silver Wave, 128 GB)', 4.98497031797007), ('SAMSUNG Galaxy F12 (Celestial Black, 64 GB)', 4.974042567659056), ('SAMSUNG Galaxy F12 (Sea Green, 64 GB)', 4.949738858940091)] \n",
      "\n",
      "Rajesh Gupta ->  [('realme Narzo 50A (Oxygen Green, 128 GB)', 4.6860666476518595), ('Infinix Hot 10 Play (Aegean Blue, 64 GB)', 4.588992640106105), ('MOTOROLA G60 (Moonless, 128 GB)', 4.36557842080377), ('MOTOROLA E7 Power (Tahiti Blue, 64 GB)', 4.226191111452564), ('Infinix Smart 5 (Aegean Blue, 32 GB)', 4.169290609027112)] \n",
      "\n",
      "Salman Khan ->  [('OPPO Reno6 5G (Stellar Black, 128 GB)', 4.659371605360071), ('POCO M2 Pro (Green and Greener, 64 GB)', 4.6071766173549245), ('realme C25_Y (Glacier Blue, 128 GB)', 4.488576125490335), ('realme C25_Y (Metal Grey, 128 GB)', 4.4684596487794845), ('POCO M3 Pro 5G (Cool Blue, 128 GB)', 4.425541102326025)] \n",
      "\n",
      "Jeevan Kumar ->  [('realme 8i (Space Black, 64 GB)', 4.934282589194601), ('realme C25Y (Glacier Blue, 128 GB)', 4.8959751009389), ('realme C21 (Cross Blue, 64 GB)', 4.874968752187322), ('Infinix Hot 10 Play (Morandi Green, 64 GB)', 4.8598490421667755), ('POCO M3 (Power Black, 128 GB)', 4.851808627546895)] \n",
      "\n",
      "Dinesh Yadav ->  [('realme Narzo 50A (Oxygen Green, 128 GB)', 4.648233685463308), ('realme 8 (Cyber Silver, 128 GB)', 4.540071177800445), ('REDMI Note 9 (Shadow Black, 64 GB)', 4.532179893074209), ('realme GT Master Edition (Luna White, 256 GB)', 4.312372216581031), ('REDMI Note 9 (Aqua Green, 64 GB)', 4.042114879372063)] \n",
      "\n",
      "Mohit ->  [('SAMSUNG Galaxy F12 (Sky Blue, 64 GB)', 4.92893660028761), ('APPLE iPhone 12 (Green, 64 GB)', 4.92882225314771), ('Infinix Hot 11S (7° Purple, 128 GB)', 4.859507955923087), ('Infinix Hot 10 Play (Aegean Blue, 64 GB)', 4.8501663063659), ('SAMSUNG Galaxy F12 (Sea Green, 64 GB)', 4.821002211797903)] \n",
      "\n",
      "RAJESH KUMAR ->  [('APPLE iPhone 12 Mini (White, 64 GB)', 5.198367334474138), ('APPLE iPhone 11 (White, 128 GB)', 5.148946237630654), ('APPLE iPhone 11 (Black, 128 GB)', 5.0346961501268925), ('APPLE iPhone 11 (Red, 64 GB)', 4.988101311195996), ('realme C21 (Cross Black, 64 GB)', 4.963617133615072)] \n",
      "\n",
      "Amit  Singh ->  [('SAMSUNG Galaxy F12 (Celestial Black, 128 GB)', 4.831924292658378), ('Infinix Hot 11S (Polar Black, 128 GB)', 4.819248770916905), ('realme 8i (Space Purple, 64 GB)', 4.728840814700242), ('Infinix Hot 11S (Green Wave, 128 GB)', 4.709961131681993), ('Infinix Hot 10 Play (7° Purple, 64 GB)', 4.708753357624621)] \n",
      "\n",
      "Nikhil Kumar ->  [('realme 9 Pro 5G (Midnight Black, 128 GB)', 4.9287509829263705), ('APPLE iPhone SE (Red, 64 GB)', 4.8947071968977385), ('SAMSUNG Guru Music 2', 4.660750148199203), ('POCO M3 (Power Black, 128 GB)', 4.651614839953234), ('APPLE iPhone 12 (Green, 64 GB)', 4.607408600500062)] \n",
      "\n",
      "Sunny Kumar ->  [('APPLE MacBook Air M1 - (8 GB/512 GB SSD/Mac OS Big Sur) Z12A000D3', 4.997939384844501), ('realme 9i (Prism Black, 64 GB)', 4.73969606227589), ('APPLE 2020 Macbook Air M1 - (8 GB/256 GB SSD/Mac OS Big Sur) MGND3HN/A', 4.721684883840072), ('APPLE iPhone 12 Mini (White, 64 GB)', 4.692965335940384), ('APPLE iPhone 12 Mini (Blue, 64 GB)', 4.691681732611426)] \n",
      "\n",
      "Vishnu Kumar ->  [('SAMSUNG GT-E1215', 4.947506825034761), ('REDMI 9i (Midnight Black, 64 GB)', 4.924594950009884), ('realme C25Y (Glacier Blue, 64 GB)', 4.899034959868997), ('POCO C3 (Matte Black, 32 GB)', 4.786503888933723), ('POCO M2 Pro (Green and Greener, 64 GB)', 4.7707473445635475)] \n",
      "\n",
      "sandeep kumar ->  [('APPLE iPhone 12 Mini (Blue, 64 GB)', 4.868820266039543), ('SAMSUNG Galaxy F12 (Sea Green, 64 GB)', 4.80558218822126), ('Infinix Hot 10 (Ocean Wave, 64 GB)', 4.785393156264496), ('SAMSUNG Galaxy F12 (Celestial Black, 64 GB)', 4.767862646313596), ('SAMSUNG Galaxy F12 (Celestial Black, 128 GB)', 4.697489841981748)] \n",
      "\n",
      "Anuj Kumar ->  [('APPLE iPhone 11 (Purple, 64 GB)', 4.876436735669633), ('APPLE iPhone 11 (Yellow, 128 GB)', 4.811146219595893), ('APPLE iPhone 12 (Green, 64 GB)', 4.625079789213911), ('POCO X3 (Shadow Gray, 64 GB)', 4.487751843130298), ('POCO C3 (Arctic Blue, 32 GB)', 4.465573215140379)] \n",
      "\n",
      "Rehan Khan ->  [('OPPO A12 (Blue, 32 GB)', 4.926926014247252), ('realme C21 (Cross Black, 64 GB)', 4.91929226871858), ('Xiaomi 11i 5G (Stealth Black, 128 GB)', 4.794242830337025), ('REDMI 9 Power (Fiery Red, 64 GB)', 4.7567149579006855), ('POCO C31 (Royal Blue, 64 GB)', 4.553937229911492)] \n",
      "\n",
      "Arun ->  [('Infinix Hot 10 Play (7° Purple, 64 GB)', 4.5913167176410665), ('realme GT Master Edition (Cosmos Black, 128 GB)', 4.523543603175509), ('APPLE iPhone SE (White, 64 GB)', 4.4209657456399345), ('LAVA A3', 4.405399488557429), ('ASUS VivoBook 15 (2022) Core i3 10th Gen - (8 GB/512 GB SSD/Windows 11 Home) X515JA-EJ362WS Thin and Light Laptop', 4.161312054994511)] \n",
      "\n",
      "Piyush Kumar ->  [('APPLE iPhone 11 (Black, 64 GB)', 4.987176250413019), ('APPLE iPhone 11 (Green, 128 GB)', 4.985945607612816), ('APPLE iPhone 11 (Purple, 64 GB)', 4.981611780331562), ('APPLE iPhone 11 (Yellow, 128 GB)', 4.917607172826106), ('SAMSUNG Galaxy F12 (Sky Blue, 128 GB)', 4.86615497091817)] \n",
      "\n",
      "Sumit Singh ->  [('APPLE iPhone 12 (Green, 64 GB)', 5.032521381540475), ('APPLE iPhone 12 (Black, 64 GB)', 4.997783468670299), ('APPLE iPhone SE (Black, 128 GB)', 4.938980292497107), ('Micromax IN Note 1 (White, 64 GB)', 4.868384634665976), ('realme 8 (Cyber Black, 128 GB)', 4.770222703371692)] \n",
      "\n",
      "Niranjan Kumar ->  [('SAMSUNG Guru Music 2', 4.830128672947509), ('realme C35 (Glowing Black, 64 GB)', 4.809266328202352), ('vivo T1 5G (Rainbow Fantasy, 128 GB)', 4.723664430806527), ('realme Narzo 30 (Racing Silver, 64 GB)', 4.6741879919959), ('realme C21Y (Cross Black, 64 GB)', 4.550997260531173)] \n",
      "\n",
      "Shivam  Singh ->  [('ASUS VivoBook Ultra 14 Core i3 10th Gen - (4 GB/512 GB SSD/Windows 10 Home) X413JA-EK268T||X413JA-EB303T Thin and Light Laptop', 5.231615515603732), ('SAMSUNG Galaxy F22 (Denim Blue, 64 GB)', 4.957547165703744), ('Infinix Smart 5 (Morandi Green, 32 GB)', 4.909146831464307), ('realme Narzo 50A (Oxygen Blue, 64 GB)', 4.897579122136234), ('realme C25Y (Glacier Blue, 128 GB)', 4.765587382103234)] \n",
      "\n",
      "Rajat Kumar ->  [('Infinix Hot 11S (Polar Black, 64 GB)', 4.967910324015417), ('Infinix Hot 11S (Silver Wave, 64 GB)', 4.941786802678927), ('APPLE iPhone 12 Mini (White, 64 GB)', 4.941764189635055), ('REDMI Note 9 (Aqua Green, 64 GB)', 4.930372456084674), ('Infinix Hot 10 Play (Obsidian Black, 64 GB)', 4.545325111710133)] \n",
      "\n",
      "Govind Kumar ->  [('Micromax IN Note 1 (White, 64 GB)', 4.983380074132924), ('Infinix Hot 10 Play (Aegean Blue, 64 GB)', 4.9729556711307445), ('APPLE iPhone 12 (Purple, 64 GB)', 4.9554568019916445), ('APPLE iPhone 12 (Black, 128 GB)', 4.879026858342895), ('realme C25s (Watery Blue, 128 GB)', 4.7948378002286836)] \n",
      "\n",
      "Rahul  Singh ->  [('Infinix Hot 10 (Ocean Wave, 64 GB)', 4.785346575899937), ('Infinix Hot 10 (Amber Red, 64 GB)', 4.7121778007589175), ('Infinix Hot 11 (Silver Wave, 64 GB)', 4.587372113963628), ('APPLE iPhone 11 (Yellow, 128 GB)', 4.553684778758618), ('realme Narzo 30 (Racing Blue, 128 GB)', 4.509366903311655)] \n",
      "\n",
      "Himanshu Sharma ->  [('APPLE iPhone 11 (Yellow, 128 GB)', 4.860216680355791), ('APPLE iPhone 12 (Purple, 64 GB)', 4.834067455575989), ('APPLE iPhone 12 (White, 256 GB)', 4.831132003367481), ('REDMI 9 Power (Blazing Blue, 64 GB)', 4.770401672628209), ('APPLE iPhone 11 (Black, 128 GB)', 4.66794153893772)] \n",
      "\n",
      "Rahul ->  [('APPLE iPhone 12 (Red, 128 GB)', 4.776009806783859), ('realme 8s 5G (Universe Blue, 128 GB)', 4.684512022625895), ('SAMSUNG Galaxy F12 (Sky Blue, 128 GB)', 4.674489292237138), ('SAMSUNG Galaxy F12 (Sea Green, 64 GB)', 4.630310697463727), ('realme 8 (Cyber Silver, 128 GB)', 4.626316134732572)] \n",
      "\n",
      "Vipin Kumar ->  [('APPLE iPhone 12 (Blue, 64 GB)', 4.772374804025883), ('realme GT Master Edition (Voyager Grey, 256 GB)', 4.756939387322699), ('Micromax IN Note 1 (Green, 64 GB)', 4.753022546843698), ('APPLE iPhone 12 (Red, 128 GB)', 4.625492457950813), ('Infinix Hot 11S (Silver Wave, 128 GB)', 4.603274291257225)] \n",
      "\n",
      "Vishal Gupta ->  [('APPLE iPhone 12 Mini (White, 64 GB)', 5.010187254714897), ('APPLE iPhone SE (Red, 128 GB)', 4.821580044469191), ('Infinix Hot 10 Play (Aegean Blue, 64 GB)', 4.820933313655997), ('APPLE iPhone 12 Mini (Blue, 64 GB)', 4.813537360070713), ('realme 8i (Space Black, 64 GB)', 4.6480308869437685)] \n",
      "\n",
      "VIKASH KUMAR ->  [('SAMSUNG Galaxy F12 (Sea Green, 128 GB)', 4.956082720896255), ('SAMSUNG Galaxy F12 (Celestial Black, 128 GB)', 4.928443838767337), ('Infinix Hot 11S (Green Wave, 64 GB)', 4.910008844340557), ('Infinix Hot 11S (Polar Black, 128 GB)', 4.897614555333953), ('Xiaomi 11i 5G (Stealth Black, 128 GB)', 4.897105558082099)] \n",
      "\n",
      "Yogesh Sharma ->  [('APPLE iPhone 11 (Red, 64 GB)', 4.932288754292081), ('APPLE iPhone 11 (Yellow, 128 GB)', 4.909958248979141), ('APPLE iPhone 11 (White, 64 GB)', 4.850855285013735), ('DELL Inspiron Ryzen 5 Quad Core 3450U - (8 GB/256 GB SSD/Windows 10) Inspiron 3505 Notebook', 4.525497365527276), ('Nokia 150 TA-1235 DS', 4.30500763263623)] \n",
      "\n",
      "Rohit Sharma ->  [('APPLE iPhone 12 (Red, 128 GB)', 4.925359482439549), ('Infinix Hot 10 Play (7° Purple, 64 GB)', 4.822112755486304), ('SAMSUNG Galaxy F12 (Sea Green, 64 GB)', 4.82001633505455), ('SAMSUNG Galaxy F12 (Sea Green, 128 GB)', 4.802748020636003), ('realme 9 Pro 5G (Sunrise Blue, 128 GB)', 4.801040594283146)] \n",
      "\n",
      "Ranjan Kumar ->  [('Infinix Hot 10 Play (7° Purple, 64 GB)', 4.7565864272055975), ('realme 8i (Space Black, 64 GB)', 4.641038104237386), ('Infinix Hot 10 Play (Obsidian Black, 64 GB)', 4.590445242092136), ('realme C21Y (Cross Blue, 64 GB)', 4.535184093506737), ('Micromax IN Note 1 (Green, 64 GB)', 4.474439782915762)] \n",
      "\n",
      "Amit Tiwari ->  [('APPLE iPhone 12 (Blue, 64 GB)', 5.016103503204663), ('APPLE iPhone 12 (White, 256 GB)', 4.8558948032995), ('APPLE iPhone 12 (Black, 64 GB)', 4.8184246065169205), ('vivo V23 5G (Stardust Black, 128 GB)', 4.420571126823525), ('REDMI 9 Power (Fiery Red, 64 GB)', 4.4172469480157694)] \n",
      "\n",
      "Karthi Keyan ->  [('Infinix Hot 11S (Green Wave, 64 GB)', 4.9338345752678165), ('REDMI Note 10S (Shadow Black, 128 GB)', 4.819584983002498), ('REDMI Note 10S (Frost White, 64 GB)', 4.780439500267738), ('POCO C31 (Royal Blue, 32 GB)', 4.679820420029914), ('realme C21 (Cross Blue, 32 GB)', 4.665256245917902)] \n",
      "\n",
      "Sourav Ghosh ->  [('APPLE iPhone 12 (White, 256 GB)', 4.862481248384299), ('APPLE iPhone 12 (Blue, 64 GB)', 4.861216260348629), ('realme Narzo 20 (Victory Blue, 128 GB)', 4.808888126707233), ('REDMI 9 Power (Fiery Red, 64 GB)', 4.694097627919444), ('POCO X3 (Shadow Gray, 64 GB)', 4.565656863221059)] \n",
      "\n",
      "Arjun Singh ->  [('APPLE iPhone 11 (Purple, 64 GB)', 5.0220893231755435), ('MOTOROLA g31 (Baby Blue, 64 GB)', 4.977581789407125), ('realme 8 5G (Supersonic Blue, 64 GB)', 4.870783848798874), ('realme Narzo 30 (Racing Blue, 64 GB)', 4.85976586830432), ('Lenovo IdeaPad 3 Core i3 10th Gen - (8 GB/256 GB SSD/Windows 11 Home) 15IML05 Thin and Light Laptop', 4.856645112420358)] \n",
      "\n",
      "Ujjwal Kumar ->  [('OPPO A54 (Crystal Black, 64 GB)', 5.036320630767274), ('APPLE MacBook Air M1 - (8 GB/512 GB SSD/Mac OS Big Sur) Z12A000D3', 5.015567249889013), ('realme Narzo 50A (Oxygen Green, 64 GB)', 5.005463059610931), ('APPLE iPhone 12 Mini (White, 64 GB)', 5.003602499560482), ('APPLE iPhone 12 Mini (Blue, 64 GB)', 4.964278248427571)] \n",
      "\n",
      "Ashish  Kumar ->  [('APPLE iPhone 12 (White, 256 GB)', 4.956617831986216), ('APPLE iPhone 12 (Red, 128 GB)', 4.898404437197399), ('realme Narzo 30 (Racing Blue, 64 GB)', 4.896082575586637), ('Infinix Hot 11S (7° Purple, 128 GB)', 4.888615180968193), ('Infinix Hot 11S (Silver Wave, 64 GB)', 4.847033947328568)] \n",
      "\n",
      "SUNIL KUMAR ->  [('APPLE iPhone SE (Black, 128 GB)', 4.950933703563603), ('APPLE iPhone SE (Red, 64 GB)', 4.815182024910017), ('realme 8s 5G (Universe Purple, 128 GB)', 4.699706253441752), ('realme 8s 5G (Universe Blue, 128 GB)', 4.663930291434108), ('realme Narzo 50A (Oxygen Blue, 64 GB)', 4.662097223974092)] \n",
      "\n",
      "Sourav Sarkar ->  [('APPLE iPhone 11 (Red, 64 GB)', 4.937682914767652), ('APPLE iPhone 11 (Yellow, 128 GB)', 4.8554455010877735), ('POCO M3 (Power Black, 64 GB)', 4.762258382993979), ('REDMI 9 Power (Mighty Black, 64 GB)', 4.710779833282351), ('realme C25s (Watery Blue, 128 GB)', 4.587411573017994)] \n",
      "\n",
      "Rajan Kumar ->  [('SAMSUNG Metro 313 Dual Sim', 4.769989904315964), ('Infinix Hot 10 (Amber Red, 64 GB)', 4.7275725323794475), ('MOTOROLA G60 (Frosted Champagne, 128 GB)', 4.655872166088707), ('realme X7 5G (Space Silver, 128 GB)', 4.6003488730813356), ('vivo V21e (Dark Pearl, 128 GB)', 4.503479824702226)] \n",
      "\n",
      "Uday Kumar ->  [('APPLE iPhone 11 (Black, 64 GB)', 4.9100507453678075), ('APPLE iPhone 12 (Purple, 64 GB)', 4.8752669762790415), ('APPLE iPhone 12 (Green, 64 GB)', 4.855702262206008), ('Infinix Smart 5A (Quetzal Cyan, 32 GB)', 4.8510192053074865), ('APPLE iPhone 12 (Red, 128 GB)', 4.813728755364738)] \n",
      "\n",
      "Karan Singh ->  [('realme Narzo 50i (Mint Green, 32 GB)', 4.982047380009088), ('APPLE iPhone 11 (White, 128 GB)', 4.9670015698750145), ('APPLE iPhone 11 (Black, 128 GB)', 4.895082638225231), ('realme 8 5G (Supersonic Black, 128 GB)', 4.684808439809879), ('OPPO A12 (Blue, 64 GB)', 4.479318624531526)] \n",
      "\n",
      "Amit  Kumar  ->  [('APPLE iPhone 12 (Black, 64 GB)', 5.012467959818838), ('APPLE iPhone SE (Black, 64 GB)', 4.850886420258323), ('Infinix Hot 10 (Ocean Wave, 64 GB)', 4.8043603704371804), ('realme C20 (Cool Grey, 32 GB)', 4.690281440967947), ('MOTOROLA G60 (Soft Silver, 128 GB)', 4.689680888665017)] \n",
      "\n",
      "Amit  Kumar ->  [('APPLE iPhone SE (White, 128 GB)', 4.693403072978777), ('APPLE iPhone SE (Black, 64 GB)', 4.675445301644204), ('SAMSUNG Galaxy F12 (Sky Blue, 128 GB)', 4.542711706981014), ('vivo Y21 (Diamond Glow, 64 GB)', 4.419608876298027), ('vivo V21 5G (Dusk Blue, 128 GB)', 4.412609312718248)] \n",
      "\n",
      "UNBOX  4 YOU ->  [('OPPO A33 (Mint Cream, 32 GB)', 5.243721056192992), ('realme C21 (Cross Black, 32 GB)', 5.160101272119457), ('Infinix Hot 11S (Green Wave, 128 GB)', 5.050161332358904), ('realme C21 (Cross Blue, 32 GB)', 5.013067693376043), ('realme 8 5G (Supersonic Black, 64 GB)', 4.998991476251428)] \n",
      "\n",
      "RAVI KUMAR ->  [('APPLE iPhone 12 (White, 256 GB)', 4.898878192638489), ('realme Narzo 30 (Racing Blue, 64 GB)', 4.8972681092284684), ('Infinix Hot 10 (Amber Red, 64 GB)', 4.828552009117075), ('Infinix Hot 10 (Ocean Wave, 64 GB)', 4.809647630856107), ('realme 8i (Space Purple, 128 GB)', 4.744370274523453)] \n",
      "\n",
      "Pradeep Sharma ->  [('APPLE iPhone 11 (White, 128 GB)', 5.055156507793471), ('APPLE iPhone 12 (Purple, 64 GB)', 5.002050079329037), ('realme Narzo 50A (Oxygen Green, 128 GB)', 4.99746761899727), ('APPLE iPhone 11 (Black, 128 GB)', 4.974871933091732), ('APPLE iPhone 11 (Yellow, 128 GB)', 4.869170721300971)] \n",
      "\n",
      "Aamir Khan ->  [('APPLE iPhone 11 (White, 128 GB)', 5.1622940518639755), ('APPLE iPhone 11 (Purple, 128 GB)', 5.155438829282776), ('APPLE iPhone 11 (Black, 64 GB)', 5.1086454561218355), ('APPLE iPhone 11 (Green, 128 GB)', 5.0914709839123296), ('APPLE iPhone 11 (Purple, 64 GB)', 5.051916959215329)] \n",
      "\n",
      "Amit Chauhan ->  [('Xiaomi 11i 5G (Pacific Pearl, 128 GB)', 4.747228807836733), ('APPLE iPhone 12 (Black, 64 GB)', 4.548831777215758), ('realme Narzo 30 5G (Racing Silver, 128 GB)', 4.534258679443069), ('APPLE iPhone 12 (Green, 64 GB)', 4.436414030815643), ('REDMI Note 9 (Pebble Grey, 128 GB)', 3.9017377936206046)] \n",
      "\n",
      "Anand ->  [('realme C25Y (Metal Grey, 128 GB)', 4.804226316702942), ('realme Narzo 50A (Oxygen Green, 128 GB)', 4.794769203324508), ('MOTOROLA E7 Power (Tahiti Blue, 64 GB)', 4.68891697655039), ('POCO C3 (Arctic Blue, 32 GB)', 4.400881581745974), ('vivo Y73 (Diamond Flare, 128 GB)', 4.334625042773357)] \n",
      "\n",
      "Venkatesh ->  [('POCO M3 (Power Black, 64 GB)', 4.820629921689641), ('REDMI Note 10S (Cosmic Purple, 128 GB)', 4.672990743028395), ('realme GT Master Edition (Voyager Grey, 256 GB)', 4.647313418018602), ('realme 8 (Cyber Black, 128 GB)', 4.483909643104566), ('Nokia 105 DS 2020', 4.30102290159801)] \n",
      "\n",
      "Suraj Yadav ->  [('APPLE iPhone 11 (Purple, 64 GB)', 4.890248621095705), ('APPLE iPhone 11 (Black, 64 GB)', 4.7767145800163595), ('APPLE iPhone 11 (Purple, 128 GB)', 4.670276344622981), ('APPLE iPhone 11 (White, 128 GB)', 4.630378870960461), ('APPLE iPhone 11 (Yellow, 128 GB)', 4.603247116684577)] \n",
      "\n",
      "Sahil Khan ->  [('realme 8 5G (Supersonic Black, 64 GB)', 5.02234018971928), ('APPLE iPhone 12 (White, 256 GB)', 4.927037582494189), ('APPLE iPhone 12 (Green, 64 GB)', 4.828263834779939), ('APPLE iPhone 12 (Black, 64 GB)', 4.826364712868411), ('realme C21 (Cross Blue, 64 GB)', 4.8169560344125175)] \n",
      "\n",
      "ANIL KUMAR ->  [('Infinix Smart 5 (Morandi Green, 32 GB)', 5.082455032170771), ('APPLE iPhone 11 (Green, 128 GB)', 4.962727630946945), ('APPLE iPhone 11 (Red, 64 GB)', 4.938793571264053), ('ASUS VivoBook Ultra 14 Core i3 11th Gen - (8 GB/512 GB SSD/Windows 10 Home) X413EA-EB322TS Thin and Light Laptop', 4.898803232172931), ('realme Narzo 30 (Racing Blue, 64 GB)', 4.822897044463322)] \n",
      "\n",
      "Sanjeet Kumar ->  [('APPLE iPhone 11 (Purple, 128 GB)', 4.916272023845081), ('Infinix Hot 11S (Silver Wave, 64 GB)', 4.883094447884796), ('Infinix Hot 11S (Green Wave, 128 GB)', 4.882823456674919), ('APPLE iPhone 12 Mini (White, 64 GB)', 4.844156489542196), ('Infinix Smart 5A (Ocean Wave, 32 GB)', 4.73943102942555)] \n",
      "\n",
      "Dhananjay Kumar ->  [('APPLE iPhone 12 (Black, 64 GB)', 4.879639341518095), ('REDMI Note 9 (Shadow Black, 64 GB)', 4.802092075524408), ('POCO C3 (Matte Black, 32 GB)', 4.7933689619093975), ('Infinix Smart 5 (Aegean Blue, 32 GB)', 4.735929634405787), ('Infinix Smart 5A (Midnight Black, 32 GB)', 4.6661157769285175)] \n",
      "\n",
      "Aman Gupta ->  [('APPLE iPhone 12 Mini (Black, 64 GB)', 5.064576075996241), ('APPLE iPhone 12 Mini (White, 64 GB)', 5.053569147505228), ('APPLE iPhone 12 (Blue, 64 GB)', 4.996350244086329), ('SAMSUNG Galaxy F12 (Sea Green, 128 GB)', 4.959039854560158), ('Xiaomi 11i Hypercharge 5G (Purple Mist, 128 GB)', 4.868839557770224)] \n",
      "\n",
      "Ankit  Kumar ->  [('POCO M2 Pro (Two Shades of Black, 64 GB)', 4.605054109360402), ('REDMI 9 Power (Mighty Black, 64 GB)', 4.479873368049497), ('POCO X3 (Cobalt Blue, 64 GB)', 4.473617454493066), ('POCO M3 (Cool Blue, 64 GB)', 4.37596355610493), ('vivo T1 5G (Rainbow Fantasy, 128 GB)', 4.371649677650513)] \n",
      "\n",
      "Naveen ->  [('APPLE iPhone SE (White, 64 GB)', 4.852152022573079), ('Infinix Smart 5A (Midnight Black, 32 GB)', 4.6693301281900474), ('SAMSUNG Galaxy F22 (Denim Black, 128 GB)', 4.6029052811367555), ('vivo V21 5G (Arctic White, 128 GB)', 4.58012253526231), ('Infinix Hot 10 (Ocean Wave, 64 GB)', 4.564606733622626)] \n",
      "\n",
      "Aditya Singh ->  [('REDMI Note 9 (Aqua Green, 64 GB)', 4.887689105520575), ('SAMSUNG Galaxy F12 (Sea Green, 64 GB)', 4.882437310644127), ('SAMSUNG Galaxy F12 (Celestial Black, 64 GB)', 4.866388870086227), ('OPPO A54 (Moonlight Gold, 64 GB)', 4.727497208743078), ('POCO M2 Pro (Out of the Blue, 64 GB)', 4.722018040893424)] \n",
      "\n",
      "Satendra Kumar ->  [('Infinix Smart 5A (Quetzal Cyan, 32 GB)', 5.095497684590784), ('APPLE iPhone 12 (Blue, 64 GB)', 5.077891835334208), ('APPLE iPhone 12 (Red, 128 GB)', 5.076862889660339), ('SAMSUNG Galaxy F12 (Sea Green, 128 GB)', 4.977310073897477), ('realme Narzo 30 (Racing Blue, 64 GB)', 4.974720009966774)] \n",
      "\n",
      "Vicky Kumar ->  [('APPLE iPhone 11 (Purple, 128 GB)', 4.862317547560922), ('APPLE iPhone 11 (Black, 64 GB)', 4.844237358939472), ('APPLE iPhone 11 (Yellow, 64 GB)', 4.804635623495177), ('APPLE iPhone 12 (Blue, 64 GB)', 4.7952050327671705), ('APPLE iPhone 11 (Green, 128 GB)', 4.726610197832181)] \n",
      "\n",
      "Mani Kandan ->  [('APPLE iPhone SE (Red, 64 GB)', 4.939817976763309), ('POCO M2 Pro (Green and Greener, 64 GB)', 4.684744034125934), ('Infinix Note 10 Pro (95° Black, 256 GB)', 4.559386259489254), ('REDMI 9 Power (Fiery Red, 64 GB)', 4.552923025945272), ('REDMI Note 9 (Aqua Green, 64 GB)', 4.346781420440797)] \n",
      "\n",
      "Himanshu Verma ->  [('SAMSUNG Metro 313 Dual Sim', 5.104645518350095), ('Infinix Hot 10 Play (7° Purple, 64 GB)', 4.983841997487797), ('realme Narzo 50A (Oxygen Green, 128 GB)', 4.884184462322524), ('realme C11 2021 (Cool Blue, 32 GB)', 4.868209480958212), ('realme C25_Y (Glacier Blue, 64 GB)', 4.850500148237795)] \n",
      "\n",
      "Satyendra Kumar ->  [('realme 8s 5G (Universe Purple, 128 GB)', 5.020640805220926), ('REDMI 9 Prime (Matte Black, 64 GB)', 4.870080885968504), ('realme C25_Y (Metal Grey, 128 GB)', 4.539702468654456), ('REDMI 10 Prime (Astral White, 64 GB)', 4.318518775855342), ('OPPO Reno6 5G (Aurora, 128 GB)', 4.05180065414076)] \n",
      "\n",
      "Sanjeev  Kumar ->  [('OPPO A33 (Mint Cream, 32 GB)', 4.886531709298435), ('realme 8 (Cyber Silver, 128 GB)', 4.776420518730651), ('realme C21 (Cross Black, 32 GB)', 4.514336870298719), ('realme 8s 5G (Universe Purple, 128 GB)', 4.435189811449844), ('OPPO A12 (Deep Blue, 32 GB)', 4.419864960491437)] \n",
      "\n",
      "Rahul Chaudhary ->  [('APPLE iPhone 11 (Green, 128 GB)', 5.0300057125661315), ('APPLE iPhone 11 (Black, 128 GB)', 5.003363145442863), ('realme C21 (Cross Blue, 64 GB)', 4.855689664225844), ('OPPO Reno6 5G (Aurora, 128 GB)', 4.7769212015631215), ('realme 8 (Cyber Silver, 128 GB)', 4.688745303409982)] \n",
      "\n",
      "Abhishek Raj ->  [('APPLE iPhone SE (White, 64 GB)', 4.90349476858727), ('APPLE iPhone 12 (Blue, 64 GB)', 4.843234181463983), ('realme 9 Pro 5G (Aurora Green, 128 GB)', 4.609451270252099), ('REDMI Note 10S (Cosmic Purple, 128 GB)', 4.450974284109162), ('POCO M2 Pro (Green and Greener, 64 GB)', 4.437147722157951)] \n",
      "\n",
      "Anand Raj ->  [('APPLE iPhone 11 (White, 128 GB)', 5.0719476555543475), ('APPLE iPhone 11 (Yellow, 64 GB)', 5.025098646344333), ('APPLE iPhone 11 (Purple, 128 GB)', 5.022815694933833), ('APPLE iPhone 11 (Red, 64 GB)', 4.982640774117605), ('APPLE iPhone 11 (Yellow, 128 GB)', 4.97876471415563)] \n",
      "\n",
      "Abhi ->  [('APPLE iPhone 11 (Yellow, 64 GB)', 5.006548882611172), ('APPLE iPhone 11 (White, 128 GB)', 4.992984094558543), ('APPLE iPhone 11 (Red, 64 GB)', 4.803991146377901), ('OPPO A53s 5G (Ink Black, 128 GB)', 4.483770807936111), ('POCO M3 (Power Black, 128 GB)', 4.395360603931836)] \n",
      "\n",
      "Ramesh Ramesh ->  [('Nokia TA-1304/105 SS', 4.893916677140105), ('realme Narzo 20 (Victory Blue, 128 GB)', 4.851051199032276), ('SAMSUNG Galaxy F12 (Celestial Black, 128 GB)', 4.8273513964852075), ('vivo V21 5G (Dusk Blue, 128 GB)', 4.743871554138011), ('LAVA GEM', 4.62203414062474)] \n",
      "\n",
      "Arvind Kumar ->  [('APPLE iPhone 12 (Black, 128 GB)', 4.559702574163911), ('APPLE iPhone SE (Red, 128 GB)', 4.5336581341055755), ('APPLE iPhone SE (Black, 64 GB)', 4.525946389792433), ('SAMSUNG Galaxy F12 (Sea Green, 128 GB)', 4.434270598680684), ('SAMSUNG Galaxy F12 (Celestial Black, 64 GB)', 4.4220330358817375)] \n",
      "\n",
      "Vikas Gupta ->  [('APPLE iPhone 12 (Purple, 64 GB)', 4.765843619978869), ('APPLE iPhone 12 (Red, 128 GB)', 4.74355690653695), ('Infinix Hot 10 (Ocean Wave, 64 GB)', 4.71126884607839), ('realme C21 (Cross Black, 64 GB)', 4.707497261493071), ('OPPO Reno6 5G (Aurora, 128 GB)', 4.6898536058732025)] \n",
      "\n",
      "praveen kumar ->  [('APPLE iPhone 12 (Black, 64 GB)', 4.430032947503601), ('Infinix Smart 5A (Ocean Wave, 32 GB)', 4.392556158159551), ('APPLE iPhone 12 (Red, 128 GB)', 4.365249618821581), ('REDMI Note 9 (Shadow Black, 64 GB)', 4.250959299186247), ('REDMI 9 Power (Blazing Blue, 64 GB)', 4.229811551564005)] \n",
      "\n",
      "Anil ->  [('APPLE iPhone 12 (Red, 128 GB)', 5.04280809589828), ('APPLE iPhone 12 (Purple, 64 GB)', 4.89056602333241), ('Nokia TA-1304/105 SS', 4.880018525215487), ('APPLE iPhone 12 (White, 256 GB)', 4.821402665075021), ('realme C25 (Watery Grey, 64 GB)', 4.7728394680134025)] \n",
      "\n",
      "Manish Singh ->  [('APPLE iPhone 11 (White, 128 GB)', 4.781355822672819), ('APPLE iPhone 11 (Purple, 64 GB)', 4.614982095670309), ('POCO M3 Pro 5G (Cool Blue, 128 GB)', 4.536237818971717), ('realme C21 (Cross Black, 64 GB)', 4.3135552685380665), ('Infinix Smart 5 (7 Purple, 32 GB)', 4.273129875849535)] \n",
      "\n",
      "Ayush Kumar ->  [('APPLE iPhone SE (Red, 128 GB)', 4.868896602771525), ('APPLE iPhone SE (Black, 128 GB)', 4.829348128689999), ('realme 8s 5G (Universe Purple, 128 GB)', 4.643010343180152), ('realme 8 (Cyber Silver, 128 GB)', 4.591791620029469), ('realme Narzo 50A (Oxygen Green, 64 GB)', 4.573435160672165)] \n",
      "\n",
      "Devendra Singh ->  [('APPLE iPhone 11 (Red, 64 GB)', 4.959259006484051), ('APPLE iPhone 11 (Purple, 64 GB)', 4.940412705731867), ('APPLE iPhone 11 (Black, 128 GB)', 4.89057130823836), ('APPLE iPhone 11 (Purple, 128 GB)', 4.817325151377349), ('APPLE iPhone 11 (White, 64 GB)', 4.803248205830559)] \n",
      "\n",
      "Sanjay Yadav ->  [('Infinix Hot 11S (Silver Wave, 128 GB)', 4.894995865653955), ('Infinix Hot 11S (7° Purple, 64 GB)', 4.851292266645407), ('Infinix Hot 11S (Polar Black, 64 GB)', 4.737939257513866), ('Infinix Hot 10 (Ocean Wave, 64 GB)', 4.708428907983105), ('Infinix Hot 10 (Amber Red, 64 GB)', 4.6742088881108526)] \n",
      "\n",
      "DEEPAK KUMAR ->  [('APPLE iPhone 12 (Red, 128 GB)', 4.892501890650108), ('Infinix Hot 10 Play (Aegean Blue, 64 GB)', 4.827191433314213), ('ASUS Ryzen 3 Dual Core 3250U 3rd Gen - (8 GB/256 GB SSD/Windows 10 Home) M515DA-BQ322TS Thin and Light Laptop', 4.812639960722206), ('SAMSUNG Galaxy F12 (Celestial Black, 64 GB)', 4.707282596821051), ('APPLE iPhone 12 (Purple, 64 GB)', 4.648489327953157)] \n",
      "\n",
      "vinod kumar ->  [('Infinix Hot 10 Play (Obsidian Black, 64 GB)', 4.839689825221602), ('Nokia TA-1174 / TA-1299', 4.745510871694897), ('POCO M2 Pro (Green and Greener, 64 GB)', 4.576325989780406), ('MOTOROLA E7 Power (Tahiti Blue, 64 GB)', 4.565311247576242), ('OPPO A53s 5G (Ink Black, 128 GB)', 4.532317842711957)] \n",
      "\n",
      "Ritesh Singh ->  [('POCO M3 (Power Black, 64 GB)', 4.964485222378452), ('Infinix Note 11 (Glacier Green, 64 GB)', 4.951138267559218), ('OPPO Reno6 5G (Stellar Black, 128 GB)', 4.922316411776099), ('MOTOROLA E7 Power (Tahiti Blue, 64 GB)', 4.883688883026384), ('REDMI 9i Sport (Metallic Blue, 64 GB)', 4.835138259678001)] \n",
      "\n",
      "Nitish  Kumar ->  [('APPLE iPhone 12 (Green, 64 GB)', 4.985511119633973), ('SAMSUNG Galaxy F12 (Celestial Black, 64 GB)', 4.949699156295962), ('REDMI Note 10 Pro (Dark Nebula, 128 GB)', 4.8739583449481625), ('OPPO A33 (Moonlight Black, 32 GB)', 4.87032478831014), ('realme C21Y (Cross Black, 32 GB)', 4.850334098917818)] \n",
      "\n",
      "Anish Kumar ->  [('REDMI 9i (Midnight Black, 64 GB)', 4.794459806667465), ('Infinix Smart 5 (Morandi Green, 32 GB)', 4.709857974273408), ('POCO X3 (Cobalt Blue, 64 GB)', 4.682821382477479), ('POCO X3 (Shadow Gray, 64 GB)', 4.604578349680237), ('Infinix Hot 10 (Amber Red, 64 GB)', 4.556737232390177)] \n",
      "\n",
      "Akash Singh ->  [('APPLE iPhone 13 Mini ((PRODUCT)RED, 128 GB)', 4.957036028933928), ('Infinix Hot 11S (Green Wave, 128 GB)', 4.9501058059112735), ('Infinix Hot 11S (Green Wave, 64 GB)', 4.892398473939836), ('Infinix Hot 11S (7° Purple, 64 GB)', 4.881462371996807), ('APPLE iPhone 12 Mini (Black, 64 GB)', 4.737088512350107)] \n",
      "\n",
      "Ajay Verma ->  [('realme 8 5G (Supersonic Black, 128 GB)', 4.581268238950138), ('REDMI 9 Power (Fiery Red, 64 GB)', 4.454579651587105), ('realme Narzo 30 (Racing Silver, 64 GB)', 4.18354584807542), ('REDMI Note 9 (Aqua Green, 64 GB)', 4.126744669475059), ('realme C21Y (Cross Black, 64 GB)', 4.02681547693376)] \n",
      "\n",
      "Dev Kumar ->  [('realme C25Y (Glacier Blue, 128 GB)', 4.801765860060781), ('REDMI Note 9 (Aqua Green, 64 GB)', 4.7335847517377925), ('APPLE iPhone 12 (Black, 128 GB)', 4.684798684477255), ('Micromax IN Note 1 (Green, 64 GB)', 4.683624829201362), ('Kechaoda K116 Plus', 4.627981631737156)] \n",
      "\n",
      "Abhi Verma ->  [('Infinix Hot 10 Play (Aegean Blue, 64 GB)', 5.033166071107406), ('Infinix Hot 10 Play (Obsidian Black, 64 GB)', 5.0184834479515485), ('REDMI 9 Prime (Matte Black, 64 GB)', 4.993141794493671), ('POCO C3 (Arctic Blue, 32 GB)', 4.961105038651322), ('Infinix Smart 5A (Midnight Black, 32 GB)', 4.954129252362681)] \n",
      "\n",
      "SANTOSH KUMAR ->  [('realme C21Y (Cross Black, 32 GB)', 5.0737564319919235), ('SAMSUNG Galaxy F12 (Sea Green, 64 GB)', 4.986204496584531), ('SAMSUNG Galaxy F12 (Sky Blue, 64 GB)', 4.971474092473836), ('SAMSUNG Galaxy F12 (Sky Blue, 128 GB)', 4.9679878311377665), ('SAMSUNG Galaxy F12 (Sea Green, 128 GB)', 4.942389698699109)] \n",
      "\n",
      "Saurabh Kumar ->  [('SAMSUNG Galaxy F12 (Sea Green, 64 GB)', 4.932175966895833), ('REDMI 9 Power (Mighty Black, 64 GB)', 4.675894099509824), ('REDMI 9 Power (Mighty Black, 64 GB)', 4.675894099509824), ('SAMSUNG Galaxy F12 (Celestial Black, 128 GB)', 4.667711702327216), ('REDMI 9 Power (Fiery Red, 64 GB)', 4.631675330759114)] \n",
      "\n",
      "Chandan Singh ->  [('APPLE iPhone SE (Black, 64 GB)', 4.845610700561743), ('APPLE iPhone SE (Red, 128 GB)', 4.757897286198801), ('Infinix Hot 10 (Amber Red, 64 GB)', 4.733892461824086), ('OPPO A12 (Black, 32 GB)', 4.730462117891894), ('realme Narzo 50i (Carbon Black, 32 GB)', 4.623276456784355)] \n",
      "\n",
      "Rohit Gupta ->  [('OPPO A12 (Deep Blue, 32 GB)', 5.08746335561603), ('Infinix Smart 5A (Quetzal Cyan, 32 GB)', 5.032620089419232), ('realme 8 (Cyber Silver, 128 GB)', 4.931643867161801), ('OPPO A12 (Blue, 32 GB)', 4.921474566164666), ('SAMSUNG Galaxy F12 (Sea Green, 128 GB)', 4.801195555027572)] \n",
      "\n",
      "Vishal Yadav ->  [('realme 8 5G (Supersonic Blue, 128 GB)', 4.856403379941393), ('Infinix Hot 10 Play (Obsidian Black, 64 GB)', 4.826339618526777), ('REDMI 9 Power (Mighty Black, 64 GB)', 4.8039484201678535), ('REDMI 9 Power (Blazing Blue, 64 GB)', 4.697489697237928), ('realme 8 (Cyber Black, 128 GB)', 4.461044646801551)] \n",
      "\n",
      "Sai Kumar ->  [('realme C25Y (Glacier Blue, 128 GB)', 4.244107471936237), ('vivo Y73 (Diamond Flare, 128 GB)', 4.16072512917049), ('I Kall K3310', 4.155089098581535), ('Nokia TA-1304/105 SS', 4.155066239934043), ('POCO C31 (Royal Blue, 32 GB)', 4.152606858396559)] \n",
      "\n",
      "suraj kumar ->  [('APPLE iPhone 11 (White, 64 GB)', 4.876201817899166), ('APPLE iPhone 11 (Green, 128 GB)', 4.873989068654524), ('APPLE iPhone 11 (Yellow, 64 GB)', 4.8698042752457065), ('REDMI Note 10 Pro (Vintage Bronze, 128 GB)', 4.7440560434623285), ('Infinix Hot 10S (95° Black, 64 GB)', 4.688314371129298)] \n",
      "\n",
      "Amir Khan ->  [('MOTOROLA E7 Power (Coral Red, 64 GB)', 4.833377264178078), ('realme Narzo 30 (Racing Silver, 64 GB)', 4.665488734026992), ('APPLE iPhone 11 (Purple, 128 GB)', 4.64086921723789), ('APPLE iPhone 11 (Yellow, 64 GB)', 4.586294390352556), ('APPLE iPhone 11 (Black, 128 GB)', 4.459164593177084)] \n",
      "\n",
      "anil kumar ->  [('APPLE iPhone 11 (White, 128 GB)', 4.6529362861088055), ('Nokia 105 DS 2020', 4.644561167767908), ('APPLE iPhone 11 (Yellow, 64 GB)', 4.568934603605464), ('APPLE iPhone 11 (Red, 64 GB)', 4.438300291112474), ('MOTOROLA E7 Plus (Misty Blue, 64 GB)', 4.408532659175318)] \n",
      "\n",
      "Satya Prakash ->  [('APPLE iPhone 12 (Red, 128 GB)', 4.982835816072952), ('APPLE iPhone 12 (Black, 64 GB)', 4.953813399021554), ('POCO M3 (Power Black, 128 GB)', 4.360807806580801), ('Itel Magic2 4G (WiFi, Hotspot Tethering)', 4.348188356679881), ('REDMI 9 Power (Mighty Black, 64 GB)', 4.297513817436274)] \n",
      "\n",
      "Devendra Kumar ->  [('SAMSUNG Galaxy F12 (Sky Blue, 64 GB)', 4.900630507509813), ('SAMSUNG Galaxy F12 (Sea Green, 128 GB)', 4.84444441964961), ('Redmi 9 (Carbon Black, 64 GB)', 4.807463856380731), ('OPPO A53s 5G (Ink Black, 128 GB)', 4.776092171760154), ('Infinix Smart 5A (Midnight Black, 32 GB)', 4.7758998993922575)] \n",
      "\n",
      "Rajesh  Kumar  ->  [('realme Narzo 30 (Racing Silver, 128 GB)', 5.081170343004253), ('REDMI 9i (Midnight Black, 64 GB)', 4.776029207508812), ('realme Narzo 30 5G (Racing Blue, 128 GB)', 4.66903765090908), ('REDMI 9i (Nature Green, 64 GB)', 4.577463556088745), ('realme 8 (Cyber Silver, 128 GB)', 4.5773059862226635)] \n",
      "\n",
      "Rahul kumar ->  [('OPPO A31 (Lake Green, 64 GB)', 5.140087041616208), ('SAMSUNG Galaxy F12 (Sky Blue, 128 GB)', 4.88810742669316), ('SAMSUNG Galaxy F12 (Sea Green, 64 GB)', 4.8656141255916925), ('Infinix Note 11 (Celestial Snow, 128 GB)', 4.834024419662513), ('POCO M3 (Power Black, 128 GB)', 4.807545452518406)] \n",
      "\n",
      "Mahesh Kumar ->  [('APPLE iPhone 12 (Red, 128 GB)', 4.994451768371138), ('APPLE iPhone 12 (Black, 64 GB)', 4.959652310265028), ('MOTOROLA g31 (Baby Blue, 64 GB)', 4.862234455832704), ('Infinix Hot 11S (Polar Black, 64 GB)', 4.83550114946169), ('Infinix Smart 5A (Quetzal Cyan, 32 GB)', 4.821726007042222)] \n",
      "\n",
      "Imran Shaikh ->  [('SAMSUNG GT-E1215', 4.652134729216596), ('realme Narzo 50i (Carbon Black, 32 GB)', 4.4285043751812765), ('realme 9 Pro 5G (Aurora Green, 128 GB)', 4.322364081000308), ('realme 8 Pro (Infinite Black, 128 GB)', 4.253193520245751), ('realme Narzo 50i (Mint Green, 32 GB)', 4.248820286319939)] \n",
      "\n",
      "Vinay ->  [('APPLE iPhone 12 (Green, 64 GB)', 4.921657873834441), ('APPLE iPhone 12 Mini (Black, 64 GB)', 4.917305753054922), ('APPLE iPhone 12 (Black, 128 GB)', 4.835282755839589), ('realme 8 5G (Supersonic Blue, 128 GB)', 4.6574212349977175), ('Nokia 105 SS 2021', 4.299869814589436)] \n",
      "\n",
      "Pankaj Singh ->  [('APPLE iPhone 12 (Green, 64 GB)', 5.062899173238061), ('APPLE iPhone 12 (White, 256 GB)', 5.018825894571032), ('Infinix Hot 11S (7° Purple, 128 GB)', 4.970286783376754), ('Infinix Smart HD 2021 (Quartz Green, 32 GB)', 4.878279538195651), ('realme C21 (Cross Blue, 32 GB)', 4.860274993358395)] \n",
      "\n",
      "PANKAJ KUMAR ->  [('APPLE iPhone 13 (Pink, 128 GB)', 4.801107329364665), ('APPLE iPhone 13 ((PRODUCT)RED, 256 GB)', 4.770470686928991), ('realme Narzo 30 5G (Racing Silver, 128 GB)', 4.68726702131914), ('realme C25s (Watery Grey, 128 GB)', 4.452728537434836), ('SAMSUNG Guru Music 2', 4.447432930032505)] \n",
      "\n",
      "Sonu Yadav ->  [('Infinix Hot 10 Play (Aegean Blue, 64 GB)', 5.035230836533892), ('Infinix Hot 10 Play (Obsidian Black, 64 GB)', 5.008604189740893), ('realme C21Y (Cross Black, 32 GB)', 5.000500442588024), ('OPPO A15S (Rainbow Silver, 64 GB)', 4.982707516422425), ('Micromax IN Note 1 (White, 64 GB)', 4.981260032003339)] \n",
      "\n",
      "ravi kumar ->  [('APPLE iPhone 11 (Purple, 64 GB)', 4.987967632175333), ('APPLE iPhone 11 (Black, 64 GB)', 4.890034781219457), ('MOTOROLA G60 (Frosted Champagne, 128 GB)', 4.839459869266767), ('SAMSUNG Metro 313 Dual Sim', 4.781675729194668), ('realme Narzo 20 (Victory Blue, 128 GB)', 4.7312525094036335)] \n",
      "\n",
      "Ashish Verma ->  [('Infinix Note 11 (Celestial Snow, 64 GB)', 4.896159347455891), ('MOTOROLA G60 (Soft Silver, 128 GB)', 4.855546730779233), ('POCO M3 (Power Black, 64 GB)', 4.808998042312386), ('Infinix Note 11 (Glacier Green, 64 GB)', 4.740120773265664), ('REDMI 9 Power (Blazing Blue, 64 GB)', 4.729689436943273)] \n",
      "\n",
      "Aman Yadav ->  [('APPLE iPhone 12 (Green, 64 GB)', 5.078343951589597), ('REDMI 9 Prime (Matte Black, 64 GB)', 5.052970905824013), ('APPLE iPhone 12 (White, 64 GB)', 5.037887172364589), ('realme C25_Y (Glacier Blue, 64 GB)', 4.916128419035955), ('realme C11 2021 (Cool Blue, 32 GB)', 4.81104738536993)] \n",
      "\n",
      "Bipin Kumar ->  [('SAMSUNG Galaxy F22 (Denim Black, 128 GB)', 5.010182525514415), ('realme GT Master Edition (Luna White, 128 GB)', 4.849676048182729), ('realme Narzo 30 (Racing Silver, 64 GB)', 4.75016809581515), ('OPPO A12 (Black, 32 GB)', 4.643853229248703), ('realme 8 (Cyber Black, 128 GB)', 4.640393122435238)] \n",
      "\n",
      "sandeep singh ->  [('APPLE iPhone 12 Mini (Blue, 64 GB)', 4.915725616590235), ('Infinix Smart 5A (Quetzal Cyan, 32 GB)', 4.8494206582011525), ('POCO M2 Pro (Out of the Blue, 64 GB)', 4.682515557777153), ('APPLE iPhone 12 (Green, 64 GB)', 4.672158699780166), ('APPLE iPhone 12 (White, 64 GB)', 4.628423214423275)] \n",
      "\n",
      "Kishore Kumar ->  [('APPLE iPhone 11 (Green, 128 GB)', 5.003702412108378), ('APPLE iPhone 11 (Black, 128 GB)', 4.952572696271306), ('POCO M3 (Cool Blue, 64 GB)', 4.864337461141473), ('realme Narzo 50A (Oxygen Green, 128 GB)', 4.761733142336889), ('realme GT Master Edition (Cosmos Black, 128 GB)', 4.728923460232151)] \n",
      "\n",
      "Anil kumar ->  [('realme 8 5G (Supersonic Blue, 128 GB)', 4.8240169038224465), ('REDMI 9 Power (Blazing Blue, 64 GB)', 4.819562976610033), ('realme 8 5G (Supersonic Black, 64 GB)', 4.7595614714279355), ('realme 8 5G (Supersonic Black, 128 GB)', 4.6806980275555885), ('OPPO A53s 5G (Crystal Blue, 128 GB)', 4.550936393287952)] \n",
      "\n",
      "ARUN KUMAR ->  [('Infinix Hot 11 (Silver Wave, 64 GB)', 4.805272901584178), ('realme Narzo 50A (Oxygen Green, 64 GB)', 4.7464637428229866), ('realme C11 2021 (Cool Blue, 64 GB)', 4.7338513212803885), ('OPPO F17 Pro (Matte Black, 128 GB)', 4.667031505960312), ('realme 8i (Space Black, 128 GB)', 4.59341913279793)] \n",
      "\n",
      "Sandeep ->  [('APPLE 2020 Macbook Air M1 - (8 GB/256 GB SSD/Mac OS Big Sur) MGND3HN/A', 4.86651219621585), ('APPLE iPhone 12 (Purple, 64 GB)', 4.755767851121766), ('APPLE iPhone 12 (Red, 128 GB)', 4.718450884943555), ('OPPO A12 (Black, 32 GB)', 4.715815677653015), ('APPLE iPhone 12 Mini (Blue, 64 GB)', 4.66711059542071)] \n",
      "\n",
      "SANDEEP KUMAR ->  [('APPLE iPhone 12 (Green, 64 GB)', 4.910462322545765), ('APPLE iPhone 12 (White, 256 GB)', 4.885828790246055), ('Infinix Smart 5A (Ocean Wave, 32 GB)', 4.867938652988548), ('OPPO A12 (Deep Blue, 32 GB)', 4.816152862003754), ('REDMI 9i Sport (Metallic Blue, 64 GB)', 4.756827199431407)] \n",
      "\n",
      "Jitendra Yadav ->  [('HP HP Pavilion Ryzen 5 Hexa Core 4600H - (8 GB/512 GB SSD/Windows 10 Home/4 GB Graphics/NVIDIA GeForce GTX 1650Ti/144 Hz) 15-ec1025AX Gaming Laptop', 4.9852236839591475), ('Infinix Note 11 (Graphite Black, 128 GB)', 4.869324827591319), ('Infinix Hot 10 Play (Aegean Blue, 64 GB)', 4.855023908653319), ('POCO M3 Pro 5G (Cool Blue, 64 GB)', 4.758042629168658), ('Infinix Hot 10 Play (7° Purple, 64 GB)', 4.723156466314608)] \n",
      "\n",
      "Aman  Singh ->  [('REDMI 9 Power (Mighty Black, 64 GB)', 4.7511339445690925), ('OPPO A31 (Fantasy White, 128 GB)', 4.6262653320483675), ('Infinix INBook X1 Core i3 10th Gen - (8 GB/256 GB SSD/Windows 11 Home) XL11 Thin and Light Laptop', 4.5233690762821155), ('realme 8i (Space Black, 128 GB)', 4.3251990992544025), ('realme 8i (Space Black, 64 GB)', 4.28480672467761)] \n",
      "\n",
      "Sunil ->  [('OPPO F17 Pro (Metallic White, 128 GB)', 4.759304793975394), ('LAVA A3', 4.7146812524082335), ('realme GT Master Edition (Cosmos Black, 128 GB)', 4.7041261922226925), ('Infinix Hot 10 Play (7° Purple, 64 GB)', 4.698565549747727), ('SAMSUNG Galaxy F12 (Sky Blue, 128 GB)', 4.698099426417866)] \n",
      "\n",
      "Suman Kumar ->  [('OPPO F17 Pro (Magic Blue, 128 GB)', 4.930556062698091), ('OPPO A33 (Moonlight Black, 32 GB)', 4.76030335204654), ('vivo T1 5G (Rainbow Fantasy, 128 GB)', 4.755393739179196), ('SAMSUNG Galaxy F12 (Celestial Black, 128 GB)', 4.746777848126352), ('realme Narzo 20 (Victory Blue, 128 GB)', 4.73810963367336)] \n",
      "\n",
      "Pravesh Kumar ->  [('APPLE iPhone 11 (Purple, 128 GB)', 5.101962115041769), ('APPLE iPhone 11 (Yellow, 64 GB)', 5.071818686817764), ('APPLE iPhone 11 (Green, 128 GB)', 5.056347336532623), ('SAMSUNG Guru Music 2', 5.041819697003775), ('APPLE iPhone 11 (White, 64 GB)', 4.984806008996517)] \n",
      "\n",
      "Shivam Mishra ->  [('APPLE iPhone 11 (Red, 64 GB)', 5.016354363178736), ('APPLE iPhone 11 (Yellow, 128 GB)', 4.917261495220131), ('Redmi 9 (Sky Blue, 64 GB)', 4.763356961920855), ('SAMSUNG Guru Music 2', 4.754798109142045), ('Infinix Hot 10 Play (7° Purple, 64 GB)', 4.57160742850269)] \n",
      "\n",
      "Pankaj Sharma ->  [('APPLE iPhone SE (Black, 64 GB)', 5.023411391498082), ('APPLE iPhone 12 Mini (Blue, 64 GB)', 4.944167360818836), ('realme 8 (Cyber Black, 128 GB)', 4.854420780909152), ('realme 8 (Cyber Silver, 128 GB)', 4.813231829573679), ('SAMSUNG Guru Music 2', 4.5946860573801676)] \n",
      "\n",
      "Manjeet Kumar ->  [('realme C11 2021 (Cool Blue, 64 GB)', 4.9501106529176315), ('REDMI Note 10S (Shadow Black, 128 GB)', 4.870678786204571), ('realme Narzo 50A (Oxygen Green, 128 GB)', 4.851673850362713), ('realme Narzo 50A (Oxygen Blue, 64 GB)', 4.784492391187007), ('Infinix Hot 10 Play (Morandi Green, 64 GB)', 4.781326935193767)] \n",
      "\n",
      "Hari Krishna ->  [('APPLE iPhone 12 Mini (White, 64 GB)', 4.961431475221454), ('POCO M2 Pro (Green and Greener, 64 GB)', 4.825273766337488), ('SAMSUNG Galaxy F12 (Sea Green, 64 GB)', 4.7889451913813765), ('SAMSUNG Galaxy F12 (Sea Green, 128 GB)', 4.787119617932745), ('vivo V21 5G (Neon Spark, 128 GB)', 4.669119029060337)] \n",
      "\n",
      "Pawan  Kumar ->  [('APPLE iPhone SE (White, 64 GB)', 4.809741440103038), ('APPLE iPhone SE (Red, 64 GB)', 4.766077571216421), ('POCO M2 Pro (Green and Greener, 64 GB)', 4.690103448629739), ('Infinix Hot 10 Play (Aegean Blue, 64 GB)', 4.597653066244026), ('Infinix Hot 10 Play (Obsidian Black, 64 GB)', 4.520038538821504)] \n",
      "\n",
      "Vishal Sharma ->  [('Infinix Note 11s (Haze Green, 64 GB)', 5.044841636313501), ('Redmi 9 (Sporty Orange, 64 GB)', 4.7786195867862595), ('realme 8i (Space Black, 64 GB)', 4.664996543248303), ('Kechaoda K33', 4.583694125250906), ('Redmi 9 (Carbon Black, 64 GB)', 4.5780973697414575)] \n",
      "\n",
      "Raj kumar ->  [('APPLE iPhone 11 (Green, 128 GB)', 4.869477896420974), ('APPLE iPhone 11 (Purple, 128 GB)', 4.8653150487001655), ('APPLE iPhone 11 (Yellow, 64 GB)', 4.844951035111787), ('MOTOROLA G60 (Frosted Champagne, 128 GB)', 4.843492387675422), ('realme C25 (Watery Grey, 64 GB)', 4.8106135513579735)] \n",
      "\n",
      "vivek kumar ->  [('APPLE iPhone 12 (Red, 128 GB)', 5.059127205893707), ('APPLE iPhone SE (Black, 64 GB)', 5.011688922501154), ('REDMI 9 Power (Fiery Red, 64 GB)', 5.004370301163559), ('APPLE iPhone SE (White, 128 GB)', 4.997616218599937), ('REDMI 9 Power (Mighty Black, 64 GB)', 4.981030246146718)] \n",
      "\n",
      "Manoj  Kumar  ->  [('APPLE iPhone 11 (Black, 128 GB)', 4.862954341515748), ('Infinix Smart 5 (7 Purple, 32 GB)', 4.790808704178536), ('MOTOROLA G60 (Frosted Champagne, 128 GB)', 4.4228581697430105), ('REDMI 9i (Midnight Black, 64 GB)', 4.39479267271885), ('Infinix Smart 5A (Ocean Wave, 32 GB)', 4.127467084824143)] \n",
      "\n",
      "Rahul Mondal ->  [('REDMI Note 10 Pro (Dark Night, 128 GB)', 5.007851591153068), ('REDMI Note 10 Pro (Dark Nebula, 128 GB)', 4.999005513311523), ('SAMSUNG Galaxy F12 (Celestial Black, 64 GB)', 4.904942430378288), ('REDMI Note 10S (Frost White, 64 GB)', 4.899479362516821), ('REDMI Note 10S (Shadow Black, 64 GB)', 4.891699033913231)] \n",
      "\n",
      "santosh kumar ->  [('Micromax X741', 4.723381747232278), ('OPPO F17 Pro (Matte Black, 128 GB)', 4.698281003940644), ('SAMSUNG Galaxy F22 (Denim Black, 128 GB)', 4.310505787782026), ('Kechaoda K66 The Music House 4', 4.299676379741312), ('realme Narzo 50i (Mint Green, 32 GB)', 4.23740405692427)] \n",
      "\n",
      "Ankit ->  [('Infinix Hot 10 Play (Morandi Green, 64 GB)', 4.889208630634955), ('ASUS VivoBook Ultra 14 Core i3 11th Gen - (8 GB/512 GB SSD/Windows 10 Home) X413EA-EB322TS Thin and Light Laptop', 4.684781027491063), ('realme 8 5G (Supersonic Black, 64 GB)', 4.646461568331062), ('realme 8 5G (Supersonic Blue, 64 GB)', 4.530352856765856), ('realme 8 Pro (Infinite Black, 128 GB)', 4.479485749892824)] \n",
      "\n",
      "deepak kumar ->  [('realme 9i (Prism Black, 64 GB)', 4.877652525334128), ('APPLE iPhone SE (White, 128 GB)', 4.758209730853242), ('APPLE iPhone SE (Red, 128 GB)', 4.6667014192136484), ('POCO M3 (Cool Blue, 64 GB)', 4.524126484592957), ('OPPO A12 (Black, 32 GB)', 4.472313052137054)] \n",
      "\n",
      "Ganesh Kumar ->  [('Infinix Hot 10 (Amber Red, 64 GB)', 5.153924258356759), ('Infinix Hot 10 (Ocean Wave, 64 GB)', 5.051382187699064), ('Infinix Smart 5A (Midnight Black, 32 GB)', 4.885493725273511), ('realme Narzo 30 5G (Racing Blue, 128 GB)', 4.8031618753609), ('REDMI Note 9 (Aqua Green, 64 GB)', 4.737231388733247)] \n",
      "\n",
      "Rahul Mishra ->  [('realme Narzo 30 (Racing Blue, 64 GB)', 4.972621052021164), ('realme 8 5G (Supersonic Black, 64 GB)', 4.964028862462539), ('SAMSUNG Galaxy F12 (Sky Blue, 64 GB)', 4.853977391050927), ('APPLE iPhone 12 Mini (Blue, 64 GB)', 4.769395534339972), ('Redmi 9 (Carbon Black, 64 GB)', 4.743728249719835)] \n",
      "\n",
      "Suresh Kumar ->  [('Infinix Smart 5A (Quetzal Cyan, 32 GB)', 4.7203677128247605), ('SAMSUNG Galaxy F12 (Celestial Black, 128 GB)', 4.49326708014462), ('POCO X3 (Shadow Gray, 64 GB)', 4.473957206997937), ('realme 9i (Prism Black, 128 GB)', 4.468514315147054), ('Infinix Smart 5 (Aegean Blue, 32 GB)', 4.462021217255289)] \n",
      "\n",
      "Debashish Barman ->  [('OPPO A12 (Blue, 64 GB)', 5.199284467607651), ('Infinix Smart 5 (Morandi Green, 32 GB)', 5.163871923292025), ('realme C21 (Cross Black, 64 GB)', 5.149733654347507), ('OPPO A12 (Flowing Silver, 64 GB)', 5.146485197204434), ('REDMI Note 9 (Shadow Black, 64 GB)', 5.1381474319576474)] \n",
      "\n",
      "Suraj Gupta ->  [('realme GT Master Edition (Luna White, 128 GB)', 4.58372504296762), ('POCO M3 Pro 5G (Power Black, 128 GB)', 4.507253653727701), ('realme C21 (Cross Black, 64 GB)', 4.343286859353165), ('POCO X3 (Shadow Gray, 64 GB)', 4.161661319223044), ('Infinix Hot 11S (7° Purple, 128 GB)', 4.101791620151773)] \n",
      "\n",
      "Amit Gupta ->  [('APPLE iPhone 11 (White, 128 GB)', 5.045733791993731), ('APPLE iPhone 11 (Purple, 64 GB)', 4.939278658823254), ('APPLE iPhone 12 (White, 64 GB)', 4.919935838788869), ('APPLE iPhone 11 (Black, 128 GB)', 4.872333353983753), ('OPPO A12 (Deep Blue, 32 GB)', 4.819666875804748)] \n",
      "\n",
      "Ravi  Kumar ->  [('Micromax IN Note 1 (Green, 64 GB)', 4.826990079873642), ('APPLE iPhone SE (White, 64 GB)', 4.657963806524459), ('Infinix Note 11s (Haze Green, 64 GB)', 4.637897356458697), ('APPLE iPhone 12 (Blue, 64 GB)', 4.616533865259259), ('realme 8 5G (Supersonic Black, 64 GB)', 4.594429342883356)] \n",
      "\n",
      "Kundan  Kumar ->  [('realme 9i (Prism Blue, 128 GB)', 4.95811693730824), ('realme C21 (Cross Blue, 64 GB)', 4.871801746037087), ('APPLE iPhone 12 Mini (Black, 64 GB)', 4.864666213226362), ('realme GT Master Edition (Cosmos Black, 128 GB)', 4.857782388891893), ('realme 9i (Prism Blue, 64 GB)', 4.8560713431553815)] \n",
      "\n",
      "Rahul Raj ->  [('APPLE iPhone 12 (Green, 64 GB)', 4.9956965262337505), ('APPLE iPhone 12 (Black, 64 GB)', 4.908794737013006), ('OPPO A53s 5G (Ink Black, 128 GB)', 4.591667346723544), ('realme 8 (Cyber Silver, 128 GB)', 4.587795783476508), ('Infinix Smart 5 (Morandi Green, 32 GB)', 4.580837366385313)] \n",
      "\n",
      "PRAVEEN KUMAR ->  [('Xiaomi 11i 5G (Pacific Pearl, 128 GB)', 4.968646772476018), ('realme Narzo 50A (Oxygen Blue, 64 GB)', 4.674315030671029), ('realme 9 Pro+ 5G (Midnight Black, 128 GB)', 4.569287845481003), ('realme C25 (Watery Grey, 128 GB)', 4.544982176117507), ('MOTOROLA G60 (Moonless, 128 GB)', 4.432877762582969)] \n",
      "\n",
      "Ganesh ->  [('REDMI Note 9 (Shadow Black, 64 GB)', 4.788335421549181), ('realme Narzo 30 (Racing Silver, 64 GB)', 4.623175882521985), ('realme 9i (Prism Black, 128 GB)', 4.5914582914185935), ('POCO C31 (Shadow Gray, 64 GB)', 4.5191106586707495), ('LAVA Gem', 4.4384966630705875)] \n",
      "\n",
      "Prince Singh ->  [('Infinix Hot 11S (7° Purple, 128 GB)', 5.038968381908331), ('REDMI Note 9 (Shadow Black, 128 GB)', 4.534061322983355), ('realme C11 2021 (Cool Grey, 64 GB)', 4.516252631679103), ('POCO M2 Pro (Two Shades of Black, 64 GB)', 4.266741120270498), ('Infinix Smart 5 (Morandi Green, 32 GB)', 4.23089585993686)] \n",
      "\n",
      "Sandip Das ->  [('REDMI Note 10S (Cosmic Purple, 64 GB)', 5.062408197723482), ('APPLE iPhone 12 (Purple, 64 GB)', 5.029764982411929), ('APPLE iPhone 12 (Red, 128 GB)', 5.018068328243979), ('OPPO A12 (Black, 32 GB)', 4.900714255046643), ('Nokia 105', 4.83245594088034)] \n",
      "\n",
      "Sakthi Vel ->  [('realme 8s 5G (Universe Blue, 128 GB)', 5.089680950632123), ('SAMSUNG Galaxy F12 (Sky Blue, 128 GB)', 4.856402635838942), ('SAMSUNG Galaxy F12 (Sea Green, 128 GB)', 4.83278233519698), ('REDMI 9i Sport (Metallic Blue, 64 GB)', 4.760262869448358), ('SAMSUNG Guru Music 2', 4.681922052617102)] \n",
      "\n",
      "Sourav Mondal ->  [('APPLE iPhone 11 (Green, 128 GB)', 4.903094412930806), ('APPLE iPhone 11 (Yellow, 128 GB)', 4.834540182870914), ('realme Narzo 30 (Racing Silver, 128 GB)', 4.5671752062084625), ('realme 8 5G (Supersonic Black, 128 GB)', 4.512954057529045), ('vivo T1 5G (Starlight Black, 128 GB)', 4.417387984753629)] \n",
      "\n",
      "Munna Kumar ->  [('Xiaomi 11i 5G (Purple Mist, 128 GB)', 4.993213846551949), ('REDMI Note 9 (Shadow Black, 64 GB)', 4.980275243149005), ('realme 8s 5G (Universe Purple, 128 GB)', 4.907115836691221), ('acer Aspire 7 Ryzen 5 Hexa Core 5500U - (8 GB/512 GB SSD/Windows 10 Home/4 GB Graphics/NVIDIA GeForce GTX 1650) A715-42G Gaming Laptop', 4.871017609659253), ('vivo T1 5G (Starlight Black, 128 GB)', 4.853455564448257)] \n",
      "\n",
      "Sonu Sharma ->  [('APPLE iPhone 11 (Yellow, 128 GB)', 4.925592473000784), ('REDMI Note 10S (Deep Sea Blue, 128 GB)', 4.917260188043319), ('APPLE iPhone 11 (Green, 128 GB)', 4.914894942112705), ('APPLE iPhone 11 (Black, 128 GB)', 4.875036342034573), ('Infinix Hot 10S (95° Black, 64 GB)', 4.845026122821189)] \n",
      "\n",
      "Ajay ->  [('APPLE iPhone 12 Mini (White, 64 GB)', 4.678258768938245), ('Infinix Hot 10 (Amber Red, 64 GB)', 4.494608184165023), ('APPLE iPhone 12 Mini (Black, 64 GB)', 4.438983392148732), ('realme Narzo 30 (Racing Blue, 64 GB)', 4.370478158699101), ('REDMI Note 10 Pro (Dark Nebula, 128 GB)', 4.331928703746236)] \n",
      "\n",
      "Praveen  Kumar ->  [('APPLE iPhone 12 (Red, 128 GB)', 5.053435583989634), ('APPLE iPhone 12 (Blue, 64 GB)', 4.972402109788675), ('APPLE iPhone SE (White, 64 GB)', 4.960966763944114), ('SAMSUNG Galaxy F12 (Sky Blue, 64 GB)', 4.877076459295308), ('APPLE iPhone SE (White, 128 GB)', 4.872050254823508)] \n",
      "\n",
      "Rajiv Kumar ->  [('APPLE iPhone 12 (Blue, 64 GB)', 4.9504432095280935), ('Infinix Hot 10 Play (Obsidian Black, 64 GB)', 4.783513511766075), ('APPLE iPhone 12 Mini (White, 64 GB)', 4.733466729938238), ('realme C11 2021 (Cool Blue, 64 GB)', 4.729538243631194), ('Infinix Hot 10 Play (Morandi Green, 64 GB)', 4.701067355815507)] \n",
      "\n",
      "Ramesh ->  [('SAMSUNG Guru Music 2', 4.994439517403558), ('OPPO A12 (Flowing Silver, 64 GB)', 4.958825801191418), ('Infinix Hot 10 Play (Aegean Blue, 64 GB)', 4.904450245479857), ('Infinix Hot 11 (Emerald Green, 64 GB)', 4.74791810287748), ('OPPO A12 (Black, 32 GB)', 4.611629527911918)] \n",
      "\n",
      "Sanjay ->  [('realme GT Master Edition (Voyager Grey, 256 GB)', 4.825972599693178), ('realme Narzo 50A (Oxygen Green, 64 GB)', 4.720023343339102), ('realme GT Master Edition (Luna White, 256 GB)', 4.631948844764709), ('APPLE iPhone 12 Mini (White, 64 GB)', 4.617348660191666), ('APPLE iPhone 12 Mini (White, 64 GB)', 4.617348660191666)] \n",
      "\n",
      "Abhishek Ranjan ->  [('APPLE iPhone 11 (Black, 64 GB)', 5.038042882533411), ('APPLE iPhone 11 (Black, 128 GB)', 4.9937152326810015), ('APPLE iPhone SE (Red, 64 GB)', 4.9810017007162), ('APPLE iPhone SE (Black, 128 GB)', 4.973808068565154), ('realme Narzo 50A (Oxygen Green, 128 GB)', 4.703256687429883)] \n",
      "\n",
      "sachin kumar ->  [('OPPO Reno6 5G (Aurora, 128 GB)', 4.971357197626309), ('Infinix Hot 10 (Ocean Wave, 64 GB)', 4.944879837571529), ('realme Narzo 30 5G (Racing Blue, 128 GB)', 4.944633624027254), ('realme Narzo 50A (Oxygen Blue, 64 GB)', 4.883087654821768), ('Infinix Note 11 (Graphite Black, 64 GB)', 4.851796310471464)] \n",
      "\n",
      "Pradeep Yadav ->  [('APPLE iPhone 12 (Green, 64 GB)', 4.993864549496343), ('Itel Magic2 4G (WiFi, Hotspot Tethering)', 4.351219351126184), ('realme C21Y (Cross Blue, 64 GB)', 4.255172942073039), ('LAVA A1', 4.214635525741931), ('realme C25Y (Glacier Blue, 128 GB)', 3.8367058681446102)] \n",
      "\n",
      "Pankaj Yadav ->  [('APPLE iPhone 12 (White, 64 GB)', 4.9594545686177), ('APPLE iPhone 12 (Blue, 64 GB)', 4.852437800400925), ('OPPO A33 (Mint Cream, 32 GB)', 4.8507593061020495), ('realme 8 (Cyber Silver, 128 GB)', 4.653364472200541), ('APPLE iPhone 12 (White, 256 GB)', 4.631979630053488)] \n",
      "\n",
      "Harsh Kumar ->  [('APPLE iPhone 12 Mini (White, 64 GB)', 4.896570061703132), ('APPLE iPhone 11 (Purple, 128 GB)', 4.895169984178199), ('APPLE iPhone 11 (Green, 128 GB)', 4.882705251301563), ('APPLE iPhone 11 (Yellow, 128 GB)', 4.872972066645815), ('realme 9 5G SE (Starry Glow, 128 GB)', 4.780766933998837)] \n",
      "\n",
      "Aditya Raj ->  [('APPLE iPhone 11 (Purple, 128 GB)', 4.934140574274282), ('APPLE iPhone 11 (Yellow, 64 GB)', 4.889282211806141), ('APPLE iPhone SE (Red, 64 GB)', 4.715177228292273), ('APPLE iPhone 11 (Red, 64 GB)', 4.540624214986274), ('Micromax IN Note 1 (Green, 64 GB)', 4.508242106702478)] \n",
      "\n",
      "amit kumar ->  [('Infinix Hot 10 Play (Obsidian Black, 64 GB)', 4.733732848004051), ('APPLE iPhone SE (Red, 64 GB)', 4.729760082443988), ('Infinix Smart 5A (Quetzal Cyan, 32 GB)', 4.728857142315857), ('POCO M2 Pro (Out of the Blue, 64 GB)', 4.5031908545480634), ('realme 8i (Space Purple, 64 GB)', 4.495965878629719)] \n",
      "\n",
      "Amar Singh ->  [('APPLE iPhone 12 Mini (White, 64 GB)', 4.946663019160988), ('realme C21Y (Cross Black, 64 GB)', 4.75840113336277), ('realme GT Master Edition (Luna White, 256 GB)', 4.606187387462373), ('OPPO A53s 5G (Crystal Blue, 128 GB)', 4.589772574288081), ('Nokia 105 SS 2021', 4.567460568088474)] \n",
      "\n",
      "Ashok kumar ->  [('Infinix Smart 5 (Morandi Green, 32 GB)', 5.019096480783615), ('Infinix Hot 10 Play (7° Purple, 64 GB)', 4.675248818870923), ('Infinix Hot 10 Play (Morandi Green, 64 GB)', 4.645702798281689), ('POCO M3 Pro 5G (Cool Blue, 64 GB)', 4.5390154461260845), ('POCO M3 Pro 5G (Power Black, 64 GB)', 4.433741023940708)] \n",
      "\n",
      "Atul Singh ->  [('APPLE iPhone 13 (Starlight, 128 GB)', 5.201460587734377), ('APPLE iPhone 13 (Midnight, 128 GB)', 5.037992335042124), ('APPLE iPhone 13 (Blue, 128 GB)', 4.972196471613381), ('SAMSUNG Galaxy F12 (Sea Green, 128 GB)', 4.954226048281455), ('APPLE iPhone 11 (Green, 128 GB)', 4.928910744529232)] \n",
      "\n",
      "Dharmendra  Kumar ->  [('realme C25 (Watery Grey, 64 GB)', 4.793911113514044), ('Infinix Hot 10 Play (Obsidian Black, 64 GB)', 4.722567743398215), ('REDMI 9 Power (Fiery Red, 64 GB)', 4.722315021845425), ('Infinix Hot 10 Play (7° Purple, 64 GB)', 4.568678347938578), ('Infinix Smart 5A (Midnight Black, 32 GB)', 4.4264451446348705)] \n",
      "\n",
      "Uttam Kumar ->  [('Infinix Hot 11S (Silver Wave, 128 GB)', 4.985044319889071), ('Infinix Hot 11S (7° Purple, 128 GB)', 4.969519454168517), ('Infinix Hot 11S (7° Purple, 64 GB)', 4.903678834497915), ('REDMI 9i Sport (Metallic Blue, 64 GB)', 4.8206534538680215), ('vivo X60 (Shimmer Blue, 128 GB)', 4.627126986067434)] \n",
      "\n",
      "Mukesh Singh ->  [('LAVA A1 Josh', 4.196356248465976), ('realme 9 Pro 5G (Sunrise Blue, 128 GB)', 4.164694499692681), ('SAMSUNG Galaxy F12 (Sea Green, 64 GB)', 4.1260275225077185), ('realme 9 Pro 5G (Aurora Green, 128 GB)', 3.963273352464607), ('SAMSUNG Galaxy F12 (Celestial Black, 128 GB)', 3.960960012962823)] \n",
      "\n",
      "Manoj  Kumar ->  [('Infinix Note 11 (Glacier Green, 64 GB)', 4.7939321190398925), ('Infinix Hot 11S (7° Purple, 64 GB)', 4.777327060948066), ('realme 8i (Space Purple, 128 GB)', 4.433831535011227), ('realme 8 Pro (Infinite Black, 128 GB)', 4.37680951729099), ('realme Narzo 30 (Racing Blue, 128 GB)', 4.335059612133427)] \n",
      "\n",
      "Neeraj Singh ->  [('APPLE iPhone 12 (White, 256 GB)', 4.994878389336179), ('APPLE iPhone 12 (Black, 64 GB)', 4.96980387344702), ('Infinix Smart 5A (Quetzal Cyan, 32 GB)', 4.947505927300236), ('APPLE iPhone 11 (Black, 128 GB)', 4.877259254801356), ('realme Book (Slim) Core i3 11th Gen - (8 GB/256 GB SSD/Windows 10 Home) RMNB1001 Thin and Light Laptop', 4.699405242497042)] \n",
      "\n",
      "Sunil Sharma ->  [('REDMI Note 10T 5G (Chromium White, 64 GB)', 5.004549597376444), ('OPPO K10 (Black Carbon, 128 GB)', 4.863610860611609), ('realme C21 (Cross Blue, 64 GB)', 4.848624398397879), ('vivo T1 5G (Starlight Black, 128 GB)', 4.60755794901789), ('realme 8i (Space Black, 64 GB)', 4.537600687167592)] \n",
      "\n",
      "Alok Singh ->  [('APPLE iPhone 12 (Red, 128 GB)', 5.091019021723566), ('APPLE iPhone 11 (Yellow, 64 GB)', 4.9434735530742655), ('Infinix Hot 11S (Polar Black, 128 GB)', 4.87779507566936), ('vivo Y21 (Diamond Glow, 64 GB)', 4.746390213843282), ('MOTOROLA G60 (Soft Silver, 128 GB)', 4.619847938099638)] \n",
      "\n",
      "Vijay kumar ->  [('APPLE iPhone SE (White, 64 GB)', 4.880155066781514), ('APPLE iPhone SE (Black, 128 GB)', 4.852246245215319), ('realme Narzo 50A (Oxygen Green, 128 GB)', 4.790114209691695), ('SAMSUNG Galaxy F22 (Denim Blue, 64 GB)', 4.718636911254155), ('SAMSUNG Galaxy F12 (Sky Blue, 128 GB)', 4.661548343077669)] \n",
      "\n",
      "Pappu Kumar ->  [('POCO M3 Pro 5G (Yellow, 128 GB)', 4.635681005160894), ('POCO M2 Pro (Out of the Blue, 64 GB)', 4.440415030347809), ('REDMI 9 Prime (Matte Black, 64 GB)', 4.3716527742947155), ('Infinix Hot 10 Play (Obsidian Black, 64 GB)', 4.087393062391436), ('OPPO K10 (Black Carbon, 128 GB)', 4.070877769921842)] \n",
      "\n",
      "Anil Sharma ->  [('Infinix Hot 11S (Polar Black, 64 GB)', 4.868374293533974), ('Infinix Hot 11S (Green Wave, 64 GB)', 4.779709804821984), ('realme C21Y (Cross Black, 32 GB)', 4.619633352877198), ('realme C25Y (Metal Grey, 64 GB)', 4.6105105678814216), ('Infinix Hot 10 Play (Aegean Blue, 64 GB)', 4.364455296466927)] \n",
      "\n",
      "Pawan Singh ->  [('MOTOROLA G40 Fusion (Frosted Champagne, 128 GB)', 4.6122642111522465), ('POCO C31 (Shadow Gray, 32 GB)', 4.370481477795137), ('POCO M3 (Power Black, 128 GB)', 4.237388489318656), ('Redmi 9A (SeaBlue, 32 GB)', 4.1726249100480635), ('APPLE iPhone 11 (Yellow, 128 GB)', 4.171281067028316)] \n",
      "\n",
      "Harpreet Singh ->  [('APPLE iPhone 12 (Purple, 64 GB)', 5.02615516081366), ('APPLE iPhone 12 (Green, 64 GB)', 4.989714252462529), ('Infinix Hot 10 (Ocean Wave, 64 GB)', 4.945810040045895), ('OPPO Reno5 Pro 5G (Astral Blue, 128 GB)', 4.941677895821624), ('APPLE iPhone SE (Red, 64 GB)', 4.941406967970008)] \n",
      "\n",
      "Neeraj Yadav ->  [('APPLE iPhone 11 (White, 128 GB)', 5.011685984998552), ('REDMI Note 10 Pro (Dark Nebula, 128 GB)', 4.9161256521028065), ('SAMSUNG Galaxy F12 (Sea Green, 64 GB)', 4.910082281574883), ('REDMI Note 10S (Deep Sea Blue, 128 GB)', 4.90337672564408), ('realme 9i (Prism Blue, 64 GB)', 4.888624874590703)] \n",
      "\n",
      "GAURAV KUMAR ->  [('realme C25s (Watery Blue, 128 GB)', 4.960862298864024), ('vivo T1 5G (Starlight Black, 128 GB)', 4.783689885624545), ('realme 8 (Cyber Silver, 128 GB)', 4.756459175898136), ('SAMSUNG Galaxy F22 (Denim Blue, 128 GB)', 4.71488211592828), ('realme Narzo 50A (Oxygen Green, 128 GB)', 4.640052092617261)] \n",
      "\n",
      "Avinash Singh ->  [('Infinix Smart 5A (Ocean Wave, 32 GB)', 4.996238130140374), ('APPLE iPhone 11 (Yellow, 128 GB)', 4.859582408520744), ('realme 8 (Cyber Silver, 128 GB)', 4.598251877505433), ('realme Narzo 50A (Oxygen Green, 128 GB)', 4.582615802607319), ('realme C11 2021 (Cool Grey, 32 GB)', 4.554775515713971)] \n",
      "\n",
      "Ashutosh Singh ->  [('realme Narzo 30 (Racing Blue, 128 GB)', 4.785589342475926), ('realme Narzo 30 (Racing Silver, 128 GB)', 4.755804717969051), ('Infinix Hot 10 Play (7° Purple, 64 GB)', 4.659897324040842), ('realme 8i (Space Black, 64 GB)', 4.640574852296625), ('APPLE iPhone 11 (Green, 128 GB)', 4.588720349830336)] \n",
      "\n",
      "Kishor Kumar ->  [('Infinix Hot 10 (Ocean Wave, 64 GB)', 5.072266048701876), ('SAMSUNG Guru Music 2', 5.056731584514917), ('APPLE iPhone 12 Mini (Blue, 64 GB)', 4.999143977393279), ('Infinix Note 11 (Glacier Green, 64 GB)', 4.969208409060483), ('APPLE iPhone 12 Mini (White, 64 GB)', 4.898834847544027)] \n",
      "\n",
      "Ashwani Kumar ->  [('Infinix Hot 11S (Polar Black, 128 GB)', 4.869395699077418), ('APPLE iPhone 12 (Purple, 64 GB)', 4.76928316837198), ('Infinix Hot 11S (Polar Black, 64 GB)', 4.746086319801844), ('Infinix Hot 11S (Green Wave, 128 GB)', 4.686741507327284), ('realme 9i (Prism Black, 64 GB)', 4.120641339190282)] \n",
      "\n",
      "Ram ->  [('APPLE iPhone 12 Mini (White, 64 GB)', 4.887886737085012), ('APPLE 2020 Macbook Air M1 - (8 GB/256 GB SSD/Mac OS Big Sur) MGND3HN/A', 4.855232190850783), ('APPLE 2020 Macbook Air M1 - (8 GB/256 GB SSD/Mac OS Big Sur) MGN93HN/A', 4.7034514233330125), ('realme Narzo 20 (Victory Blue, 128 GB)', 4.087198055074157), ('OPPO A53s 5G (Ink Black, 128 GB)', 3.5987546552478147)] \n",
      "\n",
      "Manish Yadav ->  [('realme C35 (Glowing Black, 64 GB)', 5.144975837232874), ('APPLE iPhone 12 Mini (Blue, 64 GB)', 4.982018272015328), ('realme C11 2021 (Cool Blue, 32 GB)', 4.836058364062832), ('POCO C31 (Royal Blue, 64 GB)', 4.7988262420336785), ('realme Narzo 50A (Oxygen Green, 64 GB)', 4.773879350420668)] \n",
      "\n",
      "Rahul  Gupta ->  [('OPPO A12 (Black, 32 GB)', 5.003121854701459), ('OPPO A12 (Blue, 32 GB)', 4.879338835684168), ('realme Narzo 50A (Oxygen Blue, 64 GB)', 4.831464779380185), ('APPLE iPhone 12 (White, 256 GB)', 4.798816148787926), ('realme Book(Slim) Intel Evo Core i5 11th Gen - (8 GB/512 GB SSD/Windows 10 Home) RMNB1002 Thin and Light Laptop', 4.773765708678471)] \n",
      "\n",
      "Abhishek kumar ->  [('realme Narzo 30 (Racing Blue, 64 GB)', 4.780121894038682), ('realme C11 2021 (Cool Grey, 64 GB)', 4.748878867946268), ('GIONEE Max (Royal Blue, 32 GB)', 4.64077037205238), ('Kechaoda K112', 4.330229818329493), ('POCO M3 Pro 5G (Yellow, 64 GB)', 4.256837144832487)] \n",
      "\n",
      "Ankit Yadav ->  [('APPLE iPhone SE (White, 64 GB)', 4.895560297662932), ('APPLE iPhone 12 (Blue, 64 GB)', 4.857108727976508), ('APPLE iPhone SE (Red, 64 GB)', 4.822124646887249), ('OPPO Reno6 5G (Stellar Black, 128 GB)', 4.657287751439183), ('realme Narzo 50i (Carbon Black, 32 GB)', 4.529988946607988)] \n",
      "\n",
      "Abhishek Pandey ->  [('LAVA A3', 4.632958115050538), ('realme 9 5G (Meteor Black, 64 GB)', 4.478255006198334), ('REDMI Note 10 Pro (Vintage Bronze, 128 GB)', 4.46333813494421), ('REDMI Note 10 Pro (Dark Night, 128 GB)', 4.263152721377513), ('REDMI Note 10 Pro (Glacial Blue, 128 GB)', 4.259068215986523)] \n",
      "\n",
      "sumit kumar ->  [('OPPO A12 (Deep Blue, 32 GB)', 4.900913016035781), ('APPLE iPhone SE (Red, 64 GB)', 4.810084749085347), ('MOTOROLA G60 (Moonless, 128 GB)', 4.780810491188438), ('MOTOROLA E7 Plus (Misty Blue, 64 GB)', 4.403919797118281), ('SAMSUNG Galaxy F22 (Denim Black, 128 GB)', 4.37133918166323)] \n",
      "\n",
      "Amandeep Singh ->  [('APPLE iPhone 12 (White, 64 GB)', 4.908641805598862), ('APPLE iPhone 12 (Black, 128 GB)', 4.8633976245713875), ('APPLE iPhone SE (White, 64 GB)', 4.847065810561699), ('SAMSUNG Galaxy F12 (Sky Blue, 128 GB)', 4.77615562937972), ('REDMI 9i (Midnight Black, 64 GB)', 4.608633420498693)] \n",
      "\n",
      "Chhotu Kumar ->  [('realme Narzo 50A (Oxygen Green, 128 GB)', 4.995286514643508), ('SAMSUNG Guru Music 2', 4.849237172537602), ('realme Narzo 50A (Oxygen Blue, 128 GB)', 4.66878359643392), ('Infinix Hot 11S (Polar Black, 128 GB)', 4.6119435486224685), ('Infinix Hot 11S (Polar Black, 64 GB)', 4.42824843492537)] \n",
      "\n",
      "sanjeev kumar ->  [('realme 9 Pro+ 5G (Aurora Green, 128 GB)', 4.70856753794337), ('Infinix Smart 5A (Midnight Black, 32 GB)', 4.586268523300468), ('Infinix Hot 10 Play (Morandi Green, 64 GB)', 4.435050801888223), ('realme Narzo 50A (Oxygen Green, 64 GB)', 4.373641803817011), ('realme C11 2021 (Cool Grey, 32 GB)', 4.291726953264598)] \n",
      "\n",
      "suresh kumar ->  [('SAMSUNG Galaxy F12 (Sky Blue, 64 GB)', 4.923100905095989), ('APPLE iPhone SE (Red, 64 GB)', 4.91376097742306), ('REDMI 9 Power (Mighty Black, 64 GB)', 4.745048960759385), ('SAMSUNG Galaxy F12 (Sea Green, 128 GB)', 4.736660807915228), ('realme Narzo 50A (Oxygen Blue, 64 GB)', 4.6371949354043425)] \n",
      "\n",
      "chandan kumar ->  [('SAMSUNG Metro 313 Dual Sim', 4.717959861031165), ('Nokia TA-1304/105 SS', 4.576523963183349), ('Micromax IN Note 1 (Green, 64 GB)', 4.541765814472803), ('vivo T1 5G (Starlight Black, 128 GB)', 4.494313373201006), ('realme 8i (Space Black, 64 GB)', 4.449130601787911)] \n",
      "\n",
      "Vivek Yadav ->  [('APPLE iPhone SE (Black, 128 GB)', 4.83672897210578), ('APPLE iPhone SE (White, 128 GB)', 4.800327913921647), ('realme C20 (Cool Grey, 32 GB)', 4.785208985054492), ('vivo Y21 (Diamond Glow, 128 GB)', 4.779451182128733), ('REDMI Note 9 (Aqua Green, 64 GB)', 4.718944342058999)] \n",
      "\n",
      "Sourav Kumar ->  [('SAMSUNG GT-E1215', 5.115974110516279), ('OPPO A12 (Blue, 64 GB)', 5.0609005945611845), ('OPPO Reno6 5G (Stellar Black, 128 GB)', 5.0101266711301955), ('APPLE iPhone 12 (Red, 128 GB)', 5.004476283959108), ('realme Narzo 20 (Victory Blue, 128 GB)', 4.9572582418113145)] \n",
      "\n",
      "Arif Khan ->  [('APPLE iPhone 11 (Green, 128 GB)', 5.008691564398371), ('Infinix Smart 5A (Ocean Wave, 32 GB)', 4.861367240580361), ('APPLE iPhone 12 Mini (White, 64 GB)', 4.8236365420184235), ('realme C25 (Watery Grey, 128 GB)', 4.75731500051867), ('realme C25s (Watery Grey, 128 GB)', 4.574861395796723)] \n",
      "\n",
      "Mukesh  Kumar  ->  [('vivo Y20G (Obsidian Black, 64 GB)', 5.459409982521889), ('REDMI 9i (Midnight Black, 64 GB)', 4.826611332114981), ('realme C25 (Watery Grey, 64 GB)', 4.818751253303413), ('REDMI 9 Prime (Matte Black, 64 GB)', 4.559743984914899), ('realme C25 (Watery Grey, 128 GB)', 4.523803158810295)] \n",
      "\n",
      "RAKESH KUMAR ->  [('APPLE iPhone 12 (Red, 128 GB)', 5.004671176870457), ('realme 8 (Cyber Black, 128 GB)', 4.803620514266661), ('Infinix Smart 5 (7 Purple, 32 GB)', 4.541919148770552), ('OPPO A16 (Royal Gold, 64 GB)', 4.4335154501424805), ('Infinix INBook X1 Core i3 10th Gen - (8 GB/256 GB SSD/Windows 11 Home) XL11 Thin and Light Laptop', 4.427237663065053)] \n",
      "\n",
      "Kapil Sharma ->  [('REDMI Note 9 (Shadow Black, 64 GB)', 4.849542108092738), ('realme C21Y (Cross Blue, 64 GB)', 4.755639025658537), ('realme Narzo 30 5G (Racing Silver, 128 GB)', 4.675169061814831), ('POCO M2 Pro (Out of the Blue, 64 GB)', 4.646437987164381), ('APPLE iPhone 12 (White, 256 GB)', 4.525702150051625)] \n",
      "\n",
      "Shailesh Kumar ->  [('APPLE iPhone 12 (Purple, 64 GB)', 5.033263954289032), ('realme Narzo 50A (Oxygen Green, 64 GB)', 4.841090844689745), ('OPPO A33 (Mint Cream, 32 GB)', 4.7985616787788805), ('realme Narzo 30 5G (Racing Blue, 128 GB)', 4.631876268308413), ('realme 8 5G (Supersonic Blue, 64 GB)', 4.529336460098479)] \n",
      "\n",
      "NUZHAT BANO ANSARI ->  [('Infinix Hot 11 (Emerald Green, 64 GB)', 5.209849412941403), ('POCO C31 (Shadow Gray, 32 GB)', 5.140856335847524), ('Infinix Hot 11S (7° Purple, 128 GB)', 5.0694218492520475), ('realme GT Master Edition (Voyager Grey, 256 GB)', 5.05036132472287), ('realme C25s (Watery Grey, 128 GB)', 5.02702640927405)] \n",
      "\n",
      "Nikhil Singh ->  [('POCO M4 Pro (Power Black, 64 GB)', 5.0627370028102705), ('Infinix Smart 5 (Morandi Green, 32 GB)', 4.978366095456611), ('APPLE iPhone SE (Red, 64 GB)', 4.9063260560687745), ('Micromax IN Note 1 (White, 64 GB)', 4.6857308278667595), ('POCO M4 Pro (Power Black, 128 GB)', 4.685538871442333)] \n",
      "\n",
      "sanjay kumar ->  [('APPLE iPhone 11 (Red, 64 GB)', 5.05770969825045), ('APPLE iPhone 11 (Black, 128 GB)', 4.968037164707285), ('APPLE iPhone 11 (Yellow, 128 GB)', 4.937836273712595), ('APPLE iPhone 11 (Black, 64 GB)', 4.918468452311472), ('APPLE iPhone 11 (Purple, 128 GB)', 4.891978400249985)] \n",
      "\n",
      "Bablu Kumar ->  [('realme 9 Pro+ 5G (Aurora Green, 128 GB)', 5.037833131785881), ('realme Narzo 30 5G (Racing Blue, 128 GB)', 4.84932354920567), ('Infinix Smart 5A (Quetzal Cyan, 32 GB)', 4.817295673060019), ('realme 8 5G (Supersonic Blue, 64 GB)', 4.787562880805215), ('realme Narzo 30 5G (Racing Silver, 128 GB)', 4.522837185575783)] \n",
      "\n",
      "Ashish Mishra ->  [('APPLE iPhone 12 (Red, 128 GB)', 5.048587777639735), ('APPLE iPhone SE (White, 64 GB)', 5.024797263406468), ('APPLE iPhone 12 (Black, 64 GB)', 4.998071438652845), ('Infinix Hot 10 (Ocean Wave, 64 GB)', 4.984602955742052), ('realme Narzo 30 (Racing Blue, 64 GB)', 4.888731058698623)] \n",
      "\n",
      "Sonu ->  [('APPLE iPhone 12 (Green, 64 GB)', 4.963453345677297), ('realme Narzo 30 Pro 5G (Sword Black, 64 GB)', 4.705935013091879), ('realme 9i (Prism Blue, 64 GB)', 4.616634219692444), ('APPLE iPhone 12 Mini (Black, 64 GB)', 4.550708364048798), ('OPPO Reno6 5G (Stellar Black, 128 GB)', 4.312883245922572)] \n",
      "\n",
      "manish kumar ->  [('APPLE iPhone 11 (Yellow, 64 GB)', 4.94790157607858), ('APPLE iPhone 11 (White, 128 GB)', 4.945796176157356), ('APPLE iPhone 11 (Red, 64 GB)', 4.783677523496281), ('realme Narzo 50A (Oxygen Green, 128 GB)', 4.7562762226822635), ('REDMI Note 10S (Deep Sea Blue, 128 GB)', 4.68971979206873)] \n",
      "\n",
      "Shani Kumar ->  [('realme C21 (Cross Black, 64 GB)', 4.902545305791739), ('realme 8i (Space Purple, 64 GB)', 4.687085038537685), ('REDMI Note 10T 5G (Graphite Black, 64 GB)', 4.443742818447085), ('realme 8s 5G (Universe Purple, 128 GB)', 4.388476395927489), ('OPPO A33 (Mint Cream, 32 GB)', 4.362972242712104)] \n",
      "\n",
      "Anil Yadav ->  [('APPLE iPhone SE (Red, 64 GB)', 4.966834273784118), ('Infinix Hot 10 Play (Morandi Green, 64 GB)', 4.5604972508159065), ('REDMI 9 Prime (Matte Black, 64 GB)', 4.386351993213748), ('realme Narzo 20 (Victory Blue, 128 GB)', 4.2747923824642395), ('LAVA Flip', 4.245619814839917)] \n",
      "\n",
      "Aftab Alam ->  [('OPPO A12 (Flowing Silver, 64 GB)', 4.786885306091186), ('realme 8i (Space Black, 64 GB)', 4.6392360533155745), ('OPPO A12 (Blue, 32 GB)', 4.635209024404786), ('realme C21 (Cross Black, 32 GB)', 4.625024832157363), ('OPPO Reno6 5G (Aurora, 128 GB)', 4.617268051292251)] \n",
      "\n",
      "Kapil Kumar ->  [('APPLE iPhone 12 Mini (White, 64 GB)', 4.984774760804439), ('realme Narzo 30 5G (Racing Silver, 128 GB)', 4.689938809159836), ('realme C21 (Cross Blue, 64 GB)', 4.418482910853557), ('Infinix Hot 10 Play (7° Purple, 64 GB)', 4.208245874291811), ('SAMSUNG Galaxy F12 (Celestial Black, 64 GB)', 4.1646221697425725)] \n",
      "\n",
      "MANOJ KUMAR ->  [('APPLE iPhone SE (Red, 64 GB)', 4.925549023063382), ('ASUS VivoBook Ultra 14 Core i3 11th Gen - (8 GB/512 GB SSD/Windows 10 Home) X413EA-EB322TS Thin and Light Laptop', 4.836396264021957), ('realme Narzo 50A (Oxygen Green, 64 GB)', 4.805212143342823), ('POCO M2 Pro (Out of the Blue, 64 GB)', 4.548989343015247), ('POCO M2 Pro (Two Shades of Black, 64 GB)', 4.49736603481446)] \n",
      "\n",
      "Arjun Kumar ->  [('realme C21 (Cross Black, 64 GB)', 5.0862526599688245), ('Infinix Hot 10 (Ocean Wave, 64 GB)', 4.957096626844649), ('realme 8 5G (Supersonic Black, 64 GB)', 4.952950717528522), ('OPPO A31 (Lake Green, 64 GB)', 4.879971295509077), ('Infinix Smart 5 (7 Purple, 32 GB)', 4.878310481373442)] \n",
      "\n",
      "Surender Kumar ->  [('APPLE iPhone 11 (Yellow, 64 GB)', 5.115537775562242), ('APPLE iPhone 11 (Black, 64 GB)', 5.078042169020954), ('APPLE iPhone 11 (Black, 128 GB)', 5.00856804928217), ('APPLE iPhone 11 (Red, 64 GB)', 4.978966577495902), ('realme 8s 5G (Universe Purple, 128 GB)', 4.697271268168214)] \n",
      "\n",
      "Aman Verma ->  [('APPLE iPhone 12 Mini (Blue, 64 GB)', 4.515237530824326), ('realme C25Y (Metal Grey, 64 GB)', 4.501306548596172), ('APPLE iPhone 12 Mini (White, 64 GB)', 4.440102922138916), ('APPLE iPhone SE (White, 64 GB)', 4.36276044666802), ('Infinix Note 10 Pro (Nordic Secret, 256 GB)', 4.35283105842607)] \n",
      "\n",
      "Rajeev Ranjan ->  [('APPLE iPhone 12 (White, 256 GB)', 4.802648019035924), ('realme Narzo 30 (Racing Blue, 64 GB)', 4.479934418414848), ('SAMSUNG Galaxy F22 (Denim Blue, 64 GB)', 4.405657674986967), ('OPPO A12 (Black, 32 GB)', 4.329496280073427), ('Micromax IN Note 1 (Green, 64 GB)', 4.291356178278381)] \n",
      "\n",
      "ASHOK KUMAR ->  [('REDMI 9 Power (Blazing Blue, 64 GB)', 4.833121118235514), ('OPPO A12 (Blue, 32 GB)', 4.751252234566222), ('POCO M3 (Cool Blue, 64 GB)', 4.690559346444627), ('realme 8 Pro (Infinite Black, 128 GB)', 4.675210116046811), ('realme 8i (Space Black, 64 GB)', 4.47552717849157)] \n",
      "\n",
      "Arun Singh ->  [('Infinix Smart 5 (Morandi Green, 32 GB)', 4.514061509734579), ('SAMSUNG Galaxy F12 (Celestial Black, 64 GB)', 4.443464515789393), ('realme GT Master Edition (Luna White, 128 GB)', 4.38974021222773), ('SAMSUNG Galaxy F12 (Sky Blue, 128 GB)', 4.386562683597689), ('SAMSUNG Galaxy F12 (Sky Blue, 128 GB)', 4.386562683597689)] \n",
      "\n",
      "Deepak  Sharma ->  [('APPLE iPhone 12 (Blue, 64 GB)', 4.9831744535919835), ('APPLE iPhone 12 (Red, 128 GB)', 4.960418715724432), ('APPLE iPhone SE (Red, 64 GB)', 4.947748382835641), ('APPLE iPhone SE (Red, 128 GB)', 4.837062142506046), ('POCO C3 (Arctic Blue, 32 GB)', 4.687985318682001)] \n",
      "\n",
      "Vishnu ->  [('realme C21 (Cross Blue, 32 GB)', 4.887348717790478), ('OPPO A33 (Moonlight Black, 32 GB)', 4.849959175096247), ('realme GT Master Edition (Luna White, 128 GB)', 4.66684976446929), ('MOTOROLA G40 Fusion (Frosted Champagne, 128 GB)', 4.634633706923584), ('REDMI 9i Sport (Carbon Black, 64 GB)', 4.4458278512873886)] \n",
      "\n",
      "Arjun ->  [('MOTOROLA G60 (Moonless, 128 GB)', 4.751226103844687), ('APPLE iPhone SE (Black, 128 GB)', 4.567590676451229), ('Micromax IN Note 1 (Green, 64 GB)', 4.519047316122045), ('APPLE iPhone SE (Red, 64 GB)', 4.479252258272436), ('OPPO Reno6 5G (Stellar Black, 128 GB)', 4.354728941149183)] \n",
      "\n",
      "Avinash Sharma ->  [('vivo V21 5G (Sunset Dazzle, 128 GB)', 5.132016940286132), ('vivo V21 5G (Arctic White, 128 GB)', 5.04138100617899), ('APPLE iPhone 12 (White, 256 GB)', 4.800390831850841), ('OPPO F17 Pro (Matte Black, 128 GB)', 4.777303192318336), ('APPLE iPhone 12 (Black, 64 GB)', 4.723086287912642)] \n",
      "\n",
      "Gaurav ->  [('realme C21 (Cross Black, 64 GB)', 4.9771934135989016), ('Infinix Hot 10 Play (Aegean Blue, 64 GB)', 4.817545021864876), ('Infinix Hot 10 Play (Morandi Green, 64 GB)', 4.806004550730751), ('Infinix Hot 10 Play (Obsidian Black, 64 GB)', 4.748450304036318), ('realme Narzo 50A (Oxygen Green, 64 GB)', 4.661561313530031)] \n",
      "\n",
      "Dheeraj Maurya ->  [('realme Narzo 50i (Mint Green, 32 GB)', 4.85589406455692), ('realme C25s (Watery Grey, 128 GB)', 4.773239757944677), ('realme C21 (Cross Blue, 64 GB)', 4.771205178941123), ('Infinix Smart 5A (Midnight Black, 32 GB)', 4.690952645317349), ('realme C25Y (Metal Grey, 128 GB)', 4.64886636625716)] \n",
      "\n",
      "Sachin Singh ->  [('APPLE iPhone 11 (White, 128 GB)', 5.094132410862437), ('APPLE iPhone 11 (Red, 64 GB)', 4.967594384068274), ('realme 9 Pro 5G (Midnight Black, 128 GB)', 4.904070579037489), ('Infinix Hot 10 Play (Obsidian Black, 64 GB)', 4.77830615763648), ('realme 8 5G (Supersonic Black, 64 GB)', 4.629385887082446)] \n",
      "\n",
      "Guddu Kumar ->  [('Nokia 105 DS 2020', 4.999971811907876), ('SAMSUNG Guru Music 2', 4.8908738059089325), ('Infinix Note 11 (Glacier Green, 64 GB)', 4.866980468299897), ('POCO M3 Pro 5G (Yellow, 64 GB)', 4.772125332174156), ('OPPO A53s 5G (Ink Black, 128 GB)', 4.746733780149277)] \n",
      "\n",
      "Sagar Sharma ->  [('SAMSUNG Galaxy F12 (Sky Blue, 64 GB)', 5.011389937910549), ('SAMSUNG Galaxy F12 (Sea Green, 64 GB)', 4.961037197156883), ('APPLE iPhone SE (Black, 128 GB)', 4.93500447299127), ('realme C11 2021 (Cool Blue, 32 GB)', 4.8740033089687795), ('MOTOROLA G60 (Frosted Champagne, 128 GB)', 4.81364831408408)] \n",
      "\n",
      "Pradeep ->  [('realme C25Y (Metal Grey, 128 GB)', 4.962204301363253), ('APPLE iPhone 12 (Green, 64 GB)', 4.87117600960201), ('SAMSUNG Guru Music 2', 4.761371739183982), ('realme C21Y (Cross Black, 64 GB)', 4.574107465157048), ('REDMI 9 Power (Mighty Black, 64 GB)', 4.385084319788642)] \n",
      "\n",
      "Deepak  Singh ->  [('APPLE iPhone 11 (Black, 64 GB)', 5.054736878854805), ('APPLE iPhone 11 (Yellow, 64 GB)', 5.038111371003927), ('APPLE iPhone 11 (Green, 128 GB)', 5.026546728863572), ('APPLE iPhone 11 (Purple, 64 GB)', 5.006493618944682), ('Infinix Note 11 (Celestial Snow, 64 GB)', 4.9187532440879504)] \n",
      "\n",
      "Surya ->  [('APPLE iPhone 12 (Green, 64 GB)', 5.03953357259507), ('APPLE iPhone 12 (Red, 128 GB)', 5.03046305993924), ('KARBONN K9 max', 4.756156572455473), ('realme X7 5G (Space Silver, 128 GB)', 4.73565753574572), ('REDMI Note 9 (Shadow Black, 64 GB)', 4.574042601507516)] \n",
      "\n",
      "Umesh  Kumar ->  [('REDMI 9 Power (Blazing Blue, 64 GB)', 4.830721165972335), ('realme 8 (Cyber Silver, 128 GB)', 4.497808935221305), ('MOTOROLA E7 Power (Coral Red, 64 GB)', 4.4368595745765145), ('realme 8s 5G (Universe Purple, 128 GB)', 4.428245090307727), ('realme 8s 5G (Universe Blue, 128 GB)', 4.3699146405933496)] \n",
      "\n",
      "Saurabh Mishra ->  [('APPLE iPhone 12 (Red, 128 GB)', 5.117999073108413), ('REDMI Note 10S (Cosmic Purple, 64 GB)', 5.102581090683564), ('APPLE iPhone 11 (Red, 64 GB)', 5.064568651917396), ('APPLE iPhone 11 (Purple, 64 GB)', 5.050803133723442), ('APPLE iPhone 12 (White, 256 GB)', 5.032859474591443)] \n",
      "\n",
      "Vikram  Singh ->  [('realme C21Y (Cross Black, 32 GB)', 4.9302464395786485), ('Nokia TA-1304/105 SS', 4.832862666620524), ('realme 8i (Space Purple, 64 GB)', 4.805577476064627), ('MOTOROLA G60 (Soft Silver, 128 GB)', 4.74937971871736), ('realme C21Y (Cross Blue, 32 GB)', 4.689949164874044)] \n",
      "\n",
      "Ashok  Kumar ->  [('APPLE iPhone 12 (Green, 64 GB)', 4.848693791977216), ('Xiaomi 11i 5G (Stealth Black, 128 GB)', 4.822680685570069), ('APPLE iPhone 12 (Purple, 64 GB)', 4.758035004965679), ('realme C11 2021 (Cool Blue, 32 GB)', 4.632777467324272), ('POCO M3 Pro 5G (Power Black, 128 GB)', 4.537338739672885)] \n",
      "\n",
      "Vikas Singh ->  [('Infinix Hot 10 Play (Obsidian Black, 64 GB)', 4.80454953682092), ('REDMI 9 Power (Blazing Blue, 64 GB)', 4.741224089630391), ('Infinix Smart 5 (Morandi Green, 32 GB)', 4.614515688137884), ('realme C21 (Cross Blue, 64 GB)', 4.376779146911288), ('Infinix Note 10 (7° Purple, 128 GB)', 4.350499869125799)] \n",
      "\n",
      "Roushan Kumar ->  [('realme 8 5G (Supersonic Black, 64 GB)', 4.954939542065386), ('APPLE iPhone 12 (Blue, 64 GB)', 4.339533942145843), ('APPLE iPhone 12 (Green, 64 GB)', 4.335974877895467), ('SAMSUNG Galaxy F12 (Sea Green, 64 GB)', 4.311486890308963), ('SAMSUNG Galaxy F12 (Sky Blue, 64 GB)', 4.306027029190542)] \n",
      "\n",
      "jitendra kumar ->  [('SAMSUNG GT-E1215', 4.899274521365769), ('realme 9 Pro+ 5G (Midnight Black, 128 GB)', 4.815899939257173), ('realme Narzo 50A (Oxygen Blue, 64 GB)', 4.753192031172439), ('realme 8s 5G (Universe Purple, 128 GB)', 4.7097957901362815), ('Infinix Smart 5 (Aegean Blue, 32 GB)', 4.6303771675387875)] \n",
      "\n",
      "Krishna Singh ->  [('realme C11 2021 (Cool Blue, 32 GB)', 5.067948174448526), ('Infinix Smart HD 2021 (Quartz Green, 32 GB)', 5.0019412581336775), ('realme C21 (Cross Blue, 64 GB)', 4.914702332759274), ('Infinix Note 11s (Symphony Cyan, 64 GB)', 4.877797596701077), ('realme X7 5G (Space Silver, 128 GB)', 4.849042880144398)] \n",
      "\n",
      "Ravi Teja ->  [('APPLE iPhone 11 (Purple, 128 GB)', 4.802848194875812), ('APPLE iPhone 11 (Yellow, 128 GB)', 4.7285514469086785), ('APPLE iPhone 11 (Green, 128 GB)', 4.703686902332446), ('APPLE iPhone 12 Mini (White, 64 GB)', 4.694532932586826), ('APPLE iPhone 11 (Red, 64 GB)', 4.6575453931701185)] \n",
      "\n",
      "Anand Singh ->  [('APPLE iPhone 12 (White, 256 GB)', 4.9166958086195836), ('OPPO F17 Pro (Metallic White, 128 GB)', 4.9142227054508325), ('OPPO A12 (Deep Blue, 32 GB)', 4.895180924439508), ('APPLE iPhone 12 (Red, 128 GB)', 4.858980201058117), ('SAMSUNG Galaxy F22 (Denim Black, 128 GB)', 4.75628676100226)] \n",
      "\n",
      "Rakesh kumar ->  [('realme X7 5G (Space Silver, 128 GB)', 4.693687963317739), ('APPLE iPhone SE (Red, 64 GB)', 4.666343211716871), ('POCO C3 (Arctic Blue, 32 GB)', 4.4242989262818915), ('Kechaoda K112', 4.355581654508016), ('realme 8 (Cyber Black, 128 GB)', 4.301205911064884)] \n",
      "\n",
      "sonu kumar ->  [('MOTOROLA E7 Power (Tahiti Blue, 64 GB)', 4.543995350398598), ('Infinix Smart 5A (Midnight Black, 32 GB)', 4.317839107258742), ('SAMSUNG Galaxy F22 (Denim Blue, 64 GB)', 4.316627986358807), ('SAMSUNG Guru Music 2', 4.268608407886409), ('realme Narzo 30 (Racing Blue, 64 GB)', 4.062969424476158)] \n",
      "\n",
      "Shashi Kumar ->  [('REDMI 9 Power (Blazing Blue, 64 GB)', 4.714038532210408), ('realme C21 (Cross Black, 64 GB)', 4.647901862033125), ('REDMI 9 Power (Mighty Black, 64 GB)', 4.483563440284602), ('Infinix Smart 5A (Midnight Black, 32 GB)', 4.4486118134197845), ('Infinix Smart 5 (Morandi Green, 32 GB)', 4.251287336675407)] \n",
      "\n",
      "Himanshu Gupta ->  [('realme Narzo 50A (Oxygen Green, 64 GB)', 4.863753820758815), ('SAMSUNG Galaxy F12 (Sky Blue, 128 GB)', 4.624791391214429), ('SAMSUNG Galaxy F12 (Sea Green, 128 GB)', 4.566879166981134), ('realme 8i (Space Purple, 128 GB)', 4.120711802384843), ('APPLE iPhone 12 (Red, 128 GB)', 3.9377084457526794)] \n",
      "\n",
      "Shubham Mishra ->  [('realme Narzo 30 (Racing Silver, 64 GB)', 4.851937839453451), ('realme C20 (Cool Blue, 32 GB)', 4.85096408868326), ('Itel It2171', 4.784268659420384), ('realme 8 (Cyber Silver, 128 GB)', 4.52632007479447), ('Infinix Hot 10 (Ocean Wave, 64 GB)', 4.5029360563759715)] \n",
      "\n",
      "Raja ->  [('POCO M3 (Cool Blue, 64 GB)', 4.815146908717099), ('POCO C3 (Matte Black, 32 GB)', 4.726842185310165), ('realme C21 (Cross Blue, 64 GB)', 4.6648703049709495), ('OPPO Reno5 Pro 5G (Starry Black, 128 GB)', 4.377844099524362), ('MOTOROLA G51 5G (Indigo Blue, 64 GB)', 4.0736673952065825)] \n",
      "\n",
      "Ashish Sharma ->  [('APPLE iPhone 12 (Green, 64 GB)', 4.846688734822747), ('realme 8s 5G (Universe Blue, 128 GB)', 4.8389649260800125), ('APPLE iPhone 12 Mini (Blue, 64 GB)', 4.768872416467353), ('OPPO Reno6 5G (Aurora, 128 GB)', 4.765237997892225), ('OPPO Reno6 5G (Stellar Black, 128 GB)', 4.761541452743854)] \n",
      "\n",
      "Ajeet Singh ->  [('APPLE iPhone 12 (Purple, 64 GB)', 4.976954727028483), ('APPLE iPhone 12 (Black, 128 GB)', 4.891626261182061), ('realme C25Y (Metal Grey, 64 GB)', 4.455289212506616), ('realme C25Y (Glacier Blue, 64 GB)', 4.42434269227903), ('Infinix Hot 10 (Amber Red, 64 GB)', 4.372385707009925)] \n",
      "\n",
      "Dheeraj Kumar ->  [('REDMI 9 Power (Fiery Red, 128 GB)', 4.939496930354538), ('APPLE iPhone 11 (Green, 128 GB)', 4.762161030905389), ('APPLE iPhone 11 (Red, 64 GB)', 4.684117600782728), ('realme 8s 5G (Universe Blue, 128 GB)', 4.547787056899373), ('realme C21 (Cross Blue, 64 GB)', 4.352135488747547)] \n",
      "\n",
      "SONU KUMAR ->  [('APPLE iPhone 12 (White, 64 GB)', 4.941725999905651), ('POCO M3 (Cool Blue, 64 GB)', 4.788405648093595), ('vivo T1 5G (Rainbow Fantasy, 128 GB)', 4.376238135091986), ('MOTOROLA e40 (Carbon Gray, 64 GB)', 3.7236107271932233), ('REDMI Note 9 (Shadow Black, 64 GB)', 3.4752311638933637)] \n",
      "\n",
      "Raju ->  [('Infinix Hot 10 (Ocean Wave, 64 GB)', 4.9331336469469935), ('APPLE iPhone 12 Mini (White, 64 GB)', 4.896430514947825), ('OPPO A12 (Blue, 32 GB)', 4.798080229683006), ('OPPO Reno6 5G (Aurora, 128 GB)', 4.750600714760091), ('Redmi 9 (Carbon Black, 64 GB)', 4.680868584844149)] \n",
      "\n",
      "Shravan Kumar ->  [('realme 8i (Space Purple, 128 GB)', 4.925497594746086), ('POCO M3 (Power Black, 64 GB)', 4.866579190552058), ('OPPO A53s 5G (Crystal Blue, 128 GB)', 4.7936571357415705), ('OPPO A53s 5G (Ink Black, 128 GB)', 4.7618177202630205), ('REDMI 9 Prime (Matte Black, 64 GB)', 4.747673565927147)] \n",
      "\n",
      "Vikash  Kumar  ->  [('realme Narzo 30 5G (Racing Silver, 128 GB)', 4.804023837315696), ('OPPO A12 (Flowing Silver, 64 GB)', 4.788138684441125), ('MOTOROLA E7 Power (Tahiti Blue, 64 GB)', 4.7115104571690996), ('realme Narzo 50A (Oxygen Blue, 128 GB)', 4.652725808428844), ('POCO M2 Pro (Two Shades of Black, 64 GB)', 4.496997416435924)] \n",
      "\n",
      "Vikash Sharma ->  [('APPLE iPhone 11 (Purple, 128 GB)', 5.047188051016883), ('Infinix Smart 5A (Ocean Wave, 32 GB)', 4.909139597210017), ('realme C21 (Cross Black, 64 GB)', 4.906086264561213), ('Infinix Smart 5A (Midnight Black, 32 GB)', 4.897780089351853), ('SAMSUNG Metro 313 Dual Sim', 4.8512192264671175)] \n",
      "\n",
      "Ashish ->  [('REDMI 9 Prime (Matte Black, 64 GB)', 4.8672355386806325), ('realme Narzo 50i (Mint Green, 32 GB)', 4.841121516000213), ('POCO X3 (Cobalt Blue, 64 GB)', 4.647713336972008), ('REDMI 9 Power (Mighty Black, 64 GB)', 4.644658947014996), ('Moto G71 5G (Neptune Green, 128 GB)', 4.603480672354098)] \n",
      "\n",
      "Santhosh ->  [('SAMSUNG Galaxy F12 (Sky Blue, 64 GB)', 4.884347410896818), ('Mi 11 Lite (Jazz Blue, 128 GB)', 4.470159943741983), ('MOTOROLA G40 Fusion (Dynamic Gray, 128 GB)', 4.423440890371137), ('OPPO Reno6 5G (Stellar Black, 128 GB)', 4.32100319025289), ('Nokia 150 TA-1235 DS', 4.2092433596286405)] \n",
      "\n",
      "CPU times: total: 188 ms\n",
      "Wall time: 160 ms\n"
     ]
    }
   ],
   "source": [
    "%%time\n",
    "#recommend top 5 products for test users\n",
    "top_5 = get_top_n(knn_i_pred,5)\n",
    "print('Top 5 recommendations for all test users are: \\n')\n",
    "for key,value in top_5.items(): print(key,'-> ',value,'\\n') # to print all the recommendations for all the users\n",
    "#print('Top 5 recommendations for 3 users are: \\n')\n",
    "#for key,value in {k: v for k, v in top_5.items() if k in ['Amazon Customer','Cliente Amazon',\"Client d'Amazon\"]}.items(): print(key,'-> ',value,'\\n')"
   ]
  },
  {
   "cell_type": "markdown",
   "id": "crucial-delhi",
   "metadata": {
    "papermill": {
     "duration": 0.119787,
     "end_time": "2021-05-17T07:46:55.179109",
     "exception": false,
     "start_time": "2021-05-17T07:46:55.059322",
     "status": "completed"
    },
    "tags": []
   },
   "source": [
    "## 9. Results with cross_validation techniques <a id=\"cross_validation\"></a>\n",
    "[Go to top](#toc)"
   ]
  },
  {
   "cell_type": "code",
   "execution_count": 241,
   "id": "introductory-ghost",
   "metadata": {
    "execution": {
     "iopub.execute_input": "2021-05-17T07:46:55.456450Z",
     "iopub.status.busy": "2021-05-17T07:46:55.451439Z",
     "iopub.status.idle": "2021-05-17T07:47:37.453946Z",
     "shell.execute_reply": "2021-05-17T07:47:37.453368Z"
    },
    "papermill": {
     "duration": 42.158823,
     "end_time": "2021-05-17T07:47:37.454096",
     "exception": false,
     "start_time": "2021-05-17T07:46:55.295273",
     "status": "completed"
    },
    "tags": []
   },
   "outputs": [
    {
     "name": "stdout",
     "output_type": "stream",
     "text": [
      "\n",
      " Mean svd cv score: 1.17 \n",
      "\n",
      "CPU times: total: 12.7 s\n",
      "Wall time: 12.7 s\n"
     ]
    },
    {
     "data": {
      "text/plain": [
       "{'test_rmse': array([1.16432452, 1.17822599, 1.16919732, 1.17834777, 1.17975428]),\n",
       " 'fit_time': (2.384936809539795,\n",
       "  2.370917320251465,\n",
       "  2.449991226196289,\n",
       "  2.4320075511932373,\n",
       "  2.413001775741577),\n",
       " 'test_time': (0.059000253677368164,\n",
       "  0.059007883071899414,\n",
       "  0.06100654602050781,\n",
       "  0.059000492095947266,\n",
       "  0.06299901008605957)}"
      ]
     },
     "execution_count": 241,
     "metadata": {},
     "output_type": "execute_result"
    }
   ],
   "source": [
    "%%time\n",
    "svd_cv = cross_validate(svd,revs50_, measures=['RMSE'], cv=5, verbose=False)\n",
    "print('\\n Mean svd cv score:', round(svd_cv['test_rmse'].mean(),2),'\\n')\n",
    "svd_cv"
   ]
  },
  {
   "cell_type": "code",
   "execution_count": 242,
   "id": "binding-mortgage",
   "metadata": {
    "execution": {
     "iopub.execute_input": "2021-05-17T07:47:37.711588Z",
     "iopub.status.busy": "2021-05-17T07:47:37.706521Z",
     "iopub.status.idle": "2021-05-17T07:49:07.159030Z",
     "shell.execute_reply": "2021-05-17T07:49:07.158337Z"
    },
    "papermill": {
     "duration": 89.586525,
     "end_time": "2021-05-17T07:49:07.159226",
     "exception": false,
     "start_time": "2021-05-17T07:47:37.572701",
     "status": "completed"
    },
    "tags": []
   },
   "outputs": [
    {
     "name": "stdout",
     "output_type": "stream",
     "text": [
      "Estimating biases using als...\n",
      "Computing the pearson_baseline similarity matrix...\n",
      "Done computing similarity matrix.\n",
      "Estimating biases using als...\n",
      "Computing the pearson_baseline similarity matrix...\n",
      "Done computing similarity matrix.\n",
      "Estimating biases using als...\n",
      "Computing the pearson_baseline similarity matrix...\n",
      "Done computing similarity matrix.\n",
      "Estimating biases using als...\n",
      "Computing the pearson_baseline similarity matrix...\n",
      "Done computing similarity matrix.\n",
      "Estimating biases using als...\n",
      "Computing the pearson_baseline similarity matrix...\n",
      "Done computing similarity matrix.\n",
      "\n",
      " Mean knn_i_cv score: 1.15 \n",
      "\n",
      "CPU times: total: 15.6 s\n",
      "Wall time: 15.6 s\n"
     ]
    },
    {
     "data": {
      "text/plain": [
       "{'test_rmse': array([1.13437229, 1.1611105 , 1.15660914, 1.14990846, 1.14875311]),\n",
       " 'fit_time': (1.0879998207092285,\n",
       "  1.089993953704834,\n",
       "  1.1349985599517822,\n",
       "  1.1219911575317383,\n",
       "  1.0869991779327393),\n",
       " 'test_time': (1.780008316040039,\n",
       "  2.0210061073303223,\n",
       "  1.9630029201507568,\n",
       "  1.8730082511901855,\n",
       "  2.0970005989074707)}"
      ]
     },
     "execution_count": 242,
     "metadata": {},
     "output_type": "execute_result"
    }
   ],
   "source": [
    "%%time\n",
    "knn_i_cv = cross_validate(knn_i,revs50_, measures=['RMSE'], cv=5, verbose=False)\n",
    "print('\\n Mean knn_i_cv score:', round(knn_i_cv['test_rmse'].mean(),2),'\\n')\n",
    "knn_i_cv"
   ]
  },
  {
   "cell_type": "code",
   "execution_count": 243,
   "id": "comparable-actress",
   "metadata": {
    "execution": {
     "iopub.execute_input": "2021-05-17T07:49:07.417132Z",
     "iopub.status.busy": "2021-05-17T07:49:07.416411Z",
     "iopub.status.idle": "2021-05-17T07:49:44.496787Z",
     "shell.execute_reply": "2021-05-17T07:49:44.496259Z"
    },
    "papermill": {
     "duration": 37.209542,
     "end_time": "2021-05-17T07:49:44.496968",
     "exception": false,
     "start_time": "2021-05-17T07:49:07.287426",
     "status": "completed"
    },
    "tags": []
   },
   "outputs": [
    {
     "name": "stdout",
     "output_type": "stream",
     "text": [
      "Estimating biases using als...\n",
      "Computing the pearson_baseline similarity matrix...\n",
      "Done computing similarity matrix.\n",
      "Estimating biases using als...\n",
      "Computing the pearson_baseline similarity matrix...\n",
      "Done computing similarity matrix.\n",
      "Estimating biases using als...\n",
      "Computing the pearson_baseline similarity matrix...\n",
      "Done computing similarity matrix.\n",
      "Estimating biases using als...\n",
      "Computing the pearson_baseline similarity matrix...\n",
      "Done computing similarity matrix.\n",
      "Estimating biases using als...\n",
      "Computing the pearson_baseline similarity matrix...\n",
      "Done computing similarity matrix.\n",
      "\n",
      " Mean knn_u_cv score: 1.19 \n",
      "\n",
      "CPU times: total: 16.5 s\n",
      "Wall time: 16.5 s\n"
     ]
    },
    {
     "data": {
      "text/plain": [
       "{'test_rmse': array([1.19370809, 1.17780232, 1.19118126, 1.19000574, 1.19397933]),\n",
       " 'fit_time': (1.1839871406555176,\n",
       "  1.1299922466278076,\n",
       "  1.2029929161071777,\n",
       "  1.173999547958374,\n",
       "  1.2729966640472412),\n",
       " 'test_time': (1.8900001049041748,\n",
       "  2.211007595062256,\n",
       "  2.0589983463287354,\n",
       "  2.1950085163116455,\n",
       "  1.8860082626342773)}"
      ]
     },
     "execution_count": 243,
     "metadata": {},
     "output_type": "execute_result"
    }
   ],
   "source": [
    "%%time\n",
    "knn_u_cv = cross_validate(knn_u,revs50_, measures=['RMSE'], cv=5, verbose=False)\n",
    "print('\\n Mean knn_u_cv score:', round(knn_u_cv['test_rmse'].mean(),2),'\\n')\n",
    "knn_u_cv"
   ]
  },
  {
   "cell_type": "code",
   "execution_count": 244,
   "id": "earlier-article",
   "metadata": {
    "execution": {
     "iopub.execute_input": "2021-05-17T07:49:44.793772Z",
     "iopub.status.busy": "2021-05-17T07:49:44.790568Z",
     "iopub.status.idle": "2021-05-17T07:49:44.924472Z",
     "shell.execute_reply": "2021-05-17T07:49:44.923724Z"
    },
    "papermill": {
     "duration": 0.286652,
     "end_time": "2021-05-17T07:49:44.924626",
     "exception": false,
     "start_time": "2021-05-17T07:49:44.637974",
     "status": "completed"
    },
    "tags": []
   },
   "outputs": [
    {
     "data": {
      "text/plain": [
       "<AxesSubplot:>"
      ]
     },
     "execution_count": 244,
     "metadata": {},
     "output_type": "execute_result"
    },
    {
     "data": {
      "image/png": "[encoded data removed]",
      "text/plain": [
       "<Figure size 432x288 with 1 Axes>"
      ]
     },
     "metadata": {
      "needs_background": "light"
     },
     "output_type": "display_data"
    }
   ],
   "source": [
    "# Comparison of RMSE scores(mean cv) from different collaorative algorithms\n",
    "sns.barplot(y=['svd_cv_rmse','knn_i_cv_rmse', 'knn_u_cv_rmse'],\n",
    "            x=[svd_cv['test_rmse'].mean(),knn_i_cv['test_rmse'].mean(), knn_u_cv['test_rmse'].mean()])"
   ]
  },
  {
   "cell_type": "markdown",
   "id": "adopted-decimal",
   "metadata": {
    "papermill": {
     "duration": 0.144415,
     "end_time": "2021-05-17T07:49:45.212985",
     "exception": false,
     "start_time": "2021-05-17T07:49:45.068570",
     "status": "completed"
    },
    "tags": []
   },
   "source": [
    "Thus, for cv scores too, knn_i is giving a better performance"
   ]
  },
  {
   "cell_type": "markdown",
   "id": "lesser-manhattan",
   "metadata": {
    "papermill": {
     "duration": 0.133275,
     "end_time": "2021-05-17T07:49:45.486231",
     "exception": false,
     "start_time": "2021-05-17T07:49:45.352956",
     "status": "completed"
    },
    "tags": []
   },
   "source": [
    "**10: In what business scenario you should use popularity based Recommendation Systems ?** <a id=\"q10\"></a>\n",
    "[Go to top](#toc)\n",
    "\n",
    "> Popularity based recommendation systems can be useful in multiple scenarios like:  \n",
    "> 1. When there is no data about the user and items.\n",
    "> 2. When it is required to show most popular items in different categories along with personalized results like: \n",
    ">     * Most popular punjabi songs or most popular english songs on a music website/app\n",
    ">     * Most popular trend in cwestern wear or traditional wear\n",
    ">     * Most popular holiday packages for honeymoon trips, or bike trips or himalayan trips etc"
   ]
  },
  {
   "cell_type": "markdown",
   "id": "outdoor-error",
   "metadata": {
    "papermill": {
     "duration": 0.133067,
     "end_time": "2021-05-17T07:49:45.756419",
     "exception": false,
     "start_time": "2021-05-17T07:49:45.623352",
     "status": "completed"
    },
    "tags": []
   },
   "source": [
    "**11: In what business scenario you should use CF based Recommendation Systems ?**  <a id=\"q11\"></a>\n",
    "[Go to top](#toc)\n",
    "> Collaborative filtering is useful in scenarios like: \n",
    "> 1. Giving personalised recommendation to the user, when user history or item data is available. Some examples can be:\n",
    ">     * Personalized movie recommendation of movie sites like Netflix, Amazon Prime, Youtube etc"
   ]
  },
  {
   "cell_type": "markdown",
   "id": "every-wealth",
   "metadata": {
    "papermill": {
     "duration": 0.132788,
     "end_time": "2021-05-17T07:49:46.018542",
     "exception": false,
     "start_time": "2021-05-17T07:49:45.885754",
     "status": "completed"
    },
    "tags": []
   },
   "source": [
    "**12: What other possible methods can you think of which can further improve the recommendation for different users ?**  <a id=\"q12\"></a>\n",
    "[Go to top](#toc)\n",
    "> Other from Popularity and Collaborative Filtering, hybrid recommendation methods like Content+Collaborative method, Demographic, Utility based, and Knowledge based recommendation system can also be used."
   ]
  }
 ],
 "metadata": {
  "interpreter": {
   "hash": "369f2c481f4da34e4445cda3fffd2e751bd1c4d706f27375911949ba6bb62e1c"
  },
  "kernelspec": {
   "display_name": "Python 3.10.2 64-bit",
   "language": "python",
   "name": "python3"
  },
  "language_info": {
   "codemirror_mode": {
    "name": "ipython",
    "version": 3
   },
   "file_extension": ".py",
   "mimetype": "text/x-python",
   "name": "python",
   "nbconvert_exporter": "python",
   "pygments_lexer": "ipython3",
   "version": "3.10.2"
  },
  "papermill": {
   "default_parameters": {},
   "duration": 306.194295,
   "end_time": "2021-05-17T07:49:48.236307",
   "environment_variables": {},
   "exception": null,
   "input_path": "__notebook__.ipynb",
   "output_path": "__notebook__.ipynb",
   "parameters": {},
   "start_time": "2021-05-17T07:44:42.042012",
   "version": "2.3.3"
  }
 },
 "nbformat": 4,
 "nbformat_minor": 5
}
