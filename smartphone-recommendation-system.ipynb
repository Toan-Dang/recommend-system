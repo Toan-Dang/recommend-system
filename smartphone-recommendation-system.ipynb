{
 "cells": [
  {
   "cell_type": "code",
   "execution_count": null,
   "id": "veterinary-azerbaijan",
   "metadata": {
    "_cell_guid": "b1076dfc-b9ad-4769-8c92-a6c4dae69d19",
    "_uuid": "8f2839f25d086af736a60e9eeb907d3b93b6e0e5",
    "papermill": {
     "duration": 0.060519,
     "end_time": "2021-05-17T07:44:50.749596",
     "exception": false,
     "start_time": "2021-05-17T07:44:50.689077",
     "status": "completed"
    },
    "tags": []
   },
   "outputs": [],
   "source": []
  },
  {
   "cell_type": "markdown",
   "id": "smoking-subcommittee",
   "metadata": {
    "papermill": {
     "duration": 0.056985,
     "end_time": "2021-05-17T07:44:50.865198",
     "exception": false,
     "start_time": "2021-05-17T07:44:50.808213",
     "status": "completed"
    },
    "tags": []
   },
   "source": [
    "# Description: \n",
    "* **DOMAIN:** Smartphone, Electronics  \n",
    "\n",
    "* **CONTEXT:** India is the second largest market globally for smartphones after China. About 134 million smartphones were sold across India in the year 2017 and is estimated to increase to about 442 million in 2022. India ranked second in the average time spent on mobile web by smartphone users across Asia Pacific. The combination of very high sales volumes and the average smartphone consumer behaviour has made India a very attractive market for foreign vendors. As per Consumer behaviour, 97% of consumers turn to a search engine when they are buying a product vs. 15% who turn to social media. If a seller succeeds to publish smartphones based on user’s behaviour/choice at the right place, there are 90% chances that user will enquire for the same. This Case Study is targeted to build a recommendation system based on individual consumer’s behaviour or choice.\n",
    "\n",
    "* **DATA DESCRIPTION:**  \n",
    "• author : name of the person who gave the rating  \n",
    "• country : country the person who gave the rating belongs to  \n",
    "• data : date of the rating  \n",
    "• domain: website from which the rating was taken from  \n",
    "• extract: rating content  \n",
    "• language: language in which the rating was given  \n",
    "• product: name of the product/mobile phone for which the rating was given  \n",
    "• score: average rating for the phone  \n",
    "• score_max: highest rating given for the phone  \n",
    "• source: source from where the rating was taken  \n",
    "\n",
    "* **PROJECT OBJECTIVE:** We will build a recommendation system using popularity based and collaborative filtering methods to recommend mobile phones to a user which are most popular and personalised respectively."
   ]
  },
  {
   "cell_type": "markdown",
   "id": "liquid-aspect",
   "metadata": {
    "papermill": {
     "duration": 0.058051,
     "end_time": "2021-05-17T07:44:50.980384",
     "exception": false,
     "start_time": "2021-05-17T07:44:50.922333",
     "status": "completed"
    },
    "tags": []
   },
   "source": [
    "## Table of Contents <a id=\"toc\"></a>\n",
    "* [# Import Libraries](#import_libraries)  \n",
    "1. [Data Prepration and cleaning](#data_prepration)  \n",
    "    1.1. [Load the dataset](#load_data)  \n",
    "    1.2. [Merge dataset](#merge_data)  \n",
    "    1.3. [Basic Analysis](#basic_analysis)  \n",
    "    1.4. [Modification 1: revs1: Data cleaning, Imputation and rounding-off](#clean_impute_round-off)  \n",
    "    1.5. [Data split](#data_split)  \n",
    "2. [Analysis](#analysis)\n",
    "3. [Recommend top 5 mobile phones using popularity based model](#popularity_model)\n",
    "4. [Collaborative filtering based models](#collaborative_filtering)  \n",
    "    4.1 [SVD](#svd)  \n",
    "    4.2 [kNNWithMeans_Item based](#knnwithmeans_item_based)  \n",
    "    4.3 [kNNWithMeans_User based](#knnwithmeans_user_based)  \n",
    "5. [Show RMSE value and comparison](#rmse)  \n",
    "6. [Average ratings for test users](#average_rating)  \n",
    "7. [Summary (findings and Inferences)](#summary_inferences)\n",
    "8. [Recommend top 5 products for test users](#recommend_top_5)  \n",
    "9. [Results with cross_validation techniques](#cross_validation)  \n",
    "10. [In what business scenario you should use popularity based Recommendation Systems?](#q10)  \n",
    "11. [In what business scenario you should use CF based Recommendation Systems ?](#q11)\n",
    "12. [What other possible methods can you think of which can further improve the recommendation for different users ?](#q12)"
   ]
  },
  {
   "cell_type": "markdown",
   "id": "useful-ontario",
   "metadata": {
    "papermill": {
     "duration": 0.057359,
     "end_time": "2021-05-17T07:44:51.097797",
     "exception": false,
     "start_time": "2021-05-17T07:44:51.040438",
     "status": "completed"
    },
    "tags": []
   },
   "source": [
    "## #. Import libraries <a id=\"import_libraries\"></a>\n",
    "[Go to top](#toc)"
   ]
  },
  {
   "cell_type": "markdown",
   "id": "funny-visitor",
   "metadata": {
    "papermill": {
     "duration": 0.057145,
     "end_time": "2021-05-17T07:44:51.212708",
     "exception": false,
     "start_time": "2021-05-17T07:44:51.155563",
     "status": "completed"
    },
    "tags": []
   },
   "source": [
    "[Go to top](#toc)"
   ]
  },
  {
   "cell_type": "code",
   "execution_count": 60,
   "id": "thorough-slovakia",
   "metadata": {
    "execution": {
     "iopub.execute_input": "2021-05-17T07:44:51.366182Z",
     "iopub.status.busy": "2021-05-17T07:44:51.365558Z",
     "iopub.status.idle": "2021-05-17T07:44:51.369037Z",
     "shell.execute_reply": "2021-05-17T07:44:51.368260Z"
    },
    "papermill": {
     "duration": 0.08351,
     "end_time": "2021-05-17T07:44:51.369203",
     "exception": false,
     "start_time": "2021-05-17T07:44:51.285693",
     "status": "completed"
    },
    "tags": []
   },
   "outputs": [],
   "source": [
    "# Main libraries\n",
    "import os\n",
    "import pandas as pd\n",
    "import numpy as np"
   ]
  },
  {
   "cell_type": "code",
   "execution_count": 61,
   "id": "severe-affiliation",
   "metadata": {
    "execution": {
     "iopub.execute_input": "2021-05-17T07:44:51.493664Z",
     "iopub.status.busy": "2021-05-17T07:44:51.493026Z",
     "iopub.status.idle": "2021-05-17T07:44:53.846482Z",
     "shell.execute_reply": "2021-05-17T07:44:53.845719Z"
    },
    "papermill": {
     "duration": 2.419414,
     "end_time": "2021-05-17T07:44:53.846632",
     "exception": false,
     "start_time": "2021-05-17T07:44:51.427218",
     "status": "completed"
    },
    "tags": []
   },
   "outputs": [],
   "source": [
    "# Visualization libraries\n",
    "import matplotlib.pyplot as plt\n",
    "%matplotlib inline\n",
    "import seaborn as sns\n",
    "import plotly.graph_objs as go\n",
    "import plotly.express as px"
   ]
  },
  {
   "cell_type": "code",
   "execution_count": 62,
   "id": "adapted-knowing",
   "metadata": {
    "execution": {
     "iopub.execute_input": "2021-05-17T07:44:53.968522Z",
     "iopub.status.busy": "2021-05-17T07:44:53.967596Z",
     "iopub.status.idle": "2021-05-17T07:44:54.086553Z",
     "shell.execute_reply": "2021-05-17T07:44:54.087123Z"
    },
    "papermill": {
     "duration": 0.182643,
     "end_time": "2021-05-17T07:44:54.087303",
     "exception": false,
     "start_time": "2021-05-17T07:44:53.904660",
     "status": "completed"
    },
    "tags": []
   },
   "outputs": [],
   "source": [
    "# Libraries for recommendation systems\n",
    "from collections import defaultdict\n",
    "from surprise import SVD\n",
    "from surprise import KNNWithMeans\n",
    "from surprise import Dataset\n",
    "from surprise import accuracy\n",
    "from surprise import Reader\n",
    "from surprise.model_selection import cross_validate\n",
    "from surprise.model_selection import train_test_split"
   ]
  },
  {
   "cell_type": "code",
   "execution_count": 63,
   "id": "looking-faculty",
   "metadata": {
    "execution": {
     "iopub.execute_input": "2021-05-17T07:44:54.222506Z",
     "iopub.status.busy": "2021-05-17T07:44:54.208898Z",
     "iopub.status.idle": "2021-05-17T07:45:15.168578Z",
     "shell.execute_reply": "2021-05-17T07:45:15.168039Z"
    },
    "papermill": {
     "duration": 21.023006,
     "end_time": "2021-05-17T07:45:15.168741",
     "exception": false,
     "start_time": "2021-05-17T07:44:54.145735",
     "status": "completed"
    },
    "scrolled": true,
    "tags": []
   },
   "outputs": [],
   "source": [
    "# !pip install translate\n",
    "# !pip install google-trans-new"
   ]
  },
  {
   "cell_type": "code",
   "execution_count": 64,
   "id": "overall-voice",
   "metadata": {
    "execution": {
     "iopub.execute_input": "2021-05-17T07:45:15.329490Z",
     "iopub.status.busy": "2021-05-17T07:45:15.328465Z",
     "iopub.status.idle": "2021-05-17T07:45:15.398580Z",
     "shell.execute_reply": "2021-05-17T07:45:15.397859Z"
    },
    "papermill": {
     "duration": 0.152749,
     "end_time": "2021-05-17T07:45:15.398770",
     "exception": false,
     "start_time": "2021-05-17T07:45:15.246021",
     "status": "completed"
    },
    "tags": []
   },
   "outputs": [],
   "source": [
    "from google_trans_new import google_translator\n",
    "from translate import Translator"
   ]
  },
  {
   "cell_type": "code",
   "execution_count": 65,
   "id": "integral-parcel",
   "metadata": {
    "execution": {
     "iopub.execute_input": "2021-05-17T07:45:15.559564Z",
     "iopub.status.busy": "2021-05-17T07:45:15.558791Z",
     "iopub.status.idle": "2021-05-17T07:45:15.560918Z",
     "shell.execute_reply": "2021-05-17T07:45:15.561399Z"
    },
    "papermill": {
     "duration": 0.083926,
     "end_time": "2021-05-17T07:45:15.561578",
     "exception": false,
     "start_time": "2021-05-17T07:45:15.477652",
     "status": "completed"
    },
    "tags": []
   },
   "outputs": [],
   "source": [
    "import warnings\n",
    "warnings.filterwarnings('ignore')"
   ]
  },
  {
   "cell_type": "code",
   "execution_count": 66,
   "id": "beneficial-yeast",
   "metadata": {
    "execution": {
     "iopub.execute_input": "2021-05-17T07:45:15.718769Z",
     "iopub.status.busy": "2021-05-17T07:45:15.718095Z",
     "iopub.status.idle": "2021-05-17T07:45:15.723926Z",
     "shell.execute_reply": "2021-05-17T07:45:15.723276Z"
    },
    "papermill": {
     "duration": 0.085776,
     "end_time": "2021-05-17T07:45:15.724065",
     "exception": false,
     "start_time": "2021-05-17T07:45:15.638289",
     "status": "completed"
    },
    "tags": []
   },
   "outputs": [],
   "source": [
    "pd.set_option(\"display.max_rows\", 50, \"display.max_columns\", 50)\n",
    "pd.set_option('display.max_colwidth', None)\n",
    "plt.style.use('bmh')\n",
    "# create contants\n",
    "RS=612"
   ]
  },
  {
   "cell_type": "markdown",
   "id": "mexican-jumping",
   "metadata": {
    "papermill": {
     "duration": 0.07622,
     "end_time": "2021-05-17T07:45:15.876784",
     "exception": false,
     "start_time": "2021-05-17T07:45:15.800564",
     "status": "completed"
    },
    "tags": []
   },
   "source": [
    "## 1. Data preparation and basic cleaning <a id=\"data_prepration\"></a>\n",
    "[Go to top](#toc)"
   ]
  },
  {
   "cell_type": "markdown",
   "id": "naval-frank",
   "metadata": {
    "papermill": {
     "duration": 0.077629,
     "end_time": "2021-05-17T07:45:16.033072",
     "exception": false,
     "start_time": "2021-05-17T07:45:15.955443",
     "status": "completed"
    },
    "tags": []
   },
   "source": [
    "[Go to top](#toc)"
   ]
  },
  {
   "cell_type": "markdown",
   "id": "arbitrary-monkey",
   "metadata": {
    "papermill": {
     "duration": 0.076242,
     "end_time": "2021-05-17T07:45:16.185430",
     "exception": false,
     "start_time": "2021-05-17T07:45:16.109188",
     "status": "completed"
    },
    "tags": []
   },
   "source": [
    "### 1.1.  Load the dataset <a id=\"load_data\"></a>\n",
    "[Go to top](#toc)"
   ]
  },
  {
   "cell_type": "code",
   "execution_count": 67,
   "id": "other-surge",
   "metadata": {
    "execution": {
     "iopub.execute_input": "2021-05-17T07:45:16.347075Z",
     "iopub.status.busy": "2021-05-17T07:45:16.346354Z",
     "iopub.status.idle": "2021-05-17T07:45:29.817726Z",
     "shell.execute_reply": "2021-05-17T07:45:29.818203Z"
    },
    "papermill": {
     "duration": 13.556562,
     "end_time": "2021-05-17T07:45:29.818396",
     "exception": false,
     "start_time": "2021-05-17T07:45:16.261834",
     "status": "completed"
    },
    "tags": []
   },
   "outputs": [
    {
     "name": "stdout",
     "output_type": "stream",
     "text": [
      "CPU times: total: 5.11 s\n",
      "Wall time: 5.11 s\n"
     ]
    }
   ],
   "source": [
    "%%time\n",
    "#Loading Data files\n",
    "review_1 = pd.read_csv('phone_user_review_file_1.csv', encoding='iso-8859-1')\n",
    "review_2 = pd.read_csv('phone_user_review_file_2.csv', encoding='iso-8859-1')\n",
    "review_3 = pd.read_csv('phone_user_review_file_3.csv', encoding='iso-8859-1')\n",
    "review_4 = pd.read_csv('phone_user_review_file_4.csv', encoding='iso-8859-1')\n",
    "review_5 = pd.read_csv('phone_user_review_file_5.csv', encoding='iso-8859-1')\n",
    "review_6 = pd.read_csv('phone_user_review_file_6.csv', encoding='iso-8859-1')"
   ]
  },
  {
   "cell_type": "code",
   "execution_count": 68,
   "id": "architectural-prescription",
   "metadata": {
    "execution": {
     "iopub.execute_input": "2021-05-17T07:45:29.982129Z",
     "iopub.status.busy": "2021-05-17T07:45:29.981439Z",
     "iopub.status.idle": "2021-05-17T07:45:30.010605Z",
     "shell.execute_reply": "2021-05-17T07:45:30.011207Z"
    },
    "papermill": {
     "duration": 0.116226,
     "end_time": "2021-05-17T07:45:30.011379",
     "exception": false,
     "start_time": "2021-05-17T07:45:29.895153",
     "status": "completed"
    },
    "tags": []
   },
   "outputs": [
    {
     "data": {
      "text/html": [
       "<div>\n",
       "<style scoped>\n",
       "    .dataframe tbody tr th:only-of-type {\n",
       "        vertical-align: middle;\n",
       "    }\n",
       "\n",
       "    .dataframe tbody tr th {\n",
       "        vertical-align: top;\n",
       "    }\n",
       "\n",
       "    .dataframe thead th {\n",
       "        text-align: right;\n",
       "    }\n",
       "</style>\n",
       "<table border=\"1\" class=\"dataframe\">\n",
       "  <thead>\n",
       "    <tr style=\"text-align: right;\">\n",
       "      <th></th>\n",
       "      <th>phone_url</th>\n",
       "      <th>date</th>\n",
       "      <th>lang</th>\n",
       "      <th>country</th>\n",
       "      <th>source</th>\n",
       "      <th>domain</th>\n",
       "      <th>score</th>\n",
       "      <th>score_max</th>\n",
       "      <th>extract</th>\n",
       "      <th>author</th>\n",
       "      <th>product</th>\n",
       "    </tr>\n",
       "  </thead>\n",
       "  <tbody>\n",
       "    <tr>\n",
       "      <th>0</th>\n",
       "      <td>/cellphones/samsung-galaxy-s8/</td>\n",
       "      <td>5/2/2017</td>\n",
       "      <td>en</td>\n",
       "      <td>us</td>\n",
       "      <td>Verizon Wireless</td>\n",
       "      <td>verizonwireless.com</td>\n",
       "      <td>10.0</td>\n",
       "      <td>10.0</td>\n",
       "      <td>As a diehard Samsung fan who has had every Samsung phone since before the S series started, this has been my favorite upgrade so far. I am amazed at some of the reviews and think people may just have a defective device that needs to be replaced. The battery life is amazing.</td>\n",
       "      <td>CarolAnn35</td>\n",
       "      <td>Samsung Galaxy S8</td>\n",
       "    </tr>\n",
       "    <tr>\n",
       "      <th>1</th>\n",
       "      <td>/cellphones/samsung-galaxy-s8/</td>\n",
       "      <td>4/28/2017</td>\n",
       "      <td>en</td>\n",
       "      <td>us</td>\n",
       "      <td>Phone Arena</td>\n",
       "      <td>phonearena.com</td>\n",
       "      <td>10.0</td>\n",
       "      <td>10.0</td>\n",
       "      <td>Love the phone. the phone is sleek and smooth and beautiful I highly recommend the phone you will not regret getting this phone.</td>\n",
       "      <td>james0923</td>\n",
       "      <td>Samsung Galaxy S8</td>\n",
       "    </tr>\n",
       "    <tr>\n",
       "      <th>2</th>\n",
       "      <td>/cellphones/samsung-galaxy-s8/</td>\n",
       "      <td>5/4/2017</td>\n",
       "      <td>en</td>\n",
       "      <td>us</td>\n",
       "      <td>Amazon</td>\n",
       "      <td>amazon.com</td>\n",
       "      <td>6.0</td>\n",
       "      <td>10.0</td>\n",
       "      <td>Adequate feel. Nice heft. Processor's still sluggish for the few apps that I have installed. Samsung wants to vacuum all of your data with their apps that requires more access than needed. What else is new.</td>\n",
       "      <td>R. Craig</td>\n",
       "      <td>Samsung Galaxy S8 (64GB) G950U 5.8\" 4G LTE Unlocked (GSM + CDMA, US WARRANTY) (Orchid Gray)</td>\n",
       "    </tr>\n",
       "    <tr>\n",
       "      <th>3</th>\n",
       "      <td>/cellphones/samsung-galaxy-s8/</td>\n",
       "      <td>5/2/2017</td>\n",
       "      <td>en</td>\n",
       "      <td>us</td>\n",
       "      <td>Samsung</td>\n",
       "      <td>samsung.com</td>\n",
       "      <td>9.2</td>\n",
       "      <td>10.0</td>\n",
       "      <td>Never disappointed. One of the reasons I've been a long Samsung (product) consumer, they're ability to impress me with each product release. I've owned, or maintained, all Samsung smartphones starting with the S4 and the S8 is the best one yet.</td>\n",
       "      <td>Buster2020</td>\n",
       "      <td>Samsung Galaxy S8 64GB (AT&amp;T)</td>\n",
       "    </tr>\n",
       "    <tr>\n",
       "      <th>4</th>\n",
       "      <td>/cellphones/samsung-galaxy-s8/</td>\n",
       "      <td>5/11/2017</td>\n",
       "      <td>en</td>\n",
       "      <td>us</td>\n",
       "      <td>Verizon Wireless</td>\n",
       "      <td>verizonwireless.com</td>\n",
       "      <td>4.0</td>\n",
       "      <td>10.0</td>\n",
       "      <td>I've now found that i'm in a group of people that have carried their phone in their pocket without problems until the S8. Day one screen has crack from being in my pocket. Bluetooth on my 1st trip struggles to stay connected. Good news.....battery life is great and lots of great features.</td>\n",
       "      <td>S Ate Mine</td>\n",
       "      <td>Samsung Galaxy S8</td>\n",
       "    </tr>\n",
       "  </tbody>\n",
       "</table>\n",
       "</div>"
      ],
      "text/plain": [
       "                        phone_url       date lang country            source  \\\n",
       "0  /cellphones/samsung-galaxy-s8/   5/2/2017   en      us  Verizon Wireless   \n",
       "1  /cellphones/samsung-galaxy-s8/  4/28/2017   en      us       Phone Arena   \n",
       "2  /cellphones/samsung-galaxy-s8/   5/4/2017   en      us            Amazon   \n",
       "3  /cellphones/samsung-galaxy-s8/   5/2/2017   en      us           Samsung   \n",
       "4  /cellphones/samsung-galaxy-s8/  5/11/2017   en      us  Verizon Wireless   \n",
       "\n",
       "                domain  score  score_max  \\\n",
       "0  verizonwireless.com   10.0       10.0   \n",
       "1       phonearena.com   10.0       10.0   \n",
       "2           amazon.com    6.0       10.0   \n",
       "3          samsung.com    9.2       10.0   \n",
       "4  verizonwireless.com    4.0       10.0   \n",
       "\n",
       "                                                                                                                                                                                                                                                                                             extract  \\\n",
       "0                 As a diehard Samsung fan who has had every Samsung phone since before the S series started, this has been my favorite upgrade so far. I am amazed at some of the reviews and think people may just have a defective device that needs to be replaced. The battery life is amazing.   \n",
       "1                                                                                                                                                                   Love the phone. the phone is sleek and smooth and beautiful I highly recommend the phone you will not regret getting this phone.   \n",
       "2                                                                                     Adequate feel. Nice heft. Processor's still sluggish for the few apps that I have installed. Samsung wants to vacuum all of your data with their apps that requires more access than needed. What else is new.   \n",
       "3                                               Never disappointed. One of the reasons I've been a long Samsung (product) consumer, they're ability to impress me with each product release. I've owned, or maintained, all Samsung smartphones starting with the S4 and the S8 is the best one yet.   \n",
       "4  I've now found that i'm in a group of people that have carried their phone in their pocket without problems until the S8. Day one screen has crack from being in my pocket. Bluetooth on my 1st trip struggles to stay connected. Good news.....battery life is great and lots of great features.   \n",
       "\n",
       "        author  \\\n",
       "0   CarolAnn35   \n",
       "1    james0923   \n",
       "2     R. Craig   \n",
       "3  Buster2020    \n",
       "4   S Ate Mine   \n",
       "\n",
       "                                                                                       product  \n",
       "0                                                                            Samsung Galaxy S8  \n",
       "1                                                                            Samsung Galaxy S8  \n",
       "2  Samsung Galaxy S8 (64GB) G950U 5.8\" 4G LTE Unlocked (GSM + CDMA, US WARRANTY) (Orchid Gray)  \n",
       "3                                                                Samsung Galaxy S8 64GB (AT&T)  \n",
       "4                                                                            Samsung Galaxy S8  "
      ]
     },
     "execution_count": 68,
     "metadata": {},
     "output_type": "execute_result"
    }
   ],
   "source": [
    "review_1.head()"
   ]
  },
  {
   "cell_type": "code",
   "execution_count": 69,
   "id": "advance-graduation",
   "metadata": {
    "execution": {
     "iopub.execute_input": "2021-05-17T07:45:30.172822Z",
     "iopub.status.busy": "2021-05-17T07:45:30.172139Z",
     "iopub.status.idle": "2021-05-17T07:45:30.190285Z",
     "shell.execute_reply": "2021-05-17T07:45:30.190785Z"
    },
    "papermill": {
     "duration": 0.100497,
     "end_time": "2021-05-17T07:45:30.190971",
     "exception": false,
     "start_time": "2021-05-17T07:45:30.090474",
     "status": "completed"
    },
    "tags": []
   },
   "outputs": [
    {
     "data": {
      "text/html": [
       "<div>\n",
       "<style scoped>\n",
       "    .dataframe tbody tr th:only-of-type {\n",
       "        vertical-align: middle;\n",
       "    }\n",
       "\n",
       "    .dataframe tbody tr th {\n",
       "        vertical-align: top;\n",
       "    }\n",
       "\n",
       "    .dataframe thead th {\n",
       "        text-align: right;\n",
       "    }\n",
       "</style>\n",
       "<table border=\"1\" class=\"dataframe\">\n",
       "  <thead>\n",
       "    <tr style=\"text-align: right;\">\n",
       "      <th></th>\n",
       "      <th>phone_url</th>\n",
       "      <th>date</th>\n",
       "      <th>lang</th>\n",
       "      <th>country</th>\n",
       "      <th>source</th>\n",
       "      <th>domain</th>\n",
       "      <th>score</th>\n",
       "      <th>score_max</th>\n",
       "      <th>extract</th>\n",
       "      <th>author</th>\n",
       "      <th>product</th>\n",
       "    </tr>\n",
       "  </thead>\n",
       "  <tbody>\n",
       "    <tr>\n",
       "      <th>0</th>\n",
       "      <td>/cellphones/leagoo-lead-7/</td>\n",
       "      <td>4/15/2015</td>\n",
       "      <td>en</td>\n",
       "      <td>us</td>\n",
       "      <td>Amazon</td>\n",
       "      <td>amazon.com</td>\n",
       "      <td>2.0</td>\n",
       "      <td>10.0</td>\n",
       "      <td>The telephone headset is of poor quality , not understood that dijen you when you call that sounds very bad, not recomiento this article. I wanted to return it but it is very difficult and expensive it back from Venezuela , since the dollars in my country are scarce and would consist more than the...</td>\n",
       "      <td>luis</td>\n",
       "      <td>Leagoo Lead7 5.0 Inch HD JDI LTPS Screen 3G Smart Cell Phone with Android 4.4.2 MTK6582 Quad Core 1.3Ghz RAM 1GB+ROM 8GB GSM WCDMA Dual SIM Dual Standby and 13.0MP Camera WiFi GPS Bluetooth OTG 4500mAh Li-polymer Battery (White)</td>\n",
       "    </tr>\n",
       "    <tr>\n",
       "      <th>1</th>\n",
       "      <td>/cellphones/leagoo-lead-7/</td>\n",
       "      <td>5/23/2015</td>\n",
       "      <td>en</td>\n",
       "      <td>gb</td>\n",
       "      <td>Amazon</td>\n",
       "      <td>amazon.co.uk</td>\n",
       "      <td>10.0</td>\n",
       "      <td>10.0</td>\n",
       "      <td>This is my first smartphone so I have nothing to compare it to, but I'm very satisfied and it seems to have the specifications and capabilities of a much more expensive phone and does everything well.</td>\n",
       "      <td>Mark Lavin</td>\n",
       "      <td>Leagoo Lead 7 Lead7 MTK6582 Quad core 1GB RAM 8GB ROM 5inch 8MP+13MP Cameras 4500mah Big Batttery phone (Black)</td>\n",
       "    </tr>\n",
       "    <tr>\n",
       "      <th>2</th>\n",
       "      <td>/cellphones/leagoo-lead-7/</td>\n",
       "      <td>4/27/2015</td>\n",
       "      <td>en</td>\n",
       "      <td>gb</td>\n",
       "      <td>Amazon</td>\n",
       "      <td>amazon.co.uk</td>\n",
       "      <td>8.0</td>\n",
       "      <td>10.0</td>\n",
       "      <td>Great phone. Battery life not great but seems to be getting bit better with every charge</td>\n",
       "      <td>tracey</td>\n",
       "      <td>Leagoo Lead 7 Lead7 MTK6582 Quad core 1GB RAM 8GB ROM 5inch 8MP+13MP Cameras 4500mah Big Batttery phone (White)</td>\n",
       "    </tr>\n",
       "    <tr>\n",
       "      <th>3</th>\n",
       "      <td>/cellphones/leagoo-lead-7/</td>\n",
       "      <td>4/22/2015</td>\n",
       "      <td>en</td>\n",
       "      <td>gb</td>\n",
       "      <td>Amazon</td>\n",
       "      <td>amazon.co.uk</td>\n",
       "      <td>10.0</td>\n",
       "      <td>10.0</td>\n",
       "      <td>Best 90 quid I've ever spent on a smart phone</td>\n",
       "      <td>Reuben Ingram</td>\n",
       "      <td>Leagoo Lead 7 Lead7 MTK6582 Quad core 1GB RAM 8GB ROM 5inch 8MP+13MP Cameras 4500mah Big Batttery phone (Black)</td>\n",
       "    </tr>\n",
       "    <tr>\n",
       "      <th>4</th>\n",
       "      <td>/cellphones/leagoo-lead-7/</td>\n",
       "      <td>4/18/2015</td>\n",
       "      <td>en</td>\n",
       "      <td>gb</td>\n",
       "      <td>Amazon</td>\n",
       "      <td>amazon.co.uk</td>\n",
       "      <td>10.0</td>\n",
       "      <td>10.0</td>\n",
       "      <td>I m happy with this phone.it s very good.thx team</td>\n",
       "      <td>viorel</td>\n",
       "      <td>Leagoo Lead 7 Lead7 MTK6582 Quad core 1GB RAM 8GB ROM 5inch 8MP+13MP Cameras 4500mah Big Batttery phone (White)</td>\n",
       "    </tr>\n",
       "  </tbody>\n",
       "</table>\n",
       "</div>"
      ],
      "text/plain": [
       "                    phone_url       date lang country  source        domain  \\\n",
       "0  /cellphones/leagoo-lead-7/  4/15/2015   en      us  Amazon    amazon.com   \n",
       "1  /cellphones/leagoo-lead-7/  5/23/2015   en      gb  Amazon  amazon.co.uk   \n",
       "2  /cellphones/leagoo-lead-7/  4/27/2015   en      gb  Amazon  amazon.co.uk   \n",
       "3  /cellphones/leagoo-lead-7/  4/22/2015   en      gb  Amazon  amazon.co.uk   \n",
       "4  /cellphones/leagoo-lead-7/  4/18/2015   en      gb  Amazon  amazon.co.uk   \n",
       "\n",
       "   score  score_max  \\\n",
       "0    2.0       10.0   \n",
       "1   10.0       10.0   \n",
       "2    8.0       10.0   \n",
       "3   10.0       10.0   \n",
       "4   10.0       10.0   \n",
       "\n",
       "                                                                                                                                                                                                                                                                                                         extract  \\\n",
       "0  The telephone headset is of poor quality , not understood that dijen you when you call that sounds very bad, not recomiento this article. I wanted to return it but it is very difficult and expensive it back from Venezuela , since the dollars in my country are scarce and would consist more than the...   \n",
       "1                                                                                                       This is my first smartphone so I have nothing to compare it to, but I'm very satisfied and it seems to have the specifications and capabilities of a much more expensive phone and does everything well.   \n",
       "2                                                                                                                                                                                                                       Great phone. Battery life not great but seems to be getting bit better with every charge   \n",
       "3                                                                                                                                                                                                                                                                  Best 90 quid I've ever spent on a smart phone   \n",
       "4                                                                                                                                                                                                                                                              I m happy with this phone.it s very good.thx team   \n",
       "\n",
       "          author  \\\n",
       "0           luis   \n",
       "1     Mark Lavin   \n",
       "2         tracey   \n",
       "3  Reuben Ingram   \n",
       "4         viorel   \n",
       "\n",
       "                                                                                                                                                                                                                                product  \n",
       "0  Leagoo Lead7 5.0 Inch HD JDI LTPS Screen 3G Smart Cell Phone with Android 4.4.2 MTK6582 Quad Core 1.3Ghz RAM 1GB+ROM 8GB GSM WCDMA Dual SIM Dual Standby and 13.0MP Camera WiFi GPS Bluetooth OTG 4500mAh Li-polymer Battery (White)  \n",
       "1                                                                                                                       Leagoo Lead 7 Lead7 MTK6582 Quad core 1GB RAM 8GB ROM 5inch 8MP+13MP Cameras 4500mah Big Batttery phone (Black)  \n",
       "2                                                                                                                       Leagoo Lead 7 Lead7 MTK6582 Quad core 1GB RAM 8GB ROM 5inch 8MP+13MP Cameras 4500mah Big Batttery phone (White)  \n",
       "3                                                                                                                       Leagoo Lead 7 Lead7 MTK6582 Quad core 1GB RAM 8GB ROM 5inch 8MP+13MP Cameras 4500mah Big Batttery phone (Black)  \n",
       "4                                                                                                                       Leagoo Lead 7 Lead7 MTK6582 Quad core 1GB RAM 8GB ROM 5inch 8MP+13MP Cameras 4500mah Big Batttery phone (White)  "
      ]
     },
     "execution_count": 69,
     "metadata": {},
     "output_type": "execute_result"
    }
   ],
   "source": [
    "review_2.head()"
   ]
  },
  {
   "cell_type": "code",
   "execution_count": 70,
   "id": "meaning-count",
   "metadata": {
    "execution": {
     "iopub.execute_input": "2021-05-17T07:45:30.351717Z",
     "iopub.status.busy": "2021-05-17T07:45:30.351084Z",
     "iopub.status.idle": "2021-05-17T07:45:30.360487Z",
     "shell.execute_reply": "2021-05-17T07:45:30.359657Z"
    },
    "papermill": {
     "duration": 0.09104,
     "end_time": "2021-05-17T07:45:30.360687",
     "exception": false,
     "start_time": "2021-05-17T07:45:30.269647",
     "status": "completed"
    },
    "tags": []
   },
   "outputs": [
    {
     "name": "stdout",
     "output_type": "stream",
     "text": [
      "review_1: Rows: 374910 and Columns: 11\n",
      "\n",
      "review_2: Rows: 114925 and Columns: 11\n",
      "\n",
      "review_3: Rows: 312961 and Columns: 11\n",
      "\n",
      "review_4: Rows: 98284 and Columns: 11\n",
      "\n",
      "review_5: Rows: 350216 and Columns: 11\n",
      "\n",
      "review_6: Rows: 163837 and Columns: 11\n",
      "\n",
      "Total rows: 1415133\n"
     ]
    }
   ],
   "source": [
    "print(f'review_1: Rows: {review_1.shape[0]} and Columns: {review_1.shape[1]}\\n')\n",
    "print(f'review_2: Rows: {review_2.shape[0]} and Columns: {review_2.shape[1]}\\n')\n",
    "print(f'review_3: Rows: {review_3.shape[0]} and Columns: {review_3.shape[1]}\\n')\n",
    "print(f'review_4: Rows: {review_4.shape[0]} and Columns: {review_4.shape[1]}\\n')\n",
    "print(f'review_5: Rows: {review_5.shape[0]} and Columns: {review_5.shape[1]}\\n')\n",
    "print(f'review_6: Rows: {review_6.shape[0]} and Columns: {review_6.shape[1]}\\n')\n",
    "print(f'Total rows: {review_1.shape[0]+review_2.shape[0]+review_3.shape[0]+review_4.shape[0]+review_5.shape[0]+review_6.shape[0]}')"
   ]
  },
  {
   "cell_type": "code",
   "execution_count": 71,
   "id": "celtic-criterion",
   "metadata": {
    "execution": {
     "iopub.execute_input": "2021-05-17T07:45:30.526830Z",
     "iopub.status.busy": "2021-05-17T07:45:30.524860Z",
     "iopub.status.idle": "2021-05-17T07:45:30.532756Z",
     "shell.execute_reply": "2021-05-17T07:45:30.532232Z"
    },
    "papermill": {
     "duration": 0.092631,
     "end_time": "2021-05-17T07:45:30.532918",
     "exception": false,
     "start_time": "2021-05-17T07:45:30.440287",
     "status": "completed"
    },
    "tags": []
   },
   "outputs": [
    {
     "name": "stdout",
     "output_type": "stream",
     "text": [
      "Check whether the column names are same in all the dataframes: \n"
     ]
    },
    {
     "data": {
      "text/plain": [
       "True"
      ]
     },
     "execution_count": 71,
     "metadata": {},
     "output_type": "execute_result"
    }
   ],
   "source": [
    "print('Check whether the column names are same in all the dataframes: ')\n",
    "all(np.unique(review_1.columns.tolist()) == np.unique(review_1.columns.tolist()+\n",
    "                                                      review_2.columns.tolist()+\n",
    "                                                      review_3.columns.tolist()+\n",
    "                                                      review_4.columns.tolist()+\n",
    "                                                      review_5.columns.tolist()+\n",
    "                                                      review_6.columns.tolist()))"
   ]
  },
  {
   "cell_type": "markdown",
   "id": "alien-heater",
   "metadata": {
    "papermill": {
     "duration": 0.078987,
     "end_time": "2021-05-17T07:45:30.691682",
     "exception": false,
     "start_time": "2021-05-17T07:45:30.612695",
     "status": "completed"
    },
    "tags": []
   },
   "source": [
    "### 1.2. Merge dataset <a id=\"merge_data\"></a>\n",
    "[Go to top](#toc)"
   ]
  },
  {
   "cell_type": "code",
   "execution_count": 72,
   "id": "finite-scanning",
   "metadata": {
    "execution": {
     "iopub.execute_input": "2021-05-17T07:45:30.914538Z",
     "iopub.status.busy": "2021-05-17T07:45:30.883683Z",
     "iopub.status.idle": "2021-05-17T07:45:31.360564Z",
     "shell.execute_reply": "2021-05-17T07:45:31.361448Z"
    },
    "papermill": {
     "duration": 0.590405,
     "end_time": "2021-05-17T07:45:31.361682",
     "exception": false,
     "start_time": "2021-05-17T07:45:30.771277",
     "status": "completed"
    },
    "tags": []
   },
   "outputs": [
    {
     "name": "stdout",
     "output_type": "stream",
     "text": [
      "reviews: Rows: 1415133 and Columns: 11\n",
      "\n",
      "Top 5 rows of the data: \n"
     ]
    },
    {
     "data": {
      "text/html": [
       "<div>\n",
       "<style scoped>\n",
       "    .dataframe tbody tr th:only-of-type {\n",
       "        vertical-align: middle;\n",
       "    }\n",
       "\n",
       "    .dataframe tbody tr th {\n",
       "        vertical-align: top;\n",
       "    }\n",
       "\n",
       "    .dataframe thead th {\n",
       "        text-align: right;\n",
       "    }\n",
       "</style>\n",
       "<table border=\"1\" class=\"dataframe\">\n",
       "  <thead>\n",
       "    <tr style=\"text-align: right;\">\n",
       "      <th></th>\n",
       "      <th>phone_url</th>\n",
       "      <th>date</th>\n",
       "      <th>lang</th>\n",
       "      <th>country</th>\n",
       "      <th>source</th>\n",
       "      <th>domain</th>\n",
       "      <th>score</th>\n",
       "      <th>score_max</th>\n",
       "      <th>extract</th>\n",
       "      <th>author</th>\n",
       "      <th>product</th>\n",
       "    </tr>\n",
       "  </thead>\n",
       "  <tbody>\n",
       "    <tr>\n",
       "      <th>0</th>\n",
       "      <td>/cellphones/samsung-galaxy-s8/</td>\n",
       "      <td>5/2/2017</td>\n",
       "      <td>en</td>\n",
       "      <td>us</td>\n",
       "      <td>Verizon Wireless</td>\n",
       "      <td>verizonwireless.com</td>\n",
       "      <td>10.0</td>\n",
       "      <td>10.0</td>\n",
       "      <td>As a diehard Samsung fan who has had every Samsung phone since before the S series started, this has been my favorite upgrade so far. I am amazed at some of the reviews and think people may just have a defective device that needs to be replaced. The battery life is amazing.</td>\n",
       "      <td>CarolAnn35</td>\n",
       "      <td>Samsung Galaxy S8</td>\n",
       "    </tr>\n",
       "    <tr>\n",
       "      <th>1</th>\n",
       "      <td>/cellphones/samsung-galaxy-s8/</td>\n",
       "      <td>4/28/2017</td>\n",
       "      <td>en</td>\n",
       "      <td>us</td>\n",
       "      <td>Phone Arena</td>\n",
       "      <td>phonearena.com</td>\n",
       "      <td>10.0</td>\n",
       "      <td>10.0</td>\n",
       "      <td>Love the phone. the phone is sleek and smooth and beautiful I highly recommend the phone you will not regret getting this phone.</td>\n",
       "      <td>james0923</td>\n",
       "      <td>Samsung Galaxy S8</td>\n",
       "    </tr>\n",
       "    <tr>\n",
       "      <th>2</th>\n",
       "      <td>/cellphones/samsung-galaxy-s8/</td>\n",
       "      <td>5/4/2017</td>\n",
       "      <td>en</td>\n",
       "      <td>us</td>\n",
       "      <td>Amazon</td>\n",
       "      <td>amazon.com</td>\n",
       "      <td>6.0</td>\n",
       "      <td>10.0</td>\n",
       "      <td>Adequate feel. Nice heft. Processor's still sluggish for the few apps that I have installed. Samsung wants to vacuum all of your data with their apps that requires more access than needed. What else is new.</td>\n",
       "      <td>R. Craig</td>\n",
       "      <td>Samsung Galaxy S8 (64GB) G950U 5.8\" 4G LTE Unlocked (GSM + CDMA, US WARRANTY) (Orchid Gray)</td>\n",
       "    </tr>\n",
       "    <tr>\n",
       "      <th>3</th>\n",
       "      <td>/cellphones/samsung-galaxy-s8/</td>\n",
       "      <td>5/2/2017</td>\n",
       "      <td>en</td>\n",
       "      <td>us</td>\n",
       "      <td>Samsung</td>\n",
       "      <td>samsung.com</td>\n",
       "      <td>9.2</td>\n",
       "      <td>10.0</td>\n",
       "      <td>Never disappointed. One of the reasons I've been a long Samsung (product) consumer, they're ability to impress me with each product release. I've owned, or maintained, all Samsung smartphones starting with the S4 and the S8 is the best one yet.</td>\n",
       "      <td>Buster2020</td>\n",
       "      <td>Samsung Galaxy S8 64GB (AT&amp;T)</td>\n",
       "    </tr>\n",
       "    <tr>\n",
       "      <th>4</th>\n",
       "      <td>/cellphones/samsung-galaxy-s8/</td>\n",
       "      <td>5/11/2017</td>\n",
       "      <td>en</td>\n",
       "      <td>us</td>\n",
       "      <td>Verizon Wireless</td>\n",
       "      <td>verizonwireless.com</td>\n",
       "      <td>4.0</td>\n",
       "      <td>10.0</td>\n",
       "      <td>I've now found that i'm in a group of people that have carried their phone in their pocket without problems until the S8. Day one screen has crack from being in my pocket. Bluetooth on my 1st trip struggles to stay connected. Good news.....battery life is great and lots of great features.</td>\n",
       "      <td>S Ate Mine</td>\n",
       "      <td>Samsung Galaxy S8</td>\n",
       "    </tr>\n",
       "  </tbody>\n",
       "</table>\n",
       "</div>"
      ],
      "text/plain": [
       "                        phone_url       date lang country            source  \\\n",
       "0  /cellphones/samsung-galaxy-s8/   5/2/2017   en      us  Verizon Wireless   \n",
       "1  /cellphones/samsung-galaxy-s8/  4/28/2017   en      us       Phone Arena   \n",
       "2  /cellphones/samsung-galaxy-s8/   5/4/2017   en      us            Amazon   \n",
       "3  /cellphones/samsung-galaxy-s8/   5/2/2017   en      us           Samsung   \n",
       "4  /cellphones/samsung-galaxy-s8/  5/11/2017   en      us  Verizon Wireless   \n",
       "\n",
       "                domain  score  score_max  \\\n",
       "0  verizonwireless.com   10.0       10.0   \n",
       "1       phonearena.com   10.0       10.0   \n",
       "2           amazon.com    6.0       10.0   \n",
       "3          samsung.com    9.2       10.0   \n",
       "4  verizonwireless.com    4.0       10.0   \n",
       "\n",
       "                                                                                                                                                                                                                                                                                             extract  \\\n",
       "0                 As a diehard Samsung fan who has had every Samsung phone since before the S series started, this has been my favorite upgrade so far. I am amazed at some of the reviews and think people may just have a defective device that needs to be replaced. The battery life is amazing.   \n",
       "1                                                                                                                                                                   Love the phone. the phone is sleek and smooth and beautiful I highly recommend the phone you will not regret getting this phone.   \n",
       "2                                                                                     Adequate feel. Nice heft. Processor's still sluggish for the few apps that I have installed. Samsung wants to vacuum all of your data with their apps that requires more access than needed. What else is new.   \n",
       "3                                               Never disappointed. One of the reasons I've been a long Samsung (product) consumer, they're ability to impress me with each product release. I've owned, or maintained, all Samsung smartphones starting with the S4 and the S8 is the best one yet.   \n",
       "4  I've now found that i'm in a group of people that have carried their phone in their pocket without problems until the S8. Day one screen has crack from being in my pocket. Bluetooth on my 1st trip struggles to stay connected. Good news.....battery life is great and lots of great features.   \n",
       "\n",
       "        author  \\\n",
       "0   CarolAnn35   \n",
       "1    james0923   \n",
       "2     R. Craig   \n",
       "3  Buster2020    \n",
       "4   S Ate Mine   \n",
       "\n",
       "                                                                                       product  \n",
       "0                                                                            Samsung Galaxy S8  \n",
       "1                                                                            Samsung Galaxy S8  \n",
       "2  Samsung Galaxy S8 (64GB) G950U 5.8\" 4G LTE Unlocked (GSM + CDMA, US WARRANTY) (Orchid Gray)  \n",
       "3                                                                Samsung Galaxy S8 64GB (AT&T)  \n",
       "4                                                                            Samsung Galaxy S8  "
      ]
     },
     "metadata": {},
     "output_type": "display_data"
    },
    {
     "name": "stdout",
     "output_type": "stream",
     "text": [
      "Bottom 5 rows of the data: \n"
     ]
    },
    {
     "data": {
      "text/html": [
       "<div>\n",
       "<style scoped>\n",
       "    .dataframe tbody tr th:only-of-type {\n",
       "        vertical-align: middle;\n",
       "    }\n",
       "\n",
       "    .dataframe tbody tr th {\n",
       "        vertical-align: top;\n",
       "    }\n",
       "\n",
       "    .dataframe thead th {\n",
       "        text-align: right;\n",
       "    }\n",
       "</style>\n",
       "<table border=\"1\" class=\"dataframe\">\n",
       "  <thead>\n",
       "    <tr style=\"text-align: right;\">\n",
       "      <th></th>\n",
       "      <th>phone_url</th>\n",
       "      <th>date</th>\n",
       "      <th>lang</th>\n",
       "      <th>country</th>\n",
       "      <th>source</th>\n",
       "      <th>domain</th>\n",
       "      <th>score</th>\n",
       "      <th>score_max</th>\n",
       "      <th>extract</th>\n",
       "      <th>author</th>\n",
       "      <th>product</th>\n",
       "    </tr>\n",
       "  </thead>\n",
       "  <tbody>\n",
       "    <tr>\n",
       "      <th>1415128</th>\n",
       "      <td>/cellphones/alcatel-ot-club_1187/</td>\n",
       "      <td>5/12/2000</td>\n",
       "      <td>de</td>\n",
       "      <td>de</td>\n",
       "      <td>Ciao</td>\n",
       "      <td>ciao.de</td>\n",
       "      <td>2.0</td>\n",
       "      <td>10.0</td>\n",
       "      <td>Weil mein Onkel bei ALcatel arbeitet habe ich ihn natÃ¼rlich auch einmal gefragt, was fÃ¼r ein Handy er hat. Darauf bekam ich die Antwort: \"Ein SIEMENS-Handy\". Das ist natÃ¼rlich schon ein bisschen komisch, finde ich zumindest.</td>\n",
       "      <td>david.paul</td>\n",
       "      <td>Alcatel Club Plus Handy</td>\n",
       "    </tr>\n",
       "    <tr>\n",
       "      <th>1415129</th>\n",
       "      <td>/cellphones/alcatel-ot-club_1187/</td>\n",
       "      <td>5/11/2000</td>\n",
       "      <td>de</td>\n",
       "      <td>de</td>\n",
       "      <td>Ciao</td>\n",
       "      <td>ciao.de</td>\n",
       "      <td>10.0</td>\n",
       "      <td>10.0</td>\n",
       "      <td>Hy Liebe Leserinnen und Leser!! Ich habe seit ein paar Monaten ein Alcatel!! Und ich finde es nicht schlecht die TÃ¶ne sind auch recht gut und man muss sich ja nicht so ein teures kaufen es reicht das genauso!!! Ich finde die Tasten eignen sich gut zum sms schreiben und sind auch so recht ok!!</td>\n",
       "      <td>Christiane14</td>\n",
       "      <td>Alcatel Club Plus Handy</td>\n",
       "    </tr>\n",
       "    <tr>\n",
       "      <th>1415130</th>\n",
       "      <td>/cellphones/alcatel-ot-club_1187/</td>\n",
       "      <td>5/4/2000</td>\n",
       "      <td>de</td>\n",
       "      <td>de</td>\n",
       "      <td>Ciao</td>\n",
       "      <td>ciao.de</td>\n",
       "      <td>2.0</td>\n",
       "      <td>10.0</td>\n",
       "      <td>Jetzt hat wohl Alcatell gedacht ,sie machen was super gutes.Aber auch dieses Mal hat es nicht geklappt. Dieses Handy ist zwar auch ein Dual-Band-Handy,aber das ist auch das einzig gute daran.Von der Form ist es fÃ¼rchterlich anzusehen und auch von schwarz auf silber hat keine groÃe VerÃ¤nderung...</td>\n",
       "      <td>michaelawr</td>\n",
       "      <td>Alcatel Club Plus Handy</td>\n",
       "    </tr>\n",
       "    <tr>\n",
       "      <th>1415131</th>\n",
       "      <td>/cellphones/alcatel-ot-club_1187/</td>\n",
       "      <td>5/1/2000</td>\n",
       "      <td>de</td>\n",
       "      <td>de</td>\n",
       "      <td>Ciao</td>\n",
       "      <td>ciao.de</td>\n",
       "      <td>8.0</td>\n",
       "      <td>10.0</td>\n",
       "      <td>Ich bin seit 2 Jahren (stolzer) Besitzer eines alcatel one touch club+. Im Grossen und Ganzen bin ich echt zufrieden.....einfache MenÃ¼fÃ¼hrung, keine sinnlosen Spielerein (tetris...) und - was mich persÃ¶nlich am meisten beeindruckt - Ã¤uÃerst stabil.</td>\n",
       "      <td>claudia0815</td>\n",
       "      <td>Alcatel Club Plus Handy</td>\n",
       "    </tr>\n",
       "    <tr>\n",
       "      <th>1415132</th>\n",
       "      <td>/cellphones/alcatel-ot-club_1187/</td>\n",
       "      <td>4/25/2000</td>\n",
       "      <td>de</td>\n",
       "      <td>de</td>\n",
       "      <td>Ciao</td>\n",
       "      <td>ciao.de</td>\n",
       "      <td>2.0</td>\n",
       "      <td>10.0</td>\n",
       "      <td>Was sich Alkatel hier wieder ausgedacht hat,schlÃ¤gt wohl auch nicht gerade ein.Das Alkatel hat eine tozal hÃ¤Ãliche Form.Auch das nun die Oberschale nicht mehr schwarz sondern silber ist,verbessert das Aussehen auch nicht sehr viel zum positiven.Dieses Handy hat ein Gewicht von 150 g.Die...</td>\n",
       "      <td>michaelawr</td>\n",
       "      <td>Alcatel Club Plus Handy</td>\n",
       "    </tr>\n",
       "  </tbody>\n",
       "</table>\n",
       "</div>"
      ],
      "text/plain": [
       "                                 phone_url       date lang country source  \\\n",
       "1415128  /cellphones/alcatel-ot-club_1187/  5/12/2000   de      de   Ciao   \n",
       "1415129  /cellphones/alcatel-ot-club_1187/  5/11/2000   de      de   Ciao   \n",
       "1415130  /cellphones/alcatel-ot-club_1187/   5/4/2000   de      de   Ciao   \n",
       "1415131  /cellphones/alcatel-ot-club_1187/   5/1/2000   de      de   Ciao   \n",
       "1415132  /cellphones/alcatel-ot-club_1187/  4/25/2000   de      de   Ciao   \n",
       "\n",
       "          domain  score  score_max  \\\n",
       "1415128  ciao.de    2.0       10.0   \n",
       "1415129  ciao.de   10.0       10.0   \n",
       "1415130  ciao.de    2.0       10.0   \n",
       "1415131  ciao.de    8.0       10.0   \n",
       "1415132  ciao.de    2.0       10.0   \n",
       "\n",
       "                                                                                                                                                                                                                                                                                                             extract  \\\n",
       "1415128                                                                          Weil mein Onkel bei ALcatel arbeitet habe ich ihn natÃ¼rlich auch einmal gefragt, was fÃ¼r ein Handy er hat. Darauf bekam ich die Antwort: \"Ein SIEMENS-Handy\". Das ist natÃ¼rlich schon ein bisschen komisch, finde ich zumindest.   \n",
       "1415129       Hy Liebe Leserinnen und Leser!! Ich habe seit ein paar Monaten ein Alcatel!! Und ich finde es nicht schlecht die TÃ¶ne sind auch recht gut und man muss sich ja nicht so ein teures kaufen es reicht das genauso!!! Ich finde die Tasten eignen sich gut zum sms schreiben und sind auch so recht ok!!   \n",
       "1415130  Jetzt hat wohl Alcatell gedacht ,sie machen was super gutes.Aber auch dieses Mal hat es nicht geklappt. Dieses Handy ist zwar auch ein Dual-Band-Handy,aber das ist auch das einzig gute daran.Von der Form ist es fÃ¼rchterlich anzusehen und auch von schwarz auf silber hat keine groÃe VerÃ¤nderung...   \n",
       "1415131                                                Ich bin seit 2 Jahren (stolzer) Besitzer eines alcatel one touch club+. Im Grossen und Ganzen bin ich echt zufrieden.....einfache MenÃ¼fÃ¼hrung, keine sinnlosen Spielerein (tetris...) und - was mich persÃ¶nlich am meisten beeindruckt - Ã¤uÃerst stabil.   \n",
       "1415132        Was sich Alkatel hier wieder ausgedacht hat,schlÃ¤gt wohl auch nicht gerade ein.Das Alkatel hat eine tozal hÃ¤Ãliche Form.Auch das nun die Oberschale nicht mehr schwarz sondern silber ist,verbessert das Aussehen auch nicht sehr viel zum positiven.Dieses Handy hat ein Gewicht von 150 g.Die...   \n",
       "\n",
       "               author                  product  \n",
       "1415128    david.paul  Alcatel Club Plus Handy  \n",
       "1415129  Christiane14  Alcatel Club Plus Handy  \n",
       "1415130    michaelawr  Alcatel Club Plus Handy  \n",
       "1415131   claudia0815  Alcatel Club Plus Handy  \n",
       "1415132    michaelawr  Alcatel Club Plus Handy  "
      ]
     },
     "metadata": {},
     "output_type": "display_data"
    }
   ],
   "source": [
    "#Merge the data into a single dataframe \n",
    "reviews = pd.concat([review_1,review_2,review_3,review_4,review_5,review_6], ignore_index=True)\n",
    "del review_1, review_2, review_3, review_4, review_5, review_6\n",
    "print(f'reviews: Rows: {reviews.shape[0]} and Columns: {reviews.shape[1]}\\n')\n",
    "print('Top 5 rows of the data: ')\n",
    "display(reviews.head())\n",
    "print('Bottom 5 rows of the data: ')\n",
    "display(reviews.tail())"
   ]
  },
  {
   "cell_type": "code",
   "execution_count": 73,
   "id": "pending-rescue",
   "metadata": {
    "execution": {
     "iopub.execute_input": "2021-05-17T07:45:32.265633Z",
     "iopub.status.busy": "2021-05-17T07:45:32.264927Z",
     "iopub.status.idle": "2021-05-17T07:45:32.710670Z",
     "shell.execute_reply": "2021-05-17T07:45:32.711195Z"
    },
    "papermill": {
     "duration": 1.267427,
     "end_time": "2021-05-17T07:45:32.711394",
     "exception": false,
     "start_time": "2021-05-17T07:45:31.443967",
     "status": "completed"
    },
    "tags": []
   },
   "outputs": [
    {
     "name": "stdout",
     "output_type": "stream",
     "text": [
      "<class 'pandas.core.frame.DataFrame'>\n",
      "RangeIndex: 1415133 entries, 0 to 1415132\n",
      "Data columns (total 11 columns):\n",
      " #   Column     Non-Null Count    Dtype  \n",
      "---  ------     --------------    -----  \n",
      " 0   phone_url  1415133 non-null  object \n",
      " 1   date       1415133 non-null  object \n",
      " 2   lang       1415133 non-null  object \n",
      " 3   country    1415133 non-null  object \n",
      " 4   source     1415133 non-null  object \n",
      " 5   domain     1415133 non-null  object \n",
      " 6   score      1351644 non-null  float64\n",
      " 7   score_max  1351644 non-null  float64\n",
      " 8   extract    1395772 non-null  object \n",
      " 9   author     1351931 non-null  object \n",
      " 10  product    1415132 non-null  object \n",
      "dtypes: float64(2), object(9)\n",
      "memory usage: 118.8+ MB\n"
     ]
    }
   ],
   "source": [
    "reviews.info()"
   ]
  },
  {
   "cell_type": "markdown",
   "id": "transparent-hybrid",
   "metadata": {
    "papermill": {
     "duration": 0.082535,
     "end_time": "2021-05-17T07:45:32.882950",
     "exception": false,
     "start_time": "2021-05-17T07:45:32.800415",
     "status": "completed"
    },
    "tags": []
   },
   "source": [
    "* Except **score** and **score_max** (which are of float type) all other features are of object type \n",
    "* feature **date** should be of datetype\n",
    "* Also, **score, score_max, extract and author**: columns seems to have Null values"
   ]
  },
  {
   "cell_type": "markdown",
   "id": "excellent-airplane",
   "metadata": {
    "papermill": {
     "duration": 0.085299,
     "end_time": "2021-05-17T07:45:33.051639",
     "exception": false,
     "start_time": "2021-05-17T07:45:32.966340",
     "status": "completed"
    },
    "tags": []
   },
   "source": [
    "### 1.3. Basic analysis <a id=\"basic_analysis\"></a>\n",
    "[Go to top](#toc)"
   ]
  },
  {
   "cell_type": "code",
   "execution_count": 74,
   "id": "independent-operation",
   "metadata": {
    "execution": {
     "iopub.execute_input": "2021-05-17T07:45:33.949054Z",
     "iopub.status.busy": "2021-05-17T07:45:33.947715Z",
     "iopub.status.idle": "2021-05-17T07:45:34.404321Z",
     "shell.execute_reply": "2021-05-17T07:45:34.403742Z"
    },
    "papermill": {
     "duration": 1.269751,
     "end_time": "2021-05-17T07:45:34.404462",
     "exception": false,
     "start_time": "2021-05-17T07:45:33.134711",
     "status": "completed"
    },
    "tags": []
   },
   "outputs": [
    {
     "name": "stdout",
     "output_type": "stream",
     "text": [
      "Missing count and percentages for each column are: \n",
      " phone_url         0 (0.0%)\n",
      "date              0 (0.0%)\n",
      "lang              0 (0.0%)\n",
      "country           0 (0.0%)\n",
      "source            0 (0.0%)\n",
      "domain            0 (0.0%)\n",
      "score        63489 (4.49%)\n",
      "score_max    63489 (4.49%)\n",
      "extract      19361 (1.37%)\n",
      "author       63202 (4.47%)\n",
      "product           1 (0.0%)\n",
      "dtype: object\n"
     ]
    },
    {
     "data": {
      "application/vnd.plotly.v1+json": {
       "config": {
        "plotlyServerURL": "https://plot.ly"
       },
       "data": [
        {
         "alignmentgroup": "True",
         "hovertemplate": "x=%{x}<br>y=%{y}<br>text=%{text}<extra></extra>",
         "legendgroup": "",
         "marker": {
          "color": "#636efa",
          "pattern": {
           "shape": ""
          }
         },
         "name": "",
         "offsetgroup": "",
         "orientation": "v",
         "showlegend": false,
         "text": [
          "0(0.0%)",
          "0(0.0%)",
          "0(0.0%)",
          "0(0.0%)",
          "0(0.0%)",
          "0(0.0%)",
          "63489(4.49%)",
          "63489(4.49%)",
          "19361(1.37%)",
          "63202(4.47%)",
          "1(0.0%)"
         ],
         "textposition": "auto",
         "type": "bar",
         "x": [
          "phone_url",
          "date",
          "lang",
          "country",
          "source",
          "domain",
          "score",
          "score_max",
          "extract",
          "author",
          "product"
         ],
         "xaxis": "x",
         "y": [
          0,
          0,
          0,
          0,
          0,
          0,
          4.49,
          4.49,
          1.37,
          4.47,
          0
         ],
         "yaxis": "y"
        }
       ],
       "layout": {
        "barmode": "relative",
        "legend": {
         "tracegroupgap": 0
        },
        "template": {
         "data": {
          "bar": [
           {
            "error_x": {
             "color": "#2a3f5f"
            },
            "error_y": {
             "color": "#2a3f5f"
            },
            "marker": {
             "line": {
              "color": "#E5ECF6",
              "width": 0.5
             },
             "pattern": {
              "fillmode": "overlay",
              "size": 10,
              "solidity": 0.2
             }
            },
            "type": "bar"
           }
          ],
          "barpolar": [
           {
            "marker": {
             "line": {
              "color": "#E5ECF6",
              "width": 0.5
             },
             "pattern": {
              "fillmode": "overlay",
              "size": 10,
              "solidity": 0.2
             }
            },
            "type": "barpolar"
           }
          ],
          "carpet": [
           {
            "aaxis": {
             "endlinecolor": "#2a3f5f",
             "gridcolor": "white",
             "linecolor": "white",
             "minorgridcolor": "white",
             "startlinecolor": "#2a3f5f"
            },
            "baxis": {
             "endlinecolor": "#2a3f5f",
             "gridcolor": "white",
             "linecolor": "white",
             "minorgridcolor": "white",
             "startlinecolor": "#2a3f5f"
            },
            "type": "carpet"
           }
          ],
          "choropleth": [
           {
            "colorbar": {
             "outlinewidth": 0,
             "ticks": ""
            },
            "type": "choropleth"
           }
          ],
          "contour": [
           {
            "colorbar": {
             "outlinewidth": 0,
             "ticks": ""
            },
            "colorscale": [
             [
              0,
              "#0d0887"
             ],
             [
              0.1111111111111111,
              "#46039f"
             ],
             [
              0.2222222222222222,
              "#7201a8"
             ],
             [
              0.3333333333333333,
              "#9c179e"
             ],
             [
              0.4444444444444444,
              "#bd3786"
             ],
             [
              0.5555555555555556,
              "#d8576b"
             ],
             [
              0.6666666666666666,
              "#ed7953"
             ],
             [
              0.7777777777777778,
              "#fb9f3a"
             ],
             [
              0.8888888888888888,
              "#fdca26"
             ],
             [
              1,
              "#f0f921"
             ]
            ],
            "type": "contour"
           }
          ],
          "contourcarpet": [
           {
            "colorbar": {
             "outlinewidth": 0,
             "ticks": ""
            },
            "type": "contourcarpet"
           }
          ],
          "heatmap": [
           {
            "colorbar": {
             "outlinewidth": 0,
             "ticks": ""
            },
            "colorscale": [
             [
              0,
              "#0d0887"
             ],
             [
              0.1111111111111111,
              "#46039f"
             ],
             [
              0.2222222222222222,
              "#7201a8"
             ],
             [
              0.3333333333333333,
              "#9c179e"
             ],
             [
              0.4444444444444444,
              "#bd3786"
             ],
             [
              0.5555555555555556,
              "#d8576b"
             ],
             [
              0.6666666666666666,
              "#ed7953"
             ],
             [
              0.7777777777777778,
              "#fb9f3a"
             ],
             [
              0.8888888888888888,
              "#fdca26"
             ],
             [
              1,
              "#f0f921"
             ]
            ],
            "type": "heatmap"
           }
          ],
          "heatmapgl": [
           {
            "colorbar": {
             "outlinewidth": 0,
             "ticks": ""
            },
            "colorscale": [
             [
              0,
              "#0d0887"
             ],
             [
              0.1111111111111111,
              "#46039f"
             ],
             [
              0.2222222222222222,
              "#7201a8"
             ],
             [
              0.3333333333333333,
              "#9c179e"
             ],
             [
              0.4444444444444444,
              "#bd3786"
             ],
             [
              0.5555555555555556,
              "#d8576b"
             ],
             [
              0.6666666666666666,
              "#ed7953"
             ],
             [
              0.7777777777777778,
              "#fb9f3a"
             ],
             [
              0.8888888888888888,
              "#fdca26"
             ],
             [
              1,
              "#f0f921"
             ]
            ],
            "type": "heatmapgl"
           }
          ],
          "histogram": [
           {
            "marker": {
             "pattern": {
              "fillmode": "overlay",
              "size": 10,
              "solidity": 0.2
             }
            },
            "type": "histogram"
           }
          ],
          "histogram2d": [
           {
            "colorbar": {
             "outlinewidth": 0,
             "ticks": ""
            },
            "colorscale": [
             [
              0,
              "#0d0887"
             ],
             [
              0.1111111111111111,
              "#46039f"
             ],
             [
              0.2222222222222222,
              "#7201a8"
             ],
             [
              0.3333333333333333,
              "#9c179e"
             ],
             [
              0.4444444444444444,
              "#bd3786"
             ],
             [
              0.5555555555555556,
              "#d8576b"
             ],
             [
              0.6666666666666666,
              "#ed7953"
             ],
             [
              0.7777777777777778,
              "#fb9f3a"
             ],
             [
              0.8888888888888888,
              "#fdca26"
             ],
             [
              1,
              "#f0f921"
             ]
            ],
            "type": "histogram2d"
           }
          ],
          "histogram2dcontour": [
           {
            "colorbar": {
             "outlinewidth": 0,
             "ticks": ""
            },
            "colorscale": [
             [
              0,
              "#0d0887"
             ],
             [
              0.1111111111111111,
              "#46039f"
             ],
             [
              0.2222222222222222,
              "#7201a8"
             ],
             [
              0.3333333333333333,
              "#9c179e"
             ],
             [
              0.4444444444444444,
              "#bd3786"
             ],
             [
              0.5555555555555556,
              "#d8576b"
             ],
             [
              0.6666666666666666,
              "#ed7953"
             ],
             [
              0.7777777777777778,
              "#fb9f3a"
             ],
             [
              0.8888888888888888,
              "#fdca26"
             ],
             [
              1,
              "#f0f921"
             ]
            ],
            "type": "histogram2dcontour"
           }
          ],
          "mesh3d": [
           {
            "colorbar": {
             "outlinewidth": 0,
             "ticks": ""
            },
            "type": "mesh3d"
           }
          ],
          "parcoords": [
           {
            "line": {
             "colorbar": {
              "outlinewidth": 0,
              "ticks": ""
             }
            },
            "type": "parcoords"
           }
          ],
          "pie": [
           {
            "automargin": true,
            "type": "pie"
           }
          ],
          "scatter": [
           {
            "fillpattern": {
             "fillmode": "overlay",
             "size": 10,
             "solidity": 0.2
            },
            "type": "scatter"
           }
          ],
          "scatter3d": [
           {
            "line": {
             "colorbar": {
              "outlinewidth": 0,
              "ticks": ""
             }
            },
            "marker": {
             "colorbar": {
              "outlinewidth": 0,
              "ticks": ""
             }
            },
            "type": "scatter3d"
           }
          ],
          "scattercarpet": [
           {
            "marker": {
             "colorbar": {
              "outlinewidth": 0,
              "ticks": ""
             }
            },
            "type": "scattercarpet"
           }
          ],
          "scattergeo": [
           {
            "marker": {
             "colorbar": {
              "outlinewidth": 0,
              "ticks": ""
             }
            },
            "type": "scattergeo"
           }
          ],
          "scattergl": [
           {
            "marker": {
             "colorbar": {
              "outlinewidth": 0,
              "ticks": ""
             }
            },
            "type": "scattergl"
           }
          ],
          "scattermapbox": [
           {
            "marker": {
             "colorbar": {
              "outlinewidth": 0,
              "ticks": ""
             }
            },
            "type": "scattermapbox"
           }
          ],
          "scatterpolar": [
           {
            "marker": {
             "colorbar": {
              "outlinewidth": 0,
              "ticks": ""
             }
            },
            "type": "scatterpolar"
           }
          ],
          "scatterpolargl": [
           {
            "marker": {
             "colorbar": {
              "outlinewidth": 0,
              "ticks": ""
             }
            },
            "type": "scatterpolargl"
           }
          ],
          "scatterternary": [
           {
            "marker": {
             "colorbar": {
              "outlinewidth": 0,
              "ticks": ""
             }
            },
            "type": "scatterternary"
           }
          ],
          "surface": [
           {
            "colorbar": {
             "outlinewidth": 0,
             "ticks": ""
            },
            "colorscale": [
             [
              0,
              "#0d0887"
             ],
             [
              0.1111111111111111,
              "#46039f"
             ],
             [
              0.2222222222222222,
              "#7201a8"
             ],
             [
              0.3333333333333333,
              "#9c179e"
             ],
             [
              0.4444444444444444,
              "#bd3786"
             ],
             [
              0.5555555555555556,
              "#d8576b"
             ],
             [
              0.6666666666666666,
              "#ed7953"
             ],
             [
              0.7777777777777778,
              "#fb9f3a"
             ],
             [
              0.8888888888888888,
              "#fdca26"
             ],
             [
              1,
              "#f0f921"
             ]
            ],
            "type": "surface"
           }
          ],
          "table": [
           {
            "cells": {
             "fill": {
              "color": "#EBF0F8"
             },
             "line": {
              "color": "white"
             }
            },
            "header": {
             "fill": {
              "color": "#C8D4E3"
             },
             "line": {
              "color": "white"
             }
            },
            "type": "table"
           }
          ]
         },
         "layout": {
          "annotationdefaults": {
           "arrowcolor": "#2a3f5f",
           "arrowhead": 0,
           "arrowwidth": 1
          },
          "autotypenumbers": "strict",
          "coloraxis": {
           "colorbar": {
            "outlinewidth": 0,
            "ticks": ""
           }
          },
          "colorscale": {
           "diverging": [
            [
             0,
             "#8e0152"
            ],
            [
             0.1,
             "#c51b7d"
            ],
            [
             0.2,
             "#de77ae"
            ],
            [
             0.3,
             "#f1b6da"
            ],
            [
             0.4,
             "#fde0ef"
            ],
            [
             0.5,
             "#f7f7f7"
            ],
            [
             0.6,
             "#e6f5d0"
            ],
            [
             0.7,
             "#b8e186"
            ],
            [
             0.8,
             "#7fbc41"
            ],
            [
             0.9,
             "#4d9221"
            ],
            [
             1,
             "#276419"
            ]
           ],
           "sequential": [
            [
             0,
             "#0d0887"
            ],
            [
             0.1111111111111111,
             "#46039f"
            ],
            [
             0.2222222222222222,
             "#7201a8"
            ],
            [
             0.3333333333333333,
             "#9c179e"
            ],
            [
             0.4444444444444444,
             "#bd3786"
            ],
            [
             0.5555555555555556,
             "#d8576b"
            ],
            [
             0.6666666666666666,
             "#ed7953"
            ],
            [
             0.7777777777777778,
             "#fb9f3a"
            ],
            [
             0.8888888888888888,
             "#fdca26"
            ],
            [
             1,
             "#f0f921"
            ]
           ],
           "sequentialminus": [
            [
             0,
             "#0d0887"
            ],
            [
             0.1111111111111111,
             "#46039f"
            ],
            [
             0.2222222222222222,
             "#7201a8"
            ],
            [
             0.3333333333333333,
             "#9c179e"
            ],
            [
             0.4444444444444444,
             "#bd3786"
            ],
            [
             0.5555555555555556,
             "#d8576b"
            ],
            [
             0.6666666666666666,
             "#ed7953"
            ],
            [
             0.7777777777777778,
             "#fb9f3a"
            ],
            [
             0.8888888888888888,
             "#fdca26"
            ],
            [
             1,
             "#f0f921"
            ]
           ]
          },
          "colorway": [
           "#636efa",
           "#EF553B",
           "#00cc96",
           "#ab63fa",
           "#FFA15A",
           "#19d3f3",
           "#FF6692",
           "#B6E880",
           "#FF97FF",
           "#FECB52"
          ],
          "font": {
           "color": "#2a3f5f"
          },
          "geo": {
           "bgcolor": "white",
           "lakecolor": "white",
           "landcolor": "#E5ECF6",
           "showlakes": true,
           "showland": true,
           "subunitcolor": "white"
          },
          "hoverlabel": {
           "align": "left"
          },
          "hovermode": "closest",
          "mapbox": {
           "style": "light"
          },
          "paper_bgcolor": "white",
          "plot_bgcolor": "#E5ECF6",
          "polar": {
           "angularaxis": {
            "gridcolor": "white",
            "linecolor": "white",
            "ticks": ""
           },
           "bgcolor": "#E5ECF6",
           "radialaxis": {
            "gridcolor": "white",
            "linecolor": "white",
            "ticks": ""
           }
          },
          "scene": {
           "xaxis": {
            "backgroundcolor": "#E5ECF6",
            "gridcolor": "white",
            "gridwidth": 2,
            "linecolor": "white",
            "showbackground": true,
            "ticks": "",
            "zerolinecolor": "white"
           },
           "yaxis": {
            "backgroundcolor": "#E5ECF6",
            "gridcolor": "white",
            "gridwidth": 2,
            "linecolor": "white",
            "showbackground": true,
            "ticks": "",
            "zerolinecolor": "white"
           },
           "zaxis": {
            "backgroundcolor": "#E5ECF6",
            "gridcolor": "white",
            "gridwidth": 2,
            "linecolor": "white",
            "showbackground": true,
            "ticks": "",
            "zerolinecolor": "white"
           }
          },
          "shapedefaults": {
           "line": {
            "color": "#2a3f5f"
           }
          },
          "ternary": {
           "aaxis": {
            "gridcolor": "white",
            "linecolor": "white",
            "ticks": ""
           },
           "baxis": {
            "gridcolor": "white",
            "linecolor": "white",
            "ticks": ""
           },
           "bgcolor": "#E5ECF6",
           "caxis": {
            "gridcolor": "white",
            "linecolor": "white",
            "ticks": ""
           }
          },
          "title": {
           "x": 0.05
          },
          "xaxis": {
           "automargin": true,
           "gridcolor": "white",
           "linecolor": "white",
           "ticks": "",
           "title": {
            "standoff": 15
           },
           "zerolinecolor": "white",
           "zerolinewidth": 2
          },
          "yaxis": {
           "automargin": true,
           "gridcolor": "white",
           "linecolor": "white",
           "ticks": "",
           "title": {
            "standoff": 15
           },
           "zerolinecolor": "white",
           "zerolinewidth": 2
          }
         }
        },
        "title": {
         "text": "Count (text) and Percentage(yaxis) of missing values in all the features (data: reviews)"
        },
        "xaxis": {
         "anchor": "y",
         "domain": [
          0,
          1
         ],
         "title": {
          "text": "Features"
         }
        },
        "yaxis": {
         "anchor": "x",
         "domain": [
          0,
          1
         ],
         "title": {
          "text": "Percentage of Missing values"
         }
        }
       }
      }
     },
     "metadata": {},
     "output_type": "display_data"
    }
   ],
   "source": [
    "df=reviews.isna().sum().round(2)\n",
    "df1 = (df*100/reviews.shape[0]).round(2)\n",
    "print('Missing count and percentages for each column are: \\n',df.astype('str') +' ('+ df1.astype('str')+'%)')\n",
    "\n",
    "fig = px.bar(x=df.index, y=df1,text = df.astype('str') +'('+ df1.astype('str')+'%)',\n",
    "            title=\"Count (text) and Percentage(yaxis) of missing values in all the features (data: reviews)\")\n",
    "fig.update_xaxes(title_text= 'Features')\n",
    "fig.update_yaxes(title_text= 'Percentage of Missing values')\n",
    "fig.show()\n",
    "del df, df1"
   ]
  },
  {
   "cell_type": "markdown",
   "id": "clinical-track",
   "metadata": {
    "papermill": {
     "duration": 0.08194,
     "end_time": "2021-05-17T07:45:34.569066",
     "exception": false,
     "start_time": "2021-05-17T07:45:34.487126",
     "status": "completed"
    },
    "tags": []
   },
   "source": [
    "Thus these three features have approx 4.5% missing values\n",
    "'score' and 'score_max' have exactly same number of missing values"
   ]
  },
  {
   "cell_type": "code",
   "execution_count": 75,
   "id": "irish-discrimination",
   "metadata": {
    "execution": {
     "iopub.execute_input": "2021-05-17T07:45:34.740366Z",
     "iopub.status.busy": "2021-05-17T07:45:34.739243Z",
     "iopub.status.idle": "2021-05-17T07:45:39.075128Z",
     "shell.execute_reply": "2021-05-17T07:45:39.075588Z"
    },
    "papermill": {
     "duration": 4.423454,
     "end_time": "2021-05-17T07:45:39.075785",
     "exception": false,
     "start_time": "2021-05-17T07:45:34.652331",
     "status": "completed"
    },
    "tags": []
   },
   "outputs": [
    {
     "name": "stdout",
     "output_type": "stream",
     "text": [
      "Number of unique values in each feature: \n",
      " phone_url       5556\n",
      "date            7728\n",
      "lang              22\n",
      "country           42\n",
      "source           331\n",
      "domain           384\n",
      "score             86\n",
      "score_max          1\n",
      "extract      1321353\n",
      "author        801103\n",
      "product        61313\n",
      "dtype: int64\n"
     ]
    }
   ],
   "source": [
    "print('Number of unique values in each feature: \\n',reviews.nunique())"
   ]
  },
  {
   "cell_type": "markdown",
   "id": "induced-emission",
   "metadata": {
    "papermill": {
     "duration": 0.082363,
     "end_time": "2021-05-17T07:45:39.242131",
     "exception": false,
     "start_time": "2021-05-17T07:45:39.159768",
     "status": "completed"
    },
    "tags": []
   },
   "source": [
    "i.e. score_max for all the phones is 10 throughout."
   ]
  },
  {
   "cell_type": "code",
   "execution_count": 76,
   "id": "delayed-concord",
   "metadata": {
    "execution": {
     "iopub.execute_input": "2021-05-17T07:45:39.611681Z",
     "iopub.status.busy": "2021-05-17T07:45:39.610643Z",
     "iopub.status.idle": "2021-05-17T07:45:40.938548Z",
     "shell.execute_reply": "2021-05-17T07:45:40.937909Z"
    },
    "papermill": {
     "duration": 1.608585,
     "end_time": "2021-05-17T07:45:40.938686",
     "exception": false,
     "start_time": "2021-05-17T07:45:39.330101",
     "status": "completed"
    },
    "tags": []
   },
   "outputs": [
    {
     "data": {
      "text/plain": [
       "Cliente Amazon        19276\n",
       "e-bit                  8663\n",
       "Client d'Amazon        7613\n",
       "Amazon Kunde           4735\n",
       "Amazon Customer        2713\n",
       "einer Kundin           2610\n",
       "einem Kunden           1898\n",
       "unknown                1718\n",
       "ÐÐ»ÐµÐºÑÐ°Ð½Ð´Ñ     1070\n",
       "Ð¡ÐµÑÐ³ÐµÐ¹            904\n",
       "Name: author, dtype: int64"
      ]
     },
     "execution_count": 76,
     "metadata": {},
     "output_type": "execute_result"
    }
   ],
   "source": [
    "# Top 10 Non-english users\n",
    "reviews[reviews['lang']!='en']['author'].value_counts(ascending=False)[:10]"
   ]
  },
  {
   "cell_type": "code",
   "execution_count": 77,
   "id": "personal-delicious",
   "metadata": {
    "execution": {
     "iopub.execute_input": "2021-05-17T07:45:41.305698Z",
     "iopub.status.busy": "2021-05-17T07:45:41.305020Z",
     "iopub.status.idle": "2021-05-17T07:45:41.647723Z",
     "shell.execute_reply": "2021-05-17T07:45:41.647084Z"
    },
    "papermill": {
     "duration": 0.623464,
     "end_time": "2021-05-17T07:45:41.647868",
     "exception": false,
     "start_time": "2021-05-17T07:45:41.024404",
     "status": "completed"
    },
    "tags": []
   },
   "outputs": [
    {
     "data": {
      "text/plain": [
       "Huawei P8lite zwart / 16 GB                                                                                                                                                                  2707\n",
       "Samsung Galaxy Express I8730                                                                                                                                                                 2686\n",
       "Samsung Galaxy S6 zwart / 32 GB                                                                                                                                                              2345\n",
       "Nokia 5800 XpressMusic                                                                                                                                                                       1996\n",
       "Nokia N95                                                                                                                                                                                    1848\n",
       "Huawei P9 Lite Smartphone, LTE, Display 5.2'' FHD, Processore Octa-Core Kirin 650, 16 GB Memoria Interna, 3GB RAM, Fotocamera 13 MP, Single-SIM, Android 6.0 Marshmallow, Bianco [Italia]    1720\n",
       "Samsung Galaxy S6 edge zwart / 32 GB                                                                                                                                                         1708\n",
       "Nokia N8                                                                                                                                                                                     1699\n",
       "Nokia 5800                                                                                                                                                                                   1588\n",
       "Huawei P8 Lite Smartphone, Display 5\" IPS, Processore Octa-Core 1.5 GHz, Memoria Interna da 16 GB, 2 GB RAM, Fotocamera 13 MP, monoSIM, Android 5.0, Bianco [Italia]                         1577\n",
       "Name: product, dtype: int64"
      ]
     },
     "execution_count": 77,
     "metadata": {},
     "output_type": "execute_result"
    }
   ],
   "source": [
    "# Top 10 Non-english products\n",
    "reviews[reviews['lang']!='en']['product'].value_counts(ascending=False)[:10]"
   ]
  },
  {
   "cell_type": "markdown",
   "id": "handed-flood",
   "metadata": {
    "papermill": {
     "duration": 0.084041,
     "end_time": "2021-05-17T07:45:41.816064",
     "exception": false,
     "start_time": "2021-05-17T07:45:41.732023",
     "status": "completed"
    },
    "tags": []
   },
   "source": [
    "Thus, a multiple similar names, with different details exist in product list. For eg:  \n",
    "* Huawei P8lite zwart / 16 GB and  \n",
    "* Huawei P8 Lite Smartphone, Display 5\" IPS, Processore Octa-Core 1.5 GHz, Memoria Interna da 16 GB, 2 GB RAM, Fotocamera 13 MP, monoSIM, Android 5.0, Bianco [Italia]  \n",
    "are exactly same models"
   ]
  },
  {
   "cell_type": "markdown",
   "id": "valid-camera",
   "metadata": {
    "papermill": {
     "duration": 0.085649,
     "end_time": "2021-05-17T07:45:41.987961",
     "exception": false,
     "start_time": "2021-05-17T07:45:41.902312",
     "status": "completed"
    },
    "tags": []
   },
   "source": [
    "Another observation is that 'phone_url' column also contains the phone name and model information. Let's check what extra information is present in 'product column'"
   ]
  },
  {
   "cell_type": "code",
   "execution_count": 78,
   "id": "prospective-crisis",
   "metadata": {
    "execution": {
     "iopub.execute_input": "2021-05-17T07:45:42.444660Z",
     "iopub.status.busy": "2021-05-17T07:45:42.443623Z",
     "iopub.status.idle": "2021-05-17T07:45:42.453807Z",
     "shell.execute_reply": "2021-05-17T07:45:42.453173Z"
    },
    "papermill": {
     "duration": 0.380355,
     "end_time": "2021-05-17T07:45:42.453962",
     "exception": false,
     "start_time": "2021-05-17T07:45:42.073607",
     "status": "completed"
    },
    "tags": []
   },
   "outputs": [
    {
     "data": {
      "text/plain": [
       "/cellphones/samsung-galaxy-s-iii/                                 17093\n",
       "/cellphones/apple-iphone-5s/                                      16379\n",
       "/cellphones/samsung-galaxy-s6/                                    16145\n",
       "/cellphones/samsung-galaxy-s5/                                    16082\n",
       "/cellphones/samsung-galaxy-s7-edge/                               15917\n",
       "/cellphones/motorola-moto-g/                                      14476\n",
       "/cellphones/samsung-galaxy-s7-789999/                             13488\n",
       "/cellphones/samsung-i9500-galaxy-s-iv/                            13161\n",
       "/cellphones/huawei-p8-lite/                                       12629\n",
       "/cellphones/lenovo-vibe-k4-note/                                   9662\n",
       "/cellphones/samsung-galaxy-s4-mini-gt-i9190-gt-i9192-dual-sim/     9027\n",
       "/cellphones/samsung-galaxy-s6-edge-sm-g925f/                       8844\n",
       "/cellphones/apple-iphone-4s/                                       8602\n",
       "/cellphones/samsung-galaxy-s3-mini/                                8388\n",
       "/cellphones/lg-g3-d855-657484/                                     7992\n",
       "/cellphones/oneplus-3/                                             7944\n",
       "/cellphones/lenovo-vibe-k5/                                        7892\n",
       "/cellphones/apple-iphone-5/                                        7821\n",
       "/cellphones/apple-iphone-6/                                        7820\n",
       "/cellphones/apple-iphone-4/                                        7289\n",
       "/cellphones/lg-g4/                                                 7060\n",
       "/cellphones/lg-g2-594708/                                          6621\n",
       "/cellphones/apple-iphone-5c/                                       6157\n",
       "/cellphones/apple-iphone-6s/                                       6137\n",
       "/cellphones/samsung-galaxy-ace-s5830/                              6064\n",
       "/cellphones/motorola-moto-e/                                       6031\n",
       "/cellphones/samsung-galaxy-j3-duos/                                5936\n",
       "/cellphones/apple-iphone-7/                                        5839\n",
       "/cellphones/samsung-s5230/                                         5824\n",
       "/cellphones/samsung-galaxy-note-iii/                               5806\n",
       "/cellphones/huawei-p9-lite/                                        5553\n",
       "/cellphones/samsung-galaxy-s-ii/                                   5425\n",
       "/cellphones/nokia-5800-xpressmusic-tube/                           5179\n",
       "/cellphones/samsung-galaxy-note-2/                                 5001\n",
       "/cellphones/samsung-galaxy-j5/                                     4933\n",
       "/cellphones/samsung-galaxy-note-4/                                 4885\n",
       "/cellphones/nokia-lumia-520/                                       4883\n",
       "/cellphones/samsung-galaxy-s6-edgeplus/                            4776\n",
       "/cellphones/motorola-moto-g3/                                      4619\n",
       "/cellphones/lg-google-nexus-5/                                     4549\n",
       "/cellphones/microsoft-lumia-640-dual-sim/                          4523\n",
       "/cellphones/apple-iphone-se/                                       4425\n",
       "/cellphones/motorola-moto-g4/                                      4420\n",
       "/cellphones/htc-one-m7/                                            4349\n",
       "/cellphones/nokia-lumia-630/                                       4187\n",
       "/cellphones/google-nexus-5x-h791/                                  4169\n",
       "/cellphones/samsung-galaxy-a3-2016/                                4025\n",
       "/cellphones/asus-zenfone-2/                                        3980\n",
       "/cellphones/nokia-n95/                                             3912\n",
       "/cellphones/sony-xperia-z3-compact/                                3870\n",
       "Name: phone_url, dtype: int64"
      ]
     },
     "execution_count": 78,
     "metadata": {},
     "output_type": "execute_result"
    }
   ],
   "source": [
    "# print the frequency count of phone_url column\n",
    "reviews['phone_url'].value_counts(ascending=False).head(50)"
   ]
  },
  {
   "cell_type": "code",
   "execution_count": 79,
   "id": "unlikely-owner",
   "metadata": {
    "execution": {
     "iopub.execute_input": "2021-05-17T07:45:42.801567Z",
     "iopub.status.busy": "2021-05-17T07:45:42.800528Z",
     "iopub.status.idle": "2021-05-17T07:45:42.819715Z",
     "shell.execute_reply": "2021-05-17T07:45:42.819202Z"
    },
    "papermill": {
     "duration": 0.281394,
     "end_time": "2021-05-17T07:45:42.819859",
     "exception": false,
     "start_time": "2021-05-17T07:45:42.538465",
     "status": "completed"
    },
    "tags": []
   },
   "outputs": [
    {
     "data": {
      "text/plain": [
       "product                                                                                                                                         \n",
       "Samsung Galaxy Express I8730                                                                                                                        2685\n",
       "Samsung Galaxy S III 16GB (Virgin Mobile)                                                                                                            730\n",
       "Samsung Galaxy S III                                                                                                                                 689\n",
       "Samsung Galaxy S III 16GB (Straight Talk)                                                                                                            556\n",
       "Samsung Galaxy S III i9300 Smartphone 16 GB (12,2 cm (4,8 Zoll) HD Super-AMOLED-Touchscreen, 8 Megapixel Kamera, Micro-SIM, Android 4.0) schwarz     381\n",
       "Samsung Galaxy S III 16GB (Boost Mobile)                                                                                                             350\n",
       "Samsung Galaxy S3 I535 16GB Verizon Wireless 4G LTE Smartphone - Blue                                                                                330\n",
       "Samsung Galaxy SIII UK SIM-Free Smartphone - Pebble Blue (16GB) - Discontinued by manufacturer                                                       328\n",
       "Samsung Galaxy S III GT-I9300 16Gb                                                                                                                   318\n",
       "Samsung Galaxy S III 16 or 32GB (T-Mobile 4G LTE)                                                                                                    276\n",
       "Samsung Galaxy S III i9300 Smartphone (4,8 Zoll (12,2 cm) Touch-Display, 16 GB Speicher, Android 4.0) pebble-blue                                    262\n",
       "Samsung Galaxy SIII Mini UK SIM-Free Smartphone - Blue - discontinued by manufacturer                                                                256\n",
       "Samsung Galaxy S III / SGH-i747 16GB GSM Unlocked LTE Android Smartphone Blue                                                                        224\n",
       "Samsung Galaxy S3                                                                                                                                    211\n",
       "Samsung Galaxy S3 i9300i Unlocked 16GB (White)                                                                                                       209\n",
       "dtype: int64"
      ]
     },
     "execution_count": 79,
     "metadata": {},
     "output_type": "execute_result"
    }
   ],
   "source": [
    "# frequency count of 'product' column for 'samsung-galaxy-s-iii' type phone\n",
    "reviews[reviews[\"phone_url\"]=='/cellphones/samsung-galaxy-s-iii/'][['product']].value_counts().head(15)"
   ]
  },
  {
   "cell_type": "markdown",
   "id": "collected-benjamin",
   "metadata": {
    "papermill": {
     "duration": 0.085902,
     "end_time": "2021-05-17T07:45:42.990729",
     "exception": false,
     "start_time": "2021-05-17T07:45:42.904827",
     "status": "completed"
    },
    "tags": []
   },
   "source": [
    "Exra information is generally:  \n",
    "* phone memory: 8Gb/16GB/32GB etc\n",
    "* phone colour: Marble white, Blue, Red etc\n",
    "* carrier: AT&T, Verizon etc\n",
    "\n",
    "Another observation is that these specifications are not present in all the product names, for eg: \n",
    "there is no-way available to differentiate between the 2 products below:  \n",
    "'Samsung Galaxy S III Cellular Phone' and   \n",
    "'Samsung Galaxy S III SPH-L710 - 16GB - Marble White (Sprint) Smartphone'\n",
    "\n",
    "Thus differentiating information is not same in all the product details. \n",
    "Also, the goal is to recommend a phone not the carrier. and other specs like color etc are of low importance in recommendation. The only consistent differentiating information in all the product names is the 'phone manufacturer and model number', which can also be extracted from 'phone_url' column.\n",
    "Let's check for other phone names as well"
   ]
  },
  {
   "cell_type": "code",
   "execution_count": 80,
   "id": "straight-transcription",
   "metadata": {
    "execution": {
     "iopub.execute_input": "2021-05-17T07:45:43.340581Z",
     "iopub.status.busy": "2021-05-17T07:45:43.339823Z",
     "iopub.status.idle": "2021-05-17T07:45:43.356265Z",
     "shell.execute_reply": "2021-05-17T07:45:43.355615Z"
    },
    "papermill": {
     "duration": 0.279317,
     "end_time": "2021-05-17T07:45:43.356401",
     "exception": false,
     "start_time": "2021-05-17T07:45:43.077084",
     "status": "completed"
    },
    "tags": []
   },
   "outputs": [
    {
     "data": {
      "text/plain": [
       "product                                                                          \n",
       "Apple iPhone 5s (Silver, 16GB)                                                       1603\n",
       "Apple iPhone 5s 16GB (ÑÐµÑÐµÐ±ÑÐ¸ÑÑÑÐ¹)                                        1355\n",
       "Apple iPhone 5s GSM Unlocked Cellphone, 16 GB, Space Gray                            1273\n",
       "Apple iPhone 5s (Gold, 16GB)                                                          682\n",
       "Apple iPhone 5s 16GB (ÑÐµÑÑÐ¹ ÐºÐ¾ÑÐ¼Ð¾Ñ)                                        592\n",
       "iPhone 5S APPLE IPHONE 5S 32GB SILVER UNLOCKED                                        434\n",
       "Apple iPhone 5S (Silver, 16 GB)                                                       429\n",
       "Sim Free Apple iPhone 5S 16GB Mobile Phone - Space Grey                               349\n",
       "Apple iPhone 5S 16Gb                                                                  326\n",
       "Sim Free Apple iPhone 5S 16GB Mobile Phone - Silver                                   286\n",
       "Apple iPhone 5s 16GB (Space Gray) - Verizon Wireless                                  284\n",
       "Apple iPhone 5S 16GB Black                                                            248\n",
       "Apple iPhone 5s T-Mobile Cellphone, 16GB, Space Gray                                  238\n",
       "Apple iPhone 5S 16GB Grigio [Italia]                                                  217\n",
       "Apple iPhone 5S Gold 64GB SIM-Free Smartphone (Zertifiziert und GeneralÃ¼berholt)     202\n",
       "dtype: int64"
      ]
     },
     "execution_count": 80,
     "metadata": {},
     "output_type": "execute_result"
    }
   ],
   "source": [
    "# frequency count of 'product' column for 'apple-iphone-5s' type phone\n",
    "reviews[reviews[\"phone_url\"]=='/cellphones/apple-iphone-5s/'][['product']].value_counts().head(15)"
   ]
  },
  {
   "cell_type": "code",
   "execution_count": 81,
   "id": "hungry-mapping",
   "metadata": {
    "execution": {
     "iopub.execute_input": "2021-05-17T07:45:43.704603Z",
     "iopub.status.busy": "2021-05-17T07:45:43.703946Z",
     "iopub.status.idle": "2021-05-17T07:45:43.719490Z",
     "shell.execute_reply": "2021-05-17T07:45:43.719983Z"
    },
    "papermill": {
     "duration": 0.278061,
     "end_time": "2021-05-17T07:45:43.720173",
     "exception": false,
     "start_time": "2021-05-17T07:45:43.442112",
     "status": "completed"
    },
    "tags": []
   },
   "outputs": [
    {
     "data": {
      "text/plain": [
       "product                                                                                                                             \n",
       "Samsung Galaxy S6 zwart / 32 GB                                                                                                         2345\n",
       "Samsung Galaxy S6 32GB (AT&T)                                                                                                            979\n",
       "Samsung Galaxy S6 32GB (Sprint)                                                                                                          935\n",
       "Samsung Galaxy S6 32GB (Verizon)                                                                                                         919\n",
       "Samsung Galaxy S6 wit / 32 GB                                                                                                            801\n",
       "Samsung Galaxy S6 32GB (T-Mobile)                                                                                                        736\n",
       "Samsung Galaxy S6                                                                                                                        595\n",
       "Samsung Galaxy S6 64 GB UK SIM-Free Smartphone - Gold                                                                                    468\n",
       "Samsung Galaxy S6 64GB (Verizon)                                                                                                         464\n",
       "Samsung Galaxy S6 Smartphone (5,1 Zoll (12,9 cm) Touch-Display, 128 GB Speicher, Android 5.0) gold (Nur fÃ¼r EuropÃ¤ische SIM-Karte)     397\n",
       "Samsung Galaxy S6, Black Sapphire 32GB (Verizon Wireless)                                                                                345\n",
       "Samsung Galaxy S6 Smartphone dÃ©bloquÃ© 4G (5.1 pouces - 64 Go - Android 5.0 Lollipop) Noir (import Allemagne)                           316\n",
       "Samsung G920 Galaxy S6 Smartphone, 32 GB, Oro [Italia]                                                                                   259\n",
       "Samsung Galaxy S6 64GB (AT&T)                                                                                                            258\n",
       "Samsung Galaxy S6 32GB SM-G920i - Unlocked White (International Version)                                                                 250\n",
       "dtype: int64"
      ]
     },
     "execution_count": 81,
     "metadata": {},
     "output_type": "execute_result"
    }
   ],
   "source": [
    "# frequency count of 'product' column for 'samsung-galaxy-s6' type phone\n",
    "reviews[reviews[\"phone_url\"]=='/cellphones/samsung-galaxy-s6/'][['product']].value_counts().head(15)"
   ]
  },
  {
   "cell_type": "code",
   "execution_count": 82,
   "id": "outstanding-maintenance",
   "metadata": {
    "execution": {
     "iopub.execute_input": "2021-05-17T07:45:44.072827Z",
     "iopub.status.busy": "2021-05-17T07:45:44.072158Z",
     "iopub.status.idle": "2021-05-17T07:45:44.087896Z",
     "shell.execute_reply": "2021-05-17T07:45:44.087019Z"
    },
    "papermill": {
     "duration": 0.281174,
     "end_time": "2021-05-17T07:45:44.088043",
     "exception": false,
     "start_time": "2021-05-17T07:45:43.806869",
     "status": "completed"
    },
    "tags": []
   },
   "outputs": [
    {
     "data": {
      "text/plain": [
       "product                                                                                                   \n",
       "Samsung Galaxy S5 16GB (Verizon)                                                                              1432\n",
       "Samsung Galaxy S5 16GB (T-Mobile)                                                                             1165\n",
       "Samsung Galaxy S5 16GB (AT&T)                                                                                 1079\n",
       "Smartphone Samsung Galaxy S5 SM-G900                                                                           671\n",
       "Samsung Galaxy S5 Smartphone (5,1 Zoll (12,9 cm) Touch-Display, 16 GB Speicher, Android 4.4) electric blue     664\n",
       "Samsung Galaxy S5 SM-G900T 4G LTE 16GB Smartphone, Black (T-Mobile)                                            513\n",
       "Samsung Galaxy S5 goud / 16 GB                                                                                 480\n",
       "Samsung Galaxy S5 16GB (Sprint)                                                                                452\n",
       "Samsung Galaxy S5 SM-G900F 16GB Factory Unlocked Cellphone International Version, Retail Packaging, Black      330\n",
       "Samsung Galaxy S5 SM-G900A GSM Unlocked Cellphone, 16GB, Black                                                 288\n",
       "Samsung Galaxy S5 SM-G900F 16GB (ÑÐµÑÐ½ÑÐ¹)                                                                 217\n",
       "Samsung Galaxy S5 SM-G900F 16GB (ÑÐ¸Ð½Ð¸Ð¹)                                                                   217\n",
       "Samsung Galaxy S5 SM-G900F 16GB (Ð·Ð¾Ð»Ð¾ÑÐ¸ÑÑÑÐ¹)                                                         217\n",
       "Samsung Galaxy S5 SM-G900F 16GB (Ð±ÐµÐ»ÑÐ¹)                                                                   217\n",
       "SAMSUNG Galaxy S5 (Copper Gold, 16 GB)                                                                         214\n",
       "dtype: int64"
      ]
     },
     "execution_count": 82,
     "metadata": {},
     "output_type": "execute_result"
    }
   ],
   "source": [
    "# frequency count of 'product' column for 'samsung-galaxy-s5' type phone\n",
    "reviews[reviews[\"phone_url\"]=='/cellphones/samsung-galaxy-s5/'][['product']].value_counts().head(15)"
   ]
  },
  {
   "cell_type": "markdown",
   "id": "proper-isaac",
   "metadata": {
    "papermill": {
     "duration": 0.088208,
     "end_time": "2021-05-17T07:45:44.263716",
     "exception": false,
     "start_time": "2021-05-17T07:45:44.175508",
     "status": "completed"
    },
    "tags": []
   },
   "source": [
    "As can be seen, same pattern is visible for the most comun types of phones. Thus it is better to use phone name and model number rather than other details mentioned in 'product' column"
   ]
  },
  {
   "cell_type": "code",
   "execution_count": 83,
   "id": "republican-wallace",
   "metadata": {
    "execution": {
     "iopub.execute_input": "2021-05-17T07:45:44.563434Z",
     "iopub.status.busy": "2021-05-17T07:45:44.562721Z",
     "iopub.status.idle": "2021-05-17T07:45:50.784280Z",
     "shell.execute_reply": "2021-05-17T07:45:50.784790Z"
    },
    "papermill": {
     "duration": 6.434697,
     "end_time": "2021-05-17T07:45:50.785014",
     "exception": false,
     "start_time": "2021-05-17T07:45:44.350317",
     "status": "completed"
    },
    "tags": []
   },
   "outputs": [
    {
     "data": {
      "text/plain": [
       "array(['samsung galaxy s8', 'samsung galaxy s6 edgeplus',\n",
       "       'samsung galaxy s8 plus', ..., 'siemens c10', 'maxon mx 3204',\n",
       "       'alcatel ot club_1187'], dtype=object)"
      ]
     },
     "execution_count": 83,
     "metadata": {},
     "output_type": "execute_result"
    }
   ],
   "source": [
    "reviews['phone'] = reviews['phone_url'].str.split(\"/\").apply(lambda col: col[2]).replace('-', ' ', regex=True)\n",
    "reviews['product'] = reviews['phone']\n",
    "reviews['phone'].unique()"
   ]
  },
  {
   "cell_type": "code",
   "execution_count": 84,
   "id": "static-explanation",
   "metadata": {
    "execution": {
     "iopub.execute_input": "2021-05-17T07:45:50.967593Z",
     "iopub.status.busy": "2021-05-17T07:45:50.966841Z",
     "iopub.status.idle": "2021-05-17T07:45:50.970578Z",
     "shell.execute_reply": "2021-05-17T07:45:50.971077Z"
    },
    "papermill": {
     "duration": 0.098559,
     "end_time": "2021-05-17T07:45:50.971294",
     "exception": false,
     "start_time": "2021-05-17T07:45:50.872735",
     "status": "completed"
    },
    "tags": []
   },
   "outputs": [
    {
     "data": {
      "text/plain": [
       "(1415133,)"
      ]
     },
     "execution_count": 84,
     "metadata": {},
     "output_type": "execute_result"
    }
   ],
   "source": [
    "reviews['product'].shape"
   ]
  },
  {
   "cell_type": "code",
   "execution_count": 85,
   "id": "requested-douglas",
   "metadata": {
    "execution": {
     "iopub.execute_input": "2021-05-17T07:45:51.153629Z",
     "iopub.status.busy": "2021-05-17T07:45:51.152990Z",
     "iopub.status.idle": "2021-05-17T07:45:51.900746Z",
     "shell.execute_reply": "2021-05-17T07:45:51.899745Z"
    },
    "papermill": {
     "duration": 0.840071,
     "end_time": "2021-05-17T07:45:51.900933",
     "exception": false,
     "start_time": "2021-05-17T07:45:51.060862",
     "status": "completed"
    },
    "tags": []
   },
   "outputs": [
    {
     "name": "stdout",
     "output_type": "stream",
     "text": [
      "Distribution of number of ratings per item (Clipped at 10): \n",
      " samsung galaxy s iii         17093\n",
      "apple iphone 5s              16379\n",
      "samsung galaxy s6            16145\n",
      "samsung galaxy s5            16082\n",
      "samsung galaxy s7 edge       15917\n",
      "motorola moto g              14476\n",
      "samsung galaxy s7 789999     13488\n",
      "samsung i9500 galaxy s iv    13161\n",
      "huawei p8 lite               12629\n",
      "lenovo vibe k4 note           9662\n",
      "Name: product, dtype: int64\n"
     ]
    },
    {
     "data": {
      "image/png": "[encoded data removed]",
      "text/plain": [
       "<Figure size 432x288 with 1 Axes>"
      ]
     },
     "metadata": {
      "needs_background": "light"
     },
     "output_type": "display_data"
    }
   ],
   "source": [
    "product = reviews['product'].value_counts()[:10]\n",
    "print('Distribution of number of ratings per item (Clipped at 10): \\n',product)\n",
    "sns.barplot(y=product.index,x=product)\n",
    "plt.tight_layout()\n",
    "plt.show()"
   ]
  },
  {
   "cell_type": "code",
   "execution_count": 86,
   "id": "transparent-consolidation",
   "metadata": {
    "execution": {
     "iopub.execute_input": "2021-05-17T07:45:52.726838Z",
     "iopub.status.busy": "2021-05-17T07:45:52.726183Z",
     "iopub.status.idle": "2021-05-17T07:45:53.759595Z",
     "shell.execute_reply": "2021-05-17T07:45:53.760107Z"
    },
    "papermill": {
     "duration": 1.769676,
     "end_time": "2021-05-17T07:45:53.760302",
     "exception": false,
     "start_time": "2021-05-17T07:45:51.990626",
     "status": "completed"
    },
    "tags": []
   },
   "outputs": [
    {
     "name": "stdout",
     "output_type": "stream",
     "text": [
      "Distribution of number of ratings per user(Clipped at 10): \n",
      " Amazon Customer    76978\n",
      "NaN                63202\n",
      "Cliente Amazon     19304\n",
      "e-bit               8663\n",
      "Client d'Amazon     7716\n",
      "Amazon Kunde        4750\n",
      "Anonymous           2750\n",
      "einer Kundin        2610\n",
      "einem Kunden        1898\n",
      "unknown             1738\n",
      "Name: author, dtype: int64\n"
     ]
    },
    {
     "data": {
      "image/png": "[encoded data removed]",
      "text/plain": [
       "<Figure size 432x288 with 1 Axes>"
      ]
     },
     "metadata": {
      "needs_background": "light"
     },
     "output_type": "display_data"
    }
   ],
   "source": [
    "users = reviews['author'].value_counts(dropna=False)[:10]\n",
    "print('Distribution of number of ratings per user(Clipped at 10): \\n',users)\n",
    "users.index = users.index.map(str)\n",
    "sns.barplot(y=users.index,x=users)\n",
    "plt.tight_layout()\n",
    "plt.show()"
   ]
  },
  {
   "cell_type": "markdown",
   "id": "forced-toyota",
   "metadata": {
    "papermill": {
     "duration": 0.092176,
     "end_time": "2021-05-17T07:45:53.944032",
     "exception": false,
     "start_time": "2021-05-17T07:45:53.851856",
     "status": "completed"
    },
    "tags": []
   },
   "source": [
    "Following observations are made:  \n",
    "1. Most active user is 'Amazon customer'\n",
    "2. 'Anonymous' and 'unknown' users are those whose names are not known. Thus we can use this to impute blank values in 'author' column\n",
    "3. Many names are similar but in different languages like 'Amazon customer' and 'Cliente Amazon'. Let's search for these first and cleanup the differences due to language"
   ]
  },
  {
   "cell_type": "markdown",
   "id": "parallel-rehabilitation",
   "metadata": {
    "papermill": {
     "duration": 0.090405,
     "end_time": "2021-05-17T07:45:54.126189",
     "exception": false,
     "start_time": "2021-05-17T07:45:54.035784",
     "status": "completed"
    },
    "tags": []
   },
   "source": [
    "names like 'einer Kundin', 'einem Kunden','Anonymous' and 'unknown' can be interpreted in the same way i.e. an 'unknown customer'. Let's replace these names too"
   ]
  },
  {
   "cell_type": "code",
   "execution_count": 87,
   "id": "determined-astrology",
   "metadata": {
    "execution": {
     "iopub.execute_input": "2021-05-17T07:45:54.434967Z",
     "iopub.status.busy": "2021-05-17T07:45:54.433722Z",
     "iopub.status.idle": "2021-05-17T07:45:54.812920Z",
     "shell.execute_reply": "2021-05-17T07:45:54.811942Z"
    },
    "papermill": {
     "duration": 0.596729,
     "end_time": "2021-05-17T07:45:54.813082",
     "exception": false,
     "start_time": "2021-05-17T07:45:54.216353",
     "status": "completed"
    },
    "tags": []
   },
   "outputs": [],
   "source": [
    "unknowns = ['Anonymous','einer Kundin','einem Kunden', 'unknown','Anonymous ']\n",
    "reviews['author'].replace(to_replace = unknowns, \n",
    "                          value = 'Anonymous', \n",
    "                          inplace=True)"
   ]
  },
  {
   "cell_type": "code",
   "execution_count": 88,
   "id": "occupational-joining",
   "metadata": {
    "execution": {
     "iopub.execute_input": "2021-05-17T07:45:55.620320Z",
     "iopub.status.busy": "2021-05-17T07:45:55.619621Z",
     "iopub.status.idle": "2021-05-17T07:45:56.678353Z",
     "shell.execute_reply": "2021-05-17T07:45:56.677785Z"
    },
    "papermill": {
     "duration": 1.774255,
     "end_time": "2021-05-17T07:45:56.678501",
     "exception": false,
     "start_time": "2021-05-17T07:45:54.904246",
     "status": "completed"
    },
    "tags": []
   },
   "outputs": [
    {
     "name": "stdout",
     "output_type": "stream",
     "text": [
      "Distribution of number of ratings per user(Clipped at 10): \n",
      " Amazon Customer       76978\n",
      "NaN                   63202\n",
      "Cliente Amazon        19304\n",
      "Anonymous             10457\n",
      "e-bit                  8663\n",
      "Client d'Amazon        7716\n",
      "Amazon Kunde           4750\n",
      "ÐÐ»ÐµÐºÑÐ°Ð½Ð´Ñ     1071\n",
      "David                  1016\n",
      "Ð¡ÐµÑÐ³ÐµÐ¹            904\n",
      "Name: author, dtype: int64\n"
     ]
    },
    {
     "data": {
      "image/png": "[encoded data removed]",
      "text/plain": [
       "<Figure size 432x288 with 1 Axes>"
      ]
     },
     "metadata": {
      "needs_background": "light"
     },
     "output_type": "display_data"
    }
   ],
   "source": [
    "users = reviews['author'].value_counts(dropna=False)[:10]\n",
    "print('Distribution of number of ratings per user(Clipped at 10): \\n',users)\n",
    "users.index = users.index.map(str)\n",
    "sns.barplot(y=users.index,x=users)\n",
    "plt.tight_layout()\n",
    "plt.show()"
   ]
  },
  {
   "cell_type": "code",
   "execution_count": 89,
   "id": "pointed-helmet",
   "metadata": {
    "execution": {
     "iopub.execute_input": "2021-05-17T07:45:56.871495Z",
     "iopub.status.busy": "2021-05-17T07:45:56.870776Z",
     "iopub.status.idle": "2021-05-17T07:45:56.893472Z",
     "shell.execute_reply": "2021-05-17T07:45:56.892896Z"
    },
    "papermill": {
     "duration": 0.122428,
     "end_time": "2021-05-17T07:45:56.893616",
     "exception": false,
     "start_time": "2021-05-17T07:45:56.771188",
     "status": "completed"
    },
    "tags": []
   },
   "outputs": [
    {
     "name": "stdout",
     "output_type": "stream",
     "text": [
      "Uniqe values in the \"score\" feature: \n",
      " [10.   6.   9.2  4.   8.   2.   9.6  7.2  6.8  9.   8.3  8.8  8.4  5.3\n",
      "  7.   6.4  7.6  nan  5.2  3.2  4.4  2.8  5.6  3.6  4.8  1.   5.   3.\n",
      "  2.4  9.3  8.5  9.5  6.5  5.5  9.8  8.2  8.6  7.8  9.4  6.6  6.2  7.5\n",
      "  9.9  2.7  8.7  6.7  3.3  7.7  7.3  9.7  6.3  7.4  5.7  4.7  4.3  5.8\n",
      "  4.2  4.5  2.2  5.4  7.9  3.5  4.6  3.7  2.5  3.4  7.1  8.1  1.2  1.4\n",
      "  3.8  9.1  2.6  1.6  1.7  1.5  1.8  2.3  6.1  5.9  1.3  0.2  0.4  8.9\n",
      "  6.9  0.6  4.9]\n"
     ]
    }
   ],
   "source": [
    "# Let's check the score column of the data\n",
    "print('Uniqe values in the \"score\" feature: \\n',reviews.score.unique())"
   ]
  },
  {
   "cell_type": "markdown",
   "id": "italian-handy",
   "metadata": {
    "papermill": {
     "duration": 0.09709,
     "end_time": "2021-05-17T07:45:57.085798",
     "exception": false,
     "start_time": "2021-05-17T07:45:56.988708",
     "status": "completed"
    },
    "tags": []
   },
   "source": [
    "Let's round it off to nearest integer"
   ]
  },
  {
   "cell_type": "code",
   "execution_count": 90,
   "id": "australian-toolbox",
   "metadata": {
    "execution": {
     "iopub.execute_input": "2021-05-17T07:45:57.294367Z",
     "iopub.status.busy": "2021-05-17T07:45:57.293610Z",
     "iopub.status.idle": "2021-05-17T07:45:57.302222Z",
     "shell.execute_reply": "2021-05-17T07:45:57.301512Z"
    },
    "papermill": {
     "duration": 0.12343,
     "end_time": "2021-05-17T07:45:57.302381",
     "exception": false,
     "start_time": "2021-05-17T07:45:57.178951",
     "status": "completed"
    },
    "tags": []
   },
   "outputs": [],
   "source": [
    "relevant_features=['author','product','score']\n",
    "# irrelvant_features=['phone_url','date','lang','country','source','domain','score_max','extract']"
   ]
  },
  {
   "cell_type": "code",
   "execution_count": 91,
   "id": "romantic-excess",
   "metadata": {
    "execution": {
     "iopub.execute_input": "2021-05-17T07:45:57.521405Z",
     "iopub.status.busy": "2021-05-17T07:45:57.520405Z",
     "iopub.status.idle": "2021-05-17T07:46:00.205927Z",
     "shell.execute_reply": "2021-05-17T07:46:00.204869Z"
    },
    "papermill": {
     "duration": 2.803576,
     "end_time": "2021-05-17T07:46:00.206130",
     "exception": false,
     "start_time": "2021-05-17T07:45:57.402554",
     "status": "completed"
    },
    "tags": []
   },
   "outputs": [
    {
     "name": "stdout",
     "output_type": "stream",
     "text": [
      "Number of duplicate rows:  24877\n"
     ]
    }
   ],
   "source": [
    "print('Number of duplicate rows: ', reviews.duplicated().sum())"
   ]
  },
  {
   "cell_type": "code",
   "execution_count": 92,
   "id": "secondary-coverage",
   "metadata": {
    "execution": {
     "iopub.execute_input": "2021-05-17T07:46:00.399779Z",
     "iopub.status.busy": "2021-05-17T07:46:00.399043Z",
     "iopub.status.idle": "2021-05-17T07:46:00.402808Z",
     "shell.execute_reply": "2021-05-17T07:46:00.402160Z"
    },
    "papermill": {
     "duration": 0.102025,
     "end_time": "2021-05-17T07:46:00.403027",
     "exception": false,
     "start_time": "2021-05-17T07:46:00.301002",
     "status": "completed"
    },
    "tags": []
   },
   "outputs": [],
   "source": [
    "orgnl_rows = reviews.shape[0]\n",
    "orgnl_columns = reviews.shape[1]"
   ]
  },
  {
   "cell_type": "markdown",
   "id": "grand-poison",
   "metadata": {
    "papermill": {
     "duration": 0.094124,
     "end_time": "2021-05-17T07:46:00.591614",
     "exception": false,
     "start_time": "2021-05-17T07:46:00.497490",
     "status": "completed"
    },
    "tags": []
   },
   "source": [
    "### 1.4. Modification 1: revs1: Data cleaning, Imputation and rounding-off <a id=\"clean_impute_round-off\"></a>\n",
    "[Go to top](#toc)"
   ]
  },
  {
   "cell_type": "code",
   "execution_count": 93,
   "id": "packed-pontiac",
   "metadata": {
    "execution": {
     "iopub.execute_input": "2021-05-17T07:46:00.787574Z",
     "iopub.status.busy": "2021-05-17T07:46:00.786785Z",
     "iopub.status.idle": "2021-05-17T07:46:03.214839Z",
     "shell.execute_reply": "2021-05-17T07:46:03.214351Z"
    },
    "papermill": {
     "duration": 2.52923,
     "end_time": "2021-05-17T07:46:03.214998",
     "exception": false,
     "start_time": "2021-05-17T07:46:00.685768",
     "status": "completed"
    },
    "tags": []
   },
   "outputs": [
    {
     "name": "stdout",
     "output_type": "stream",
     "text": [
      "Step1: revs1 Shape after removing irrelevant features: Rows: 1415133 and Columns: 3\n",
      "\n",
      "Step2: Round-off: Unique values in the \"score\" feature(after rounding-off): \n",
      " [10, 6, 9, 4, 8, 2, 7, 5, <NA>, 3, 1, 0]\n",
      "\n",
      "Step3: Imputation of \"score\"  with median and \"author\" with \"Anonymous\"\n",
      "\n",
      "Step4: revs1 Shape(after removing missing values): Rows: 1341474 and Columns: 3\n",
      "\n",
      "Step5: revs1 Shape(after removing duplicates): Rows: 1154026 and Columns: 3\n",
      "\n",
      "Overall 18.45% samples are dropped\n",
      "\n"
     ]
    },
    {
     "data": {
      "text/html": [
       "<div>\n",
       "<style scoped>\n",
       "    .dataframe tbody tr th:only-of-type {\n",
       "        vertical-align: middle;\n",
       "    }\n",
       "\n",
       "    .dataframe tbody tr th {\n",
       "        vertical-align: top;\n",
       "    }\n",
       "\n",
       "    .dataframe thead th {\n",
       "        text-align: right;\n",
       "    }\n",
       "</style>\n",
       "<table border=\"1\" class=\"dataframe\">\n",
       "  <thead>\n",
       "    <tr style=\"text-align: right;\">\n",
       "      <th></th>\n",
       "      <th>author</th>\n",
       "      <th>product</th>\n",
       "      <th>score</th>\n",
       "    </tr>\n",
       "  </thead>\n",
       "  <tbody>\n",
       "    <tr>\n",
       "      <th>0</th>\n",
       "      <td>CarolAnn35</td>\n",
       "      <td>samsung galaxy s8</td>\n",
       "      <td>10</td>\n",
       "    </tr>\n",
       "    <tr>\n",
       "      <th>1</th>\n",
       "      <td>james0923</td>\n",
       "      <td>samsung galaxy s8</td>\n",
       "      <td>10</td>\n",
       "    </tr>\n",
       "    <tr>\n",
       "      <th>2</th>\n",
       "      <td>R. Craig</td>\n",
       "      <td>samsung galaxy s8</td>\n",
       "      <td>6</td>\n",
       "    </tr>\n",
       "    <tr>\n",
       "      <th>3</th>\n",
       "      <td>Buster2020</td>\n",
       "      <td>samsung galaxy s8</td>\n",
       "      <td>9</td>\n",
       "    </tr>\n",
       "    <tr>\n",
       "      <th>4</th>\n",
       "      <td>S Ate Mine</td>\n",
       "      <td>samsung galaxy s8</td>\n",
       "      <td>4</td>\n",
       "    </tr>\n",
       "  </tbody>\n",
       "</table>\n",
       "</div>"
      ],
      "text/plain": [
       "        author            product  score\n",
       "0   CarolAnn35  samsung galaxy s8     10\n",
       "1    james0923  samsung galaxy s8     10\n",
       "2     R. Craig  samsung galaxy s8      6\n",
       "3  Buster2020   samsung galaxy s8      9\n",
       "4   S Ate Mine  samsung galaxy s8      4"
      ]
     },
     "execution_count": 93,
     "metadata": {},
     "output_type": "execute_result"
    }
   ],
   "source": [
    "revs1 = reviews.copy()\n",
    "\n",
    "# Delete data which is not useful anymore, to save memory\n",
    "del reviews\n",
    "\n",
    "# Step1: remove irrelevant features\n",
    "revs1 = revs1.loc[:,relevant_features]\n",
    "print(f'Step1: revs1 Shape after removing irrelevant features: Rows: {revs1.shape[0]} and Columns: {revs1.shape[1]}\\n')\n",
    "\n",
    "# Step2: Round-off score feature to nearest integer\n",
    "revs1['score'] = revs1['score'].round(0).astype('Int64')\n",
    "print('Step2: Round-off: Unique values in the \"score\" feature(after rounding-off): \\n',list(revs1.score.unique()))\n",
    "\n",
    "# Step3: Impute missing values in score feature with median\n",
    "revs1['score'] = revs1['score'].fillna(revs1['score'].median())\n",
    "print('\\nStep3: Imputation of \"score\"  with median and \"author\" with \"Anonymous\"')\n",
    "\n",
    "# Step4: remove samples with missing values in 'Product' and 'author' feature and also 'Anonymous' values\n",
    "revs1.dropna(inplace=True)\n",
    "revs1 = revs1[revs1[\"author\"] != 'Anonymous']\n",
    "print(f'\\nStep4: revs1 Shape(after removing missing values): Rows: {revs1.shape[0]} and Columns: {revs1.shape[1]}\\n')\n",
    "\n",
    "# Step5: remove duplicates, if any\n",
    "revs1 = revs1.drop_duplicates()\n",
    "print(f'Step5: revs1 Shape(after removing duplicates): Rows: {revs1.shape[0]} and Columns: {revs1.shape[1]}\\n')\n",
    "\n",
    "print(f'Overall {round(100 - revs1.shape[0]*100/orgnl_rows,2)}% samples are dropped\\n')\n",
    "revs1.head()"
   ]
  },
  {
   "cell_type": "markdown",
   "id": "buried-stock",
   "metadata": {
    "papermill": {
     "duration": 0.094353,
     "end_time": "2021-05-17T07:46:03.404267",
     "exception": false,
     "start_time": "2021-05-17T07:46:03.309914",
     "status": "completed"
    },
    "tags": []
   },
   "source": [
    "### 1.5. Data split <a id=\"data_split\"></a>\n",
    "[Go to top](#toc)"
   ]
  },
  {
   "cell_type": "code",
   "execution_count": 94,
   "id": "existing-adelaide",
   "metadata": {
    "execution": {
     "iopub.execute_input": "2021-05-17T07:46:03.600473Z",
     "iopub.status.busy": "2021-05-17T07:46:03.599559Z",
     "iopub.status.idle": "2021-05-17T07:46:04.012568Z",
     "shell.execute_reply": "2021-05-17T07:46:04.013080Z"
    },
    "papermill": {
     "duration": 0.513451,
     "end_time": "2021-05-17T07:46:04.013251",
     "exception": false,
     "start_time": "2021-05-17T07:46:03.499800",
     "status": "completed"
    },
    "tags": []
   },
   "outputs": [
    {
     "name": "stdout",
     "output_type": "stream",
     "text": [
      "revs2 Shape: Rows: 1000000 and Columns: 3\n",
      "\n"
     ]
    }
   ],
   "source": [
    "# separate 1 million data samples\n",
    "revs_1m = revs1.sample(n=1000000, random_state=RS)\n",
    "print(f'revs2 Shape: Rows: {revs_1m.shape[0]} and Columns: {revs_1m.shape[1]}\\n')"
   ]
  },
  {
   "cell_type": "markdown",
   "id": "fitted-empty",
   "metadata": {
    "papermill": {
     "duration": 0.095882,
     "end_time": "2021-05-17T07:46:04.207001",
     "exception": false,
     "start_time": "2021-05-17T07:46:04.111119",
     "status": "completed"
    },
    "tags": []
   },
   "source": [
    "## 2. Analysis <a id=\"analysis\"></a>\n",
    "[Go to top](#toc)"
   ]
  },
  {
   "cell_type": "code",
   "execution_count": 95,
   "id": "educated-requirement",
   "metadata": {
    "execution": {
     "iopub.execute_input": "2021-05-17T07:46:04.842535Z",
     "iopub.status.busy": "2021-05-17T07:46:04.653391Z",
     "iopub.status.idle": "2021-05-17T07:46:04.850729Z",
     "shell.execute_reply": "2021-05-17T07:46:04.850179Z"
    },
    "papermill": {
     "duration": 0.54868,
     "end_time": "2021-05-17T07:46:04.850867",
     "exception": false,
     "start_time": "2021-05-17T07:46:04.302187",
     "status": "completed"
    },
    "tags": []
   },
   "outputs": [
    {
     "name": "stdout",
     "output_type": "stream",
     "text": [
      "Most rated features/products: \n",
      "\n",
      " samsung galaxy s5         11429\n",
      "samsung galaxy s6         11046\n",
      "motorola moto g           10382\n",
      "samsung galaxy s7 edge    10359\n",
      "apple iphone 5s           10281\n",
      "Name: product, dtype: int64\n"
     ]
    }
   ],
   "source": [
    "# 1. Most rated features\n",
    "print('Most rated features/products: \\n\\n',revs_1m['product'].value_counts().head())"
   ]
  },
  {
   "cell_type": "code",
   "execution_count": 96,
   "id": "confirmed-fruit",
   "metadata": {
    "execution": {
     "iopub.execute_input": "2021-05-17T07:46:05.049133Z",
     "iopub.status.busy": "2021-05-17T07:46:05.048232Z",
     "iopub.status.idle": "2021-05-17T07:46:05.988439Z",
     "shell.execute_reply": "2021-05-17T07:46:05.987699Z"
    },
    "papermill": {
     "duration": 1.042298,
     "end_time": "2021-05-17T07:46:05.988587",
     "exception": false,
     "start_time": "2021-05-17T07:46:04.946289",
     "status": "completed"
    },
    "tags": []
   },
   "outputs": [
    {
     "data": {
      "image/png": "[encoded data removed]",
      "text/plain": [
       "<Figure size 432x288 with 1 Axes>"
      ]
     },
     "metadata": {
      "needs_background": "light"
     },
     "output_type": "display_data"
    }
   ],
   "source": [
    "# find out which rating is given highest number of times\n",
    "sns.countplot(data=revs_1m , x='score')\n",
    "plt.show()"
   ]
  },
  {
   "cell_type": "code",
   "execution_count": 97,
   "id": "obvious-sacrifice",
   "metadata": {
    "execution": {
     "iopub.execute_input": "2021-05-17T07:46:06.190170Z",
     "iopub.status.busy": "2021-05-17T07:46:06.189165Z",
     "iopub.status.idle": "2021-05-17T07:46:06.805598Z",
     "shell.execute_reply": "2021-05-17T07:46:06.805001Z"
    },
    "papermill": {
     "duration": 0.718814,
     "end_time": "2021-05-17T07:46:06.805736",
     "exception": false,
     "start_time": "2021-05-17T07:46:06.086922",
     "status": "completed"
    },
    "tags": []
   },
   "outputs": [
    {
     "data": {
      "text/plain": [
       "Amazon Customer    1530\n",
       "Cliente Amazon      519\n",
       "Amazon Kunde        422\n",
       "Client d'Amazon     301\n",
       "David               292\n",
       "Alex                274\n",
       "Daniel              258\n",
       "Marco               229\n",
       "Chris               228\n",
       "Michael             210\n",
       "Name: author, dtype: int64"
      ]
     },
     "execution_count": 97,
     "metadata": {},
     "output_type": "execute_result"
    }
   ],
   "source": [
    "revs1[revs1['score']==10]['author'].value_counts().head(10)"
   ]
  },
  {
   "cell_type": "code",
   "execution_count": 98,
   "id": "gothic-courage",
   "metadata": {
    "execution": {
     "iopub.execute_input": "2021-05-17T07:46:07.589413Z",
     "iopub.status.busy": "2021-05-17T07:46:07.588070Z",
     "iopub.status.idle": "2021-05-17T07:46:08.034039Z",
     "shell.execute_reply": "2021-05-17T07:46:08.034710Z"
    },
    "papermill": {
     "duration": 1.132628,
     "end_time": "2021-05-17T07:46:08.034961",
     "exception": false,
     "start_time": "2021-05-17T07:46:06.902333",
     "status": "completed"
    },
    "tags": []
   },
   "outputs": [
    {
     "name": "stdout",
     "output_type": "stream",
     "text": [
      "Users with highest number of reviews: \n",
      "\n",
      " Amazon Customer    4816\n",
      "Cliente Amazon     1663\n",
      "Amazon Kunde       1179\n",
      "Client d'Amazon     975\n",
      "David               558\n",
      "Name: author, dtype: int64\n"
     ]
    }
   ],
   "source": [
    "# 2. Users with highest number of reviews\n",
    "print('Users with highest number of reviews: \\n\\n',revs_1m['author'].value_counts().head())"
   ]
  },
  {
   "cell_type": "code",
   "execution_count": 99,
   "id": "available-franchise",
   "metadata": {
    "execution": {
     "iopub.execute_input": "2021-05-17T07:46:08.859372Z",
     "iopub.status.busy": "2021-05-17T07:46:08.857897Z",
     "iopub.status.idle": "2021-05-17T07:46:09.735931Z",
     "shell.execute_reply": "2021-05-17T07:46:09.735391Z"
    },
    "papermill": {
     "duration": 1.601793,
     "end_time": "2021-05-17T07:46:09.736071",
     "exception": false,
     "start_time": "2021-05-17T07:46:08.134278",
     "status": "completed"
    },
    "tags": []
   },
   "outputs": [
    {
     "name": "stdout",
     "output_type": "stream",
     "text": [
      "Number of authors who have given >50 rating:  805\n",
      "Number of products with >50 rating:  2496\n",
      "\n",
      "revs_50: Rows: 95672 and Columns: 3\n",
      "\n"
     ]
    },
    {
     "data": {
      "text/html": [
       "<div>\n",
       "<style scoped>\n",
       "    .dataframe tbody tr th:only-of-type {\n",
       "        vertical-align: middle;\n",
       "    }\n",
       "\n",
       "    .dataframe tbody tr th {\n",
       "        vertical-align: top;\n",
       "    }\n",
       "\n",
       "    .dataframe thead th {\n",
       "        text-align: right;\n",
       "    }\n",
       "</style>\n",
       "<table border=\"1\" class=\"dataframe\">\n",
       "  <thead>\n",
       "    <tr style=\"text-align: right;\">\n",
       "      <th></th>\n",
       "      <th>author</th>\n",
       "      <th>product</th>\n",
       "      <th>score</th>\n",
       "    </tr>\n",
       "  </thead>\n",
       "  <tbody>\n",
       "    <tr>\n",
       "      <th>66</th>\n",
       "      <td>James</td>\n",
       "      <td>samsung galaxy s8</td>\n",
       "      <td>10</td>\n",
       "    </tr>\n",
       "    <tr>\n",
       "      <th>161</th>\n",
       "      <td>Paul</td>\n",
       "      <td>samsung galaxy s8</td>\n",
       "      <td>10</td>\n",
       "    </tr>\n",
       "    <tr>\n",
       "      <th>167</th>\n",
       "      <td>Robert</td>\n",
       "      <td>samsung galaxy s8</td>\n",
       "      <td>10</td>\n",
       "    </tr>\n",
       "    <tr>\n",
       "      <th>179</th>\n",
       "      <td>Michelle</td>\n",
       "      <td>samsung galaxy s8</td>\n",
       "      <td>10</td>\n",
       "    </tr>\n",
       "    <tr>\n",
       "      <th>225</th>\n",
       "      <td>Andrew</td>\n",
       "      <td>samsung galaxy s8</td>\n",
       "      <td>10</td>\n",
       "    </tr>\n",
       "  </tbody>\n",
       "</table>\n",
       "</div>"
      ],
      "text/plain": [
       "       author            product  score\n",
       "66      James  samsung galaxy s8     10\n",
       "161      Paul  samsung galaxy s8     10\n",
       "167    Robert  samsung galaxy s8     10\n",
       "179  Michelle  samsung galaxy s8     10\n",
       "225    Andrew  samsung galaxy s8     10"
      ]
     },
     "execution_count": 99,
     "metadata": {},
     "output_type": "execute_result"
    }
   ],
   "source": [
    "# 3. Select data with products having >50 ratings and users who have given > 50 ratings\n",
    "author50 = revs1['author'].value_counts()\n",
    "author50 = author50[author50>50].index.tolist() # list of authors with > 50 ratings\n",
    "print('Number of authors who have given >50 rating: ', len(author50))\n",
    "\n",
    "product50 = revs1['product'].value_counts()\n",
    "product50 = product50[product50>50].index.tolist() # list of products with > 50 ratings\n",
    "print('Number of products with >50 rating: ', len(product50))\n",
    "\n",
    "revs_50 = revs1[(revs1['author'].isin(author50)) & (revs1['product'].isin(product50))]\n",
    "print(f'\\nrevs_50: Rows: {revs_50.shape[0]} and Columns: {revs_50.shape[1]}\\n')\n",
    "del author50, product50\n",
    "revs_50.head()"
   ]
  },
  {
   "cell_type": "code",
   "execution_count": 100,
   "id": "ceramic-arcade",
   "metadata": {
    "execution": {
     "iopub.execute_input": "2021-05-17T07:46:09.949390Z",
     "iopub.status.busy": "2021-05-17T07:46:09.948617Z",
     "iopub.status.idle": "2021-05-17T07:46:09.958687Z",
     "shell.execute_reply": "2021-05-17T07:46:09.958048Z"
    },
    "papermill": {
     "duration": 0.123788,
     "end_time": "2021-05-17T07:46:09.958826",
     "exception": false,
     "start_time": "2021-05-17T07:46:09.835038",
     "status": "completed"
    },
    "tags": []
   },
   "outputs": [
    {
     "data": {
      "text/plain": [
       "array(['James', 'Paul', 'Robert', 'Michelle', 'Andrew', 'Ralf',\n",
       "       'Ð\\x90Ð½Ð°Ñ\\x82Ð¾Ð»Ð¸Ð¹', 'alessandro', 'Roberto',\n",
       "       'Ð\\x95Ð³Ð¾Ñ\\x80', 'Ð\\x92Ð»Ð°Ð´Ð¸Ð¼Ð¸Ñ\\x80',\n",
       "       'Ð\\x90Ð»ÐµÐºÑ\\x81Ð°Ð½Ð´Ñ\\x80', 'Ð¡ÐµÑ\\x80Ð³ÐµÐ¹', 'Michael',\n",
       "       'Marco', 'Jan', 'Hans', 'Kim', 'Stefan', 'Nick', 'AndrÃ©', 'Kelly',\n",
       "       'Manuel', 'Danilo', 'Ð\\x9dÐ°Ð´ÐµÐ¶Ð´Ð°', 'Ð\\x98Ð³Ð¾Ñ\\x80Ñ\\x8c',\n",
       "       'Ð\\x90Ð»ÐµÐºÑ\\x81ÐµÐ¹', 'alex', 'Julien', \"Client d'Amazon\",\n",
       "       'Client Amazon', 'Carlos', 'David', 'William', 'Amazon Customer',\n",
       "       'Kindle Customer', 'bob', 'Gabriel', 'Denis', 'Sara', 'Dennis',\n",
       "       'Fabian', 'MS', 'Jim', 'anonymous', 'Peter', 'Juan', 'Daniel',\n",
       "       'Victor', 'Amber', 'Jennifer', 'Joseph', 'Ann', 'claudia', 'Mike',\n",
       "       'Adam', 'Melanie', 'Adrian', 'mike', 'jose', 'Christine', 'JC',\n",
       "       'Sam', 'juan', 'Lee', 'Carla', 'Steve', 'Marina', 'Samuel', 'Jay',\n",
       "       'Scott', 'Cliente Amazon', 'Amazon Kunde', 'Lorenzo', 'Pseudonym',\n",
       "       'Chiara', 'Simone', 'Paulo', 'Giuseppe', 'Matteo', 'domenico',\n",
       "       'Daniela', 'Carlo', 'Enzo', 'e-bit', 'Marcos', 'AnÃ´nimo',\n",
       "       'Marcelo', 'Andrea', 'mary', 'Valentina', 'Ð\\x9cÐ°Ñ\\x80Ð¸Ð½Ð°',\n",
       "       'Ð\\x95Ð»ÐµÐ½Ð°', 'Bruno', 'Gianluca', 'Simon', 'Pietro', 'alberto',\n",
       "       'Giacomo', 'Gaetano'], dtype=object)"
      ]
     },
     "execution_count": 100,
     "metadata": {},
     "output_type": "execute_result"
    }
   ],
   "source": [
    "revs_50['author'].unique()[:100]"
   ]
  },
  {
   "cell_type": "code",
   "execution_count": 101,
   "id": "running-dylan",
   "metadata": {
    "execution": {
     "iopub.execute_input": "2021-05-17T07:46:10.174793Z",
     "iopub.status.busy": "2021-05-17T07:46:10.174101Z",
     "iopub.status.idle": "2021-05-17T07:46:10.201870Z",
     "shell.execute_reply": "2021-05-17T07:46:10.201204Z"
    },
    "papermill": {
     "duration": 0.142541,
     "end_time": "2021-05-17T07:46:10.202031",
     "exception": false,
     "start_time": "2021-05-17T07:46:10.059490",
     "status": "completed"
    },
    "tags": []
   },
   "outputs": [
    {
     "data": {
      "text/plain": [
       "array(['samsung galaxy s8', 'samsung galaxy s6 edgeplus',\n",
       "       'samsung galaxy s8 plus', 'samsung galaxy s7 edge',\n",
       "       'apple iphone 6s plus', 'samsung galaxy s7 789999',\n",
       "       'apple iphone 7 plus', 'apple iphone 6s', 'huawei honor 7',\n",
       "       'apple iphone 7', 'huawei ascend mate 8', 'xiaomi redmi 3',\n",
       "       'apple iphone se', 'huawei p9 plus', 'htc 10', 'huawei honor 8',\n",
       "       'huawei p9 lite', 'huawei mate 9', 'oneplus 3',\n",
       "       'samsung galaxy s6 edge sm g925f', 'lg v10', 'google nexus 6p',\n",
       "       'huawei p9 797082', 'samsung galaxy a5 2017',\n",
       "       'samsung galaxy j5 4g lte 5 2 inches', 'samsung galaxy s6',\n",
       "       'huawei p10', 'sony xperia xz', 'huawei p8', 'oneplus 3t',\n",
       "       'samsung galaxy note 5 sm n920f', 'zte axon 7',\n",
       "       'motorola moto x play', 'lg k10', 'samsung galaxy j5',\n",
       "       'samsung galaxy a3 819970', 'samsung galaxy j3 duos',\n",
       "       'xiaomi mi 5', 'asus zenfone 3', 'motorola moto z play',\n",
       "       'vodafone smart ultra 6', 'samsung galaxy a5 2016',\n",
       "       'huawei mate s', 'lg g6', 'motorola xt1225', 'huawei p10 plus',\n",
       "       'samsung galaxy s7 active', 'motorola moto x style',\n",
       "       'huawei honor 6x', 'xiaomi redmi note 2', 'lg x power',\n",
       "       'sony xperia z5 premium', 'huawei honor 6 plus',\n",
       "       'sony xperia x compact', 'samsung galaxy s6 active sm g890',\n",
       "       'xiaomi mi max', 'huawei g8', 'sony xperia z5', 'lg g5',\n",
       "       'samsung galaxy a3 2016', 'microsoft lumia 640 dual sim',\n",
       "       'lenovo moto g4', 'xiaomi redmi note 3 pro',\n",
       "       'samsung galaxy j1 2016 4 5 sm j120', 'huawei honor 4x',\n",
       "       'huawei honor 4c', 'huawei ascend mate 7', 'huawei nova plus',\n",
       "       'huawei p8 lite', 'huawei p8 lite 2017', 'lenovo k6 dual',\n",
       "       'google pixel xl', 'xiaomi mi 4c',\n",
       "       'sony xperia x performance f8131', 'huawei nova',\n",
       "       'samsung galaxy j7 2016', 'huawei honor 5x',\n",
       "       'samsung galaxy s5 neo sm g903f', 'xiaomi redmi 3 pro',\n",
       "       'samsung galaxy a9 pro dual sm a9100', 'huawei honor 7 lite',\n",
       "       'blackberry priv', 'lenovo moto g4 play', 'huawei honor 6',\n",
       "       'blackberry dtek60', 'samsung galaxy a5', 'sony xperia z5 compact',\n",
       "       'oppo r7 plus', 'microsoft lumia 640 xl',\n",
       "       'alcatel one touch idol 4s', 'lg h410', 'zte zmax 2',\n",
       "       'google nexus 5x h791', 'lg g5 titan',\n",
       "       'asus zenfone selfie zd551kl', 'meizu pro 5', 'lg v20 h990',\n",
       "       'samsung galaxy a7 2016', 'blackberry passport', 'wiko fever'],\n",
       "      dtype=object)"
      ]
     },
     "execution_count": 101,
     "metadata": {},
     "output_type": "execute_result"
    }
   ],
   "source": [
    "revs_50['product'].unique()[:100]"
   ]
  },
  {
   "cell_type": "code",
   "execution_count": 102,
   "id": "naval-bridges",
   "metadata": {
    "execution": {
     "iopub.execute_input": "2021-05-17T07:46:10.680868Z",
     "iopub.status.busy": "2021-05-17T07:46:10.678933Z",
     "iopub.status.idle": "2021-05-17T07:46:11.233730Z",
     "shell.execute_reply": "2021-05-17T07:46:11.233153Z"
    },
    "papermill": {
     "duration": 0.931325,
     "end_time": "2021-05-17T07:46:11.233894",
     "exception": false,
     "start_time": "2021-05-17T07:46:10.302569",
     "status": "completed"
    },
    "tags": []
   },
   "outputs": [
    {
     "name": "stdout",
     "output_type": "stream",
     "text": [
      "Number of products with >3000 rating:  50\n"
     ]
    }
   ],
   "source": [
    "target = 3000\n",
    "top50_product = revs1['product'].value_counts()[0:50].rename('rating_count').to_frame()\n",
    "top50_product['mean_ratings']=revs1[revs1['product'].isin(top50_product.index.tolist())].groupby(['product'])['score'].mean().astype('float64').round(1)\n",
    "top50_product.sort_values(by='mean_ratings',inplace=True)\n",
    "print('Number of products with >'+str(target)+' rating: ', len(top50_product))"
   ]
  },
  {
   "cell_type": "code",
   "execution_count": 103,
   "id": "adjacent-macro",
   "metadata": {
    "execution": {
     "iopub.execute_input": "2021-05-17T07:46:11.441262Z",
     "iopub.status.busy": "2021-05-17T07:46:11.440579Z",
     "iopub.status.idle": "2021-05-17T07:46:12.662228Z",
     "shell.execute_reply": "2021-05-17T07:46:12.661658Z"
    },
    "papermill": {
     "duration": 1.327369,
     "end_time": "2021-05-17T07:46:12.662372",
     "exception": false,
     "start_time": "2021-05-17T07:46:11.335003",
     "status": "completed"
    },
    "tags": []
   },
   "outputs": [
    {
     "data": {
      "application/vnd.plotly.v1+json": {
       "config": {
        "plotlyServerURL": "https://plot.ly"
       },
       "data": [
        {
         "hovertemplate": "index=%{x}<br>mean_ratings=%{y}<br>rating_count=%{marker.size}<extra></extra>",
         "legendgroup": "",
         "marker": {
          "color": "#636efa",
          "size": [
           3931,
           6370,
           3097,
           3179,
           5181,
           5121,
           5145,
           6348,
           3135,
           3162,
           5007,
           7423,
           3085,
           3835,
           5884,
           4050,
           11200,
           4371,
           6525,
           7223,
           7289,
           3450,
           3165,
           4972,
           3071,
           13195,
           4992,
           11848,
           7599,
           6864,
           4376,
           3214,
           4762,
           4767,
           3659,
           3643,
           3819,
           3929,
           3905,
           5763,
           4154,
           4162,
           3554,
           12764,
           6618,
           4129,
           11936,
           11991,
           10637,
           4275
          ],
          "sizemode": "area",
          "sizeref": 3.665277777777778,
          "symbol": "circle"
         },
         "mode": "markers",
         "name": "",
         "orientation": "v",
         "showlegend": false,
         "type": "scatter",
         "x": [
          "lenovo vibe k4 note",
          "apple iphone 5",
          "sony xperia z3 compact",
          "samsung galaxy s duos s7562",
          "samsung galaxy ace s5830",
          "apple iphone 5c",
          "lg g4",
          "apple iphone 4",
          "asus zenfone 2",
          "samsung galaxy s5 mini",
          "samsung s5230",
          "apple iphone 4s",
          "google nexus 5x h791",
          "htc one m7",
          "apple iphone 6",
          "samsung galaxy note 4",
          "samsung i9500 galaxy s iv",
          "nokia lumia 520",
          "lg g3 d855 657484",
          "samsung galaxy s4 mini gt i9190 gt i9192 dual sim",
          "samsung galaxy s iii",
          "nokia n95",
          "htc m8",
          "motorola moto e",
          "nokia lumia 920",
          "samsung galaxy s5",
          "samsung galaxy note iii",
          "apple iphone 5s",
          "huawei p8 lite",
          "samsung galaxy s3 mini",
          "nokia 5800 xpressmusic tube",
          "apple iphone se",
          "samsung galaxy s ii",
          "samsung galaxy j3 duos",
          "microsoft lumia 640 dual sim",
          "samsung galaxy j5",
          "nokia lumia 630",
          "apple iphone 7",
          "lg google nexus 5",
          "lg g2 594708",
          "apple iphone 6s",
          "oneplus 3",
          "huawei p9 lite",
          "samsung galaxy s6",
          "samsung galaxy s6 edge sm g925f",
          "samsung galaxy note 2",
          "samsung galaxy s7 edge",
          "motorola moto g",
          "samsung galaxy s7 789999",
          "samsung galaxy s6 edgeplus"
         ],
         "xaxis": "x",
         "y": [
          7.4,
          7.5,
          7.6,
          7.6,
          7.6,
          7.8,
          7.8,
          7.8,
          7.9,
          8,
          8,
          8,
          8.1,
          8.1,
          8.2,
          8.2,
          8.2,
          8.2,
          8.3,
          8.3,
          8.3,
          8.3,
          8.3,
          8.3,
          8.3,
          8.4,
          8.4,
          8.4,
          8.4,
          8.4,
          8.5,
          8.5,
          8.5,
          8.5,
          8.6,
          8.6,
          8.6,
          8.7,
          8.7,
          8.7,
          8.7,
          8.7,
          8.8,
          8.8,
          8.8,
          8.9,
          8.9,
          8.9,
          9,
          9.2
         ],
         "yaxis": "y"
        }
       ],
       "layout": {
        "height": 800,
        "legend": {
         "itemsizing": "constant",
         "tracegroupgap": 0
        },
        "template": {
         "data": {
          "bar": [
           {
            "error_x": {
             "color": "#2a3f5f"
            },
            "error_y": {
             "color": "#2a3f5f"
            },
            "marker": {
             "line": {
              "color": "#E5ECF6",
              "width": 0.5
             },
             "pattern": {
              "fillmode": "overlay",
              "size": 10,
              "solidity": 0.2
             }
            },
            "type": "bar"
           }
          ],
          "barpolar": [
           {
            "marker": {
             "line": {
              "color": "#E5ECF6",
              "width": 0.5
             },
             "pattern": {
              "fillmode": "overlay",
              "size": 10,
              "solidity": 0.2
             }
            },
            "type": "barpolar"
           }
          ],
          "carpet": [
           {
            "aaxis": {
             "endlinecolor": "#2a3f5f",
             "gridcolor": "white",
             "linecolor": "white",
             "minorgridcolor": "white",
             "startlinecolor": "#2a3f5f"
            },
            "baxis": {
             "endlinecolor": "#2a3f5f",
             "gridcolor": "white",
             "linecolor": "white",
             "minorgridcolor": "white",
             "startlinecolor": "#2a3f5f"
            },
            "type": "carpet"
           }
          ],
          "choropleth": [
           {
            "colorbar": {
             "outlinewidth": 0,
             "ticks": ""
            },
            "type": "choropleth"
           }
          ],
          "contour": [
           {
            "colorbar": {
             "outlinewidth": 0,
             "ticks": ""
            },
            "colorscale": [
             [
              0,
              "#0d0887"
             ],
             [
              0.1111111111111111,
              "#46039f"
             ],
             [
              0.2222222222222222,
              "#7201a8"
             ],
             [
              0.3333333333333333,
              "#9c179e"
             ],
             [
              0.4444444444444444,
              "#bd3786"
             ],
             [
              0.5555555555555556,
              "#d8576b"
             ],
             [
              0.6666666666666666,
              "#ed7953"
             ],
             [
              0.7777777777777778,
              "#fb9f3a"
             ],
             [
              0.8888888888888888,
              "#fdca26"
             ],
             [
              1,
              "#f0f921"
             ]
            ],
            "type": "contour"
           }
          ],
          "contourcarpet": [
           {
            "colorbar": {
             "outlinewidth": 0,
             "ticks": ""
            },
            "type": "contourcarpet"
           }
          ],
          "heatmap": [
           {
            "colorbar": {
             "outlinewidth": 0,
             "ticks": ""
            },
            "colorscale": [
             [
              0,
              "#0d0887"
             ],
             [
              0.1111111111111111,
              "#46039f"
             ],
             [
              0.2222222222222222,
              "#7201a8"
             ],
             [
              0.3333333333333333,
              "#9c179e"
             ],
             [
              0.4444444444444444,
              "#bd3786"
             ],
             [
              0.5555555555555556,
              "#d8576b"
             ],
             [
              0.6666666666666666,
              "#ed7953"
             ],
             [
              0.7777777777777778,
              "#fb9f3a"
             ],
             [
              0.8888888888888888,
              "#fdca26"
             ],
             [
              1,
              "#f0f921"
             ]
            ],
            "type": "heatmap"
           }
          ],
          "heatmapgl": [
           {
            "colorbar": {
             "outlinewidth": 0,
             "ticks": ""
            },
            "colorscale": [
             [
              0,
              "#0d0887"
             ],
             [
              0.1111111111111111,
              "#46039f"
             ],
             [
              0.2222222222222222,
              "#7201a8"
             ],
             [
              0.3333333333333333,
              "#9c179e"
             ],
             [
              0.4444444444444444,
              "#bd3786"
             ],
             [
              0.5555555555555556,
              "#d8576b"
             ],
             [
              0.6666666666666666,
              "#ed7953"
             ],
             [
              0.7777777777777778,
              "#fb9f3a"
             ],
             [
              0.8888888888888888,
              "#fdca26"
             ],
             [
              1,
              "#f0f921"
             ]
            ],
            "type": "heatmapgl"
           }
          ],
          "histogram": [
           {
            "marker": {
             "pattern": {
              "fillmode": "overlay",
              "size": 10,
              "solidity": 0.2
             }
            },
            "type": "histogram"
           }
          ],
          "histogram2d": [
           {
            "colorbar": {
             "outlinewidth": 0,
             "ticks": ""
            },
            "colorscale": [
             [
              0,
              "#0d0887"
             ],
             [
              0.1111111111111111,
              "#46039f"
             ],
             [
              0.2222222222222222,
              "#7201a8"
             ],
             [
              0.3333333333333333,
              "#9c179e"
             ],
             [
              0.4444444444444444,
              "#bd3786"
             ],
             [
              0.5555555555555556,
              "#d8576b"
             ],
             [
              0.6666666666666666,
              "#ed7953"
             ],
             [
              0.7777777777777778,
              "#fb9f3a"
             ],
             [
              0.8888888888888888,
              "#fdca26"
             ],
             [
              1,
              "#f0f921"
             ]
            ],
            "type": "histogram2d"
           }
          ],
          "histogram2dcontour": [
           {
            "colorbar": {
             "outlinewidth": 0,
             "ticks": ""
            },
            "colorscale": [
             [
              0,
              "#0d0887"
             ],
             [
              0.1111111111111111,
              "#46039f"
             ],
             [
              0.2222222222222222,
              "#7201a8"
             ],
             [
              0.3333333333333333,
              "#9c179e"
             ],
             [
              0.4444444444444444,
              "#bd3786"
             ],
             [
              0.5555555555555556,
              "#d8576b"
             ],
             [
              0.6666666666666666,
              "#ed7953"
             ],
             [
              0.7777777777777778,
              "#fb9f3a"
             ],
             [
              0.8888888888888888,
              "#fdca26"
             ],
             [
              1,
              "#f0f921"
             ]
            ],
            "type": "histogram2dcontour"
           }
          ],
          "mesh3d": [
           {
            "colorbar": {
             "outlinewidth": 0,
             "ticks": ""
            },
            "type": "mesh3d"
           }
          ],
          "parcoords": [
           {
            "line": {
             "colorbar": {
              "outlinewidth": 0,
              "ticks": ""
             }
            },
            "type": "parcoords"
           }
          ],
          "pie": [
           {
            "automargin": true,
            "type": "pie"
           }
          ],
          "scatter": [
           {
            "fillpattern": {
             "fillmode": "overlay",
             "size": 10,
             "solidity": 0.2
            },
            "type": "scatter"
           }
          ],
          "scatter3d": [
           {
            "line": {
             "colorbar": {
              "outlinewidth": 0,
              "ticks": ""
             }
            },
            "marker": {
             "colorbar": {
              "outlinewidth": 0,
              "ticks": ""
             }
            },
            "type": "scatter3d"
           }
          ],
          "scattercarpet": [
           {
            "marker": {
             "colorbar": {
              "outlinewidth": 0,
              "ticks": ""
             }
            },
            "type": "scattercarpet"
           }
          ],
          "scattergeo": [
           {
            "marker": {
             "colorbar": {
              "outlinewidth": 0,
              "ticks": ""
             }
            },
            "type": "scattergeo"
           }
          ],
          "scattergl": [
           {
            "marker": {
             "colorbar": {
              "outlinewidth": 0,
              "ticks": ""
             }
            },
            "type": "scattergl"
           }
          ],
          "scattermapbox": [
           {
            "marker": {
             "colorbar": {
              "outlinewidth": 0,
              "ticks": ""
             }
            },
            "type": "scattermapbox"
           }
          ],
          "scatterpolar": [
           {
            "marker": {
             "colorbar": {
              "outlinewidth": 0,
              "ticks": ""
             }
            },
            "type": "scatterpolar"
           }
          ],
          "scatterpolargl": [
           {
            "marker": {
             "colorbar": {
              "outlinewidth": 0,
              "ticks": ""
             }
            },
            "type": "scatterpolargl"
           }
          ],
          "scatterternary": [
           {
            "marker": {
             "colorbar": {
              "outlinewidth": 0,
              "ticks": ""
             }
            },
            "type": "scatterternary"
           }
          ],
          "surface": [
           {
            "colorbar": {
             "outlinewidth": 0,
             "ticks": ""
            },
            "colorscale": [
             [
              0,
              "#0d0887"
             ],
             [
              0.1111111111111111,
              "#46039f"
             ],
             [
              0.2222222222222222,
              "#7201a8"
             ],
             [
              0.3333333333333333,
              "#9c179e"
             ],
             [
              0.4444444444444444,
              "#bd3786"
             ],
             [
              0.5555555555555556,
              "#d8576b"
             ],
             [
              0.6666666666666666,
              "#ed7953"
             ],
             [
              0.7777777777777778,
              "#fb9f3a"
             ],
             [
              0.8888888888888888,
              "#fdca26"
             ],
             [
              1,
              "#f0f921"
             ]
            ],
            "type": "surface"
           }
          ],
          "table": [
           {
            "cells": {
             "fill": {
              "color": "#EBF0F8"
             },
             "line": {
              "color": "white"
             }
            },
            "header": {
             "fill": {
              "color": "#C8D4E3"
             },
             "line": {
              "color": "white"
             }
            },
            "type": "table"
           }
          ]
         },
         "layout": {
          "annotationdefaults": {
           "arrowcolor": "#2a3f5f",
           "arrowhead": 0,
           "arrowwidth": 1
          },
          "autotypenumbers": "strict",
          "coloraxis": {
           "colorbar": {
            "outlinewidth": 0,
            "ticks": ""
           }
          },
          "colorscale": {
           "diverging": [
            [
             0,
             "#8e0152"
            ],
            [
             0.1,
             "#c51b7d"
            ],
            [
             0.2,
             "#de77ae"
            ],
            [
             0.3,
             "#f1b6da"
            ],
            [
             0.4,
             "#fde0ef"
            ],
            [
             0.5,
             "#f7f7f7"
            ],
            [
             0.6,
             "#e6f5d0"
            ],
            [
             0.7,
             "#b8e186"
            ],
            [
             0.8,
             "#7fbc41"
            ],
            [
             0.9,
             "#4d9221"
            ],
            [
             1,
             "#276419"
            ]
           ],
           "sequential": [
            [
             0,
             "#0d0887"
            ],
            [
             0.1111111111111111,
             "#46039f"
            ],
            [
             0.2222222222222222,
             "#7201a8"
            ],
            [
             0.3333333333333333,
             "#9c179e"
            ],
            [
             0.4444444444444444,
             "#bd3786"
            ],
            [
             0.5555555555555556,
             "#d8576b"
            ],
            [
             0.6666666666666666,
             "#ed7953"
            ],
            [
             0.7777777777777778,
             "#fb9f3a"
            ],
            [
             0.8888888888888888,
             "#fdca26"
            ],
            [
             1,
             "#f0f921"
            ]
           ],
           "sequentialminus": [
            [
             0,
             "#0d0887"
            ],
            [
             0.1111111111111111,
             "#46039f"
            ],
            [
             0.2222222222222222,
             "#7201a8"
            ],
            [
             0.3333333333333333,
             "#9c179e"
            ],
            [
             0.4444444444444444,
             "#bd3786"
            ],
            [
             0.5555555555555556,
             "#d8576b"
            ],
            [
             0.6666666666666666,
             "#ed7953"
            ],
            [
             0.7777777777777778,
             "#fb9f3a"
            ],
            [
             0.8888888888888888,
             "#fdca26"
            ],
            [
             1,
             "#f0f921"
            ]
           ]
          },
          "colorway": [
           "#636efa",
           "#EF553B",
           "#00cc96",
           "#ab63fa",
           "#FFA15A",
           "#19d3f3",
           "#FF6692",
           "#B6E880",
           "#FF97FF",
           "#FECB52"
          ],
          "font": {
           "color": "#2a3f5f"
          },
          "geo": {
           "bgcolor": "white",
           "lakecolor": "white",
           "landcolor": "#E5ECF6",
           "showlakes": true,
           "showland": true,
           "subunitcolor": "white"
          },
          "hoverlabel": {
           "align": "left"
          },
          "hovermode": "closest",
          "mapbox": {
           "style": "light"
          },
          "paper_bgcolor": "white",
          "plot_bgcolor": "#E5ECF6",
          "polar": {
           "angularaxis": {
            "gridcolor": "white",
            "linecolor": "white",
            "ticks": ""
           },
           "bgcolor": "#E5ECF6",
           "radialaxis": {
            "gridcolor": "white",
            "linecolor": "white",
            "ticks": ""
           }
          },
          "scene": {
           "xaxis": {
            "backgroundcolor": "#E5ECF6",
            "gridcolor": "white",
            "gridwidth": 2,
            "linecolor": "white",
            "showbackground": true,
            "ticks": "",
            "zerolinecolor": "white"
           },
           "yaxis": {
            "backgroundcolor": "#E5ECF6",
            "gridcolor": "white",
            "gridwidth": 2,
            "linecolor": "white",
            "showbackground": true,
            "ticks": "",
            "zerolinecolor": "white"
           },
           "zaxis": {
            "backgroundcolor": "#E5ECF6",
            "gridcolor": "white",
            "gridwidth": 2,
            "linecolor": "white",
            "showbackground": true,
            "ticks": "",
            "zerolinecolor": "white"
           }
          },
          "shapedefaults": {
           "line": {
            "color": "#2a3f5f"
           }
          },
          "ternary": {
           "aaxis": {
            "gridcolor": "white",
            "linecolor": "white",
            "ticks": ""
           },
           "baxis": {
            "gridcolor": "white",
            "linecolor": "white",
            "ticks": ""
           },
           "bgcolor": "#E5ECF6",
           "caxis": {
            "gridcolor": "white",
            "linecolor": "white",
            "ticks": ""
           }
          },
          "title": {
           "x": 0.05
          },
          "xaxis": {
           "automargin": true,
           "gridcolor": "white",
           "linecolor": "white",
           "ticks": "",
           "title": {
            "standoff": 15
           },
           "zerolinecolor": "white",
           "zerolinewidth": 2
          },
          "yaxis": {
           "automargin": true,
           "gridcolor": "white",
           "linecolor": "white",
           "ticks": "",
           "title": {
            "standoff": 15
           },
           "zerolinecolor": "white",
           "zerolinewidth": 2
          }
         }
        },
        "title": {
         "text": "Visualisation of mean ratings vs rating count for highest rated 50 phones"
        },
        "xaxis": {
         "anchor": "y",
         "domain": [
          0,
          1
         ],
         "title": {
          "text": "index"
         }
        },
        "yaxis": {
         "anchor": "x",
         "domain": [
          0,
          1
         ],
         "title": {
          "text": "mean_ratings"
         }
        }
       }
      }
     },
     "metadata": {},
     "output_type": "display_data"
    }
   ],
   "source": [
    "fig = px.scatter(top50_product, x=top50_product.index, y=\"mean_ratings\", size=\"rating_count\", size_max=60,\n",
    "                  height=800,title=\"Visualisation of mean ratings vs rating count for highest rated 50 phones\")\n",
    "fig.show()"
   ]
  },
  {
   "cell_type": "markdown",
   "id": "limited-hampshire",
   "metadata": {
    "papermill": {
     "duration": 0.101556,
     "end_time": "2021-05-17T07:46:12.865540",
     "exception": false,
     "start_time": "2021-05-17T07:46:12.763984",
     "status": "completed"
    },
    "tags": []
   },
   "source": [
    "## 3. Recommend top 5 mobile phones using popularity based model <a id=\"popularity_model\"></a>\n",
    "[Go to top](#toc)"
   ]
  },
  {
   "cell_type": "code",
   "execution_count": 104,
   "id": "offensive-orleans",
   "metadata": {
    "execution": {
     "iopub.execute_input": "2021-05-17T07:46:13.076848Z",
     "iopub.status.busy": "2021-05-17T07:46:13.076203Z",
     "iopub.status.idle": "2021-05-17T07:46:13.078819Z",
     "shell.execute_reply": "2021-05-17T07:46:13.079354Z"
    },
    "papermill": {
     "duration": 0.1124,
     "end_time": "2021-05-17T07:46:13.079540",
     "exception": false,
     "start_time": "2021-05-17T07:46:12.967140",
     "status": "completed"
    },
    "tags": []
   },
   "outputs": [],
   "source": [
    "def popularity_rec(data):\n",
    "    ratings_mean_count = pd.DataFrame(data.groupby('product')['score'].mean())\n",
    "    ratings_mean_count['rating_counts'] = data.groupby('product')['score'].count()\n",
    "    ratings_mean_count = ratings_mean_count.sort_values(by=['score','rating_counts'], ascending=[False,False])\n",
    "    print('Top 5 recommendations for the products are: \\n')\n",
    "    display(ratings_mean_count.head())\n",
    "    return"
   ]
  },
  {
   "cell_type": "code",
   "execution_count": 105,
   "id": "reduced-density",
   "metadata": {
    "execution": {
     "iopub.execute_input": "2021-05-17T07:46:13.304713Z",
     "iopub.status.busy": "2021-05-17T07:46:13.295865Z",
     "iopub.status.idle": "2021-05-17T07:46:13.372760Z",
     "shell.execute_reply": "2021-05-17T07:46:13.373490Z"
    },
    "papermill": {
     "duration": 0.191328,
     "end_time": "2021-05-17T07:46:13.373698",
     "exception": false,
     "start_time": "2021-05-17T07:46:13.182370",
     "status": "completed"
    },
    "tags": []
   },
   "outputs": [
    {
     "name": "stdout",
     "output_type": "stream",
     "text": [
      "Top 5 recommendations for the products are: \n",
      "\n"
     ]
    },
    {
     "data": {
      "text/html": [
       "<div>\n",
       "<style scoped>\n",
       "    .dataframe tbody tr th:only-of-type {\n",
       "        vertical-align: middle;\n",
       "    }\n",
       "\n",
       "    .dataframe tbody tr th {\n",
       "        vertical-align: top;\n",
       "    }\n",
       "\n",
       "    .dataframe thead th {\n",
       "        text-align: right;\n",
       "    }\n",
       "</style>\n",
       "<table border=\"1\" class=\"dataframe\">\n",
       "  <thead>\n",
       "    <tr style=\"text-align: right;\">\n",
       "      <th></th>\n",
       "      <th>score</th>\n",
       "      <th>rating_counts</th>\n",
       "    </tr>\n",
       "    <tr>\n",
       "      <th>product</th>\n",
       "      <th></th>\n",
       "      <th></th>\n",
       "    </tr>\n",
       "  </thead>\n",
       "  <tbody>\n",
       "    <tr>\n",
       "      <th>samsung e1120</th>\n",
       "      <td>10.0</td>\n",
       "      <td>4</td>\n",
       "    </tr>\n",
       "    <tr>\n",
       "      <th>zte v987</th>\n",
       "      <td>10.0</td>\n",
       "      <td>4</td>\n",
       "    </tr>\n",
       "    <tr>\n",
       "      <th>lenovo p700i</th>\n",
       "      <td>10.0</td>\n",
       "      <td>2</td>\n",
       "    </tr>\n",
       "    <tr>\n",
       "      <th>lg kf700</th>\n",
       "      <td>10.0</td>\n",
       "      <td>2</td>\n",
       "    </tr>\n",
       "    <tr>\n",
       "      <th>motorola mpx200</th>\n",
       "      <td>10.0</td>\n",
       "      <td>2</td>\n",
       "    </tr>\n",
       "  </tbody>\n",
       "</table>\n",
       "</div>"
      ],
      "text/plain": [
       "                 score  rating_counts\n",
       "product                              \n",
       "samsung e1120     10.0              4\n",
       "zte v987          10.0              4\n",
       "lenovo p700i      10.0              2\n",
       "lg kf700          10.0              2\n",
       "motorola mpx200   10.0              2"
      ]
     },
     "metadata": {},
     "output_type": "display_data"
    }
   ],
   "source": [
    "# Using the data from the most popular phones amongst the most frequent users\n",
    "popularity_rec(revs_50)"
   ]
  },
  {
   "cell_type": "code",
   "execution_count": 106,
   "id": "vocational-given",
   "metadata": {
    "execution": {
     "iopub.execute_input": "2021-05-17T07:46:13.584208Z",
     "iopub.status.busy": "2021-05-17T07:46:13.583561Z",
     "iopub.status.idle": "2021-05-17T07:46:13.952255Z",
     "shell.execute_reply": "2021-05-17T07:46:13.951619Z"
    },
    "papermill": {
     "duration": 0.475703,
     "end_time": "2021-05-17T07:46:13.952429",
     "exception": false,
     "start_time": "2021-05-17T07:46:13.476726",
     "status": "completed"
    },
    "tags": []
   },
   "outputs": [
    {
     "name": "stdout",
     "output_type": "stream",
     "text": [
      "Top 5 recommendations for the products are: \n",
      "\n"
     ]
    },
    {
     "data": {
      "text/html": [
       "<div>\n",
       "<style scoped>\n",
       "    .dataframe tbody tr th:only-of-type {\n",
       "        vertical-align: middle;\n",
       "    }\n",
       "\n",
       "    .dataframe tbody tr th {\n",
       "        vertical-align: top;\n",
       "    }\n",
       "\n",
       "    .dataframe thead th {\n",
       "        text-align: right;\n",
       "    }\n",
       "</style>\n",
       "<table border=\"1\" class=\"dataframe\">\n",
       "  <thead>\n",
       "    <tr style=\"text-align: right;\">\n",
       "      <th></th>\n",
       "      <th>score</th>\n",
       "      <th>rating_counts</th>\n",
       "    </tr>\n",
       "    <tr>\n",
       "      <th>product</th>\n",
       "      <th></th>\n",
       "      <th></th>\n",
       "    </tr>\n",
       "  </thead>\n",
       "  <tbody>\n",
       "    <tr>\n",
       "      <th>verykool t742</th>\n",
       "      <td>10.0</td>\n",
       "      <td>8</td>\n",
       "    </tr>\n",
       "    <tr>\n",
       "      <th>supersonic sc 150</th>\n",
       "      <td>10.0</td>\n",
       "      <td>6</td>\n",
       "    </tr>\n",
       "    <tr>\n",
       "      <th>verykool s505</th>\n",
       "      <td>10.0</td>\n",
       "      <td>5</td>\n",
       "    </tr>\n",
       "    <tr>\n",
       "      <th>vodafone smart 4 power</th>\n",
       "      <td>10.0</td>\n",
       "      <td>5</td>\n",
       "    </tr>\n",
       "    <tr>\n",
       "      <th>mitsubishi trium mondo</th>\n",
       "      <td>10.0</td>\n",
       "      <td>4</td>\n",
       "    </tr>\n",
       "  </tbody>\n",
       "</table>\n",
       "</div>"
      ],
      "text/plain": [
       "                        score  rating_counts\n",
       "product                                     \n",
       "verykool t742            10.0              8\n",
       "supersonic sc 150        10.0              6\n",
       "verykool s505            10.0              5\n",
       "vodafone smart 4 power   10.0              5\n",
       "mitsubishi trium mondo   10.0              4"
      ]
     },
     "metadata": {},
     "output_type": "display_data"
    }
   ],
   "source": [
    "# if we consider the original data (excluding 'Anonymous' users)\n",
    "popularity_rec(revs1)"
   ]
  },
  {
   "cell_type": "code",
   "execution_count": 107,
   "id": "increased-smith",
   "metadata": {
    "execution": {
     "iopub.execute_input": "2021-05-17T07:46:14.167915Z",
     "iopub.status.busy": "2021-05-17T07:46:14.166699Z",
     "iopub.status.idle": "2021-05-17T07:46:14.701115Z",
     "shell.execute_reply": "2021-05-17T07:46:14.700379Z"
    },
    "papermill": {
     "duration": 0.644353,
     "end_time": "2021-05-17T07:46:14.701315",
     "exception": false,
     "start_time": "2021-05-17T07:46:14.056962",
     "status": "completed"
    },
    "tags": []
   },
   "outputs": [
    {
     "name": "stdout",
     "output_type": "stream",
     "text": [
      "f1r4t 11.06.2013 13 kiÅi beÄendi brk bence cok yanlÄ±Å dÃ¼ÅÃ¼nÃ¼yorsun.telefonun polikarbon olmasÄ± telefonun aÄÄ±rlÄ±ÄÄ±nÄ± azaltÄ±r.ayrÄ±ca iphone5 2 Ã§ekirdekli s4 ise 8 Ã§ekirdeklidir.yani aradaki Ã¶zellik farkÄ±na gÃ¶re iphone 12 gram daha hafif.he ayrÄ±ca iphonunda \n"
     ]
    }
   ],
   "source": [
    "field_length = revs1.author.astype(str).map(len)\n",
    "print (revs1.iloc[field_length.argmax(),0])"
   ]
  },
  {
   "cell_type": "markdown",
   "id": "floppy-excerpt",
   "metadata": {
    "papermill": {
     "duration": 0.104988,
     "end_time": "2021-05-17T07:46:14.911021",
     "exception": false,
     "start_time": "2021-05-17T07:46:14.806033",
     "status": "completed"
    },
    "tags": []
   },
   "source": [
    "## 4. Collaborative filtering based models <a id=\"collaborative_filtering\"></a>\n",
    "[Go to top](#toc)"
   ]
  },
  {
   "cell_type": "markdown",
   "id": "acoustic-artist",
   "metadata": {
    "papermill": {
     "duration": 0.105212,
     "end_time": "2021-05-17T07:46:15.123511",
     "exception": false,
     "start_time": "2021-05-17T07:46:15.018299",
     "status": "completed"
    },
    "tags": []
   },
   "source": [
    "### 4.1. Collaborative filtering model using SVD <a id=\"svd\"></a>\n",
    "[Go to top](#toc)"
   ]
  },
  {
   "cell_type": "code",
   "execution_count": 108,
   "id": "advanced-expression",
   "metadata": {
    "execution": {
     "iopub.execute_input": "2021-05-17T07:46:15.352341Z",
     "iopub.status.busy": "2021-05-17T07:46:15.341343Z",
     "iopub.status.idle": "2021-05-17T07:46:15.729306Z",
     "shell.execute_reply": "2021-05-17T07:46:15.730177Z"
    },
    "papermill": {
     "duration": 0.501105,
     "end_time": "2021-05-17T07:46:15.730468",
     "exception": false,
     "start_time": "2021-05-17T07:46:15.229363",
     "status": "completed"
    },
    "tags": []
   },
   "outputs": [
    {
     "name": "stdout",
     "output_type": "stream",
     "text": [
      "top 3 values from trainset: \n",
      "\n",
      "0 ->  [(0, 10.0), (59, 10.0), (166, 10.0), (240, 8.0), (367, 8.0), (437, 8.0), (476, 4.0), (650, 9.0), (360, 4.0), (5, 10.0), (697, 10.0), (232, 8.0), (104, 8.0), (580, 10.0), (451, 10.0), (289, 10.0), (392, 10.0), (860, 10.0), (67, 8.0), (562, 10.0), (110, 10.0), (946, 10.0), (12, 2.0), (66, 4.0), (77, 8.0), (400, 4.0), (1436, 10.0), (233, 6.0), (576, 10.0), (913, 8.0), (73, 7.0), (64, 10.0), (235, 10.0), (18, 10.0), (1424, 8.0), (675, 10.0), (671, 8.0), (87, 10.0), (353, 10.0), (544, 10.0), (10, 4.0), (140, 2.0), (369, 10.0), (1, 8.0), (1062, 10.0), (1395, 8.0), (29, 8.0), (132, 8.0), (291, 10.0), (209, 2.0), (14, 8.0), (365, 8.0), (15, 8.0), (684, 8.0), (112, 4.0), (550, 10.0), (531, 10.0), (568, 10.0), (1304, 8.0), (1797, 5.0), (193, 10.0), (562, 8.0), (1439, 10.0), (33, 8.0), (1, 10.0), (1459, 2.0), (826, 10.0), (298, 10.0), (467, 4.0), (80, 8.0), (47, 2.0), (132, 6.0), (246, 2.0), (1460, 4.0), (697, 4.0), (246, 10.0), (750, 8.0), (1932, 4.0), (359, 10.0), (479, 8.0), (1056, 6.0), (936, 6.0), (68, 10.0), (486, 10.0), (86, 4.0), (477, 10.0), (363, 8.0), (853, 2.0), (283, 4.0), (288, 10.0), (386, 10.0), (1702, 8.0), (753, 8.0), (18, 8.0), (813, 10.0), (437, 4.0), (556, 10.0), (697, 8.0), (714, 10.0), (240, 10.0), (73, 8.0), (1385, 10.0), (598, 10.0), (143, 10.0), (199, 8.0), (1090, 10.0), (626, 10.0), (991, 10.0), (279, 6.0), (1270, 6.0), (1479, 10.0), (360, 10.0), (158, 8.0), (980, 10.0), (182, 10.0), (193, 4.0), (120, 10.0), (2046, 10.0), (25, 10.0), (359, 8.0), (2053, 8.0), (1225, 2.0), (10, 2.0), (121, 10.0), (132, 2.0), (126, 4.0), (650, 8.0), (905, 10.0), (94, 2.0), (48, 8.0), (128, 8.0), (1089, 2.0), (1247, 10.0), (286, 10.0), (1762, 10.0), (1845, 10.0), (189, 10.0), (936, 10.0), (365, 10.0), (46, 8.0), (1368, 8.0), (320, 10.0), (424, 10.0), (573, 10.0), (2139, 8.0), (363, 10.0), (1119, 4.0), (25, 6.0), (10, 10.0), (1114, 10.0), (272, 10.0), (405, 8.0), (137, 10.0), (2155, 10.0), (245, 8.0), (1645, 10.0), (997, 6.0), (197, 10.0), (30, 4.0), (541, 2.0), (999, 10.0), (671, 6.0), (1055, 8.0), (499, 10.0), (595, 10.0), (558, 10.0), (616, 8.0), (126, 8.0), (230, 10.0), (204, 6.0), (67, 4.0), (745, 6.0), (348, 10.0), (356, 10.0), (68, 8.0), (139, 8.0), (1482, 8.0), (177, 10.0), (87, 4.0), (1024, 6.0), (374, 10.0), (413, 8.0), (1064, 4.0), (558, 8.0), (553, 8.0), (185, 2.0), (1062, 6.0), (455, 10.0), (47, 6.0), (752, 10.0), (193, 8.0), (1063, 10.0), (136, 10.0), (549, 6.0), (699, 10.0), (915, 8.0), (77, 2.0), (73, 10.0), (428, 8.0), (533, 10.0), (253, 2.0), (885, 10.0), (323, 10.0), (467, 8.0), (285, 10.0), (253, 8.0), (1030, 4.0), (283, 10.0), (88, 8.0), (817, 10.0), (44, 10.0), (165, 8.0), (712, 10.0), (1311, 8.0), (128, 10.0), (294, 6.0), (80, 10.0), (314, 10.0), (138, 10.0), (642, 10.0), (1080, 10.0), (1126, 10.0), (90, 8.0), (290, 10.0), (422, 10.0), (285, 6.0), (215, 8.0), (20, 4.0), (497, 6.0), (166, 6.0), (102, 10.0), (1808, 10.0), (2111, 9.0), (36, 10.0), (686, 2.0), (1773, 2.0), (300, 2.0), (304, 10.0), (878, 8.0), (1001, 10.0), (1010, 6.0), (1926, 8.0), (1083, 10.0), (27, 10.0), (222, 10.0), (1066, 8.0), (416, 10.0), (286, 2.0), (970, 6.0), (771, 8.0), (306, 8.0), (14, 10.0), (1057, 10.0), (373, 10.0), (1457, 8.0), (1197, 6.0), (81, 6.0), (1835, 10.0), (1148, 10.0), (992, 4.0), (62, 8.0), (1039, 10.0), (28, 8.0), (678, 10.0), (9, 2.0), (856, 8.0), (1187, 2.0), (622, 8.0), (75, 10.0), (17, 9.0), (315, 10.0), (504, 10.0), (1962, 10.0), (97, 10.0), (330, 10.0), (290, 8.0), (14, 2.0), (418, 2.0), (1252, 2.0), (151, 2.0), (635, 4.0), (1266, 6.0), (254, 10.0), (290, 2.0), (980, 2.0), (1197, 10.0), (69, 8.0), (257, 10.0), (1180, 10.0), (294, 8.0), (171, 8.0), (275, 2.0), (369, 6.0), (1533, 6.0), (31, 10.0), (429, 10.0), (456, 10.0), (233, 10.0), (1397, 8.0), (911, 10.0), (793, 2.0), (96, 8.0), (461, 10.0), (245, 10.0), (622, 6.0), (1331, 8.0), (1035, 10.0), (85, 2.0), (12, 10.0), (1289, 8.0), (1493, 6.0), (429, 4.0), (826, 8.0), (829, 10.0), (127, 2.0), (64, 8.0), (1684, 10.0), (227, 8.0), (291, 8.0), (96, 9.0), (104, 9.0), (2171, 2.0), (423, 10.0), (594, 8.0), (437, 10.0), (187, 7.0), (85, 10.0), (220, 4.0), (406, 10.0), (1580, 2.0), (885, 2.0), (153, 10.0), (659, 10.0), (779, 10.0), (481, 8.0), (210, 8.0), (453, 4.0), (1709, 9.0), (104, 10.0), (434, 10.0), (395, 10.0), (237, 6.0), (1047, 8.0), (109, 8.0), (227, 10.0), (2102, 10.0), (348, 2.0), (988, 10.0), (1546, 10.0), (208, 10.0), (1014, 10.0), (561, 10.0), (416, 6.0), (1018, 10.0), (2312, 8.0), (910, 10.0), (1043, 10.0), (1853, 8.0), (73, 6.0), (1134, 10.0), (294, 2.0), (9, 10.0), (1381, 10.0), (12, 8.0), (30, 10.0), (81, 8.0), (721, 10.0), (85, 8.0), (869, 6.0), (403, 10.0), (894, 4.0), (456, 6.0), (1070, 7.0), (215, 10.0), (449, 10.0), (467, 10.0), (375, 8.0), (479, 9.0), (533, 8.0), (279, 8.0), (325, 10.0), (325, 8.0), (97, 6.0), (83, 4.0), (1335, 10.0), (25, 8.0), (165, 10.0), (1781, 4.0), (67, 10.0), (77, 10.0), (238, 10.0), (539, 10.0), (238, 8.0), (414, 10.0), (2107, 2.0), (631, 10.0), (969, 2.0)] \n",
      "\n",
      "1 ->  [(1, 10.0), (158, 10.0), (196, 10.0), (240, 8.0), (89, 10.0), (184, 8.0), (222, 10.0), (678, 8.0), (247, 10.0), (763, 6.0), (484, 4.0), (25, 4.0), (684, 10.0), (966, 4.0), (143, 8.0), (659, 10.0), (343, 4.0), (712, 10.0), (491, 6.0), (134, 8.0), (598, 10.0), (573, 2.0), (484, 8.0), (424, 6.0), (911, 10.0), (132, 4.0), (360, 10.0), (333, 9.0), (24, 10.0), (1180, 6.0), (1293, 6.0), (330, 6.0), (664, 10.0), (914, 9.0), (256, 6.0), (705, 4.0), (126, 8.0), (558, 10.0), (405, 8.0), (138, 10.0), (195, 6.0), (664, 8.0), (356, 8.0), (461, 8.0), (193, 8.0), (1085, 2.0), (518, 10.0), (290, 6.0), (32, 6.0), (294, 8.0), (1677, 2.0), (532, 4.0), (533, 10.0), (132, 8.0), (215, 10.0), (47, 10.0), (419, 8.0), (796, 8.0), (104, 10.0), (29, 10.0), (204, 8.0), (71, 10.0), (106, 2.0), (36, 10.0), (364, 8.0), (26, 8.0), (283, 10.0), (285, 10.0), (842, 10.0), (199, 2.0), (353, 8.0), (110, 10.0), (197, 2.0), (1608, 10.0), (455, 10.0), (365, 8.0), (197, 6.0), (18, 6.0), (14, 10.0), (377, 4.0), (305, 10.0), (808, 8.0), (278, 10.0), (1170, 8.0), (344, 10.0), (60, 8.0), (140, 8.0), (918, 10.0), (186, 4.0), (705, 10.0), (335, 2.0), (68, 10.0), (416, 8.0), (413, 10.0), (33, 10.0), (531, 10.0), (1223, 10.0), (1331, 8.0), (531, 8.0), (267, 10.0), (363, 8.0), (75, 6.0), (45, 8.0), (242, 2.0), (326, 2.0), (587, 10.0), (317, 10.0), (365, 10.0), (423, 10.0), (73, 6.0), (245, 6.0), (4, 10.0), (1299, 8.0), (204, 4.0), (1391, 6.0), (49, 10.0), (843, 4.0), (10, 8.0), (771, 10.0), (132, 10.0), (121, 10.0), (129, 2.0), (494, 10.0), (362, 8.0), (687, 10.0), (288, 8.0), (424, 10.0), (323, 10.0), (17, 10.0), (706, 10.0), (1391, 10.0), (269, 10.0), (623, 6.0), (197, 4.0), (286, 8.0), (550, 4.0), (531, 6.0), (0, 2.0), (1866, 8.0), (303, 10.0), (380, 8.0), (1254, 8.0), (460, 6.0), (102, 8.0), (299, 10.0), (283, 8.0), (587, 4.0), (363, 10.0), (193, 6.0), (288, 2.0), (227, 10.0), (305, 2.0), (1281, 4.0), (274, 10.0), (489, 10.0), (1152, 10.0), (27, 8.0), (343, 2.0), (760, 2.0), (472, 8.0), (869, 8.0), (12, 8.0), (1238, 9.0), (87, 10.0), (27, 2.0), (360, 6.0), (143, 2.0), (1309, 2.0), (594, 8.0), (335, 10.0), (404, 10.0), (890, 8.0), (318, 7.0), (1235, 9.0), (137, 10.0), (684, 6.0), (280, 10.0), (461, 10.0), (77, 10.0), (18, 10.0), (9, 10.0), (14, 8.0), (738, 8.0), (524, 10.0), (1043, 10.0), (477, 4.0), (193, 10.0), (275, 10.0), (1213, 10.0), (686, 10.0), (20, 8.0), (330, 8.0), (83, 8.0), (177, 8.0), (558, 6.0), (76, 10.0), (275, 8.0), (817, 6.0), (501, 8.0), (290, 10.0), (45, 10.0), (766, 8.0), (1014, 6.0), (553, 10.0), (242, 6.0), (73, 10.0), (246, 2.0), (120, 8.0), (476, 10.0), (1063, 10.0), (96, 10.0), (332, 2.0), (401, 10.0), (490, 6.0), (47, 2.0), (18, 8.0), (705, 8.0), (16, 8.0), (600, 10.0), (476, 4.0), (288, 10.0), (750, 10.0), (175, 8.0), (874, 10.0), (1150, 10.0), (121, 2.0), (60, 2.0), (954, 2.0), (666, 8.0), (1185, 10.0), (1414, 2.0), (197, 10.0), (890, 2.0), (395, 2.0), (139, 10.0), (481, 8.0), (1793, 10.0), (1711, 8.0), (476, 8.0), (90, 6.0), (760, 10.0), (397, 6.0), (1005, 8.0), (1555, 10.0), (994, 8.0), (292, 10.0), (301, 8.0), (184, 2.0), (239, 8.0), (369, 10.0), (1386, 10.0), (697, 8.0), (600, 8.0), (76, 8.0), (57, 8.0), (706, 8.0), (556, 8.0), (928, 10.0), (1368, 6.0), (925, 10.0), (576, 8.0), (1085, 10.0), (317, 8.0), (636, 10.0), (609, 2.0), (201, 10.0), (760, 8.0), (494, 8.0), (40, 10.0), (608, 8.0), (289, 2.0), (1199, 10.0), (127, 8.0), (491, 10.0), (197, 8.0), (983, 4.0), (1378, 4.0), (406, 8.0), (466, 10.0), (189, 8.0), (803, 8.0), (541, 4.0), (171, 10.0), (479, 10.0), (20, 10.0), (25, 10.0), (128, 8.0), (85, 10.0), (370, 8.0), (693, 10.0), (472, 4.0), (83, 10.0), (288, 6.0), (1757, 9.0), (977, 8.0), (583, 8.0), (946, 8.0), (886, 10.0), (126, 10.0), (11, 10.0), (279, 8.0), (2117, 10.0), (239, 10.0), (331, 6.0), (10, 10.0), (704, 10.0), (937, 10.0), (641, 8.0), (246, 10.0), (479, 9.0), (545, 10.0), (1037, 10.0), (1240, 2.0), (199, 10.0), (441, 10.0), (151, 2.0), (285, 8.0), (980, 10.0), (303, 8.0), (413, 8.0), (1240, 10.0), (253, 10.0), (67, 8.0), (1679, 8.0), (386, 10.0), (178, 2.0), (544, 8.0), (450, 10.0), (1, 6.0), (601, 8.0), (796, 10.0), (479, 6.0), (73, 4.0), (73, 8.0), (238, 10.0), (522, 8.0), (63, 10.0), (729, 10.0), (2110, 4.0), (12, 6.0), (183, 4.0), (1483, 2.0), (1662, 10.0), (257, 8.0), (1314, 2.0), (127, 10.0), (214, 10.0), (1727, 9.0), (180, 10.0), (7, 9.0), (369, 6.0), (96, 8.0), (33, 8.0), (265, 10.0), (373, 10.0), (416, 10.0), (2028, 6.0), (257, 10.0), (183, 6.0), (1001, 10.0), (80, 8.0), (1014, 10.0), (706, 4.0), (1405, 6.0), (110, 8.0), (937, 8.0)] \n",
      "\n",
      "2 ->  [(2, 2.0), (12, 8.0), (335, 8.0), (17, 10.0), (177, 8.0), (201, 10.0), (81, 10.0), (1274, 10.0), (132, 10.0), (147, 8.0), (62, 8.0), (937, 2.0), (145, 10.0), (1235, 9.0), (622, 10.0), (280, 8.0), (101, 10.0), (96, 10.0), (239, 10.0), (104, 10.0), (585, 10.0), (96, 4.0), (335, 10.0), (671, 10.0), (71, 2.0), (1000, 10.0), (2096, 8.0), (330, 10.0), (363, 10.0), (306, 8.0), (216, 8.0), (285, 8.0), (68, 10.0), (558, 8.0), (1831, 10.0), (697, 10.0), (17, 2.0), (285, 10.0), (990, 10.0), (404, 10.0), (132, 4.0), (22, 8.0), (197, 8.0), (121, 8.0), (96, 8.0), (17, 8.0), (341, 10.0), (47, 10.0), (440, 8.0), (4, 8.0), (63, 8.0), (413, 10.0), (386, 10.0), (51, 10.0), (96, 6.0), (14, 10.0), (925, 8.0), (529, 10.0), (127, 10.0), (843, 10.0), (12, 10.0), (290, 10.0), (397, 10.0), (16, 10.0), (1228, 10.0), (590, 10.0), (1170, 10.0), (561, 10.0), (73, 6.0), (128, 10.0), (329, 10.0)] \n",
      "\n",
      "\n",
      "top 3 values from testset: \n",
      "\n",
      "('Luca', 'samsung galaxy core plus', 10.0)\n",
      "\n",
      "('Andre', 'asus zenfone 2 ze551ml', 10.0)\n",
      "\n",
      "('Samuel', 'blackberry venice', 10.0)\n"
     ]
    }
   ],
   "source": [
    "# Rearrange columns for SVD and prepare train and testsets\n",
    "revs50_ = Dataset.load_from_df(revs_50[['author','product','score']], Reader(rating_scale=(1, 10)))\n",
    "trainset, testset = train_test_split(revs50_, test_size=.25,random_state=RS)\n",
    "\n",
    "print('top 3 values from trainset: \\n')\n",
    "for key,value in {k: v for k, v in trainset.ur.items() if k <= 2}.items(): print(key,'-> ',value,'\\n')\n",
    "print('\\ntop 3 values from testset: ', *testset[0:3], sep='\\n\\n')"
   ]
  },
  {
   "cell_type": "code",
   "execution_count": 109,
   "id": "russian-underwear",
   "metadata": {
    "execution": {
     "iopub.execute_input": "2021-05-17T07:46:15.947160Z",
     "iopub.status.busy": "2021-05-17T07:46:15.946134Z",
     "iopub.status.idle": "2021-05-17T07:46:15.949308Z",
     "shell.execute_reply": "2021-05-17T07:46:15.948725Z"
    },
    "papermill": {
     "duration": 0.114257,
     "end_time": "2021-05-17T07:46:15.949449",
     "exception": false,
     "start_time": "2021-05-17T07:46:15.835192",
     "status": "completed"
    },
    "tags": []
   },
   "outputs": [],
   "source": [
    "# Objective: To get top_n recommendation for each user\n",
    "def get_top_n(predictions, n=5):\n",
    "    # First map the predictions to each user.\n",
    "    top_n = defaultdict(list)\n",
    "    for uid, iid, true_r, est, _ in predictions:\n",
    "        top_n[uid].append((iid, est))\n",
    "\n",
    "    # Then sort the predictions for each user and retrieve the n highest ones.\n",
    "    for uid, user_ratings in top_n.items():\n",
    "        user_ratings.sort(key=lambda x: x[1], reverse=True)\n",
    "        top_n[uid] = user_ratings[:n]\n",
    "\n",
    "    return top_n"
   ]
  },
  {
   "cell_type": "code",
   "execution_count": 110,
   "id": "diverse-trout",
   "metadata": {
    "execution": {
     "iopub.execute_input": "2021-05-17T07:46:16.245848Z",
     "iopub.status.busy": "2021-05-17T07:46:16.245189Z",
     "iopub.status.idle": "2021-05-17T07:46:23.952953Z",
     "shell.execute_reply": "2021-05-17T07:46:23.952004Z"
    },
    "papermill": {
     "duration": 7.898488,
     "end_time": "2021-05-17T07:46:23.953114",
     "exception": false,
     "start_time": "2021-05-17T07:46:16.054626",
     "status": "completed"
    },
    "tags": []
   },
   "outputs": [
    {
     "name": "stdout",
     "output_type": "stream",
     "text": [
      "First few prediction values: \n",
      " [Prediction(uid='Luca', iid='samsung galaxy core plus', r_ui=10.0, est=8.402297877026315, details={'was_impossible': False}), Prediction(uid='Andre', iid='asus zenfone 2 ze551ml', r_ui=10.0, est=10, details={'was_impossible': False})]\n",
      "RMSE: 2.9677\n",
      "\n",
      "RMSE value(test-set):  2.97 \n",
      "\n",
      "RMSE: 2.9677\n",
      "CPU times: total: 3.12 s\n",
      "Wall time: 3.13 s\n"
     ]
    }
   ],
   "source": [
    "%%time\n",
    "# fit and predict using svd\n",
    "def svd_func(train, test):\n",
    "    svd = SVD(random_state=RS)\n",
    "    svd.fit(train)\n",
    "    svd_pred = svd.test(test)\n",
    "    return svd_pred, svd\n",
    "\n",
    "svd_pred, svd = svd_func(trainset,testset)\n",
    "print('First few prediction values: \\n',svd_pred[0:2])\n",
    "print('\\nRMSE value(test-set): ',round(accuracy.rmse(svd_pred),2),'\\n') # compute RMSE\n",
    "svd_rmse = round(accuracy.rmse(svd_pred),2)"
   ]
  },
  {
   "cell_type": "markdown",
   "id": "detailed-journey",
   "metadata": {
    "papermill": {
     "duration": 0.11025,
     "end_time": "2021-05-17T07:46:24.173630",
     "exception": false,
     "start_time": "2021-05-17T07:46:24.063380",
     "status": "completed"
    },
    "tags": []
   },
   "source": [
    "### 4.2. Collaborative filtering model using kNNWithMeans_Item based <a id=\"knnwithmeans_item_based\"></a>\n",
    "[Go to top](#toc)"
   ]
  },
  {
   "cell_type": "code",
   "execution_count": 111,
   "id": "textile-repair",
   "metadata": {
    "execution": {
     "iopub.execute_input": "2021-05-17T07:46:24.602735Z",
     "iopub.status.busy": "2021-05-17T07:46:24.496140Z",
     "iopub.status.idle": "2021-05-17T07:46:42.981797Z",
     "shell.execute_reply": "2021-05-17T07:46:42.980453Z"
    },
    "papermill": {
     "duration": 18.702625,
     "end_time": "2021-05-17T07:46:42.981973",
     "exception": false,
     "start_time": "2021-05-17T07:46:24.279348",
     "status": "completed"
    },
    "tags": []
   },
   "outputs": [
    {
     "name": "stdout",
     "output_type": "stream",
     "text": [
      "Estimating biases using als...\n",
      "Computing the pearson_baseline similarity matrix...\n",
      "Done computing similarity matrix.\n",
      "First few prediction values: \n",
      " [Prediction(uid='Luca', iid='samsung galaxy core plus', r_ui=10.0, est=8.574967294731438, details={'actual_k': 50, 'was_impossible': False}), Prediction(uid='Andre', iid='asus zenfone 2 ze551ml', r_ui=10.0, est=7.662700041435039, details={'actual_k': 42, 'was_impossible': False})]\n",
      "RMSE: 2.8640\n",
      "\n",
      "RMSE value(Item-based Model, test-set):  2.86 \n",
      "\n",
      "RMSE: 2.8640\n",
      "CPU times: total: 8.41 s\n",
      "Wall time: 8.39 s\n"
     ]
    }
   ],
   "source": [
    "%%time\n",
    "# fit and predict using knn\n",
    "def knn_item(train, test):\n",
    "    knn_i = KNNWithMeans(k=50, sim_options={'name': 'pearson_baseline', 'user_based': False})\n",
    "    knn_i.fit(train)\n",
    "    knn_i_pred = knn_i.test(test)\n",
    "    return knn_i_pred, knn_i\n",
    "\n",
    "knn_i_pred, knn_i = knn_item(trainset, testset)\n",
    "print('First few prediction values: \\n',knn_i_pred[0:2])\n",
    "print('\\nRMSE value(Item-based Model, test-set): ',round(accuracy.rmse(knn_i_pred),2),'\\n') # compute RMSE\n",
    "knn_i_rmse = round(accuracy.rmse(knn_i_pred),2)"
   ]
  },
  {
   "cell_type": "code",
   "execution_count": null,
   "id": "deluxe-customer",
   "metadata": {
    "papermill": {
     "duration": 0.107942,
     "end_time": "2021-05-17T07:46:43.198939",
     "exception": false,
     "start_time": "2021-05-17T07:46:43.090997",
     "status": "completed"
    },
    "tags": []
   },
   "outputs": [],
   "source": []
  },
  {
   "cell_type": "markdown",
   "id": "coordinate-newman",
   "metadata": {
    "papermill": {
     "duration": 0.106191,
     "end_time": "2021-05-17T07:46:43.411372",
     "exception": false,
     "start_time": "2021-05-17T07:46:43.305181",
     "status": "completed"
    },
    "tags": []
   },
   "source": [
    "## 4.3. Collaborative filtering model using kNNWithMeans_User based <a id=\"knnwithmeans_user_based\"></a>\n",
    "[Go to top](#toc)"
   ]
  },
  {
   "cell_type": "code",
   "execution_count": 112,
   "id": "intense-horizontal",
   "metadata": {
    "execution": {
     "iopub.execute_input": "2021-05-17T07:46:43.813140Z",
     "iopub.status.busy": "2021-05-17T07:46:43.722384Z",
     "iopub.status.idle": "2021-05-17T07:46:51.643536Z",
     "shell.execute_reply": "2021-05-17T07:46:51.644280Z"
    },
    "papermill": {
     "duration": 8.126717,
     "end_time": "2021-05-17T07:46:51.644539",
     "exception": false,
     "start_time": "2021-05-17T07:46:43.517822",
     "status": "completed"
    },
    "tags": []
   },
   "outputs": [
    {
     "name": "stdout",
     "output_type": "stream",
     "text": [
      "Estimating biases using als...\n",
      "Computing the pearson_baseline similarity matrix...\n",
      "Done computing similarity matrix.\n",
      "First few prediction values: \n",
      " [Prediction(uid='Luca', iid='samsung galaxy core plus', r_ui=10.0, est=8.553314340337794, details={'actual_k': 26, 'was_impossible': False}), Prediction(uid='Andre', iid='asus zenfone 2 ze551ml', r_ui=10.0, est=8.232029093896774, details={'actual_k': 50, 'was_impossible': False})]\n",
      "RMSE: 2.9002\n",
      "\n",
      "RMSE value(User-based Model, test-set):  2.9 \n",
      "\n",
      "RMSE: 2.9002\n",
      "CPU times: total: 3.3 s\n",
      "Wall time: 3.29 s\n"
     ]
    }
   ],
   "source": [
    "%%time\n",
    "# fit and predict using knn\n",
    "def knn_user(train, test):\n",
    "    knn_u = KNNWithMeans(k=50, sim_options={'name': 'pearson_baseline', 'user_based': True})\n",
    "    knn_u.fit(train)\n",
    "    knn_u_pred = knn_u.test(test)\n",
    "    return knn_u_pred, knn_u\n",
    "\n",
    "knn_u_pred, knn_u = knn_user(trainset, testset)\n",
    "print('First few prediction values: \\n',knn_u_pred[0:2])\n",
    "print('\\nRMSE value(User-based Model, test-set): ',round(accuracy.rmse(knn_u_pred),2),'\\n') # compute RMSE\n",
    "knn_u_rmse = round(accuracy.rmse(knn_u_pred),2)"
   ]
  },
  {
   "cell_type": "markdown",
   "id": "weighted-passenger",
   "metadata": {
    "papermill": {
     "duration": 0.112457,
     "end_time": "2021-05-17T07:46:52.093463",
     "exception": false,
     "start_time": "2021-05-17T07:46:51.981006",
     "status": "completed"
    },
    "tags": []
   },
   "source": [
    "## 5. Show RMSE value and comparison <a id=\"rmse\"></a>\n",
    "[Go to top](#toc)"
   ]
  },
  {
   "cell_type": "code",
   "execution_count": 113,
   "id": "packed-genome",
   "metadata": {
    "execution": {
     "iopub.execute_input": "2021-05-17T07:46:52.375115Z",
     "iopub.status.busy": "2021-05-17T07:46:52.374434Z",
     "iopub.status.idle": "2021-05-17T07:46:52.492027Z",
     "shell.execute_reply": "2021-05-17T07:46:52.491101Z"
    },
    "papermill": {
     "duration": 0.287043,
     "end_time": "2021-05-17T07:46:52.492177",
     "exception": false,
     "start_time": "2021-05-17T07:46:52.205134",
     "status": "completed"
    },
    "tags": []
   },
   "outputs": [
    {
     "data": {
      "text/plain": [
       "<AxesSubplot:>"
      ]
     },
     "execution_count": 113,
     "metadata": {},
     "output_type": "execute_result"
    },
    {
     "data": {
      "image/png": "[encoded data removed]",
      "text/plain": [
       "<Figure size 432x288 with 1 Axes>"
      ]
     },
     "metadata": {
      "needs_background": "light"
     },
     "output_type": "display_data"
    }
   ],
   "source": [
    "# Comparison of RMSE scores from different collaorative algorithms\n",
    "sns.barplot(x=['svd_rmse','knn_i_rmse', 'knn_u_rmse'],y=[svd_rmse,knn_i_rmse, knn_u_rmse])"
   ]
  },
  {
   "cell_type": "markdown",
   "id": "departmental-feeding",
   "metadata": {
    "papermill": {
     "duration": 0.111357,
     "end_time": "2021-05-17T07:46:52.715358",
     "exception": false,
     "start_time": "2021-05-17T07:46:52.604001",
     "status": "completed"
    },
    "tags": []
   },
   "source": [
    "Best RMSE score is given by knn (item based), so let's use it for further analyssi"
   ]
  },
  {
   "cell_type": "markdown",
   "id": "possible-separate",
   "metadata": {
    "papermill": {
     "duration": 0.110352,
     "end_time": "2021-05-17T07:46:52.936202",
     "exception": false,
     "start_time": "2021-05-17T07:46:52.825850",
     "status": "completed"
    },
    "tags": []
   },
   "source": [
    "## 6. Average ratings for test users <a id=\"average_rating\"></a>\n",
    "[Go to top](#toc)"
   ]
  },
  {
   "cell_type": "code",
   "execution_count": 114,
   "id": "advisory-carbon",
   "metadata": {
    "execution": {
     "iopub.execute_input": "2021-05-17T07:46:53.169292Z",
     "iopub.status.busy": "2021-05-17T07:46:53.168561Z",
     "iopub.status.idle": "2021-05-17T07:46:53.207436Z",
     "shell.execute_reply": "2021-05-17T07:46:53.207931Z"
    },
    "papermill": {
     "duration": 0.160138,
     "end_time": "2021-05-17T07:46:53.208111",
     "exception": false,
     "start_time": "2021-05-17T07:46:53.047973",
     "status": "completed"
    },
    "tags": []
   },
   "outputs": [
    {
     "name": "stdout",
     "output_type": "stream",
     "text": [
      "average prediction for test users:  7.800217805179583\n",
      "average rating  by test users:  7.850823647462162\n",
      "average prediction error for test users:  2.3044087829916013\n"
     ]
    }
   ],
   "source": [
    "svd_pred_df=pd.DataFrame(svd_pred, columns=['uid', 'iid', 'rui', 'est', 'details'])\n",
    "print('average prediction for test users: ',svd_pred_df['est'].mean())\n",
    "print('average rating  by test users: ',svd_pred_df['rui'].mean())\n",
    "print('average prediction error for test users: ',(svd_pred_df['rui']-svd_pred_df['est']).abs().mean())"
   ]
  },
  {
   "cell_type": "code",
   "execution_count": 115,
   "id": "heavy-shelf",
   "metadata": {
    "execution": {
     "iopub.execute_input": "2021-05-17T07:46:53.473052Z",
     "iopub.status.busy": "2021-05-17T07:46:53.472365Z",
     "iopub.status.idle": "2021-05-17T07:46:53.484647Z",
     "shell.execute_reply": "2021-05-17T07:46:53.485145Z"
    },
    "papermill": {
     "duration": 0.164163,
     "end_time": "2021-05-17T07:46:53.485351",
     "exception": false,
     "start_time": "2021-05-17T07:46:53.321188",
     "status": "completed"
    },
    "tags": []
   },
   "outputs": [
    {
     "name": "stdout",
     "output_type": "stream",
     "text": [
      "average prediction for test users:  7.760249631382037\n",
      "average rating  by test users:  7.850823647462162\n",
      "average prediction error for test users:  2.252437466152665\n"
     ]
    }
   ],
   "source": [
    "knn_i_pred_df=pd.DataFrame(knn_i_pred, columns=['uid', 'iid', 'rui', 'est', 'details'])\n",
    "print('average prediction for test users: ',knn_i_pred_df['est'].mean())\n",
    "print('average rating  by test users: ',knn_i_pred_df['rui'].mean())\n",
    "print('average prediction error for test users: ',(knn_i_pred_df['rui']-knn_i_pred_df['est']).abs().mean())"
   ]
  },
  {
   "cell_type": "code",
   "execution_count": 116,
   "id": "excessive-intermediate",
   "metadata": {
    "execution": {
     "iopub.execute_input": "2021-05-17T07:46:53.736147Z",
     "iopub.status.busy": "2021-05-17T07:46:53.726430Z",
     "iopub.status.idle": "2021-05-17T07:46:53.754154Z",
     "shell.execute_reply": "2021-05-17T07:46:53.754752Z"
    },
    "papermill": {
     "duration": 0.158785,
     "end_time": "2021-05-17T07:46:53.754952",
     "exception": false,
     "start_time": "2021-05-17T07:46:53.596167",
     "status": "completed"
    },
    "tags": []
   },
   "outputs": [
    {
     "name": "stdout",
     "output_type": "stream",
     "text": [
      "average prediction for test users:  7.787064696309136\n",
      "average rating  by test users:  7.850823647462162\n",
      "average prediction error for test users:  2.2535722447411337\n"
     ]
    }
   ],
   "source": [
    "knn_u_pred_df=pd.DataFrame(knn_u_pred, columns=['uid', 'iid', 'rui', 'est', 'details'])\n",
    "print('average prediction for test users: ',knn_u_pred_df['est'].mean())\n",
    "print('average rating  by test users: ',knn_u_pred_df['rui'].mean())\n",
    "print('average prediction error for test users: ',(knn_u_pred_df['rui']-knn_u_pred_df['est']).abs().mean())"
   ]
  },
  {
   "cell_type": "markdown",
   "id": "appointed-toyota",
   "metadata": {
    "papermill": {
     "duration": 0.109975,
     "end_time": "2021-05-17T07:46:53.985872",
     "exception": false,
     "start_time": "2021-05-17T07:46:53.875897",
     "status": "completed"
    },
    "tags": []
   },
   "source": [
    "## 7. Summary (findings and Inferences) <a id=\"summary_inferences\"></a>\n",
    "[Go to top](#toc)\n",
    "\n",
    "1. Most popular phone (rated 10 by highest number of people):  \n",
    "        * Overall: verykool t742\n",
    "        * Amongst top users: samsung e1120       \n",
    "2. Overall data is highly skewed towards 'Amazon customers' from different countries. This may also be because 'Amazon' is the biggest trader for phones in the world. Although correct 'user' names from 'Amazon' should have used.\n",
    "3. Most of the authors have given the rating of '10' or '8'\n",
    "4. Both knn_i(item-based) and knn_u(user-based) have roughly similar RMSE"
   ]
  },
  {
   "cell_type": "markdown",
   "id": "junior-treatment",
   "metadata": {
    "papermill": {
     "duration": 0.110727,
     "end_time": "2021-05-17T07:46:54.209711",
     "exception": false,
     "start_time": "2021-05-17T07:46:54.098984",
     "status": "completed"
    },
    "tags": []
   },
   "source": [
    "## 8. Recommend top 5 products for test users <a id=\"recommend_top_5\"></a>\n",
    "[Go to top](#toc)"
   ]
  },
  {
   "cell_type": "code",
   "execution_count": 117,
   "id": "strange-norman",
   "metadata": {
    "execution": {
     "iopub.execute_input": "2021-05-17T07:46:54.473992Z",
     "iopub.status.busy": "2021-05-17T07:46:54.472968Z",
     "iopub.status.idle": "2021-05-17T07:46:54.933125Z",
     "shell.execute_reply": "2021-05-17T07:46:54.933915Z"
    },
    "papermill": {
     "duration": 0.614735,
     "end_time": "2021-05-17T07:46:54.934158",
     "exception": false,
     "start_time": "2021-05-17T07:46:54.319423",
     "status": "completed"
    },
    "scrolled": true,
    "tags": []
   },
   "outputs": [
    {
     "name": "stdout",
     "output_type": "stream",
     "text": [
      "Top 5 recommendations for all test users are: \n",
      "\n",
      "Luca ->  [('huawei p8 lite 2017', 9.54580999682166), ('motorola c975', 9.355991319296889), ('huawei ascend mate 7', 9.338604166135665), ('huawei ascend mate', 9.335522032799714), ('huawei g610', 9.236829921101211)] \n",
      "\n",
      "Andre ->  [('motorola moto g', 9.403306327732883), ('nokia 1200', 8.533290535169897), ('samsung gt b2100', 8.499674037906336), ('samsung galaxy s iii neo i9300i', 8.166709202945546), ('huawei ascend p1', 8.064538546389953)] \n",
      "\n",
      "Samuel ->  [('htc first', 10), ('lg g2 594708', 9.716274423343407), ('blackberry passport', 9.431273565204009), ('samsung sgh e635 sgh e630', 9.319522951000842), ('lg d686 g pro lite dual', 8.989221846729466)] \n",
      "\n",
      "Cliente Amazon ->  [('lg k500n', 10), ('huawei nova', 9.641332610208144), ('huawei shotx', 9.563625646324985), ('samsung s5611', 9.111330722972106), ('htc desire eye m910x', 9.056065934146138)] \n",
      "\n",
      "Barbara ->  [('lg dare vx9700', 10), ('alcatel one touch idol 2 mini', 9.82098153007786), ('motorola moto g', 9.490816589484176), ('huawei y635', 9.25454518856927), ('samsung sgh t401g', 9.115219737194014)] \n",
      "\n",
      "Amazon Customer ->  [('acer liquid s1', 10), ('sagem my x 2', 10), ('siemens m55', 10), ('siemens a50', 9.895306507651108), ('wiko cink slim', 9.762924325461144)] \n",
      "\n",
      "ÐÐ²Ð³ÐµÐ½Ð¸Ð¹ ->  [('samsung galaxy sl i9003', 9.78764328771602), ('htc gratia', 9.778270710439326), ('nokia lumia 925', 9.639807672664503), ('nokia lumia 720', 9.444659770172711), ('samsung galaxy note 2', 9.39766494492391)] \n",
      "\n",
      "Robert ->  [('apple iphone 7', 9.14812946828439), ('samsung galaxy s4 mini gt i9190 gt i9192 dual sim', 9.003315594051104), ('apple iphone 6s', 8.699426243859692), ('samsung galaxy j3 duos', 8.667398586951363), ('samsung c3520', 8.610866376025752)] \n",
      "\n",
      "Marc ->  [('samsung ativ s', 9.060797127084426), ('samsung galaxy mini 2 s6500', 9.009248094452191), ('motorola em30', 8.99475341964537), ('samsung galaxy note 2', 8.969242592088149), ('huawei honor 4x', 8.879532232988867)] \n",
      "\n",
      "Pen Name ->  [('apple iphone 5', 8.61933072443255), ('apple iphone 5', 8.61933072443255), ('apple iphone 5s', 8.57432079791108), ('samsung galaxy note 4', 8.392674479845109), ('lg g4', 8.28746270760018)] \n",
      "\n",
      "jonathan ->  [('samsung galaxy apollo gt i5510', 9.752191873571363), ('samsung galaxy a5 2016', 9.400313876032664), ('lg l fino', 8.488524216023734), ('htc 8x', 8.159555643312999), ('zte axon 7', 8.090382268034293)] \n",
      "\n",
      "Tommy ->  [('google nexus 6p', 9.362245864982786), ('sharp gx15 gz100', 9.273037019862796), ('blackberry priv', 8.981712934699633), ('asus zenfone 2 ze551ml', 8.453527482763848), ('motorola xt1225', 8.33923297398285)] \n",
      "\n",
      "ÐÐ°ÑÐ¸Ð»Ð¸Ð¹ ->  [('lg kp110', 8.84873949579832), ('nokia lumia 620', 8.603853040713178), ('samsung galaxy note 2', 8.475684806643363), ('samsung galaxy note 2', 8.475684806643363), ('zte v880', 8.421437981635956)] \n",
      "\n",
      "Jack ->  [('motorola v620', 9.76157573949266), ('samsung sgh s425', 9.607062718351672), ('samsung galaxy note 2', 9.51841993675477), ('motorola moto g', 9.442467905714334), ('lg lg840', 8.999390982407121)] \n",
      "\n",
      "Matt ->  [('lg dare vx9700', 9.50456367283926), ('htc one x', 9.19859011812491), ('apple iphone 6s', 8.932884806333664), ('samsung sgh a177', 8.793095774521552), ('motorola moto x', 8.730288344172214)] \n",
      "\n",
      "ÐÐ»ÐµÐºÑÐµÐ¹ ->  [('lg k10', 9.528774162829151), ('samsung galaxy note 2', 9.51082834237791), ('sony xperia m', 9.395145581678742), ('acer liquid e2', 9.384666681186749), ('asus zenfone 3', 9.35959917585087)] \n",
      "\n",
      "Matthew ->  [('motorola moto x', 9.268032790808311), ('apple iphone 6s plus', 9.24195249217412), ('motorola xt1225', 8.380161855158043), ('nokia lumia 635', 8.055534058137145), ('lenovo a536', 7.923362223740584)] \n",
      "\n",
      "Ben ->  [('htc 8x', 9.053844843700379), ('huawei honor 7', 8.95279264011884), ('google nexus 6', 8.947269343071195), ('samsung galaxy s7 789999', 8.832327255116013), ('asus zenfone 3', 8.773098071455667)] \n",
      "\n",
      "Oliver ->  [('samsung galaxy note 2', 9.743428385765059), ('lg g2 594708', 9.406421044792507), ('samsung wave ii s8530', 9.341539544203577), ('huawei p8', 9.05878217075666), ('samsung galaxy s ii plus', 9.018467352764128)] \n",
      "\n",
      "anonym ->  [('nec db2000', 10), ('motorola talkabout t2288', 10), ('motorola w377', 10), ('motorola timeport l7089', 10), ('ericsson t20s', 10)] \n",
      "\n",
      "karabocuk ->  [('nokia 6267', 9.52844901615986), ('samsung i450', 9.5279619118684), ('nokia 7390', 9.4900589613151), ('samsung sgh i560', 9.471765506297208), ('nokia 6288', 9.35155206879062)] \n",
      "\n",
      "Santiago ->  [('xiaomi mi 3', 9.86780751118885), ('samsung galaxy s6 edge sm g925f', 9.589429899744921), ('sony xperia p', 9.22340339063549), ('motorola moto g', 9.142166573906465), ('nokia lumia 1320', 8.891047455209222)] \n",
      "\n",
      "ÐÐ»Ð¸Ð½Ð° ->  [('lenovo ideaphone a706', 9.773578299947614), ('samsung galaxy ace 3', 9.741055540665865), ('lenovo a328', 9.709483281415588), ('lenovo p70', 9.647230583963978), ('apple iphone 5s', 9.586255813099804)] \n",
      "\n",
      "Robin ->  [('xiaomi mi 5', 9.789235016100202), ('nokia lumia 630', 8.997577595065026), ('samsung galaxy s4 active i9295', 8.513404714107848), ('lg p725 optimus 3d max', 8.427202512481177), ('motorola moto g 753361', 8.411615181831298)] \n",
      "\n",
      "Massimo ->  [('apple iphone 6s', 9.83441603637868), ('lg k10', 9.832674763165379), ('microsoft lumia 640 xl', 9.454228228161378), ('samsung galaxy j5', 9.445036411774542), ('samsung galaxy ace style', 9.233852591620439)] \n",
      "\n",
      "David ->  [('zte axon pro', 9.211694277422337), ('lg k10', 9.100694139123775), ('lg k10', 9.100694139123775), ('lg dare vx9700', 9.061706065652192), ('lg dare vx9700', 9.061706065652192)] \n",
      "\n",
      "ÐÐ»ÐµÐºÑÐ°Ð½Ð´ÑÐ° ->  [('samsung galaxy s6', 9.690487005995482), ('lg k10', 9.39044079894226), ('sony xperia c', 9.163586461164252), ('lg l90 d410', 9.0930488961344), ('samsung galaxy s7 edge', 9.048232158955935)] \n",
      "\n",
      "Nancy ->  [('apple iphone 4s', 9.360954101826369), ('lg env', 9.307512513379296), ('apple iphone 5c', 8.574044796105431), ('samsung galaxy j5', 8.371917708393827), ('sony ericsson xperia pro', 8.032955975164148)] \n",
      "\n",
      "ÐÐ¾Ð»ÑÐ·Ð¾Ð²Ð°ÑÐµÐ»Ñ ÑÐºÑÑÐ» ÑÐ²Ð¾Ð¸ Ð´Ð°Ð½Ð½ÑÐµ ->  [('xiaomi mi 4c', 9.690273163030067), ('meizu pro 6', 9.378036131158202), ('lenovo s850', 9.352797168806399), ('samsung galaxy j5', 9.332915296912754), ('sony xperia xz', 9.026383369945178)] \n",
      "\n",
      "ÐÐ¸ÐºÐ¸ÑÐ° ->  [('nokia 5250', 10), ('sony xperia zr', 10), ('lg k10', 9.907831205158878), ('samsung wave ii s8530', 9.706720984804843), ('samsung galaxy a5 2016', 9.526404723676693)] \n",
      "\n",
      "domenico ->  [('cubot p7', 9.917080383785214), ('nokia 1101', 9.898909489736488), ('huawei p9 lite', 9.494230971587916), ('huawei ascend g6', 8.91457061910133), ('nokia lumia 630', 8.863051680398055)] \n",
      "\n",
      "John ->  [('sony xperia tx', 10), ('nokia c2 05', 9.825077052996523), ('huawei mate 9', 9.365718443229264), ('google nexus 6p', 9.333248267310134), ('samsung gt i8160', 9.31770689284972)] \n",
      "\n",
      "dilemma21 ->  [('samsung f400', 9.509020791996855), ('black berry 8700g', 9.487382590786828), ('blackberry 8100 269227', 9.410945830948014), ('samsung sgh g400', 9.40298914589624), ('nokia 6288', 9.30442538913118)] \n",
      "\n",
      "Rodrigo ->  [('samsung c322', 10), ('tp link archer t6e', 9.903924956139406), ('huawei p8 max', 9.764366338532634), ('nokia lumia 925', 9.381263680496692), ('lg l70', 9.17713569724956)] \n",
      "\n",
      "maria ->  [('samsung galaxy s ii plus', 9.648446812355223), ('nokia 1600', 9.415299058383733), ('samsung galaxy s6 edgeplus', 9.07054428187847), ('motorola moto x 1 moto x1 moto x 2nd gen', 9.05482347013803), ('samsung galaxy j5 4g lte 5 2 inches', 8.949925275545038)] \n",
      "\n",
      "Andy ->  [('apple iphone se', 9.45028593210824), ('samsung galaxy s7 789999', 9.335859275476952), ('motorola moto x', 9.28956114942817), ('apple iphone 7', 9.132379994942763), ('apple iphone 7', 9.132379994942763)] \n",
      "\n",
      "Ram ->  [('samsung galaxy j7 prime', 9.158981746985145), ('motorola moto g4', 9.001587316598993), ('sony ericsson k550i', 8.556393948353927), ('nokia lumia 520', 8.284113473454802), ('motorola moto g3', 8.21744697907302)] \n",
      "\n",
      "Giacomo ->  [('lg k500n', 10), ('samsung galaxy s5 mini', 9.644197842432408), ('lg google nexus 5', 9.225461659052455), ('samsung galaxy s ii plus', 9.13004799240958), ('huawei y6', 8.98370280880526)] \n",
      "\n",
      "Natalia ->  [('sony xperia m', 9.3377255309557), ('nokia 800', 9.287693857508536), ('huawei p8 lite 2017', 9.158089843019713), ('asus zenfone selfie zd551kl', 8.91895654870447), ('lg optimus l7', 8.587108113338235)] \n",
      "\n",
      "Fabio ->  [('microsoft lumia 640 dual sim', 9.518009003159914), ('htc one m7', 9.38216492607518), ('nokia 1112', 9.305278794347585), ('nokia 800', 9.29461461278536), ('wiko fever', 9.17220182965721)] \n",
      "\n",
      "Jennifer ->  [('samsung galaxy s5', 9.248966903862508), ('samsung galaxy s ii', 9.099762162139177), ('samsung galaxy s6 edgeplus', 8.718213837576046), ('blackberry torch 9810', 8.531397164054587), ('samsung sgh e635 sgh e630', 8.511196790137138)] \n",
      "\n",
      "Sarah ->  [('nokia x3', 9.692186340955516), ('nokia lumia 930', 9.635471062652515), ('htc one max', 9.453208136960097), ('sony ericsson k810i', 9.304932346423799), ('samsung galaxy a3 819970', 9.235354416904062)] \n",
      "\n",
      "Ashley ->  [('apple iphone 7', 8.303824838169898), ('samsung sch r355', 8.244906649508959), ('blu advance 4 0', 8.19004004248655), ('blackberry z30', 7.988084401704169), ('motorola moto g', 7.957637866704023)] \n",
      "\n",
      "Mirko ->  [('motorola moto g', 9.689622168242202), ('samsung galaxy j5', 9.422559659132482), ('nokia lumia 530', 9.286928963456967), ('samsung galaxy s7 789999', 8.93976830089804), ('alcatel idol 3 5 5 6045y', 8.906706958298926)] \n",
      "\n",
      "Matteo ->  [('huawei nova', 9.979607793337822), ('google nexus 6p', 9.732904716852728), ('asus zenfone 3', 9.65183485839544), ('huawei ascend mate', 9.647994216894725), ('palm pre 2', 9.438793630335155)] \n",
      "\n",
      "juan ->  [('thl w200', 9.763381274394487), ('alcatel onetouch 20 04', 9.644084346787427), ('apple iphone 4s', 9.28412100738703), ('samsung g7102 galaxy grand 2', 9.070223851977605), ('sony ericsson c903', 8.871474815133805)] \n",
      "\n",
      "Antonio ->  [('xiaomi mi 2s', 9.936531734719376), ('samsung galaxy note 2', 9.631832382064589), ('nokia lumia 520', 9.310494937465933), ('samsung corbypro b5310', 9.235783046183322), ('lg g flex 2', 9.146150852808969)] \n",
      "\n",
      "Manuel ->  [('microsoft lumia 640 dual sim', 9.409419298849121), ('motorola moto g', 9.297358922811348), ('htc nexus one', 9.218228559591454), ('acer liquid z200', 9.217876648057725), ('motorola moto x play', 9.201041840792369)] \n",
      "\n",
      "Enrico ->  [('samsung galaxy s5 mini', 9.196201299335577), ('samsung galaxy note 2', 8.880714272501832), ('motorola moto x', 8.7052631602326), ('huawei p8 lite', 8.626082827380477), ('samsung galaxy s4 mini gt i9190 gt i9192 dual sim', 8.618485075968849)] \n",
      "\n",
      "Phil ->  [('samsung u800 soul', 10), ('doro phoneeasy 612', 9.282108774915743), ('htc touch diamond 2', 9.265876600699812), ('samsung galaxy s6', 9.101187555461813), ('huawei ascend mate 7', 8.997736796079325)] \n",
      "\n",
      "AnÃ´nimo ->  [('samsung galaxy j5 4g lte 5 2 inches', 9.440226534820399), ('asus zenfone selfie zd551kl', 9.409471906589296), ('samsung galaxy fame s6810', 9.34122012096045), ('samsung galaxy s3 mini', 9.146414162034187), ('samsung galaxy s3 mini', 9.146414162034187)] \n",
      "\n",
      "Amazon Kunde ->  [('nokia 9300', 10), ('nokia 6210', 9.420765501288805), ('kazam tornado 348', 8.93014104422233), ('alcatel one touch pop c7 7041d', 8.778541352576672), ('nokia 2720 fold', 8.769538226005544)] \n",
      "\n",
      "angelo ->  [('doogee x5 max pro', 9.577907521384631), ('huawei honor 7', 9.148186461781538), ('huawei p8 lite', 9.043874052900437), ('nokia e71', 9.00382544043005), ('wiko fever', 8.87537822878235)] \n",
      "\n",
      "anneme ->  [('nokia 5250', 9.706357676046549), ('samsung sgh i560', 9.527656027108199), ('samsung p520', 9.513416022365213), ('nokia n76', 9.449686936204428), ('samsung i8510 innov8', 9.370883871694424)] \n",
      "\n",
      "e-bit ->  [('lg optimus l1 ii e420', 9.140799441311918), ('lg optimus l1 ii e420', 9.140799441311918), ('alcatel one touch pop c5 5036d', 9.063057446981917), ('alcatel one touch pop c5 5036d', 9.063057446981917), ('asus zenfone 3', 8.930955376005786)] \n",
      "\n",
      "Dan ->  [('lg dare vx9700', 10), ('blu win jr', 9.459158938972104), ('blackberry pearl 8100', 9.270349373486852), ('htc m8', 9.11753365508021), ('htc evo shift 4g', 9.080606218037168)] \n",
      "\n",
      "Flo ->  [('htc incredible s', 10), ('sony xperia z 504642', 9.527800128141687), ('wiko fever', 8.26057230067071), ('huawei honor 7', 8.244782932223279), ('lg google nexus 5', 8.24283197788705)] \n",
      "\n",
      "Bob ->  [('wiko cink slim', 10), ('samsung m8800 pixon', 9.603337322569931), ('apple iphone', 9.57483324469589), ('apple iphone 7', 9.53298707279141), ('samsung sgh a157', 9.21754762802284)] \n",
      "\n",
      "Kate ->  [('samsung galaxy a3 2016', 9.566240038954001), ('apple iphone se', 8.86879013807946), ('samsung galaxy s4 mini gt i9190 gt i9192 dual sim', 8.807710520763685), ('samsung galaxy s i9000', 8.758651390559718), ('lg g2 594708', 8.393059512948065)] \n",
      "\n",
      "osmntyr ->  [('samsung s5610', 9.652750763835744), ('samsung sgh m150', 9.41642411896441), ('samsung d880 duos', 9.410507760875763), ('samsung sgh f250', 9.356789696836781), ('samsung galaxy s ii', 9.23746731696777)] \n",
      "\n",
      "marie ->  [('wiko cink slim', 10), ('sony ericsson xperia pro', 10), ('wiko rainbow', 9.767283631372052), ('samsung galaxy core', 9.755381667070246), ('sony ericsson xperia ray', 9.148237385235046)] \n",
      "\n",
      "narn3049 ->  [('sony ericsson xperia play', 10), ('nokia 2600', 10), ('lg vx8600', 10), ('palm treo 680', 9.924414914898355), ('samsung rugby ii', 9.75998445336057)] \n",
      "\n",
      "andrea ->  [('huawei ascend g750', 9.47901754224071), ('huawei p8', 9.194638562762403), ('samsung gt e1270', 9.184454573274902), ('nokia 101', 9.160866607042719), ('htc desire 500', 9.079504596009771)] \n",
      "\n",
      "Mike ->  [('acer liquid s1', 9.998384672488692), ('blackberry passport', 9.611149148022134), ('blackberry priv', 9.427485577240917), ('lg motion 4g ms770', 9.363356656846069), ('htc evo 3d', 9.310402112188367)] \n",
      "\n",
      "ÐÐ¼Ð¸ÑÑÐ¸Ð¹ ->  [('xiaomi redmi note 4', 10), ('samsung s5610', 9.749199860639497), ('samsung s5610', 9.749199860639497), ('sony xperia tx', 9.48191257397857), ('samsung wave s8500', 9.446288519287025)] \n",
      "\n",
      "Sergio ->  [('huawei p9 plus', 9.76397983020854), ('huawei ascend y550', 9.632922059294746), ('meizu m2 note', 9.449633222211693), ('asus zenfone 3', 9.33980538449042), ('huawei p8', 9.308676119990773)] \n",
      "\n",
      "Albert ->  [('htc tattoo', 10), ('lg optimus g pro', 9.260650269865051), ('motorola moto x 1 moto x1 moto x 2nd gen', 9.252071533760622), ('samsung c322', 9.121549553794402), ('htc 7 pro', 8.934706268057393)] \n",
      "\n",
      "Bruno ->  [('samsung b5702', 9.84506162893097), ('google nexus 6p', 9.687682624198963), ('lg g2 594708', 9.451874499652899), ('huawei ascend mate 7', 9.2869810034391), ('motorola razr d1', 9.237659494792663)] \n",
      "\n",
      "anonymous ->  [('motorola razr v3x', 9.88094941163383), ('sony xperia z1', 9.158424238472628), ('nokia lumia 900', 9.142197898483907), ('lg g2 594708', 9.111431975991005), ('htc droid incredible 2', 8.768751290569465)] \n",
      "\n",
      "bumudur ->  [('black berry 8700g', 9.750962217085812), ('nokia 7390', 9.652128087042202), ('nokia 6288', 9.514539696873438), ('nokia x2', 9.50541680587505), ('lg ku380', 9.449314869683064)] \n",
      "\n",
      "jessica ->  [('samsung galaxy y s5360', 9.48804790827731), ('apple iphone 4', 8.078429167304396), ('samsung instinct sph m800', 7.7325427502340505), ('lg optimus l7', 7.726407312470786), ('sony ericsson xperia mini', 7.123246622715416)] \n",
      "\n",
      "??????????? ->  [('samsung galaxy note', 9.411717690977047), ('samsung gt i8160', 9.188738469499079), ('caterpillar b15', 9.109486141393969), ('nokia 113', 8.805016850449144), ('htc desire c golf wildfire c', 8.759595100178364)] \n",
      "\n",
      "john ->  [('motorola i860', 9.690268055809572), ('apple iphone 6s', 8.951926050992531), ('samsung galaxy s7 789999', 8.823954301072122), ('nokia lumia 1520', 8.799055974681782), ('ttfone pluto', 8.772561811562024)] \n",
      "\n",
      "Paolo ->  [('google nexus 6p', 9.77679916449088), ('lg k500n', 9.522256689493778), ('nokia lumia 735', 9.305971554838628), ('sony xperia z1 compact d5503', 9.28762668745413), ('asus zenfone 2 ze551ml', 9.261867879190858)] \n",
      "\n",
      ". ->  [('samsung wave 3', 10), ('samsung galaxy note 2', 8.662547682979236), ('motorola moto g', 8.468258428856652), ('zte blade 440501', 8.315116545828468), ('lg optimus g', 8.1391709426826)] \n",
      "\n",
      "ÐÐ»ÑÐ³Ð° ->  [('sony xperia z1 compact d5503', 9.31638005496528), ('apple iphone 6s plus', 9.281414436879691), ('sony xperia z1', 9.226272925156506), ('apple iphone se', 9.225693767748263), ('sony xperia zr', 9.171327170829219)] \n",
      "\n",
      "Erik ->  [('sony xperia z5', 9.684079714943152), ('lg k500n', 9.585541688114027), ('huawei honor 8', 9.41402892295468), ('lg glimmer', 9.329750868534333), ('samsung galaxy s7 789999', 9.17791170997808)] \n",
      "\n",
      "Salvatore ->  [('huawei honor 7', 9.717652600948561), ('lg e450 optimus l5 ii', 9.666788335810857), ('microsoft lumia 640 dual sim', 9.589999442964803), ('htc desire 500', 9.110189041107068), ('huawei y6', 8.998080907024818)] \n",
      "\n",
      "Dario ->  [('siemens c55', 10), ('blackberry passport', 9.811247361262259), ('huawei ascend mate 7', 9.7924771219158), ('samsung galaxy s4 zoom', 9.536800551346975), ('huawei mate s', 9.358710009887682)] \n",
      "\n",
      "retkit ->  [('samsung e1081', 10), ('nokia 5250', 9.853376415452313), ('samsung c5130', 9.704765299080211), ('nokia c5 06', 9.61990909941855), ('samsung g810', 9.577691878965268)] \n",
      "\n",
      "alberto ->  [('huawei p8 lite', 9.5814226196025), ('apple iphone 4s', 9.50362306327502), ('google nexus 6p', 9.411554541902643), ('samsung galaxy s ii plus', 9.121349856780197), ('oukitel u10', 8.802306907870292)] \n",
      "\n",
      "Lisa ->  [('htc evo 4g', 9.159704881814688), ('nokia lumia 720', 8.734530057820855), ('sony xperia m', 8.729284152434285), ('samsung galaxy centura sch s738', 8.692044271696247), ('huawei honor 8', 8.691086767190242)] \n",
      "\n",
      "rmm ->  [('samsung f400', 9.798327022774023), ('samsung sgh e840', 9.598931738284803), ('samsung c6112', 9.5690727055104), ('samsung s7550', 9.489426631848495), ('samsung sgh g400', 9.342060341857259)] \n",
      "\n",
      "ozer1299 ->  [('samsung e1081', 10), ('samsung s5233', 9.425173061946559), ('samsung sgh b130', 9.417685258144127), ('nokia e51', 9.307840306558644), ('samsung sgh b300', 9.277534261153658)] \n",
      "\n",
      "Alessandra ->  [('huawei p8', 10), ('sony xperia z 504642', 9.716541005971106), ('doogee dagger dg550', 9.171949542344123), ('nokia asha touch 305', 9.164295470130948), ('samsung galaxy note 5 sm n920f', 9.126240773738957)] \n",
      "\n",
      "JÃ¼rgen ->  [('htc 10', 9.816424730620385), ('nokia 2710', 9.686558914323932), ('siemens s75', 9.45928884050963), ('lg g2 594708', 9.241907833384499), ('samsung c3520', 9.174718082249878)] \n",
      "\n",
      "Sara ->  [('lg dare vx9700', 9.883639233630543), ('huawei p8 lite', 9.21131067060014), ('samsung c3520', 9.086900153207342), ('apple iphone 5s', 8.981183976475503), ('nokia lumia 735', 8.791380305547436)] \n",
      "\n",
      "Jeremy ->  [('blackberry curve 9320', 9.65506386928768), ('motorola moto g', 9.5557126704344), ('blu studio 5 0', 9.522242887447781), ('xiaomi mi 3', 9.093699458890486), ('asus zenfone 3', 8.610942277793015)] \n",
      "\n",
      "okuyan ->  [('nokia n81', 9.473898213947628), ('nokia 6267', 9.454673433231875), ('samsung p520', 9.43033465705372), ('samsung i550', 9.393111061211599), ('nokia 6288', 9.382991230968452)] \n",
      "\n",
      "Michael ->  [('huawei honor 7', 9.491253643636963), ('htc sensation xl', 9.430348109872153), ('lg optimus l9 p760', 9.307058398731119), ('zte axon 7', 9.1935885247924), ('motorola moto g4', 8.974631810703773)] \n",
      "\n",
      "Stephen ->  [('huawei p9 797082', 8.957287576271934), ('samsung b3310', 8.785631652974175), ('nokia n8', 8.766873110583463), ('huawei mate 9', 8.718294656094914), ('sony xperia z1 compact d5503', 8.579885521577909)] \n",
      "\n",
      "anna ->  [('huawei p8', 9.687956284687376), ('asus zenfone 5', 8.91689387997833), ('asus zenfone go zc500tg', 8.780157269158861), ('apple iphone 5', 8.505536236003673), ('huawei ascend p6', 8.336177356873431)] \n",
      "\n",
      "ÐÐ¸ÑÐ°Ð¸Ð» ->  [('samsung wave s8500', 9.914697906722969), ('lg k10', 9.45271152453286), ('htc desire z', 9.385563627574456), ('samsung galaxy j5 4g lte 5 2 inches', 9.38251107187434), ('huawei honor 6x', 9.36581150308628)] \n",
      "\n",
      "Marco ->  [('archos 40 titanium', 9.357408883641327), ('htc incredible s', 9.232013791644903), ('lg l90 d410', 9.221828519619404), ('huawei honor 6', 9.212234822654954), ('acer liquid e2', 9.209132116379477)] \n",
      "\n",
      "M. ->  [('samsung galaxy s5 mini', 9.372909877378179), ('huawei ascend p1', 9.308642955040975), ('samsung galaxy s7 789999', 9.271908534740934), ('samsung galaxy s7 789999', 9.271908534740934), ('lg optimus vu', 9.126743392137687)] \n",
      "\n",
      "ÐÑÑÐµÐ¼ ->  [('samsung galaxy sl i9003', 10), ('sony ericsson w200i', 9.59627273130094), ('samsung wave s8500', 9.59617126375084), ('nokia 5250', 9.179580211229798), ('samsung galaxy a3 2016', 9.065192267161594)] \n",
      "\n",
      "Simone ->  [('prestigio multiphone 4500', 10), ('siemens a65', 10), ('huawei ascend g750', 9.736818495770201), ('siemens c35i', 9.612303795365397), ('lg k10', 9.531763349499489)] \n",
      "\n",
      "ozlemce108 ->  [('samsung c5212', 9.569309071828215), ('nokia 7390', 9.479150208295195), ('samsung corbypro b5310', 9.449223908133535), ('samsung g810', 9.421651778362856), ('samsung d880 duos', 9.383909563533582)] \n",
      "\n",
      "Peter ->  [('huawei honor 6', 9.685739981205755), ('acer liquid e2', 9.052538861731502), ('samsung galaxy s7 edge', 8.931415812587474), ('nokia lumia 830', 8.904637346410269), ('htc one x', 8.874344101247758)] \n",
      "\n",
      "Daniel ->  [('blu zoey', 9.767102144794677), ('nokia 3510', 9.516420267734292), ('huawei p9 plus', 9.361826473266955), ('lg optimus one p500', 9.319187612044049), ('nokia 6120 classic', 9.214818109591208)] \n",
      "\n",
      "Laura ->  [('huawei p9 plus', 9.283141460462964), ('nokia lumia 735', 9.282968169158712), ('samsung galaxy s5', 9.198998257974136), ('samsung galaxy y s5360', 9.172791803003971), ('cubot x9', 9.026315354519966)] \n",
      "\n",
      "Tina ->  [('lg ego t500', 9.930885974991487), ('motorola moto x play', 9.23087847357925), ('lg g2 594708', 9.204820929250737), ('asus zenfone 2 ze551ml', 8.994042151689328), ('htc desire', 8.978151870407775)] \n",
      "\n",
      "Markus ->  [('samsung nexus s', 9.721864603454016), ('nokia 5250', 9.530460646779648), ('samsung galaxy note 2', 9.413759669498614), ('samsung galaxy mega 6 3 i9200', 9.198417800941893), ('motorola moto z play', 9.195307818275355)] \n",
      "\n",
      "Jordan ->  [('blackberry passport', 9.672107920242189), ('motorola moto g3', 9.622752731060674), ('samsung galaxy a3 2016', 9.050924590993944), ('wiko fever', 8.74672713852978), ('samsung galaxy mega 6 3 i9200', 8.735361131506709)] \n",
      "\n",
      "Felix ->  [('xiaomi redmi note 4', 10), ('nokia 5500 sport', 9.797367160243356), ('samsung galaxy s iii neo i9300i', 9.652387347616878), ('samsung galaxy note iii', 9.429434555074357), ('google nexus 6', 8.964683902970782)] \n",
      "\n",
      "Sandra ->  [('samsung c322', 9.936780100426025), ('blackberry passport', 9.489966627950535), ('samsung gt i8160', 9.432174307277304), ('samsung gt e1200', 9.354551153537656), ('motorola moto x', 9.33077749572244)] \n",
      "\n",
      "Kyle ->  [('samsung galaxy alpha', 9.7008921400256), ('samsung sch r355', 9.647694911466438), ('motorola krave zn4', 9.258690010745168), ('samsung galaxy s6', 8.722858897301016), ('asus ze550kl', 8.614633955892144)] \n",
      "\n",
      "Alan ->  [('nokia lumia 620', 9.29168756330986), ('motorola photon 4g', 9.287846716678134), ('samsung galaxy ace 3', 8.963456819112858), ('huawei honor 6', 8.864332472336772), ('asus zenfone 3 max', 8.808454780412756)] \n",
      "\n",
      "Tom ->  [('lg chocolate 3 vx8560', 10), ('huawei p8', 9.924090686717964), ('nokia lumia 822', 9.456702094372284), ('lg g2 594708', 9.449346766917463), ('doro phone easy 410 gsm', 9.088755241531679)] \n",
      "\n",
      "Jose ->  [('sony xperia m', 9.602544673549403), ('sony xperia z1 compact d5503', 9.579028776348325), ('lg l70', 9.317753566087545), ('samsung galaxy s7 789999', 9.226328402824045), ('sony xperia sp', 9.221185912402152)] \n",
      "\n",
      "sonia ->  [('elephone p8000', 9.00011962993635), ('motorola moto e', 8.977074260310111), ('lg optimus l5 e610', 8.9167187124642), ('star n8000', 8.529797654122032), ('lg g2 594708', 8.440997015565673)] \n",
      "\n",
      "Ricardo ->  [('lg dare vx9700', 9.79214999961648), ('apple iphone 6s', 9.396395576086608), ('huawei honor 6', 9.211434291102115), ('meizu m3 note', 9.170717341540644), ('samsung galaxy note 4', 9.058037796055341)] \n",
      "\n",
      "kyef ->  [('samsung sgh g400', 9.49339946341379), ('samsung c6112', 9.490160093202144), ('samsung i550', 9.465031590862989), ('samsung g810', 9.418734744018298), ('sony ericsson k810i', 9.416367044285046)] \n",
      "\n",
      "Alessandro ->  [('huawei ascend y550', 9.828778986217074), ('lg optimus g', 9.504882960078973), ('samsung c3520', 9.4166438251344), ('asus zenfone selfie zd551kl', 9.396893134845827), ('samsung galaxy s7 edge', 9.367002304191539)] \n",
      "\n",
      "Andrew ->  [('motorola w370', 9.562497991453078), ('google nexus 6', 8.98105831892501), ('huawei p8', 8.833913202956069), ('nokia 3510', 8.73129226133988), ('sony xperia z1', 8.649795686308757)] \n",
      "\n",
      "?????????????? ???????????? ->  [('huawei ascend p1', 9.723485873338499), ('sony xperia p', 8.741787461022318), ('lg optimus l5', 8.737411462816375), ('lg optimus l5', 8.737411462816375), ('nokia asha 308', 8.264299372685205)] \n",
      "\n",
      "Elena ->  [('lg optimus l1 ii e420', 9.002858350375147), ('samsung galaxy j5', 8.952910140678602), ('sony xperia c', 8.798554685794945), ('lg optimus l3 ii e430 e425', 8.755622473966458), ('samsung e2530', 8.736427671306677)] \n",
      "\n",
      "Ð¡Ð²ÐµÑÐ»Ð°Ð½Ð° ->  [('lenovo ideaphone a706', 9.952402868030356), ('samsung galaxy grand duos i9080 i9082', 9.56383278852828), ('sony ericsson zylo', 9.4621523216857), ('samsung galaxy a3 819970', 9.412577329396296), ('apple iphone 6s plus', 9.40436612557455)] \n",
      "\n",
      "Erika ->  [('sony ericsson t700', 9.625052117139008), ('lg e450 optimus l5 ii', 9.553366012800208), ('apple iphone 6s', 9.44643461502038), ('samsung galaxy s ii plus', 9.363133457916085), ('huawei ascend g525', 9.10908112373681)] \n",
      "\n",
      "Rick ->  [('huawei p8', 9.6000879756545), ('samsung galaxy s7 edge', 9.541076242557327), ('asus zenfone 3', 9.369637699809326), ('motorola moto g3', 8.901734974801025), ('microsoft lumia 950 xl', 8.751361958222782)] \n",
      "\n",
      "Andrea ->  [('samsung galaxy core', 9.342255237302332), ('blackberry passport', 9.210518920812783), ('samsung galaxy note 2', 9.141893262195104), ('huawei ascend g7', 9.078377323595737), ('nokia lumia 920', 9.046022267951003)] \n",
      "\n",
      "Fran ->  [('samsung galaxy s3 mini', 9.560693824076546), ('nokia e5', 9.294746613140788), ('nokia lumia 920', 9.157846812613203), ('samsung galaxy nexus', 8.96744026780845), ('motorola moto g3', 8.746609203051252)] \n",
      "\n",
      "Amazon-Kunde ->  [('alcatel one touch 995', 10), ('sony ericsson k530i', 10), ('samsung galaxy i7500', 9.933339547934128), ('nokia lumia 930', 9.175564100473478), ('sony ericsson w995', 9.17040139670398)] \n",
      "\n",
      "sandra ->  [('huawei honor', 8.658393769467157), ('samsung galaxy s4 zoom', 8.539825171299702), ('lg e450 optimus l5 ii', 8.524954002760936), ('samsung galaxy s iii neo i9300i', 8.26232733279173), ('acer betouch e130', 8.243269964183536)] \n",
      "\n",
      "Paul ->  [('samsung e1100', 9.761453183054888), ('samsung galaxy s7 edge', 9.195056352059234), ('samsung galaxy s7 edge', 9.195056352059234), ('microsoft lumia 950 xl', 9.064894953443844), ('lg optimus l9 p760', 9.032795113475)] \n",
      "\n",
      "Victoria ->  [('samsung i9500 galaxy s iv', 9.423826654521543), ('blackberry curve 9360', 9.413107793735549), ('samsung galaxy s7 789999', 8.925136325947356), ('bq aquaris e5', 8.830565472342839), ('huawei ascend g525', 8.81938125913193)] \n",
      "\n",
      "Client d'Amazon ->  [('huawei p9 plus', 9.271829234052941), ('huawei p9 plus', 9.271829234052941), ('samsung galaxy mega 6 3 i9200', 8.89682229532751), ('htc one m8s', 8.878520839865056), ('lg leon h324', 8.68729026258989)] \n",
      "\n",
      "ÐÐ½Ð´ÑÐµÐ¹ ->  [('huawei nova', 10), ('samsung wave ii s8530', 9.844602925943363), ('samsung galaxy e5', 9.614713359942805), ('sony xperia tx', 9.490143103960989), ('nokia 101', 9.32183112496441)] \n",
      "\n",
      "Manu ->  [('nokia 2220 slide', 8.80926732594287), ('huawei ascend mate 8', 8.28082232800152), ('samsung galaxy s ii', 7.995430678698752), ('sony ericsson xperia neo', 7.986833394935887), ('lg g3 d855 657484', 7.893306538861043)] \n",
      "\n",
      "Alias ->  [('huawei p9 plus', 9.402139609860127), ('samsung galaxy grand neo plus gt i9060i', 9.057557957335554), ('motorola moto g', 9.02095699983409), ('huawei ascend p6', 8.899965697583683), ('samsung galaxy core plus', 8.79695504324496)] \n",
      "\n",
      "Kris ->  [('sony xperia z5', 9.135970576920023), ('samsung galaxy a7', 9.006532357070165), ('huawei w1', 8.939520341300486), ('nokia 1100', 8.706810491672565), ('samsung galaxy s iii', 8.238444987131206)] \n",
      "\n",
      "Carlo ->  [('apple iphone 4s', 9.156249680875504), ('samsung i9500 galaxy s iv', 9.120436021043007), ('lg google nexus 5', 8.815441616809284), ('samsung d880 duos', 8.741195351512987), ('samsung galaxy s3 mini', 8.712099710547573)] \n",
      "\n",
      "luigi ->  [('alcatel ot 991d', 9.451966342995494), ('huawei p8 lite', 9.321087599617666), ('alcatel onetouch pop c3 4033d', 9.303815842600256), ('samsung gt b2100', 9.21139362923747), ('samsung e1150', 8.866656936312626)] \n",
      "\n",
      "eric ->  [('doro phoneeasy 610gsm', 8.56875716300189), ('huawei ascend p2', 8.42357221437193), ('wiko rainbow', 8.290632490343302), ('sony xperia z5 compact', 7.986327382906753), ('samsung galaxy s7 edge', 7.808685332955977)] \n",
      "\n",
      "Isabel ->  [('bq aquaris e4 5', 9.759077295431647), ('samsung monte s5620', 9.195983815644102), ('lg g2 594708', 9.038247478715075), ('huawei ascend g6', 8.856926183196482), ('huawei ascend y530', 8.726779991595118)] \n",
      "\n",
      "Jerry ->  [('lg motion 4g ms770', 10), ('blackberry passport', 10), ('apple iphone 6s', 9.782400529345416), ('huawei mate 9', 9.67732493107872), ('asus zenfone 2 ze551ml', 9.408766955284845)] \n",
      "\n",
      "Maria ->  [('htc desire eye m910x', 9.602501921836124), ('xiaomi mi 3', 9.210411326444186), ('asus zenfone selfie zd551kl', 9.193219839503426), ('huawei p8 lite', 8.998673428542935), ('huawei p8 lite', 8.998673428542935)] \n",
      "\n",
      "Pedro ->  [('blackberry curve 8520', 8.984953405302871), ('samsung galaxy s3 mini', 8.900289523385428), ('huawei ascend g620s', 8.840672346514083), ('lg optimus g pro', 8.768289860572844), ('elephone p7000', 8.727955742775258)] \n",
      "\n",
      "jesus ->  [('motorola moto g', 9.707735235059928), ('huawei ascend honor 3c', 9.638242603315607), ('huawei p8', 8.121189112883696), ('sony xperia sp', 8.08972200487179), ('sony xperia sp', 8.08972200487179)] \n",
      "\n",
      "Rob ->  [('acer cloudmobile', 10), ('alcatel onetouch 20 04', 9.463012402011183), ('samsung galaxy s5', 9.227620411333605), ('samsung galaxy mega 6 3 i9200', 9.063836921165711), ('huawei p9 797082', 8.955233742602292)] \n",
      "\n",
      "Jesus ->  [('huawei ascend p1', 8.557540032581192), ('samsung galaxy note 4', 8.316638683999), ('samsung galaxy young', 8.14023512289449), ('motorola moto g', 8.129773202654514), ('huawei honor 7', 8.013349708986382)] \n",
      "\n",
      "Susan ->  [('alcatel onetouch pixi 4', 9.872095031635608), ('samsung galaxy note 5 sm n920f', 9.664746776656106), ('sony xperia xz', 9.609508381596742), ('samsung galaxy s7 789999', 9.370892175399591), ('motorola moto g 753361', 9.338486138247902)] \n",
      "\n",
      "javier ->  [('apple iphone se', 8.807491378877904), ('htc one max', 8.456522793685998), ('sony xperia p', 8.094592566728565), ('motorola moto x', 8.061192963074943), ('sony xperia z2', 8.010330586901045)] \n",
      "\n",
      "christian ->  [('samsung galaxy s iii neo i9300i', 9.36710609694089), ('samsung ativ s', 9.065276658533005), ('samsung galaxy fame s6810', 8.903793421272558), ('huawei honor 6', 8.716474282005763), ('google nexus 6p', 8.668123309548829)] \n",
      "\n",
      "claudia ->  [('asus ze550kl', 9.776673353703792), ('nokia lumia 520', 9.559583395100798), ('acer liquid e2', 9.541914223420457), ('samsung galaxy core prime', 9.541064599446242), ('alcatel onetouch 20 04', 9.531844753739817)] \n",
      "\n",
      "Francesco ->  [('huawei nova plus', 10), ('htc incredible s', 9.810147046315086), ('nokia 107', 9.744158644035515), ('asus zenfone 3', 9.61243312714702), ('lg nexus 4', 9.53654328286768)] \n",
      "\n",
      "Roberto ->  [('alcatel onetouch 20 04', 9.498510768700383), ('lg k10', 9.40561657671632), ('asus zenfone 3', 9.223319387003608), ('samsung c3520', 9.124751548851437), ('sony ericsson xperia pro', 9.115367909303858)] \n",
      "\n",
      "Jorge ->  [('huawei ascend honor 3c', 9.218950027021016), ('samsung galaxy j7 2016', 8.789799590587602), ('asus zenfone 2', 8.774565168454698), ('sony xperia z1', 8.6606446655226), ('motorola moto x 1 moto x1 moto x 2nd gen', 8.660060044518918)] \n",
      "\n",
      "JC ->  [('nokia 6500 slide', 9.724617576087955), ('sony xperia z ultra', 9.317662344688468), ('blackberry classic', 9.214635951661347), ('samsung galaxy note 2', 8.977713347730576), ('nokia lumia 520', 8.912949575303582)] \n",
      "\n",
      "Customer ->  [('htc evo 3d', 8.97135401741587), ('zte axon 7', 8.795288441492977), ('lg g2 594708', 8.352944839594597), ('samsung galaxy s5', 8.15367627790068), ('palm pixi plus', 7.65549762863299)] \n",
      "\n",
      "mark ->  [('samsung galaxy a5 2016', 9.867240599840205), ('apple iphone 6s plus', 9.577755067615946), ('sony xperia z5', 9.199381596450404), ('motorola moto x', 9.189313113998018), ('motorola moto x', 9.189313113998018)] \n",
      "\n",
      "anonieme bezoeker ->  [('apple iphone 4s', 8.999204717051853), ('samsung galaxy s ii', 8.732444205568623), ('samsung galaxy s ii', 8.732444205568623), ('samsung galaxy s ii', 8.732444205568623), ('lg optimus l5 e610', 8.711931135297554)] \n",
      "\n",
      "Chris ->  [('huawei p8', 9.58197011520608), ('huawei ascend g700', 9.349258416749693), ('huawei p8 lite', 9.015570649629993), ('motorola xt1225', 8.77582082103516), ('motorola xt1225', 8.77582082103516)] \n",
      "\n",
      "chris ->  [('lg t300', 9.652145464435371), ('samsung b3310', 9.577144992890924), ('nokia lumia 630', 9.409745857731671), ('samsung galaxy s4 zoom', 8.923263697036596), ('motorola moto g 753361', 8.891289446727182)] \n",
      "\n",
      "Gabriele ->  [('huawei mate s', 9.763409225967422), ('motorola moto g 753361', 9.489865207709938), ('wiko fever', 9.34612242135745), ('samsung galaxy s ii plus', 9.311911912269661), ('blackview bv6000', 9.124760454191359)] \n",
      "\n",
      "zehrabalta ->  [('samsung s7550', 9.489475658367178), ('samsung c260', 9.484309906309013), ('samsung i450', 9.476981739863202), ('samsung genoa c3510', 9.367088649460205), ('nokia 6120 classic', 9.327327482178118)] \n",
      "\n",
      "Monica ->  [('lg x power', 9.476772106099533), ('samsung galaxy s3 mini', 9.072313843261032), ('huawei ascend g620s', 9.037330278538564), ('motorola moto g', 9.022497597617022), ('nokia lumia 630', 8.983155833961483)] \n",
      "\n",
      "jose ->  [('lg g2 mini', 9.652715218446831), ('huawei honor 6', 9.420493329766986), ('doogee valencia 2 y100 pro', 9.374668262190562), ('samsung galaxy s7 edge', 9.253022640778093), ('samsung s5611', 8.882229187591038)] \n",
      "\n",
      "Pseudonym ->  [('huawei ascend p7', 9.632765327043966), ('samsung galaxy note 2', 9.25267029677529), ('apple iphone 7', 8.875624049464372), ('huawei ascend p1', 8.785807488960113), ('huawei p8 lite', 8.762130572493776)] \n",
      "\n",
      "Jacob ->  [('blackberry passport', 9.505218533829494), ('google nexus 6p', 9.139491200947448), ('asus zenfone 3', 8.965614479466801), ('zte axon 7', 8.286948862552995), ('nokia lumia 920', 8.162141484495855)] \n",
      "\n",
      "Thomas ->  [('samsung wave s8500', 9.436349661618511), ('nokia c6', 9.418266102420809), ('samsung gt i8160', 9.27248668700908), ('samsung galaxy s7 edge', 9.193371631658616), ('htc desire 500', 8.99525539053124)] \n",
      "\n",
      "cemdiler ->  [('samsung sgh g400', 9.458203050549775), ('nokia 6267', 9.455170295574487), ('samsung sgh i560', 9.452507593160568), ('samsung p520', 9.449135442730562), ('samsung g810', 9.445914937446524)] \n",
      "\n",
      "???????????????? ->  [('lg optimus l5 e610', 9.872684050147752), ('samsung c3782', 9.76310455866291), ('samsung gt i8160', 9.621577844618612), ('samsung gt i8160', 9.621577844618612), ('htc one x', 9.114150089587993)] \n",
      "\n",
      "Matthias ->  [('wiko getaway', 9.272118106357933), ('blackberry z30', 9.235001581911318), ('huawei y6', 8.724448363343928), ('lg google nexus 5', 8.65407721739113), ('samsung galaxy a3 2016', 8.591718787489098)] \n",
      "\n",
      "Nicola ->  [('archos 45 platinum', 10), ('wiko fever', 8.67090579208563), ('lg p710 optimus l7 ii', 8.637994205525464), ('alcatel one touch 997d ot 997d', 8.602903974681466), ('samsung galaxy s iii neo i9300i', 8.54906189124755)] \n",
      "\n",
      "Nick ->  [('nokia asha 310', 9.499241298262769), ('samsung galaxy s ii', 9.464156634413579), ('samsung galaxy note', 9.040779142989773), ('samsung wave ii s8530', 8.85610465552609), ('nokia 6303i', 8.764254055212954)] \n",
      "\n",
      "mauro ->  [('samsung galaxy star', 9.498848173170666), ('alcatel one touch idol 2 mini', 9.329820728785371), ('nokia lumia 820', 8.967059859161516), ('huawei y6', 8.68335827126885), ('huawei p8', 8.502625791811205)] \n",
      "\n",
      "emanetcan ->  [('samsung corbypro b5310', 9.383844924729859), ('samsung s5233', 9.325928450422662), ('samsung d880 duos', 9.263816745254244), ('samsung sph m310 slash virgin', 9.237103940591364), ('motorola rokr z6', 9.199834615025004)] \n",
      "\n",
      "Maurizio ->  [('samsung galaxy a3', 9.07041780514515), ('asus zenfone 3', 9.018604908984084), ('nokia lumia 520', 8.953101801763301), ('samsung galaxy note 2', 8.854899979632334), ('huawei ascend g615', 8.841173450814882)] \n",
      "\n",
      "Jens ->  [('nokia 1209', 10), ('nokia 5130 xpressmusic', 9.685256118149763), ('huawei ascend g7', 9.20699343072939), ('nokia 206', 9.000912611514229), ('samsung galaxy s5 neo sm g903f', 8.81777672402075)] \n",
      "\n",
      "Federico ->  [('apple iphone 6s', 9.388953245094935), ('samsung galaxy s6 edge sm g925f', 9.36503017597226), ('huawei ascend mate 7', 9.315894578414959), ('nokia 1600', 9.06575232502535), ('huawei p9 797082', 9.035757560289662)] \n",
      "\n",
      "stefano ->  [('tp link neffos c5l', 9.929481134487597), ('huawei y635', 9.354789933880943), ('samsung galaxy j5', 9.285336676416359), ('samsung galaxy s6', 9.270771152726883), ('nokia 105', 9.130485292681026)] \n",
      "\n",
      "Johan ->  [('nokia 7710', 10), ('google nexus 6p', 9.396963295427083), ('huawei p8', 9.233215348531072), ('huawei p8', 9.233215348531072), ('samsung galaxy note 2', 9.060485483425477)] \n",
      "\n",
      "Linda ->  [('samsung galaxy a3 819970', 9.673973927443203), ('lg g4', 9.296731318577724), ('samsung i9500 galaxy s iv', 8.9319523514678), ('sony xperia x compact', 8.658721086010654), ('samsung galaxy note 4', 8.550085727693391)] \n",
      "\n",
      "Mario ->  [('samsung c322', 10), ('nokia 2710', 9.985563804296476), ('panasonic x60', 9.798246943481615), ('palm treo 680', 9.54056045646223), ('nokia 6510', 9.466813392573323)] \n",
      "\n",
      "marco ->  [('sony ericsson t650i', 9.897715172070196), ('nokia lumia 620', 9.333081544879636), ('huawei y6', 9.263199927721923), ('samsung gt e1200', 9.22565340306736), ('samsung ativ s', 9.197571627215392)] \n",
      "\n",
      "Ali ->  [('nokia 3310', 9.505692992848973), ('apple iphone 6', 8.796876293847486), ('samsung galaxy s7 edge', 8.7787628550572), ('samsung galaxy s7 edge', 8.7787628550572), ('lenovo ideaphone s820', 8.530785467852189)] \n",
      "\n",
      "K ->  [('motorola moto g', 9.652626804117597), ('htc desire eye m910x', 9.195562786453452), ('samsung e2210', 8.6), ('htc wildfire s', 8.138463622942654), ('htc wildfire s', 8.138463622942654)] \n",
      "\n",
      "enrico ->  [('huawei p9 lite', 9.448533660974684), ('wiko highway', 9.383520493088154), ('doro phoneeasy 612', 9.285436507431124), ('samsung galaxy note 3 neo 4g n7505', 9.061717499760157), ('alcatel onetouch 20 04', 9.04531367110667)] \n",
      "\n",
      "Oks ->  [('samsung sgh c100', 9.744292237442924), ('nokia e66', 8.91923858607912), ('nokia e61', 8.76115918995995), ('nokia 3110 classic', 8.681731013017073), ('sony ericsson w760i', 8.546874430205076)] \n",
      "\n",
      "david ->  [('motorola moto g', 9.250159927076103), ('cubot p7', 9.068968159577716), ('samsung galaxy s4 zoom', 9.062153833439647), ('huawei ascend p7', 9.013116766551315), ('huawei ascend g620s', 8.919064584930904)] \n",
      "\n",
      "Ivan ->  [('apple iphone 6', 9.109174071817549), ('asus zenfone 3', 8.851247867036108), ('sony xperia e1', 8.754602551460238), ('nokia 3310', 8.708630595991883), ('samsung gt i8552', 8.678254553624797)] \n",
      "\n",
      "Danny ->  [('sony xperia xz', 9.62926523310271), ('motorola moto x 1 moto x1 moto x 2nd gen', 9.058959467246998), ('samsung galaxy s6', 9.042388089922479), ('lg optimus chic e720', 8.994005623165034), ('huawei honor 5x', 8.980668024357792)] \n",
      "\n",
      "ÐÐ»Ð°Ð´ ->  [('samsung g355 galaxy core ii', 9.807304350466314), ('samsung galaxy note 2', 9.446145738840361), ('lg x power', 9.099415049048105), ('nokia 101', 9.094666881227656), ('samsung galaxy s3 mini', 9.030644457750677)] \n",
      "\n",
      "black ->  [('samsung f400', 9.691334287073023), ('samsung sgh g400', 9.451268167486718), ('blackberry 7290', 9.448401409035743), ('samsung p520', 9.417256994028616), ('blackberry curve 8300', 9.279505927543916)] \n",
      "\n",
      "D ->  [('samsung galaxy s5', 9.177365922256381), ('samsung galaxy note iii', 8.112715408522304), ('lenovo vibe x3', 8.00788195305047), ('nokia lumia 920', 8.000202951965473), ('sony xperia x f5121', 7.919486140941351)] \n",
      "\n",
      "Alex ->  [('htc desire eye m910x', 9.32866261669542), ('apple iphone 6s', 9.17837933155358), ('cubot note s', 9.076217840682563), ('archos 50 helium', 9.006011533945491), ('samsung galaxy a3', 9.004760280733002)] \n",
      "\n",
      "Juan Carlos ->  [('huawei ascend g7', 9.708401379029716), ('huawei g610', 9.491744072621273), ('elephone p6000 pro', 9.2994284163363), ('huawei honor 6', 9.239034347986603), ('microsoft lumia 640 dual sim', 9.227062071030184)] \n",
      "\n",
      "vincenzo ->  [('lg nexus 4', 9.523150254422013), ('benq siemens ef81 292632', 9.145067569406208), ('nokia lumia 1320', 9.113549195564804), ('alcatel ot 918d', 8.858571888599847), ('asus zenfone 2', 8.587694612928425)] \n",
      "\n",
      "????????????? ->  [('samsung c3322', 8.962009888885072), ('samsung galaxy s7710 xcover 2', 7.719859085306468), ('nokia 112', 7.58577506584835), ('htc one x', 7.41496826494427), ('apple iphone 4s', 7.405592040547764)] \n",
      "\n",
      "carlos ->  [('asus zenfone 3', 9.396339116599915), ('apple iphone 4s', 8.705407985058667), ('motorola moto g', 8.63233148329094), ('samsung galaxy s3 mini', 8.548809524719253), ('google nexus 5x h791', 8.344803955390828)] \n",
      "\n",
      "Valeria ->  [('htc desire eye m910x', 9.810455108266291), ('sony xperia z1', 9.540866212497034), ('apple iphone 6s', 9.300298288445019), ('lg optimus g', 9.106730428749392), ('lg g5', 8.741544686335342)] \n",
      "\n",
      "ÐÐ»Ð°Ð´Ð¸Ð¼Ð¸Ñ ->  [('lenovo ideaphone a706', 10), ('nokia x1 01', 10), ('samsung galaxy note 2', 9.790574245467315), ('htc desire eye m910x', 9.756914168614882), ('apple iphone 6s plus', 9.525430422779358)] \n",
      "\n",
      "Carlos ->  [('sony xperia m', 9.434624140731602), ('google nexus 6p', 9.145394218259904), ('google nexus 5x h791', 8.950439793754812), ('huawei honor 7', 8.807733569834433), ('lg optimus g', 8.73255682014464)] \n",
      "\n",
      "Stefano ->  [('star n8000', 9.70343611261441), ('huawei honor holly', 9.512397533543506), ('asus zenfone 3', 9.512036273481959), ('huawei honor 7', 9.500327238652108), ('samsung galaxy a3 2016', 9.48856731051609)] \n",
      "\n",
      "Ryan ->  [('apple iphone 7', 8.999063910310575), ('motorola moto g', 8.988931567098449), ('samsung galaxy s4 mini gt i9190 gt i9192 dual sim', 8.798965421712143), ('samsung galaxy s iii', 8.735511708900253), ('samsung galaxy a5 2016', 8.431629189561974)] \n",
      "\n",
      "giuseppe ->  [('alcatel onetouch 20 04', 9.39880658446726), ('blackberry priv', 9.348061091439149), ('thl t200', 9.34338892800028), ('samsung galaxy s4 mini gt i9190 gt i9192 dual sim', 9.257420689789939), ('huawei p8', 9.17334653284338)] \n",
      "\n",
      "ozer ->  [('samsung c5212', 9.658340321678315), ('motorola droid 425280', 9.633953882624226), ('samsung jet sgh s8003', 9.586460602340216), ('nokia 7390', 9.497951138356795), ('sony ericsson k810i', 9.462681547581994)] \n",
      "\n",
      "pablo ->  [('sony xperia sola', 9.068815809576417), ('motorola moto g', 8.986410509572313), ('acer liquid jade z', 8.563512716058847), ('blackberry q10', 8.250254486131364), ('sony xperia s', 8.15399671674479)] \n",
      "\n",
      "George ->  [('samsung champ gt c3300k', 9.588893243847869), ('sony xperia xz', 9.512583112725602), ('asus zenfone 3', 9.357660564499016), ('htc one max', 9.350819169440902), ('nokia 1112', 9.092059636099695)] \n",
      "\n",
      "luca ->  [('nokia 206', 9.218868021731124), ('blackberry z30', 9.169404274782085), ('samsung galaxy j5 4g lte 5 2 inches', 9.127330766699185), ('htc one xplus', 9.118890108546976), ('samsung galaxy s4 mini gt i9190 gt i9192 dual sim', 9.062909187289193)] \n",
      "\n",
      "Wolfgang ->  [('nokia n9', 8.581226276258542), ('huawei ascend y300', 8.131911707328007), ('samsung galaxy mega 6 3 i9200', 7.951096181133257), ('samsung e1150', 7.819772746843777), ('nokia lumia 630', 7.71143554184656)] \n",
      "\n",
      "dal07 ->  [('samsung i450', 9.345772552003908), ('nokia n81', 9.267678599236403), ('nokia n76', 9.236135024488233), ('nokia 7360', 9.21276923920206), ('samsung sgh b300', 9.038686557641615)] \n",
      "\n",
      "Lukas ->  [('sony xperia z5', 9.315037668717014), ('samsung galaxy s7 789999', 8.62419092626316), ('samsung wave 525 s5250', 8.561662167535543), ('htc desire', 8.383790218128095), ('samsung galaxy s6', 8.129781222765725)] \n",
      "\n",
      "Irene ->  [('blackberry torch 9860', 9.480580406334933), ('apple iphone 6s plus', 9.265861619105513), ('nokia 6303i', 9.151172456835996), ('lg g4', 9.125537955908367), ('vodafone smart prime 6', 8.863356260053553)] \n",
      "\n",
      "Nicolas ->  [('samsung galaxy a5 2016', 9.764573684323143), ('huawei p9 plus', 9.694667402544864), ('sony xperia m2', 9.570992140880607), ('samsung galaxy j7 2016', 9.368642949889933), ('doogee x5 max pro', 9.163897769863759)] \n",
      "\n",
      "ÐÐ°Ð´Ð¸Ð¼ ->  [('sony xperia m', 9.558684190576386), ('samsung monte s5620', 9.54314643329979), ('nokia 105', 9.488082705103187), ('samsung galaxy ace 3', 9.402066114454069), ('samsung galaxy a5 2016', 9.232877965147908)] \n",
      "\n",
      "scofield ->  [('motorola droid 425280', 9.69975155063519), ('siemens s75', 9.66586565217223), ('samsung g810', 9.530950719622231), ('lg ku380', 9.519779928723123), ('samsung s5233', 9.513606659963324)] \n",
      "\n",
      "Vivek ->  [('apple iphone se', 8.736072210426377), ('oneplus 3t', 8.194868858592557), ('asus zenfone max zc550kl', 8.027739108408781), ('lenovo zuk z1', 6.643191048821136), ('blu tank ii', 6.1197775790574305)] \n",
      "\n",
      "Rose ->  [('apple iphone 4s', 9.58425185472303), ('htc sensation xe', 9.53561782428462), ('motorola moto e', 9.463711053884362), ('motorola moto e', 9.463711053884362), ('nokia lumia 520', 9.157076216639677)] \n",
      "\n",
      "Caro ->  [('blackberry curve 8520', 8.4416067594102), ('samsung sgh c140', 8.375237722575049), ('sony xperia z1', 8.226356744420778), ('ttfone venus 2', 8.104381445007302), ('samsung galaxy j3 duos', 8.05652359447329)] \n",
      "\n",
      "giorgio ->  [('alcatel one touch pop c5 5036d', 10), ('huawei p8 lite', 9.328523602394364), ('thl w200', 9.103005425210364), ('oneplus x', 8.949243606670773), ('wiko fever', 8.884313699338401)] \n",
      "\n",
      "Praveen ->  [('nokia lumia 730', 9.422663033185318), ('apple iphone 6 plus', 9.1340503307782), ('huawei honor 4x', 9.054615042377025), ('meizu m1 note', 8.56285637917029), ('motorola moto e', 8.405846715603316)] \n",
      "\n",
      "salvatore ->  [('asus zenfone selfie zd551kl', 9.835956565361954), ('samsung galaxy s7 edge', 9.734406642151281), ('huawei y6', 9.516793097595418), ('lg g2 594708', 9.356993488925385), ('asus zenfone 3', 9.326710125176604)] \n",
      "\n",
      "ivan ->  [('blackberry passport', 9.77745196275733), ('huawei ascend mate 7', 9.729593583237886), ('nokia lumia 635', 9.461368811035632), ('samsung galaxy note 3 neo 4g n7505', 9.247150802390134), ('huawei p8 lite', 8.358906392998833)] \n",
      "\n",
      "Christine ->  [('sony ericsson k810i', 9.916148520962185), ('nokia 2710', 9.67243361821097), ('samsung galaxy y s5360', 9.366217225612203), ('lg g2 594708', 9.045206733258583), ('samsung galaxy s3 mini', 8.942217328008313)] \n",
      "\n",
      "Carol ->  [('asus zenfone 3', 9.36923197750335), ('microsoft lumia 650', 8.76220305296282), ('samsung galaxy s iii neo i9300i', 8.716400950078292), ('lg glimmer', 8.650973583702367), ('sony xperia t2 ultra', 8.447865564767332)] \n",
      "\n",
      "Marcus ->  [('asus zenfone selfie zd551kl', 9.841633619742455), ('motorola razr d1', 9.537858906551497), ('samsung galaxy s3 mini', 9.397070721518666), ('huawei p8', 9.270225757882667), ('apple iphone 7', 8.74524435353746)] \n",
      "\n",
      "Ed ->  [('apple iphone 5', 9.101459344095382), ('htc one xplus', 9.098387212925259), ('huawei p8 lite', 8.604868006877158), ('samsung galaxy s7 edge', 8.458182225943116), ('samsung galaxy s7 edge', 8.458182225943116)] \n",
      "\n",
      "Julien ->  [('nokia lumia 735', 10), ('nokia n96', 9.784226546781953), ('huawei honor 8', 9.760422607110929), ('motorola moto x', 9.75481969223767), ('blu win hd', 9.656772914279584)] \n",
      "\n",
      "Javi ->  [('doogee x5 max pro', 9.032097752312794), ('samsung galaxy a5', 8.482866179074875), ('alcatel onetouch pixi 4', 8.440391960597646), ('microsoft lumia 640 dual sim', 8.414180280819249), ('google nexus 5x h791', 8.215573147182104)] \n",
      "\n",
      "Ð ÑÑÐ»Ð°Ð½ ->  [('apple iphone 6s', 9.818937840143118), ('samsung galaxy a3 819970', 9.72792531756403), ('lg x power', 9.668855032554069), ('samsung galaxy s ii', 9.629952478223249), ('samsung galaxy s7 edge', 9.62646750065028)] \n",
      "\n",
      "Elizabeth ->  [('apple iphone 6s', 9.269784915871547), ('lg g3 d855 657484', 8.806131512320267), ('motorola moto e', 8.699692858130575), ('sony ericsson xperia neo', 8.093916072092474), ('apple iphone 5s', 8.022051704494968)] \n",
      "\n",
      "Jo ->  [('asus zenfone 3', 9.679376637461012), ('lg l35', 9.653109621566562), ('huawei ascend p6', 9.628766356146334), ('htc desire s', 9.521759867849756), ('sony xperia m', 9.5190219940348)] \n",
      "\n",
      "Jane ->  [('samsung wave 723 gt s7230e', 8.658026199335323), ('samsung galaxy a3 819970', 8.451015891852355), ('nokia 6350', 7.9869847386206745), ('nokia lumia 920', 7.808891727790085), ('nokia lumia 520', 7.707303718003949)] \n",
      "\n",
      "daniele ->  [('cubot x9', 9.514903626126403), ('huawei honor 6', 9.262132290758124), ('sony xperia z 504642', 9.05612647092005), ('motorola moto e', 9.016743420774093), ('huawei ascend p6', 8.970465814187369)] \n",
      "\n",
      "Aaron ->  [('alcatel onetouch pixi 4', 8.76198990867995), ('htc one x', 8.596190181279363), ('sony xperia sola', 8.424414800344472), ('htc m8', 8.225127805467006), ('lg e440 optimus l4 ii', 8.15296870012564)] \n",
      "\n",
      "davide ->  [('sagem my x6 2', 9.439379937606372), ('nokia lumia 630', 9.134928046608454), ('huawei p8', 9.049898437461243), ('sony xperia l', 8.979066999285223), ('samsung galaxy a7', 8.856233448921785)] \n",
      "\n",
      "nicola ->  [('xiaomi mi 3', 9.598164198148883), ('sony xperia z5', 9.528090029756786), ('huawei honor 4x', 9.513576423214147), ('lg optimus sol', 9.143539566719278), ('nokia lumia 625', 9.057456879564121)] \n",
      "\n",
      "Aditya ->  [('samsung galaxy note 2', 9.173762373913222), ('samsung galaxy s6', 8.758609762785696), ('lenovo s850', 8.755792261869805), ('motorola moto g', 8.415572712581485), ('samsung galaxy ace plus', 8.098920621250874)] \n",
      "\n",
      "Dani ->  [('samsung galaxy s7 edge', 9.49228054656759), ('huawei honor 6', 9.03124362540487), ('asus zenfone 2 ze551ml', 9.030100557167694), ('samsung galaxy note iii', 8.70287729400305), ('samsung galaxy note iii', 8.70287729400305)] \n",
      "\n",
      "Julian ->  [('sony xperia z3 compact', 9.177184996869007), ('samsung galaxy note 3 neo 4g n7505', 8.910387216593339), ('samsung galaxy a5 2016', 8.627160861461107), ('samsung gt b2100', 8.515242837897658), ('motorola moto g', 8.486361361565532)] \n",
      "\n",
      "Naveen ->  [('oneplus 3t', 9.719263047445809), ('sony xperia l', 9.126151418458022), ('nokia x2', 8.378194968411815), ('lg g2 594708', 8.274330415039548), ('samsung galaxy j7 2016', 8.068881477204089)] \n",
      "\n",
      "Gianluca ->  [('acer liquid e2', 9.908938871292392), ('asus zenfone selfie zd551kl', 9.852112278888777), ('lenovo k6 dual', 9.720748686116792), ('huawei p9 lite', 9.559658792344802), ('huawei ascend p1', 9.547596761127231)] \n",
      "\n",
      "ÐÐ²Ð°Ð½ ->  [('nokia 101', 9.43794825525301), ('samsung galaxy a3 2016', 9.249523820872861), ('samsung galaxy a3 2016', 9.249523820872861), ('samsung galaxy a5 2016', 9.242633995903608), ('apple iphone 6s', 9.232480849778414)] \n",
      "\n",
      "Amy ->  [('motorola v365', 10), ('huawei p9 lite', 8.581879259827318), ('huawei honor 5x', 8.102624173641775), ('samsung galaxy core prime', 8.03900876823369), ('lg ls670', 7.675303496014404)] \n",
      "\n",
      "ÐÑÐ¸Ð½Ð° ->  [('samsung galaxy s6', 9.509119948567289), ('nokia 5230', 9.445903376698658), ('samsung wave 525 s5250', 9.20112679346256), ('nokia 101', 9.125902428469026), ('samsung galaxy note 2', 9.042981513249163)] \n",
      "\n",
      "Stefan ->  [('samsung galaxy note 2', 9.602359935053862), ('sony xperia z5', 9.371031347162743), ('huawei ascend honor 3c', 9.294477862323346), ('sony xperia z1', 9.167384228766531), ('nokia e5', 9.067526666987694)] \n",
      "\n",
      "Mac Reviews ->  [('samsung s7262 duos galaxy ace', 7.820184739106974), ('lg e450 optimus l5 ii', 7.655194559709649), ('samsung galaxy s duos s7562', 7.571850946930332), ('lg g2 594708', 7.2720535600324645), ('sony xperia m', 7.229682111413169)] \n",
      "\n",
      "Adrian ->  [('motorola moto g3', 9.481513127638001), ('samsung galaxy s6 edge sm g925f', 9.195240726338236), ('lg optimus g', 9.085495174572813), ('sony xperia z3', 9.06506195638133), ('lg g3 d855 657484', 9.022569281412911)] \n",
      "\n",
      "Pat ->  [('nokia 1600', 9.633950305250877), ('asus zenfone 2 ze551ml', 9.260799622562779), ('samsung galaxy s i9000', 9.12746109012497), ('samsung galaxy nexus', 8.972414985656878), ('motorola moto e', 8.916158025323373)] \n",
      "\n",
      "riccardo ->  [('huawei ascend g7', 10), ('asus zenfone 2 ze551ml', 9.365637119544456), ('samsung galaxy grand neo gt i9060', 9.162983171981889), ('apple iphone 6s', 9.147940407306184), ('sony xperia l', 9.142638825156018)] \n",
      "\n",
      "Toni ->  [('samsung b7350', 10), ('huawei ascend mate', 9.858166985514309), ('nokia lumia 930', 9.156320921275771), ('samsung galaxy j7 2016', 9.112183446055347), ('blackberry z30', 9.018732171495937)] \n",
      "\n",
      "Raul ->  [('samsung gt e1200', 9.290280608482778), ('apple iphone 5', 8.894247858985079), ('samsung galaxy core plus', 8.33722191015421), ('sony ericsson xperia ray', 8.0717407928454), ('nokia lumia 1020', 7.961874594288262)] \n",
      "\n",
      "ÐÐ°ÑÐ°Ð»ÑÑ ->  [('lenovo ideaphone a706', 9.734407333967386), ('samsung galaxy j7 2016', 9.61236266851626), ('samsung galaxy note 2', 9.390532473709706), ('sony xperia l', 9.374505795677905), ('nokia x2 02', 9.189643533217472)] \n",
      "\n",
      "Ruben ->  [('bq aquaris e4 5', 9.317041533094606), ('huawei p9 plus', 9.024897488451671), ('sony xperia l', 8.458056229486534), ('sony xperia m', 8.225389870400674), ('samsung galaxy s advance gt i9070', 8.141796712843512)] \n",
      "\n",
      "Denis ->  [('acer liquid gallant duo', 9.502173790968012), ('motorola moto g', 8.925932903933191), ('samsung wave ii s8530', 8.90645579603227), ('apple iphone', 8.824598121768831), ('samsung gt e1270', 8.649447630578205)] \n",
      "\n",
      "Ken ->  [('motorola moto g3', 8.824960633492065), ('zte axon 7 mini 5 2', 8.644969081956392), ('motorola moto x', 8.636808919909562), ('htc one m7', 8.370439677262137), ('nokia lumia 635', 8.147191008366391)] \n",
      "\n",
      "Jonathan ->  [('huawei honor 8', 9.771020484365556), ('google nexus 6', 9.360792686702318), ('samsung galaxy s7 789999', 9.340421731365993), ('htc one m9', 9.162878527270596), ('motorola moto g', 8.710044206922495)] \n",
      "\n",
      "Dave ->  [('sagem my x 2', 10), ('huawei ascend mate 7', 10), ('samsung galaxy s7 789999', 9.553751075818944), ('samsung galaxy s3 mini', 9.354657245093456), ('google nexus 5x h791', 9.304250052311763)] \n",
      "\n",
      "Adam ->  [('xiaomi mi4', 9.242257819453819), ('huawei honor 6x', 8.976127953424522), ('nokia lumia 1320', 8.551348133066233), ('samsung galaxy s ii', 8.534569717363102), ('sony xperia x f5121', 8.47579323541019)] \n",
      "\n",
      "gulsen28 ->  [('lg kp110', 9.541123741392333), ('nokia 6267', 9.530657651705924), ('samsung sgh i560', 9.494079700438501), ('nokia 6120 classic', 9.393402618022996), ('blackberry 8820', 9.259479846799703)] \n",
      "\n",
      "rahul ->  [('nokia lumia 1320', 8.999352703174932), ('huawei ascend mate 2', 8.97893904282419), ('nokia 5230', 8.794834363560458), ('meizu m2 note', 8.021813560540908), ('lg k4', 7.911513956561374)] \n",
      "\n",
      "Flipkart Customer ->  [('asus ze550kl', 7.876680873029026), ('nokia lumia 830', 7.456687471898035), ('lenovo vibe p1', 6.968653521006389), ('asus zenfone max zc550kl', 6.915004339673089), ('samsung galaxy s5', 6.910025084522911)] \n",
      "\n",
      "Marina ->  [('nokia asha 200', 9.37413834322539), ('sony ericsson xperia x10 mini pro', 9.069809805749303), ('lg g2 594708', 9.041350556880916), ('microsoft lumia 640 dual sim', 8.549926775095482), ('lg l70', 8.520069484209358)] \n",
      "\n",
      "Sabine ->  [('sony xperia p', 9.666756964578767), ('samsung gt b2710', 9.639999436554067), ('nokia lumia 1320', 9.468401443428963), ('samsung galaxy ace s5830', 9.464379299675304), ('lg p710 optimus l7 ii', 9.064568268683116)] \n",
      "\n",
      "ÐÐ»ÐµÐ½Ð° ->  [('acer liquid gallant duo', 9.884067276774452), ('samsung wave 525 s5250', 9.72320567684531), ('samsung galaxy j5 4g lte 5 2 inches', 9.719084038642482), ('lg p698', 9.669599207722793), ('samsung galaxy grand duos i9080 i9082', 9.57818359898734)] \n",
      "\n",
      "William ->  [('huawei honor 6', 9.778096634336183), ('sony xperia c4', 9.48288831714305), ('samsung galaxy s6', 9.469384214666782), ('blackberry priv', 9.276961591210153), ('nokia 2220 slide', 9.241675553483287)] \n",
      "\n",
      "Michele ->  [('huawei nova plus', 10), ('huawei ascend mate 7', 9.818826336163502), ('nokia lumia 735', 9.420025976817955), ('samsung c3520', 9.302092474163402), ('asus zenfone 3 max', 9.192145330206067)] \n",
      "\n",
      "Alejandro ->  [('nokia lumia 830', 9.59416573914056), ('lg google nexus 5', 9.544850375672134), ('google nexus 5x h791', 9.312831090267029), ('zte axon 7', 9.302025833143233), ('motorola moto g 753361', 9.116636857751242)] \n",
      "\n",
      "Rafa ->  [('motorola razr hd', 10), ('samsung g355 galaxy core ii', 9.430869359224964), ('oneplus one 64gb', 8.926381909864457), ('samsung e1080', 8.874641227526576), ('motorola moto x play', 8.671857008749333)] \n",
      "\n",
      "Lucia ->  [('sony xperia x compact', 9.573806527867216), ('sony ericsson xperia arc', 9.492474826067902), ('lg l70', 9.370514252825382), ('lg g2 594708', 9.246144720506752), ('sony ericsson xperia mini', 8.891828178673627)] \n",
      "\n",
      "martin ->  [('sony xperia z ultra', 9.31443286873903), ('samsung galaxy s5', 9.17456923259503), ('apple iphone 4', 9.125629739207884), ('samsung galaxy young', 9.100675865847958), ('samsung e1150', 9.081470227723756)] \n",
      "\n",
      "daniel ->  [('apple iphone 6s', 9.636881794220516), ('samsung galaxy s6 edgeplus', 9.456003304570194), ('acer liquid z3 duo', 9.312159599204834), ('cubot s208', 9.308346483509215), ('lg env', 9.006328956212329)] \n",
      "\n",
      "Fabrizio ->  [('motorola moto e', 9.61716976542245), ('samsung galaxy s7 edge', 9.576756078851277), ('samsung galaxy a5 2016', 9.530737146478629), ('samsung c3520', 9.526438014878343), ('asus ze500kl', 9.309919676634962)] \n",
      "\n",
      "Luigi ->  [('ttfone pluto', 9.487427917614678), ('acer liquid e2', 9.295948053441982), ('alcatel onetouch 20 04', 9.066527769170358), ('samsung galaxy s iii neo i9300i', 8.872855313203692), ('motorola moto g', 8.829189250608572)] \n",
      "\n",
      "User ->  [('nokia 6270', 10), ('sony ericsson xperia pro', 7.9215417731591895), ('nokia x2', 7.423975077744485), ('nokia c5 03', 7.327241447220764), ('huawei ascend g600', 7.301452303429439)] \n",
      "\n",
      "Benjamin ->  [('samsung gt e1200', 9.288360601901443), ('motorola moto x', 9.04370524001872), ('samsung galaxy s6', 9.009241387993027), ('lg voyager', 8.881331601521907), ('sony xperia z5', 8.666416904141316)] \n",
      "\n",
      "frank ->  [('blackberry passport', 8.958493158604739), ('samsung galaxy j3 duos', 8.896340265082474), ('apple iphone 5s', 8.86477089406391), ('huawei ascend g7', 8.246642947154257), ('htc desire', 7.979544268792064)] \n",
      "\n",
      "Jan ->  [('htc legend', 9.670309801847221), ('samsung galaxy s8', 9.245557179797176), ('samsung galaxy a5 2016', 9.214456215676568), ('apple iphone 6', 9.142321008070423), ('lg l40g', 8.998036154136038)] \n",
      "\n",
      "ÐÐºÑÐ°Ð½Ð° ->  [('samsung galaxy a5', 9.768516950375638), ('sony xperia l', 9.505090663155912), ('sony xperia l', 9.505090663155912), ('samsung wave 525 s5250', 9.399832580361116), ('lenovo s850', 9.387283560939734)] \n",
      "\n",
      "Steve ->  [('lg g flex d958', 9.824268074160281), ('lg g flex d958', 9.824268074160281), ('casio g zone ravine 2', 9.335892421246374), ('samsung sch u740', 9.317937241963586), ('samsung gusto 2', 9.246108656508039)] \n",
      "\n",
      "ÐÐ³Ð¾ÑÑ ->  [('nokia x2', 9.83087208545428), ('nokia 101', 9.660840171180938), ('huawei ascend g600', 9.654892172793927), ('samsung galaxy s8 plus', 9.62946981348228), ('samsung galaxy j7 2016', 9.623000433464261)] \n",
      "\n",
      "Angela ->  [('htc one m7', 9.06976469467444), ('nokia x1 01', 8.851583103524522), ('samsung gt e1270', 8.434787065382913), ('apple iphone 7', 8.41623046533478), ('samsung galaxy grand neo gt i9060', 8.370802868568596)] \n",
      "\n",
      "Alberto ->  [('samsung s7580 galaxy trend plus', 9.839645095196834), ('huawei ascend mate 7', 9.515341451729897), ('lg optimus l3 ii e430 e425', 9.408995132739058), ('samsung galaxy j5', 9.203320950682125), ('nokia lumia 630', 9.200905453254336)] \n",
      "\n",
      "Don ->  [('samsung galaxy note 2', 10), ('lg venus vx 8800', 9.266520546983394), ('htc one m7', 9.161291574845736), ('samsung galaxy s ii', 8.958674858480936), ('samsung galaxy s7 789999', 8.845181657463819)] \n",
      "\n",
      "francesco ->  [('acer liquid s1', 10), ('huawei ascend p7', 9.700607530197777), ('huawei ascend mate 7', 9.597593926973662), ('samsung galaxy s3 mini', 9.389494810067504), ('cubot x9', 9.286996557787132)] \n",
      "\n",
      "Ganesh ->  [('nokia lumia 900', 8.457781429704607), ('samsung galaxy c9 pro', 7.860192656530641), ('blu win jr', 7.812325079230322), ('asus ze550kl', 7.7980064888397544), ('asus zenfone 3', 7.6157891411996)] \n",
      "\n",
      "Gast ->  [('htc tytn', 8.666666666666666), ('htc tytn', 8.666666666666666), ('htc tytn', 8.666666666666666), ('hp ipaq rw6815', 6.0), ('htc incredible s', 5.183555677303075)] \n",
      "\n",
      "... ->  [('lg ego t500', 10), ('apple iphone 7', 9.466673792939329), ('samsung galaxy ace 3', 8.84528960878844), ('apple iphone 4s', 8.340378034807111), ('sony ericsson k850i', 8.259549912545678)] \n",
      "\n",
      "Federica ->  [('siemens cl75 poppy', 10), ('samsung galaxy grand neo plus gt i9060i', 9.660960114538724), ('panasonic x70', 9.59207954826256), ('huawei ascend p7', 9.208007467578888), ('samsung galaxy s5', 8.669846465485467)] \n",
      "\n",
      "Ajay ->  [('xiaomi mi max', 9.828915448915565), ('samsung galaxy core plus', 9.526758526613351), ('nokia lumia 730', 9.22944849205628), ('sony ericsson s302', 9.0), ('lg k8', 8.951834046943313)] \n",
      "\n",
      "Claudia ->  [('huawei p8', 9.664915036603253), ('huawei honor 6', 9.216677815937295), ('nokia 3510i', 9.174012528789111), ('asus zenfone selfie zd551kl', 9.159086862842546), ('samsung galaxy mini 2 s6500', 8.960428769692669)] \n",
      "\n",
      "Anita ->  [('samsung galaxy j5 4g lte 5 2 inches', 9.5673564411991), ('lg h410', 9.459209692965665), ('vodafone smart prime 6', 9.443431662003299), ('sony xperia z1 compact d5503', 9.360937355022264), ('samsung galaxy j7 prime', 9.270278372258769)] \n",
      "\n",
      "fabio ->  [('samsung c3590', 9.438262480993842), ('motorola moto g', 9.27333573778506), ('nokia lumia 930', 9.109574976456365), ('asus ze550kl', 9.099871344250035), ('samsung galaxy j5', 9.01476531092019)] \n",
      "\n",
      "Max ->  [('sony ericsson w850i', 9.435373399414521), ('samsung galaxy note 2', 9.364571978214983), ('nokia c1 01', 9.326088798257464), ('samsung galaxy a5 2016', 9.24312946079626), ('motorola moto e', 9.188502500779267)] \n",
      "\n",
      "bedduamiz ->  [('htc p4350', 9.694114549851284), ('samsung f400', 9.670963582673302), ('sony ericsson z550i', 9.568206460164822), ('nokia 7390', 9.511907385553732), ('sony ericsson w950i', 9.486119984754602)] \n",
      "\n",
      "Qantas ->  [('htc one xplus', 9.636756971641631), ('samsung wave s8500', 9.227516026805334), ('huawei ascend g615', 9.156825135734794), ('nokia 700', 9.110519743891512), ('samsung galaxy note 2', 9.031164371527488)] \n",
      "\n",
      "Ð¡ÐµÑÐ³ÐµÐ¹ ->  [('inew v3', 9.8066078083402), ('nokia 2710', 9.533160169842692), ('lg optimus l3 ii e430 e425', 9.458360273818458), ('samsung galaxy 3 i5800', 9.425777834296643), ('apple iphone 6s', 9.387788888150821)] \n",
      "\n",
      "JM ->  [('apple iphone 6 plus', 9.164048195495763), ('samsung galaxy y pro b5510', 9.05590907371035), ('samsung galaxy mega 6 3 i9200', 8.919347560898723), ('samsung galaxy s7 edge', 8.48361386475038), ('samsung e1190', 7.70789378518147)] \n",
      "\n",
      "ÐÐ»ÐµÐºÑÐ°Ð½Ð´Ñ ->  [('huawei u8500', 9.736300854712141), ('xiaomi mi 3', 9.488918072000939), ('nokia n81', 9.40917171990324), ('sony xperia zr', 9.203238013925088), ('apple iphone se', 9.170084873866795)] \n",
      "\n",
      "Florian ->  [('benq siemens el71', 9.081907421909767), ('asus ze550kl', 9.022738051422944), ('lg nexus 4', 9.000756659383763), ('nokia 701', 8.972385810471609), ('sony xperia s', 8.709763352875422)] \n",
      "\n",
      "JosÃ© ->  [('asus zenfone 3', 9.625212213321301), ('samsung galaxy j7', 8.860560093269704), ('samsung galaxy s6 edge sm g925f', 8.579534976958215), ('huawei p8', 8.40771133527014), ('samsung g355 galaxy core ii', 8.275184751353198)] \n",
      "\n",
      "Andreas ->  [('nokia 3120 classic', 9.729502675613944), ('sony ericsson k770i', 9.715981087067904), ('samsung galaxy s plus', 9.364220737997632), ('sony ericsson xperia pro', 9.237551753067057), ('nokia 2710', 9.231267156315434)] \n",
      "\n",
      "???????????? ?????????? ->  [('nokia 515', 9.174885175649553), ('samsung galaxy note', 8.92112899136775), ('apple iphone 4s', 8.832067909274251), ('htc one x', 8.723673202662546), ('samsung galaxy nexus', 8.381493898863967)] \n",
      "\n",
      "Jenny ->  [('sony ericsson yari u100i', 9.647409725531222), ('samsung galaxy s4 zoom', 9.374964446689942), ('samsung galaxy a5', 8.66899592039609), ('nokia lumia 1020', 8.513123268717486), ('huawei p8 lite', 8.503692025410237)] \n",
      "\n",
      "Andi ->  [('sony ericsson cedar', 10), ('samsung galaxy j5', 9.69406194401357), ('microsoft lumia 640 xl', 9.639905660295057), ('htc 10', 9.060657197258758), ('motorola moto e', 8.976477190560336)] \n",
      "\n",
      "Bezlikiy_Djo ->  [('nokia 5320 xpressmusic', 9.5), ('nokia 1202', 9.226361663205127), ('nokia c7 277394', 8.819941935604435), ('samsung s5560', 8.549054872213503), ('lg c1100', 8.4)] \n",
      "\n",
      "James ->  [('htc desire eye m910x', 9.23741135716347), ('samsung galaxy j5 4g lte 5 2 inches', 8.99292562505708), ('huawei ascend p6', 8.621948901263943), ('apple iphone 5', 8.584442310531069), ('nokia 6021', 8.52216831321681)] \n",
      "\n",
      "rick2809 ->  [('lg x power', 10), ('motorola moto x play', 10), ('motorola moto g3', 10), ('samsung galaxy s7 edge', 10), ('apple iphone se', 10)] \n",
      "\n",
      "geveze ->  [('sony ericsson hazel', 10), ('palm treo 680', 10), ('lg gd900 232471', 10), ('htc incredible s', 10), ('htc sensation xe', 9.90556625661157)] \n",
      "\n",
      "Roman ->  [('samsung galaxy s6 edge sm g925f', 9.753993932841093), ('lg eclipse 4g lte', 9.275950608453394), ('huawei honor 6', 9.180800726312123), ('apple iphone', 9.14960610196685), ('sony xperia z 504642', 9.148740698016319)] \n",
      "\n",
      "alex ->  [('sony ericsson v600i', 10), ('lg dare vx9700', 9.2888101642532), ('samsung galaxy s7 789999', 9.12753873909701), ('samsung galaxy q', 9.071708409761877), ('doro phone easy 615', 9.011418968036004)] \n",
      "\n",
      "Sunny ->  [('sony xperia xa ultra', 9.353634079121875), ('huawei honor 4x', 9.009025864220263), ('motorola moto z play', 8.68311911652412), ('apple iphone 6s plus', 8.628321806781774), ('apple iphone 6s plus', 8.628321806781774)] \n",
      "\n",
      "Anonyme ->  [('lg gw620', 10), ('htc nexus one', 9.668586928900858), ('blackberry torch 9800', 9.216879650650291), ('sony ericsson xperia arc', 9.208008770871123), ('nokia n96', 9.09134463870793)] \n",
      "\n",
      "ÐÐ½ÑÐ¾Ð½ ->  [('sony xperia zr', 10), ('nokia x1 01', 10), ('sony xperia zr', 10), ('samsung galaxy j5 4g lte 5 2 inches', 9.573186447328037), ('lenovo p780', 9.544286813530892)] \n",
      "\n",
      "Mo ->  [('sony xperia sl', 10), ('lenovo vibe z', 10), ('cubot note s', 9.163100309536233), ('samsung galaxy s7 789999', 9.089663043592166), ('samsung focus flash', 8.803635763946549)] \n",
      "\n",
      "mike ->  [('lg g flex d958', 8.800260547969348), ('samsung galaxy note 2', 8.789848022267869), ('nokia 2710', 8.763140861079076), ('huawei ascend g750', 8.659150221685712), ('huawei honor 6x', 8.514601021531785)] \n",
      "\n",
      "Juan ->  [('huawei honor 6', 8.746853936635913), ('huawei ascend g525', 8.327755555395509), ('huawei ascend p1', 8.113233527518467), ('huawei ascend p1', 8.113233527518467), ('acer liquid e2', 8.062578076883298)] \n",
      "\n",
      "monica ->  [('samsung galaxy core prime', 9.288387116507925), ('microsoft lumia 640 xl', 9.225106250962106), ('sony xperia e3', 9.112054255932247), ('samsung galaxy j5 4g lte 5 2 inches', 8.964276828506073), ('microsoft lumia 540', 8.897825377202679)] \n",
      "\n",
      "Ron ->  [('samsung galaxy note 2', 9.660682643681898), ('apple iphone 6 plus', 9.444739884088975), ('huawei p8 lite', 9.050454300384784), ('nokia 3720', 8.835071435752063), ('lg g2 594708', 8.66130235281177)] \n",
      "\n",
      "Scott ->  [('motorola moto g', 9.649261910846425), ('lg g2 594708', 9.094651448954865), ('apple iphone 5s', 8.633645197503332), ('motorola w385', 8.484784099301052), ('samsung galaxy s6 edge sm g925f', 8.08859363907669)] \n",
      "\n",
      "Raj ->  [('nokia 9500 communicator', 10), ('nokia lumia 520', 7.975213456133635), ('nokia lumia 520', 7.975213456133635), ('samsung galaxy j3 duos', 7.972384214912849), ('lenovo vibe x3', 7.916147042662961)] \n",
      "\n",
      "Mac ->  [('huawei honor 6', 9.64194136782125), ('htc desire 601', 9.508662877058331), ('samsung c3050', 9.297883719867194), ('samsung galaxy s iii', 9.06999502270839), ('nokia lumia 620', 8.562770403578575)] \n",
      "\n",
      "Dominik ->  [('acer liquid z5 duo', 10), ('samsung galaxy s5', 9.484899810171338), ('huawei p8 lite', 9.002710908689913), ('htc one xplus', 8.953411174574699), ('sony xperia z1', 8.89193180685288)] \n",
      "\n",
      "Fabian ->  [('sony ericsson xperia arc', 8.952632964493372), ('samsung galaxy j7 2016', 8.796631723306552), ('huawei honor 6x', 8.68819896181946), ('samsung galaxy s6 edgeplus', 8.4117709652349), ('cubot note s', 8.28135561303768)] \n",
      "\n",
      "Vincenzo ->  [('motorola moto x 1 moto x1 moto x 2nd gen', 10), ('microsoft lumia 640 dual sim', 9.338662539667515), ('lg e450 optimus l5 ii', 9.324479214926903), ('lg e450 optimus l5 ii', 9.324479214926903), ('motorola moto z play', 9.124335130844049)] \n",
      "\n",
      "Kindle-Kunde ->  [('microsoft lumia 640 xl', 9.283042486459346), ('nokia lumia 630', 8.779584192404283), ('samsung s5230', 8.772273947414646), ('samsung galaxy note 2', 8.225932796171403), ('samsung galaxy note 2', 8.225932796171403)] \n",
      "\n",
      "Rajesh ->  [('samsung galaxy s5', 9.350753360356842), ('lenovo zuk z1', 9.249050100540487), ('google nexus 6p', 9.211724055232892), ('samsung galaxy j3 duos', 8.471020166844927), ('lenovo vibe x3', 8.377254202959332)] \n",
      "\n",
      "Tim ->  [('nokia 1209', 10), ('samsung galaxy s4 mini gt i9190 gt i9192 dual sim', 9.319582209128747), ('samsung sph m310 slash virgin', 9.216760165774799), ('sharp gx25 gz200', 9.03925196602008), ('samsung galaxy j5 4g lte 5 2 inches', 9.010083032572636)] \n",
      "\n",
      "Me ->  [('acer liquid e', 9.115348380879968), ('htc desire z', 8.884791878836246), ('sony xperia z ultra', 8.496145522473624), ('huawei p9 lite', 8.296116972204446), ('sony xperia xa ultra', 7.863572245519219)] \n",
      "\n",
      "Mattia ->  [('huawei ascend y550', 9.822222869077665), ('huawei nova plus', 9.796362782779354), ('nokia lumia 735', 9.677219489980358), ('nokia 107', 9.656196724050059), ('nokia lumia 625', 9.420156828024778)] \n",
      "\n",
      "ÐÐ°ÑÑÑ ->  [('apple iphone se', 9.506054342268815), ('sony xperia tx', 9.46488808407396), ('samsung galaxy a5', 8.815129671792421), ('apple iphone 6s plus', 8.652513745250026), ('nokia n8', 8.618756517216186)] \n",
      "\n",
      "miguel ->  [('nokia 6100', 10), ('alcatel onetouch 20 04', 9.525435960963446), ('alcatel idol 3 5 5 6045y', 9.109237949024813), ('samsung galaxy s6', 9.095492933117654), ('sony ericsson live with walkman', 8.988207124027971)] \n",
      "\n",
      "ÐÐ»Ð°Ð´Ð¸ÑÐ»Ð°Ð² ->  [('huawei ascend mate', 10), ('nokia lumia 930', 9.83414805402622), ('samsung champ gt c3300k', 9.760141199514383), ('sony xperia zl', 9.716846891899486), ('samsung galaxy note 2', 9.691516734749753)] \n",
      "\n",
      "Klaus ->  [('huawei u8850 vision', 9.222088056531609), ('nokia 800', 8.793570252251065), ('lg h410', 8.61189346579642), ('huawei ascend p7', 8.589019787717167), ('sony ericsson k550i', 8.54485832029772)] \n",
      "\n",
      "barbiella ->  [('nokia 6267', 9.452855154379554), ('samsung i450', 9.438490910827213), ('blackberry 7290', 9.424909487822644), ('nokia 7390', 9.412484249524153), ('nokia 6120 classic', 9.303577269229013)] \n",
      "\n",
      "Patricia ->  [('apple iphone se', 9.69599189303527), ('huawei p8', 9.434401760762485), ('samsung galaxy s ii plus', 9.080154050501413), ('nokia lumia 735', 9.025864812218195), ('microsoft lumia 640 dual sim', 8.937768525752698)] \n",
      "\n",
      "?????????????? ?????????????? ->  [('sony xperia v', 9.76793864347734), ('samsung gt i8160', 9.196973388253435), ('huawei honor', 8.914826452754651), ('sony xperia s', 8.608486055204164), ('alcatel ot 918d', 8.47973476727529)] \n",
      "\n",
      "Jay ->  [('nokia 2710', 9.983099224611943), ('motorola moto e', 9.442244860864967), ('motorola moto g', 9.29747377673092), ('huawei p8', 9.232876434196099), ('apple iphone 4s', 9.181144860851234)] \n",
      "\n",
      "emre ->  [('samsung galaxy note 5 sm n920f', 9.295638547891016), ('samsung galaxy s advance gt i9070', 9.164295704376155), ('apple iphone 4s', 8.837800368619364), ('nokia 5800 xpressmusic tube', 8.7980288004752), ('samsung galaxy s6', 8.783575971667167)] \n",
      "\n",
      "Paulo ->  [('lg k10', 8.767583110903935), ('sony xperia z5', 8.384105966910337), ('asus zc551kl', 8.27038074377775), ('samsung galaxy j3 duos', 8.258409764989858), ('samsung c3222', 8.137686933017012)] \n",
      "\n",
      "MM ->  [('nokia 7360', 9.92360967721276), ('blackberry z10', 8.608009454992004), ('nokia e6', 8.406546873329422), ('htc desire 816', 8.395609385036654), ('motorola c139', 7.850577443326378)] \n",
      "\n",
      "Jim ->  [('lg optimus g pro', 9.52514149880398), ('motorola moto e', 9.380869351962067), ('samsung i9500 galaxy s iv', 9.212594988996932), ('huawei p9 lite', 8.767375274777068), ('nokia lumia 920', 8.71377833851973)] \n",
      "\n",
      "Daniele ->  [('huawei ascend y550', 9.556874998230459), ('asus zenfone 3', 9.493513248391993), ('lg h410', 9.476895500213466), ('lg e450 optimus l5 ii', 9.302587062397036), ('sony xperia m', 9.191827046452532)] \n",
      "\n",
      "Filippo ->  [('samsung galaxy a5 2016', 9.672211672129608), ('samsung galaxy grand neo gt i9060', 9.097875845178457), ('lg g5', 8.936366962398331), ('samsung nexus s', 8.834725034525457), ('nokia lumia 625', 8.776097563572051)] \n",
      "\n",
      "G ->  [('nokia 130', 8.21949546863356), ('huawei honor 6', 8.021652864441153), ('lg k8', 7.980334968390965), ('htc sensation xe', 7.931099184904939), ('nokia 6600 slide', 7.6772797221690485)] \n",
      "\n",
      "ÐÐ°Ð´ÐµÐ¶Ð´Ð° ->  [('samsung galaxy s3 mini', 9.794974126839831), ('apple iphone 7', 9.778435615021221), ('samsung galaxy a5', 9.741289650796872), ('samsung s5230', 9.677258640940689), ('samsung galaxy j3 duos', 9.630446122267506)] \n",
      "\n",
      "ceren2006 ->  [('samsung s5610', 9.864509656594441), ('lg gd900 232471', 9.66176484500104), ('lg gc900', 9.59292282995221), ('samsung s3850', 9.412800209107939), ('samsung i450', 9.407955716104155)] \n",
      "\n",
      "nick ->  [('apple iphone 6s plus', 9.393474973220572), ('samsung galaxy j7 2016', 9.094687566317948), ('alcatel one touch idol ultra', 8.540298395008676), ('samsung galaxy j7 prime', 8.473326249183433), ('samsung galaxy s5 mini', 8.009054249360426)] \n",
      "\n",
      "Jeff ->  [('google nexus 6p', 9.694056332191824), ('tp link archer t6e', 9.60783786723352), ('apple iphone 7', 9.175708354013045), ('lg g2 594708', 9.168026665937557), ('htc titan', 8.815580769639794)] \n",
      "\n",
      "Kevin ->  [('sony ericsson w710i', 9.0), ('samsung ativ s', 8.646550119243738), ('nokia lumia 930', 8.604830402722163), ('asus zenfone 2', 8.580713467769693), ('samsung galaxy a3 819970', 8.452315850008047)] \n",
      "\n",
      "Ð®Ð»Ð¸Ñ ->  [('nokia x1 01', 10), ('samsung galaxy s4 zoom', 9.960294607319435), ('huawei honor 8', 9.659730189295654), ('nokia 5130 xpressmusic', 9.538549147695171), ('samsung galaxy s4 mini gt i9190 gt i9192 dual sim', 9.452024679853444)] \n",
      "\n",
      "Christian ->  [('alcatel one touch 995', 9.872923105980373), ('nokia lumia 730', 9.806725724244066), ('nokia lumia 735', 9.688403197863465), ('samsung galaxy s iii neo i9300i', 9.037061995667631), ('samsung ativ s', 9.031216916924622)] \n",
      "\n",
      "ZÃ¡kaznÃ­k ->  [('apple iphone 6s', 10), ('nokia 105', 9.685955156195583), ('nokia 105', 9.685955156195583), ('asus zenfone 5', 9.640763720805616), ('asus zenfone 5', 9.640763720805616)] \n",
      "\n",
      "Richard ->  [('huawei p8', 9.45554167200272), ('huawei ascend mate', 9.268141305862612), ('samsung s7550', 9.189504754874099), ('sony xperia z3', 9.10794221177166), ('samsung galaxy mega 6 3 i9200', 9.09820216333979)] \n",
      "\n",
      "Rebecca ->  [('motorola moto g', 9.493143640606277), ('vodafone smart mini', 9.0), ('apple iphone se', 8.944400451320195), ('motorola moto x', 8.55398857366333), ('htc one a9 16gb', 8.254334203854999)] \n",
      "\n",
      "Marion ->  [('samsung galaxy y pro duos', 10), ('huawei ascend y300', 9.32954378477709), ('samsung galaxy a3 2016', 8.529435154483755), ('doro phone easy 615', 8.275251150664557), ('sony ericson w580i', 8.03458006382421)] \n",
      "\n",
      "Ð¢Ð°ÑÑÑÐ½Ð° ->  [('samsung sgh c100', 9.854691577370888), ('nokia x2 00 358331', 9.749967701226051), ('apple iphone se', 9.616231394645139), ('samsung wave 525 s5250', 9.406905515290571), ('samsung galaxy note 2', 9.377608492299652)] \n",
      "\n",
      "Erkek ->  [('lg optimus g', 10), ('huawei g610', 9.692788593664044), ('nokia lumia 720', 9.68624351678882), ('nokia lumia 925', 9.499416487072969), ('nokia lumia 925', 9.499416487072969)] \n",
      "\n",
      "Eric ->  [('htc amaze 4g', 10), ('asus zenfone 3', 9.898143669125389), ('htc one m8s', 9.746693535143523), ('google nexus 6p', 9.20226762105138), ('google nexus 6p', 9.20226762105138)] \n",
      "\n",
      "sara ->  [('alcatel one touch 997d ot 997d', 9.366797430131626), ('motorola moto g', 8.91216886619555), ('motorola moto g', 8.91216886619555), ('samsung galaxy mini 2 s6500', 8.616552810373145), ('lg spirit 4g', 8.606887963641627)] \n",
      "\n",
      "Hannah ->  [('htc one mini', 8.818808936557277), ('nokia lumia 520', 8.252603047858308), ('alcatel ot 991d', 8.226005182505444), ('apple iphone 5', 7.976285030265747), ('blackberry pearl 8130', 7.767730281872684)] \n",
      "\n",
      "ÐÐ³Ð¾Ñ ->  [('nokia 800', 9.755874872913337), ('asus zenfone 6', 9.465962880120475), ('samsung focus flash', 9.457283647440525), ('sony xperia sp', 9.337361307463285), ('htc desire v', 9.309407255979469)] \n",
      "\n",
      "Julio ->  [('motorola moto x', 9.541561518534674), ('doogee dagger dg550', 8.640994805980192), ('lg l fino', 8.372521874333724), ('blu win jr', 8.240569972744302), ('huawei p9 lite', 7.9585817345907985)] \n",
      "\n",
      "ÐÐ°ÑÐ¸Ð½Ð° ->  [('lenovo ideaphone a706', 9.594780098635107), ('samsung galaxy a3', 9.497432067953708), ('samsung i9500 galaxy s iv', 9.184538079531874), ('samsung galaxy s6', 9.152911055214659), ('huawei g610', 9.069439462961602)] \n",
      "\n",
      "Miguel ->  [('sony xperia p', 9.178417095256364), ('samsung galaxy s7 789999', 8.919710976249553), ('samsung galaxy s3 mini', 8.898784936798812), ('huawei honor 7', 8.835395089977933), ('samsung galaxy s7 edge', 8.744719295873606)] \n",
      "\n",
      "# ->  [('sony ericsson w200i', 10), ('samsung galaxy sl i9003', 9.957394876548259), ('nokia 6303i', 9.689080599863248), ('nokia 5530 xpressmusic', 9.463083150062051), ('nokia 5530 xpressmusic', 9.463083150062051)] \n",
      "\n",
      "patricia ->  [('nokia 1209', 9.91789850542508), ('nokia x2 01 357765', 8.431024601060727), ('samsung galaxy grand neo plus gt i9060i', 8.376457579206047), ('cubot s222', 8.303727725916778), ('lg k10', 8.234695582259619)] \n",
      "\n",
      "Claudio ->  [('xiaomi mi 3', 10), ('huawei honor 4x', 9.741618729801207), ('asus zenfone 3', 9.654495053577481), ('samsung galaxy s ii plus', 9.636693562660342), ('lg k10', 9.249041159341509)] \n",
      "\n",
      "Charles ->  [('samsung galaxy mega 6 3 i9200', 10), ('acer liquid s1', 9.469340299354283), ('samsung galaxy alpha', 9.317095827661115), ('motorola moto g', 9.018731720256687), ('motorola moto g', 9.018731720256687)] \n",
      "\n",
      "tony ->  [('samsung galaxy j5', 9.728533146367337), ('lg optimus g pro', 9.643636322723108), ('motorola moto x', 9.151344638376909), ('samsung galaxy grand neo plus gt i9060i', 8.970221819067214), ('sony xperia z1 compact d5503', 8.951264486917518)] \n",
      "\n",
      "Bruce ->  [('samsung c3590', 9.421258108664173), ('samsung galaxy a5 2017', 9.228893825978192), ('lg 221c', 9.042456988841726), ('nokia lumia 830', 8.738199823470739), ('samsung sch u450', 8.344637257042868)] \n",
      "\n",
      "thomas ->  [('sony xperia j', 9.465228516215427), ('motorola razr v3i', 9.46102441894356), ('lg g2 594708', 9.435659621832984), ('samsung galaxy s ii', 9.424846452609664), ('samsung galaxy a3 2016', 9.30078757419991)] \n",
      "\n",
      "Ð®ÑÐ¸Ð¹ ->  [('samsung galaxy sl i9003', 10), ('lg optimus g', 10), ('sony ericsson cedar', 10), ('samsung wave 3', 9.874452007493424), ('huawei honor 8', 9.867630324312318)] \n",
      "\n",
      "Elisa ->  [('lg optimus g', 9.622942424513814), ('nokia 206', 9.008839354504214), ('samsung galaxy s5 neo sm g903f', 8.92549051088086), ('samsung galaxy grand duos i9080 i9082', 8.840640699458927), ('acer liquid e2', 8.513096927606284)] \n",
      "\n",
      "doomer ->  [('nokia 7710', 10), ('sony ericsson w810i', 9.392245141706772), ('panasonic x60', 9.0), ('samsung sgh e250', 6.957171364587342), ('sony ericsson k810i', 6.931500247450195)] \n",
      "\n",
      "huliye ->  [('nokia n81', 9.61654166175043), ('blackberry 7290', 9.57733485198407), ('nokia 5800 navigation edition', 9.50826965812646), ('lg ku380', 9.462066152152914), ('sony k790i', 9.408707056400722)] \n",
      "\n",
      "T ->  [('huawei ascend mate', 9.29818054703635), ('samsung galaxy s5', 9.255192449609154), ('sony xperia x compact', 8.117380024827966), ('samsung galaxy avant', 7.9720325585785945), ('sony xperia z 504642', 7.799682143100107)] \n",
      "\n",
      "Gaurav ->  [('motorola moto g4', 9.678057524893232), ('nokia lumia 720', 9.193717070676941), ('samsung gt e1200', 7.9569208828969895), ('nokia n8', 7.761274077363477), ('samsung galaxy s duos s7562', 7.742066449164409)] \n",
      "\n",
      "mario ->  [('nokia n8', 9.410922791458605), ('samsung instinct sph m800', 9.146198091437501), ('samsung g7102 galaxy grand 2', 9.13094055188417), ('blackberry passport', 8.883553269839247), ('huawei y6', 8.691319412172904)] \n",
      "\n",
      "Enrique ->  [('doogee voyager2 dg310', 8.936322679880284), ('lg p880 optimus 4x hd', 8.866934027688957), ('lg google nexus 5', 8.615038374824424), ('samsung galaxy s5', 8.51897629248717), ('huawei honor 7', 8.508097602103167)] \n",
      "\n",
      "ÐÐ°ÐºÑÐ¸Ð¼ ->  [('samsung galaxy a5 2016', 9.782642904124485), ('nokia lumia 930', 9.421024136061257), ('samsung galaxy grand duos i9080 i9082', 9.3121952407975), ('nokia 5230', 9.227664927839843), ('samsung galaxy j7 2016', 9.17501670397677)] \n",
      "\n",
      "ÐÐ²Ð³ÐµÐ½Ð¸Ñ ->  [('samsung galaxy a5 2016', 9.19633966572868), ('lg x power', 9.046945178886432), ('samsung galaxy s4 mini gt i9190 gt i9192 dual sim', 8.869734938408406), ('sony xperia m', 8.854670925746703), ('sony xperia l', 8.775939708676695)] \n",
      "\n",
      "jay ->  [('blackberry z30', 7.788014644867337), ('nokia lumia 1520', 7.341821801500097), ('motorola moto e 2 lte', 7.235088454690079), ('asus zenfone 3', 7.201225272281268), ('motorola motozine zn5', 6.8799845591068935)] \n",
      "\n",
      "???????????? ?????????????? ->  [('nokia lumia 820', 8.732601496520381), ('samsung galaxy note', 8.487323460238915), ('lenovo a660', 8.296056084626603), ('htc desire sv', 8.186871921478565), ('htc one x', 8.186816668830897)] \n",
      "\n",
      "Alfonso ->  [('samsung galaxy grand neo gt i9060', 9.800273186317813), ('thl w200', 9.31409825063343), ('nokia 100', 9.216295548766789), ('google nexus 6p', 9.127432854149182), ('alcatel idol 3 5 5 6045y', 8.747151376186677)] \n",
      "\n",
      "ÐÑÑÑÐ¼ ->  [('nokia 6500 classic', 9.836692329453609), ('samsung galaxy s4 zoom', 9.815322704273173), ('samsung galaxy a5', 9.652831745132078), ('samsung galaxy j3 duos', 9.469884388390945), ('samsung galaxy s5', 9.448061434680318)] \n",
      "\n",
      "Diego ->  [('lg gb250', 9.949579831932773), ('cubot gt99', 9.8245935617542), ('huawei honor 6', 9.7134970141621), ('samsung ativ s', 9.597966168888114), ('cubot x9', 9.448334686348252)] \n",
      "\n",
      "Donna ->  [('samsung galaxy s6 edge sm g925f', 9.778889448193066), ('apple iphone 7', 9.489294040956679), ('samsung sgh s425', 8.622593458268657), ('samsung galaxy s ii', 8.23392378317008), ('nokia lumia 520', 8.052401174452514)] \n",
      "\n",
      "victor ->  [('ttfone pluto', 10), ('xiaomi mi 3', 9.368389154123745), ('motorola moto g', 9.324819767838427), ('samsung monte s5620', 9.217537909158741), ('sanyo pro 700', 9.04975759024747)] \n",
      "\n",
      "Amazon customer ->  [('blackberry passport', 9.747192422759747), ('apple iphone 4s', 9.414089382622317), ('lg optimus g pro', 8.984368682617493), ('samsung galaxy s6 edge sm g925f', 8.626152930665164), ('htc desire 816', 8.54192361530112)] \n",
      "\n",
      "S ->  [('huawei p8 lite', 9.558991262694267), ('huawei p8 lite', 9.558991262694267), ('samsung galaxy s ii', 8.985057083659587), ('samsung galaxy pocket', 8.731087627458647), ('samsung galaxy s4 mini gt i9190 gt i9192 dual sim', 8.62850485616405)] \n",
      "\n",
      "ana ->  [('lg optimus l3 e405', 8.67913706738672), ('lg l70', 8.585922108395406), ('motorola moto g', 8.14248939659125), ('htc desire c golf wildfire c', 7.9706776889046465), ('lg g2 594708', 7.827331429215428)] \n",
      "\n",
      "ÐÐ½Ð°ÑÑÐ°ÑÐ¸Ñ ->  [('lg k10', 9.269095669068406), ('samsung galaxy j5', 9.069277646477449), ('huawei p9 797082', 9.022557945543273), ('samsung galaxy s3 mini', 8.933383935461674), ('samsung galaxy s ii', 8.922331201300723)] \n",
      "\n",
      "Eduardo ->  [('sony ericsson xperia pro', 9.916880411925055), ('samsung galaxy s5', 9.04631632834841), ('samsung galaxy mega 6 3 i9200', 8.994963998044861), ('asus ze550kl', 8.992739946974492), ('microsoft lumia 640 dual sim', 8.981704654957438)] \n",
      "\n",
      "simone ->  [('archos 45 platinum', 10), ('huawei p9 plus', 9.645434878055573), ('blackberry curve 8900', 9.378685451459166), ('asus zenfone 2 ze551ml', 9.225974283733654), ('microsoft lumia 640 dual sim', 8.961696785432094)] \n",
      "\n",
      "Lorenzo ->  [('lg k500n', 9.670438238328439), ('huawei ascend g7', 9.389858167903324), ('samsung galaxy a5 2016', 9.229897248800736), ('samsung galaxy j7 2016', 9.188578097753178), ('samsung galaxy grand neo plus gt i9060i', 9.162091382448999)] \n",
      "\n",
      "claudio ->  [('huawei honor 7', 9.549855653486759), ('philips 355', 9.487993266843592), ('lg h410', 8.834681379241086), ('htc desire 310', 8.83219014376048), ('samsung galaxy a5', 8.825203585616487)] \n",
      "\n",
      "ÐÐ¸ÑÐ¸Ð»Ð» ->  [('sony xperia zr', 9.961965645199456), ('lg l90 d410', 9.868680046819094), ('apple iphone 6s plus', 9.76937164924414), ('samsung galaxy s4 zoom', 9.755060323149966), ('samsung galaxy note 2', 9.643627953639237)] \n",
      "\n",
      "Riccardo ->  [('google nexus 6p', 9.478755424901532), ('htc one m8s', 9.408077391820314), ('samsung galaxy note 2', 9.146356871795279), ('sony xperia z1', 9.013954252711336), ('motorola moto g3', 9.006112710049305)] \n",
      "\n",
      "fernando ->  [('sony xperia p', 8.305238156974294), ('nokia lumia 620', 8.198277983399826), ('lg k10', 7.9999951787290104), ('huawei honor 6', 7.929451335305547), ('huawei honor 6x', 7.855614161402231)] \n",
      "\n",
      "Giorgio ->  [('samsung gt e1270', 9.344040823296625), ('motorola moto g', 9.032835232075008), ('huawei g610', 8.968224131209949), ('huawei p9 lite', 8.846795778684614), ('huawei p9 lite', 8.846795778684614)] \n",
      "\n",
      "Bert ->  [('samsung galaxy s6 edge sm g925f', 9.703535320445203), ('nokia lumia 630', 9.639018126839257), ('huawei p8 lite', 9.494731481296663), ('nokia 130', 9.33633477051951), ('wiko getaway', 9.329021553232167)] \n",
      "\n",
      "Giuseppe ->  [('htc desire 816', 9.651362821093896), ('blackberry passport', 9.59738453857023), ('asus zenfone 3', 9.35555276140626), ('nokia 105', 9.213536959712416), ('samsung ativ s', 9.164316955221976)] \n",
      "\n",
      "Cristina ->  [('huawei p8 lite', 9.33055341679458), ('samsung galaxy s5', 8.89862134616476), ('meizu m3s', 8.82845395234049), ('huawei ascend p7', 8.796268054863082), ('samsung galaxy pocket', 8.711369759020693)] \n",
      "\n",
      "Kelly ->  [('samsung galaxy s8', 10), ('blackberry priv', 9.626825251158513), ('samsung galaxy s7 789999', 9.357093367803806), ('apple iphone 4', 8.715743089035861), ('sony ericsson xperia x10', 8.433758380336522)] \n",
      "\n",
      "Francesca ->  [('huawei shotx', 10), ('motorola moto x 1 moto x1 moto x 2nd gen', 9.721824176538092), ('asus zenfone 3', 9.658920975137443), ('sony xperia z5', 9.546053700133061), ('huawei p9 797082', 9.464779570870313)] \n",
      "\n",
      "Ignacio ->  [('huawei p9 lite', 9.571328795445947), ('motorola razr i', 9.455144457948695), ('motorola moto g', 8.688919170549376), ('google nexus 5x h791', 8.176495174159676), ('blackberry z10', 8.127692748977676)] \n",
      "\n",
      "Mark ->  [('nokia n gage qd', 10), ('microsoft lumia 640 dual sim', 9.740818753345854), ('blackberry passport', 9.598149317997233), ('samsung galaxy s7 edge', 9.271954347934429), ('sony xperia z5', 9.25685519277067)] \n",
      "\n",
      "Domenico ->  [('huawei shotx', 9.867848594844622), ('asus zenfone max zc550kl', 9.548112767823877), ('huawei honor 6', 9.3738825399912), ('alcatel idol mini 6012', 9.340519604215652), ('lg spirit c70 h440n', 9.295601168886185)] \n",
      "\n",
      "Sebastian ->  [('samsung s7580 galaxy trend plus', 9.544732460955771), ('samsung galaxy a5', 8.731860235812658), ('apple iphone 6s plus', 8.660603109270797), ('sony ericsson xperia ray', 8.641436402788496), ('huawei mate s', 8.62651232483887)] \n",
      "\n",
      "michele ->  [('meizu m3 note', 9.364473200930522), ('lg l90 d410', 8.999713115668818), ('motorola moto g', 8.840183365093914), ('samsung galaxy a5 2016', 8.813445459725488), ('nokia lumia 1320', 8.738189100653715)] \n",
      "\n",
      "Jon ->  [('lg google nexus 5', 9.714944515147316), ('samsung galaxy a5 2016', 9.31283205161472), ('apple iphone 4s', 9.070915049549939), ('samsung gt b2100', 9.002757292395994), ('samsung e1050', 8.967800457675473)] \n",
      "\n",
      "Jimmy ->  [('apple iphone se', 9.509231580043), ('samsung galaxy j7', 9.305632475593887), ('sony xperia xz', 8.63038473850318), ('sony ericsson naite j105', 8.213559369217544), ('samsung instinct sph m800', 8.174414186055213)] \n",
      "\n",
      "antonio ->  [('huawei ascend g620s', 9.377125904817746), ('huawei honor 6', 9.367382617211549), ('wiko lenny 3', 9.321452570400401), ('doro phoneeasy 612', 9.26767243355958), ('alcatel onetouch 20 04', 9.206817369151478)] \n",
      "\n",
      "salame ->  [('black berry 8700g', 9.772027926357655), ('blackberry 7290', 9.586255102014396), ('nokia 2310', 9.489742305755511), ('nokia 5800 navigation edition', 9.438078391162637), ('nokia 3110 classic', 8.993260264442112)] \n",
      "\n",
      "Arun ->  [('lenovo vibe k5 plus', 8.325256890851858), ('blackberry z30', 7.45975333965974), ('yu yureka plus', 7.346667269354828), ('google nexus 6p', 7.294956450011669), ('samsung galaxy s4 mini gt i9190 gt i9192 dual sim', 7.262874616212201)] \n",
      "\n",
      "Davide ->  [('samsung gt i8160', 9.455215077364402), ('samsung galaxy s4 zoom', 9.410790561164188), ('lg google nexus 5', 9.25867934249727), ('huawei honor 7', 9.250404077259235), ('huawei honor 6x', 9.244897336832059)] \n",
      "\n",
      "ozerbjk ->  [('nokia n81', 9.49892304938835), ('samsung i450', 9.493288269870478), ('samsung sgh g400', 9.465109098445293), ('samsung sgh i560', 9.463455961431382), ('sony ericsson k810i', 9.427935356614618)] \n",
      "\n",
      "Sandy ->  [('apple iphone 5s', 9.297543647023025), ('samsung galaxy s3 mini', 9.285925551303471), ('gionee m2', 9.162936742069531), ('blackberry z30', 9.123498329905646), ('nokia 113', 8.946242917737724)] \n",
      "\n",
      "ÐÐµÐ½Ð¸Ñ ->  [('samsung wave 723 gt s7230e', 9.715544753176104), ('lenovo p780', 9.479397310512553), ('lenovo ideaphone s820', 9.473807217332883), ('apple iphone 7', 9.366510591148241), ('nokia lumia 920', 9.34841518383031)] \n",
      "\n",
      "Leo ->  [('samsung galaxy note 2', 9.722575393836232), ('nokia e5', 9.573471686338154), ('nokia lumia 520', 9.277857128301928), ('samsung galaxy s ii', 9.253175475957695), ('samsung galaxy a7 2017', 9.028182104184696)] \n",
      "\n",
      "Kim ->  [('samsung galaxy s8', 10), ('huawei ascend mate 2', 9.21342105147732), ('samsung galaxy s6', 8.997774784801221), ('apple iphone 5s', 8.950213176361022), ('motorola moto g', 8.936000966161988)] \n",
      "\n",
      "Nina ->  [('samsung galaxy a3 819970', 9.697790395805713), ('huawei p9 lite', 9.647278911367328), ('lg optimus g', 9.086689538991852), ('samsung e2550', 8.691760698080236), ('apple iphone 5s', 8.447407664510482)] \n",
      "\n",
      "Nicole ->  [('lg optimus g', 9.551289772318077), ('lg l90 d410', 8.75215706199479), ('doro phoneeasy 612', 8.70277999658891), ('sony ericsson txt', 8.646022961691964), ('samsung galaxy s7 edge', 8.627295659013809)] \n",
      "\n",
      "Kindle Customer ->  [('samsung galaxy s6', 8.692360146367081), ('blu vivo xl', 8.60392441792746), ('lg cosmos 2', 8.529243286037765), ('samsung gt e1200', 8.443765768473893), ('htc one x', 8.409970053184995)] \n",
      "\n",
      "JB ->  [('samsung galaxy ace s5830', 9.439022597690025), ('nokia lumia 640 lte', 8.798541513287718), ('motorola moto z play', 8.77516726751547), ('nokia lumia 530', 8.69972470047562), ('lenovo vibe x3', 8.667291470403493)] \n",
      "\n",
      "MJ ->  [('motorola ve240', 9.695989264693303), ('nokia 105', 8.70942172726982), ('samsung galaxy grand prime ve sm g531f', 7.948283115343563), ('lenovo a516', 7.836363636363637), ('sony xperia z2', 7.614636613019717)] \n",
      "\n",
      "steve ->  [('samsung m819 galaxy mega', 8.81236264929179), ('lg vx 8300', 8.534128076504945), ('sony xperia xz', 8.367209542580502), ('samsung c3520', 8.226071154429365), ('samsung galaxy note iii', 8.110183826914016)] \n",
      "\n",
      "iboibo ->  [('nokia 5250', 9.755837747118226), ('samsung g810', 9.407405430297928), ('nokia x2', 9.344945592000773), ('nokia e51', 9.183785606271222), ('samsung sgh e370', 9.177746270812005)] \n",
      "\n",
      "Ana ->  [('samsung galaxy j5', 9.324048333050138), ('motorola moto g', 9.300833131698615), ('samsung galaxy s duos s7562', 9.161665388727371), ('huawei p8', 9.032829993345594), ('huawei honor 3', 8.54263584634678)] \n",
      "\n",
      "Victor ->  [('blackberry passport', 9.806799535142622), ('huawei ascend mate 7', 9.516898370933866), ('htc one m9', 9.33845195002789), ('samsung galaxy j5', 9.286010388167222), ('samsung galaxy j5 4g lte 5 2 inches', 9.12320209199248)] \n",
      "\n",
      "Stephanie ->  [('samsung galaxy s6', 8.908754617857985), ('huawei y635', 8.537949595932798), ('samsung galaxy core prime', 7.787594387596302), ('nokia c2 01', 7.662013234651131), ('palm treo 650', 7.5774226976022625)] \n",
      "\n",
      "Patrick ->  [('lg optimus g', 9.596057026398661), ('google nexus 6p', 9.555473041416349), ('apple iphone 7', 9.237008792358159), ('huawei honor', 9.123261701774162), ('nokia lumia 635', 8.835713714172748)] \n",
      "\n",
      "Angie ->  [('nokia 105', 9.270687292004252), ('lg arena km900', 8.621256394030922), ('samsung galaxy note iii', 8.616114164698004), ('samsung e950', 7.990987858486397), ('samsung galaxy music duos s6012', 7.857680408060875)] \n",
      "\n",
      "ÐÐ°ÐºÑ ->  [('sony xperia tx', 9.72779017963872), ('nokia 101', 8.726963113089756), ('samsung champ gt c3300k', 8.664888443219551), ('htc desire hd', 8.638282415470922), ('sony xperia l', 8.61696011055395)] \n",
      "\n",
      "Kiran ->  [('lenovo a6000', 9.782936247638006), ('apple iphone 6s plus', 9.656625885865578), ('samsung galaxy a5 2016', 9.2423616761978), ('sony xperia z ultra', 9.041413369020685), ('yu yuphoria', 9.013226098369895)] \n",
      "\n",
      "?????????????? ?????????? ->  [('nokia asha 501', 8.876643791159905), ('nokia asha 302', 8.588306182586363), ('nokia asha 302', 8.588306182586363), ('alcatel ot 918d', 8.5397217484838), ('samsung c3782', 8.436694755606563)] \n",
      "\n",
      "Sam ->  [('samsung e1182', 9.553686711703618), ('cubot p7', 9.42011202056944), ('zte axon 7', 9.396762033350639), ('apple iphone 6s plus', 9.276653693597346), ('samsung galaxy a5 2016', 9.150015568418837)] \n",
      "\n",
      "ÐÐ¸ÐºÑÐ¾Ñ ->  [('lg optimus one p500', 9.761369634958857), ('samsung galaxy note 2', 9.491365301414783), ('samsung champ gt c3300k', 9.482178583752056), ('huawei ascend g700', 9.245473256922219), ('htc salsa', 9.224899598393574)] \n",
      "\n",
      "Gaetano ->  [('blackberry z30', 10), ('motorola moto g', 9.91079757753949), ('huawei honor 4x', 9.889525753973434), ('alcatel one touch pop c7 7041d', 9.6374983155817), ('huawei p8 lite', 9.527419138731199)] \n",
      "\n",
      "Francisco ->  [('bq aquaris x5', 9.248231662563825), ('samsung galaxy s7 789999', 9.144967836117203), ('alcatel onetouch 20 04', 9.05681668316829), ('nokia lumia 830', 8.881656609339112), ('microsoft lumia 640 xl', 8.874393962742449)] \n",
      "\n",
      "Foxylove ->  [('nokia 6120 classic', 8.883044662747164), ('nokia n8', 8.493465312280778), ('nokia 5300 xpressmusic', 7.722656424976171), ('nokia 6300', 7.55185212924076), ('nokia c5', 7.541709254512402)] \n",
      "\n",
      "Rachel ->  [('apple iphone 6', 9.13971938605085), ('apple iphone 5c', 8.742861298239607), ('huawei ascend mate 2', 8.471086469999975), ('lg g3 d855 657484', 8.293376767658108), ('motorola photon q lte', 8.269945652900368)] \n",
      "\n",
      "Giulio ->  [('asus zenfone selfie zd551kl', 9.431891156077032), ('huawei p8 lite 2017', 9.424817910288494), ('sony xperia z1', 9.377983666505182), ('wiko getaway', 9.12659853742829), ('samsung e1190', 9.118323585814185)] \n",
      "\n",
      "zeynep34 ->  [('siemens s75', 9.682072332598468), ('samsung genoa c3510', 9.669746738465356), ('nokia n9', 9.618829508620749), ('samsung corbypro b5310', 9.594637535286603), ('nokia e63', 9.577488215049932)] \n",
      "\n",
      "JR ->  [('nokia 700', 9.656109450474512), ('samsung galaxy s5', 9.367831996186688), ('sony xperia zl', 9.239241999874704), ('motorola moto g4', 9.043324410922866), ('asus zenfone 3 max', 8.973295090950305)] \n",
      "\n",
      "Alice ->  [('sony xperia z1 compact d5503', 9.36666478583501), ('samsung galaxy j5', 9.246331195065434), ('samsung galaxy s6 edgeplus', 8.757824045574115), ('samsung galaxy a3 2016', 8.576416771072143), ('samsung galaxy s3 mini', 8.38158556706299)] \n",
      "\n",
      "A ->  [('apple iphone 6s plus', 9.70312037666681), ('samsung galaxy s ii', 8.706543763682827), ('microsoft lumia 650', 8.599717290726074), ('lg optimus l5 e610', 8.236057407903566), ('asus zenfone 2', 8.158332812783582)] \n",
      "\n",
      "Giulia ->  [('microsoft lumia 640 dual sim', 9.889351998623543), ('huawei ascend y550', 9.791107912524879), ('lg g2 594708', 9.760021496916252), ('samsung galaxy j5', 9.693522070766422), ('asus zenfone 3', 9.647389441484338)] \n",
      "\n",
      "Jamie ->  [('blackberry pearl 8130', 9.857748776153002), ('samsung galaxy s7 789999', 9.137651571545893), ('nokia lumia 1320', 8.735035446999241), ('huawei honor 5x', 8.66115451936365), ('nokia lumia 930', 8.611481131933132)] \n",
      "\n",
      "Cindy ->  [('samsung galaxy s4 zoom', 10), ('lg vx 8300', 9.336291719025327), ('huawei p10', 9.005971191469651), ('samsung galaxy a3 819970', 8.862504256303124), ('apple iphone 7 plus', 8.761511121960728)] \n",
      "\n",
      "Brian ->  [('motorola moto x', 9.584803367493588), ('samsung galaxy s7 789999', 9.554387900698947), ('apple iphone 7 plus', 9.328962769561967), ('apple iphone 7', 9.126882629330247), ('samsung galaxy s i9000', 9.028773573414826)] \n",
      "\n",
      "Christoph ->  [('samsung galaxy j5 4g lte 5 2 inches', 8.700907529532184), ('siemens a70', 8.475512534848756), ('samsung galaxy s3 mini', 8.466229486028123), ('nokia n82', 8.417932235401459), ('samsung u800 soul', 8.22305242110132)] \n",
      "\n",
      "mrgreg ->  [('nokia 5320 xpressmusic', 9.5), ('samsung c260', 8.123854806819432), ('samsung wave s8500', 8.035541829054827), ('nokia x2 02', 7.063111911298453), ('lg a290', 7.040788024438624)] \n",
      "\n",
      "DJ ->  [('samsung galaxy s6 edge sm g925f', 8.169918223649303), ('zte axon 7', 7.726788527870686), ('motorola moto x 2', 7.710936186975257), ('lg eclipse 4g lte', 7.707212639912874), ('apple iphone 7', 7.617559134790157)] \n",
      "\n",
      "Michel ->  [('blackberry passport', 10), ('microsoft lumia 640 dual sim', 9.55364025152462), ('wiko cink slim', 9.532966430588997), ('sony xperia z5', 9.52898978897368), ('samsung galaxy s4 mini gt i9190 gt i9192 dual sim', 9.348810957447698)] \n",
      "\n",
      "Anja ->  [('htc one max', 9.204452032160507), ('sony xperia z 504642', 9.032894995917673), ('samsung galaxy s6', 8.626851916952981), ('sony xperia x dual f5122', 8.4719984750631), ('samsung galaxy s7 edge', 8.462033584607125)] \n",
      "\n",
      "Ray ->  [('motorola krave zn4', 9.985436146094756), ('huawei ascend p6', 9.48008106153219), ('samsung galaxy j3 duos', 9.36340478404306), ('samsung galaxy s4 mini gt i9190 gt i9192 dual sim', 9.08867812518132), ('lg k8', 9.016561966040118)] \n",
      "\n",
      "oscar ->  [('motorola moto e', 8.988753801137126), ('alcatel ot 355', 8.781386730928828), ('sony ericsson xperia arc', 8.465836563312996), ('motorola moto g4', 8.169022410856606), ('asus zenfone 2 ze551ml', 7.819016652606227)] \n",
      "\n",
      "Rita ->  [('xiaomi redmi 2', 9.704462362231189), ('sony xperia x compact', 9.093938536153697), ('sony xperia m', 8.685734396562568), ('cubot note s', 8.196408594739761), ('pantech crossover', 7.709802776638201)] \n",
      "\n",
      "Frank ->  [('htc incredible s', 9.617824399237701), ('nokia n8', 9.408439219032594), ('sony ericsson v600i', 9.362452157514225), ('samsung galaxy s iii neo i9300i', 9.27996147418095), ('apple iphone 7', 9.22592829044017)] \n",
      "\n",
      "Pasquale ->  [('huawei ascend y550', 9.88876140725001), ('thl w100', 9.664122090745774), ('nokia lumia 530', 9.395938039054007), ('huawei honor 6x', 9.300826850000544), ('microsoft lumia 640 dual sim', 9.25679040072288)] \n",
      "\n",
      "Pablo ->  [('huawei ascend honor 3c', 9.23850641825128), ('huawei p8', 9.139781339304431), ('blackberry passport', 9.026896397628885), ('samsung galaxy s3 mini', 8.691794087041652), ('lg g4', 8.687880954463665)] \n",
      "\n",
      "Roland ->  [('lg gm750', 10), ('huawei y635', 10), ('nokia c7 277394', 10), ('nokia lumia 920', 9.8829940588663), ('sony xperia l', 9.331201409170568)] \n",
      "\n",
      "MS ->  [('huawei ascend g7', 9.617110572906377), ('samsung gt b2710', 9.102464572056894), ('samsung galaxy s3 mini', 8.87506299471758), ('samsung galaxy s4 mini gt i9190 gt i9192 dual sim', 8.474306092550522), ('samsung galaxy s6 edgeplus', 8.261600550371506)] \n",
      "\n",
      "Martin ->  [('asus zc551kl', 9.323292927026817), ('samsung exhibit ii 4g', 9.282607000756995), ('samsung galaxy alpha', 8.925002567578762), ('huawei ascend p6', 8.844180658648199), ('apple iphone 7', 8.836992189827889)] \n",
      "\n",
      "Misafir ->  [('htc desire 600', 10), ('htc incredible s', 10), ('samsung champ duos e2652w', 10), ('nokia 5800 navigation edition', 9.964348484393769), ('samsung genoa c3510', 9.96133408191272)] \n",
      "\n",
      "Simon ->  [('acer cloudmobile', 9.432152116115173), ('asus zenfone 3', 9.010356581368224), ('htc desire x', 8.987108527733968), ('nokia lumia 925', 8.821896614002663), ('huawei honor 6', 8.653045945918382)] \n",
      "\n",
      "xawi ->  [('samsung sgh e840', 9.592138342772264), ('samsung p520', 9.515705836914888), ('samsung g810', 9.48221491925539), ('nokia 7360', 9.387218368676296), ('samsung d880 duos', 9.366990375372577)] \n",
      "\n",
      "Giovanni ->  [('huawei honor 7', 9.5955142635427), ('alcatel idol 3 5 5 6045y', 8.981390022102936), ('alcatel one touch pop c5 5036d', 8.970445616267964), ('samsung s5610', 8.75046767219556), ('apple iphone 5s', 8.69142141122702)] \n",
      "\n",
      "JP ->  [('google nexus 5x h791', 9.699861858012735), ('samsung i9500 galaxy s iv', 9.157838418939534), ('lg s5200', 9.0), ('samsung galaxy j7', 8.187107570253575), ('samsung galaxy a5 2016', 8.066817495079984)] \n",
      "\n",
      "JD ->  [('huawei honor 8', 9.768633751402952), ('nokia 808', 9.483106674534707), ('lg nexus 4', 9.253395686276455), ('lg cu500', 8.879790951315165), ('asus ze550kl', 8.84289525303261)] \n",
      "\n",
      "Yvonne ->  [('nokia 7260', 10), ('samsung galaxy s7 edge', 8.948520124560622), ('huawei p8', 8.69276712779715), ('lg leon 4g lte h340n', 8.555241986093321), ('samsung corby s3650', 8.402402559797885)] \n",
      "\n",
      "UK Guest ->  [('samsung sgh e720', 10), ('nokia 6100', 9.973811965643625), ('nokia 6600', 9.012525660715735), ('siemens a60', 8.182765005900581), ('samsung sgh e800', 8.0915928531997)] \n",
      "\n",
      "Johnny ->  [('samsung e1230', 8.78281772211261), ('archos 50 helium', 8.678413746911373), ('blackberry z30', 8.428491844596818), ('nokia lumia 930', 8.259017500302013), ('lg g4', 7.793307302636586)] \n",
      "\n",
      "alessandro ->  [('thl w100', 9.361418859955668), ('blackberry z30', 9.240990389947365), ('samsung ativ s', 9.208350290749038), ('sony xperia z ultra', 9.117199716208004), ('nokia 1110', 9.075138470689524)] \n",
      "\n",
      "gumusoje ->  [('acer betouch e130', 9.880952380952381), ('samsung s7550', 9.578954191267945), ('samsung e1075', 9.543217729623404), ('sony ericsson w950i', 9.500964372800002), ('samsung genoa c3510', 9.456314021982518)] \n",
      "\n",
      "Stefania ->  [('huawei ascend g620s', 9.332439695471741), ('samsung galaxy a3', 9.175797556700411), ('motorola moto g', 9.112946517781465), ('acer liquid e2', 8.855595603234542), ('wiko fever', 8.036336237849492)] \n",
      "\n",
      "AndrÃ© ->  [('huawei p8 lite', 9.39313027678807), ('huawei p8 lite', 9.39313027678807), ('samsung galaxy j5', 9.106496620103782), ('sony xperia xz', 8.678588922342634), ('nokia 6131', 7.841120489282148)] \n",
      "\n",
      "Marie ->  [('apple iphone 7', 9.515553321513178), ('samsung wave 723 gt s7230e', 9.232343792375156), ('sony xperia z1', 9.159133804619906), ('apple iphone 6s', 9.110036226723707), ('apple iphone 6s', 9.110036226723707)] \n",
      "\n",
      "Gabriel ->  [('sony xperia z5', 9.220788520199983), ('microsoft lumia 535', 9.163376814424685), ('nokia c6', 9.000597927749979), ('huawei w1', 8.875055395204749), ('sony ericsson xperia play', 8.867550834120028)] \n",
      "\n",
      "dilekh ->  [('samsung champ duos e2652w', 9.821076881292488), ('nokia 6303i', 9.665040930250976), ('nokia 7020', 9.478404559652537), ('samsung sgh e740', 9.475256818824374), ('nokia 7390', 9.471752461507556)] \n",
      "\n",
      "Carmen ->  [('lg optimus l9 p760', 9.414144051124847), ('huawei g610', 9.360874894566669), ('huawei p10 plus', 9.261772402422524), ('sony xperia z3 compact', 9.052281328100007), ('sony xperia z 504642', 8.774381919304707)] \n",
      "\n",
      "JesÃºs ->  [('acer liquid e2', 9.61077305636178), ('lg google nexus 5', 8.52933604036881), ('motorola moto g', 8.51009203953808), ('xiaomi redmi note 2', 8.405444299387183), ('doogee valencia 2 y100 pro', 8.33003469471983)] \n",
      "\n",
      "MK ->  [('blackberry z10', 8.625680686694757), ('doro phone easy 410 gsm', 8.597927787649326), ('huawei honor holly', 8.52692792363942), ('lg google nexus 5', 8.303781781409056), ('apple iphone 7', 8.266019218115702)] \n",
      "\n",
      "Christopher ->  [('samsung galaxy s7 edge', 9.697763035846197), ('samsung galaxy s6', 9.368526710055098), ('sony xperia z5', 9.201677226698138), ('samsung galaxy s ii', 9.134543740591749), ('huawei honor 5x', 9.117242052919417)] \n",
      "\n",
      "Rafael ->  [('samsung galaxy q', 10), ('lg optimus g e977', 9.912887557854694), ('sony ericsson xperia arc', 9.773333028350066), ('samsung galaxy a3 2016', 9.473792742224555), ('blackberry passport', 9.22601254097557)] \n",
      "\n",
      "Pilar ->  [('xiaomi mi 4c', 9.703595589860168), ('nokia 5140i', 8.97189398300495), ('microsoft lumia 640 xl', 8.90912742228012), ('samsung galaxy s6', 8.879611739687387), ('nokia c2 01', 8.786268937098713)] \n",
      "\n",
      "Julie ->  [('samsung galaxy a3 819970', 9.577282271500113), ('lg p713 optimus l7 ii', 9.354703571462476), ('apple iphone 6s plus', 8.765084767830636), ('samsung c3050', 8.598827962128215), ('huawei honor 5x', 8.50233364861232)] \n",
      "\n",
      "roberto ->  [('samsung galaxy j5', 9.479679672547944), ('huawei p9 plus', 9.43460519701492), ('sony ericsson w700i', 9.404415931816782), ('samsung galaxy note 3 neo 4g n7505', 8.993187899329117), ('samsung galaxy s iii neo i9300i', 8.977425116641797)] \n",
      "\n",
      "paolo ->  [('siemens a70', 9.854754212823972), ('cubot s208', 9.569378078091216), ('samsung galaxy j5', 9.522679675412377), ('huawei y6', 9.498863737154753), ('nokia 105', 9.448818478121364)] \n",
      "\n",
      "?????????????? ->  [('htc one x', 9.215422602032758), ('nokia x dual sim', 9.154176919221307), ('sony xperia s', 9.152323115115816), ('samsung galaxy note', 9.061984778776552), ('lenovo k900', 8.942004225012385)] \n",
      "\n",
      "Raquel ->  [('huawei p8 lite', 9.441568387783331), ('sony xperia p', 9.048031827968154), ('apple iphone 6', 8.86866535035936), ('motorola moto g4', 8.853550135297063), ('huawei ascend p7', 8.814091947515708)] \n",
      "\n",
      "ÐÐ¸ÑÐ°Ð»Ð¸Ð¹ ->  [('samsung sgh c100', 10), ('sony xperia tx', 9.873618813231166), ('huawei ascend mate 7', 9.790676908908006), ('huawei ascend mate', 9.726063969350522), ('samsung galaxy s4 mini gt i9190 gt i9192 dual sim', 9.36923372148572)] \n",
      "\n",
      "Rahul ->  [('micromax canvas a1', 9.224005501882626), ('xiaomi mi4', 9.135916411858432), ('oppo find 7', 9.122588064765193), ('oneplus one 64gb', 9.095180110415148), ('oneplus one 64gb', 9.095180110415148)] \n",
      "\n",
      "Valerio ->  [('asus zenfone 2', 9.262793001389111), ('acer liquid e2', 8.968013779904656), ('microsoft lumia 640 dual sim', 8.842984531924186), ('sony xperia x performance f8131', 8.830722656622976), ('lg g2 594708', 8.797623363367403)] \n",
      "\n",
      "Mary ->  [('samsung sgh e840', 9.668079415932114), ('asus zenfone 3 max', 9.446464294498238), ('apple iphone 7', 9.313303510831348), ('samsung galaxy j7', 9.207098863936343), ('huawei honor 7', 8.998017298657807)] \n",
      "\n",
      "sergio ->  [('xiaomi redmi 2', 8.847109976233568), ('apple iphone 4', 8.773087590087819), ('huawei ascend p7', 8.609375892509426), ('nokia 701', 8.51175945813334), ('sony xperia e3', 8.439169828897548)] \n",
      "\n",
      "?????????? ->  [('sony xperia p', 9.201709471625199), ('htc explorer', 9.141676955177015), ('nokia c2 05', 8.754310592766181), ('sony xperia v', 8.444392513086957), ('sony xperia v', 8.444392513086957)] \n",
      "\n",
      "Fernando ->  [('asus zenfone 3', 9.55689049551768), ('samsung galaxy s7 edge', 9.300840196005403), ('microsoft lumia 950', 9.10542381847077), ('microsoft lumia 640 xl', 8.802240808199704), ('samsung galaxy s4 mini gt i9190 gt i9192 dual sim', 8.703485227713347)] \n",
      "\n",
      "ÐÐ°ÑÐ¸Ñ ->  [('samsung wave 3', 9.965310898924757), ('samsung galaxy a7 2016', 9.912595497277692), ('huawei honor 8', 9.796457847647646), ('samsung wave s8500', 9.702956743111882), ('samsung galaxy j5', 9.549254912056501)] \n",
      "\n",
      "Jose Antonio ->  [('huawei p8', 9.143416184519769), ('huawei y635', 9.023933349874866), ('cubot s208', 8.51038880246061), ('samsung galaxy a5', 8.47864808815587), ('bq aquaris e5', 8.370814311044706)] \n",
      "\n",
      "Ð Ð¾Ð¼Ð°Ð½ ->  [('sony xperia sl', 10), ('samsung galaxy j7', 9.442312297730794), ('samsung galaxy j5 4g lte 5 2 inches', 9.421777248287956), ('sony xperia l', 9.360750956033193), ('asus zenfone 3', 9.360711792047685)] \n",
      "\n",
      "Manuela ->  [('nokia 5233', 10), ('apple iphone 6s plus', 10), ('samsung sgh e250', 9.820602116820123), ('samsung c3350', 9.782359038088664), ('wiko fever', 9.75484736347862)] \n",
      "\n",
      "laura ->  [('pantech matrix c740', 9.361492434917068), ('huawei honor 8', 9.280149125914884), ('samsung galaxy mini 2 s6500', 8.5789162585124), ('lg e440 optimus l4 ii', 8.458090052744538), ('lg g2 594708', 8.391247142981692)] \n",
      "\n",
      "Vincent ->  [('blackberry passport', 9.663194824589175), ('huawei p9 lite', 9.62387261308062), ('nokia lumia 635', 9.519337722536154), ('motorola moto g', 9.50443955886236), ('blackberry z10', 9.195901960081509)] \n",
      "\n",
      "Ronald ->  [('cubot gt99', 10), ('huawei p9 797082', 9.697996729463306), ('apple iphone 7', 9.54977415988063), ('samsung galaxy s7 edge', 9.459590827413054), ('samsung galaxy s ii', 9.385130111734359)] \n",
      "\n",
      "Joel ->  [('samsung galaxy s4 mini gt i9190 gt i9192 dual sim', 9.270647251746286), ('doro phoneeasy 612', 8.37311495787221), ('htc desire 816', 8.264447222263893), ('samsung galaxy note 2', 8.19551241738464), ('nokia lumia 530', 7.973505811793825)] \n",
      "\n",
      "???????????? ???????????? ->  [('lenovo k900', 9.652333221709725), ('nokia 808', 9.226412008631614), ('samsung galaxy nexus', 9.014661555768134), ('htc one x', 8.985237374527141), ('htc sensation xe', 8.802263330895308)] \n",
      "\n",
      "dolunay ->  [('samsung c6112', 9.62621793087522), ('samsung sgh i560', 9.540901152875433), ('nokia n81', 9.47664771130541), ('blackberry 7290', 9.408949158062354), ('samsung sgh e740', 9.404799089431444)] \n",
      "\n",
      "diego ->  [('lg g3 d855 657484', 9.727716301094638), ('nokia lumia 930', 9.70828942459607), ('huawei p8 lite', 9.316081569872761), ('samsung galaxy s7 active', 9.31318937577219), ('asus zenfone 2', 9.31154071297267)] \n",
      "\n",
      "massimo ->  [('huawei p9 plus', 10), ('huawei p8', 9.499892521252791), ('huawei p8 lite 2017', 9.457239934073934), ('motorola moto g', 9.451708239255066), ('huawei g610', 9.419575018555523)] \n",
      "\n",
      "francisco ->  [('motorola moto x play', 9.534079541900658), ('huawei p8 lite', 9.01263990817428), ('nokia 6131', 8.800545561992319), ('huawei ascend mate', 8.761153431181926), ('samsung galaxy core prime', 8.70835086560268)] \n",
      "\n",
      "Alexander ->  [('sony xperia z2', 9.441289922587934), ('huawei ascend p7', 9.111596618459183), ('apple iphone 6s plus', 9.022154603759683), ('samsung i9500 galaxy s iv', 8.962598474169441), ('sony ericsson txt', 8.925470732899974)] \n",
      "\n",
      "Jose Luis ->  [('samsung galaxy j5 4g lte 5 2 inches', 9.583872247239437), ('lenovo moto g4 play', 9.515731756424419), ('lg g2 594708', 9.22501852172003), ('alcatel onetouch 20 04', 8.347613226822363), ('samsung c3590', 8.305599132973914)] \n",
      "\n",
      "vijay ->  [('lenovo vibe k5', 8.928020497137743), ('apple iphone 5s', 8.707009624061715), ('lenovo vibe x3', 8.18605777041778), ('samsung galaxy s duos s7562', 7.160164253632645), ('htc one e8', 7.04011863855785)] \n",
      "\n",
      "Eva ->  [('samsung f400', 8.978179532232883), ('samsung galaxy s ii', 8.780497121010011), ('samsung sgh a177', 8.699343340227118), ('samsung galaxy s3 mini', 8.526480488437862), ('lg thrive p506', 8.170653302543343)] \n",
      "\n",
      "ÐÐ°Ð²ÐµÐ» ->  [('sony xperia c', 9.554174791822035), ('nokia 5310', 9.391661885749265), ('nokia lumia 925', 9.38580595936662), ('sony xperia z1 compact d5503', 9.290544938226931), ('asus zenfone 3 max', 9.265548705502255)] \n",
      "\n",
      "Alessio ->  [('samsung galaxy a5 2016', 9.844510138183123), ('huawei p9 lite', 9.525217820938877), ('huawei p8', 9.463344867158247), ('samsung galaxy j7 2016', 9.309557642937039), ('huawei ascend g525', 9.304537380358337)] \n",
      "\n",
      "ÐÐ»ÐµÐ³ ->  [('samsung galaxy note 2', 9.40045403669279), ('nokia 101', 9.382474665513449), ('htc p3300', 9.35136943330986), ('htc legend', 9.266587831533105), ('lenovo a369i', 9.016877563439149)] \n",
      "\n",
      "Karthik ->  [('apple iphone se', 9.56455834696617), ('nokia 206', 8.699707301088928), ('blackberry classic', 8.517748402520072), ('xiaomi mi4', 8.436881975161718), ('sony xperia z1', 8.40837602332897)] \n",
      "\n",
      "Alvaro ->  [('htc desire 500', 9.367845918531716), ('samsung galaxy note 2', 9.365619334365416), ('samsung ativ s', 8.997107821896893), ('xiaomi mi 3', 8.904239027634562), ('wiko lenny 3', 8.350258207659847)] \n",
      "\n",
      "rafael ->  [('huawei honor 6', 9.988415420801353), ('huawei honor 5x', 9.786878413144054), ('google nexus 6p', 9.613675942938997), ('alcatel idol 3 5 5 6045y', 9.113104622776936), ('samsung ch t 335', 9.110137849220978)] \n",
      "\n",
      "Rohit ->  [('xiaomi mi 4i', 9.259547868993785), ('xiaomi mi 4i', 9.259547868993785), ('apple iphone 5s', 8.68693006730228), ('micromax canvas turbo a250', 8.185048441349167), ('lenovo vibe x3', 8.179129121743006)] \n",
      "\n",
      "Angelo ->  [('samsung galaxy s ii plus', 9.772675506919134), ('thl 4000', 9.673183010026946), ('asus zenfone selfie zd551kl', 9.554770098576153), ('samsung galaxy s6 edgeplus', 9.544093863410287), ('huawei honor 4x', 9.190100324750256)] \n",
      "\n",
      "Paola ->  [('samsung galaxy j5 4g lte 5 2 inches', 9.777289903591278), ('siemens c55', 9.752843470577373), ('motorola moto e', 9.384233821127108), ('motorola moto e', 9.384233821127108), ('samsung g355 galaxy core ii', 9.175077537440487)] \n",
      "\n",
      "ÐÑÑÐµÑÐ»Ð°Ð² ->  [('samsung galaxy a5 2016', 9.830111414812936), ('sony xperia zr', 9.624284251456137), ('microsoft lumia 640 dual sim', 9.563004407800374), ('asus zenfone 3', 9.421533738268682), ('alcatel one touch 997d ot 997d', 9.176082309599362)] \n",
      "\n",
      "Steven ->  [('huawei p8', 9.95850659540396), ('samsung galaxy j5', 9.649325466604928), ('nokia lumia 930', 9.633571097380027), ('pantech crossover', 9.57545005506509), ('samsung galaxy s iii', 9.511438494088006)] \n",
      "\n",
      "jorge ->  [('lg nexus 4', 9.159135262728604), ('samsung exhibit ii 4g', 8.331030275064894), ('blackberry q10', 8.286644151650632), ('motorola moto x play', 8.150606885031904), ('sony xperia ion', 8.124653037613111)] \n",
      "\n",
      "Igor ->  [('samsung s3850', 10), ('asus zenfone 2 ze551ml', 9.251484999157032), ('sony ericsson xperia ray', 8.889899279778298), ('xiaomi mi 3', 8.835387989207574), ('samsung galaxy a7 2016', 8.820592006545033)] \n",
      "\n",
      "Miguel Angel ->  [('motorola moto x 1 moto x1 moto x 2nd gen', 10), ('samsung galaxy s7 edge', 9.744263541809481), ('xiaomi redmi 1s', 9.124885012407274), ('huawei ascend g620s', 8.947051372121159), ('huawei p8 lite 2017', 8.777012232969518)] \n",
      "\n",
      "Andres ->  [('samsung i9500 galaxy s iv', 8.864214389375858), ('sony xperia m', 8.305214675615613), ('lg l90 d410', 8.195726114593532), ('lg optimus l9 p760', 8.066702801223197), ('lg g2 594708', 7.785486809117589)] \n",
      "\n",
      "Ale ->  [('blackberry priv', 10), ('panasonic x60', 9.425227218041881), ('nokia 105', 9.093997882292248), ('huawei honor 7', 8.947199211306831), ('apple iphone 6 plus', 8.928364753085777)] \n",
      "\n",
      "Petra ->  [('samsung u900 soul', 9.369519836847868), ('samsung galaxy ace 3', 9.1205504522539), ('nokia 112', 8.675270341536269), ('nokia 206', 8.53327369647853), ('samsung galaxy s plus', 8.528679516640507)] \n",
      "\n",
      "Deepak ->  [('micromax canvas turbo a250', 9.910494188537518), ('micromax canvas a1', 9.592127939398578), ('samsung galaxy j2', 9.260510287275535), ('nokia x3', 8.829315964107678), ('samsung galaxy j7 prime', 8.266528811338254)] \n",
      "\n",
      "Lars ->  [('nokia e65', 8.493628439521885), ('huawei p8', 8.319151491006526), ('sony xperia x performance f8131', 7.88494802501012), ('sony xperia u st25i', 7.77218716802615), ('asus zenfone 4', 7.771698817486713)] \n",
      "\n",
      "Javier ->  [('oukitel k6000', 9.18787116855903), ('samsung galaxy s6', 9.122020472616784), ('htc desire eye m910x', 9.118824234367008), ('huawei ascend p7', 9.071423963933421), ('microsoft lumia 532', 9.04757788825625)] \n",
      "\n",
      "Silvia ->  [('nokia lumia 630', 9.499304651121298), ('zte axon 7', 9.063034529131148), ('lg h410', 8.813211500964723), ('lg optimus l9 ii', 8.753378435767322), ('lenovo k6 dual', 8.741838304079266)] \n",
      "\n",
      "Pascal ->  [('samsung galaxy j5 4g lte 5 2 inches', 9.727279204327976), ('nokia lumia 735', 9.219507209931606), ('nokia 6086', 9.0), ('motorola moto e', 8.97126995512177), ('samsung galaxy core', 8.858402343571928)] \n",
      "\n",
      "serrayurdakul ->  [('htc desire z', 10), ('samsung champ duos e2652w', 9.977132821056777), ('samsung corbypro b5310', 9.760077135887427), ('htc touch2', 9.084106393900925), ('htc wildfire s', 9.068725491073279)] \n",
      "\n",
      "ÐÐ¾ÑÑÑ ->  [('nokia x2 00 358331', 9.815067564006569), ('lg gd510', 9.346106900490001), ('nokia 1616', 9.345801311342532), ('sony ericsson xperia x8', 9.085351082509609), ('nokia lumia 620', 8.975467175438903)] \n",
      "\n",
      "Kai ->  [('samsung galaxy a3 2016', 9.082432044612869), ('samsung c3322', 8.983855096822728), ('apple iphone se', 8.495670836653732), ('samsung wave ii s8530', 8.039552072810206), ('motorola defy', 7.697004937077323)] \n",
      "\n",
      "Nico ->  [('motorola moto g', 9.065602148399805), ('acer liquid e2', 8.992767923655414), ('apple iphone se', 8.79829236125628), ('huawei honor 6', 8.76042366321332), ('samsung wave s8500', 8.726485338953438)] \n",
      "\n",
      "Melanie ->  [('nokia 113', 9.652660318787245), ('nokia 2220 slide', 8.59750506080633), ('samsung gt b2100', 8.375027356443075), ('acer liquid z3 duo', 8.32750436429051), ('wiko rainbow', 8.260645848701712)] \n",
      "\n",
      "????????????????? ->  [('huawei ascend d1', 9.725770706218297), ('samsung gt s5282', 9.603656178120731), ('sony xperia v', 8.961292449322746), ('sony xperia v', 8.961292449322746), ('samsung gt e1200', 8.381343512505962)] \n",
      "\n",
      "Pietro ->  [('samsung ativ s', 9.73592637512428), ('samsung galaxy s6 edge sm g925f', 9.71482059935957), ('lg g2 594708', 9.655688666034221), ('huawei p9 plus', 9.539934716943618), ('lg k10', 9.443687961819608)] \n",
      "\n",
      "Jean ->  [('asus zenfone 2 ze551ml', 8.726167760724508), ('samsung champ gt c3300k', 8.657101494225689), ('samsung g355 galaxy core ii', 8.623789223918312), ('samsung galaxy a5 2016', 8.596243228876288), ('doro phoneeasy 612', 8.565521469330617)] \n",
      "\n",
      "ÐÐ¾Ð½ÑÑÐ°Ð½ÑÐ¸Ð½ ->  [('samsung galaxy note 2', 9.821923790888276), ('apple iphone 6s plus', 9.696961002342697), ('huawei u8500', 9.334237234119826), ('samsung galaxy a5 2016', 9.300985043473183), ('asus zenfone max zc550kl', 9.234912046106686)] \n",
      "\n",
      "Anne ->  [('htc desire z', 10), ('sony ericsson xperia x10 mini pro', 9.410194809390674), ('sony xperia m', 9.34497338688963), ('sony ericsson k510i', 9.102945185551473), ('samsung wave 3', 8.774756276335985)] \n",
      "\n",
      "kuzeykizi ->  [('samsung e1075', 9.600585507640679), ('samsung c5212', 9.558597851285448), ('nokia 7390', 9.513991472827497), ('samsung i550', 9.467762683322356), ('samsung g810', 9.45088933889769)] \n",
      "\n",
      "Alexandre ->  [('apple iphone', 9.477983823306399), ('sony xperia m', 9.026776203950613), ('samsung galaxy s7 789999', 9.005023153219694), ('huawei honor 7', 8.949406590036984), ('sony ericsson xperia arc', 8.777040582962607)] \n",
      "\n",
      "Christophe ->  [('nokia lumia 930', 9.870006685038641), ('samsung galaxy s5', 9.51641290095015), ('zte blade v7 lite', 9.482731398899805), ('samsung galaxy j5', 8.981878903065546), ('samsung galaxy j5', 8.981878903065546)] \n",
      "\n",
      "Hugo ->  [('huawei honor 8', 10), ('huawei p8', 10), ('huawei ascend mate', 10), ('motorola razr d1', 9.670043833616202), ('samsung galaxy s7 789999', 9.416682084042568)] \n",
      "\n",
      "mustafa ->  [('vodafone 945', 9.858880773493143), ('nokia 5130 xpressmusic', 9.565774992476365), ('samsung galaxy grand neo gt i9060', 9.38144425225908), ('samsung galaxy note', 9.35903665407725), ('zte skate', 9.289637332229708)] \n",
      "\n",
      "Teresa ->  [('samsung galaxy s6', 8.977662439619866), ('nokia lumia 520', 8.946007043600492), ('sony xperia t', 8.327861986544743), ('asus zenfone selfie zd551kl', 8.148501142208552), ('samsung galaxy s7 789999', 7.540066175339411)] \n",
      "\n",
      "Nathan ->  [('apple iphone 6', 9.112509551865962), ('pantech impact', 8.98514391829155), ('huawei w1', 8.95099588556891), ('samsung wave 575', 8.266077836133732), ('samsung galaxy s5', 8.205326525286036)] \n",
      "\n",
      "Lee ->  [('motorola ve240', 10), ('motorola a1000', 9.860870770842222), ('samsung galaxy s6', 9.572514906271863), ('apple iphone 6s', 8.892617865288138), ('microsoft lumia 640 xl', 8.835827288380493)] \n",
      "\n",
      "Brandon ->  [('hp ipaq 910c', 9.716200818825595), ('motorola moto x', 8.716573196619361), ('nokia lumia 900', 8.551187573648527), ('sony xperia x compact', 8.118933321256074), ('lg g2 mini', 7.787962159656032)] \n",
      "\n",
      "Franco ->  [('lg h410', 9.458788443460868), ('samsung galaxy s6 edge sm g925f', 9.057399208574925), ('nokia x3', 8.455369347564423), ('huawei p8 lite', 8.389179369564435), ('asus zenfone 2', 8.373286428563121)] \n",
      "\n",
      "ahmet ->  [('nokia 9110i communicator', 10), ('nokia c5 06', 9.405087944585233), ('sony xperia l', 9.399877606246513), ('nokia c5 03', 8.919950355100074), ('samsung i9500 galaxy s iv', 8.608284810469547)] \n",
      "\n",
      "ÐÐ°Ð»ÐµÑÐ¸Ð¹ ->  [('samsung galaxy a5 2016', 9.425091084431374), ('apple iphone 6s', 9.322137913486426), ('samsung galaxy s ii', 8.869607730677613), ('samsung galaxy s4 mini gt i9190 gt i9192 dual sim', 8.845440940254726), ('lenovo a536', 8.80389913825086)] \n",
      "\n",
      "ÐÐ¸ÐºÑÐ¾ÑÐ¸Ñ ->  [('samsung galaxy s iii neo i9300i', 9.170730152475869), ('samsung galaxy j5', 9.02559062017836), ('apple iphone se', 8.825614827204094), ('sony xperia sp', 8.795603475980903), ('sony xperia sp', 8.795603475980903)] \n",
      "\n",
      "???????????? ->  [('acer cloudmobile', 10), ('samsung c3782', 9.74850900576393), ('huawei ascend d1', 9.747877202949473), ('sony xperia p', 9.498616061092932), ('sony ericsson xperia ray', 9.327231174208384)] \n",
      "\n",
      "Jordi ->  [('huawei honor 8', 10), ('lg g2 mini', 9.64355238902539), ('sony xperia l', 9.561067896119296), ('microsoft lumia 535', 9.452920822463264), ('thl 4000', 9.43190787231651)] \n",
      "\n",
      "barbara ->  [('samsung galaxy s6', 9.578840671060238), ('huawei ascend mate 7', 9.055775537363777), ('apple iphone 5s', 8.890026939352593), ('samsung galaxy s ii', 8.656165296101548), ('doogee t6 pro', 8.644004183724732)] \n",
      "\n",
      "Oscar ->  [('huawei ideos x5', 10), ('acer liquid e2', 9.407562465081336), ('lg optimus l5 ii dual e455 optimus duet', 9.269425669130033), ('samsung sgh t401g', 9.031577275976009), ('lg google nexus 5', 8.893596843992713)] \n",
      "\n",
      "pedro ->  [('sony ericsson w850i', 9.289883053415448), ('nokia lumia 925', 8.895813561306475), ('blackberry curve 9320', 8.543063810418523), ('sony xperia m', 8.535217921985382), ('samsung gt i8160', 8.290919327233615)] \n",
      "\n",
      "Luis ->  [('samsung galaxy note 2', 9.15395122939261), ('motorola moto g4', 9.072281033380165), ('huawei ascend mate 7', 8.939283982890656), ('samsung galaxy s i9000', 8.812079561622477), ('huawei ascend y550', 8.66395435615396)] \n",
      "\n",
      "ali ->  [('samsung galaxy note iii', 9.386550737844543), ('samsung s5610', 9.383672899130897), ('sony xperia z 504642', 9.279909563095222), ('lg p503', 9.21529266634921), ('motorola atrix', 8.937179778898912)] \n",
      "\n",
      "sam ->  [('motorola moto e', 9.162201090108313), ('nokia 105', 8.55941070787655), ('lg h410', 8.462008646513853), ('apple iphone 4s', 8.382356015190386), ('apple iphone 5c', 8.255312370261013)] \n",
      "\n",
      "??????????? ->  [('htc desire sv', 9.84174900506114), ('samsung c3782', 9.770466455781595), ('samsung c3782', 9.770466455781595), ('samsung c3322', 9.681954943160195), ('samsung c3322', 9.681954943160195)] \n",
      "\n",
      "Dirk ->  [('htc desire s', 9.638065305557163), ('nokia 3110 classic', 9.472430982891707), ('samsung gt b2710', 9.422472924688329), ('lg k10', 9.174994344129752), ('htc desire x', 8.88322954076147)] \n",
      "\n",
      "Lauren ->  [('motorola xt1225', 8.71685184829521), ('blackberry curve 8520', 8.51172809268775), ('motorola v557', 7.866516786963212), ('htc droid eris', 7.817380172218389), ('nokia e71', 7.514705291776887)] \n",
      "\n",
      "Amazon Kundenrezensionen ->  [('nokia lumia 930', 10), ('samsung wave 3', 8.51163412951951), ('blackberry classic', 8.23551030624172), ('alcatel one touch 992d', 8.037518756109677), ('microsoft lumia 950', 7.5405223318604895)] \n",
      "\n",
      "Cliente de Amazon ->  [('google nexus 5x h791', 9.171472214419863), ('lg g3 d855 657484', 8.894087976894236), ('huawei honor 7', 8.602414822783434), ('apple iphone 6s plus', 8.562055693245895), ('samsung galaxy note 2', 8.474731120674221)] \n",
      "\n",
      "Alexandra ->  [('nokia lumia 520', 9.770540630851375), ('samsung galaxy y s5360', 9.476890814864763), ('sony ericsson w950i', 9.420611125034435), ('apple iphone 5c', 9.31322259866756), ('huawei ascend y550', 9.226810447957675)] \n",
      "\n",
      "Liz ->  [('apple iphone 3g', 8.759512304164469), ('alcatel onetouch pixi 4', 8.579312446439728), ('lg d686 g pro lite dual', 8.523052599518254), ('samsung galaxy j3 duos', 8.479296044513402), ('htc one m7', 8.312676856385899)] \n",
      "\n",
      "Walter ->  [('nokia 2710', 10), ('samsung galaxy s ii', 9.872110015271062), ('samsung galaxy s plus', 9.518397755425447), ('samsung galaxy s5', 9.455242235727374), ('samsung galaxy s4 zoom', 9.32812324986673)] \n",
      "\n",
      "J ->  [('samsung galaxy s7 edge', 9.079226453097148), ('samsung galaxy note 2', 9.07782825428608), ('lg g4', 8.953190281119653), ('sony ericsson xperia pro', 8.70952207948651), ('motorola w385', 8.211297615053958)] \n",
      "\n",
      "francesca ->  [('alcatel onetouch pop c3 4033d', 9.691430963227187), ('lg g2 594708', 9.370615940103217), ('samsung galaxy j7 2016', 8.972755833276342), ('motorola moto g', 8.820270331259296), ('apple iphone 6', 8.592334966969712)] \n",
      "\n",
      "xceday ->  [('lg s5200', 9.556640604932054), ('nokia 6267', 9.521821102343589), ('samsung p520', 9.466510586516007), ('nokia n81', 9.45504494680025), ('samsung g810', 9.42748963305752)] \n",
      "\n",
      "M ->  [('huawei honor 4x', 9.53751015978223), ('google nexus 6p', 9.394970204969233), ('nokia 6102i', 9.277186609106177), ('motorola moto g3', 9.077448947191593), ('acer liquid e2', 8.830873419388134)] \n",
      "\n",
      "MarÃ­a ->  [('samsung galaxy note iii', 9.353884061126719), ('samsung galaxy s5 mini', 9.183646935710117), ('asus zenfone selfie zd551kl', 8.496562362870051), ('lg k10', 8.27538526249039), ('htc one m7', 8.13133103378023)] \n",
      "\n",
      "Enzo ->  [('lg nexus 4', 9.798136199346757), ('samsung galaxy s ii plus', 9.72296300326221), ('elephone p8000', 9.072854697029074), ('motorola motoming a1200 ming', 8.717998178742352), ('apple iphone 5s', 8.19519550718632)] \n",
      "\n",
      "Cristian ->  [('motorola moto x play', 9.259611756016307), ('microsoft lumia 640 dual sim', 9.241832910560069), ('blackberry z30', 9.196321363752517), ('motorola razr d1', 9.191213406361976), ('apple iphone se', 9.042956150364102)] \n",
      "\n",
      "Kay ->  [('nokia 215 dual sim', 9.103912409983604), ('samsung galaxy a5 2016', 8.80101579500877), ('samsung galaxy note 5 sm n920f', 8.190484111052653), ('samsung gt b2710', 8.152473681748694), ('motorola razr hd', 7.85782816693019)] \n",
      "\n",
      "Ravi ->  [('samsung e1207', 9.946057896041186), ('samsung galaxy j7', 9.279946591996055), ('samsung galaxy j7', 9.279946591996055), ('sony xperia z1', 8.40356955740335), ('lenovo vibe x3', 8.310323327916812)] \n",
      "\n",
      "mehmet ->  [('nokia 5800 navigation edition', 10), ('samsung s5610', 9.742672849676175), ('sony ericsson xperia ray', 9.637952481270395), ('samsung gt i8552', 9.545565362715681), ('nokia 5130 xpressmusic', 9.541583938988833)] \n",
      "\n",
      "Chiara ->  [('lg optimus one p500', 10), ('nokia 108', 9.722808207034308), ('xiaomi mi 3', 9.721076117837747), ('huawei p9 lite', 9.496028639476672), ('apple iphone se', 9.485207037974353)] \n",
      "\n",
      "Luke ->  [('casio c741', 9.721339388141232), ('huawei honor 8', 8.876528573002513), ('samsung galaxy s5', 8.52334215594541), ('apple iphone 3gs', 8.185806243547294), ('nokia 6700 slide', 8.127164031610677)] \n",
      "\n",
      "Jonas ->  [('htc 10', 9.862102246604792), ('huawei ascend p6', 9.20960074659234), ('motorola moto x', 9.183558748716798), ('google nexus 6p', 8.767211887587116), ('samsung galaxy y s5360', 8.631907362284243)] \n",
      "\n",
      "Christina ->  [('samsung galaxy s5 mini', 9.476392090383857), ('apple iphone 4', 8.926745282997178), ('nokia 6300', 8.625148998015897), ('blackberry priv', 8.53258267146429), ('huawei p8 lite', 8.287675265499178)] \n",
      "\n",
      "Jessica ->  [('sony ericsson s302', 9.93508996060147), ('samsung galaxy y s5360', 9.326773029542778), ('motorola moto x', 9.306145727220823), ('motorola v557', 8.824036022377323), ('nokia lumia 520', 8.618241655687116)] \n",
      "\n",
      "Martina ->  [('samsung s5610', 9.275799512229202), ('apple iphone 6', 9.16251237455306), ('doro phone easy 615', 9.122132991799353), ('huawei p9 lite', 9.023549494158885), ('nokia 105', 8.914117623554459)] \n",
      "\n",
      "Sophie ->  [('nokia 1650', 9.479011474806518), ('htc one mini', 9.230474632419895), ('huawei p8 lite', 9.2030057728757), ('nokia 108', 8.847337310629337), ('lg g3 d855 657484', 8.75815846648224)] \n",
      "\n",
      "umoo ->  [('samsung f400', 9.610832433618617), ('black berry 8700g', 9.539386129844903), ('blackberry 7290', 9.448864573955435), ('nokia 2310', 9.298377202411341), ('blackberry 8800', 9.080793312359178)] \n",
      "\n",
      "Client Amazon ->  [('huawei honor 8', 9.416872539022213), ('apple iphone 5c', 9.174123901998707), ('samsung galaxy s4 active i9295', 9.156307679874548), ('acer liquid e2', 8.150455566091845), ('samsung galaxy ace 3', 7.9121608696294725)] \n",
      "\n",
      "paul ->  [('doro phoneeasy 612', 9.504172988455458), ('lg ks360', 9.322577481306823), ('huawei ascend mate 8', 9.145516204583833), ('sony ericsson xperia ray', 8.782746332904573), ('lg optimus l5', 8.69681894984949)] \n",
      "\n",
      "ÐÐ½Ð½Ð° ->  [('motorola rokr z6', 9.941550912062844), ('nokia 700', 9.369677772955702), ('samsung galaxy a5', 9.293879297756254), ('samsung galaxy s ii plus', 9.272891741711488), ('nokia 6303i', 9.112723166401267)] \n",
      "\n",
      "Daniela ->  [('alcatel one touch pop c5 5036d', 9.629535329684256), ('blackberry z30', 9.009852012640593), ('sony xperia l', 8.89182775415199), ('nokia lumia 620', 8.852252464719518), ('huawei ascend mate 8', 8.71052262201549)] \n",
      "\n",
      "Joe ->  [('sony ericsson w850i', 9.2873649210024), ('lg k8', 9.207078673390846), ('huawei honor 6', 8.978514590932953), ('xolo q800', 8.886467992610736), ('sony xperia z1', 8.771319958285618)] \n",
      "\n",
      "Wendy ->  [('motorola razr hd', 9.779564421765665), ('samsung galaxy note iii', 9.699157006451898), ('vodafone 785 smart 4 mini', 9.672561429568006), ('samsung galaxy note', 9.517302160760657), ('samsung galaxy s7 edge', 9.152660631620831)] \n",
      "\n",
      "Josh ->  [('motorola i870', 10), ('blackberry passport', 9.75620390963576), ('motorola moto z play', 9.337877234033574), ('nokia c6', 9.329677432545882), ('htc m8', 9.105403161254223)] \n",
      "\n",
      "gabberino93 ->  [('nokia 112', 10), ('lg optimus l3 ii e430 e425', 10), ('lg e900 optimus 7', 10), ('samsung champ gt c3300k', 9.97668773669267), ('samsung galaxy y s5360', 9.96329097066837)] \n",
      "\n",
      "Ankit ->  [('huawei honor 6x', 8.694734344716759), ('apple iphone 4s', 8.4356352275086), ('htc desire 310', 8.30779887962163), ('nokia 130', 7.779849951110057), ('apple iphone 5s', 7.596600952067057)] \n",
      "\n",
      "sezenm ->  [('samsung c5130', 9.598630292557893), ('nokia x2', 9.549340011992808), ('nokia n76', 9.357508660562916), ('nokia e51', 9.33545307585192), ('samsung galaxy y pro b5510', 9.308837791308044)] \n",
      "\n",
      "Vicky ->  [('samsung galaxy a3 819970', 9.249636686477311), ('meizu m3s', 8.52735693445862), ('apple iphone 6 plus', 8.4503586030208), ('samsung galaxy j5', 8.28871312340963), ('microsoft lumia 535', 8.072948488172873)] \n",
      "\n",
      "yusuf60 ->  [('samsung galaxy y pro b5510', 9.39993963646906), ('samsung c3200', 9.072384526634547), ('samsung b7722', 9.014877053494555), ('samsung e2121', 8.866812101868558), ('nokia 6500 slide', 8.85476831158596)] \n",
      "\n",
      "sarah ->  [('samsung galaxy note 4', 9.510807877651091), ('alcatel onetouch pixi 4', 8.403442451516113), ('samsung galaxy s4 mini gt i9190 gt i9192 dual sim', 8.370240316086747), ('lg l40g', 8.337098367279873), ('lg l70', 8.075347842885057)] \n",
      "\n",
      "Philippe ->  [('sony xperia z5', 9.682049379696835), ('samsung galaxy core', 9.572211574845712), ('sony xperia z1 compact d5503', 9.502699776262583), ('nokia lumia 625', 9.463047331036648), ('samsung galaxy a3 2016', 9.31170365759698)] \n",
      "\n",
      "Bernd ->  [('samsung e1100', 9.313589221499926), ('lg x power', 9.198391479205942), ('samsung galaxy s4 zoom', 8.787855113649302), ('apple iphone se', 8.522332875611776), ('samsung galaxy a3 2016', 8.229684888846737)] \n",
      "\n",
      "Tiffany ->  [('samsung galaxy s5', 9.513712968671653), ('samsung galaxy s6 edge sm g925f', 9.473759028584185), ('samsung gt b2100', 8.870933547317362), ('samsung s7262 duos galaxy ace', 8.41123341622303), ('blu studio 5 0', 8.009905595960028)] \n",
      "\n",
      "???????????????? ???????? ->  [('samsung gt e1200', 9.879411082373988), ('samsung gt i8160', 8.68919503360337), ('apple iphone 4s', 7.994309702845322), ('apple iphone 4s', 7.994309702845322), ('apple iphone 4s', 7.994309702845322)] \n",
      "\n",
      "???????????????? ?????????????? ->  [('sony xperia v', 9.582065383457241), ('apple iphone 4s', 9.3789112467881), ('htc desire sv', 8.994523864774658), ('htc one x', 8.657444774905887), ('samsung c3782', 8.612702239047048)] \n",
      "\n",
      "Ralf ->  [('samsung sgh s500', 10), ('samsung e1230', 9.160175752076919), ('google nexus 6p', 8.891917109797644), ('sony ericsson k700i', 8.506943523250557), ('nokia x3', 8.422089105085522)] \n",
      "\n",
      "sadik ->  [('sony ericsson hazel', 10), ('sony ericsson k810i', 9.849066541966064), ('sony ericsson w610i', 9.60169718389665), ('nokia e51', 9.512399735018084), ('nokia 2220 slide', 9.349743450858629)] \n",
      "\n",
      "silvia ->  [('samsung galaxy s iii', 8.718103721202667), ('ttfone pluto', 8.653811899680969), ('samsung gt e1200', 8.464497197220407), ('nokia 105', 8.328066805092599), ('samsung galaxy mini 2 s6500', 8.26413370417877)] \n",
      "\n",
      "Vijay ->  [('samsung sgh i560', 10), ('motorola moto g4', 9.416178919221121), ('samsung galaxy s7 edge', 8.810594431736204), ('lenovo vibe s1', 8.168794912252606), ('samsung gt e1200', 8.161343219120035)] \n",
      "\n",
      "Un anonyme ->  [('samsung e2330', 10), ('nokia lumia 1320', 9.703897375913872), ('wiko rainbow', 9.276441601400057), ('samsung galaxy alpha', 9.20148552192643), ('sony xperia z3 compact', 9.166401766251878)] \n",
      "\n",
      "Anthony ->  [('blackberry passport', 9.289515958162875), ('samsung galaxy note 2', 9.086350497416285), ('apple iphone 7', 8.638593918055998), ('samsung galaxy s3 mini', 8.5125070911522), ('htc one max', 8.198582331378258)] \n",
      "\n",
      "Annie ->  [('apple iphone 5s', 9.308545456036226), ('samsung galaxy a5', 9.188823025288968), ('samsung c3590', 9.14577687739966), ('pantech crossover', 9.129999415481267), ('samsung galaxy a5 2017', 8.989611124742993)] \n",
      "\n",
      "ÐÐ¸ÐºÐ¾Ð»Ð°Ð¹ ->  [('apple iphone 6s plus', 9.563902684895222), ('samsung galaxy y duos', 9.494659157070892), ('htc desire s', 9.355018403405408), ('htc desire s', 9.355018403405408), ('nokia x1 01', 9.190254249137032)] \n",
      "\n",
      "Karl ->  [('alcatel one touch 992d', 9.17455695592622), ('samsung galaxy s7710 xcover 2', 8.586774121481525), ('sony xperia z5 compact', 8.31142282367343), ('huawei honor 6x', 7.460020559821884), ('samsung galaxy s5', 7.300529831876191)] \n",
      "\n",
      "Puneet Sharma ->  [('nokia e5', 10), ('nokia n8', 10), ('htc desire 600', 10), ('nokia lumia 620', 9.996533949541385), ('sony xperia l', 9.685438792770773)] \n",
      "\n",
      "Keith ->  [('sony xperia m', 9.19188307972495), ('sony xperia x performance f8131', 9.090170594690967), ('apple iphone 6s plus', 8.953641898793194), ('samsung i9500 galaxy s iv', 8.865352230547636), ('huawei y360', 8.721479370611288)] \n",
      "\n",
      "Gianni ->  [('lg g4', 8.916212992847436), ('samsung galaxy a5 2016', 8.644604686317455), ('huawei honor 7', 8.390622956105013), ('nokia c2 01', 8.18868969447671), ('motorola moto e', 8.17090698788111)] \n",
      "\n",
      "Marcel ->  [('doro phoneeasy 610gsm', 9.40993354326751), ('mobistel cynus t2', 9.28306713652825), ('motorola rokr z6', 8.691277052272229), ('huawei p8 lite', 8.606342209015738), ('htc sensation xl', 8.569587418859603)] \n",
      "\n",
      "Anna ->  [('samsung galaxy a3 2016', 9.311113252056362), ('alcatel onetouch pop 3 5015d', 9.29516135353755), ('samsung galaxy grand neo plus gt i9060i', 9.257136888266727), ('nokia 6700 slide', 9.105792080540935), ('sony xperia x compact', 9.063336578214326)] \n",
      "\n",
      "Melissa ->  [('lg env', 9.612245083607782), ('lg optimus net', 9.367519801820414), ('samsung galaxy s4 zoom', 9.023802339976914), ('samsung galaxy s4 zoom', 9.023802339976914), ('samsung galaxy s i9000', 8.558188387334157)] \n",
      "\n",
      "lorenzo ->  [('google nexus 6p', 9.525485365678591), ('microsoft lumia 640 dual sim', 9.48483528599049), ('meizu m2 note', 8.669515205926455), ('samsung galaxy a5', 8.415338746264268), ('doogee homtom ht7', 8.24973406985952)] \n",
      "\n",
      "Bryan ->  [('samsung galaxy s6 edge sm g925f', 9.490075191651432), ('samsung sgh e840', 9.133370639236139), ('lg g2 594708', 8.885806825363751), ('nokia 6350', 8.870403708357108), ('nokia 6350', 8.870403708357108)] \n",
      "\n",
      "Paula ->  [('huawei ascend g620s', 9.167342830451412), ('samsung galaxy s6', 9.010236438217268), ('samsung galaxy j5', 8.559926755708604), ('samsung galaxy y pro b5510', 8.551371308782645), ('htc one m7', 8.322522061576983)] \n",
      "\n",
      "AJ ->  [('nokia n8', 9.728856538782088), ('samsung galaxy s4 zoom', 9.388260422138618), ('nokia 808', 9.212279045151325), ('samsung galaxy s6', 9.075393720304474), ('asus zenfone selfie zd551kl', 9.035899871466139)] \n",
      "\n",
      "Nadine ->  [('huawei ascend p1', 8.664244861977819), ('huawei p8 lite', 8.516369498678678), ('samsung e1190', 7.914077584600131), ('huawei ascend y550', 7.892283609597603), ('htc desire s', 7.836924572649126)] \n",
      "\n",
      "Abhishek ->  [('sony xperia z1', 9.4121492412049), ('samsung galaxy j3 duos', 9.284564448444891), ('sony ericsson z550i', 9.0), ('lenovo vibe k4 note', 8.941823712519758), ('sony xperia e3', 8.691481493435349)] \n",
      "\n",
      "Carla ->  [('htc desire 310', 8.89931648881301), ('lg g2 594708', 8.7809842172301), ('apple iphone 7', 8.65653082321161), ('zte blade s6', 8.51387254631028), ('htc one m9', 8.484918928008224)] \n",
      "\n",
      "Expert Review ->  [('samsung s7262 duos galaxy ace', 9.135007563925743), ('samsung g355 galaxy core ii', 8.998643834487073), ('lg l fino', 8.886459499854592), ('lenovo s850', 8.843178596536964), ('apple iphone 6', 8.746211118676428)] \n",
      "\n",
      "Pierre ->  [('blackberry passport', 9.49186198067572), ('nokia lumia 930', 9.465993307444274), ('samsung galaxy a5 2016', 9.402780315437791), ('lg g3 d855 657484', 9.30714472049676), ('samsung galaxy note 3 neo 4g n7505', 9.133491429934432)] \n",
      "\n",
      "Philipp ->  [('sony xperia m', 9.145301605520357), ('htc legend', 8.948500376774206), ('acer liquid z5 duo', 8.438531582596825), ('huawei honor 7', 8.110493539225528), ('nokia lumia 820', 8.01283860020802)] \n",
      "\n",
      "Henry ->  [('samsung galaxy s6', 9.73866424411685), ('samsung gt e1270', 9.577393953260877), ('huawei ascend y530', 9.451936482331089), ('huawei ascend y530', 9.451936482331089), ('samsung galaxy note 4', 9.441024606683705)] \n",
      "\n",
      "Marcello ->  [('asus zenfone 3', 9.821551046508567), ('lg l90 d410', 8.90591089143254), ('lg optimus g', 8.846494804028511), ('nokia lumia 635', 8.786430856636635), ('cubot note s', 8.747990487000362)] \n",
      "\n",
      "ÐÐ½Ð°ÑÐ¾Ð»Ð¸Ð¹ ->  [('lg optimus one p500', 9.74975741733522), ('samsung i9500 galaxy s iv', 9.372219935726374), ('nokia lumia 925', 9.341458574598738), ('samsung wave ii s8530', 8.970864244898909), ('sony xperia z5 premium', 8.939479165030829)] \n",
      "\n",
      "Rich ->  [('htc incredible s', 10), ('sony ericsson satio', 9.190957487720524), ('samsung galaxy apollo gt i5510', 9.176263910913942), ('sony ericsson xperia pro', 9.123205525742803), ('apple iphone 7', 8.97501530456996)] \n",
      "\n",
      "???????? ->  [('huawei ascend p1', 9.39970188505005), ('acer cloudmobile', 9.386167360462904), ('samsung galaxy s advance gt i9070', 9.164878170076575), ('sony ericsson xperia neo v', 8.99012314035828), ('nokia c2 05', 8.759329126406186)] \n",
      "\n",
      "Brad ->  [('nokia 808', 9.75712696451001), ('apple iphone 7', 9.135001634390688), ('lg rhythm', 9.128168328331832), ('microsoft lumia 950 xl', 8.784326854301396), ('samsung galaxy prevail', 8.616620273742896)] \n",
      "\n",
      "patrick ->  [('samsung galaxy s7 edge', 9.413291554632048), ('asus zenfone 5', 9.00468215309119), ('samsung gt b2100', 8.649200994331139), ('samsung galaxy note 4', 8.456978377875576), ('kyocera candid kx16', 8.383268482490273)] \n",
      "\n",
      "Leonardo ->  [('samsung galaxy a5 2016', 9.61133304691056), ('samsung galaxy j7 2016', 9.546227825987021), ('asus zenfone 2 ze551ml', 9.19429928693046), ('alcatel one touch pop c5 5036d', 9.16769047025357), ('lg g3 d855 657484', 9.132224732269389)] \n",
      "\n",
      "Olivier ->  [('wiko rainbow', 9.504498462657425), ('wiko rainbow', 9.504498462657425), ('samsung i9500 galaxy s iv', 8.98903578034969), ('zte axon 7', 8.86606074886062), ('samsung galaxy note 2', 8.442058009441807)] \n",
      "\n",
      "Danilo ->  [('huawei ascend g620s', 8.940903037352852), ('sony xperia l', 8.782579750445482), ('samsung galaxy s3 mini', 8.525328525325241), ('samsung galaxy j3 duos', 8.393064573630138), ('lg optimus l5 ii dual e455 optimus duet', 8.361359664235936)] \n",
      "\n",
      "ÐÐ»ÑÑ ->  [('sony xperia l', 9.773309424011426), ('apple iphone 6s', 9.613932260763708), ('microsoft lumia 430', 9.451175885194488), ('sony xperia z 504642', 9.362327263625895), ('lg gt540', 9.334118184940342)] \n",
      "\n",
      "Marcos ->  [('samsung g355 galaxy core ii', 9.443320266359088), ('apple iphone 7', 9.271110372617226), ('samsung galaxy s7 edge', 9.209792763868906), ('asus zenfone 3', 9.110440085261661), ('motorola moto x', 9.09036514248192)] \n",
      "\n",
      "Amber ->  [('sony xperia z5 compact', 8.530774551763939), ('cubot p7', 8.131612703598298), ('samsung galaxy j5', 7.807858107315952), ('lg env3', 7.726712792728154), ('motorola moto x', 7.620423970146719)] \n",
      "\n",
      "peter ->  [('samsung galaxy note 2', 9.783304773362397), ('sony xperia e5', 9.058054808850851), ('huawei p8 lite', 8.959560439650708), ('huawei p8 lite', 8.959560439650708), ('motorola atrix 2', 8.911926609977503)] \n",
      "\n",
      "ANTONIO ->  [('microsoft lumia 640 xl', 9.384073693000204), ('samsung galaxy j5', 9.32269199224311), ('samsung galaxy j5 4g lte 5 2 inches', 9.263709527731217), ('sony xperia z3', 8.971603054699871), ('thl t6s', 8.75687988132593)] \n",
      "\n",
      "Sharon ->  [('apple iphone 6', 9.694230641757903), ('motorola w490', 9.651242272632297), ('lg g2 594708', 9.327868292137842), ('apple iphone 7', 9.317302542664095), ('alcatel idol 3 5 5 6045y', 8.949952187758884)] \n",
      "\n",
      "Alicia ->  [('samsung galaxy music duos s6012', 7.857680408060875), ('pantech p7040p', 7.791367194214336), ('samsung i9500 galaxy s iv', 7.703449633660141), ('archos 40 titanium', 7.640761970392931), ('huawei ascend p7', 7.449296537082361)] \n",
      "\n",
      "maurizio ->  [('lg e440 optimus l4 ii', 9.498910393162792), ('lg g2 mini', 9.423189390337951), ('sony xperia m', 9.176153094119115), ('huawei honor 7', 9.117472292443452), ('asus ze550kl', 8.538404106182126)] \n",
      "\n",
      "Mauro ->  [('alcatel one touch pop c5 5036d', 9.339645515889224), ('samsung gt e1270', 9.242301608790473), ('motorola moto e', 9.202108711562541), ('samsung sgh c140', 9.007454638107607), ('huawei ascend honor 3c', 8.982206626071491)] \n",
      "\n",
      "Emanuele ->  [('huawei ascend mate 8', 9.843871432974503), ('huawei y6', 9.830972592902008), ('microsoft lumia 640 dual sim', 9.811510189734342), ('huawei p8', 9.733736396020387), ('lg nexus 4', 9.731542459488017)] \n",
      "\n",
      "Alexis ->  [('htc m8', 9.579353250518542), ('alcatel onetouch pop c9', 9.052869236887167), ('google nexus 6', 8.947724437003009), ('samsung sgh a177', 8.884606878041978), ('lg g flex d958', 8.600249389092387)] \n",
      "\n",
      "ÐÑÐµÐ½Ð¸Ñ ->  [('lg x power', 9.805419032070008), ('lenovo ideaphone a706', 9.70197180535206), ('sony xperia z1', 9.486441813052002), ('samsung galaxy s7 789999', 9.411752061168931), ('samsung galaxy s3 mini', 9.067829127949851)] \n",
      "\n",
      "Dennis ->  [('huawei honor 8', 8.992296621466616), ('nokia lumia 830', 8.79898208726021), ('huawei ascend mate 7', 8.676687761715053), ('huawei p8 lite', 8.655325549799924), ('nokia 700', 8.591120175574428)] \n",
      "\n",
      "Sumit ->  [('blu t172 jenny', 10), ('lg x power', 9.204055277805477), ('nokia lumia 630', 9.16834076056125), ('htc flyer', 9.118919333556688), ('apple iphone se', 8.983079410670557)] \n",
      "\n",
      "ravi ->  [('samsung galaxy s6', 9.362967461096462), ('asus zenfone max zc550kl', 8.996153756957266), ('htc desire 620g', 8.235293489666855), ('sony ericsson g502', 7.857680408060875), ('htc windows phone 8', 7.809181895429894)] \n",
      "\n",
      "Emilio ->  [('asus zenfone 3', 9.546474195034671), ('microsoft lumia 640 xl', 9.124524705261761), ('lenovo moto g4 play', 9.11823356624104), ('samsung galaxy grand duos i9080 i9082', 8.814470921681302), ('google nexus 6p', 8.734489433091497)] \n",
      "\n",
      "bruno ->  [('archos 45 platinum', 10), ('sony ericsson k750i', 9.643044126489027), ('huawei ascend honor 3c', 9.399312458642724), ('lg g2 594708', 9.350113414635775), ('cubot p6', 9.32212110655033)] \n",
      "\n",
      "Angel ->  [('apple iphone se', 9.67022024270357), ('sony xperia l', 8.994184376556928), ('samsung galaxy core', 8.98827186931728), ('samsung c3520', 8.88423034329351), ('samsung galaxy s7 789999', 8.827576423396925)] \n",
      "\n",
      "vesponethebest ->  [('nokia 9300', 10), ('nokia 9500 communicator', 10), ('nokia 8810', 10), ('siemens a50', 9.635797477942013), ('nokia 7110', 9.630665760112576)] \n",
      "\n",
      "Valentina ->  [('nokia x1 01', 10), ('meizu pro 6', 9.426463705808047), ('huawei ascend g750', 9.311116143907197), ('wiko fever', 9.116758205704807), ('huawei ascend g7', 9.06698065671823)] \n",
      "\n",
      "91mobiles Customer ->  [('meizu m2 note', 10), ('zte warp', 9.961247418864653), ('lenovo zuk z1', 9.880727051004536), ('sony xperia m5', 5.837427569877572)] \n",
      "\n",
      "andy ->  [('lg dare vx9700', 9.349901324061932), ('nokia 2220 slide', 9.028713527488861), ('huawei nova', 8.320167533231656), ('huawei ascend y330', 8.31080408162248), ('nokia lumia 920', 8.06401740590122)] \n",
      "\n",
      "Karin ->  [('samsung galaxy note 2', 9.254866208165828), ('huawei ascend p7', 9.19072239780319), ('samsung galaxy s iii neo i9300i', 9.09375801633165), ('samsung gt i8160', 8.84527549990169), ('nokia lumia 900', 8.531781138130421)] \n",
      "\n",
      "cristian ->  [('samsung galaxy s ii plus', 9.616184147354021), ('lg k500n', 9.38529612234034), ('samsung galaxy s3 mini', 9.015654068283485), ('samsung galaxy note iii', 8.948812549710762), ('lg h410', 8.679438164452966)] \n",
      "\n",
      "Johannes ->  [('alcatel ot 536', 10), ('htc one x', 8.661136891554046), ('sony xperia tipo', 8.611886895496221), ('samsung galaxy s7 789999', 8.47569239120467), ('samsung galaxy s7 789999', 8.47569239120467)] \n",
      "\n",
      "me ->  [('nokia 7390', 10), ('apple iphone 5', 8.615514141190808), ('cubot note s', 8.240240889410803), ('blu d610a', 8.15672340786723), ('samsung i9500 galaxy s iv', 7.703817431963344)] \n",
      "\n",
      "Emmanuel ->  [('htc desire 500', 8.825288220070625), ('lg g4', 8.494509325954024), ('samsung galaxy s7 edge', 8.391215585855463), ('samsung galaxy s5', 8.232949531030728), ('motorola droid razr hd', 7.857680408060875)] \n",
      "\n",
      "Kat ->  [('lg e450 optimus l5 ii', 9.32468568033249), ('motorola hint qa30', 9.043428476350572), ('nokia 6700 classic', 8.870852135453394), ('nokia 6303i', 8.768439348017065), ('casio g zone ravine 2', 7.6103139518783065)] \n",
      "\n",
      "Emma ->  [('acer liquid z5 duo', 10), ('huawei p8 lite', 9.215257964441514), ('nokia lumia 630', 8.945131126651779), ('samsung galaxy s7 789999', 8.881587788041), ('zte axon 7', 8.786261184236142)] \n",
      "\n",
      "JJ ->  [('google nexus 5x h791', 8.767119473650276), ('sony xperia z ultra', 8.588356692467496), ('lg g2 594708', 8.503266419355139), ('huawei p8 lite', 8.346436934698543), ('motorola moto g', 8.116406307100103)] \n",
      "\n",
      "Boltun ->  [('htc legend', 10), ('samsung wave s8500', 9.532878532814047), ('nokia x2', 9.13119219283891), ('htc desire s', 9.130829220041603), ('lg optimus one p500', 8.961014057782585)] \n",
      "\n",
      "Gustavo ->  [('apple iphone 6s plus', 9.747093935923704), ('samsung galaxy s3 mini', 9.588818970610163), ('samsung galaxy s3 mini', 9.588818970610163), ('blackberry passport', 9.557619813152108), ('huawei ascend mate 7', 9.397912227367739)] \n",
      "\n",
      "Monika ->  [('nokia lumia 930', 9.509997758296311), ('huawei p8 lite', 9.478606607462524), ('htc one e8', 9.101233966387694), ('samsung galaxy grand neo plus gt i9060i', 8.808097710886578), ('nokia lumia 520', 8.763298256168438)] \n",
      "\n",
      "Harry ->  [('samsung galaxy s7 edge', 9.700865659570301), ('nokia e63', 9.06406044554358), ('zte axon 7', 8.87042684008325), ('apple iphone 5s', 8.800800708682948), ('huawei p9 lite', 8.795217352157733)] \n",
      "\n",
      "Sabrina ->  [('huawei y6', 9.705978376831306), ('samsung c3590', 9.552628880916227), ('samsung galaxy j7 2016', 9.464974719630147), ('huawei p9 797082', 9.424160019950962), ('nokia lumia 925', 9.10940310708908)] \n",
      "\n",
      "JÃ¶rg ->  [('nokia 6288', 10), ('samsung e1190', 8.792521413480822), ('lg v10', 8.662537182526288), ('samsung galaxy j5', 8.550506177772107), ('samsung galaxy s7 789999', 8.544264177438594)] \n",
      "\n",
      "Ð¡Ð°ÑÐ° ->  [('nokia x1 01', 10), ('alcatel idol mini 6012', 10), ('lg optimus l3 ii e430 e425', 9.523502283104047), ('huawei u8500', 9.387476543248686), ('apple iphone 6s', 9.176674044438995)] \n",
      "\n",
      "Diana ->  [('motorola moto g', 9.170326720333728), ('samsung sph m540', 8.887552039129353), ('apple iphone 7', 8.712661560568888), ('huawei p8', 8.693773255749461), ('sony ericsson w850i', 8.638827917711378)] \n",
      "\n",
      "Antoine ->  [('lg k10', 10), ('motorola moto g', 9.642170294038733), ('nokia lumia 930', 9.145820970164076), ('huawei honor 7', 8.791528771652251), ('asus zenfone 3 max', 8.7572903843777)] \n",
      "\n",
      "murat ->  [('nokia lumia 930', 9.756745685904802), ('samsung galaxy note iii', 9.747944081819135), ('samsung wave 3', 9.556999098654845), ('samsung galaxy a7 2016', 9.48703289247733), ('htc desire 816', 9.363539159258622)] \n",
      "\n",
      "angel ->  [('samsung gt e1270', 9.664097076145769), ('lg optimus g', 9.197221562927576), ('alcatel onetouch 20 04', 8.871455415016648), ('apple iphone 3gs', 8.412654676177173), ('samsung galaxy s ii', 8.076577782656013)] \n",
      "\n",
      "Amit ->  [('huawei ascend mate 2', 9.832768831179584), ('oneplus 3t', 9.381007531314872), ('lenovo zuk z1', 8.997761038120403), ('lenovo zuk z1', 8.997761038120403), ('nokia 9300', 8.223349029925737)] \n",
      "\n",
      "robert ->  [('microsoft lumia 640 dual sim', 9.283121999426903), ('blackberry z10', 9.168934704632457), ('apple iphone 6s', 8.868040904322072), ('samsung galaxy s3 mini', 8.76429850077498), ('blackberry classic', 8.73852814618221)] \n",
      "\n",
      "Joseph ->  [('apple iphone 6s', 9.828118483589137), ('nokia lumia 920', 8.394503328574954), ('huawei p9 797082', 8.350335286665862), ('samsung galaxy j3 duos', 8.241915673098033), ('samsung galaxy note 5 sm n920f', 7.707175923194346)] \n",
      "\n",
      "Renato ->  [('asus zenfone 3', 9.212487738650282), ('apple iphone 6s', 8.997325297457627), ('huawei honor 7', 8.762549959690972), ('samsung galaxy s7 edge', 8.55088117666527), ('alcatel onetouch 20 04', 8.547353060534839)] \n",
      "\n",
      "Jake ->  [('htc legend', 9.048781137230401), ('motorola moto x', 8.688444722915452), ('samsung galaxy s7 edge', 8.645347459115703), ('zte axon 7', 8.568215216489714), ('samsung galaxy s5', 8.527287480186962)] \n",
      "\n",
      "iceblu_78 ->  [('sony xperia z 504642', 8.607075819340574), ('alcatel one touch idol ultra', 8.496621106503008), ('sony ericsson xperia play', 8.396597486012913), ('lg optimus l9 p760', 8.339258286688768), ('samsung galaxy s ii plus', 8.281527212513636)] \n",
      "\n",
      "Jason ->  [('samsung galaxy s7 789999', 8.536447291691044), ('nokia n91', 8.229311555864777), ('nokia lumia 925', 7.978402568397232), ('apple iphone 6s', 7.969692141935372), ('nokia n93', 7.92819764050471)] \n",
      "\n",
      "Tony ->  [('samsung ativ s', 9.912726611049878), ('samsung galaxy s7 edge', 9.317626498087806), ('blackberry curve 8520', 9.202389795985038), ('huawei honor 6', 9.082434395179673), ('lg g2 594708', 8.940533915079989)] \n",
      "\n",
      "Dominique ->  [('asus zenfone 3', 9.959770749079764), ('nokia asha 302', 9.50205578833454), ('samsung galaxy s6', 9.355758172724515), ('sony xperia t2 ultra', 9.297549383338755), ('apple iphone 7', 9.187723657977633)] \n",
      "\n",
      "Denise ->  [('lg optimus chic e720', 9.361542906240725), ('lg l fino', 9.233326464854644), ('sony xperia z5', 9.146558830015774), ('alcatel onetouch pop c3 4033d', 9.014966966462039), ('samsung e1050', 8.607836020507944)] \n",
      "\n",
      "zercan74 ->  [('samsung jet sgh s8003', 9.689230999522044), ('lg gd900 232471', 9.67096996067109), ('nokia n81', 9.582494358303903), ('samsung s5233', 9.496922038278555), ('nokia e61', 9.337596009382505)] \n",
      "\n",
      "carlo ->  [('acer liquid e2', 9.375012669473431), ('mysaga c2', 9.298160579607748), ('microsoft lumia 640 xl', 9.270238273485562), ('lg leon 4g lte h340n', 8.876182835185672), ('huawei ascend g615', 8.785840890040586)] \n",
      "\n",
      "Luciano ->  [('lg g2 mini', 9.117041790911772), ('sony xperia m', 8.785854833220444), ('samsung galaxy s iii neo i9300i', 8.717139694033724), ('nokia lumia 630', 8.32834563626591), ('samsung galaxy s4 mini gt i9190 gt i9192 dual sim', 8.125933249667876)] \n",
      "\n",
      "Micha ->  [('motorola razr i', 9.119267142287166), ('doro phoneeasy 605', 8.942072635730513), ('samsung galaxy alpha', 8.478602678193413), ('nokia lumia 830', 8.38391519725991), ('samsung galaxy s i9000', 8.268265237230992)] \n",
      "\n",
      "max ->  [('lg voyager', 9.410200026166411), ('zte axon 7', 9.078404731249186), ('wiko getaway', 8.785623502247098), ('asus zenfone 2', 8.762046284453227), ('huawei p9 lite', 8.735879399294923)] \n",
      "\n",
      "Ian ->  [('motorola moto e', 9.549552588422586), ('apple iphone 6s plus', 9.495075682655875), ('samsung galaxy j5 4g lte 5 2 inches', 9.449521774447001), ('apple iphone 7 plus', 9.33186435342842), ('apple iphone 7', 9.137137975964421)] \n",
      "\n",
      "hawwa ->  [('siemens s75', 9.568264045543096), ('samsung e1075', 9.565027691649714), ('sony ericsson z550i', 9.517725012245062), ('nokia 7390', 9.496636551455689), ('samsung g810', 9.419248354877254)] \n",
      "\n",
      "fabrizio ->  [('blackberry 8800', 10), ('huawei ascend g620s', 9.295322453678466), ('nokia 108', 9.186619300955869), ('samsung gt b2100', 9.082909185090875), ('microsoft lumia 640 dual sim', 9.049390921063164)] \n",
      "\n",
      "Stephan ->  [('nokia n900', 8.654654997477834), ('nokia lumia 930', 8.595163734605345), ('samsung galaxy s iii', 8.155116770269197), ('nokia lumia 630', 8.139344873246646), ('palm pixi plus', 8.076495701182887)] \n",
      "\n",
      "Bill ->  [('nokia lumia 1520', 8.791967961106268), ('samsung galaxy j7 prime', 8.74643233633919), ('lg p715 optimus l7 ii', 8.667265747257353), ('motorola razr2 v8', 8.664353998057345), ('vodafone 785 smart 4 mini', 8.496529646909805)] \n",
      "\n",
      "Thierry ->  [('nokia lumia 830', 9.735451122532343), ('samsung galaxy j5', 9.72990042686823), ('samsung galaxy a5 2016', 9.673656678910412), ('htc one m8s', 9.39138501659074), ('samsung i9500 galaxy s iv', 9.323878727792472)] \n",
      "\n",
      "Caroline ->  [('alcatel one touch pop c5 5036d', 10), ('asus zenfone 3', 9.33592977851922), ('lg optimus l5 ii dual e455 optimus duet', 8.964823270310365), ('samsung gravity 3 sgh t479', 8.958631894508233), ('huawei p9 lite', 8.677479233168405)] \n",
      "\n",
      "Michelle ->  [('lg l90 d410', 9.511010839656644), ('samsung galaxy s8', 9.060905129039199), ('microsoft lumia 640 dual sim', 8.777443633347763), ('blu studio 5 0', 8.762345002656918), ('samsung galaxy s7 edge', 8.426590722313103)] \n",
      "\n",
      "Laurent ->  [('samsung gt b2100', 9.302212643671034), ('google nexus 6p', 8.774714164167877), ('samsung gt e1200', 8.628751729408814), ('lg g3 d855 657484', 8.076300190581076), ('nokia 5530 xpressmusic', 7.952253498070431)] \n",
      "\n",
      "sewut ->  [('samsung f400', 9.57058827212929), ('lg kp110', 9.418521044404834), ('nokia 6267', 9.385229714405003), ('samsung p520', 9.357399848399941), ('nokia n81', 9.34171218426958)] \n",
      "\n",
      "ÐÐºÐ°ÑÐµÑÐ¸Ð½Ð° ->  [('sony xperia zr', 9.68138292741721), ('apple iphone se', 9.391926560065839), ('sony xperia z 504642', 9.122481716671013), ('sony xperia z1', 8.992431703851025), ('sony xperia z1 compact d5503', 8.971037251407154)] \n",
      "\n",
      "Pete ->  [('lg optimus net', 10), ('samsung c5212', 9.347877976866632), ('sony xperia xz', 9.228354668270143), ('samsung s3100', 9.161571878084052), ('motorola moto g3', 9.08577901492654)] \n",
      "\n",
      "Justin ->  [('lg vx 8300', 9.961898625376753), ('sony xperia z1', 8.496781955965396), ('samsung galaxy j3 duos', 8.265561201294203), ('htc one m7', 8.133263269463917), ('htc one m7', 8.133263269463917)] \n",
      "\n",
      "federico ->  [('sony xperia z 504642', 9.908406041155143), ('nokia asha 210', 9.770767289376545), ('lg g2 594708', 9.70073569300969), ('motorola moto e', 9.524344851861333), ('microsoft lumia 640 xl', 9.257631585968328)] \n",
      "\n",
      "Will ->  [('huawei honor 5x', 9.657326013651621), ('samsung focus flash', 9.40523113828671), ('nokia 800', 9.236242328833491), ('samsung galaxy s6', 9.096940251408615), ('nokia lumia 900', 8.870388684579432)] \n",
      "\n",
      "Julia ->  [('samsung b3310', 9.73201391887437), ('samsung b3310', 9.73201391887437), ('nokia lumia 820', 9.21867025390577), ('huawei g610', 9.089977312747749), ('nokia lumia 530', 9.073683232286932)] \n",
      "\n",
      "Fred ->  [('samsung galaxy a5 2016', 9.485425403497757), ('huawei p9 plus', 8.97244317162206), ('samsung m8800 pixon', 8.810071893178106), ('nokia n80', 8.685947277686576), ('huawei nova', 8.509135225366181)] \n",
      "\n",
      "jean ->  [('samsung galaxy s6 edge sm g925f', 9.809651259666268), ('alcatel one touch pop c5 5036d', 8.72845479520771), ('lg g3 d855 657484', 8.686912165053092), ('motorola moto x 2', 8.674368307800083), ('samsung galaxy y s5360', 8.59790255565098)] \n",
      "\n",
      "Felipe ->  [('motorola rizr z3', 10), ('sony xperia p', 9.822783843060309), ('samsung galaxy s7 789999', 9.807812019261679), ('motorola razr d1', 9.67421113347418), ('apple iphone 5s', 9.661571964288587)] \n",
      "\n",
      "streghe_1965 ->  [('lg t300', 8.269878118508341), ('lg gu230', 8.0), ('nokia 5233', 7.656453465883511), ('nokia 6021', 7.295407200552257), ('nokia 1800', 7.073337566911637)] \n",
      "\n",
      "Kunde ->  [('doro phone easy 410 gsm', 9.145460370537924), ('samsung galaxy j5 4g lte 5 2 inches', 9.044509991025711), ('samsung galaxy ace s5830', 8.943492291197584), ('alcatel one touch idol 6030d', 8.765102284165051), ('doogee x5', 8.66343499398451)] \n",
      "\n",
      "Piero ->  [('nokia lumia 720', 9.898671058851225), ('motorola moto g', 9.740329421001439), ('huawei honor 6', 9.273500504720749), ('lg h410', 9.079924760256986), ('motorola moto x', 9.036488392663562)] \n",
      "\n",
      "Sandeep ->  [('sony ericsson w200i', 9.674416420815657), ('apple iphone 6s', 9.378658010540411), ('nokia lumia 925', 9.284962944695433), ('motorola moto g3', 8.688016123285816), ('xiaomi mi4', 8.446952816811246)] \n",
      "\n",
      "Lucas ->  [('huawei ascend d1', 10), ('apple iphone 6s plus', 9.325417921548892), ('samsung galaxy s iii neo i9300i', 9.263191508872366), ('motorola razr d1', 9.243893371074327), ('nokia lumia 730', 9.130657591919682)] \n",
      "\n",
      "Joshua ->  [('sony xperia z5 compact', 8.730856228178638), ('sony xperia x f5121', 8.38415630816342), ('oneplus 3t', 8.362913866250327), ('motorola moto x', 8.31401868351363), ('apple iphone 6', 8.180098282151905)] \n",
      "\n",
      "Charlie ->  [('lg g3 d855 657484', 9.163177540046064), ('blu t172 jenny', 9.161932764859287), ('samsung gt e1270', 8.48296756868803), ('motorola rokr z6m', 8.419447495507205), ('apple iphone 7 plus', 8.319383883763203)] \n",
      "\n",
      "Al ->  [('lg g2 594708', 9.177480160516257), ('huawei p9 lite', 8.450036103010977), ('sony xperia u st25i', 8.326733578762449), ('blackberry q10', 7.513274005252195), ('samsung galaxy rugby pro', 7.2701190947476775)] \n",
      "\n",
      "Guido ->  [('samsung galaxy a5 2016', 9.640165278319264), ('samsung galaxy j5 4g lte 5 2 inches', 9.574401872641094), ('samsung galaxy j5 4g lte 5 2 inches', 9.574401872641094), ('huawei ascend y5 y560', 9.353832476331364), ('nokia asha 302', 9.297368018067523)] \n",
      "\n",
      "Hans ->  [('huawei ascend honor 3c', 10), ('samsung s8000 jet', 9.506757722471578), ('alcatel ot easy', 9.328125), ('huawei p8', 9.186943606980774), ('nokia 808', 8.705054533978075)] \n",
      "\n",
      "luis ->  [('motorola xt910', 9.701869558748788), ('asus zenfone 3', 9.090472713598816), ('samsung galaxy j5 4g lte 5 2 inches', 8.71917606179323), ('samsung i9500 galaxy s iv', 8.582217516025134), ('doro phoneeasy 610gsm', 8.487809160543547)] \n",
      "\n",
      "giovanni ->  [('huawei ascend honor 3c', 9.304943074560525), ('apple iphone', 9.262369515344385), ('motorola moto g', 9.229072371016036), ('huawei p8 lite', 9.053388697918017), ('nokia c2 05', 9.034507859951088)] \n",
      "\n",
      "miatamania ->  [('samsung p520', 9.449629807548188), ('palm treo 680', 9.410961982242096), ('samsung c260', 9.40966881268215), ('samsung sgh m150', 9.385682239957202), ('nokia 6120 classic', 9.369246190503233)] \n",
      "\n",
      "vincent ->  [('htc one m8s', 8.954939609759352), ('nokia n95', 8.436514672136397), ('sony ericsson xperia play', 8.175426181784168), ('motorola moto x', 8.12326736925002), ('apple iphone 5c', 8.085630576123398)] \n",
      "\n",
      "Omar ->  [('htc amaze 4g', 10), ('samsung galaxy core', 8.83901138937036), ('samsung gt e1200', 8.438450575018448), ('apple iphone 5s', 8.361285099522458), ('huawei p9 lite', 8.152753647003113)] \n",
      "\n",
      "Sunil ->  [('htc touch hd', 9.982216465591444), ('huawei honor 6x', 9.691882807126353), ('motorola moto g4', 9.38408074492393), ('lenovo vibe k4 note', 8.978309221798963), ('google nexus 5x h791', 8.896995618629308)] \n",
      "\n",
      "elena ->  [('samsung galaxy ace 3', 9.834950951427812), ('huawei y6', 9.682263221455141), ('lg e450 optimus l5 ii', 9.326664936826884), ('samsung gt e1200', 9.308123499157572), ('huawei p9 lite', 9.021287398040888)] \n",
      "\n",
      "kevin ->  [('apple iphone 6s', 9.025890912701888), ('samsung gt e1200', 8.964203983401418), ('samsung galaxy s iii', 8.339887381161125), ('apple iphone 6', 8.271424762474817), ('zte axon 7', 8.129623658576408)] \n",
      "\n",
      "Veronica ->  [('samsung galaxy s6', 9.512162768366299), ('huawei ascend mate 8', 8.41306486506533), ('samsung galaxy s3 mini', 8.11668882708514), ('samsung galaxy s iii neo i9300i', 8.095635480268953), ('nokia 6085', 7.862586892245265)] \n",
      "\n",
      "Greg ->  [('lg g3 d855 657484', 9.128238035547604), ('motorola moto e', 8.9716023594578), ('lenovo k6 dual', 8.952520496764002), ('nokia lumia 635', 8.90932624769823), ('htc 8x', 8.69723822563269)] \n",
      "\n",
      "Alain ->  [('motorola moto g', 9.353971495235104), ('samsung galaxy y s5360', 8.825051956842554), ('samsung galaxy y s5360', 8.825051956842554), ('nokia lumia 830', 8.272964820927461), ('samsung galaxy j3 duos', 8.24463060625786)] \n",
      "\n",
      "Terry ->  [('apple iphone 7', 9.145911837279497), ('samsung galaxy s6 edge sm g925f', 8.962574647995396), ('motorola xt1225', 8.667452569349011), ('zte z221', 8.426906803204858), ('samsung gt e1270', 7.970278322246334)] \n",
      "\n",
      "Sonia ->  [('lg gw620', 10), ('samsung galaxy s7 edge', 9.437095492391633), ('samsung galaxy mega 6 3 i9200', 9.071827574926926), ('samsung c322', 9.008843069855079), ('huawei p8 lite', 8.877970537649716)] \n",
      "\n",
      "Tobias ->  [('apple iphone 6 plus', 8.09195567619585), ('huawei p8', 8.029393233226559), ('huawei p8 lite', 7.940923458582737), ('samsung corby s3650', 7.809027140061664), ('nokia 6500 classic', 7.63211054467214)] \n",
      "\n",
      "Raffaele ->  [('cubot p6', 9.875123800765762), ('huawei honor 6', 9.630258585484004), ('huawei honor 4x', 9.546374391350907), ('huawei ascend g700', 9.315436639528233), ('nokia lumia 930', 9.229025149080325)] \n",
      "\n",
      "R ->  [('blackberry passport', 8.455490015865896), ('huawei p8 lite', 7.7615891247406275), ('samsung s5230', 7.36143756883879), ('nokia 6300', 7.280598023967124), ('htc desire 610', 7.171707461099006)] \n",
      "\n",
      "Danielle ->  [('asus zenfone 3', 9.431155000944294), ('apple iphone se', 8.726955631555633), ('samsung f400', 8.591026645817815), ('htc desire', 8.293950808210873), ('samsung galaxy s6', 8.148490160809548)] \n",
      "\n",
      "Sean ->  [('htc p4350', 9.345158242737973), ('samsung galaxy note 3 neo 4g n7505', 9.143980123899231), ('lg eclipse 4g lte', 8.68965738682884), ('nokia lumia 928', 8.636362747645824), ('apple iphone 5s', 8.547474970549144)] \n",
      "\n",
      "Emily ->  [('huawei ascend mate 2', 9.730652716366338), ('motorola hint qa30', 9.520889776490773), ('blackberry 8830 world edition', 8.896944662702273), ('samsung galaxy note 4', 8.674370697716359), ('nokia lumia 1320', 8.545413135901732)] \n",
      "\n",
      "Sue ->  [('samsung galaxy ring', 9.72723653925525), ('microsoft lumia 535', 8.991797951971774), ('samsung galaxy j3 duos', 8.95674962075506), ('doro phoneeasy 622', 8.848265771398156), ('lg k4', 8.425333696630732)] \n",
      "\n",
      "Massimiliano ->  [('samsung c3520', 9.921626807643024), ('samsung galaxy s4 zoom', 9.40725446584864), ('microsoft lumia 550', 9.308650277708837), ('zte axon 7', 9.151091336252552), ('asus zenfone 2', 9.093469126486202)] \n",
      "\n",
      "pikacu ->  [('nokia x1 01', 9.973972675077121), ('nokia 2220', 9.637821878772451), ('nokia 6267', 9.611302888775977), ('samsung corbypro b5310', 9.583062087543958), ('nokia 7390', 9.562426918900321)] \n",
      "\n",
      "Alfredo ->  [('huawei y6', 8.958505906267451), ('samsung galaxy note 2', 8.855918813580892), ('lg nexus 4', 8.729450456155574), ('huawei honor 8', 8.699926857159102), ('samsung galaxy e5', 8.558190673937442)] \n",
      "\n",
      "Karen ->  [('samsung galaxy s6', 9.030327423548874), ('samsung galaxy j5 4g lte 5 2 inches', 8.858832380005502), ('samsung galaxy s7 789999', 8.798459605392225), ('samsung galaxy s7 789999', 8.798459605392225), ('samsung galaxy note', 8.71526843923808)] \n",
      "\n",
      "adrian ->  [('samsung galaxy s i9000', 9.477067821576725), ('lg e900 optimus 7', 8.289751920135416), ('nokia e71', 8.276621877491188), ('samsung galaxy s ii', 7.898635240668906), ('lg google nexus 5', 7.733881818904876)] \n",
      "\n",
      "Rene ->  [('huawei mate 9', 9.92427070408678), ('samsung wave ii s8530', 9.445964768492097), ('nokia 206', 8.977839152239978), ('apple iphone 5s', 8.87232037448058), ('lg gw300', 8.849863037016851)] \n",
      "\n",
      "kardelen ->  [('samsung sgh m150', 9.423371920551089), ('blackberry curve 8300', 9.418272814277264), ('blackberry 8820', 9.261224383311152), ('nokia n93', 9.197867556424852), ('nokia 5610', 8.999770698193073)] \n",
      "\n",
      "Cesar ->  [('blu win jr', 9.598105605339939), ('huawei ascend p7', 8.44914427961213), ('sony xperia tipo', 8.360748594566475), ('zte axon 7', 8.145006293187286), ('lg google nexus 5', 7.898640464040979)] \n",
      "\n",
      "Gary ->  [('huawei ascend mate 2', 9.673005003641885), ('lg g3 d855 657484', 9.535793221220606), ('motorola moto x play', 9.53109068294961), ('samsung galaxy s7 789999', 9.48893099277793), ('samsung galaxy j7', 9.466411391653871)] \n",
      "\n",
      "Anton ->  [('sony ericsson cedar', 9.451986121260273), ('samsung g355 galaxy core ii', 9.300558732470536), ('samsung galaxy j5 4g lte 5 2 inches', 9.005247911038962), ('samsung galaxy gio s5660', 8.887419356613197), ('sony xperia sp', 8.847450066739448)] \n",
      "\n",
      "Helen ->  [('nokia lumia 635', 8.786003560960213), ('motorola moto g', 8.267886391345245), ('apple iphone 5s', 8.09501600071882), ('nokia 2720 fold', 7.280891602284465), ('motorola gleamplus', 6.593867985150904)] \n",
      "\n",
      "manositos ->  [('huawei mate s', 8.484424386074654), ('apple iphone 6s', 8.302068393287126), ('samsung galaxy s plus', 8.198038587598537), ('alcatel one touch idol 2 mini', 8.1026530490788), ('samsung ch t 335', 8.036713776177583)] \n",
      "\n",
      "Anand ->  [('nokia 206', 9.782665272027664), ('oneplus 3t', 9.711453481367641), ('nokia 130', 9.272181780228003), ('apple iphone 3gs', 9.020066702852946), ('samsung galaxy k zoom', 8.73249426447611)] \n",
      "\n",
      "missing ->  [('lg s5200', 9.46841421540859), ('sony ericsson w950i', 9.456723677703174), ('nokia 7390', 9.411597846923364), ('samsung sgh b300', 9.10989688571185), ('nokia 6111', 8.881582688936838)] \n",
      "\n",
      "mary ->  [('huawei ascend p7', 8.421836243530398), ('samsung galaxy ace style', 8.250873567860516), ('samsung galaxy s5 mini', 8.172253434889361), ('huawei ascend y330', 7.852857619891372), ('apple iphone 6s', 7.839187676852007)] \n",
      "\n",
      "matteo ->  [('huawei p8 lite', 9.635092095843664), ('samsung galaxy note 3 neo 4g n7505', 9.531026340560143), ('samsung galaxy young', 9.038221378446892), ('huawei ascend g700', 9.010172725162745), ('samsung galaxy a3', 8.884923854761075)] \n",
      "\n",
      "Sven ->  [('benq siemens el71', 9.996382530096074), ('samsung e1080', 9.57743738559772), ('sony ericsson k770i', 9.559377219702734), ('huawei ascend p6', 9.209602072714187), ('lg x power', 9.19231380809859)] \n",
      "\n",
      "Joan ->  [('samsung sgh e360', 9.603446220363933), ('samsung galaxy s5 mini', 9.134914313017461), ('huawei y6', 9.025719235185285), ('samsung s5611', 8.834809580581084), ('lg vn530', 8.804805496235694)] \n",
      "\n",
      "manuel ->  [('huawei honor 7', 9.483057213598395), ('samsung galaxy s6', 9.27152675056216), ('htc desire eye m910x', 8.788786093911225), ('sony xperia z1', 8.240511067626517), ('nokia lumia 900', 8.144294398833319)] \n",
      "\n",
      "Dee ->  [('lg l90 d410', 8.538609538919584), ('samsung galaxy s7 789999', 8.265665311705721), ('samsung galaxy s7 edge', 8.03858521906463), ('samsung galaxy s4 mini gt i9190 gt i9192 dual sim', 7.968098591545626), ('motorola xt1225', 7.900107825738472)] \n",
      "\n",
      "gulayy ->  [('samsung e1081', 10), ('samsung s5233', 9.524509462769524), ('nokia e63', 9.334714173955334), ('nokia 700', 9.310324778573237), ('samsung sgh b300', 9.269201572356918)] \n",
      "\n",
      "joe ->  [('pantech p7040p', 9.780906018710168), ('samsung galaxy s3 mini', 9.733368988811836), ('nokia asha 302', 8.922056111491452), ('nokia asha 302', 8.922056111491452), ('blackberry z10', 8.777118804956862)] \n",
      "\n",
      "Marta ->  [('xiaomi mi 3', 9.417776121660438), ('samsung galaxy j5 4g lte 5 2 inches', 9.35615829016806), ('samsung s7580 galaxy trend plus', 9.287565014521476), ('samsung galaxy s6', 9.144122312821134), ('nokia lumia 620', 9.122204429363798)] \n",
      "\n",
      "michael ->  [('sagem my x 5', 10), ('motorola rokr z6m', 9.395412276100506), ('nokia lumia 635', 9.245739668743067), ('samsung galaxy s3 mini', 9.224776693915185), ('nokia lumia 930', 9.065208631375533)] \n",
      "\n",
      "ÐÐ¸Ð¼Ð° ->  [('samsung galaxy note 2', 10), ('htc desire s', 10), ('nokia 5230', 9.543754381730208), ('apple iphone 5s', 9.497380786563006), ('sony xperia z 504642', 9.41899990202489)] \n",
      "\n",
      "Mar ->  [('huawei p8 lite', 9.36539324435623), ('huawei g610', 9.308794234750163), ('asus zenfone 2', 9.089485123948789), ('samsung gt i8160', 8.932146225232358), ('htc evo 3d', 8.301536572561382)] \n",
      "\n",
      "cikolata ->  [('nokia n76', 9.256719825442055), ('nokia e61', 9.137816148596595), ('samsung sph m620zkaspr', 9.015342765632107), ('nokia 5610', 8.93840901888495), ('nokia n80', 8.917102903254982)] \n",
      "\n",
      "B ->  [('motorola moto z play', 9.088835902706109), ('acer liquid e2', 8.638828915293157), ('lg chocolate vx8575', 8.522835698003805), ('huawei p9 lite', 8.005468866122564), ('apple iphone 5s', 7.941357332993157)] \n",
      "\n",
      "Samantha ->  [('samsung gt e1270', 9.535668308483865), ('blu win jr', 8.844498023816632), ('lg g flex d958', 8.501432328676684), ('microsoft lumia 435', 8.167422755229342), ('google nexus 5x h791', 7.842906428619879)] \n",
      "\n",
      "Jen ->  [('apple iphone 7', 8.91760128968649), ('huawei p9 lite', 8.66320973377816), ('samsung alias 2 sch u750', 8.378796525967864), ('sony xperia x performance f8131', 8.223465849416693), ('samsung galaxy a3 819970', 7.975972697655253)] \n",
      "\n",
      "Capyto ->  [('samsung f400', 9.668500995019018), ('samsung sgh m150', 9.350399616248637), ('samsung sgh f250', 9.300093536288529), ('samsung u800 soul', 9.17953707977661), ('nokia n93', 9.162508407849748)] \n",
      "\n",
      "cristina ->  [('cubot gt88', 9.893095634463066), ('lg t375', 9.004002650791284), ('motorola moto g', 8.674804103015317), ('samsung galaxy j5', 8.327953888906563), ('samsung galaxy note 4', 8.258310261502265)] \n",
      "\n",
      "Anonym ->  [('sony ericson w580i', 9.60445674091931), ('nokia 5130 xpressmusic', 8.79046761469268), ('sony ericsson s500i 44861', 8.726062353453873), ('samsung champ gt c3300k', 8.711844763849308), ('microsoft lumia 640 dual sim', 8.565680079454134)] \n",
      "\n",
      "sedat01 ->  [('nokia x2', 9.811443342060421), ('nokia n81', 9.804226877280652), ('nokia c5 06', 9.703946711001128), ('samsung e2550', 9.348396965367204), ('samsung corby s3650', 9.292437196777632)] \n",
      "\n",
      "Manfred ->  [('nokia 5230', 9.850704253387532), ('samsung s5611', 9.412345721300829), ('sony xperia l', 9.231174255154562), ('htc desire x', 9.22654621583671), ('samsung g600', 9.054542266498315)] \n",
      "\n",
      "DAVID ->  [('blackberry passport', 8.876913785930189), ('nokia lumia 520', 8.24467279183047), ('samsung gt i8552', 8.195020889266162), ('samsung galaxy j5', 8.072963236655692), ('samsung ativ s', 7.849647560355936)] \n",
      "\n",
      "Amanda ->  [('samsung galaxy note 2', 9.964858412391806), ('samsung galaxy s7 789999', 8.940742457522612), ('lg g4', 8.831297921795592), ('pantech pg c300 c3', 8.81353617211171), ('apple iphone 7', 8.57444269632616)] \n",
      "\n",
      "Guillermo ->  [('samsung galaxy note 2', 9.142454553868747), ('blu advance 4 0', 9.122601121059612), ('lg g5', 8.808603053271533), ('motorola moto g', 8.611700576700688), ('samsung galaxy s5', 8.594959932435703)] \n",
      "\n",
      "Ann ->  [('acer liquid gallant duo', 9.589482577280934), ('samsung galaxy s6 edgeplus', 8.93120836884349), ('samsung galaxy mega 5 8', 8.918470500049407), ('samsung galaxy s6', 8.853795447319643), ('motorola moto e', 8.388156818700988)] \n",
      "\n",
      "Sandro ->  [('blackberry passport', 10), ('htc one max', 10), ('sony xperia z1 compact d5503', 9.642955933390567), ('zte axon 7', 9.171849699026316), ('huawei y360', 8.911707550153453)] \n",
      "\n",
      "Roberta ->  [('huawei honor 7', 9.892117826404212), ('samsung galaxy s7 789999', 9.585772496795158), ('lg g2 594708', 9.097211857883897), ('samsung galaxy a5', 8.982489846742705), ('huawei ascend y530', 8.911102642485965)] \n",
      "\n",
      "james ->  [('htc one m9', 9.552435366446359), ('apple iphone 4', 9.39671616432894), ('samsung galaxy note 2', 9.2424577069342), ('caterpillar b15', 8.970785061911384), ('blackberry 9720', 8.819193619291008)] \n",
      "\n",
      "???????????? ???????? ->  [('nokia asha 302', 8.929289222475695), ('nokia asha 302', 8.929289222475695), ('samsung gt i8160', 8.924668575740087), ('huawei ascend p1', 7.683756457796248), ('lg optimus vu', 7.51469797215941)] \n",
      "\n",
      "Jaime ->  [('xiaomi redmi note', 9.481184585634805), ('apple iphone 4s', 9.441558752368062), ('lg dare vx9700', 9.393011275139868), ('lg g2 mini', 8.821576181045208), ('microsoft lumia 640 dual sim', 8.782456268408277)] \n",
      "\n",
      "Ashish ->  [('sony ericsson k810i', 10), ('lenovo a369i', 10), ('oneplus 3t', 9.619006380918469), ('asus zenfone 3', 9.574383584886856), ('sony xperia z1', 9.116562144305242)] \n",
      "\n",
      "Gonzalo ->  [('huawei honor 6x', 9.477911011088308), ('microsoft lumia 640 dual sim', 9.448182118626812), ('lg g5', 9.050285561963241), ('nokia c2 01', 8.84165292469435), ('huawei ascend g620s', 8.681813033509194)] \n",
      "\n",
      "Vanessa ->  [('samsung sgh e840', 9.160986059481615), ('motorola moto e', 9.079756335752514), ('motorola moto g', 8.98909344462573), ('nokia 6303i', 8.575183502541513), ('htc sensation xe', 8.361287447099048)] \n",
      "\n",
      "Marcelo ->  [('samsung galaxy s5', 9.123222607132325), ('samsung galaxy y s5360', 9.071643697853824), ('samsung galaxy s3 mini', 9.04154919092337), ('apple iphone 6 plus', 8.682712538057482), ('lg a290', 8.493840158236747)] \n",
      "\n",
      "Roy ->  [('sony ericsson k530i', 9.608672055722606), ('samsung e2530', 9.486088345923184), ('sony xperia z1 compact d5503', 9.114961419152994), ('sony xperia xz', 9.068448476642235), ('apple iphone 5s', 9.048761941375323)] \n",
      "\n",
      "eduardo ->  [('nokia 500', 9.576996319061148), ('motorola a1000', 9.510091677745022), ('samsung galaxy a3 2016', 8.437060135261362), ('huawei ascend g620s', 8.325987387546686), ('nokia lumia 630', 7.961635687261994)] \n",
      "\n",
      "sumeyyehavvaay ->  [('samsung s3850', 9.843770261337799), ('samsung corbypro b5310', 9.675929409531443), ('blackberry 8820', 9.367121649203657), ('nokia 1800', 9.10658755573197), ('nokia n82', 9.01592599108061)] \n",
      "\n",
      "Tommaso ->  [('motorola moto g', 9.555213945431674), ('huawei ascend p7', 9.04636905210662), ('samsung c3590', 8.966465118270609), ('elephone p8000', 8.046812114376976), ('samsung galaxy s7 edge', 7.970913286227313)] \n",
      "\n",
      "Roger ->  [('huawei ascend y530', 9.517468693456173), ('samsung galaxy s iii neo i9300i', 9.197709634119034), ('samsung focus flash', 9.176287344945003), ('microsoft lumia 650', 9.122446216505233), ('microsoft lumia 650', 9.122446216505233)] \n",
      "\n",
      "Heather ->  [('sony xperia z3', 9.947657624010178), ('lg chocolate 3 vx8560', 9.699506429573324), ('microsoft lumia 640 dual sim', 9.370983694008993), ('samsung galaxy s6', 8.925507260287723), ('huawei p9 lite', 8.482319397048535)] \n",
      "\n",
      "bob ->  [('samsung galaxy s6 edge sm g925f', 8.521653199526185), ('huawei p9 lite', 8.428038772485948), ('samsung galaxy a3 2016', 8.240790657602428), ('nokia e65', 8.127724153253821), ('nokia lumia 635', 7.970266723986338)] \n",
      "\n",
      "Pepe ->  [('nokia lumia 925', 8.509292617974687), ('motorola moto e', 7.975902268976214), ('nokia 220', 7.618403908814809), ('sony xperia j', 7.5634242496976585), ('meizu m3s', 7.402711636104525)] \n",
      "\n",
      "vishal ->  [('nokia lumia 520', 8.201902804553983), ('oneplus 3', 7.60340763480495), ('micromax canvas nitro a310', 6.978123085970425), ('samsung i9500 galaxy s iv', 6.815485612608163), ('sony xperia m4', 6.77411952347576)] \n",
      "\n",
      "samir1917 ->  [('samsung galaxy sl i9003', 10), ('samsung wave 723 gt s7230e', 10), ('samsung galaxy y pro b5510', 9.218798978413334), ('nokia asha 300', 9.088170725698339), ('motorola fire', 8.57777777777778)] \n",
      "\n",
      "fred ->  [('samsung galaxy y s5360', 9.14705974730401), ('samsung galaxy a3 2016', 9.081591337783077), ('archos 50 helium', 8.787954773721198), ('samsung galaxy j5', 8.693418954756268), ('huawei p8 lite', 8.39160112575748)] \n",
      "\n",
      "CPU times: total: 219 ms\n",
      "Wall time: 198 ms\n"
     ]
    }
   ],
   "source": [
    "%%time\n",
    "#recommend top 5 products for test users\n",
    "top_5 = get_top_n(knn_i_pred,5)\n",
    "print('Top 5 recommendations for all test users are: \\n')\n",
    "for key,value in top_5.items(): print(key,'-> ',value,'\\n') # to print all the recommendations for all the users\n",
    "#print('Top 5 recommendations for 3 users are: \\n')\n",
    "#for key,value in {k: v for k, v in top_5.items() if k in ['Amazon Customer','Cliente Amazon',\"Client d'Amazon\"]}.items(): print(key,'-> ',value,'\\n')"
   ]
  },
  {
   "cell_type": "markdown",
   "id": "crucial-delhi",
   "metadata": {
    "papermill": {
     "duration": 0.119787,
     "end_time": "2021-05-17T07:46:55.179109",
     "exception": false,
     "start_time": "2021-05-17T07:46:55.059322",
     "status": "completed"
    },
    "tags": []
   },
   "source": [
    "## 9. Results with cross_validation techniques <a id=\"cross_validation\"></a>\n",
    "[Go to top](#toc)"
   ]
  },
  {
   "cell_type": "code",
   "execution_count": 118,
   "id": "introductory-ghost",
   "metadata": {
    "execution": {
     "iopub.execute_input": "2021-05-17T07:46:55.456450Z",
     "iopub.status.busy": "2021-05-17T07:46:55.451439Z",
     "iopub.status.idle": "2021-05-17T07:47:37.453946Z",
     "shell.execute_reply": "2021-05-17T07:47:37.453368Z"
    },
    "papermill": {
     "duration": 42.158823,
     "end_time": "2021-05-17T07:47:37.454096",
     "exception": false,
     "start_time": "2021-05-17T07:46:55.295273",
     "status": "completed"
    },
    "tags": []
   },
   "outputs": [
    {
     "name": "stdout",
     "output_type": "stream",
     "text": [
      "\n",
      " Mean svd cv score: 2.95 \n",
      "\n",
      "CPU times: total: 16.8 s\n",
      "Wall time: 16.9 s\n"
     ]
    },
    {
     "data": {
      "text/plain": [
       "{'test_rmse': array([2.95021899, 2.97115911, 2.93897881, 2.94613221, 2.95849639]),\n",
       " 'fit_time': (3.122933864593506,\n",
       "  3.1320011615753174,\n",
       "  3.1620113849639893,\n",
       "  3.09799861907959,\n",
       "  3.1049997806549072),\n",
       " 'test_time': (0.0820000171661377,\n",
       "  0.3149991035461426,\n",
       "  0.07999777793884277,\n",
       "  0.09300875663757324,\n",
       "  0.0979926586151123)}"
      ]
     },
     "execution_count": 118,
     "metadata": {},
     "output_type": "execute_result"
    }
   ],
   "source": [
    "%%time\n",
    "svd_cv = cross_validate(svd,revs50_, measures=['RMSE'], cv=5, verbose=False)\n",
    "print('\\n Mean svd cv score:', round(svd_cv['test_rmse'].mean(),2),'\\n')\n",
    "svd_cv"
   ]
  },
  {
   "cell_type": "code",
   "execution_count": 119,
   "id": "binding-mortgage",
   "metadata": {
    "execution": {
     "iopub.execute_input": "2021-05-17T07:47:37.711588Z",
     "iopub.status.busy": "2021-05-17T07:47:37.706521Z",
     "iopub.status.idle": "2021-05-17T07:49:07.159030Z",
     "shell.execute_reply": "2021-05-17T07:49:07.158337Z"
    },
    "papermill": {
     "duration": 89.586525,
     "end_time": "2021-05-17T07:49:07.159226",
     "exception": false,
     "start_time": "2021-05-17T07:47:37.572701",
     "status": "completed"
    },
    "tags": []
   },
   "outputs": [
    {
     "name": "stdout",
     "output_type": "stream",
     "text": [
      "Estimating biases using als...\n",
      "Computing the pearson_baseline similarity matrix...\n",
      "Done computing similarity matrix.\n",
      "Estimating biases using als...\n",
      "Computing the pearson_baseline similarity matrix...\n",
      "Done computing similarity matrix.\n",
      "Estimating biases using als...\n",
      "Computing the pearson_baseline similarity matrix...\n",
      "Done computing similarity matrix.\n",
      "Estimating biases using als...\n",
      "Computing the pearson_baseline similarity matrix...\n",
      "Done computing similarity matrix.\n",
      "Estimating biases using als...\n",
      "Computing the pearson_baseline similarity matrix...\n",
      "Done computing similarity matrix.\n",
      "\n",
      " Mean knn_i_cv score: 2.85 \n",
      "\n",
      "CPU times: total: 35.7 s\n",
      "Wall time: 35.8 s\n"
     ]
    },
    {
     "data": {
      "text/plain": [
       "{'test_rmse': array([2.86091733, 2.85582123, 2.82972502, 2.87946848, 2.84445947]),\n",
       " 'fit_time': (3.470057725906372,\n",
       "  3.432996988296509,\n",
       "  3.471011161804199,\n",
       "  3.4299912452697754,\n",
       "  3.4429972171783447),\n",
       " 'test_time': (3.6359450817108154,\n",
       "  3.8120083808898926,\n",
       "  3.636906862258911,\n",
       "  3.433009147644043,\n",
       "  3.427009344100952)}"
      ]
     },
     "execution_count": 119,
     "metadata": {},
     "output_type": "execute_result"
    }
   ],
   "source": [
    "%%time\n",
    "knn_i_cv = cross_validate(knn_i,revs50_, measures=['RMSE'], cv=5, verbose=False)\n",
    "print('\\n Mean knn_i_cv score:', round(knn_i_cv['test_rmse'].mean(),2),'\\n')\n",
    "knn_i_cv"
   ]
  },
  {
   "cell_type": "code",
   "execution_count": 120,
   "id": "comparable-actress",
   "metadata": {
    "execution": {
     "iopub.execute_input": "2021-05-17T07:49:07.417132Z",
     "iopub.status.busy": "2021-05-17T07:49:07.416411Z",
     "iopub.status.idle": "2021-05-17T07:49:44.496787Z",
     "shell.execute_reply": "2021-05-17T07:49:44.496259Z"
    },
    "papermill": {
     "duration": 37.209542,
     "end_time": "2021-05-17T07:49:44.496968",
     "exception": false,
     "start_time": "2021-05-17T07:49:07.287426",
     "status": "completed"
    },
    "tags": []
   },
   "outputs": [
    {
     "name": "stdout",
     "output_type": "stream",
     "text": [
      "Estimating biases using als...\n",
      "Computing the pearson_baseline similarity matrix...\n",
      "Done computing similarity matrix.\n",
      "Estimating biases using als...\n",
      "Computing the pearson_baseline similarity matrix...\n",
      "Done computing similarity matrix.\n",
      "Estimating biases using als...\n",
      "Computing the pearson_baseline similarity matrix...\n",
      "Done computing similarity matrix.\n",
      "Estimating biases using als...\n",
      "Computing the pearson_baseline similarity matrix...\n",
      "Done computing similarity matrix.\n",
      "Estimating biases using als...\n",
      "Computing the pearson_baseline similarity matrix...\n",
      "Done computing similarity matrix.\n",
      "\n",
      " Mean knn_u_cv score: 2.88 \n",
      "\n",
      "CPU times: total: 14.8 s\n",
      "Wall time: 14.7 s\n"
     ]
    },
    {
     "data": {
      "text/plain": [
       "{'test_rmse': array([2.85883954, 2.88611776, 2.88337113, 2.90502051, 2.8898421 ]),\n",
       " 'fit_time': (1.023998498916626,\n",
       "  1.1129977703094482,\n",
       "  1.1250007152557373,\n",
       "  1.1339993476867676,\n",
       "  1.396998643875122),\n",
       " 'test_time': (1.722001552581787,\n",
       "  1.6220769882202148,\n",
       "  1.6160058975219727,\n",
       "  1.6140029430389404,\n",
       "  1.8140013217926025)}"
      ]
     },
     "execution_count": 120,
     "metadata": {},
     "output_type": "execute_result"
    }
   ],
   "source": [
    "%%time\n",
    "knn_u_cv = cross_validate(knn_u,revs50_, measures=['RMSE'], cv=5, verbose=False)\n",
    "print('\\n Mean knn_u_cv score:', round(knn_u_cv['test_rmse'].mean(),2),'\\n')\n",
    "knn_u_cv"
   ]
  },
  {
   "cell_type": "code",
   "execution_count": 121,
   "id": "earlier-article",
   "metadata": {
    "execution": {
     "iopub.execute_input": "2021-05-17T07:49:44.793772Z",
     "iopub.status.busy": "2021-05-17T07:49:44.790568Z",
     "iopub.status.idle": "2021-05-17T07:49:44.924472Z",
     "shell.execute_reply": "2021-05-17T07:49:44.923724Z"
    },
    "papermill": {
     "duration": 0.286652,
     "end_time": "2021-05-17T07:49:44.924626",
     "exception": false,
     "start_time": "2021-05-17T07:49:44.637974",
     "status": "completed"
    },
    "tags": []
   },
   "outputs": [
    {
     "data": {
      "text/plain": [
       "<AxesSubplot:>"
      ]
     },
     "execution_count": 121,
     "metadata": {},
     "output_type": "execute_result"
    },
    {
     "data": {
      "image/png": "[encoded data removed]",
      "text/plain": [
       "<Figure size 432x288 with 1 Axes>"
      ]
     },
     "metadata": {
      "needs_background": "light"
     },
     "output_type": "display_data"
    }
   ],
   "source": [
    "# Comparison of RMSE scores(mean cv) from different collaorative algorithms\n",
    "sns.barplot(y=['svd_cv_rmse','knn_i_cv_rmse', 'knn_u_cv_rmse'],\n",
    "            x=[svd_cv['test_rmse'].mean(),knn_i_cv['test_rmse'].mean(), knn_u_cv['test_rmse'].mean()])"
   ]
  },
  {
   "cell_type": "markdown",
   "id": "adopted-decimal",
   "metadata": {
    "papermill": {
     "duration": 0.144415,
     "end_time": "2021-05-17T07:49:45.212985",
     "exception": false,
     "start_time": "2021-05-17T07:49:45.068570",
     "status": "completed"
    },
    "tags": []
   },
   "source": [
    "Thus, for cv scores too, knn_i is giving a better performance"
   ]
  },
  {
   "cell_type": "markdown",
   "id": "lesser-manhattan",
   "metadata": {
    "papermill": {
     "duration": 0.133275,
     "end_time": "2021-05-17T07:49:45.486231",
     "exception": false,
     "start_time": "2021-05-17T07:49:45.352956",
     "status": "completed"
    },
    "tags": []
   },
   "source": [
    "**10: In what business scenario you should use popularity based Recommendation Systems ?** <a id=\"q10\"></a>\n",
    "[Go to top](#toc)\n",
    "\n",
    "> Popularity based recommendation systems can be useful in multiple scenarios like:  \n",
    "> 1. When there is no data about the user and items.\n",
    "> 2. When it is required to show most popular items in different categories along with personalized results like: \n",
    ">     * Most popular punjabi songs or most popular english songs on a music website/app\n",
    ">     * Most popular trend in cwestern wear or traditional wear\n",
    ">     * Most popular holiday packages for honeymoon trips, or bike trips or himalayan trips etc"
   ]
  },
  {
   "cell_type": "markdown",
   "id": "outdoor-error",
   "metadata": {
    "papermill": {
     "duration": 0.133067,
     "end_time": "2021-05-17T07:49:45.756419",
     "exception": false,
     "start_time": "2021-05-17T07:49:45.623352",
     "status": "completed"
    },
    "tags": []
   },
   "source": [
    "**11: In what business scenario you should use CF based Recommendation Systems ?**  <a id=\"q11\"></a>\n",
    "[Go to top](#toc)\n",
    "> Collaborative filtering is useful in scenarios like: \n",
    "> 1. Giving personalised recommendation to the user, when user history or item data is available. Some examples can be:\n",
    ">     * Personalized movie recommendation of movie sites like Netflix, Amazon Prime, Youtube etc"
   ]
  },
  {
   "cell_type": "markdown",
   "id": "every-wealth",
   "metadata": {
    "papermill": {
     "duration": 0.132788,
     "end_time": "2021-05-17T07:49:46.018542",
     "exception": false,
     "start_time": "2021-05-17T07:49:45.885754",
     "status": "completed"
    },
    "tags": []
   },
   "source": [
    "**12: What other possible methods can you think of which can further improve the recommendation for different users ?**  <a id=\"q12\"></a>\n",
    "[Go to top](#toc)\n",
    "> Other from Popularity and Collaborative Filtering, hybrid recommendation methods like Content+Collaborative method, Demographic, Utility based, and Knowledge based recommendation system can also be used."
   ]
  }
 ],
 "metadata": {
  "interpreter": {
   "hash": "369f2c481f4da34e4445cda3fffd2e751bd1c4d706f27375911949ba6bb62e1c"
  },
  "kernelspec": {
   "display_name": "Python 3.10.2 64-bit",
   "language": "python",
   "name": "python3"
  },
  "language_info": {
   "codemirror_mode": {
    "name": "ipython",
    "version": 3
   },
   "file_extension": ".py",
   "mimetype": "text/x-python",
   "name": "python",
   "nbconvert_exporter": "python",
   "pygments_lexer": "ipython3",
   "version": "3.10.2"
  },
  "papermill": {
   "default_parameters": {},
   "duration": 306.194295,
   "end_time": "2021-05-17T07:49:48.236307",
   "environment_variables": {},
   "exception": null,
   "input_path": "__notebook__.ipynb",
   "output_path": "__notebook__.ipynb",
   "parameters": {},
   "start_time": "2021-05-17T07:44:42.042012",
   "version": "2.3.3"
  }
 },
 "nbformat": 4,
 "nbformat_minor": 5
}
